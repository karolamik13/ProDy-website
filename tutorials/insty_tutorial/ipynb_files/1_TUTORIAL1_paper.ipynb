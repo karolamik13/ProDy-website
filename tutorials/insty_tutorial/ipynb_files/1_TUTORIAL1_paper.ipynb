{
 "cells": [
  {
   "cell_type": "markdown",
   "id": "b6e31d61",
   "metadata": {},
   "source": [
    "# Interactions/Stability Evaluation (InSty)"
   ]
  },
  {
   "cell_type": "markdown",
   "id": "cb26cf8e",
   "metadata": {},
   "source": [
    "This example shows how to perform Interactions/Stability Evaluation\n",
    "(**InSty**) analysis for a small protein (<200 residues) called tyrosine\n",
    "phosphatase LMW-PTP (**5KQM**) and visualize the results using Matplotlib_\n",
    "library and VMD_ program. \n",
    "In the tutorial, we will use already preapared structure for\n",
    "simulation (with hydrogens added). The same structure will be later\n",
    "analyzed with the trajectory file to show how the analysis of interactions \n",
    "in the course of simulation can change. \n",
    "\n",
    "The tutorial will also include an example of a PDB structure directly\n",
    "downloaded from Protein Data Bank (PDB) which requires adding the missing hydrogen\n",
    "atoms to the protein and ligand structure. The analysis will be performed for\n",
    "protein-ligand interactions.\n"
   ]
  },
  {
   "cell_type": "markdown",
   "id": "4c2381c7",
   "metadata": {},
   "source": [
    "# Analysis of interactions for a single PDB structure"
   ]
  },
  {
   "cell_type": "markdown",
   "id": "bc3a0bd8",
   "metadata": {},
   "source": [
    "We start by parsing PDB file with LMW-PTP **5kqm_all_sci.pdb** which is avalable\n",
    "as the tutorial files. PDB file contains protein structures with water and \n",
    "counter ions prepared using VMD_ program.\n",
    "\n",
    "Before that import everything from the ProDy packages."
   ]
  },
  {
   "cell_type": "code",
   "execution_count": 1,
   "id": "3f45bb7c",
   "metadata": {},
   "outputs": [],
   "source": [
    "import matplotlib\n",
    "from prody import *\n",
    "import numpy as np"
   ]
  },
  {
   "cell_type": "code",
   "execution_count": 2,
   "id": "cf2c261a",
   "metadata": {},
   "outputs": [
    {
     "name": "stderr",
     "output_type": "stream",
     "text": [
      "@> 19321 atoms and 1 coordinate set(s) were parsed in 0.18s.\n"
     ]
    },
    {
     "data": {
      "text/plain": [
       "<AtomGroup: 5kqm_all_sci (19321 atoms)>"
      ]
     },
     "execution_count": 2,
     "metadata": {},
     "output_type": "execute_result"
    }
   ],
   "source": [
    "PDBfile = '5kqm_all_sci.pdb'\n",
    "coords = parsePDB(PDBfile)\n",
    "coords"
   ]
  },
  {
   "cell_type": "markdown",
   "id": "92acb829",
   "metadata": {},
   "source": [
    "For the analysis we will use only protein coordinates (*atoms*):"
   ]
  },
  {
   "cell_type": "code",
   "execution_count": 3,
   "id": "f678608d",
   "metadata": {},
   "outputs": [
    {
     "name": "stderr",
     "output_type": "stream",
     "text": [
      "@> 19321 atoms and 1 coordinate set(s) were parsed in 0.18s.\n"
     ]
    },
    {
     "data": {
      "text/plain": [
       "<Selection: 'protein' from 5kqm_all_sci (2425 atoms)>"
      ]
     },
     "execution_count": 3,
     "metadata": {},
     "output_type": "execute_result"
    }
   ],
   "source": [
    "atoms = parsePDB(PDBfile).select('protein')\n",
    "atoms"
   ]
  },
  {
   "cell_type": "markdown",
   "id": "2d1dfa6d",
   "metadata": {},
   "source": [
    "# Compute all types of interactions"
   ]
  },
  {
   "cell_type": "markdown",
   "id": "c13ef57f",
   "metadata": {},
   "source": [
    "In the next step, we instantiate an :class:`.Interactions` instance:"
   ]
  },
  {
   "cell_type": "code",
   "execution_count": 4,
   "id": "090ce4b4",
   "metadata": {},
   "outputs": [],
   "source": [
    "interactions = Interactions()"
   ]
  },
  {
   "cell_type": "markdown",
   "id": "05ccd3e4",
   "metadata": {},
   "source": [
    "Now we can compute all available types of interactions (seven types: hydrogen\n",
    "bonds, salt bridges, repulsive ionic bonding, Pi-cation, Pi-stacking,\n",
    "hydrphobic interactions, and disulfide bonds) for protein structure by passing\n",
    "selected atoms (*atoms*) to :meth:`.Interactions.calcProteinInteractions` method:"
   ]
  },
  {
   "cell_type": "code",
   "execution_count": 5,
   "id": "cd872ef6",
   "metadata": {
    "scrolled": true
   },
   "outputs": [
    {
     "name": "stderr",
     "output_type": "stream",
     "text": [
      "@> Calculating interations.\n",
      "@> Calculating hydrogen bonds.\n",
      "@>      DONOR (res chid atom)   <--->       ACCEPTOR (res chid atom)    Distance  Angle\n",
      "@>     ARG101    P      NH1_1516  <--->      ASP98    P      OD1_1463     2.0    33.1\n",
      "@>      HSE72    P      NE2_1042  <--->      ASN15    P       OD1_165     2.6    34.8\n",
      "@>     GLN143    P      NE2_2192  <--->     GLU139    P      OE2_2126     2.7     9.2\n",
      "@>      HSE66    P       NE2_957  <--->     GLU139    P      OE1_2125     2.7     6.4\n",
      "@>      ARG40    P         N_561  <--->       LYS6    P          O_37     2.7    17.1\n",
      "@>      ARG58    P         N_813  <--->      ASP56    P       OD1_788     2.7    30.0\n",
      "@>      ALA45    P         N_634  <--->      ARG75    P        O_1097     2.8    35.1\n",
      "@>      ASN53    P       ND2_747  <--->      GLU50    P       OE1_708     2.8    18.2\n",
      "@>      ALA74    P        N_1064  <--->      ASN53    P         O_751     2.8    21.3\n",
      "@>      ASP56    P         N_780  <--->      ILE16    P         O_189     2.8    27.0\n",
      "@>     LYS110    P       NZ_1667  <--->      THR84    P        O_1240     2.8    38.2\n",
      "@>     LEU116    P        N_1758  <--->      CYS90    P        O_1342     2.8    15.0\n",
      "@>     SER103    P        N_1546  <--->      LEU99    P        O_1485     2.8    29.1\n",
      "@>     ASN134    P        N_2045  <--->     ASP137    P      OD2_2091     2.8    22.6\n",
      "@>     PHE152    P        N_2321  <--->     CYS148    P        O_2275     2.8     8.3\n",
      "@>      ASN95    P        N_1398  <--->      ASP92    P      OD1_1368     2.8    12.6\n",
      "@>       LYS6    P          N_16  <--->      ASN38    P         O_536     2.8    25.0\n",
      "@>      ILE77    P        N_1115  <--->      ALA45    P         O_643     2.8    12.2\n",
      "@>      ARG58    P       NH2_832  <--->      ASP56    P       OD2_789     2.8    27.7\n",
      "@>      LEU99    P        N_1467  <--->      ASN95    P        O_1411     2.8    15.5\n",
      "@>     CYS149    P        N_2276  <--->     CYS145    P        O_2224     2.8     9.6\n",
      "@>      GLY52    P         N_731  <--->      ALA74    P        O_1073     2.8     6.6\n",
      "@>      ASP32    P         N_435  <--->      LYS28    P         O_385     2.8     8.8\n",
      "@>      ILE88    P        N_1294  <--->     LYS112    P        O_1704     2.8    17.7\n",
      "@>     GLN143    P        N_2180  <--->     GLU139    P        O_2128     2.8    21.7\n",
      "@>      ARG27    P         N_340  <--->      GLU23    P         O_293     2.8    15.4\n",
      "@>     TYR142    P        N_2159  <--->     PHE138    P        O_2113     2.9    14.2\n",
      "@>     GLY133    P        N_2038  <--->     PRO130    P        O_1995     2.9    25.4\n",
      "@>      PHE26    P         N_320  <--->      ALA22    P         O_278     2.9     4.9\n",
      "@>      ASN15    P       ND2_166  <--->      SER19    P        OG_232     2.9    32.1\n",
      "@>      ARG75    P      NH1_1090  <--->      ASP81    P      OD2_1194     2.9    19.7\n",
      "@>      ARG75    P      NH2_1093  <--->      ASP42    P       OD2_610     2.9    23.5\n",
      "@>      ARG97    P        N_1431  <--->      GLU93    P        O_1386     2.9    22.2\n",
      "@>      ARG65    P       NH2_941  <--->     GLU139    P      OE1_2125     2.9    32.3\n",
      "@>      VAL25    P         N_304  <--->      ILE21    P         O_268     2.9     8.2\n",
      "@>     LEU153    P        N_2341  <--->     CYS149    P        O_2286     2.9    12.5\n",
      "@>       SER7    P          N_38  <--->      ASP86    P      OD2_1270     2.9    39.9\n",
      "@>      ASP86    P        N_1261  <--->       SER7    P         OG_45     2.9    34.7\n",
      "@>      ARG58    P       NH2_832  <--->     TYR131    P        O_2016     2.9    33.1\n",
      "@>      THR46    P         N_644  <--->      CYS12    P         O_130     2.9    36.1\n",
      "@>     GLN144    P        N_2197  <--->     THR140    P        O_2142     2.9    23.3\n",
      "@>      THR78    P        N_1134  <--->      ASP81    P      OD2_1194     2.9    12.4\n",
      "@>      LEU89    P        N_1313  <--->       LEU9    P          O_83     2.9    29.5\n",
      "@>      THR31    P         N_421  <--->      ARG27    P         O_363     2.9    24.1\n",
      "@>      CYS90    P        N_1332  <--->     GLU114    P        O_1738     2.9    24.6\n",
      "@>     CYS148    P        N_2265  <--->     GLN144    P        O_2213     2.9     9.3\n",
      "@>      GLU23    P         N_279  <--->      SER19    P         O_235     2.9    15.4\n",
      "@>      ILE68    P         N_970  <--->      MET63    P         O_899     2.9    13.0\n",
      "@>      PHE10    P          N_84  <--->      ASP42    P         O_612     2.9    22.8\n",
      "@>     LYS112    P        N_1683  <--->      ASP86    P        O_1272     2.9    10.1\n",
      "@>      SER61    P         N_861  <--->      TYR57    P         O_812     2.9    35.1\n",
      "@>     CYS145    P        N_2214  <--->     VAL141    P        O_2158     2.9    15.9\n",
      "@>      ARG27    P       NH2_359  <--->      GLU23    P       OE2_291     2.9    31.5\n",
      "@>      LYS64    P         N_900  <--->      GLN60    P         O_860     2.9    22.9\n",
      "@>       LEU9    P          N_65  <--->      TYR87    P        O_1293     2.9    16.4\n",
      "@>      ASN38    P         N_523  <--->      ILE35    P         O_496     2.9    29.1\n",
      "@>      VAL11    P         N_104  <--->      LEU89    P        O_1331     2.9    29.7\n",
      "@>     ASN100    P        N_1486  <--->      LEU96    P        O_1430     2.9    10.3\n",
      "@>     GLN124    P        N_1881  <--->     ASP120    P      OD2_1825     2.9    27.5\n",
      "@>     LYS102    P        N_1524  <--->      ASP98    P        O_1466     2.9     9.3\n",
      "@>      GLN76    P      NE2_1110  <--->      THR46    P         O_657     2.9    31.4\n",
      "@>      ARG40    P       NH1_577  <--->      THR84    P      OG1_1233     2.9     8.4\n",
      "@>      ALA44    P         N_624  <--->      PHE10    P         O_103     2.9    33.2\n",
      "@>     GLU154    P        N_2360  <--->     ARG150    P        O_2310     3.0    22.6\n",
      "@>       VAL8    P          N_49  <--->      ARG40    P         O_584     3.0    25.0\n",
      "@>      MET63    P         N_883  <--->      GLY59    P         O_843     3.0    18.3\n",
      "@>      GLN60    P         N_844  <--->      ASP56    P         O_791     3.0    35.5\n",
      "@>      ILE35    P         N_478  <--->      VAL30    P         O_420     3.0    23.5\n",
      "@>     VAL146    P        N_2225  <--->     TYR142    P        O_2179     3.0    31.5\n",
      "@>      ARG58    P       NH1_829  <--->     TYR131    P        O_2016     3.0    38.1\n",
      "@>      ASN53    P         N_738  <--->      GLU50    P         O_711     3.0    28.6\n",
      "@>     ARG101    P        N_1500  <--->      ARG97    P        O_1454     3.0    32.3\n",
      "@>      ARG18    P       NH1_217  <--->     ILE127    P        O_1954     3.0    26.0\n",
      "@>      ARG75    P        N_1074  <--->      ASN15    P       OD1_165     3.0    25.1\n",
      "@>     GLN144    P      NE2_2209  <--->     ILE126    P        O_1935     3.0    18.3\n",
      "@>      ASN34    P         N_464  <--->      THR31    P         O_434     3.0    18.2\n",
      "@>      ASN15    P       ND2_166  <--->      SER43    P        OG_620     3.0    25.7\n",
      "@>      ARG58    P        NE_826  <--->      ASP56    P       OD1_788     3.0    22.2\n",
      "@>      ARG27    P       NH1_356  <--->      GLU23    P       OE2_291     3.0    36.9\n",
      "@>     ILE127    P        N_1936  <--->      MET91    P        O_1359     3.0    17.6\n",
      "@>     TYR119    P       OH_1808  <--->     HSE157    P        N_2407     3.0    28.1\n",
      "@>     HSE157    P        N_2407  <--->     TYR119    P       OH_1808     3.0    19.2\n",
      "@>     GLU139    P        N_2114  <--->     ASP135    P        O_2070     3.0    27.9\n",
      "@>      LEU29    P         N_386  <--->      VAL25    P         O_319     3.0    19.1\n",
      "@>      SER47    P         N_658  <--->      LEU13    P         O_149     3.0    28.8\n",
      "@>      VAL30    P         N_405  <--->      PHE26    P         O_339     3.0    17.7\n",
      "@>     GLN105    P        N_1571  <--->     LYS102    P        O_1545     3.0    19.7\n",
      "@>     SER118    P        N_1784  <--->     LEU115    P        O_1757     3.1    21.4\n",
      "@>     LYS155    P        N_2375  <--->     ALA151    P        O_2320     3.1    21.3\n",
      "@>     GLU114    P        N_1724  <--->      ILE88    P        O_1312     3.1    24.2\n",
      "@>     ASP120    P        N_1816  <--->     GLY117    P        O_1783     3.1    12.7\n",
      "@>      CYS62    P         N_872  <--->      ARG58    P         O_836     3.1    20.4\n",
      "@>      ARG18    P       NH1_217  <--->      ASP92    P      OD2_1369     3.1     4.3\n",
      "@>      ALA24    P         N_294  <--->      PRO20    P         O_249     3.1    29.9\n"
     ]
    },
    {
     "name": "stderr",
     "output_type": "stream",
     "text": [
      "@>     ARG150    P        N_2287  <--->     VAL146    P        O_2240     3.1    12.7\n",
      "@>      LYS28    P         N_364  <--->      ALA24    P         O_303     3.1    20.0\n",
      "@>     VAL141    P        N_2143  <--->     ASP137    P        O_2093     3.1    18.5\n",
      "@>      ASP98    P        N_1455  <--->      SER94    P        O_1397     3.1    19.6\n",
      "@>      LEU96    P        N_1412  <--->      ASP92    P        O_1371     3.1    36.3\n",
      "@>      ALA22    P         N_269  <--->      ARG18    P         O_224     3.1    21.9\n",
      "@>     ALA151    P        N_2311  <--->     ARG147    P        O_2264     3.1    15.6\n",
      "@>      GLY67    P         N_963  <--->      LYS64    P         O_921     3.1    22.8\n",
      "@>      ASP42    P         N_601  <--->       VAL8    P          O_64     3.1    35.6\n",
      "@>      ARG65    P         N_922  <--->      SER61    P         O_871     3.1    23.4\n",
      "@>      TRP39    P         N_537  <--->      SER36    P         O_507     3.1    15.2\n",
      "@>     LYS123    P        N_1859  <--->     ASP120    P        O_1827     3.1    18.7\n",
      "@>      MET91    P        N_1343  <--->      ASN95    P      OD1_1406     3.2    39.0\n",
      "@>     THR140    P        N_2129  <--->     SER136    P        O_2081     3.2    30.3\n",
      "@>      PHE85    P        N_1241  <--->      ASP81    P        O_1196     3.2    20.2\n",
      "@>      ASN15    P         N_157  <--->      CYS12    P        SG_127     3.2    37.5\n",
      "@>     ALA111    P        N_1673  <--->      PHE82    P        O_1216     3.2    20.6\n",
      "@>     ARG147    P        N_2241  <--->     GLN143    P        O_2196     3.2    12.1\n",
      "@>      ARG75    P      NH2_1093  <--->      ASP81    P      OD1_1193     3.2    29.3\n",
      "@>     LYS112    P       NZ_1699  <--->     HSE157    P      OT2_2424     3.3    28.7\n",
      "@>     ARG147    P      NH1_2257  <--->     GLN124    P      OE1_1892     3.3    29.9\n",
      "@>     PHE138    P        N_2094  <--->     ASN134    P        O_2058     3.3    31.0\n",
      "@>       SER7    P         OG_45  <--->      THR84    P        O_1240     3.3    35.5\n",
      "@>      CYS12    P         N_120  <--->      ALA44    P         O_633     3.3    36.1\n",
      "@>      SER19    P         N_225  <--->      CYS12    P        SG_127     3.3     8.0\n",
      "@>      PHE82    P        N_1197  <--->      LYS79    P        O_1169     3.4    37.7\n",
      "@>      ASP81    P        N_1185  <--->      THR78    P      OG1_1140     3.5    39.5\n",
      "@>     LYS102    P       NZ_1540  <--->      ASP98    P      OD2_1464     3.5    26.1\n",
      "@>     ARG147    P      NH2_2260  <--->     GLN124    P      OE1_1892     3.5    33.9\n",
      "@>     VAL106    P        N_1588  <--->     SER103    P        O_1556     3.5    34.2\n",
      "@> Number of detected hydrogen bonds: 124.\n",
      "@> Calculating salt bridges.\n",
      "@>      HSE66    P         NE2_957  <--->     GLU139    P   OE1_2125_2126     2.8\n",
      "@>      ASP81    P   OD1_1193_1194  <--->      ARG75    P   NH1_1090_1093     2.9\n",
      "@>      ASP32    P     OD1_443_444  <--->      LYS28    P          NZ_380     3.0\n",
      "@>      ASP98    P   OD1_1463_1464  <--->     ARG101    P   NH1_1516_1519     3.1\n",
      "@>      ARG27    P     NH1_356_359  <--->      GLU23    P     OE1_290_291     3.7\n",
      "@>      ARG65    P     NH1_938_941  <--->     GLU139    P   OE1_2125_2126     3.8\n",
      "@>      ASP98    P   OD1_1463_1464  <--->     LYS102    P         NZ_1540     3.9\n",
      "@>      ARG58    P     NH1_829_832  <--->      ASP56    P     OD1_788_789     3.9\n",
      "@>      ASP92    P   OD1_1368_1369  <--->      ARG18    P     NH1_217_220     4.1\n",
      "@>     GLU114    P   OE1_1735_1736  <--->     LYS112    P         NZ_1699     4.1\n",
      "@>     ARG147    P   NH1_2257_2260  <--->     ASP120    P   OD1_1824_1825     4.2\n",
      "@>     LYS110    P         NZ_1667  <--->      ASP86    P   OD1_1269_1270     4.2\n",
      "@>     GLU114    P   OE1_1735_1736  <--->     HSE157    P        NE2_2418     4.4\n",
      "@>     ASP129    P   OD1_1978_1979  <--->      ARG18    P     NH1_217_220     4.6\n",
      "@>      ARG75    P   NH1_1090_1093  <--->      ASP42    P     OD1_609_610     4.6\n",
      "@>      HSE72    P        NE2_1042  <--->      GLU23    P     OE1_290_291     5.0\n",
      "@> Number of detected salt bridges: 16.\n",
      "@> Calculating repulsive ionic bonding.\n",
      "@>     ARG101    P   NH1_1516_1519  <--->     LYS102    P         NZ_1540     4.3\n",
      "@> Number of detected Repulsive Ionic Bonding interactions: 1.\n",
      "@> Calculating Pi stacking interactions.\n",
      "@>     TYR142       P   2166_2167_2169_2171_2174_2176  <--->      HSE66       P             953_954_955_957_959     3.9   162.1\n",
      "@>     TYR119       P   1802_1803_1805_1807_1810_1812  <--->     HSE157       P2414_2415_2416_2418_2420_2423_2424     4.4     3.0\n",
      "@>      TRP39       P         549_550_551_553_555_557  <--->      PHE26       P         327_328_330_332_334_336     4.8    75.5\n",
      "@>     TYR132       P   2024_2025_2027_2029_2032_2034  <--->     TYR131       P   2003_2004_2006_2008_2011_2013     4.9    91.4\n",
      "@> Number of detected Pi stacking interactions: 4.\n",
      "@> Calculating cation-Pi interactions.\n",
      "@>      PHE85   P   1248_1249_1251_1253_1255_1257  <--->      ARG40   P                     NH1_577_580     3.7\n",
      "@>      HSE66   P             953_954_955_957_959  <--->      ARG65   P                     NH1_938_941     4.5\n",
      "@>     HSE157   P2414_2415_2416_2418_2420_2423_2424  <--->     LYS112   P                         NZ_1699     4.8\n",
      "@> Number of detected cation-pi interactions: 3.\n",
      "@> Calculating hydrophobic interactions.\n",
      "@>      TYR87    P       OH_1286  <--->     ALA156    P       CB_2401     3.0\n",
      "@>      MET63    P        CE_894  <--->      ALA24    P        CB_298     3.3\n",
      "@>      ILE68    P       CG2_976  <--->      MET63    P        CE_894     3.3\n",
      "@>     TYR142    P       CZ_2171  <--->     VAL146    P      CG2_2235     3.5\n",
      "@>      ALA22    P        CB_273  <--->      PHE10    P        CD1_92     3.5\n",
      "@>      TRP39    P       CZ2_555  <--->       LYS6    P         CD_26     3.5\n",
      "@>      PHE26    P       CE2_336  <--->      VAL30    P       CG1_411     3.6\n",
      "@>     ALA111    P       CB_1677  <--->      ILE88    P       CD_1307     3.6\n",
      "@>      VAL11    P       CG2_114  <--->      ILE88    P      CG2_1300     3.6\n",
      "@>      VAL41    P       CG2_595  <--->      PHE26    P       CD2_334     3.6\n",
      "@>     PHE152    P      CE1_2331  <--->     ALA156    P       CB_2401     3.7\n",
      "@>     VAL106    P      CG2_1598  <--->      LYS79    P       CG_1155     3.7\n",
      "@>      ILE77    P       CD_1128  <--->      LEU99    P      CD2_1480     3.7\n",
      "@>      PHE82    P      CD1_1205  <--->      ILE88    P       CD_1307     3.7\n",
      "@>     LEU116    P      CD2_1771  <--->     ILE127    P       CD_1949     3.7\n",
      "@>       VAL8    P        CG1_55  <--->      PHE26    P       CE2_336     3.7\n",
      "@>     LEU115    P      CD1_1748  <--->     LEU125    P      CD1_1907     3.7\n",
      "@>      MET70    P       CE_1014  <--->      MET63    P        CG_890     3.7\n",
      "@>     ILE113    P      CG2_1711  <--->      LEU96    P      CD1_1421     3.7\n",
      "@>       LEU9    P        CD2_78  <--->      ILE77    P       CD_1128     3.7\n",
      "@>      LEU89    P      CD1_1322  <--->       VAL8    P        CG2_59     3.8\n",
      "@>     ILE126    P       CD_1930  <--->     LEU125    P      CD1_1907     3.8\n",
      "@>     VAL141    P      CG1_2149  <--->     ILE127    P      CG2_1942     3.9\n",
      "@>      MET91    P       SD_1353  <--->     ILE127    P       CD_1949     3.9\n",
      "@>      ALA44    P        CB_628  <--->       LEU9    P        CD1_74     3.9\n",
      "@>      VAL25    P       CG2_314  <--->     TYR142    P      CE1_2169     3.9\n",
      "@>      ILE21    P       CG2_256  <--->      MET63    P        SD_893     4.0\n",
      "@>     LEU153    P      CD1_2350  <--->      TRP39    P       NE1_547     4.0\n",
      "@>      PHE85    P       CZ_1253  <--->       LEU9    P        CD1_74     4.0\n",
      "@>      ILE35    P        CD_491  <--->      TRP39    P       NE1_547     4.0\n",
      "@>      LEU29    P       CD1_395  <--->      VAL25    P       CG1_310     4.1\n",
      "@>      ILE16    P       CG2_177  <--->      ALA74    P       CB_1068     4.1\n",
      "@>     TYR119    P      CE1_1805  <--->      LEU89    P      CD2_1326     4.1\n",
      "@>     PHE138    P      CD2_2108  <--->      ILE21    P        CD_263     4.3\n",
      "@>     TYR131    P      CE1_2006  <--->      ILE16    P        CD_184     4.3\n",
      "@> Number of detected hydrophobic interactions: 35.\n",
      "@> Calculating disulfide bonds.\n",
      "@> Number of detected disulfide bonds: 0.\n"
     ]
    }
   ],
   "source": [
    "all_interactions = interactions.calcProteinInteractions(atoms)"
   ]
  },
  {
   "cell_type": "markdown",
   "id": "a85918be",
   "metadata": {},
   "source": [
    "All types of interactions will be displayed on the screen with all types of\n",
    "information such as distance or angle (if applied).\n",
    "\n",
    "Moreover, we will have access to the details of each interaction type\n",
    "using the following methods: "
   ]
  },
  {
   "cell_type": "markdown",
   "id": "a7538e55",
   "metadata": {},
   "source": [
    ":meth:`.Interactions.getHydrogenBonds` - hydrogen bonds:"
   ]
  },
  {
   "cell_type": "code",
   "execution_count": 6,
   "id": "643432f0",
   "metadata": {},
   "outputs": [
    {
     "data": {
      "text/plain": [
       "[['ARG101', 'NH1_1516', 'P', 'ASP98', 'OD1_1463', 'P', 1.998, 33.1238],\n",
       " ['HSE72', 'NE2_1042', 'P', 'ASN15', 'OD1_165', 'P', 2.5997, 34.752],\n",
       " ['GLN143', 'NE2_2192', 'P', 'GLU139', 'OE2_2126', 'P', 2.7287, 9.1823],\n",
       " ['HSE66', 'NE2_957', 'P', 'GLU139', 'OE1_2125', 'P', 2.7314, 6.3592],\n",
       " ['ARG40', 'N_561', 'P', 'LYS6', 'O_37', 'P', 2.7479, 17.1499],\n",
       " ['ARG58', 'N_813', 'P', 'ASP56', 'OD1_788', 'P', 2.7499, 29.9737],\n",
       " ['ALA45', 'N_634', 'P', 'ARG75', 'O_1097', 'P', 2.7609, 35.0983],\n",
       " ['ASN53', 'ND2_747', 'P', 'GLU50', 'OE1_708', 'P', 2.7702, 18.2336],\n",
       " ['ALA74', 'N_1064', 'P', 'ASN53', 'O_751', 'P', 2.7782, 21.3375],\n",
       " ['ASP56', 'N_780', 'P', 'ILE16', 'O_189', 'P', 2.7793, 27.0481],\n",
       " ['LYS110', 'NZ_1667', 'P', 'THR84', 'O_1240', 'P', 2.7977, 38.2213],\n",
       " ['LEU116', 'N_1758', 'P', 'CYS90', 'O_1342', 'P', 2.8072, 15.0239],\n",
       " ['SER103', 'N_1546', 'P', 'LEU99', 'O_1485', 'P', 2.8075, 29.107],\n",
       " ['ASN134', 'N_2045', 'P', 'ASP137', 'OD2_2091', 'P', 2.8132, 22.562],\n",
       " ['PHE152', 'N_2321', 'P', 'CYS148', 'O_2275', 'P', 2.8141, 8.2562],\n",
       " ['ASN95', 'N_1398', 'P', 'ASP92', 'OD1_1368', 'P', 2.8148, 12.5701],\n",
       " ['LYS6', 'N_16', 'P', 'ASN38', 'O_536', 'P', 2.8178, 25.0305],\n",
       " ['ILE77', 'N_1115', 'P', 'ALA45', 'O_643', 'P', 2.8179, 12.1855],\n",
       " ['ARG58', 'NH2_832', 'P', 'ASP56', 'OD2_789', 'P', 2.8204, 27.6617],\n",
       " ['LEU99', 'N_1467', 'P', 'ASN95', 'O_1411', 'P', 2.8205, 15.4867],\n",
       " ['CYS149', 'N_2276', 'P', 'CYS145', 'O_2224', 'P', 2.8247, 9.5914],\n",
       " ['GLY52', 'N_731', 'P', 'ALA74', 'O_1073', 'P', 2.832, 6.6442],\n",
       " ['ASP32', 'N_435', 'P', 'LYS28', 'O_385', 'P', 2.8357, 8.8318],\n",
       " ['ILE88', 'N_1294', 'P', 'LYS112', 'O_1704', 'P', 2.8429, 17.7147],\n",
       " ['GLN143', 'N_2180', 'P', 'GLU139', 'O_2128', 'P', 2.8445, 21.6714],\n",
       " ['ARG27', 'N_340', 'P', 'GLU23', 'O_293', 'P', 2.8446, 15.4167],\n",
       " ['TYR142', 'N_2159', 'P', 'PHE138', 'O_2113', 'P', 2.8515, 14.2061],\n",
       " ['GLY133', 'N_2038', 'P', 'PRO130', 'O_1995', 'P', 2.854, 25.4301],\n",
       " ['PHE26', 'N_320', 'P', 'ALA22', 'O_278', 'P', 2.8541, 4.8732],\n",
       " ['ASN15', 'ND2_166', 'P', 'SER19', 'OG_232', 'P', 2.8592, 32.1244],\n",
       " ['ARG75', 'NH1_1090', 'P', 'ASP81', 'OD2_1194', 'P', 2.8632, 19.6664],\n",
       " ['ARG75', 'NH2_1093', 'P', 'ASP42', 'OD2_610', 'P', 2.8649, 23.5083],\n",
       " ['ARG97', 'N_1431', 'P', 'GLU93', 'O_1386', 'P', 2.8654, 22.24],\n",
       " ['ARG65', 'NH2_941', 'P', 'GLU139', 'OE1_2125', 'P', 2.8655, 32.3239],\n",
       " ['VAL25', 'N_304', 'P', 'ILE21', 'O_268', 'P', 2.8666, 8.2255],\n",
       " ['LEU153', 'N_2341', 'P', 'CYS149', 'O_2286', 'P', 2.8707, 12.4931],\n",
       " ['SER7', 'N_38', 'P', 'ASP86', 'OD2_1270', 'P', 2.8732, 39.8838],\n",
       " ['ASP86', 'N_1261', 'P', 'SER7', 'OG_45', 'P', 2.8753, 34.7426],\n",
       " ['ARG58', 'NH2_832', 'P', 'TYR131', 'O_2016', 'P', 2.8815, 33.1098],\n",
       " ['THR46', 'N_644', 'P', 'CYS12', 'O_130', 'P', 2.883, 36.1279],\n",
       " ['GLN144', 'N_2197', 'P', 'THR140', 'O_2142', 'P', 2.8836, 23.2545],\n",
       " ['THR78', 'N_1134', 'P', 'ASP81', 'OD2_1194', 'P', 2.8869, 12.4465],\n",
       " ['LEU89', 'N_1313', 'P', 'LEU9', 'O_83', 'P', 2.8946, 29.5105],\n",
       " ['THR31', 'N_421', 'P', 'ARG27', 'O_363', 'P', 2.896, 24.1287],\n",
       " ['CYS90', 'N_1332', 'P', 'GLU114', 'O_1738', 'P', 2.8975, 24.576],\n",
       " ['CYS148', 'N_2265', 'P', 'GLN144', 'O_2213', 'P', 2.8976, 9.3165],\n",
       " ['GLU23', 'N_279', 'P', 'SER19', 'O_235', 'P', 2.8979, 15.4146],\n",
       " ['ILE68', 'N_970', 'P', 'MET63', 'O_899', 'P', 2.8986, 12.9904],\n",
       " ['PHE10', 'N_84', 'P', 'ASP42', 'O_612', 'P', 2.9026, 22.751],\n",
       " ['LYS112', 'N_1683', 'P', 'ASP86', 'O_1272', 'P', 2.912, 10.1158],\n",
       " ['SER61', 'N_861', 'P', 'TYR57', 'O_812', 'P', 2.9132, 35.1196],\n",
       " ['CYS145', 'N_2214', 'P', 'VAL141', 'O_2158', 'P', 2.9144, 15.8507],\n",
       " ['ARG27', 'NH2_359', 'P', 'GLU23', 'OE2_291', 'P', 2.9199, 31.5487],\n",
       " ['LYS64', 'N_900', 'P', 'GLN60', 'O_860', 'P', 2.9211, 22.8782],\n",
       " ['LEU9', 'N_65', 'P', 'TYR87', 'O_1293', 'P', 2.9229, 16.439],\n",
       " ['ASN38', 'N_523', 'P', 'ILE35', 'O_496', 'P', 2.9255, 29.091],\n",
       " ['VAL11', 'N_104', 'P', 'LEU89', 'O_1331', 'P', 2.9316, 29.7192],\n",
       " ['ASN100', 'N_1486', 'P', 'LEU96', 'O_1430', 'P', 2.933, 10.3321],\n",
       " ['GLN124', 'N_1881', 'P', 'ASP120', 'OD2_1825', 'P', 2.9333, 27.4547],\n",
       " ['LYS102', 'N_1524', 'P', 'ASP98', 'O_1466', 'P', 2.9361, 9.2855],\n",
       " ['GLN76', 'NE2_1110', 'P', 'THR46', 'O_657', 'P', 2.9381, 31.3836],\n",
       " ['ARG40', 'NH1_577', 'P', 'THR84', 'OG1_1233', 'P', 2.9482, 8.3748],\n",
       " ['ALA44', 'N_624', 'P', 'PHE10', 'O_103', 'P', 2.9499, 33.1772],\n",
       " ['GLU154', 'N_2360', 'P', 'ARG150', 'O_2310', 'P', 2.956, 22.5898],\n",
       " ['VAL8', 'N_49', 'P', 'ARG40', 'O_584', 'P', 2.9631, 25.0079],\n",
       " ['MET63', 'N_883', 'P', 'GLY59', 'O_843', 'P', 2.9733, 18.2731],\n",
       " ['GLN60', 'N_844', 'P', 'ASP56', 'O_791', 'P', 2.9795, 35.5229],\n",
       " ['ILE35', 'N_478', 'P', 'VAL30', 'O_420', 'P', 2.9811, 23.5092],\n",
       " ['VAL146', 'N_2225', 'P', 'TYR142', 'O_2179', 'P', 2.9914, 31.4798],\n",
       " ['ARG58', 'NH1_829', 'P', 'TYR131', 'O_2016', 'P', 2.9942, 38.0937],\n",
       " ['ASN53', 'N_738', 'P', 'GLU50', 'O_711', 'P', 2.995, 28.587],\n",
       " ['ARG101', 'N_1500', 'P', 'ARG97', 'O_1454', 'P', 2.9952, 32.2712],\n",
       " ['ARG18', 'NH1_217', 'P', 'ILE127', 'O_1954', 'P', 2.9957, 25.9507],\n",
       " ['ARG75', 'N_1074', 'P', 'ASN15', 'OD1_165', 'P', 3.0026, 25.0853],\n",
       " ['GLN144', 'NE2_2209', 'P', 'ILE126', 'O_1935', 'P', 3.0038, 18.2744],\n",
       " ['ASN34', 'N_464', 'P', 'THR31', 'O_434', 'P', 3.0041, 18.2465],\n",
       " ['ASN15', 'ND2_166', 'P', 'SER43', 'OG_620', 'P', 3.0129, 25.6996],\n",
       " ['ARG58', 'NE_826', 'P', 'ASP56', 'OD1_788', 'P', 3.017, 22.2284],\n",
       " ['ARG27', 'NH1_356', 'P', 'GLU23', 'OE2_291', 'P', 3.0175, 36.9343],\n",
       " ['ILE127', 'N_1936', 'P', 'MET91', 'O_1359', 'P', 3.018, 17.5601],\n",
       " ['TYR119', 'OH_1808', 'P', 'HSE157', 'N_2407', 'P', 3.0224, 28.0923],\n",
       " ['HSE157', 'N_2407', 'P', 'TYR119', 'OH_1808', 'P', 3.0224, 19.1804],\n",
       " ['GLU139', 'N_2114', 'P', 'ASP135', 'O_2070', 'P', 3.0245, 27.9246],\n",
       " ['LEU29', 'N_386', 'P', 'VAL25', 'O_319', 'P', 3.0299, 19.109],\n",
       " ['SER47', 'N_658', 'P', 'LEU13', 'O_149', 'P', 3.0386, 28.8029],\n",
       " ['VAL30', 'N_405', 'P', 'PHE26', 'O_339', 'P', 3.0394, 17.6883],\n",
       " ['GLN105', 'N_1571', 'P', 'LYS102', 'O_1545', 'P', 3.0464, 19.6806],\n",
       " ['SER118', 'N_1784', 'P', 'LEU115', 'O_1757', 'P', 3.051, 21.4045],\n",
       " ['LYS155', 'N_2375', 'P', 'ALA151', 'O_2320', 'P', 3.0555, 21.3245],\n",
       " ['GLU114', 'N_1724', 'P', 'ILE88', 'O_1312', 'P', 3.059, 24.1605],\n",
       " ['ASP120', 'N_1816', 'P', 'GLY117', 'O_1783', 'P', 3.0623, 12.6661],\n",
       " ['CYS62', 'N_872', 'P', 'ARG58', 'O_836', 'P', 3.0651, 20.443],\n",
       " ['ARG18', 'NH1_217', 'P', 'ASP92', 'OD2_1369', 'P', 3.0679, 4.2778],\n",
       " ['ALA24', 'N_294', 'P', 'PRO20', 'O_249', 'P', 3.0751, 29.9487],\n",
       " ['ARG150', 'N_2287', 'P', 'VAL146', 'O_2240', 'P', 3.078, 12.7022],\n",
       " ['LYS28', 'N_364', 'P', 'ALA24', 'O_303', 'P', 3.0783, 19.9504],\n",
       " ['VAL141', 'N_2143', 'P', 'ASP137', 'O_2093', 'P', 3.081, 18.4812],\n",
       " ['ASP98', 'N_1455', 'P', 'SER94', 'O_1397', 'P', 3.0844, 19.56],\n",
       " ['LEU96', 'N_1412', 'P', 'ASP92', 'O_1371', 'P', 3.085, 36.3254],\n",
       " ['ALA22', 'N_269', 'P', 'ARG18', 'O_224', 'P', 3.088, 21.873],\n",
       " ['ALA151', 'N_2311', 'P', 'ARG147', 'O_2264', 'P', 3.0991, 15.5713],\n",
       " ['GLY67', 'N_963', 'P', 'LYS64', 'O_921', 'P', 3.122, 22.7833],\n",
       " ['ASP42', 'N_601', 'P', 'VAL8', 'O_64', 'P', 3.1331, 35.5671],\n",
       " ['ARG65', 'N_922', 'P', 'SER61', 'O_871', 'P', 3.1339, 23.3682],\n",
       " ['TRP39', 'N_537', 'P', 'SER36', 'O_507', 'P', 3.1343, 15.1776],\n",
       " ['LYS123', 'N_1859', 'P', 'ASP120', 'O_1827', 'P', 3.1375, 18.6589],\n",
       " ['MET91', 'N_1343', 'P', 'ASN95', 'OD1_1406', 'P', 3.1581, 39.0427],\n",
       " ['THR140', 'N_2129', 'P', 'SER136', 'O_2081', 'P', 3.1742, 30.2937],\n",
       " ['PHE85', 'N_1241', 'P', 'ASP81', 'O_1196', 'P', 3.1845, 20.2243],\n",
       " ['ASN15', 'N_157', 'P', 'CYS12', 'SG_127', 'P', 3.2043, 37.4576],\n",
       " ['ALA111', 'N_1673', 'P', 'PHE82', 'O_1216', 'P', 3.2054, 20.58],\n",
       " ['ARG147', 'N_2241', 'P', 'GLN143', 'O_2196', 'P', 3.2416, 12.0678],\n",
       " ['ARG75', 'NH2_1093', 'P', 'ASP81', 'OD1_1193', 'P', 3.2447, 29.3403],\n",
       " ['LYS112', 'NZ_1699', 'P', 'HSE157', 'OT2_2424', 'P', 3.2687, 28.6743],\n",
       " ['ARG147', 'NH1_2257', 'P', 'GLN124', 'OE1_1892', 'P', 3.3008, 29.8529],\n",
       " ['PHE138', 'N_2094', 'P', 'ASN134', 'O_2058', 'P', 3.3062, 31.0247],\n",
       " ['SER7', 'OG_45', 'P', 'THR84', 'O_1240', 'P', 3.3227, 35.5232],\n",
       " ['CYS12', 'N_120', 'P', 'ALA44', 'O_633', 'P', 3.3349, 36.1006],\n",
       " ['SER19', 'N_225', 'P', 'CYS12', 'SG_127', 'P', 3.339, 8.0034],\n",
       " ['PHE82', 'N_1197', 'P', 'LYS79', 'O_1169', 'P', 3.3527, 37.7265],\n",
       " ['ASP81', 'N_1185', 'P', 'THR78', 'OG1_1140', 'P', 3.4526, 39.5114],\n",
       " ['LYS102', 'NZ_1540', 'P', 'ASP98', 'OD2_1464', 'P', 3.4548, 26.1223],\n",
       " ['ARG147', 'NH2_2260', 'P', 'GLN124', 'OE1_1892', 'P', 3.4691, 33.8944],\n",
       " ['VAL106', 'N_1588', 'P', 'SER103', 'O_1556', 'P', 3.4974, 34.2367]]"
      ]
     },
     "execution_count": 6,
     "metadata": {},
     "output_type": "execute_result"
    }
   ],
   "source": [
    "interactions.getHydrogenBonds()"
   ]
  },
  {
   "cell_type": "markdown",
   "id": "85083fe1",
   "metadata": {},
   "source": [
    ":meth:`.Interactions.getSaltBridges` - salt bridges (residues with oposite\n",
    "charges):"
   ]
  },
  {
   "cell_type": "code",
   "execution_count": 7,
   "id": "586eaa6b",
   "metadata": {},
   "outputs": [
    {
     "data": {
      "text/plain": [
       "[['HSE66', 'NE2_957', 'P', 'GLU139', 'OE1_2125_2126', 'P', 2.8359],\n",
       " ['ASP81', 'OD1_1193_1194', 'P', 'ARG75', 'NH1_1090_1093', 'P', 2.9163],\n",
       " ['ASP32', 'OD1_443_444', 'P', 'LYS28', 'NZ_380', 'P', 3.037],\n",
       " ['ASP98', 'OD1_1463_1464', 'P', 'ARG101', 'NH1_1516_1519', 'P', 3.0699],\n",
       " ['ARG27', 'NH1_356_359', 'P', 'GLU23', 'OE1_290_291', 'P', 3.7148],\n",
       " ['ARG65', 'NH1_938_941', 'P', 'GLU139', 'OE1_2125_2126', 'P', 3.7799],\n",
       " ['ASP98', 'OD1_1463_1464', 'P', 'LYS102', 'NZ_1540', 'P', 3.9359],\n",
       " ['ARG58', 'NH1_829_832', 'P', 'ASP56', 'OD1_788_789', 'P', 3.9486],\n",
       " ['ASP92', 'OD1_1368_1369', 'P', 'ARG18', 'NH1_217_220', 'P', 4.0693],\n",
       " ['GLU114', 'OE1_1735_1736', 'P', 'LYS112', 'NZ_1699', 'P', 4.0787],\n",
       " ['ARG147', 'NH1_2257_2260', 'P', 'ASP120', 'OD1_1824_1825', 'P', 4.1543],\n",
       " ['LYS110', 'NZ_1667', 'P', 'ASP86', 'OD1_1269_1270', 'P', 4.1879],\n",
       " ['GLU114', 'OE1_1735_1736', 'P', 'HSE157', 'NE2_2418', 'P', 4.3835],\n",
       " ['ASP129', 'OD1_1978_1979', 'P', 'ARG18', 'NH1_217_220', 'P', 4.5608],\n",
       " ['ARG75', 'NH1_1090_1093', 'P', 'ASP42', 'OD1_609_610', 'P', 4.5612],\n",
       " ['HSE72', 'NE2_1042', 'P', 'GLU23', 'OE1_290_291', 'P', 4.99]]"
      ]
     },
     "execution_count": 7,
     "metadata": {},
     "output_type": "execute_result"
    }
   ],
   "source": [
    "interactions.getSaltBridges()"
   ]
  },
  {
   "cell_type": "markdown",
   "id": "5090d992",
   "metadata": {},
   "source": [
    ":meth:`.Interactions.getRepulsiveIonicBonding` - repulsive ionic bonding\n",
    "(between residues with the same charges):"
   ]
  },
  {
   "cell_type": "code",
   "execution_count": 8,
   "id": "70fb3475",
   "metadata": {},
   "outputs": [
    {
     "data": {
      "text/plain": [
       "[['ARG101', 'NH1_1516_1519', 'P', 'LYS102', 'NZ_1540', 'P', 4.2655]]"
      ]
     },
     "execution_count": 8,
     "metadata": {},
     "output_type": "execute_result"
    }
   ],
   "source": [
    "interactions.getRepulsiveIonicBonding()"
   ]
  },
  {
   "cell_type": "markdown",
   "id": "45ba8c3f",
   "metadata": {},
   "source": [
    ":meth:`.Interactions.getPiStacking` - Pi-stacking interactions:"
   ]
  },
  {
   "cell_type": "code",
   "execution_count": 9,
   "id": "c9ccec33",
   "metadata": {},
   "outputs": [
    {
     "data": {
      "text/plain": [
       "[['TYR142',\n",
       "  '2166_2167_2169_2171_2174_2176',\n",
       "  'P',\n",
       "  'HSE66',\n",
       "  '953_954_955_957_959',\n",
       "  'P',\n",
       "  3.8882,\n",
       "  162.1245],\n",
       " ['TYR119',\n",
       "  '1802_1803_1805_1807_1810_1812',\n",
       "  'P',\n",
       "  'HSE157',\n",
       "  '2414_2415_2416_2418_2420_2423_2424',\n",
       "  'P',\n",
       "  4.3605,\n",
       "  3.0062],\n",
       " ['TRP39',\n",
       "  '549_550_551_553_555_557',\n",
       "  'P',\n",
       "  'PHE26',\n",
       "  '327_328_330_332_334_336',\n",
       "  'P',\n",
       "  4.8394,\n",
       "  75.4588],\n",
       " ['TYR132',\n",
       "  '2024_2025_2027_2029_2032_2034',\n",
       "  'P',\n",
       "  'TYR131',\n",
       "  '2003_2004_2006_2008_2011_2013',\n",
       "  'P',\n",
       "  4.8732,\n",
       "  91.4358]]"
      ]
     },
     "execution_count": 9,
     "metadata": {},
     "output_type": "execute_result"
    }
   ],
   "source": [
    "interactions.getPiStacking()"
   ]
  },
  {
   "cell_type": "markdown",
   "id": "772f164a",
   "metadata": {},
   "source": [
    ":meth:`.Interactions.getPiCation` - Pi-cation:"
   ]
  },
  {
   "cell_type": "code",
   "execution_count": 10,
   "id": "738b8679",
   "metadata": {},
   "outputs": [
    {
     "data": {
      "text/plain": [
       "[['PHE85',\n",
       "  '1248_1249_1251_1253_1255_1257',\n",
       "  'P',\n",
       "  'ARG40',\n",
       "  'NH1_577_580',\n",
       "  'P',\n",
       "  3.6523],\n",
       " ['HSE66', '953_954_955_957_959', 'P', 'ARG65', 'NH1_938_941', 'P', 4.5323],\n",
       " ['HSE157',\n",
       "  '2414_2415_2416_2418_2420_2423_2424',\n",
       "  'P',\n",
       "  'LYS112',\n",
       "  'NZ_1699',\n",
       "  'P',\n",
       "  4.828]]"
      ]
     },
     "execution_count": 10,
     "metadata": {},
     "output_type": "execute_result"
    }
   ],
   "source": [
    "interactions.getPiCation()"
   ]
  },
  {
   "cell_type": "markdown",
   "id": "23fe6819",
   "metadata": {},
   "source": [
    ":meth:`.Interactions.getHydrophohic` - hydrophobic interactions:"
   ]
  },
  {
   "cell_type": "code",
   "execution_count": 11,
   "id": "f58b6ea1",
   "metadata": {},
   "outputs": [
    {
     "data": {
      "text/plain": [
       "[['TYR87', 'OH_1286', 'P', 'ALA156', 'CB_2401', 'P', 3.0459],\n",
       " ['MET63', 'CE_894', 'P', 'ALA24', 'CB_298', 'P', 3.3105],\n",
       " ['ILE68', 'CG2_976', 'P', 'MET63', 'CE_894', 'P', 3.3306],\n",
       " ['TYR142', 'CZ_2171', 'P', 'VAL146', 'CG2_2235', 'P', 3.4815],\n",
       " ['ALA22', 'CB_273', 'P', 'PHE10', 'CD1_92', 'P', 3.5334],\n",
       " ['TRP39', 'CZ2_555', 'P', 'LYS6', 'CD_26', 'P', 3.5427],\n",
       " ['PHE26', 'CE2_336', 'P', 'VAL30', 'CG1_411', 'P', 3.5603],\n",
       " ['ALA111', 'CB_1677', 'P', 'ILE88', 'CD_1307', 'P', 3.5627],\n",
       " ['VAL11', 'CG2_114', 'P', 'ILE88', 'CG2_1300', 'P', 3.6386],\n",
       " ['VAL41', 'CG2_595', 'P', 'PHE26', 'CD2_334', 'P', 3.6448],\n",
       " ['PHE152', 'CE1_2331', 'P', 'ALA156', 'CB_2401', 'P', 3.6594],\n",
       " ['VAL106', 'CG2_1598', 'P', 'LYS79', 'CG_1155', 'P', 3.6828],\n",
       " ['ILE77', 'CD_1128', 'P', 'LEU99', 'CD2_1480', 'P', 3.6917],\n",
       " ['PHE82', 'CD1_1205', 'P', 'ILE88', 'CD_1307', 'P', 3.692],\n",
       " ['LEU116', 'CD2_1771', 'P', 'ILE127', 'CD_1949', 'P', 3.7057],\n",
       " ['VAL8', 'CG1_55', 'P', 'PHE26', 'CE2_336', 'P', 3.7106],\n",
       " ['LEU115', 'CD1_1748', 'P', 'LEU125', 'CD1_1907', 'P', 3.7115],\n",
       " ['MET70', 'CE_1014', 'P', 'MET63', 'CG_890', 'P', 3.7262],\n",
       " ['ILE113', 'CG2_1711', 'P', 'LEU96', 'CD1_1421', 'P', 3.7263],\n",
       " ['LEU9', 'CD2_78', 'P', 'ILE77', 'CD_1128', 'P', 3.745],\n",
       " ['LEU89', 'CD1_1322', 'P', 'VAL8', 'CG2_59', 'P', 3.7672],\n",
       " ['ILE126', 'CD_1930', 'P', 'LEU125', 'CD1_1907', 'P', 3.7885],\n",
       " ['VAL141', 'CG1_2149', 'P', 'ILE127', 'CG2_1942', 'P', 3.8659],\n",
       " ['MET91', 'SD_1353', 'P', 'ILE127', 'CD_1949', 'P', 3.8864],\n",
       " ['ALA44', 'CB_628', 'P', 'LEU9', 'CD1_74', 'P', 3.8992],\n",
       " ['VAL25', 'CG2_314', 'P', 'TYR142', 'CE1_2169', 'P', 3.92],\n",
       " ['ILE21', 'CG2_256', 'P', 'MET63', 'SD_893', 'P', 3.9614],\n",
       " ['LEU153', 'CD1_2350', 'P', 'TRP39', 'NE1_547', 'P', 3.967],\n",
       " ['PHE85', 'CZ_1253', 'P', 'LEU9', 'CD1_74', 'P', 4.0119],\n",
       " ['ILE35', 'CD_491', 'P', 'TRP39', 'NE1_547', 'P', 4.0172],\n",
       " ['LEU29', 'CD1_395', 'P', 'VAL25', 'CG1_310', 'P', 4.0642],\n",
       " ['ILE16', 'CG2_177', 'P', 'ALA74', 'CB_1068', 'P', 4.0772],\n",
       " ['TYR119', 'CE1_1805', 'P', 'LEU89', 'CD2_1326', 'P', 4.1435],\n",
       " ['PHE138', 'CD2_2108', 'P', 'ILE21', 'CD_263', 'P', 4.3082],\n",
       " ['TYR131', 'CE1_2006', 'P', 'ILE16', 'CD_184', 'P', 4.3352]]"
      ]
     },
     "execution_count": 11,
     "metadata": {},
     "output_type": "execute_result"
    }
   ],
   "source": [
    "interactions.getHydrophobic()"
   ]
  },
  {
   "cell_type": "markdown",
   "id": "5a86c19d",
   "metadata": {},
   "source": [
    ":meth:`.Interactions.getDisulfideBonds` - disulfide bonds:"
   ]
  },
  {
   "cell_type": "code",
   "execution_count": 12,
   "id": "2145c95e",
   "metadata": {},
   "outputs": [
    {
     "data": {
      "text/plain": [
       "[]"
      ]
     },
     "execution_count": 12,
     "metadata": {},
     "output_type": "execute_result"
    }
   ],
   "source": [
    "interactions.getDisulfideBonds()"
   ]
  },
  {
   "cell_type": "markdown",
   "id": "fac1d0e6",
   "metadata": {},
   "source": [
    "To display residues with the biggest number of potential interactions and their\n",
    "types, we can use :meth:`.Interactions.getFrequentInteractions` method:"
   ]
  },
  {
   "cell_type": "code",
   "execution_count": 13,
   "id": "4498e9bb",
   "metadata": {},
   "outputs": [
    {
     "name": "stderr",
     "output_type": "stream",
     "text": [
      "@> The most frequent interactions between:\n",
      "@> LEU9P  <--->  hp:ALA44P  hp:PHE85P  hb:LEU89P\n",
      "@> CYS12P  <--->  hb:ASN15P  hb:SER19P  hb:THR46P\n",
      "@> ARG18P  <--->  hb:ALA22P  sb:ASP92P  sb:ASP129P\n",
      "@> PHE26P  <--->  hp:VAL8P  hb:VAL30P  ps:TRP39P  hp:VAL41P\n",
      "@> MET63P  <--->  hp:ILE21P  hp:ILE68P  hp:MET70P\n",
      "@> ASP81P  <--->  hb:ARG75P  hb:THR78P  hb:PHE85P\n",
      "@> THR84P  <--->  hb:SER7P  hb:ARG40P  hb:LYS110P\n",
      "@> ASP86P  <--->  hb:SER7P  sb:LYS110P  hb:LYS112P\n",
      "@> ILE88P  <--->  hp:VAL11P  hp:PHE82P  hp:ALA111P  hb:GLU114P\n",
      "@> ASP92P  <--->  hb:ARG18P  hb:ASN95P  hb:LEU96P\n",
      "@> LYS102P  <--->  sb:ASP98P  rb:ARG101P  hb:GLN105P\n",
      "@> LYS112P  <--->  hb:ILE88P  sb:GLU114P  pc:HSE157P\n",
      "@> ASP120P  <--->  hb:LYS123P  hb:GLN124P  sb:ARG147P\n",
      "@> ILE127P  <--->  hb:ARG18P  hp:MET91P  hp:LEU116P  hp:VAL141P\n",
      "@> Legend: hb-hydrogen bond, sb-salt bridge, rb-repulsive ionic bond, ps-Pi stacking interaction,pc-Cation-Pi interaction, hp-hydrophobic interaction, dibs-disulfide bonds\n",
      "@> The biggest number of interactions: 4\n"
     ]
    }
   ],
   "source": [
    "frequent_interactions = interactions.getFrequentInteractors(contacts_min=3)"
   ]
  },
  {
   "cell_type": "markdown",
   "id": "78ee37ff",
   "metadata": {},
   "source": [
    "The value of *contacts_min* can be modified to display residues with smaller\n",
    "number of interactions."
   ]
  },
  {
   "cell_type": "markdown",
   "id": "5f107e9f",
   "metadata": {},
   "source": [
    "# Visualize interactions in VMD"
   ]
  },
  {
   "cell_type": "markdown",
   "id": "96a056ed",
   "metadata": {},
   "source": [
    "We can generate tcl files for visualizing each type of interaction with VMD_ \n",
    "using the :func:`.showProteinInteractions_VMD` function in the following way:"
   ]
  },
  {
   "cell_type": "code",
   "execution_count": 14,
   "id": "c72f92ce",
   "metadata": {
    "scrolled": true
   },
   "outputs": [
    {
     "name": "stderr",
     "output_type": "stream",
     "text": [
      "@> TCL file saved\n",
      "@> TCL file saved\n",
      "@> TCL file saved\n",
      "@> TCL file saved\n",
      "@> TCL file saved\n",
      "@> TCL file saved\n",
      "@> Lack of results\n",
      "@> TCL file saved\n"
     ]
    }
   ],
   "source": [
    "showProteinInteractions_VMD(atoms, interactions.getHydrogenBonds(), color='blue', filename='HBs.tcl')\n",
    "showProteinInteractions_VMD(atoms, interactions.getSaltBridges(), color='yellow',filename='SBs.tcl')\n",
    "showProteinInteractions_VMD(atoms, interactions.getRepulsiveIonicBonding(), color='red',filename='RIB.tcl')\n",
    "showProteinInteractions_VMD(atoms, interactions.getPiStacking(), color='green',filename='PiStacking.tcl') \n",
    "showProteinInteractions_VMD(atoms, interactions.getPiCation(), color='orange',filename='PiCation.tcl') \n",
    "showProteinInteractions_VMD(atoms, interactions.getHydrophobic(), color='silver',filename='HPh.tcl') \n",
    "showProteinInteractions_VMD(atoms, interactions.getDisulfideBonds(), color='black',filename='DiBs.tcl') "
   ]
  },
  {
   "cell_type": "markdown",
   "id": "84692981",
   "metadata": {},
   "source": [
    "A TCL file will be saved and can be used in VMD_ after uploading the PDB file\n",
    "with protein structure **5kqm_all_sci.pdb** and by running the following command \n",
    "line instruction in the VMD_ *TKConsole* (*VMD Main*) for Linux, Windows and Mac users: \n",
    "\n",
    "::  play HBs.tcl\n",
    "\n",
    "The tcl file contains a method for drawing lines between selected pairs of \n",
    "residues. Those residues are also displayed."
   ]
  },
  {
   "cell_type": "markdown",
   "id": "444e5d90",
   "metadata": {},
   "source": [
    "# Additional selections"
   ]
  },
  {
   "cell_type": "markdown",
   "id": "3eff2ee3",
   "metadata": {},
   "source": [
    "From the predicted interactions we can select only interactions assigned to\n",
    "a certain regions, chains or between different chains.\n",
    "\n",
    "We can compute them by adding additional parameters to the selected\n",
    "function. See examples below:"
   ]
  },
  {
   "cell_type": "code",
   "execution_count": 15,
   "id": "916077b1",
   "metadata": {},
   "outputs": [
    {
     "data": {
      "text/plain": [
       "[['HSE66', 'NE2_957', 'P', 'GLU139', 'OE1_2125_2126', 'P', 2.8359],\n",
       " ['ASP81', 'OD1_1193_1194', 'P', 'ARG75', 'NH1_1090_1093', 'P', 2.9163],\n",
       " ['ASP32', 'OD1_443_444', 'P', 'LYS28', 'NZ_380', 'P', 3.037],\n",
       " ['ASP98', 'OD1_1463_1464', 'P', 'ARG101', 'NH1_1516_1519', 'P', 3.0699],\n",
       " ['ARG27', 'NH1_356_359', 'P', 'GLU23', 'OE1_290_291', 'P', 3.7148],\n",
       " ['ARG65', 'NH1_938_941', 'P', 'GLU139', 'OE1_2125_2126', 'P', 3.7799],\n",
       " ['ASP98', 'OD1_1463_1464', 'P', 'LYS102', 'NZ_1540', 'P', 3.9359],\n",
       " ['ARG58', 'NH1_829_832', 'P', 'ASP56', 'OD1_788_789', 'P', 3.9486],\n",
       " ['ASP92', 'OD1_1368_1369', 'P', 'ARG18', 'NH1_217_220', 'P', 4.0693],\n",
       " ['GLU114', 'OE1_1735_1736', 'P', 'LYS112', 'NZ_1699', 'P', 4.0787],\n",
       " ['ARG147', 'NH1_2257_2260', 'P', 'ASP120', 'OD1_1824_1825', 'P', 4.1543],\n",
       " ['LYS110', 'NZ_1667', 'P', 'ASP86', 'OD1_1269_1270', 'P', 4.1879],\n",
       " ['GLU114', 'OE1_1735_1736', 'P', 'HSE157', 'NE2_2418', 'P', 4.3835],\n",
       " ['ASP129', 'OD1_1978_1979', 'P', 'ARG18', 'NH1_217_220', 'P', 4.5608],\n",
       " ['ARG75', 'NH1_1090_1093', 'P', 'ASP42', 'OD1_609_610', 'P', 4.5612],\n",
       " ['HSE72', 'NE2_1042', 'P', 'GLU23', 'OE1_290_291', 'P', 4.99]]"
      ]
     },
     "execution_count": 15,
     "metadata": {},
     "output_type": "execute_result"
    }
   ],
   "source": [
    "interactions.getSaltBridges(selection='chain P')"
   ]
  },
  {
   "cell_type": "code",
   "execution_count": 16,
   "id": "fe5233ce",
   "metadata": {},
   "outputs": [
    {
     "data": {
      "text/plain": [
       "[['ARG101', 'NH1_1516_1519', 'P', 'LYS102', 'NZ_1540', 'P', 4.2655]]"
      ]
     },
     "execution_count": 16,
     "metadata": {},
     "output_type": "execute_result"
    }
   ],
   "source": [
    "interactions.getRepulsiveIonicBonding(selection='resid 102')"
   ]
  },
  {
   "cell_type": "code",
   "execution_count": 17,
   "id": "4625330c",
   "metadata": {
    "scrolled": true
   },
   "outputs": [
    {
     "data": {
      "text/plain": [
       "[['TRP39',\n",
       "  '549_550_551_553_555_557',\n",
       "  'P',\n",
       "  'PHE26',\n",
       "  '327_328_330_332_334_336',\n",
       "  'P',\n",
       "  4.8394,\n",
       "  75.4588]]"
      ]
     },
     "execution_count": 17,
     "metadata": {},
     "output_type": "execute_result"
    }
   ],
   "source": [
    "interactions.getPiStacking(selection='chain P and resid 26')"
   ]
  },
  {
   "cell_type": "markdown",
   "id": "dd8d9af5",
   "metadata": {},
   "source": [
    "It can be done for all kinds of interactions as well. The function will\n",
    "return a list of interactions with following order:\n",
    "\n",
    "    (1) Hydrogen bonds\n",
    "    (2) Salt Bridges\n",
    "    (3) RepulsiveIonicBonding \n",
    "    (4) Pi stacking interactions\n",
    "    (5) Pi-cation interactions\n",
    "    (6) Hydrophobic interactions\n",
    "    (7) Disulfide bonds\n"
   ]
  },
  {
   "cell_type": "code",
   "execution_count": 18,
   "id": "1d0bc81f",
   "metadata": {},
   "outputs": [
    {
     "data": {
      "text/plain": [
       "[[['ARG40', 'N_561', 'P', 'LYS6', 'O_37', 'P', 2.7479, 17.1499],\n",
       "  ['ALA45', 'N_634', 'P', 'ARG75', 'O_1097', 'P', 2.7609, 35.0983],\n",
       "  ['ASN53', 'ND2_747', 'P', 'GLU50', 'OE1_708', 'P', 2.7702, 18.2336],\n",
       "  ['LYS6', 'N_16', 'P', 'ASN38', 'O_536', 'P', 2.8178, 25.0305],\n",
       "  ['ILE77', 'N_1115', 'P', 'ALA45', 'O_643', 'P', 2.8179, 12.1855],\n",
       "  ['ASP32', 'N_435', 'P', 'LYS28', 'O_385', 'P', 2.8357, 8.8318],\n",
       "  ['ARG27', 'N_340', 'P', 'GLU23', 'O_293', 'P', 2.8446, 15.4167],\n",
       "  ['PHE26', 'N_320', 'P', 'ALA22', 'O_278', 'P', 2.8541, 4.8732],\n",
       "  ['ARG75', 'NH2_1093', 'P', 'ASP42', 'OD2_610', 'P', 2.8649, 23.5083],\n",
       "  ['VAL25', 'N_304', 'P', 'ILE21', 'O_268', 'P', 2.8666, 8.2255],\n",
       "  ['THR46', 'N_644', 'P', 'CYS12', 'O_130', 'P', 2.883, 36.1279],\n",
       "  ['THR31', 'N_421', 'P', 'ARG27', 'O_363', 'P', 2.896, 24.1287],\n",
       "  ['GLU23', 'N_279', 'P', 'SER19', 'O_235', 'P', 2.8979, 15.4146],\n",
       "  ['PHE10', 'N_84', 'P', 'ASP42', 'O_612', 'P', 2.9026, 22.751],\n",
       "  ['ARG27', 'NH2_359', 'P', 'GLU23', 'OE2_291', 'P', 2.9199, 31.5487],\n",
       "  ['ASN38', 'N_523', 'P', 'ILE35', 'O_496', 'P', 2.9255, 29.091],\n",
       "  ['GLN76', 'NE2_1110', 'P', 'THR46', 'O_657', 'P', 2.9381, 31.3836],\n",
       "  ['ARG40', 'NH1_577', 'P', 'THR84', 'OG1_1233', 'P', 2.9482, 8.3748],\n",
       "  ['ALA44', 'N_624', 'P', 'PHE10', 'O_103', 'P', 2.9499, 33.1772],\n",
       "  ['VAL8', 'N_49', 'P', 'ARG40', 'O_584', 'P', 2.9631, 25.0079],\n",
       "  ['ILE35', 'N_478', 'P', 'VAL30', 'O_420', 'P', 2.9811, 23.5092],\n",
       "  ['ASN53', 'N_738', 'P', 'GLU50', 'O_711', 'P', 2.995, 28.587],\n",
       "  ['ASN34', 'N_464', 'P', 'THR31', 'O_434', 'P', 3.0041, 18.2465],\n",
       "  ['ASN15', 'ND2_166', 'P', 'SER43', 'OG_620', 'P', 3.0129, 25.6996],\n",
       "  ['ARG27', 'NH1_356', 'P', 'GLU23', 'OE2_291', 'P', 3.0175, 36.9343],\n",
       "  ['LEU29', 'N_386', 'P', 'VAL25', 'O_319', 'P', 3.0299, 19.109],\n",
       "  ['SER47', 'N_658', 'P', 'LEU13', 'O_149', 'P', 3.0386, 28.8029],\n",
       "  ['VAL30', 'N_405', 'P', 'PHE26', 'O_339', 'P', 3.0394, 17.6883],\n",
       "  ['ALA24', 'N_294', 'P', 'PRO20', 'O_249', 'P', 3.0751, 29.9487],\n",
       "  ['LYS28', 'N_364', 'P', 'ALA24', 'O_303', 'P', 3.0783, 19.9504],\n",
       "  ['ALA22', 'N_269', 'P', 'ARG18', 'O_224', 'P', 3.088, 21.873],\n",
       "  ['ASP42', 'N_601', 'P', 'VAL8', 'O_64', 'P', 3.1331, 35.5671],\n",
       "  ['TRP39', 'N_537', 'P', 'SER36', 'O_507', 'P', 3.1343, 15.1776],\n",
       "  ['CYS12', 'N_120', 'P', 'ALA44', 'O_633', 'P', 3.3349, 36.1006]],\n",
       " [['ASP32', 'OD1_443_444', 'P', 'LYS28', 'NZ_380', 'P', 3.037],\n",
       "  ['ARG27', 'NH1_356_359', 'P', 'GLU23', 'OE1_290_291', 'P', 3.7148],\n",
       "  ['ARG75', 'NH1_1090_1093', 'P', 'ASP42', 'OD1_609_610', 'P', 4.5612],\n",
       "  ['HSE72', 'NE2_1042', 'P', 'GLU23', 'OE1_290_291', 'P', 4.99]],\n",
       " [],\n",
       " [['TRP39',\n",
       "   '549_550_551_553_555_557',\n",
       "   'P',\n",
       "   'PHE26',\n",
       "   '327_328_330_332_334_336',\n",
       "   'P',\n",
       "   4.8394,\n",
       "   75.4588]],\n",
       " [['PHE85',\n",
       "   '1248_1249_1251_1253_1255_1257',\n",
       "   'P',\n",
       "   'ARG40',\n",
       "   'NH1_577_580',\n",
       "   'P',\n",
       "   3.6523]],\n",
       " [['MET63', 'CE_894', 'P', 'ALA24', 'CB_298', 'P', 3.3105],\n",
       "  ['ALA22', 'CB_273', 'P', 'PHE10', 'CD1_92', 'P', 3.5334],\n",
       "  ['TRP39', 'CZ2_555', 'P', 'LYS6', 'CD_26', 'P', 3.5427],\n",
       "  ['PHE26', 'CE2_336', 'P', 'VAL30', 'CG1_411', 'P', 3.5603],\n",
       "  ['VAL41', 'CG2_595', 'P', 'PHE26', 'CD2_334', 'P', 3.6448],\n",
       "  ['VAL8', 'CG1_55', 'P', 'PHE26', 'CE2_336', 'P', 3.7106],\n",
       "  ['ALA44', 'CB_628', 'P', 'LEU9', 'CD1_74', 'P', 3.8992],\n",
       "  ['VAL25', 'CG2_314', 'P', 'TYR142', 'CE1_2169', 'P', 3.92],\n",
       "  ['ILE21', 'CG2_256', 'P', 'MET63', 'SD_893', 'P', 3.9614],\n",
       "  ['LEU153', 'CD1_2350', 'P', 'TRP39', 'NE1_547', 'P', 3.967],\n",
       "  ['ILE35', 'CD_491', 'P', 'TRP39', 'NE1_547', 'P', 4.0172],\n",
       "  ['LEU29', 'CD1_395', 'P', 'VAL25', 'CG1_310', 'P', 4.0642],\n",
       "  ['PHE138', 'CD2_2108', 'P', 'ILE21', 'CD_263', 'P', 4.3082]],\n",
       " []]"
      ]
     },
     "execution_count": 18,
     "metadata": {},
     "output_type": "execute_result"
    }
   ],
   "source": [
    "allRes_20to50 = interactions.getInteractions(selection='resid 20 to 50')\n",
    "allRes_20to50"
   ]
  },
  {
   "cell_type": "markdown",
   "id": "11f29aa0",
   "metadata": {},
   "source": [
    "The list of hydrogen bonds, salt bridges and other types of interactions can\n",
    "be displayed as follows:\n"
   ]
  },
  {
   "cell_type": "code",
   "execution_count": 19,
   "id": "910463f5",
   "metadata": {},
   "outputs": [
    {
     "data": {
      "text/plain": [
       "[['ARG40', 'N_561', 'P', 'LYS6', 'O_37', 'P', 2.7479, 17.1499],\n",
       " ['ALA45', 'N_634', 'P', 'ARG75', 'O_1097', 'P', 2.7609, 35.0983],\n",
       " ['ASN53', 'ND2_747', 'P', 'GLU50', 'OE1_708', 'P', 2.7702, 18.2336],\n",
       " ['LYS6', 'N_16', 'P', 'ASN38', 'O_536', 'P', 2.8178, 25.0305],\n",
       " ['ILE77', 'N_1115', 'P', 'ALA45', 'O_643', 'P', 2.8179, 12.1855],\n",
       " ['ASP32', 'N_435', 'P', 'LYS28', 'O_385', 'P', 2.8357, 8.8318],\n",
       " ['ARG27', 'N_340', 'P', 'GLU23', 'O_293', 'P', 2.8446, 15.4167],\n",
       " ['PHE26', 'N_320', 'P', 'ALA22', 'O_278', 'P', 2.8541, 4.8732],\n",
       " ['ARG75', 'NH2_1093', 'P', 'ASP42', 'OD2_610', 'P', 2.8649, 23.5083],\n",
       " ['VAL25', 'N_304', 'P', 'ILE21', 'O_268', 'P', 2.8666, 8.2255],\n",
       " ['THR46', 'N_644', 'P', 'CYS12', 'O_130', 'P', 2.883, 36.1279],\n",
       " ['THR31', 'N_421', 'P', 'ARG27', 'O_363', 'P', 2.896, 24.1287],\n",
       " ['GLU23', 'N_279', 'P', 'SER19', 'O_235', 'P', 2.8979, 15.4146],\n",
       " ['PHE10', 'N_84', 'P', 'ASP42', 'O_612', 'P', 2.9026, 22.751],\n",
       " ['ARG27', 'NH2_359', 'P', 'GLU23', 'OE2_291', 'P', 2.9199, 31.5487],\n",
       " ['ASN38', 'N_523', 'P', 'ILE35', 'O_496', 'P', 2.9255, 29.091],\n",
       " ['GLN76', 'NE2_1110', 'P', 'THR46', 'O_657', 'P', 2.9381, 31.3836],\n",
       " ['ARG40', 'NH1_577', 'P', 'THR84', 'OG1_1233', 'P', 2.9482, 8.3748],\n",
       " ['ALA44', 'N_624', 'P', 'PHE10', 'O_103', 'P', 2.9499, 33.1772],\n",
       " ['VAL8', 'N_49', 'P', 'ARG40', 'O_584', 'P', 2.9631, 25.0079],\n",
       " ['ILE35', 'N_478', 'P', 'VAL30', 'O_420', 'P', 2.9811, 23.5092],\n",
       " ['ASN53', 'N_738', 'P', 'GLU50', 'O_711', 'P', 2.995, 28.587],\n",
       " ['ASN34', 'N_464', 'P', 'THR31', 'O_434', 'P', 3.0041, 18.2465],\n",
       " ['ASN15', 'ND2_166', 'P', 'SER43', 'OG_620', 'P', 3.0129, 25.6996],\n",
       " ['ARG27', 'NH1_356', 'P', 'GLU23', 'OE2_291', 'P', 3.0175, 36.9343],\n",
       " ['LEU29', 'N_386', 'P', 'VAL25', 'O_319', 'P', 3.0299, 19.109],\n",
       " ['SER47', 'N_658', 'P', 'LEU13', 'O_149', 'P', 3.0386, 28.8029],\n",
       " ['VAL30', 'N_405', 'P', 'PHE26', 'O_339', 'P', 3.0394, 17.6883],\n",
       " ['ALA24', 'N_294', 'P', 'PRO20', 'O_249', 'P', 3.0751, 29.9487],\n",
       " ['LYS28', 'N_364', 'P', 'ALA24', 'O_303', 'P', 3.0783, 19.9504],\n",
       " ['ALA22', 'N_269', 'P', 'ARG18', 'O_224', 'P', 3.088, 21.873],\n",
       " ['ASP42', 'N_601', 'P', 'VAL8', 'O_64', 'P', 3.1331, 35.5671],\n",
       " ['TRP39', 'N_537', 'P', 'SER36', 'O_507', 'P', 3.1343, 15.1776],\n",
       " ['CYS12', 'N_120', 'P', 'ALA44', 'O_633', 'P', 3.3349, 36.1006]]"
      ]
     },
     "execution_count": 19,
     "metadata": {},
     "output_type": "execute_result"
    }
   ],
   "source": [
    "allRes_20to50[0]"
   ]
  },
  {
   "cell_type": "markdown",
   "id": "19cbbb47",
   "metadata": {},
   "source": [
    "Salt Bridges:"
   ]
  },
  {
   "cell_type": "code",
   "execution_count": 20,
   "id": "028fcdd6",
   "metadata": {},
   "outputs": [
    {
     "data": {
      "text/plain": [
       "[['ASP32', 'OD1_443_444', 'P', 'LYS28', 'NZ_380', 'P', 3.037],\n",
       " ['ARG27', 'NH1_356_359', 'P', 'GLU23', 'OE1_290_291', 'P', 3.7148],\n",
       " ['ARG75', 'NH1_1090_1093', 'P', 'ASP42', 'OD1_609_610', 'P', 4.5612],\n",
       " ['HSE72', 'NE2_1042', 'P', 'GLU23', 'OE1_290_291', 'P', 4.99]]"
      ]
     },
     "execution_count": 20,
     "metadata": {},
     "output_type": "execute_result"
    }
   ],
   "source": [
    "allRes_20to50[1]"
   ]
  },
  {
   "cell_type": "markdown",
   "id": "0d04907c",
   "metadata": {},
   "source": [
    "We can also select one particular residue of our interest:"
   ]
  },
  {
   "cell_type": "code",
   "execution_count": 21,
   "id": "fd8de51a",
   "metadata": {},
   "outputs": [
    {
     "data": {
      "text/plain": [
       "[['PHE85',\n",
       "  '1248_1249_1251_1253_1255_1257',\n",
       "  'P',\n",
       "  'ARG40',\n",
       "  'NH1_577_580',\n",
       "  'P',\n",
       "  3.6523]]"
      ]
     },
     "execution_count": 21,
     "metadata": {},
     "output_type": "execute_result"
    }
   ],
   "source": [
    "interactions.getPiCation(selection='resid 85')"
   ]
  },
  {
   "cell_type": "code",
   "execution_count": 22,
   "id": "2a3b2bb1",
   "metadata": {},
   "outputs": [
    {
     "data": {
      "text/plain": [
       "[['TYR87', 'OH_1286', 'P', 'ALA156', 'CB_2401', 'P', 3.0459],\n",
       " ['MET63', 'CE_894', 'P', 'ALA24', 'CB_298', 'P', 3.3105],\n",
       " ['ILE68', 'CG2_976', 'P', 'MET63', 'CE_894', 'P', 3.3306],\n",
       " ['TRP39', 'CZ2_555', 'P', 'LYS6', 'CD_26', 'P', 3.5427],\n",
       " ['PHE26', 'CE2_336', 'P', 'VAL30', 'CG1_411', 'P', 3.5603],\n",
       " ['ALA111', 'CB_1677', 'P', 'ILE88', 'CD_1307', 'P', 3.5627],\n",
       " ['VAL11', 'CG2_114', 'P', 'ILE88', 'CG2_1300', 'P', 3.6386],\n",
       " ['VAL41', 'CG2_595', 'P', 'PHE26', 'CD2_334', 'P', 3.6448],\n",
       " ['VAL106', 'CG2_1598', 'P', 'LYS79', 'CG_1155', 'P', 3.6828],\n",
       " ['ILE77', 'CD_1128', 'P', 'LEU99', 'CD2_1480', 'P', 3.6917],\n",
       " ['PHE82', 'CD1_1205', 'P', 'ILE88', 'CD_1307', 'P', 3.692],\n",
       " ['VAL8', 'CG1_55', 'P', 'PHE26', 'CE2_336', 'P', 3.7106],\n",
       " ['MET70', 'CE_1014', 'P', 'MET63', 'CG_890', 'P', 3.7262],\n",
       " ['ILE113', 'CG2_1711', 'P', 'LEU96', 'CD1_1421', 'P', 3.7263],\n",
       " ['LEU9', 'CD2_78', 'P', 'ILE77', 'CD_1128', 'P', 3.745],\n",
       " ['LEU89', 'CD1_1322', 'P', 'VAL8', 'CG2_59', 'P', 3.7672],\n",
       " ['MET91', 'SD_1353', 'P', 'ILE127', 'CD_1949', 'P', 3.8864],\n",
       " ['ALA44', 'CB_628', 'P', 'LEU9', 'CD1_74', 'P', 3.8992],\n",
       " ['ILE21', 'CG2_256', 'P', 'MET63', 'SD_893', 'P', 3.9614],\n",
       " ['LEU153', 'CD1_2350', 'P', 'TRP39', 'NE1_547', 'P', 3.967],\n",
       " ['PHE85', 'CZ_1253', 'P', 'LEU9', 'CD1_74', 'P', 4.0119],\n",
       " ['ILE35', 'CD_491', 'P', 'TRP39', 'NE1_547', 'P', 4.0172],\n",
       " ['LEU29', 'CD1_395', 'P', 'VAL25', 'CG1_310', 'P', 4.0642],\n",
       " ['ILE16', 'CG2_177', 'P', 'ALA74', 'CB_1068', 'P', 4.0772],\n",
       " ['TYR119', 'CE1_1805', 'P', 'LEU89', 'CD2_1326', 'P', 4.1435]]"
      ]
     },
     "execution_count": 22,
     "metadata": {},
     "output_type": "execute_result"
    }
   ],
   "source": [
    "interactions.getHydrophobic(selection='resid 26 to 100')"
   ]
  },
  {
   "cell_type": "markdown",
   "id": "2edf5a46",
   "metadata": {},
   "source": [
    "# Change selection criteria for interaction type"
   ]
  },
  {
   "cell_type": "markdown",
   "id": "b9de756a",
   "metadata": {},
   "source": [
    "The :meth:`.Interactions.buildInteractionMatrix` method computes interactions \n",
    "using default parameters for interactions. However, it can be changed\n",
    "according to our needs. To do that, we need to recalculate the selected type\n",
    "of interactions. "
   ]
  },
  {
   "cell_type": "markdown",
   "id": "721b1632",
   "metadata": {},
   "source": [
    "We can do it using the following functions: :func:`.calcHydrogenBonds`,\n",
    ":func:`.calcHydrogenBonds`, :func:`.calcSaltBridges`,\n",
    ":func:`.calcRepulsiveIonicBonding`, :func:`.calcPiStacking`,\n",
    ":func:`.calcPiCation`, :func:`.calcHydrophohic`, and use\n",
    ":meth:`.Interactions.setNewHydrogenBonds`,\n",
    ":meth:`.Interactions.setNewSaltBridges`,\n",
    ":meth:`.Interactions.setNewRepulsiveIonicBonding`,\n",
    ":meth:`.Interactions.setNewPiStacking`,\n",
    ":meth:`.Interactions.setNewPiCation`,\n",
    ":meth:`.Interactions.setNewHydrophohic`,\n",
    ":meth:`.Interactions.setNewDisulfideBonds` method to replace it in the main\n",
    "Instance. \n",
    "\n",
    "For example:"
   ]
  },
  {
   "cell_type": "code",
   "execution_count": 23,
   "id": "4134f41d",
   "metadata": {},
   "outputs": [
    {
     "name": "stderr",
     "output_type": "stream",
     "text": [
      "@> Calculating hydrogen bonds.\n",
      "@>      DONOR (res chid atom)   <--->       ACCEPTOR (res chid atom)    Distance  Angle\n",
      "@>     GLN143    P      NE2_2192  <--->     GLU139    P      OE2_2126     2.7     9.2\n",
      "@>      HSE66    P       NE2_957  <--->     GLU139    P      OE1_2125     2.7     6.4\n",
      "@>      ARG40    P         N_561  <--->       LYS6    P          O_37     2.7    17.1\n",
      "@>      ARG58    P         N_813  <--->      ASP56    P       OD1_788     2.7    30.0\n",
      "@>      ASN53    P       ND2_747  <--->      GLU50    P       OE1_708     2.8    18.2\n",
      "@>      ALA74    P        N_1064  <--->      ASN53    P         O_751     2.8    21.3\n",
      "@>      ASP56    P         N_780  <--->      ILE16    P         O_189     2.8    27.0\n",
      "@> Number of detected hydrogen bonds: 7.\n",
      "@> Hydrogen Bonds are replaced\n"
     ]
    }
   ],
   "source": [
    "newHydrogenBonds2 = calcHydrogenBonds(atoms, distA=2.8, angle=30, cutoff_dist=15)\n",
    "interactions.setNewHydrogenBonds(newHydrogenBonds2)"
   ]
  },
  {
   "cell_type": "code",
   "execution_count": 24,
   "id": "dee793ad",
   "metadata": {},
   "outputs": [
    {
     "data": {
      "text/plain": [
       "[['GLN143', 'NE2_2192', 'P', 'GLU139', 'OE2_2126', 'P', 2.7287, 9.1823],\n",
       " ['HSE66', 'NE2_957', 'P', 'GLU139', 'OE1_2125', 'P', 2.7314, 6.3592],\n",
       " ['ARG40', 'N_561', 'P', 'LYS6', 'O_37', 'P', 2.7479, 17.1499],\n",
       " ['ARG58', 'N_813', 'P', 'ASP56', 'OD1_788', 'P', 2.7499, 29.9737],\n",
       " ['ASN53', 'ND2_747', 'P', 'GLU50', 'OE1_708', 'P', 2.7702, 18.2336],\n",
       " ['ALA74', 'N_1064', 'P', 'ASN53', 'O_751', 'P', 2.7782, 21.3375],\n",
       " ['ASP56', 'N_780', 'P', 'ILE16', 'O_189', 'P', 2.7793, 27.0481]]"
      ]
     },
     "execution_count": 24,
     "metadata": {},
     "output_type": "execute_result"
    }
   ],
   "source": [
    "interactions.getHydrogenBonds()"
   ]
  },
  {
   "cell_type": "markdown",
   "id": "9af0877a",
   "metadata": {},
   "source": [
    "The same for salt bridges and other:"
   ]
  },
  {
   "cell_type": "code",
   "execution_count": 25,
   "id": "89e6c08c",
   "metadata": {},
   "outputs": [
    {
     "name": "stderr",
     "output_type": "stream",
     "text": [
      "@> Calculating salt bridges.\n",
      "@>      HSE66    P         NE2_957  <--->     GLU139    P   OE1_2125_2126     2.8\n",
      "@>      ASP81    P   OD1_1193_1194  <--->      ARG75    P   NH1_1090_1093     2.9\n",
      "@>      ASP32    P     OD1_443_444  <--->      LYS28    P          NZ_380     3.0\n",
      "@>      ASP98    P   OD1_1463_1464  <--->     ARG101    P   NH1_1516_1519     3.1\n",
      "@>      ARG27    P     NH1_356_359  <--->      GLU23    P     OE1_290_291     3.7\n",
      "@>      ARG65    P     NH1_938_941  <--->     GLU139    P   OE1_2125_2126     3.8\n",
      "@>      ASP98    P   OD1_1463_1464  <--->     LYS102    P         NZ_1540     3.9\n",
      "@>      ARG58    P     NH1_829_832  <--->      ASP56    P     OD1_788_789     3.9\n",
      "@>      ASP92    P   OD1_1368_1369  <--->      ARG18    P     NH1_217_220     4.1\n",
      "@>     GLU114    P   OE1_1735_1736  <--->     LYS112    P         NZ_1699     4.1\n",
      "@>     ARG147    P   NH1_2257_2260  <--->     ASP120    P   OD1_1824_1825     4.2\n",
      "@>     LYS110    P         NZ_1667  <--->      ASP86    P   OD1_1269_1270     4.2\n",
      "@>     GLU114    P   OE1_1735_1736  <--->     HSE157    P        NE2_2418     4.4\n",
      "@>     ASP129    P   OD1_1978_1979  <--->      ARG18    P     NH1_217_220     4.6\n",
      "@>      ARG75    P   NH1_1090_1093  <--->      ASP42    P     OD1_609_610     4.6\n",
      "@>      HSE72    P        NE2_1042  <--->      GLU23    P     OE1_290_291     5.0\n",
      "@>      HSE72    P        NE2_1042  <--->      ASP42    P     OD1_609_610     5.4\n",
      "@>      ASP81    P   OD1_1193_1194  <--->      ARG40    P     NH1_577_580     5.8\n",
      "@> Number of detected salt bridges: 18.\n",
      "@> Salt Bridges are replaced\n",
      "@> Calculating repulsive ionic bonding.\n",
      "@>      ARG40    P     NH1_577_580  <--->      ARG75    P   NH1_1090_1093     6.7\n",
      "@>      GLU80    P   OE1_1181_1182  <--->      ASP81    P   OD1_1193_1194     7.0\n",
      "@>      ASP92    P   OD1_1368_1369  <--->     ASP129    P   OD1_1978_1979     7.6\n",
      "@>     LYS110    P         NZ_1667  <--->      ARG40    P     NH1_577_580     7.8\n",
      "@>     ASP137    P   OD1_2090_2091  <--->     GLU128    P   OE1_1966_1967     8.9\n",
      "@> Number of detected Repulsive Ionic Bonding interactions: 5.\n",
      "@> Repulsive Ionic Bonding are replaced\n",
      "@> Calculating cation-Pi interactions.\n",
      "@>      PHE85   P   1248_1249_1251_1253_1255_1257  <--->      ARG40   P                     NH1_577_580     3.7\n",
      "@>      HSE66   P             953_954_955_957_959  <--->      ARG65   P                     NH1_938_941     4.5\n",
      "@>     HSE157   P2414_2415_2416_2418_2420_2423_2424  <--->     LYS112   P                         NZ_1699     4.8\n",
      "@>     PHE138   P   2101_2102_2104_2106_2108_2110  <--->      ARG58   P                     NH1_829_832     5.0\n",
      "@>     TYR131   P   2003_2004_2006_2008_2011_2013  <--->      ARG58   P                     NH1_829_832     5.1\n",
      "@>      PHE85   P   1248_1249_1251_1253_1255_1257  <--->      ARG75   P                   NH1_1090_1093     6.3\n",
      "@>      TRP39   P         549_550_551_553_555_557  <--->       LYS6   P                           NZ_32     6.6\n",
      "@>      TYR87   P   1280_1281_1283_1285_1288_1290  <--->     LYS112   P                         NZ_1699     6.8\n",
      "@> Number of detected cation-pi interactions: 8.\n",
      "@> Pi-Cation interactions are replaced\n"
     ]
    }
   ],
   "source": [
    "sb2 = calcSaltBridges(atoms, distA=6)\n",
    "interactions.setNewSaltBridges(sb2)\n",
    "\n",
    "rib2 = calcRepulsiveIonicBonding(atoms, distA=9)\n",
    "interactions.setNewRepulsiveIonicBonding(rib2)\n",
    "\n",
    "picat2 = calcPiCation(atoms, distA=7)\n",
    "interactions.setNewPiCation(picat2)    "
   ]
  },
  {
   "cell_type": "markdown",
   "id": "a937aba0",
   "metadata": {},
   "source": [
    "# Assess the functional significance of a residue"
   ]
  },
  {
   "cell_type": "markdown",
   "id": "53cb149e",
   "metadata": {},
   "source": [
    "For assessing the functional significance of each residue in protein\n",
    "structure, we counted the number of possible contacts based on:\n",
    "\n",
    "    (1) Hydrogen bonds (HBs)\n",
    "    (2) Salt Bridges (SBs)\n",
    "    (3) Repulsive Ionic Bonding (RIB)  \n",
    "    (4) Pi stacking interactions (PiStack)\n",
    "    (5) Pi-cation interactions (PiCat) \n",
    "    (6) Hydrophobic interactions (HPh) \n",
    "    (7) Disulfide Bonds (DiBs)\n",
    "\n",
    "\n",
    "To compute the weighted interactions use the \n",
    ":meth:`.Interactions.buildInteractionMatrix` method:"
   ]
  },
  {
   "cell_type": "code",
   "execution_count": 26,
   "id": "d2e7889f",
   "metadata": {},
   "outputs": [
    {
     "name": "stderr",
     "output_type": "stream",
     "text": [
      "@> Calculating interactions\n"
     ]
    }
   ],
   "source": [
    "matrix = interactions.buildInteractionMatrix()"
   ]
  },
  {
   "cell_type": "markdown",
   "id": "4b6e3674",
   "metadata": {},
   "source": [
    "The results can be displayed in the following way:"
   ]
  },
  {
   "cell_type": "code",
   "execution_count": 27,
   "id": "4db6c246",
   "metadata": {},
   "outputs": [
    {
     "name": "stderr",
     "output_type": "stream",
     "text": [
      "@> WARNING matplotlib 3.6 and later are not compatible with interactive matrices\n",
      "@> WARNING matplotlib 3.6 and later are not compatible with interactive matrices\n"
     ]
    },
    {
     "data": {
      "image/png": "[encoded data removed]",
      "text/plain": [
       "<Figure size 640x480 with 2 Axes>"
      ]
     },
     "metadata": {},
     "output_type": "display_data"
    }
   ],
   "source": [
    "import matplotlib.pylab as plt\n",
    "\n",
    "showAtomicMatrix(matrix, atoms=atoms.ca, cmap='seismic', markersize=5)\n",
    "plt.xlabel('Residue')\n",
    "plt.ylabel('Residue')\n",
    "plt.clim([-3,3])"
   ]
  },
  {
   "cell_type": "markdown",
   "id": "c2a37e61",
   "metadata": {},
   "source": [
    "The total number of interaction for each residue can be displayed on the plot using\n",
    ":func:`.showCumulativeInteractionTypes()` function."
   ]
  },
  {
   "cell_type": "code",
   "execution_count": 28,
   "id": "133b5e3c",
   "metadata": {},
   "outputs": [
    {
     "name": "stderr",
     "output_type": "stream",
     "text": [
      "@> Calculating interactions\n",
      "@> Calculating interactions\n",
      "@> Calculating interactions\n",
      "@> Calculating interactions\n",
      "@> Calculating interactions\n",
      "@> Calculating interactions\n",
      "@> Calculating interactions\n"
     ]
    },
    {
     "data": {
      "text/plain": [
       "(array([0., 1., 0., 0., 0., 0., 0., 0., 0., 0., 0., 1., 0., 0., 0., 0., 0.,\n",
       "        0., 0., 0., 0., 0., 0., 0., 0., 0., 0., 0., 0., 0., 0., 0., 0., 0.,\n",
       "        0., 1., 0., 0., 0., 0., 0., 0., 0., 0., 0., 1., 0., 0., 2., 0., 0.,\n",
       "        2., 0., 1., 0., 0., 0., 0., 0., 0., 0., 1., 0., 0., 0., 0., 0., 0.,\n",
       "        0., 1., 0., 0., 0., 0., 0., 0., 0., 0., 0., 0., 0., 0., 0., 0., 0.,\n",
       "        0., 0., 0., 0., 0., 0., 0., 0., 0., 0., 0., 0., 0., 0., 0., 0., 0.,\n",
       "        0., 0., 0., 0., 0., 0., 0., 0., 0., 0., 0., 0., 0., 0., 0., 0., 0.,\n",
       "        0., 0., 0., 0., 0., 0., 0., 0., 0., 0., 0., 0., 0., 0., 0., 2., 0.,\n",
       "        0., 0., 1., 0., 0., 0., 0., 0., 0., 0., 0., 0., 0., 0., 0., 0., 0.]),\n",
       " array([0., 0., 0., 0., 0., 0., 0., 0., 0., 0., 0., 0., 0., 2., 0., 0., 0.,\n",
       "        0., 2., 0., 0., 0., 1., 1., 0., 0., 0., 1., 0., 0., 0., 0., 0., 0.,\n",
       "        0., 1., 0., 2., 0., 0., 0., 0., 0., 0., 0., 0., 0., 0., 0., 0., 0.,\n",
       "        1., 0., 1., 0., 0., 0., 0., 0., 0., 1., 1., 0., 0., 0., 0., 0., 2.,\n",
       "        0., 0., 2., 0., 0., 0., 0., 0., 2., 0., 0., 0., 0., 1., 0., 0., 0.,\n",
       "        0., 0., 1., 0., 0., 0., 0., 0., 2., 0., 0., 1., 1., 0., 0., 0., 0.,\n",
       "        0., 0., 0., 1., 0., 1., 0., 2., 0., 0., 0., 0., 0., 1., 0., 0., 0.,\n",
       "        0., 0., 0., 0., 0., 1., 0., 0., 0., 0., 0., 0., 0., 0., 0., 2., 0.,\n",
       "        0., 0., 0., 0., 0., 0., 1., 0., 0., 0., 0., 0., 0., 0., 0., 0., 1.]),\n",
       " array([0., 0., 0., 0., 0., 0., 0., 0., 0., 0., 0., 0., 0., 0., 0., 0., 0.,\n",
       "        0., 0., 0., 0., 0., 0., 0., 0., 0., 0., 0., 0., 0., 0., 0., 0., 0.,\n",
       "        0., 2., 0., 0., 0., 0., 0., 0., 0., 0., 0., 0., 0., 0., 0., 0., 0.,\n",
       "        0., 0., 0., 0., 0., 0., 0., 0., 0., 0., 0., 0., 0., 0., 0., 0., 0.,\n",
       "        0., 0., 1., 0., 0., 0., 0., 1., 1., 0., 0., 0., 0., 0., 0., 0., 0.,\n",
       "        0., 0., 1., 0., 0., 0., 0., 0., 0., 0., 0., 0., 0., 0., 0., 0., 0.,\n",
       "        0., 0., 0., 1., 0., 0., 0., 0., 0., 0., 0., 0., 0., 0., 0., 0., 0.,\n",
       "        0., 0., 0., 0., 1., 1., 0., 0., 0., 0., 0., 0., 0., 1., 0., 0., 0.,\n",
       "        0., 0., 0., 0., 0., 0., 0., 0., 0., 0., 0., 0., 0., 0., 0., 0., 0.]),\n",
       " array([0., 0., 0., 0., 0., 0., 0., 0., 0., 0., 0., 0., 0., 0., 0., 0., 0.,\n",
       "        0., 0., 0., 0., 1., 0., 0., 0., 0., 0., 0., 0., 0., 0., 0., 0., 0.,\n",
       "        1., 0., 0., 0., 0., 0., 0., 0., 0., 0., 0., 0., 0., 0., 0., 0., 0.,\n",
       "        0., 0., 0., 0., 0., 0., 0., 0., 0., 0., 1., 0., 0., 0., 0., 0., 0.,\n",
       "        0., 0., 0., 0., 0., 0., 0., 0., 0., 0., 0., 0., 0., 0., 0., 0., 0.,\n",
       "        0., 0., 0., 0., 0., 0., 0., 0., 0., 0., 0., 0., 0., 0., 0., 0., 0.,\n",
       "        0., 0., 0., 0., 0., 0., 0., 0., 0., 0., 0., 0., 1., 0., 0., 0., 0.,\n",
       "        0., 0., 0., 0., 0., 0., 0., 1., 1., 0., 0., 0., 0., 0., 0., 0., 0.,\n",
       "        0., 1., 0., 0., 0., 0., 0., 0., 0., 0., 0., 0., 0., 0., 0., 0., 1.]),\n",
       " array([0., 1., 0., 0., 0., 0., 0., 0., 0., 0., 0., 0., 0., 0., 0., 0., 0.,\n",
       "        0., 0., 0., 0., 0., 0., 0., 0., 0., 0., 0., 0., 0., 0., 0., 0., 0.,\n",
       "        1., 1., 0., 0., 0., 0., 0., 0., 0., 0., 0., 0., 0., 0., 0., 0., 0.,\n",
       "        0., 0., 2., 0., 0., 0., 0., 0., 0., 1., 1., 0., 0., 0., 0., 0., 0.,\n",
       "        0., 0., 1., 0., 0., 0., 0., 0., 0., 0., 0., 0., 2., 0., 1., 0., 0.,\n",
       "        0., 0., 0., 0., 0., 0., 0., 0., 0., 0., 0., 0., 0., 0., 0., 0., 0.,\n",
       "        0., 0., 0., 0., 0., 2., 0., 0., 0., 0., 0., 0., 0., 0., 0., 0., 0.,\n",
       "        0., 0., 0., 0., 0., 0., 0., 1., 0., 0., 0., 0., 0., 0., 1., 0., 0.,\n",
       "        0., 0., 0., 0., 0., 0., 0., 0., 0., 0., 0., 0., 0., 0., 0., 0., 1.]),\n",
       " array([0., 1., 0., 2., 3., 1., 1., 0., 0., 0., 0., 2., 0., 0., 0., 0., 2.,\n",
       "        1., 0., 1., 2., 3., 0., 0., 1., 1., 0., 0., 0., 0., 1., 0., 0., 0.,\n",
       "        3., 0., 1., 0., 0., 1., 0., 0., 0., 0., 0., 0., 0., 0., 0., 0., 0.,\n",
       "        0., 0., 0., 0., 0., 0., 0., 4., 0., 0., 0., 0., 1., 0., 1., 0., 0.,\n",
       "        0., 1., 0., 0., 2., 0., 1., 0., 0., 1., 0., 0., 1., 0., 1., 3., 2.,\n",
       "        0., 1., 0., 0., 0., 0., 1., 0., 0., 1., 0., 0., 0., 0., 0., 0., 1.,\n",
       "        0., 0., 0., 0., 1., 0., 1., 0., 1., 1., 0., 0., 1., 0., 0., 0., 0.,\n",
       "        0., 2., 1., 3., 0., 0., 0., 1., 0., 0., 0., 0., 0., 0., 1., 0., 0.,\n",
       "        1., 2., 0., 0., 0., 1., 0., 0., 0., 0., 0., 1., 1., 0., 0., 2., 0.]),\n",
       " array([0., 0., 0., 0., 0., 0., 0., 0., 0., 0., 0., 0., 0., 0., 0., 0., 0.,\n",
       "        0., 0., 0., 0., 0., 0., 0., 0., 0., 0., 0., 0., 0., 0., 0., 0., 0.,\n",
       "        0., 0., 0., 0., 0., 0., 0., 0., 0., 0., 0., 0., 0., 0., 0., 0., 0.,\n",
       "        0., 0., 0., 0., 0., 0., 0., 0., 0., 0., 0., 0., 0., 0., 0., 0., 0.,\n",
       "        0., 0., 0., 0., 0., 0., 0., 0., 0., 0., 0., 0., 0., 0., 0., 0., 0.,\n",
       "        0., 0., 0., 0., 0., 0., 0., 0., 0., 0., 0., 0., 0., 0., 0., 0., 0.,\n",
       "        0., 0., 0., 0., 0., 0., 0., 0., 0., 0., 0., 0., 0., 0., 0., 0., 0.,\n",
       "        0., 0., 0., 0., 0., 0., 0., 0., 0., 0., 0., 0., 0., 0., 0., 0., 0.,\n",
       "        0., 0., 0., 0., 0., 0., 0., 0., 0., 0., 0., 0., 0., 0., 0., 0., 0.]))"
      ]
     },
     "execution_count": 28,
     "metadata": {},
     "output_type": "execute_result"
    },
    {
     "data": {
      "image/png": "[encoded data removed]",
      "text/plain": [
       "<Figure size 2000x600 with 1 Axes>"
      ]
     },
     "metadata": {},
     "output_type": "display_data"
    }
   ],
   "source": [
    "interactions.showCumulativeInteractionTypes()"
   ]
  },
  {
   "cell_type": "markdown",
   "id": "ac02da57",
   "metadata": {},
   "source": [
    "The results with the higest number of possible contacts can be saved in PDB\n",
    "file. They will be restored in Occupancy column and display in VMD_."
   ]
  },
  {
   "cell_type": "code",
   "execution_count": 29,
   "id": "8eda02a8",
   "metadata": {},
   "outputs": [
    {
     "name": "stderr",
     "output_type": "stream",
     "text": [
      "@> PDB file saved.\n"
     ]
    }
   ],
   "source": [
    "interactions.saveInteractionsPDB(filename='5kqm_meanMatrix.pdb')"
   ]
  },
  {
   "cell_type": "markdown",
   "id": "84574f0f",
   "metadata": {},
   "source": [
    "# Exclude one type of interactions"
   ]
  },
  {
   "cell_type": "code",
   "execution_count": 30,
   "id": "09a6effc",
   "metadata": {},
   "outputs": [
    {
     "name": "stderr",
     "output_type": "stream",
     "text": [
      "@> Calculating interactions\n"
     ]
    }
   ],
   "source": [
    "matrix = interactions.buildInteractionMatrix(RIB=0, HBs=0, HPh=0, DiBs=0)"
   ]
  },
  {
   "cell_type": "code",
   "execution_count": 31,
   "id": "bfc60f33",
   "metadata": {},
   "outputs": [
    {
     "name": "stderr",
     "output_type": "stream",
     "text": [
      "@> WARNING matplotlib 3.6 and later are not compatible with interactive matrices\n",
      "@> WARNING matplotlib 3.6 and later are not compatible with interactive matrices\n"
     ]
    },
    {
     "data": {
      "image/png": "[encoded data removed]",
      "text/plain": [
       "<Figure size 640x480 with 2 Axes>"
      ]
     },
     "metadata": {},
     "output_type": "display_data"
    }
   ],
   "source": [
    "showAtomicMatrix(matrix, atoms=atoms.ca, cmap='seismic', markersize=8)\n",
    "plt.xlabel('Residue')\n",
    "plt.ylabel('Residue')\n",
    "plt.clim([-3,3])"
   ]
  },
  {
   "cell_type": "code",
   "execution_count": 32,
   "id": "5f90825f",
   "metadata": {},
   "outputs": [
    {
     "name": "stderr",
     "output_type": "stream",
     "text": [
      "@> Calculating interactions\n",
      "@> Calculating interactions\n",
      "@> Calculating interactions\n",
      "@> Calculating interactions\n",
      "@> Calculating interactions\n",
      "@> Calculating interactions\n",
      "@> Calculating interactions\n"
     ]
    },
    {
     "data": {
      "text/plain": [
       "(array([0., 1., 0., 0., 0., 0., 0., 0., 0., 0., 0., 1., 0., 0., 0., 0., 0.,\n",
       "        0., 0., 0., 0., 0., 0., 0., 0., 0., 0., 0., 0., 0., 0., 0., 0., 0.,\n",
       "        0., 1., 0., 0., 0., 0., 0., 0., 0., 0., 0., 1., 0., 0., 2., 0., 0.,\n",
       "        2., 0., 1., 0., 0., 0., 0., 0., 0., 0., 1., 0., 0., 0., 0., 0., 0.,\n",
       "        0., 1., 0., 0., 0., 0., 0., 0., 0., 0., 0., 0., 0., 0., 0., 0., 0.,\n",
       "        0., 0., 0., 0., 0., 0., 0., 0., 0., 0., 0., 0., 0., 0., 0., 0., 0.,\n",
       "        0., 0., 0., 0., 0., 0., 0., 0., 0., 0., 0., 0., 0., 0., 0., 0., 0.,\n",
       "        0., 0., 0., 0., 0., 0., 0., 0., 0., 0., 0., 0., 0., 0., 0., 2., 0.,\n",
       "        0., 0., 1., 0., 0., 0., 0., 0., 0., 0., 0., 0., 0., 0., 0., 0., 0.]),\n",
       " array([0., 0., 0., 0., 0., 0., 0., 0., 0., 0., 0., 0., 0., 2., 0., 0., 0.,\n",
       "        0., 2., 0., 0., 0., 1., 1., 0., 0., 0., 1., 0., 0., 0., 0., 0., 0.,\n",
       "        0., 1., 0., 2., 0., 0., 0., 0., 0., 0., 0., 0., 0., 0., 0., 0., 0.,\n",
       "        1., 0., 1., 0., 0., 0., 0., 0., 0., 1., 1., 0., 0., 0., 0., 0., 2.,\n",
       "        0., 0., 2., 0., 0., 0., 0., 0., 2., 0., 0., 0., 0., 1., 0., 0., 0.,\n",
       "        0., 0., 1., 0., 0., 0., 0., 0., 2., 0., 0., 1., 1., 0., 0., 0., 0.,\n",
       "        0., 0., 0., 1., 0., 1., 0., 2., 0., 0., 0., 0., 0., 1., 0., 0., 0.,\n",
       "        0., 0., 0., 0., 0., 1., 0., 0., 0., 0., 0., 0., 0., 0., 0., 2., 0.,\n",
       "        0., 0., 0., 0., 0., 0., 1., 0., 0., 0., 0., 0., 0., 0., 0., 0., 1.]),\n",
       " array([0., 0., 0., 0., 0., 0., 0., 0., 0., 0., 0., 0., 0., 0., 0., 0., 0.,\n",
       "        0., 0., 0., 0., 0., 0., 0., 0., 0., 0., 0., 0., 0., 0., 0., 0., 0.,\n",
       "        0., 2., 0., 0., 0., 0., 0., 0., 0., 0., 0., 0., 0., 0., 0., 0., 0.,\n",
       "        0., 0., 0., 0., 0., 0., 0., 0., 0., 0., 0., 0., 0., 0., 0., 0., 0.,\n",
       "        0., 0., 1., 0., 0., 0., 0., 1., 1., 0., 0., 0., 0., 0., 0., 0., 0.,\n",
       "        0., 0., 1., 0., 0., 0., 0., 0., 0., 0., 0., 0., 0., 0., 0., 0., 0.,\n",
       "        0., 0., 0., 1., 0., 0., 0., 0., 0., 0., 0., 0., 0., 0., 0., 0., 0.,\n",
       "        0., 0., 0., 0., 1., 1., 0., 0., 0., 0., 0., 0., 0., 1., 0., 0., 0.,\n",
       "        0., 0., 0., 0., 0., 0., 0., 0., 0., 0., 0., 0., 0., 0., 0., 0., 0.]),\n",
       " array([0., 0., 0., 0., 0., 0., 0., 0., 0., 0., 0., 0., 0., 0., 0., 0., 0.,\n",
       "        0., 0., 0., 0., 1., 0., 0., 0., 0., 0., 0., 0., 0., 0., 0., 0., 0.,\n",
       "        1., 0., 0., 0., 0., 0., 0., 0., 0., 0., 0., 0., 0., 0., 0., 0., 0.,\n",
       "        0., 0., 0., 0., 0., 0., 0., 0., 0., 0., 1., 0., 0., 0., 0., 0., 0.,\n",
       "        0., 0., 0., 0., 0., 0., 0., 0., 0., 0., 0., 0., 0., 0., 0., 0., 0.,\n",
       "        0., 0., 0., 0., 0., 0., 0., 0., 0., 0., 0., 0., 0., 0., 0., 0., 0.,\n",
       "        0., 0., 0., 0., 0., 0., 0., 0., 0., 0., 0., 0., 1., 0., 0., 0., 0.,\n",
       "        0., 0., 0., 0., 0., 0., 0., 1., 1., 0., 0., 0., 0., 0., 0., 0., 0.,\n",
       "        0., 1., 0., 0., 0., 0., 0., 0., 0., 0., 0., 0., 0., 0., 0., 0., 1.]),\n",
       " array([0., 1., 0., 0., 0., 0., 0., 0., 0., 0., 0., 0., 0., 0., 0., 0., 0.,\n",
       "        0., 0., 0., 0., 0., 0., 0., 0., 0., 0., 0., 0., 0., 0., 0., 0., 0.,\n",
       "        1., 1., 0., 0., 0., 0., 0., 0., 0., 0., 0., 0., 0., 0., 0., 0., 0.,\n",
       "        0., 0., 2., 0., 0., 0., 0., 0., 0., 1., 1., 0., 0., 0., 0., 0., 0.,\n",
       "        0., 0., 1., 0., 0., 0., 0., 0., 0., 0., 0., 0., 2., 0., 1., 0., 0.,\n",
       "        0., 0., 0., 0., 0., 0., 0., 0., 0., 0., 0., 0., 0., 0., 0., 0., 0.,\n",
       "        0., 0., 0., 0., 0., 2., 0., 0., 0., 0., 0., 0., 0., 0., 0., 0., 0.,\n",
       "        0., 0., 0., 0., 0., 0., 0., 1., 0., 0., 0., 0., 0., 0., 1., 0., 0.,\n",
       "        0., 0., 0., 0., 0., 0., 0., 0., 0., 0., 0., 0., 0., 0., 0., 0., 1.]),\n",
       " array([0., 0., 0., 0., 0., 0., 0., 0., 0., 0., 0., 0., 0., 0., 0., 0., 0.,\n",
       "        0., 0., 0., 0., 0., 0., 0., 0., 0., 0., 0., 0., 0., 0., 0., 0., 0.,\n",
       "        0., 0., 0., 0., 0., 0., 0., 0., 0., 0., 0., 0., 0., 0., 0., 0., 0.,\n",
       "        0., 0., 0., 0., 0., 0., 0., 0., 0., 0., 0., 0., 0., 0., 0., 0., 0.,\n",
       "        0., 0., 0., 0., 0., 0., 0., 0., 0., 0., 0., 0., 0., 0., 0., 0., 0.,\n",
       "        0., 0., 0., 0., 0., 0., 0., 0., 0., 0., 0., 0., 0., 0., 0., 0., 0.,\n",
       "        0., 0., 0., 0., 0., 0., 0., 0., 0., 0., 0., 0., 0., 0., 0., 0., 0.,\n",
       "        0., 0., 0., 0., 0., 0., 0., 0., 0., 0., 0., 0., 0., 0., 0., 0., 0.,\n",
       "        0., 0., 0., 0., 0., 0., 0., 0., 0., 0., 0., 0., 0., 0., 0., 0., 0.]),\n",
       " array([0., 0., 0., 0., 0., 0., 0., 0., 0., 0., 0., 0., 0., 0., 0., 0., 0.,\n",
       "        0., 0., 0., 0., 0., 0., 0., 0., 0., 0., 0., 0., 0., 0., 0., 0., 0.,\n",
       "        0., 0., 0., 0., 0., 0., 0., 0., 0., 0., 0., 0., 0., 0., 0., 0., 0.,\n",
       "        0., 0., 0., 0., 0., 0., 0., 0., 0., 0., 0., 0., 0., 0., 0., 0., 0.,\n",
       "        0., 0., 0., 0., 0., 0., 0., 0., 0., 0., 0., 0., 0., 0., 0., 0., 0.,\n",
       "        0., 0., 0., 0., 0., 0., 0., 0., 0., 0., 0., 0., 0., 0., 0., 0., 0.,\n",
       "        0., 0., 0., 0., 0., 0., 0., 0., 0., 0., 0., 0., 0., 0., 0., 0., 0.,\n",
       "        0., 0., 0., 0., 0., 0., 0., 0., 0., 0., 0., 0., 0., 0., 0., 0., 0.,\n",
       "        0., 0., 0., 0., 0., 0., 0., 0., 0., 0., 0., 0., 0., 0., 0., 0., 0.]))"
      ]
     },
     "execution_count": 32,
     "metadata": {},
     "output_type": "execute_result"
    },
    {
     "data": {
      "image/png": "[encoded data removed]",
      "text/plain": [
       "<Figure size 2000x600 with 1 Axes>"
      ]
     },
     "metadata": {},
     "output_type": "display_data"
    }
   ],
   "source": [
    "interactions.showCumulativeInteractionTypes(HPh=0, DiBs=0)"
   ]
  },
  {
   "cell_type": "code",
   "execution_count": null,
   "id": "283563d8",
   "metadata": {},
   "outputs": [],
   "source": []
  }
 ],
 "metadata": {
  "kernelspec": {
   "display_name": "Python 3 (ipykernel)",
   "language": "python",
   "name": "python3"
  },
  "language_info": {
   "codemirror_mode": {
    "name": "ipython",
    "version": 3
   },
   "file_extension": ".py",
   "mimetype": "text/x-python",
   "name": "python",
   "nbconvert_exporter": "python",
   "pygments_lexer": "ipython3",
   "version": "3.9.15"
  }
 },
 "nbformat": 4,
 "nbformat_minor": 5
}
