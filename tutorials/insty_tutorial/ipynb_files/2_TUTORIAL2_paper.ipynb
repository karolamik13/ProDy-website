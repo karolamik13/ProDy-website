{
 "cells": [
  {
   "cell_type": "markdown",
   "id": "4c2381c7",
   "metadata": {},
   "source": [
    "# PDB structure without hydrogens"
   ]
  },
  {
   "cell_type": "markdown",
   "id": "2cc19034",
   "metadata": {},
   "source": [
    "Very often PDB structures downloaded directly from the PDB database will not\n",
    "have determined hydrogen atoms that are required, for example, for predicting\n",
    "hydrogen bonds. In such case, we can use :func:`.addHydrogens` function.\n",
    "It will allow us to use one of two available methods (*openbabel* or *pdbfixer*)\n",
    "to predict the position of hydrogen atoms in protein structure.\n",
    "\n",
    "To use one of those functions, we need to install additional Python package(s).\n",
    "For Anaconda users the installation will be the following:\n",
    "\n",
    "Installation of Openbabel:\n",
    ":: conda install -c conda-forge openbabel   \n",
    "\n",
    "Installation of PDBfixer:\n",
    ":: conda install -c conda-forge pdbfixer"
   ]
  },
  {
   "cell_type": "markdown",
   "id": "d81b4275",
   "metadata": {},
   "source": [
    "# Add missing hydrogen atoms to the structure"
   ]
  },
  {
   "cell_type": "markdown",
   "id": "c20551d5",
   "metadata": {},
   "source": [
    "We start by fetching the PDB file with **5KQM** code (*5kqm.pdb*). Openbabel\n",
    "requires having the PDB file in the same folder. Therefore, it needs to be \n",
    "downloaded and saved to successfully perform the operation with adding \n",
    "missing hydrogens. A new file will be saved with the same name with the\n",
    "additional prefix 'addH_'."
   ]
  },
  {
   "cell_type": "code",
   "execution_count": 1,
   "id": "4d0864a6",
   "metadata": {},
   "outputs": [],
   "source": [
    "from prody import *\n",
    "from pylab import *\n",
    "import matplotlib"
   ]
  },
  {
   "cell_type": "markdown",
   "id": "6ea812f6",
   "metadata": {},
   "source": [
    "Openbable or PDBFixer require PDB file saved in the direcory. Therefore\n",
    "first it needs to be downloaded."
   ]
  },
  {
   "cell_type": "code",
   "execution_count": 2,
   "id": "c26f0cd8",
   "metadata": {},
   "outputs": [
    {
     "name": "stderr",
     "output_type": "stream",
     "text": [
      "@> PDB file is found in working directory (5kqm.pdb).\n"
     ]
    },
    {
     "data": {
      "text/plain": [
       "'5kqm.pdb'"
      ]
     },
     "execution_count": 2,
     "metadata": {},
     "output_type": "execute_result"
    }
   ],
   "source": [
    "fetchPDB('5kqm', compressed=False)"
   ]
  },
  {
   "cell_type": "markdown",
   "id": "c8018976",
   "metadata": {},
   "source": [
    "When PDB file is already in the local directory we can choose between\n",
    "Openbabel and PDBFixer to add missing hydrogen bonds to the protein\n",
    "structure:\n",
    "\n",
    "Openbabel:"
   ]
  },
  {
   "cell_type": "code",
   "execution_count": 3,
   "id": "911ee239",
   "metadata": {},
   "outputs": [
    {
     "name": "stderr",
     "output_type": "stream",
     "text": [
      "==============================\n",
      "*** Open Babel Warning  in PerceiveBondOrders\n",
      "  Failed to kekulize aromatic bonds in OBMol::PerceiveBondOrders (title is 5kqm.pdb)\n",
      "\n",
      "@> Hydrogens were added to the structure. Structure addH_5kqm.pdb is saved in the local directry.\n"
     ]
    },
    {
     "data": {
      "text/plain": [
       "'addH_5kqm.pdb'"
      ]
     },
     "execution_count": 3,
     "metadata": {},
     "output_type": "execute_result"
    }
   ],
   "source": [
    "PDBname = '5kqm.pdb'\n",
    "addMissingAtoms(PDBname, method='openbabel')"
   ]
  },
  {
   "cell_type": "markdown",
   "id": "9b56928a",
   "metadata": {},
   "source": [
    "PDBfixer:\n"
   ]
  },
  {
   "cell_type": "code",
   "execution_count": 4,
   "id": "e58e1875",
   "metadata": {},
   "outputs": [
    {
     "name": "stderr",
     "output_type": "stream",
     "text": [
      "@> Hydrogens were added to the structure. New structure is saved as addH_5kqm.pdb.\n"
     ]
    },
    {
     "data": {
      "text/plain": [
       "'addH_5kqm.pdb'"
      ]
     },
     "execution_count": 4,
     "metadata": {},
     "output_type": "execute_result"
    }
   ],
   "source": [
    "addMissingAtoms(PDBname, method='pdbfixer')"
   ]
  },
  {
   "cell_type": "markdown",
   "id": "52e1fe91",
   "metadata": {},
   "source": [
    "Next, we can parse the saved structure with hydrogen atoms to ProDy and analyze\n",
    "it in the same way as in the previous paragraph."
   ]
  },
  {
   "cell_type": "code",
   "execution_count": 5,
   "id": "cd872ef6",
   "metadata": {
    "scrolled": true
   },
   "outputs": [
    {
     "name": "stderr",
     "output_type": "stream",
     "text": [
      "@> 2800 atoms and 1 coordinate set(s) were parsed in 0.03s.\n"
     ]
    }
   ],
   "source": [
    "atoms = parsePDB('addH_'+str(PDBname)).select('protein')"
   ]
  }
 ],
 "metadata": {
  "kernelspec": {
   "display_name": "Python 3 (ipykernel)",
   "language": "python",
   "name": "python3"
  },
  "language_info": {
   "codemirror_mode": {
    "name": "ipython",
    "version": 3
   },
   "file_extension": ".py",
   "mimetype": "text/x-python",
   "name": "python",
   "nbconvert_exporter": "python",
   "pygments_lexer": "ipython3",
   "version": "3.9.15"
  }
 },
 "nbformat": 4,
 "nbformat_minor": 5
}
