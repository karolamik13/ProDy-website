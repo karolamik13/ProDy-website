{
 "cells": [
  {
   "cell_type": "code",
   "execution_count": 1,
   "metadata": {},
   "outputs": [],
   "source": [
    "from prody import *\n",
    "from pylab import *"
   ]
  },
  {
   "cell_type": "markdown",
   "metadata": {},
   "source": [
    "# Finding significant crystallographic waters for Aurora kinase A"
   ]
  },
  {
   "cell_type": "markdown",
   "metadata": {},
   "source": [
    "### PDBFixer\n",
    "### Method: cluster\n",
    "### Various distC and numC"
   ]
  },
  {
   "cell_type": "markdown",
   "metadata": {},
   "source": [
    "Now, we will illustrate how to find significant protein-water interactions that are observed across different PDB structures for the Aurora kinase A family members. To do it, we will combine BLAST approach with WatFinder tool."
   ]
  },
  {
   "cell_type": "markdown",
   "metadata": {},
   "source": [
    "First, we will extract the sequence from the PDB of our interest:"
   ]
  },
  {
   "cell_type": "code",
   "execution_count": 2,
   "metadata": {},
   "outputs": [
    {
     "name": "stderr",
     "output_type": "stream",
     "text": [
      "@> Connecting wwPDB FTP server RCSB PDB (USA).\n",
      "@> 1ol5 downloaded (1ol5.pdb.gz)\n",
      "@> PDB download via FTP completed (1 downloaded, 0 failed).\n",
      "@> 2607 atoms and 1 coordinate set(s) were parsed in 0.03s.\n"
     ]
    }
   ],
   "source": [
    "ref_pdb = '1OL5'\n",
    "ref_prot = parsePDB(ref_pdb)\n",
    "ref_hv = ref_prot.getHierView()['A']\n",
    "sequence = ref_hv.getSequence()"
   ]
  },
  {
   "cell_type": "code",
   "execution_count": 3,
   "metadata": {},
   "outputs": [
    {
     "data": {
      "text/plain": [
       "'SKKRQWALEDFEIGRPLGKGKFGNVYLAREKQSKFILALKVLFKAQLEKAGVEHQLRREVEIQSHLRHPNILRLYGYFHDATRVYLILEYAPLGTVYRELQKLSKFDEQRTATYITELANALSYCHSKRVIHRDIKPENLLLGSAGELKIADFGWSVHAPSSRRTTLCGTLDYLPPEMIEGRMHDEKVDLWSLGVLCYEFLVGKPPFEANTYQETYKRISRVEFTFPDFVTEGARDLISRLLKHNPSQRPMLREVLEHPWITANS'"
      ]
     },
     "execution_count": 3,
     "metadata": {},
     "output_type": "execute_result"
    }
   ],
   "source": [
    "sequence"
   ]
  },
  {
   "cell_type": "markdown",
   "metadata": {},
   "source": [
    "Based on the sequence download results from BLAST server:"
   ]
  },
  {
   "cell_type": "code",
   "execution_count": 4,
   "metadata": {},
   "outputs": [],
   "source": [
    "if 1:\n",
    "    blast_record = blastPDB(sequence)"
   ]
  },
  {
   "cell_type": "code",
   "execution_count": 5,
   "metadata": {},
   "outputs": [],
   "source": [
    "# if time out use:\n",
    "if 0:\n",
    "    while not blast_record.isSuccess:\n",
    "       blast_record.fetch()"
   ]
  },
  {
   "cell_type": "markdown",
   "metadata": {},
   "source": [
    "Save the results from BLAST:"
   ]
  },
  {
   "cell_type": "code",
   "execution_count": 6,
   "metadata": {},
   "outputs": [],
   "source": [
    "import pickle\n",
    "if 1:\n",
    "    pickle.dump(blast_record, open('aurora_blast_record.pkl', 'wb'))\n",
    "blast_record = pickle.load(open('aurora_blast_record.pkl', 'rb'))"
   ]
  },
  {
   "cell_type": "markdown",
   "metadata": {},
   "source": [
    "Define the sequence identity which will be used to select the PDB structures and display which PDB structure and which chains will be used as an initial setup before applying filters."
   ]
  },
  {
   "cell_type": "code",
   "execution_count": 7,
   "metadata": {},
   "outputs": [],
   "source": [
    "pdb_hits = []\n",
    "seqid = 90\n",
    "\n",
    "for key, item in blast_record.getHits(seqid).items():\n",
    "    pdb_hits.append((key, item['chain_id']))"
   ]
  },
  {
   "cell_type": "code",
   "execution_count": 8,
   "metadata": {},
   "outputs": [
    {
     "data": {
      "text/plain": [
       "[('1muo', 'A'),\n",
       " ('2j4z', 'A'),\n",
       " ('7o2v', 'A'),\n",
       " ('6c83', 'A'),\n",
       " ('6cpe', 'A'),\n",
       " ('6cpf', 'A'),\n",
       " ('6cpg', 'A'),\n",
       " ('8sso', 'A'),\n",
       " ('2xng', 'A'),\n",
       " ('4b0g', 'A'),\n",
       " ('8ssp', 'A'),\n",
       " ('2x6d', 'A'),\n",
       " ('2x6e', 'A'),\n",
       " ('4byi', 'A'),\n",
       " ('4byj', 'A'),\n",
       " ('4zs0', 'A'),\n",
       " ('4ztq', 'A'),\n",
       " ('4ztr', 'A'),\n",
       " ('4zts', 'A'),\n",
       " ('5one', 'A'),\n",
       " ('6gra', 'A'),\n",
       " ('6z4y', 'A'),\n",
       " ('7ayh', 'A'),\n",
       " ('7ayi', 'A'),\n",
       " ('5zan', 'A'),\n",
       " ('4c3p', 'A'),\n",
       " ('4c3r', 'A'),\n",
       " ('4o0s', 'A'),\n",
       " ('5g15', 'A'),\n",
       " ('6xka', 'A'),\n",
       " ('2w1d', 'A'),\n",
       " ('2w1e', 'A'),\n",
       " ('2w1f', 'A'),\n",
       " ('4jai', 'A'),\n",
       " ('4jaj', 'A'),\n",
       " ('4uzd', 'A'),\n",
       " ('5obj', 'A'),\n",
       " ('5obr', 'A'),\n",
       " ('3efw', 'A'),\n",
       " ('3o50', 'A'),\n",
       " ('3o51', 'A'),\n",
       " ('3w16', 'A'),\n",
       " ('3w18', 'A'),\n",
       " ('1mq4', 'A'),\n",
       " ('2np8', 'A'),\n",
       " ('2x81', 'A'),\n",
       " ('3myg', 'A'),\n",
       " ('3vap', 'A'),\n",
       " ('6c2r', 'A'),\n",
       " ('6c2t', 'A'),\n",
       " ('2j50', 'A'),\n",
       " ('5dt4', 'A'),\n",
       " ('8jf4', 'A'),\n",
       " ('8jmx', 'A'),\n",
       " ('3w2c', 'A'),\n",
       " ('1ol6', 'A'),\n",
       " ('8guw', 'A'),\n",
       " ('5aad', 'A'),\n",
       " ('5aae', 'A'),\n",
       " ('5aaf', 'A'),\n",
       " ('5aag', 'A'),\n",
       " ('3fdn', 'A'),\n",
       " ('3k5u', 'A'),\n",
       " ('3m11', 'A'),\n",
       " ('4jbo', 'A'),\n",
       " ('4jbp', 'A'),\n",
       " ('4jbq', 'A'),\n",
       " ('2xne', 'A'),\n",
       " ('4o0w', 'A'),\n",
       " ('3unz', 'A'),\n",
       " ('3uo4', 'A'),\n",
       " ('3uo5', 'A'),\n",
       " ('3uo6', 'A'),\n",
       " ('3uod', 'A'),\n",
       " ('3uoh', 'A'),\n",
       " ('3uoj', 'A'),\n",
       " ('3uok', 'A'),\n",
       " ('3uol', 'A'),\n",
       " ('3up2', 'A'),\n",
       " ('3up7', 'A'),\n",
       " ('4dea', 'A'),\n",
       " ('4deb', 'A'),\n",
       " ('4ded', 'A'),\n",
       " ('4dee', 'A'),\n",
       " ('4j8n', 'A'),\n",
       " ('6vpl', 'A'),\n",
       " ('6vpm', 'A'),\n",
       " ('2c6e', 'A'),\n",
       " ('4o0u', 'A'),\n",
       " ('2c6d', 'A'),\n",
       " ('3lau', 'A'),\n",
       " ('4uyn', 'A'),\n",
       " ('4uzh', 'A'),\n",
       " ('5dn3', 'A'),\n",
       " ('5dnr', 'A'),\n",
       " ('8c14', 'A'),\n",
       " ('8c1e', 'A'),\n",
       " ('8c1m', 'A'),\n",
       " ('3e5a', 'A'),\n",
       " ('2xru', 'A'),\n",
       " ('8c15', 'A'),\n",
       " ('8c1d', 'A'),\n",
       " ('8c1f', 'A'),\n",
       " ('8c1g', 'A'),\n",
       " ('8c1h', 'A'),\n",
       " ('8c1i', 'A'),\n",
       " ('5dos', 'A'),\n",
       " ('5dpv', 'A'),\n",
       " ('5dr2', 'A'),\n",
       " ('5dr6', 'A'),\n",
       " ('5dr9', 'A'),\n",
       " ('5drd', 'A'),\n",
       " ('5dt0', 'A'),\n",
       " ('5dt3', 'A'),\n",
       " ('8c1k', 'A'),\n",
       " ('2wqe', 'A'),\n",
       " ('5os2', 'A'),\n",
       " ('7fic', 'A'),\n",
       " ('2bmc', 'A'),\n",
       " ('5odt', 'A'),\n",
       " ('5lxm', 'A'),\n",
       " ('6hjj', 'A'),\n",
       " ('6hjk', 'A'),\n",
       " ('4ceg', 'A'),\n",
       " ('5g1x', 'A'),\n",
       " ('5l8j', 'A'),\n",
       " ('5l8k', 'A'),\n",
       " ('5l8l', 'A'),\n",
       " ('6r49', 'A'),\n",
       " ('6r4a', 'A'),\n",
       " ('6r4b', 'A'),\n",
       " ('6r4c', 'A'),\n",
       " ('6r4d', 'A'),\n",
       " ('1ol5', 'A'),\n",
       " ('1ol7', 'A'),\n",
       " ('6i2u', 'A'),\n",
       " ('6vpg', 'A'),\n",
       " ('2w1c', 'A'),\n",
       " ('2w1g', 'A'),\n",
       " ('6vpj', 'A'),\n",
       " ('4j8m', 'A'),\n",
       " ('5ew9', 'A'),\n",
       " ('3qbn', 'A'),\n",
       " ('3h0y', 'A'),\n",
       " ('3h0z', 'A'),\n",
       " ('3h10', 'A'),\n",
       " ('3p9j', 'A'),\n",
       " ('3ha6', 'A'),\n",
       " ('5os5', 'A'),\n",
       " ('5osd', 'A'),\n",
       " ('3w10', 'A'),\n",
       " ('3nrm', 'A'),\n",
       " ('3r21', 'A'),\n",
       " ('3r22', 'A'),\n",
       " ('4dhf', 'A'),\n",
       " ('5orl', 'A'),\n",
       " ('5orn', 'A'),\n",
       " ('5oro', 'A'),\n",
       " ('5orp', 'A'),\n",
       " ('5orr', 'A'),\n",
       " ('5ors', 'A'),\n",
       " ('5ort', 'A'),\n",
       " ('5orv', 'A'),\n",
       " ('5orw', 'A'),\n",
       " ('5orx', 'A'),\n",
       " ('5ory', 'A'),\n",
       " ('5orz', 'A'),\n",
       " ('5os0', 'A'),\n",
       " ('5os1', 'A'),\n",
       " ('5os3', 'A'),\n",
       " ('5os4', 'A'),\n",
       " ('5os6', 'A'),\n",
       " ('5ose', 'A'),\n",
       " ('5osf', 'A'),\n",
       " ('2wtw', 'A'),\n",
       " ('4bn1', 'A'),\n",
       " ('8of5', 'A'),\n",
       " ('6vpi', 'A'),\n",
       " ('7ztl', 'A'),\n",
       " ('2dwb', 'A'),\n",
       " ('6vph', 'A'),\n",
       " ('2wtv', 'A'),\n",
       " ('4prj', 'A'),\n",
       " ('3coh', 'A'),\n",
       " ('3d14', 'A'),\n",
       " ('3d15', 'A'),\n",
       " ('3d2i', 'A'),\n",
       " ('3d2k', 'A'),\n",
       " ('3dj5', 'A'),\n",
       " ('3dj6', 'A'),\n",
       " ('3dj7', 'A'),\n",
       " ('3daj', 'A')]"
      ]
     },
     "execution_count": 8,
     "metadata": {},
     "output_type": "execute_result"
    }
   ],
   "source": [
    "pdb_hits"
   ]
  },
  {
   "cell_type": "markdown",
   "metadata": {},
   "source": [
    "Now, we will parse multiple PDB structures identified using BLAST, and we will save only the chain that was pointed by BLAST search. Those structures will be saved in the local directory."
   ]
  },
  {
   "cell_type": "code",
   "execution_count": 9,
   "metadata": {},
   "outputs": [
    {
     "name": "stderr",
     "output_type": "stream",
     "text": [
      "@> PDB file is found in working directory (1muo.pdb).\n",
      "@> 2029 atoms and 1 coordinate set(s) were parsed in 0.02s.\n",
      "@> PDB file is found in working directory (2j4z.pdb).\n",
      "@> 4626 atoms and 1 coordinate set(s) were parsed in 0.07s.\n"
     ]
    },
    {
     "name": "stdout",
     "output_type": "stream",
     "text": [
      "1muo A\n",
      "2j4z A\n"
     ]
    },
    {
     "name": "stderr",
     "output_type": "stream",
     "text": [
      "@> PDB file is found in working directory (7o2v.pdb).\n",
      "@> 2265 atoms and 1 coordinate set(s) were parsed in 0.04s.\n",
      "@> PDB file is found in working directory (6c83.pdb).\n"
     ]
    },
    {
     "name": "stdout",
     "output_type": "stream",
     "text": [
      "7o2v A\n",
      "6c83 A\n"
     ]
    },
    {
     "name": "stderr",
     "output_type": "stream",
     "text": [
      "@> 4937 atoms and 1 coordinate set(s) were parsed in 0.07s.\n",
      "@> PDB file is found in working directory (6cpe.pdb).\n",
      "@> 4024 atoms and 1 coordinate set(s) were parsed in 0.04s.\n",
      "@> PDB file is found in working directory (6cpf.pdb).\n"
     ]
    },
    {
     "name": "stdout",
     "output_type": "stream",
     "text": [
      "6cpe A\n",
      "6cpf A\n"
     ]
    },
    {
     "name": "stderr",
     "output_type": "stream",
     "text": [
      "@> 4100 atoms and 1 coordinate set(s) were parsed in 0.04s.\n",
      "@> PDB file is found in working directory (6cpg.pdb).\n",
      "@> 9962 atoms and 1 coordinate set(s) were parsed in 0.10s.\n"
     ]
    },
    {
     "name": "stdout",
     "output_type": "stream",
     "text": [
      "6cpg A\n"
     ]
    },
    {
     "name": "stderr",
     "output_type": "stream",
     "text": [
      "@> PDB file is found in working directory (8sso.pdb).\n",
      "@> 6151 atoms and 1 coordinate set(s) were parsed in 0.08s.\n",
      "@> PDB file is found in working directory (2xng.pdb).\n"
     ]
    },
    {
     "name": "stdout",
     "output_type": "stream",
     "text": [
      "8sso A\n",
      "2xng A\n"
     ]
    },
    {
     "name": "stderr",
     "output_type": "stream",
     "text": [
      "@> 2001 atoms and 1 coordinate set(s) were parsed in 0.02s.\n",
      "@> PDB file is found in working directory (4b0g.pdb).\n",
      "@> 2065 atoms and 1 coordinate set(s) were parsed in 0.02s.\n",
      "@> PDB file is found in working directory (8ssp.pdb).\n",
      "@> 3066 atoms and 1 coordinate set(s) were parsed in 0.04s.\n"
     ]
    },
    {
     "name": "stdout",
     "output_type": "stream",
     "text": [
      "4b0g A\n",
      "8ssp A\n"
     ]
    },
    {
     "name": "stderr",
     "output_type": "stream",
     "text": [
      "@> PDB file is found in working directory (2x6d.pdb).\n",
      "@> 2144 atoms and 1 coordinate set(s) were parsed in 0.02s.\n",
      "@> PDB file is found in working directory (2x6e.pdb).\n",
      "@> 2007 atoms and 1 coordinate set(s) were parsed in 0.02s.\n",
      "@> PDB file is found in working directory (4byi.pdb).\n"
     ]
    },
    {
     "name": "stdout",
     "output_type": "stream",
     "text": [
      "2x6d A\n",
      "2x6e A\n",
      "4byi A\n"
     ]
    },
    {
     "name": "stderr",
     "output_type": "stream",
     "text": [
      "@> 2049 atoms and 1 coordinate set(s) were parsed in 0.03s.\n",
      "@> PDB file is found in working directory (4byj.pdb).\n",
      "@> 1994 atoms and 1 coordinate set(s) were parsed in 0.03s.\n",
      "@> PDB file is found in working directory (4zs0.pdb).\n",
      "@> 2086 atoms and 1 coordinate set(s) were parsed in 0.03s.\n"
     ]
    },
    {
     "name": "stdout",
     "output_type": "stream",
     "text": [
      "4byj A\n",
      "4zs0 A\n"
     ]
    },
    {
     "name": "stderr",
     "output_type": "stream",
     "text": [
      "@> PDB file is found in working directory (4ztq.pdb).\n",
      "@> 2009 atoms and 1 coordinate set(s) were parsed in 0.03s.\n",
      "@> PDB file is found in working directory (4ztr.pdb).\n",
      "@> 2020 atoms and 1 coordinate set(s) were parsed in 0.03s.\n"
     ]
    },
    {
     "name": "stdout",
     "output_type": "stream",
     "text": [
      "4ztq A\n",
      "4ztr A\n"
     ]
    },
    {
     "name": "stderr",
     "output_type": "stream",
     "text": [
      "@> PDB file is found in working directory (4zts.pdb).\n",
      "@> 2054 atoms and 1 coordinate set(s) were parsed in 0.03s.\n",
      "@> PDB file is found in working directory (5one.pdb).\n",
      "@> 2119 atoms and 1 coordinate set(s) were parsed in 0.03s.\n"
     ]
    },
    {
     "name": "stdout",
     "output_type": "stream",
     "text": [
      "4zts A\n",
      "5one A\n"
     ]
    },
    {
     "name": "stderr",
     "output_type": "stream",
     "text": [
      "@> PDB file is found in working directory (6gra.pdb).\n",
      "@> 2022 atoms and 1 coordinate set(s) were parsed in 0.03s.\n",
      "@> PDB file is found in working directory (6z4y.pdb).\n",
      "@> 2284 atoms and 1 coordinate set(s) were parsed in 0.03s.\n"
     ]
    },
    {
     "name": "stdout",
     "output_type": "stream",
     "text": [
      "6gra A\n",
      "6z4y A\n"
     ]
    },
    {
     "name": "stderr",
     "output_type": "stream",
     "text": [
      "@> PDB file is found in working directory (7ayh.pdb).\n",
      "@> 2031 atoms and 1 coordinate set(s) were parsed in 0.03s.\n",
      "@> PDB file is found in working directory (7ayi.pdb).\n",
      "@> 2039 atoms and 1 coordinate set(s) were parsed in 0.03s.\n"
     ]
    },
    {
     "name": "stdout",
     "output_type": "stream",
     "text": [
      "7ayh A\n",
      "7ayi A\n"
     ]
    },
    {
     "name": "stderr",
     "output_type": "stream",
     "text": [
      "@> PDB file is found in working directory (5zan.pdb).\n",
      "@> 2008 atoms and 1 coordinate set(s) were parsed in 0.03s.\n",
      "@> PDB file is found in working directory (4c3p.pdb).\n",
      "@> 4662 atoms and 1 coordinate set(s) were parsed in 0.05s.\n"
     ]
    },
    {
     "name": "stdout",
     "output_type": "stream",
     "text": [
      "5zan A\n",
      "4c3p A\n"
     ]
    },
    {
     "name": "stderr",
     "output_type": "stream",
     "text": [
      "@> PDB file is found in working directory (4c3r.pdb).\n",
      "@> 2105 atoms and 1 coordinate set(s) were parsed in 0.02s.\n",
      "@> PDB file is found in working directory (4o0s.pdb).\n",
      "@> 2218 atoms and 1 coordinate set(s) were parsed in 0.02s.\n"
     ]
    },
    {
     "name": "stdout",
     "output_type": "stream",
     "text": [
      "4c3r A\n",
      "4o0s A\n",
      "5g15 A\n"
     ]
    },
    {
     "name": "stderr",
     "output_type": "stream",
     "text": [
      "@> PDB file is found in working directory (5g15.pdb).\n",
      "@> 3070 atoms and 1 coordinate set(s) were parsed in 0.04s.\n",
      "@> PDB file is found in working directory (6xka.pdb).\n",
      "@> 2148 atoms and 1 coordinate set(s) were parsed in 0.03s.\n",
      "@> PDB file is found in working directory (2w1d.pdb).\n",
      "@> 2083 atoms and 1 coordinate set(s) were parsed in 0.02s.\n"
     ]
    },
    {
     "name": "stdout",
     "output_type": "stream",
     "text": [
      "6xka A\n",
      "2w1d A\n"
     ]
    },
    {
     "name": "stderr",
     "output_type": "stream",
     "text": [
      "@> PDB file is found in working directory (2w1e.pdb).\n",
      "@> 2129 atoms and 1 coordinate set(s) were parsed in 0.02s.\n",
      "@> PDB file is found in working directory (2w1f.pdb).\n",
      "@> 2146 atoms and 1 coordinate set(s) were parsed in 0.03s.\n"
     ]
    },
    {
     "name": "stdout",
     "output_type": "stream",
     "text": [
      "2w1e A\n",
      "2w1f A\n",
      "4jai A\n"
     ]
    },
    {
     "name": "stderr",
     "output_type": "stream",
     "text": [
      "@> PDB file is found in working directory (4jai.pdb).\n",
      "@> 2087 atoms and 1 coordinate set(s) were parsed in 0.03s.\n",
      "@> PDB file is found in working directory (4jaj.pdb).\n",
      "@> 2189 atoms and 1 coordinate set(s) were parsed in 0.03s.\n",
      "@> PDB file is found in working directory (4uzd.pdb).\n",
      "@> 4287 atoms and 1 coordinate set(s) were parsed in 0.05s.\n"
     ]
    },
    {
     "name": "stdout",
     "output_type": "stream",
     "text": [
      "4jaj A\n",
      "4uzd A\n"
     ]
    },
    {
     "name": "stderr",
     "output_type": "stream",
     "text": [
      "@> PDB file is found in working directory (5obj.pdb).\n",
      "@> 2186 atoms and 1 coordinate set(s) were parsed in 0.03s.\n",
      "@> PDB file is found in working directory (5obr.pdb).\n",
      "@> 2127 atoms and 1 coordinate set(s) were parsed in 0.02s.\n",
      "@> PDB file is found in working directory (3efw.pdb).\n"
     ]
    },
    {
     "name": "stdout",
     "output_type": "stream",
     "text": [
      "5obj A\n",
      "5obr A\n",
      "3efw A\n"
     ]
    },
    {
     "name": "stderr",
     "output_type": "stream",
     "text": [
      "@> 3988 atoms and 1 coordinate set(s) were parsed in 0.07s.\n",
      "@> PDB file is found in working directory (3o50.pdb).\n",
      "@> 4149 atoms and 1 coordinate set(s) were parsed in 0.04s.\n",
      "@> PDB file is found in working directory (3o51.pdb).\n",
      "@> 2013 atoms and 1 coordinate set(s) were parsed in 0.02s.\n",
      "@> PDB file is found in working directory (3w16.pdb).\n"
     ]
    },
    {
     "name": "stdout",
     "output_type": "stream",
     "text": [
      "3o50 A\n",
      "3o51 A\n",
      "3w16 A\n"
     ]
    },
    {
     "name": "stderr",
     "output_type": "stream",
     "text": [
      "@> 2073 atoms and 1 coordinate set(s) were parsed in 0.02s.\n",
      "@> PDB file is found in working directory (3w18.pdb).\n",
      "@> 3992 atoms and 1 coordinate set(s) were parsed in 0.04s.\n",
      "@> PDB file is found in working directory (1mq4.pdb).\n",
      "@> 2211 atoms and 1 coordinate set(s) were parsed in 0.02s.\n"
     ]
    },
    {
     "name": "stdout",
     "output_type": "stream",
     "text": [
      "3w18 A\n",
      "1mq4 A\n",
      "2np8 A\n"
     ]
    },
    {
     "name": "stderr",
     "output_type": "stream",
     "text": [
      "@> PDB file is found in working directory (2np8.pdb).\n",
      "@> 2347 atoms and 1 coordinate set(s) were parsed in 0.03s.\n",
      "@> PDB file is found in working directory (2x81.pdb).\n",
      "@> 1911 atoms and 1 coordinate set(s) were parsed in 0.03s.\n",
      "@> PDB file is found in working directory (3myg.pdb).\n",
      "@> 2171 atoms and 1 coordinate set(s) were parsed in 0.02s.\n"
     ]
    },
    {
     "name": "stdout",
     "output_type": "stream",
     "text": [
      "2x81 A\n",
      "3myg A\n",
      "3vap A\n"
     ]
    },
    {
     "name": "stderr",
     "output_type": "stream",
     "text": [
      "@> PDB file is found in working directory (3vap.pdb).\n",
      "@> 4175 atoms and 1 coordinate set(s) were parsed in 0.06s.\n",
      "@> PDB file is found in working directory (6c2r.pdb).\n",
      "@> 2182 atoms and 1 coordinate set(s) were parsed in 0.03s.\n",
      "@> PDB file is found in working directory (6c2t.pdb).\n",
      "@> 2214 atoms and 1 coordinate set(s) were parsed in 0.03s.\n"
     ]
    },
    {
     "name": "stdout",
     "output_type": "stream",
     "text": [
      "6c2r A\n",
      "6c2t A\n"
     ]
    },
    {
     "name": "stderr",
     "output_type": "stream",
     "text": [
      "@> PDB file is found in working directory (2j50.pdb).\n",
      "@> 4164 atoms and 1 coordinate set(s) were parsed in 0.04s.\n",
      "@> PDB file is found in working directory (5dt4.pdb).\n",
      "@> 2173 atoms and 1 coordinate set(s) were parsed in 0.02s.\n"
     ]
    },
    {
     "name": "stdout",
     "output_type": "stream",
     "text": [
      "2j50 A\n",
      "5dt4 A\n"
     ]
    },
    {
     "name": "stderr",
     "output_type": "stream",
     "text": [
      "@> PDB file is found in working directory (8jf4.pdb).\n",
      "@> 2039 atoms and 1 coordinate set(s) were parsed in 0.03s.\n",
      "@> PDB file is found in working directory (8jmx.pdb).\n",
      "@> 1956 atoms and 1 coordinate set(s) were parsed in 0.02s.\n",
      "@> PDB file is found in working directory (3w2c.pdb).\n"
     ]
    },
    {
     "name": "stdout",
     "output_type": "stream",
     "text": [
      "8jf4 A\n",
      "8jmx A\n",
      "3w2c A\n"
     ]
    },
    {
     "name": "stderr",
     "output_type": "stream",
     "text": [
      "@> 6857 atoms and 1 coordinate set(s) were parsed in 0.07s.\n",
      "@> PDB file is found in working directory (1ol6.pdb).\n",
      "@> 1879 atoms and 1 coordinate set(s) were parsed in 0.02s.\n",
      "@> PDB file is found in working directory (8guw.pdb).\n",
      "@> 6897 atoms and 1 coordinate set(s) were parsed in 0.07s.\n"
     ]
    },
    {
     "name": "stdout",
     "output_type": "stream",
     "text": [
      "1ol6 A\n",
      "8guw A\n"
     ]
    },
    {
     "name": "stderr",
     "output_type": "stream",
     "text": [
      "@> PDB file is found in working directory (5aad.pdb).\n",
      "@> 2034 atoms and 1 coordinate set(s) were parsed in 0.03s.\n",
      "@> PDB file is found in working directory (5aae.pdb).\n",
      "@> 2011 atoms and 1 coordinate set(s) were parsed in 0.02s.\n"
     ]
    },
    {
     "name": "stdout",
     "output_type": "stream",
     "text": [
      "5aad A\n",
      "5aae A\n",
      "5aaf A\n"
     ]
    },
    {
     "name": "stderr",
     "output_type": "stream",
     "text": [
      "@> PDB file is found in working directory (5aaf.pdb).\n",
      "@> 2037 atoms and 1 coordinate set(s) were parsed in 0.02s.\n",
      "@> PDB file is found in working directory (5aag.pdb).\n",
      "@> 2034 atoms and 1 coordinate set(s) were parsed in 0.03s.\n",
      "@> PDB file is found in working directory (3fdn.pdb).\n",
      "@> 2363 atoms and 1 coordinate set(s) were parsed in 0.03s.\n"
     ]
    },
    {
     "name": "stdout",
     "output_type": "stream",
     "text": [
      "5aag A\n",
      "3fdn A\n"
     ]
    },
    {
     "name": "stderr",
     "output_type": "stream",
     "text": [
      "@> PDB file is found in working directory (3k5u.pdb).\n",
      "@> 2368 atoms and 1 coordinate set(s) were parsed in 0.03s.\n",
      "@> PDB file is found in working directory (3m11.pdb).\n",
      "@> 2202 atoms and 1 coordinate set(s) were parsed in 0.03s.\n"
     ]
    },
    {
     "name": "stdout",
     "output_type": "stream",
     "text": [
      "3k5u A\n",
      "3m11 A\n"
     ]
    },
    {
     "name": "stderr",
     "output_type": "stream",
     "text": [
      "@> PDB file is found in working directory (4jbo.pdb).\n",
      "@> 2234 atoms and 1 coordinate set(s) were parsed in 0.03s.\n",
      "@> PDB file is found in working directory (4jbp.pdb).\n",
      "@> 2189 atoms and 1 coordinate set(s) were parsed in 0.03s.\n"
     ]
    },
    {
     "name": "stdout",
     "output_type": "stream",
     "text": [
      "4jbo A\n",
      "4jbp A\n"
     ]
    },
    {
     "name": "stderr",
     "output_type": "stream",
     "text": [
      "@> PDB file is found in working directory (4jbq.pdb).\n",
      "@> 2167 atoms and 1 coordinate set(s) were parsed in 0.03s.\n",
      "@> PDB file is found in working directory (2xne.pdb).\n",
      "@> 1951 atoms and 1 coordinate set(s) were parsed in 0.02s.\n"
     ]
    },
    {
     "name": "stdout",
     "output_type": "stream",
     "text": [
      "4jbq A\n",
      "2xne A\n",
      "4o0w A\n"
     ]
    },
    {
     "name": "stderr",
     "output_type": "stream",
     "text": [
      "@> PDB file is found in working directory (4o0w.pdb).\n",
      "@> 2163 atoms and 1 coordinate set(s) were parsed in 0.02s.\n",
      "@> PDB file is found in working directory (3unz.pdb).\n",
      "@> 4418 atoms and 1 coordinate set(s) were parsed in 0.05s.\n",
      "@> PDB file is found in working directory (3uo4.pdb).\n",
      "@> 2277 atoms and 1 coordinate set(s) were parsed in 0.03s.\n"
     ]
    },
    {
     "name": "stdout",
     "output_type": "stream",
     "text": [
      "3unz A\n",
      "3uo4 A\n"
     ]
    },
    {
     "name": "stderr",
     "output_type": "stream",
     "text": [
      "@> PDB file is found in working directory (3uo5.pdb).\n",
      "@> 2256 atoms and 1 coordinate set(s) were parsed in 0.02s.\n",
      "@> PDB file is found in working directory (3uo6.pdb).\n",
      "@> 4423 atoms and 1 coordinate set(s) were parsed in 0.05s.\n"
     ]
    },
    {
     "name": "stdout",
     "output_type": "stream",
     "text": [
      "3uo5 A\n",
      "3uo6 A\n"
     ]
    },
    {
     "name": "stderr",
     "output_type": "stream",
     "text": [
      "@> PDB file is found in working directory (3uod.pdb).\n",
      "@> 2270 atoms and 1 coordinate set(s) were parsed in 0.03s.\n",
      "@> PDB file is found in working directory (3uoh.pdb).\n",
      "@> 4440 atoms and 1 coordinate set(s) were parsed in 0.05s.\n"
     ]
    },
    {
     "name": "stdout",
     "output_type": "stream",
     "text": [
      "3uod A\n",
      "3uoh A\n"
     ]
    },
    {
     "name": "stderr",
     "output_type": "stream",
     "text": [
      "@> PDB file is found in working directory (3uoj.pdb).\n",
      "@> 4394 atoms and 1 coordinate set(s) were parsed in 0.05s.\n",
      "@> PDB file is found in working directory (3uok.pdb).\n",
      "@> 4423 atoms and 1 coordinate set(s) were parsed in 0.05s.\n"
     ]
    },
    {
     "name": "stdout",
     "output_type": "stream",
     "text": [
      "3uoj A\n",
      "3uok A\n"
     ]
    },
    {
     "name": "stderr",
     "output_type": "stream",
     "text": [
      "@> PDB file is found in working directory (3uol.pdb).\n",
      "@> 4540 atoms and 1 coordinate set(s) were parsed in 0.05s.\n",
      "@> PDB file is found in working directory (3up2.pdb).\n",
      "@> 2321 atoms and 1 coordinate set(s) were parsed in 0.02s.\n"
     ]
    },
    {
     "name": "stdout",
     "output_type": "stream",
     "text": [
      "3uol A\n",
      "3up2 A\n"
     ]
    },
    {
     "name": "stderr",
     "output_type": "stream",
     "text": [
      "@> PDB file is found in working directory (3up7.pdb).\n",
      "@> 2212 atoms and 1 coordinate set(s) were parsed in 0.02s.\n",
      "@> PDB file is found in working directory (4dea.pdb).\n",
      "@> 2327 atoms and 1 coordinate set(s) were parsed in 0.03s.\n",
      "@> PDB file is found in working directory (4deb.pdb).\n"
     ]
    },
    {
     "name": "stdout",
     "output_type": "stream",
     "text": [
      "3up7 A\n",
      "4dea A\n",
      "4deb A\n"
     ]
    },
    {
     "name": "stderr",
     "output_type": "stream",
     "text": [
      "@> 2213 atoms and 1 coordinate set(s) were parsed in 0.03s.\n",
      "@> PDB file is found in working directory (4ded.pdb).\n",
      "@> 2234 atoms and 1 coordinate set(s) were parsed in 0.02s.\n",
      "@> PDB file is found in working directory (4dee.pdb).\n",
      "@> 2365 atoms and 1 coordinate set(s) were parsed in 0.03s.\n"
     ]
    },
    {
     "name": "stdout",
     "output_type": "stream",
     "text": [
      "4ded A\n",
      "4dee A\n",
      "4j8n A\n"
     ]
    },
    {
     "name": "stderr",
     "output_type": "stream",
     "text": [
      "@> PDB file is found in working directory (4j8n.pdb).\n",
      "@> 17546 atoms and 1 coordinate set(s) were parsed in 0.20s.\n",
      "@> PDB file is found in working directory (6vpl.pdb).\n",
      "@> 5192 atoms and 1 coordinate set(s) were parsed in 0.07s.\n",
      "@> PDB file is found in working directory (6vpm.pdb).\n"
     ]
    },
    {
     "name": "stdout",
     "output_type": "stream",
     "text": [
      "6vpl A\n",
      "6vpm A\n"
     ]
    },
    {
     "name": "stderr",
     "output_type": "stream",
     "text": [
      "@> 5166 atoms and 1 coordinate set(s) were parsed in 0.07s.\n",
      "@> PDB file is found in working directory (2c6e.pdb).\n",
      "@> 4197 atoms and 1 coordinate set(s) were parsed in 0.05s.\n",
      "@> PDB file is found in working directory (4o0u.pdb).\n",
      "@> 2170 atoms and 1 coordinate set(s) were parsed in 0.02s.\n"
     ]
    },
    {
     "name": "stdout",
     "output_type": "stream",
     "text": [
      "2c6e A\n",
      "4o0u A\n"
     ]
    },
    {
     "name": "stderr",
     "output_type": "stream",
     "text": [
      "@> PDB file is found in working directory (2c6d.pdb).\n",
      "@> 2247 atoms and 1 coordinate set(s) were parsed in 0.02s.\n",
      "@> PDB file is found in working directory (3lau.pdb).\n",
      "@> 2186 atoms and 1 coordinate set(s) were parsed in 0.02s.\n"
     ]
    },
    {
     "name": "stdout",
     "output_type": "stream",
     "text": [
      "2c6d A\n",
      "3lau A\n",
      "4uyn A\n"
     ]
    },
    {
     "name": "stderr",
     "output_type": "stream",
     "text": [
      "@> PDB file is found in working directory (4uyn.pdb).\n",
      "@> 2182 atoms and 1 coordinate set(s) were parsed in 0.03s.\n",
      "@> PDB file is found in working directory (4uzh.pdb).\n",
      "@> 2246 atoms and 1 coordinate set(s) were parsed in 0.03s.\n",
      "@> PDB file is found in working directory (5dn3.pdb).\n",
      "@> 2382 atoms and 1 coordinate set(s) were parsed in 0.03s.\n"
     ]
    },
    {
     "name": "stdout",
     "output_type": "stream",
     "text": [
      "4uzh A\n",
      "5dn3 A\n"
     ]
    },
    {
     "name": "stderr",
     "output_type": "stream",
     "text": [
      "@> PDB file is found in working directory (5dnr.pdb).\n",
      "@> 2331 atoms and 1 coordinate set(s) were parsed in 0.03s.\n",
      "@> PDB file is found in working directory (8c14.pdb).\n",
      "@> 2485 atoms and 1 coordinate set(s) were parsed in 0.03s.\n"
     ]
    },
    {
     "name": "stdout",
     "output_type": "stream",
     "text": [
      "5dnr A\n",
      "8c14 A\n"
     ]
    },
    {
     "name": "stderr",
     "output_type": "stream",
     "text": [
      "@> PDB file is found in working directory (8c1e.pdb).\n",
      "@> 2279 atoms and 1 coordinate set(s) were parsed in 0.03s.\n",
      "@> PDB file is found in working directory (8c1m.pdb).\n",
      "@> 2211 atoms and 1 coordinate set(s) were parsed in 0.03s.\n",
      "@> PDB file is found in working directory (3e5a.pdb).\n"
     ]
    },
    {
     "name": "stdout",
     "output_type": "stream",
     "text": [
      "8c1e A\n",
      "8c1m A\n",
      "3e5a A\n"
     ]
    },
    {
     "name": "stderr",
     "output_type": "stream",
     "text": [
      "@> 2533 atoms and 1 coordinate set(s) were parsed in 0.03s.\n",
      "@> PDB file is found in working directory (2xru.pdb).\n",
      "@> 2118 atoms and 1 coordinate set(s) were parsed in 0.02s.\n",
      "@> PDB file is found in working directory (8c15.pdb).\n",
      "@> 2234 atoms and 1 coordinate set(s) were parsed in 0.02s.\n",
      "@> PDB file is found in working directory (8c1d.pdb).\n"
     ]
    },
    {
     "name": "stdout",
     "output_type": "stream",
     "text": [
      "2xru A\n",
      "8c15 A\n",
      "8c1d A\n"
     ]
    },
    {
     "name": "stderr",
     "output_type": "stream",
     "text": [
      "@> 2273 atoms and 1 coordinate set(s) were parsed in 0.02s.\n",
      "@> PDB file is found in working directory (8c1f.pdb).\n",
      "@> 2319 atoms and 1 coordinate set(s) were parsed in 0.03s.\n",
      "@> PDB file is found in working directory (8c1g.pdb).\n",
      "@> 2326 atoms and 1 coordinate set(s) were parsed in 0.03s.\n"
     ]
    },
    {
     "name": "stdout",
     "output_type": "stream",
     "text": [
      "8c1f A\n",
      "8c1g A\n"
     ]
    },
    {
     "name": "stderr",
     "output_type": "stream",
     "text": [
      "@> PDB file is found in working directory (8c1h.pdb).\n",
      "@> 2277 atoms and 1 coordinate set(s) were parsed in 0.03s.\n",
      "@> PDB file is found in working directory (8c1i.pdb).\n",
      "@> 2222 atoms and 1 coordinate set(s) were parsed in 0.02s.\n"
     ]
    },
    {
     "name": "stdout",
     "output_type": "stream",
     "text": [
      "8c1h A\n",
      "8c1i A\n",
      "5dos A\n"
     ]
    },
    {
     "name": "stderr",
     "output_type": "stream",
     "text": [
      "@> PDB file is found in working directory (5dos.pdb).\n",
      "@> 2173 atoms and 1 coordinate set(s) were parsed in 0.03s.\n",
      "@> PDB file is found in working directory (5dpv.pdb).\n",
      "@> 2192 atoms and 1 coordinate set(s) were parsed in 0.02s.\n",
      "@> PDB file is found in working directory (5dr2.pdb).\n",
      "@> 2223 atoms and 1 coordinate set(s) were parsed in 0.02s.\n",
      "@> PDB file is found in working directory (5dr6.pdb).\n"
     ]
    },
    {
     "name": "stdout",
     "output_type": "stream",
     "text": [
      "5dpv A\n",
      "5dr2 A\n",
      "5dr6 A\n"
     ]
    },
    {
     "name": "stderr",
     "output_type": "stream",
     "text": [
      "@> 2166 atoms and 1 coordinate set(s) were parsed in 0.03s.\n",
      "@> PDB file is found in working directory (5dr9.pdb).\n",
      "@> 2174 atoms and 1 coordinate set(s) were parsed in 0.02s.\n",
      "@> PDB file is found in working directory (5drd.pdb).\n",
      "@> 2152 atoms and 1 coordinate set(s) were parsed in 0.03s.\n"
     ]
    },
    {
     "name": "stdout",
     "output_type": "stream",
     "text": [
      "5dr9 A\n",
      "5drd A\n"
     ]
    },
    {
     "name": "stderr",
     "output_type": "stream",
     "text": [
      "@> PDB file is found in working directory (5dt0.pdb).\n",
      "@> 2249 atoms and 1 coordinate set(s) were parsed in 0.04s.\n",
      "@> PDB file is found in working directory (5dt3.pdb).\n",
      "@> 2285 atoms and 1 coordinate set(s) were parsed in 0.03s.\n"
     ]
    },
    {
     "name": "stdout",
     "output_type": "stream",
     "text": [
      "5dt0 A\n",
      "5dt3 A\n"
     ]
    },
    {
     "name": "stderr",
     "output_type": "stream",
     "text": [
      "@> PDB file is found in working directory (8c1k.pdb).\n",
      "@> 2264 atoms and 1 coordinate set(s) were parsed in 0.03s.\n",
      "@> PDB file is found in working directory (2wqe.pdb).\n",
      "@> 2029 atoms and 1 coordinate set(s) were parsed in 0.03s.\n"
     ]
    },
    {
     "name": "stdout",
     "output_type": "stream",
     "text": [
      "8c1k A\n",
      "2wqe A\n"
     ]
    },
    {
     "name": "stderr",
     "output_type": "stream",
     "text": [
      "@> PDB file is found in working directory (5os2.pdb).\n",
      "@> 2270 atoms and 1 coordinate set(s) were parsed in 0.03s.\n",
      "@> PDB file is found in working directory (7fic.pdb).\n",
      "@> 2024 atoms and 1 coordinate set(s) were parsed in 0.02s.\n"
     ]
    },
    {
     "name": "stdout",
     "output_type": "stream",
     "text": [
      "5os2 A\n",
      "7fic A\n",
      "2bmc A\n"
     ]
    },
    {
     "name": "stderr",
     "output_type": "stream",
     "text": [
      "@> PDB file is found in working directory (2bmc.pdb).\n",
      "@> 13094 atoms and 1 coordinate set(s) were parsed in 0.14s.\n",
      "@> PDB file is found in working directory (5odt.pdb).\n",
      "@> 2571 atoms and 1 coordinate set(s) were parsed in 0.03s.\n",
      "@> PDB file is found in working directory (5lxm.pdb).\n",
      "@> 2582 atoms and 1 coordinate set(s) were parsed in 0.04s.\n"
     ]
    },
    {
     "name": "stdout",
     "output_type": "stream",
     "text": [
      "5odt A\n",
      "5lxm A\n"
     ]
    },
    {
     "name": "stderr",
     "output_type": "stream",
     "text": [
      "@> PDB file is found in working directory (6hjj.pdb).\n",
      "@> 2219 atoms and 1 coordinate set(s) were parsed in 0.03s.\n",
      "@> PDB file is found in working directory (6hjk.pdb).\n",
      "@> 2074 atoms and 1 coordinate set(s) were parsed in 0.02s.\n"
     ]
    },
    {
     "name": "stdout",
     "output_type": "stream",
     "text": [
      "6hjj A\n",
      "6hjk A\n"
     ]
    },
    {
     "name": "stderr",
     "output_type": "stream",
     "text": [
      "@> PDB file is found in working directory (4ceg.pdb).\n",
      "@> 2255 atoms and 1 coordinate set(s) were parsed in 0.03s.\n",
      "@> PDB file is found in working directory (5g1x.pdb).\n",
      "@> 2564 atoms and 1 coordinate set(s) were parsed in 0.03s.\n"
     ]
    },
    {
     "name": "stdout",
     "output_type": "stream",
     "text": [
      "4ceg A\n",
      "5g1x A\n"
     ]
    },
    {
     "name": "stderr",
     "output_type": "stream",
     "text": [
      "@> PDB file is found in working directory (5l8j.pdb).\n",
      "@> 3027 atoms and 1 coordinate set(s) were parsed in 0.03s.\n",
      "@> PDB file is found in working directory (5l8k.pdb).\n",
      "@> 3226 atoms and 1 coordinate set(s) were parsed in 0.04s.\n"
     ]
    },
    {
     "name": "stdout",
     "output_type": "stream",
     "text": [
      "5l8j A\n",
      "5l8k A\n"
     ]
    },
    {
     "name": "stderr",
     "output_type": "stream",
     "text": [
      "@> PDB file is found in working directory (5l8l.pdb).\n",
      "@> 3363 atoms and 1 coordinate set(s) were parsed in 0.04s.\n",
      "@> PDB file is found in working directory (6r49.pdb).\n",
      "@> 2244 atoms and 1 coordinate set(s) were parsed in 0.03s.\n"
     ]
    },
    {
     "name": "stdout",
     "output_type": "stream",
     "text": [
      "5l8l A\n",
      "6r49 A\n"
     ]
    },
    {
     "name": "stderr",
     "output_type": "stream",
     "text": [
      "@> PDB file is found in working directory (6r4a.pdb).\n",
      "@> 2357 atoms and 1 coordinate set(s) were parsed in 0.04s.\n",
      "@> PDB file is found in working directory (6r4b.pdb).\n",
      "@> 2235 atoms and 1 coordinate set(s) were parsed in 0.03s.\n"
     ]
    },
    {
     "name": "stdout",
     "output_type": "stream",
     "text": [
      "6r4a A\n",
      "6r4b A\n"
     ]
    },
    {
     "name": "stderr",
     "output_type": "stream",
     "text": [
      "@> PDB file is found in working directory (6r4c.pdb).\n",
      "@> 2306 atoms and 1 coordinate set(s) were parsed in 0.03s.\n",
      "@> PDB file is found in working directory (6r4d.pdb).\n",
      "@> 2296 atoms and 1 coordinate set(s) were parsed in 0.03s.\n"
     ]
    },
    {
     "name": "stdout",
     "output_type": "stream",
     "text": [
      "6r4c A\n",
      "6r4d A\n"
     ]
    },
    {
     "name": "stderr",
     "output_type": "stream",
     "text": [
      "@> Connecting wwPDB FTP server RCSB PDB (USA).\n"
     ]
    },
    {
     "name": "stdout",
     "output_type": "stream",
     "text": [
      "1ol5 A\n"
     ]
    },
    {
     "name": "stderr",
     "output_type": "stream",
     "text": [
      "@> 1ol5 downloaded (1ol5.pdb.gz)\n",
      "@> PDB download via FTP completed (1 downloaded, 0 failed).\n",
      "@> 2607 atoms and 1 coordinate set(s) were parsed in 0.03s.\n",
      "@> PDB file is found in working directory (1ol7.pdb).\n",
      "@> 2155 atoms and 1 coordinate set(s) were parsed in 0.02s.\n",
      "@> PDB file is found in working directory (6i2u.pdb).\n",
      "@> 2201 atoms and 1 coordinate set(s) were parsed in 0.03s.\n"
     ]
    },
    {
     "name": "stdout",
     "output_type": "stream",
     "text": [
      "1ol7 A\n",
      "6i2u A\n"
     ]
    },
    {
     "name": "stderr",
     "output_type": "stream",
     "text": [
      "@> PDB file is found in working directory (6vpg.pdb).\n",
      "@> 2426 atoms and 1 coordinate set(s) were parsed in 0.04s.\n",
      "@> PDB file is found in working directory (2w1c.pdb).\n",
      "@> 2211 atoms and 1 coordinate set(s) were parsed in 0.03s.\n"
     ]
    },
    {
     "name": "stdout",
     "output_type": "stream",
     "text": [
      "6vpg A\n",
      "2w1c A\n"
     ]
    },
    {
     "name": "stderr",
     "output_type": "stream",
     "text": [
      "@> PDB file is found in working directory (2w1g.pdb).\n",
      "@> 2164 atoms and 1 coordinate set(s) were parsed in 0.03s.\n",
      "@> PDB file is found in working directory (6vpj.pdb).\n",
      "@> 2456 atoms and 1 coordinate set(s) were parsed in 0.04s.\n"
     ]
    },
    {
     "name": "stdout",
     "output_type": "stream",
     "text": [
      "2w1g A\n",
      "6vpj A\n"
     ]
    },
    {
     "name": "stderr",
     "output_type": "stream",
     "text": [
      "@> PDB file is found in working directory (4j8m.pdb).\n",
      "@> 4654 atoms and 1 coordinate set(s) were parsed in 0.06s.\n"
     ]
    },
    {
     "name": "stdout",
     "output_type": "stream",
     "text": [
      "4j8m A\n"
     ]
    },
    {
     "name": "stderr",
     "output_type": "stream",
     "text": [
      "@> PDB file is found in working directory (5ew9.pdb).\n",
      "@> 2189 atoms and 1 coordinate set(s) were parsed in 0.03s.\n",
      "@> PDB file is found in working directory (3qbn.pdb).\n",
      "@> 2061 atoms and 1 coordinate set(s) were parsed in 0.03s.\n"
     ]
    },
    {
     "name": "stdout",
     "output_type": "stream",
     "text": [
      "5ew9 A\n",
      "3qbn A\n"
     ]
    },
    {
     "name": "stderr",
     "output_type": "stream",
     "text": [
      "@> PDB file is found in working directory (3h0y.pdb).\n",
      "@> 2164 atoms and 1 coordinate set(s) were parsed in 0.03s.\n",
      "@> PDB file is found in working directory (3h0z.pdb).\n",
      "@> 6186 atoms and 1 coordinate set(s) were parsed in 0.06s.\n"
     ]
    },
    {
     "name": "stdout",
     "output_type": "stream",
     "text": [
      "3h0y A\n",
      "3h0z A\n"
     ]
    },
    {
     "name": "stderr",
     "output_type": "stream",
     "text": [
      "@> PDB file is found in working directory (3h10.pdb).\n",
      "@> 6743 atoms and 1 coordinate set(s) were parsed in 0.07s.\n",
      "@> PDB file is found in working directory (3p9j.pdb).\n",
      "@> 2084 atoms and 1 coordinate set(s) were parsed in 0.02s.\n"
     ]
    },
    {
     "name": "stdout",
     "output_type": "stream",
     "text": [
      "3h10 A\n",
      "3p9j A\n"
     ]
    },
    {
     "name": "stderr",
     "output_type": "stream",
     "text": [
      "@> PDB file is found in working directory (3ha6.pdb).\n",
      "@> 2525 atoms and 1 coordinate set(s) were parsed in 0.03s.\n",
      "@> PDB file is found in working directory (5os5.pdb).\n",
      "@> 2319 atoms and 1 coordinate set(s) were parsed in 0.03s.\n"
     ]
    },
    {
     "name": "stdout",
     "output_type": "stream",
     "text": [
      "3ha6 A\n",
      "5os5 A\n"
     ]
    },
    {
     "name": "stderr",
     "output_type": "stream",
     "text": [
      "@> PDB file is found in working directory (5osd.pdb).\n",
      "@> 2284 atoms and 1 coordinate set(s) were parsed in 0.03s.\n",
      "@> PDB file is found in working directory (3w10.pdb).\n",
      "@> 2231 atoms and 1 coordinate set(s) were parsed in 0.03s.\n"
     ]
    },
    {
     "name": "stdout",
     "output_type": "stream",
     "text": [
      "5osd A\n",
      "3w10 A\n"
     ]
    },
    {
     "name": "stderr",
     "output_type": "stream",
     "text": [
      "@> PDB file is found in working directory (3nrm.pdb).\n",
      "@> 2176 atoms and 1 coordinate set(s) were parsed in 0.03s.\n",
      "@> PDB file is found in working directory (3r21.pdb).\n",
      "@> 2106 atoms and 1 coordinate set(s) were parsed in 0.03s.\n"
     ]
    },
    {
     "name": "stdout",
     "output_type": "stream",
     "text": [
      "3nrm A\n",
      "3r21 A\n"
     ]
    },
    {
     "name": "stderr",
     "output_type": "stream",
     "text": [
      "@> PDB file is found in working directory (3r22.pdb).\n",
      "@> 2061 atoms and 1 coordinate set(s) were parsed in 0.03s.\n",
      "@> PDB file is found in working directory (4dhf.pdb).\n",
      "@> 4300 atoms and 1 coordinate set(s) were parsed in 0.05s.\n"
     ]
    },
    {
     "name": "stdout",
     "output_type": "stream",
     "text": [
      "3r22 A\n",
      "4dhf A\n"
     ]
    },
    {
     "name": "stderr",
     "output_type": "stream",
     "text": [
      "@> PDB file is found in working directory (5orl.pdb).\n",
      "@> 2388 atoms and 1 coordinate set(s) were parsed in 0.03s.\n",
      "@> PDB file is found in working directory (5orn.pdb).\n",
      "@> 2235 atoms and 1 coordinate set(s) were parsed in 0.03s.\n"
     ]
    },
    {
     "name": "stdout",
     "output_type": "stream",
     "text": [
      "5orl A\n",
      "5orn A\n"
     ]
    },
    {
     "name": "stderr",
     "output_type": "stream",
     "text": [
      "@> PDB file is found in working directory (5oro.pdb).\n",
      "@> 2248 atoms and 1 coordinate set(s) were parsed in 0.03s.\n",
      "@> PDB file is found in working directory (5orp.pdb).\n",
      "@> 2244 atoms and 1 coordinate set(s) were parsed in 0.03s.\n"
     ]
    },
    {
     "name": "stdout",
     "output_type": "stream",
     "text": [
      "5oro A\n",
      "5orp A\n"
     ]
    },
    {
     "name": "stderr",
     "output_type": "stream",
     "text": [
      "@> PDB file is found in working directory (5orr.pdb).\n",
      "@> 2281 atoms and 1 coordinate set(s) were parsed in 0.03s.\n",
      "@> PDB file is found in working directory (5ors.pdb).\n",
      "@> 2307 atoms and 1 coordinate set(s) were parsed in 0.02s.\n"
     ]
    },
    {
     "name": "stdout",
     "output_type": "stream",
     "text": [
      "5orr A\n",
      "5ors A\n"
     ]
    },
    {
     "name": "stderr",
     "output_type": "stream",
     "text": [
      "@> PDB file is found in working directory (5ort.pdb).\n",
      "@> 2231 atoms and 1 coordinate set(s) were parsed in 0.02s.\n",
      "@> PDB file is found in working directory (5orv.pdb).\n",
      "@> 2275 atoms and 1 coordinate set(s) were parsed in 0.05s.\n"
     ]
    },
    {
     "name": "stdout",
     "output_type": "stream",
     "text": [
      "5ort A\n",
      "5orv A\n"
     ]
    },
    {
     "name": "stderr",
     "output_type": "stream",
     "text": [
      "@> PDB file is found in working directory (5orw.pdb).\n",
      "@> 2262 atoms and 1 coordinate set(s) were parsed in 0.02s.\n",
      "@> PDB file is found in working directory (5orx.pdb).\n",
      "@> 2294 atoms and 1 coordinate set(s) were parsed in 0.02s.\n",
      "@> PDB file is found in working directory (5ory.pdb).\n"
     ]
    },
    {
     "name": "stdout",
     "output_type": "stream",
     "text": [
      "5orw A\n",
      "5orx A\n",
      "5ory A\n"
     ]
    },
    {
     "name": "stderr",
     "output_type": "stream",
     "text": [
      "@> 2243 atoms and 1 coordinate set(s) were parsed in 0.03s.\n",
      "@> PDB file is found in working directory (5orz.pdb).\n",
      "@> 2283 atoms and 1 coordinate set(s) were parsed in 0.03s.\n",
      "@> PDB file is found in working directory (5os0.pdb).\n",
      "@> 2333 atoms and 1 coordinate set(s) were parsed in 0.03s.\n"
     ]
    },
    {
     "name": "stdout",
     "output_type": "stream",
     "text": [
      "5orz A\n",
      "5os0 A\n"
     ]
    },
    {
     "name": "stderr",
     "output_type": "stream",
     "text": [
      "@> PDB file is found in working directory (5os1.pdb).\n",
      "@> 2303 atoms and 1 coordinate set(s) were parsed in 0.03s.\n",
      "@> PDB file is found in working directory (5os3.pdb).\n",
      "@> 2328 atoms and 1 coordinate set(s) were parsed in 0.03s.\n"
     ]
    },
    {
     "name": "stdout",
     "output_type": "stream",
     "text": [
      "5os1 A\n",
      "5os3 A\n"
     ]
    },
    {
     "name": "stderr",
     "output_type": "stream",
     "text": [
      "@> PDB file is found in working directory (5os4.pdb).\n",
      "@> 2317 atoms and 1 coordinate set(s) were parsed in 0.03s.\n",
      "@> PDB file is found in working directory (5os6.pdb).\n",
      "@> 2244 atoms and 1 coordinate set(s) were parsed in 0.02s.\n"
     ]
    },
    {
     "name": "stdout",
     "output_type": "stream",
     "text": [
      "5os4 A\n",
      "5os6 A\n",
      "5ose A\n"
     ]
    },
    {
     "name": "stderr",
     "output_type": "stream",
     "text": [
      "@> PDB file is found in working directory (5ose.pdb).\n",
      "@> 2303 atoms and 1 coordinate set(s) were parsed in 0.03s.\n",
      "@> PDB file is found in working directory (5osf.pdb).\n",
      "@> 2272 atoms and 1 coordinate set(s) were parsed in 0.03s.\n",
      "@> PDB file is found in working directory (2wtw.pdb).\n",
      "@> 2104 atoms and 1 coordinate set(s) were parsed in 0.02s.\n"
     ]
    },
    {
     "name": "stdout",
     "output_type": "stream",
     "text": [
      "5osf A\n",
      "2wtw A\n"
     ]
    },
    {
     "name": "stderr",
     "output_type": "stream",
     "text": [
      "@> PDB file is found in working directory (4bn1.pdb).\n",
      "@> 2195 atoms and 1 coordinate set(s) were parsed in 0.02s.\n",
      "@> PDB file is found in working directory (8of5.pdb).\n",
      "@> 2364 atoms and 1 coordinate set(s) were parsed in 0.03s.\n"
     ]
    },
    {
     "name": "stdout",
     "output_type": "stream",
     "text": [
      "4bn1 A\n",
      "8of5 A\n"
     ]
    },
    {
     "name": "stderr",
     "output_type": "stream",
     "text": [
      "@> PDB file is found in working directory (6vpi.pdb).\n",
      "@> 2558 atoms and 1 coordinate set(s) were parsed in 0.03s.\n",
      "@> PDB file is found in working directory (7ztl.pdb).\n",
      "@> 2547 atoms and 1 coordinate set(s) were parsed in 0.04s.\n"
     ]
    },
    {
     "name": "stdout",
     "output_type": "stream",
     "text": [
      "6vpi A\n",
      "7ztl A\n"
     ]
    },
    {
     "name": "stderr",
     "output_type": "stream",
     "text": [
      "@> PDB file is found in working directory (2dwb.pdb).\n",
      "@> 2216 atoms and 1 coordinate set(s) were parsed in 0.03s.\n",
      "@> PDB file is found in working directory (6vph.pdb).\n",
      "@> 2578 atoms and 1 coordinate set(s) were parsed in 0.04s.\n"
     ]
    },
    {
     "name": "stdout",
     "output_type": "stream",
     "text": [
      "2dwb A\n",
      "6vph A\n"
     ]
    },
    {
     "name": "stderr",
     "output_type": "stream",
     "text": [
      "@> PDB file is found in working directory (2wtv.pdb).\n",
      "@> 9638 atoms and 1 coordinate set(s) were parsed in 0.11s.\n",
      "@> PDB file is found in working directory (4prj.pdb).\n"
     ]
    },
    {
     "name": "stdout",
     "output_type": "stream",
     "text": [
      "2wtv A\n",
      "4prj A\n"
     ]
    },
    {
     "name": "stderr",
     "output_type": "stream",
     "text": [
      "@> 2094 atoms and 1 coordinate set(s) were parsed in 0.03s.\n",
      "@> PDB file is found in working directory (3coh.pdb).\n",
      "@> 4100 atoms and 1 coordinate set(s) were parsed in 0.04s.\n",
      "@> PDB file is found in working directory (3d14.pdb).\n",
      "@> 2372 atoms and 1 coordinate set(s) were parsed in 0.03s.\n"
     ]
    },
    {
     "name": "stdout",
     "output_type": "stream",
     "text": [
      "3coh A\n",
      "3d14 A\n"
     ]
    },
    {
     "name": "stderr",
     "output_type": "stream",
     "text": [
      "@> PDB file is found in working directory (3d15.pdb).\n",
      "@> 2238 atoms and 1 coordinate set(s) were parsed in 0.02s.\n",
      "@> PDB file is found in working directory (3d2i.pdb).\n",
      "@> 2125 atoms and 1 coordinate set(s) were parsed in 0.02s.\n",
      "@> PDB file is found in working directory (3d2k.pdb).\n"
     ]
    },
    {
     "name": "stdout",
     "output_type": "stream",
     "text": [
      "3d15 A\n",
      "3d2i A\n",
      "3d2k A\n"
     ]
    },
    {
     "name": "stderr",
     "output_type": "stream",
     "text": [
      "@> 2092 atoms and 1 coordinate set(s) were parsed in 0.02s.\n",
      "@> PDB file is found in working directory (3dj5.pdb).\n",
      "@> 2477 atoms and 1 coordinate set(s) were parsed in 0.03s.\n",
      "@> PDB file is found in working directory (3dj6.pdb).\n",
      "@> 2480 atoms and 1 coordinate set(s) were parsed in 0.03s.\n"
     ]
    },
    {
     "name": "stdout",
     "output_type": "stream",
     "text": [
      "3dj5 A\n",
      "3dj6 A\n",
      "3dj7 A\n"
     ]
    },
    {
     "name": "stderr",
     "output_type": "stream",
     "text": [
      "@> PDB file is found in working directory (3dj7.pdb).\n",
      "@> 2126 atoms and 1 coordinate set(s) were parsed in 0.02s.\n",
      "@> PDB file is found in working directory (3daj.pdb).\n",
      "@> 2132 atoms and 1 coordinate set(s) were parsed in 0.02s.\n"
     ]
    },
    {
     "name": "stdout",
     "output_type": "stream",
     "text": [
      "3daj A\n"
     ]
    }
   ],
   "source": [
    "list_pdbs = []\n",
    "for i in pdb_hits:\n",
    "    print (i[0], i[1])\n",
    "    p = parsePDB(i[0]).select('chain '+i[1])\n",
    "    writePDB(i[0]+i[1]+'.pdb', p)\n",
    "    list_pdbs.append(i[0]+i[1]+'.pdb')"
   ]
  },
  {
   "cell_type": "code",
   "execution_count": 10,
   "metadata": {},
   "outputs": [
    {
     "data": {
      "text/plain": [
       "['1muoA.pdb',\n",
       " '2j4zA.pdb',\n",
       " '7o2vA.pdb',\n",
       " '6c83A.pdb',\n",
       " '6cpeA.pdb',\n",
       " '6cpfA.pdb',\n",
       " '6cpgA.pdb',\n",
       " '8ssoA.pdb',\n",
       " '2xngA.pdb',\n",
       " '4b0gA.pdb',\n",
       " '8sspA.pdb',\n",
       " '2x6dA.pdb',\n",
       " '2x6eA.pdb',\n",
       " '4byiA.pdb',\n",
       " '4byjA.pdb',\n",
       " '4zs0A.pdb',\n",
       " '4ztqA.pdb',\n",
       " '4ztrA.pdb',\n",
       " '4ztsA.pdb',\n",
       " '5oneA.pdb',\n",
       " '6graA.pdb',\n",
       " '6z4yA.pdb',\n",
       " '7ayhA.pdb',\n",
       " '7ayiA.pdb',\n",
       " '5zanA.pdb',\n",
       " '4c3pA.pdb',\n",
       " '4c3rA.pdb',\n",
       " '4o0sA.pdb',\n",
       " '5g15A.pdb',\n",
       " '6xkaA.pdb',\n",
       " '2w1dA.pdb',\n",
       " '2w1eA.pdb',\n",
       " '2w1fA.pdb',\n",
       " '4jaiA.pdb',\n",
       " '4jajA.pdb',\n",
       " '4uzdA.pdb',\n",
       " '5objA.pdb',\n",
       " '5obrA.pdb',\n",
       " '3efwA.pdb',\n",
       " '3o50A.pdb',\n",
       " '3o51A.pdb',\n",
       " '3w16A.pdb',\n",
       " '3w18A.pdb',\n",
       " '1mq4A.pdb',\n",
       " '2np8A.pdb',\n",
       " '2x81A.pdb',\n",
       " '3mygA.pdb',\n",
       " '3vapA.pdb',\n",
       " '6c2rA.pdb',\n",
       " '6c2tA.pdb',\n",
       " '2j50A.pdb',\n",
       " '5dt4A.pdb',\n",
       " '8jf4A.pdb',\n",
       " '8jmxA.pdb',\n",
       " '3w2cA.pdb',\n",
       " '1ol6A.pdb',\n",
       " '8guwA.pdb',\n",
       " '5aadA.pdb',\n",
       " '5aaeA.pdb',\n",
       " '5aafA.pdb',\n",
       " '5aagA.pdb',\n",
       " '3fdnA.pdb',\n",
       " '3k5uA.pdb',\n",
       " '3m11A.pdb',\n",
       " '4jboA.pdb',\n",
       " '4jbpA.pdb',\n",
       " '4jbqA.pdb',\n",
       " '2xneA.pdb',\n",
       " '4o0wA.pdb',\n",
       " '3unzA.pdb',\n",
       " '3uo4A.pdb',\n",
       " '3uo5A.pdb',\n",
       " '3uo6A.pdb',\n",
       " '3uodA.pdb',\n",
       " '3uohA.pdb',\n",
       " '3uojA.pdb',\n",
       " '3uokA.pdb',\n",
       " '3uolA.pdb',\n",
       " '3up2A.pdb',\n",
       " '3up7A.pdb',\n",
       " '4deaA.pdb',\n",
       " '4debA.pdb',\n",
       " '4dedA.pdb',\n",
       " '4deeA.pdb',\n",
       " '4j8nA.pdb',\n",
       " '6vplA.pdb',\n",
       " '6vpmA.pdb',\n",
       " '2c6eA.pdb',\n",
       " '4o0uA.pdb',\n",
       " '2c6dA.pdb',\n",
       " '3lauA.pdb',\n",
       " '4uynA.pdb',\n",
       " '4uzhA.pdb',\n",
       " '5dn3A.pdb',\n",
       " '5dnrA.pdb',\n",
       " '8c14A.pdb',\n",
       " '8c1eA.pdb',\n",
       " '8c1mA.pdb',\n",
       " '3e5aA.pdb',\n",
       " '2xruA.pdb',\n",
       " '8c15A.pdb',\n",
       " '8c1dA.pdb',\n",
       " '8c1fA.pdb',\n",
       " '8c1gA.pdb',\n",
       " '8c1hA.pdb',\n",
       " '8c1iA.pdb',\n",
       " '5dosA.pdb',\n",
       " '5dpvA.pdb',\n",
       " '5dr2A.pdb',\n",
       " '5dr6A.pdb',\n",
       " '5dr9A.pdb',\n",
       " '5drdA.pdb',\n",
       " '5dt0A.pdb',\n",
       " '5dt3A.pdb',\n",
       " '8c1kA.pdb',\n",
       " '2wqeA.pdb',\n",
       " '5os2A.pdb',\n",
       " '7ficA.pdb',\n",
       " '2bmcA.pdb',\n",
       " '5odtA.pdb',\n",
       " '5lxmA.pdb',\n",
       " '6hjjA.pdb',\n",
       " '6hjkA.pdb',\n",
       " '4cegA.pdb',\n",
       " '5g1xA.pdb',\n",
       " '5l8jA.pdb',\n",
       " '5l8kA.pdb',\n",
       " '5l8lA.pdb',\n",
       " '6r49A.pdb',\n",
       " '6r4aA.pdb',\n",
       " '6r4bA.pdb',\n",
       " '6r4cA.pdb',\n",
       " '6r4dA.pdb',\n",
       " '1ol5A.pdb',\n",
       " '1ol7A.pdb',\n",
       " '6i2uA.pdb',\n",
       " '6vpgA.pdb',\n",
       " '2w1cA.pdb',\n",
       " '2w1gA.pdb',\n",
       " '6vpjA.pdb',\n",
       " '4j8mA.pdb',\n",
       " '5ew9A.pdb',\n",
       " '3qbnA.pdb',\n",
       " '3h0yA.pdb',\n",
       " '3h0zA.pdb',\n",
       " '3h10A.pdb',\n",
       " '3p9jA.pdb',\n",
       " '3ha6A.pdb',\n",
       " '5os5A.pdb',\n",
       " '5osdA.pdb',\n",
       " '3w10A.pdb',\n",
       " '3nrmA.pdb',\n",
       " '3r21A.pdb',\n",
       " '3r22A.pdb',\n",
       " '4dhfA.pdb',\n",
       " '5orlA.pdb',\n",
       " '5ornA.pdb',\n",
       " '5oroA.pdb',\n",
       " '5orpA.pdb',\n",
       " '5orrA.pdb',\n",
       " '5orsA.pdb',\n",
       " '5ortA.pdb',\n",
       " '5orvA.pdb',\n",
       " '5orwA.pdb',\n",
       " '5orxA.pdb',\n",
       " '5oryA.pdb',\n",
       " '5orzA.pdb',\n",
       " '5os0A.pdb',\n",
       " '5os1A.pdb',\n",
       " '5os3A.pdb',\n",
       " '5os4A.pdb',\n",
       " '5os6A.pdb',\n",
       " '5oseA.pdb',\n",
       " '5osfA.pdb',\n",
       " '2wtwA.pdb',\n",
       " '4bn1A.pdb',\n",
       " '8of5A.pdb',\n",
       " '6vpiA.pdb',\n",
       " '7ztlA.pdb',\n",
       " '2dwbA.pdb',\n",
       " '6vphA.pdb',\n",
       " '2wtvA.pdb',\n",
       " '4prjA.pdb',\n",
       " '3cohA.pdb',\n",
       " '3d14A.pdb',\n",
       " '3d15A.pdb',\n",
       " '3d2iA.pdb',\n",
       " '3d2kA.pdb',\n",
       " '3dj5A.pdb',\n",
       " '3dj6A.pdb',\n",
       " '3dj7A.pdb',\n",
       " '3dajA.pdb']"
      ]
     },
     "execution_count": 10,
     "metadata": {},
     "output_type": "execute_result"
    }
   ],
   "source": [
    "list_pdbs"
   ]
  },
  {
   "cell_type": "markdown",
   "metadata": {},
   "source": [
    "We need to prepare each PDB structure for the analysis with WatFinder by:\n",
    "\n",
    "(i) removing from the set all PDB files which doesn't contain water molecules using :func:`filterStructuresWithoutWater` function."
   ]
  },
  {
   "cell_type": "code",
   "execution_count": 11,
   "metadata": {},
   "outputs": [
    {
     "name": "stderr",
     "output_type": "stream",
     "text": [
      "@> 192 PDBs were parsed in 5.40s.   \n"
     ]
    }
   ],
   "source": [
    "structures = parsePDB(list_pdbs)"
   ]
  },
  {
   "cell_type": "code",
   "execution_count": 12,
   "metadata": {},
   "outputs": [
    {
     "name": "stderr",
     "output_type": "stream",
     "text": [
      "@> WARNING 3cohA doesn't contain water molecules\n",
      "@> WARNING 4prjA doesn't contain water molecules\n",
      "@> WARNING 2wtwA doesn't contain water molecules\n",
      "@> WARNING 4dhfA doesn't contain water molecules\n",
      "@> WARNING 3r21A doesn't contain water molecules\n",
      "@> WARNING 3nrmA doesn't contain water molecules\n",
      "@> WARNING 3h0zA doesn't contain water molecules\n",
      "@> WARNING 3qbnA doesn't contain water molecules\n",
      "@> WARNING 2w1cA doesn't contain water molecules\n",
      "@> WARNING 5drdA doesn't contain water molecules\n",
      "@> WARNING 5dosA doesn't contain water molecules\n",
      "@> WARNING 2xruA doesn't contain water molecules\n",
      "@> WARNING 8c1mA doesn't contain water molecules\n",
      "@> WARNING 5aagA doesn't contain water molecules\n",
      "@> WARNING 5aafA doesn't contain water molecules\n",
      "@> WARNING 5aaeA doesn't contain water molecules\n",
      "@> WARNING 8jmxA doesn't contain water molecules\n",
      "@> WARNING 8jf4A doesn't contain water molecules\n",
      "@> WARNING 5dt4A doesn't contain water molecules\n",
      "@> WARNING 2j50A doesn't contain water molecules\n",
      "@> WARNING 3vapA doesn't contain water molecules\n",
      "@> WARNING 2x81A doesn't contain water molecules\n",
      "@> WARNING 3o51A doesn't contain water molecules\n",
      "@> WARNING 4uzdA doesn't contain water molecules\n",
      "@> WARNING 2w1dA doesn't contain water molecules\n",
      "@> WARNING 4c3rA doesn't contain water molecules\n",
      "@> WARNING 5zanA doesn't contain water molecules\n",
      "@> WARNING 7ayiA doesn't contain water molecules\n",
      "@> WARNING 7ayhA doesn't contain water molecules\n",
      "@> WARNING 4zs0A doesn't contain water molecules\n",
      "@> WARNING 4byjA doesn't contain water molecules\n",
      "@> WARNING 4byiA doesn't contain water molecules\n",
      "@> WARNING 2x6eA doesn't contain water molecules\n",
      "@> WARNING 6cpgA doesn't contain water molecules\n",
      "@> WARNING 6c83A doesn't contain water molecules\n",
      "@> WARNING 1muoA doesn't contain water molecules\n"
     ]
    }
   ],
   "source": [
    "new_structures = filterStructuresWithoutWater(structures, 1, filenames=list_pdbs)"
   ]
  },
  {
   "cell_type": "markdown",
   "metadata": {},
   "source": [
    "We can now check how many structures are left that contain water molecules, and those will be further taken into analysis with WatFinder."
   ]
  },
  {
   "cell_type": "code",
   "execution_count": 13,
   "metadata": {},
   "outputs": [
    {
     "data": {
      "text/plain": [
       "156"
      ]
     },
     "execution_count": 13,
     "metadata": {},
     "output_type": "execute_result"
    }
   ],
   "source": [
    "len(new_structures)"
   ]
  },
  {
   "cell_type": "code",
   "execution_count": 14,
   "metadata": {},
   "outputs": [
    {
     "data": {
      "text/plain": [
       "156"
      ]
     },
     "execution_count": 14,
     "metadata": {},
     "output_type": "execute_result"
    }
   ],
   "source": [
    "len(list_pdbs)"
   ]
  },
  {
   "cell_type": "code",
   "execution_count": 15,
   "metadata": {},
   "outputs": [
    {
     "data": {
      "text/plain": [
       "[<AtomGroup: 2j4zA (2304 atoms)>,\n",
       " <AtomGroup: 7o2vA (2265 atoms)>,\n",
       " <AtomGroup: 6cpeA (4024 atoms)>,\n",
       " <AtomGroup: 6cpfA (4100 atoms)>,\n",
       " <AtomGroup: 8ssoA (2457 atoms)>,\n",
       " <AtomGroup: 2xngA (2001 atoms)>,\n",
       " <AtomGroup: 4b0gA (2065 atoms)>,\n",
       " <AtomGroup: 8sspA (2356 atoms)>,\n",
       " <AtomGroup: 2x6dA (2144 atoms)>,\n",
       " <AtomGroup: 4ztqA (2009 atoms)>,\n",
       " <AtomGroup: 4ztrA (2020 atoms)>,\n",
       " <AtomGroup: 4ztsA (2054 atoms)>,\n",
       " <AtomGroup: 5oneA (2119 atoms)>,\n",
       " <AtomGroup: 6graA (2022 atoms)>,\n",
       " <AtomGroup: 6z4yA (2284 atoms)>,\n",
       " <AtomGroup: 4c3pA (2212 atoms)>,\n",
       " <AtomGroup: 4o0sA (2218 atoms)>,\n",
       " <AtomGroup: 5g15A (2356 atoms)>,\n",
       " <AtomGroup: 6xkaA (2148 atoms)>,\n",
       " <AtomGroup: 2w1eA (2129 atoms)>,\n",
       " <AtomGroup: 2w1fA (2146 atoms)>,\n",
       " <AtomGroup: 4jaiA (2087 atoms)>,\n",
       " <AtomGroup: 4jajA (2189 atoms)>,\n",
       " <AtomGroup: 5objA (2186 atoms)>,\n",
       " <AtomGroup: 5obrA (2127 atoms)>,\n",
       " <AtomGroup: 3efwA (1962 atoms)>,\n",
       " <AtomGroup: 3o50A (2060 atoms)>,\n",
       " <AtomGroup: 3w16A (2073 atoms)>,\n",
       " <AtomGroup: 3w18A (1994 atoms)>,\n",
       " <AtomGroup: 1mq4A (2211 atoms)>,\n",
       " <AtomGroup: 2np8A (2347 atoms)>,\n",
       " <AtomGroup: 3mygA (2171 atoms)>,\n",
       " <AtomGroup: 6c2rA (2182 atoms)>,\n",
       " <AtomGroup: 6c2tA (2214 atoms)>,\n",
       " <AtomGroup: 3w2cA (1721 atoms)>,\n",
       " <AtomGroup: 1ol6A (1879 atoms)>,\n",
       " <AtomGroup: 8guwA (2374 atoms)>,\n",
       " <AtomGroup: 5aadA (2034 atoms)>,\n",
       " <AtomGroup: 3fdnA (2363 atoms)>,\n",
       " <AtomGroup: 3k5uA (2368 atoms)>,\n",
       " <AtomGroup: 3m11A (2202 atoms)>,\n",
       " <AtomGroup: 4jboA (2234 atoms)>,\n",
       " <AtomGroup: 4jbpA (2189 atoms)>,\n",
       " <AtomGroup: 4jbqA (2167 atoms)>,\n",
       " <AtomGroup: 2xneA (1951 atoms)>,\n",
       " <AtomGroup: 4o0wA (2163 atoms)>,\n",
       " <AtomGroup: 3unzA (2206 atoms)>,\n",
       " <AtomGroup: 3uo4A (2277 atoms)>,\n",
       " <AtomGroup: 3uo5A (2256 atoms)>,\n",
       " <AtomGroup: 3uo6A (2210 atoms)>,\n",
       " <AtomGroup: 3uodA (2270 atoms)>,\n",
       " <AtomGroup: 3uohA (2222 atoms)>,\n",
       " <AtomGroup: 3uojA (2197 atoms)>,\n",
       " <AtomGroup: 3uokA (2211 atoms)>,\n",
       " <AtomGroup: 3uolA (2266 atoms)>,\n",
       " <AtomGroup: 3up2A (2321 atoms)>,\n",
       " <AtomGroup: 3up7A (2212 atoms)>,\n",
       " <AtomGroup: 4deaA (2327 atoms)>,\n",
       " <AtomGroup: 4debA (2213 atoms)>,\n",
       " <AtomGroup: 4dedA (2234 atoms)>,\n",
       " <AtomGroup: 4deeA (2365 atoms)>,\n",
       " <AtomGroup: 4j8nA (4394 atoms)>,\n",
       " <AtomGroup: 6vplA (2582 atoms)>,\n",
       " <AtomGroup: 6vpmA (2576 atoms)>,\n",
       " <AtomGroup: 2c6eA (2135 atoms)>,\n",
       " <AtomGroup: 4o0uA (2170 atoms)>,\n",
       " <AtomGroup: 2c6dA (2247 atoms)>,\n",
       " <AtomGroup: 3lauA (2186 atoms)>,\n",
       " <AtomGroup: 4uynA (2182 atoms)>,\n",
       " <AtomGroup: 4uzhA (2246 atoms)>,\n",
       " <AtomGroup: 5dn3A (2382 atoms)>,\n",
       " <AtomGroup: 5dnrA (2331 atoms)>,\n",
       " <AtomGroup: 8c14A (2485 atoms)>,\n",
       " <AtomGroup: 8c1eA (2279 atoms)>,\n",
       " <AtomGroup: 3e5aA (2270 atoms)>,\n",
       " <AtomGroup: 8c15A (2234 atoms)>,\n",
       " <AtomGroup: 8c1dA (2273 atoms)>,\n",
       " <AtomGroup: 8c1fA (2319 atoms)>,\n",
       " <AtomGroup: 8c1gA (2326 atoms)>,\n",
       " <AtomGroup: 8c1hA (2277 atoms)>,\n",
       " <AtomGroup: 8c1iA (2222 atoms)>,\n",
       " <AtomGroup: 5dpvA (2192 atoms)>,\n",
       " <AtomGroup: 5dr2A (2223 atoms)>,\n",
       " <AtomGroup: 5dr6A (2166 atoms)>,\n",
       " <AtomGroup: 5dr9A (2174 atoms)>,\n",
       " <AtomGroup: 5dt0A (2249 atoms)>,\n",
       " <AtomGroup: 5dt3A (2285 atoms)>,\n",
       " <AtomGroup: 8c1kA (2264 atoms)>,\n",
       " <AtomGroup: 2wqeA (2029 atoms)>,\n",
       " <AtomGroup: 5os2A (2270 atoms)>,\n",
       " <AtomGroup: 7ficA (2024 atoms)>,\n",
       " <AtomGroup: 2bmcA (2187 atoms)>,\n",
       " <AtomGroup: 5odtA (2257 atoms)>,\n",
       " <AtomGroup: 5lxmA (2303 atoms)>,\n",
       " <AtomGroup: 6hjjA (2219 atoms)>,\n",
       " <AtomGroup: 6hjkA (2074 atoms)>,\n",
       " <AtomGroup: 4cegA (2255 atoms)>,\n",
       " <AtomGroup: 5g1xA (2332 atoms)>,\n",
       " <AtomGroup: 5l8jA (2198 atoms)>,\n",
       " <AtomGroup: 5l8kA (2386 atoms)>,\n",
       " <AtomGroup: 5l8lA (2463 atoms)>,\n",
       " <AtomGroup: 6r49A (2244 atoms)>,\n",
       " <AtomGroup: 6r4aA (2357 atoms)>,\n",
       " <AtomGroup: 6r4bA (2235 atoms)>,\n",
       " <AtomGroup: 6r4cA (2306 atoms)>,\n",
       " <AtomGroup: 6r4dA (2296 atoms)>,\n",
       " <AtomGroup: 1ol5A (2357 atoms)>,\n",
       " <AtomGroup: 1ol7A (2155 atoms)>,\n",
       " <AtomGroup: 6i2uA (2201 atoms)>,\n",
       " <AtomGroup: 6vpgA (2426 atoms)>,\n",
       " <AtomGroup: 2w1gA (2164 atoms)>,\n",
       " <AtomGroup: 6vpjA (2433 atoms)>,\n",
       " <AtomGroup: 4j8mA (4654 atoms)>,\n",
       " <AtomGroup: 5ew9A (2189 atoms)>,\n",
       " <AtomGroup: 3h0yA (2164 atoms)>,\n",
       " <AtomGroup: 3h10A (2291 atoms)>,\n",
       " <AtomGroup: 3p9jA (2084 atoms)>,\n",
       " <AtomGroup: 3ha6A (2242 atoms)>,\n",
       " <AtomGroup: 5os5A (2319 atoms)>,\n",
       " <AtomGroup: 5osdA (2284 atoms)>,\n",
       " <AtomGroup: 3w10A (2231 atoms)>,\n",
       " <AtomGroup: 3r22A (2061 atoms)>,\n",
       " <AtomGroup: 5orlA (2388 atoms)>,\n",
       " <AtomGroup: 5ornA (2235 atoms)>,\n",
       " <AtomGroup: 5oroA (2248 atoms)>,\n",
       " <AtomGroup: 5orpA (2244 atoms)>,\n",
       " <AtomGroup: 5orrA (2281 atoms)>,\n",
       " <AtomGroup: 5orsA (2307 atoms)>,\n",
       " <AtomGroup: 5ortA (2231 atoms)>,\n",
       " <AtomGroup: 5orvA (2275 atoms)>,\n",
       " <AtomGroup: 5orwA (2262 atoms)>,\n",
       " <AtomGroup: 5orxA (2294 atoms)>,\n",
       " <AtomGroup: 5oryA (2243 atoms)>,\n",
       " <AtomGroup: 5orzA (2283 atoms)>,\n",
       " <AtomGroup: 5os0A (2333 atoms)>,\n",
       " <AtomGroup: 5os1A (2303 atoms)>,\n",
       " <AtomGroup: 5os3A (2328 atoms)>,\n",
       " <AtomGroup: 5os4A (2317 atoms)>,\n",
       " <AtomGroup: 5os6A (2244 atoms)>,\n",
       " <AtomGroup: 5oseA (2303 atoms)>,\n",
       " <AtomGroup: 5osfA (2272 atoms)>,\n",
       " <AtomGroup: 4bn1A (2195 atoms)>,\n",
       " <AtomGroup: 8of5A (2364 atoms)>,\n",
       " <AtomGroup: 6vpiA (2558 atoms)>,\n",
       " <AtomGroup: 7ztlA (2376 atoms)>,\n",
       " <AtomGroup: 2dwbA (2216 atoms)>,\n",
       " <AtomGroup: 6vphA (2578 atoms)>,\n",
       " <AtomGroup: 2wtvA (2395 atoms)>,\n",
       " <AtomGroup: 3d14A (2372 atoms)>,\n",
       " <AtomGroup: 3d15A (2238 atoms)>,\n",
       " <AtomGroup: 3d2iA (2125 atoms)>,\n",
       " <AtomGroup: 3d2kA (2092 atoms)>,\n",
       " <AtomGroup: 3dj5A (2477 atoms)>,\n",
       " <AtomGroup: 3dj6A (2480 atoms)>,\n",
       " <AtomGroup: 3dj7A (2126 atoms)>,\n",
       " <AtomGroup: 3dajA (2132 atoms)>]"
      ]
     },
     "execution_count": 15,
     "metadata": {},
     "output_type": "execute_result"
    }
   ],
   "source": [
    "new_structures"
   ]
  },
  {
   "cell_type": "code",
   "execution_count": 16,
   "metadata": {},
   "outputs": [
    {
     "data": {
      "text/plain": [
       "['2j4zA.pdb',\n",
       " '7o2vA.pdb',\n",
       " '6cpeA.pdb',\n",
       " '6cpfA.pdb',\n",
       " '8ssoA.pdb',\n",
       " '2xngA.pdb',\n",
       " '4b0gA.pdb',\n",
       " '8sspA.pdb',\n",
       " '2x6dA.pdb',\n",
       " '4ztqA.pdb',\n",
       " '4ztrA.pdb',\n",
       " '4ztsA.pdb',\n",
       " '5oneA.pdb',\n",
       " '6graA.pdb',\n",
       " '6z4yA.pdb',\n",
       " '4c3pA.pdb',\n",
       " '4o0sA.pdb',\n",
       " '5g15A.pdb',\n",
       " '6xkaA.pdb',\n",
       " '2w1eA.pdb',\n",
       " '2w1fA.pdb',\n",
       " '4jaiA.pdb',\n",
       " '4jajA.pdb',\n",
       " '5objA.pdb',\n",
       " '5obrA.pdb',\n",
       " '3efwA.pdb',\n",
       " '3o50A.pdb',\n",
       " '3w16A.pdb',\n",
       " '3w18A.pdb',\n",
       " '1mq4A.pdb',\n",
       " '2np8A.pdb',\n",
       " '3mygA.pdb',\n",
       " '6c2rA.pdb',\n",
       " '6c2tA.pdb',\n",
       " '3w2cA.pdb',\n",
       " '1ol6A.pdb',\n",
       " '8guwA.pdb',\n",
       " '5aadA.pdb',\n",
       " '3fdnA.pdb',\n",
       " '3k5uA.pdb',\n",
       " '3m11A.pdb',\n",
       " '4jboA.pdb',\n",
       " '4jbpA.pdb',\n",
       " '4jbqA.pdb',\n",
       " '2xneA.pdb',\n",
       " '4o0wA.pdb',\n",
       " '3unzA.pdb',\n",
       " '3uo4A.pdb',\n",
       " '3uo5A.pdb',\n",
       " '3uo6A.pdb',\n",
       " '3uodA.pdb',\n",
       " '3uohA.pdb',\n",
       " '3uojA.pdb',\n",
       " '3uokA.pdb',\n",
       " '3uolA.pdb',\n",
       " '3up2A.pdb',\n",
       " '3up7A.pdb',\n",
       " '4deaA.pdb',\n",
       " '4debA.pdb',\n",
       " '4dedA.pdb',\n",
       " '4deeA.pdb',\n",
       " '4j8nA.pdb',\n",
       " '6vplA.pdb',\n",
       " '6vpmA.pdb',\n",
       " '2c6eA.pdb',\n",
       " '4o0uA.pdb',\n",
       " '2c6dA.pdb',\n",
       " '3lauA.pdb',\n",
       " '4uynA.pdb',\n",
       " '4uzhA.pdb',\n",
       " '5dn3A.pdb',\n",
       " '5dnrA.pdb',\n",
       " '8c14A.pdb',\n",
       " '8c1eA.pdb',\n",
       " '3e5aA.pdb',\n",
       " '8c15A.pdb',\n",
       " '8c1dA.pdb',\n",
       " '8c1fA.pdb',\n",
       " '8c1gA.pdb',\n",
       " '8c1hA.pdb',\n",
       " '8c1iA.pdb',\n",
       " '5dpvA.pdb',\n",
       " '5dr2A.pdb',\n",
       " '5dr6A.pdb',\n",
       " '5dr9A.pdb',\n",
       " '5dt0A.pdb',\n",
       " '5dt3A.pdb',\n",
       " '8c1kA.pdb',\n",
       " '2wqeA.pdb',\n",
       " '5os2A.pdb',\n",
       " '7ficA.pdb',\n",
       " '2bmcA.pdb',\n",
       " '5odtA.pdb',\n",
       " '5lxmA.pdb',\n",
       " '6hjjA.pdb',\n",
       " '6hjkA.pdb',\n",
       " '4cegA.pdb',\n",
       " '5g1xA.pdb',\n",
       " '5l8jA.pdb',\n",
       " '5l8kA.pdb',\n",
       " '5l8lA.pdb',\n",
       " '6r49A.pdb',\n",
       " '6r4aA.pdb',\n",
       " '6r4bA.pdb',\n",
       " '6r4cA.pdb',\n",
       " '6r4dA.pdb',\n",
       " '1ol5A.pdb',\n",
       " '1ol7A.pdb',\n",
       " '6i2uA.pdb',\n",
       " '6vpgA.pdb',\n",
       " '2w1gA.pdb',\n",
       " '6vpjA.pdb',\n",
       " '4j8mA.pdb',\n",
       " '5ew9A.pdb',\n",
       " '3h0yA.pdb',\n",
       " '3h10A.pdb',\n",
       " '3p9jA.pdb',\n",
       " '3ha6A.pdb',\n",
       " '5os5A.pdb',\n",
       " '5osdA.pdb',\n",
       " '3w10A.pdb',\n",
       " '3r22A.pdb',\n",
       " '5orlA.pdb',\n",
       " '5ornA.pdb',\n",
       " '5oroA.pdb',\n",
       " '5orpA.pdb',\n",
       " '5orrA.pdb',\n",
       " '5orsA.pdb',\n",
       " '5ortA.pdb',\n",
       " '5orvA.pdb',\n",
       " '5orwA.pdb',\n",
       " '5orxA.pdb',\n",
       " '5oryA.pdb',\n",
       " '5orzA.pdb',\n",
       " '5os0A.pdb',\n",
       " '5os1A.pdb',\n",
       " '5os3A.pdb',\n",
       " '5os4A.pdb',\n",
       " '5os6A.pdb',\n",
       " '5oseA.pdb',\n",
       " '5osfA.pdb',\n",
       " '4bn1A.pdb',\n",
       " '8of5A.pdb',\n",
       " '6vpiA.pdb',\n",
       " '7ztlA.pdb',\n",
       " '2dwbA.pdb',\n",
       " '6vphA.pdb',\n",
       " '2wtvA.pdb',\n",
       " '3d14A.pdb',\n",
       " '3d15A.pdb',\n",
       " '3d2iA.pdb',\n",
       " '3d2kA.pdb',\n",
       " '3dj5A.pdb',\n",
       " '3dj6A.pdb',\n",
       " '3dj7A.pdb',\n",
       " '3dajA.pdb']"
      ]
     },
     "execution_count": 16,
     "metadata": {},
     "output_type": "execute_result"
    }
   ],
   "source": [
    "list_pdbs"
   ]
  },
  {
   "cell_type": "markdown",
   "metadata": {},
   "source": [
    "(ii) adding hydrogens to each spatial structure, which contains water molecules, using :func:`fixStructuresMissingAtoms` function using `'pdbfixer'` method."
   ]
  },
  {
   "cell_type": "code",
   "execution_count": 17,
   "metadata": {
    "scrolled": true
   },
   "outputs": [
    {
     "name": "stderr",
     "output_type": "stream",
     "text": [
      "@> WARNING outfile addH_2j4zA.pdb already exists, so returning it. Set overwrite=True to overwrite it\n",
      "@> WARNING outfile addH_7o2vA.pdb already exists, so returning it. Set overwrite=True to overwrite it\n",
      "@> WARNING outfile addH_6cpeA.pdb already exists, so returning it. Set overwrite=True to overwrite it\n",
      "@> WARNING outfile addH_6cpfA.pdb already exists, so returning it. Set overwrite=True to overwrite it\n",
      "@> WARNING outfile addH_8ssoA.pdb already exists, so returning it. Set overwrite=True to overwrite it\n",
      "@> WARNING outfile addH_2xngA.pdb already exists, so returning it. Set overwrite=True to overwrite it\n",
      "@> WARNING outfile addH_4b0gA.pdb already exists, so returning it. Set overwrite=True to overwrite it\n",
      "@> WARNING outfile addH_8sspA.pdb already exists, so returning it. Set overwrite=True to overwrite it\n",
      "@> WARNING outfile addH_2x6dA.pdb already exists, so returning it. Set overwrite=True to overwrite it\n",
      "@> WARNING outfile addH_4ztqA.pdb already exists, so returning it. Set overwrite=True to overwrite it\n",
      "@> WARNING outfile addH_4ztrA.pdb already exists, so returning it. Set overwrite=True to overwrite it\n",
      "@> WARNING outfile addH_4ztsA.pdb already exists, so returning it. Set overwrite=True to overwrite it\n",
      "@> WARNING outfile addH_5oneA.pdb already exists, so returning it. Set overwrite=True to overwrite it\n",
      "@> WARNING outfile addH_6graA.pdb already exists, so returning it. Set overwrite=True to overwrite it\n",
      "@> WARNING outfile addH_6z4yA.pdb already exists, so returning it. Set overwrite=True to overwrite it\n",
      "@> WARNING outfile addH_4c3pA.pdb already exists, so returning it. Set overwrite=True to overwrite it\n",
      "@> WARNING outfile addH_4o0sA.pdb already exists, so returning it. Set overwrite=True to overwrite it\n",
      "@> WARNING outfile addH_5g15A.pdb already exists, so returning it. Set overwrite=True to overwrite it\n",
      "@> WARNING outfile addH_6xkaA.pdb already exists, so returning it. Set overwrite=True to overwrite it\n",
      "@> WARNING outfile addH_2w1eA.pdb already exists, so returning it. Set overwrite=True to overwrite it\n",
      "@> WARNING outfile addH_2w1fA.pdb already exists, so returning it. Set overwrite=True to overwrite it\n",
      "@> WARNING outfile addH_4jaiA.pdb already exists, so returning it. Set overwrite=True to overwrite it\n",
      "@> WARNING outfile addH_4jajA.pdb already exists, so returning it. Set overwrite=True to overwrite it\n",
      "@> WARNING outfile addH_5objA.pdb already exists, so returning it. Set overwrite=True to overwrite it\n",
      "@> WARNING outfile addH_5obrA.pdb already exists, so returning it. Set overwrite=True to overwrite it\n",
      "@> WARNING outfile addH_3efwA.pdb already exists, so returning it. Set overwrite=True to overwrite it\n",
      "@> WARNING outfile addH_3o50A.pdb already exists, so returning it. Set overwrite=True to overwrite it\n",
      "@> WARNING outfile addH_3w16A.pdb already exists, so returning it. Set overwrite=True to overwrite it\n",
      "@> WARNING outfile addH_3w18A.pdb already exists, so returning it. Set overwrite=True to overwrite it\n",
      "@> WARNING outfile addH_1mq4A.pdb already exists, so returning it. Set overwrite=True to overwrite it\n",
      "@> WARNING outfile addH_2np8A.pdb already exists, so returning it. Set overwrite=True to overwrite it\n",
      "@> WARNING outfile addH_3mygA.pdb already exists, so returning it. Set overwrite=True to overwrite it\n",
      "@> WARNING outfile addH_6c2rA.pdb already exists, so returning it. Set overwrite=True to overwrite it\n",
      "@> WARNING outfile addH_6c2tA.pdb already exists, so returning it. Set overwrite=True to overwrite it\n",
      "@> WARNING outfile addH_3w2cA.pdb already exists, so returning it. Set overwrite=True to overwrite it\n",
      "@> WARNING outfile addH_1ol6A.pdb already exists, so returning it. Set overwrite=True to overwrite it\n",
      "@> WARNING outfile addH_8guwA.pdb already exists, so returning it. Set overwrite=True to overwrite it\n",
      "@> WARNING outfile addH_5aadA.pdb already exists, so returning it. Set overwrite=True to overwrite it\n",
      "@> WARNING outfile addH_3fdnA.pdb already exists, so returning it. Set overwrite=True to overwrite it\n",
      "@> WARNING outfile addH_3k5uA.pdb already exists, so returning it. Set overwrite=True to overwrite it\n",
      "@> WARNING outfile addH_3m11A.pdb already exists, so returning it. Set overwrite=True to overwrite it\n",
      "@> WARNING outfile addH_4jboA.pdb already exists, so returning it. Set overwrite=True to overwrite it\n",
      "@> WARNING outfile addH_4jbpA.pdb already exists, so returning it. Set overwrite=True to overwrite it\n",
      "@> WARNING outfile addH_4jbqA.pdb already exists, so returning it. Set overwrite=True to overwrite it\n",
      "@> WARNING outfile addH_2xneA.pdb already exists, so returning it. Set overwrite=True to overwrite it\n",
      "@> WARNING outfile addH_4o0wA.pdb already exists, so returning it. Set overwrite=True to overwrite it\n",
      "@> WARNING outfile addH_3unzA.pdb already exists, so returning it. Set overwrite=True to overwrite it\n",
      "@> WARNING outfile addH_3uo4A.pdb already exists, so returning it. Set overwrite=True to overwrite it\n",
      "@> WARNING outfile addH_3uo5A.pdb already exists, so returning it. Set overwrite=True to overwrite it\n",
      "@> WARNING outfile addH_3uo6A.pdb already exists, so returning it. Set overwrite=True to overwrite it\n",
      "@> WARNING outfile addH_3uodA.pdb already exists, so returning it. Set overwrite=True to overwrite it\n",
      "@> WARNING outfile addH_3uohA.pdb already exists, so returning it. Set overwrite=True to overwrite it\n",
      "@> WARNING outfile addH_3uojA.pdb already exists, so returning it. Set overwrite=True to overwrite it\n",
      "@> WARNING outfile addH_3uokA.pdb already exists, so returning it. Set overwrite=True to overwrite it\n",
      "@> WARNING outfile addH_3uolA.pdb already exists, so returning it. Set overwrite=True to overwrite it\n",
      "@> WARNING outfile addH_3up2A.pdb already exists, so returning it. Set overwrite=True to overwrite it\n",
      "@> WARNING outfile addH_3up7A.pdb already exists, so returning it. Set overwrite=True to overwrite it\n",
      "@> WARNING outfile addH_4deaA.pdb already exists, so returning it. Set overwrite=True to overwrite it\n",
      "@> WARNING outfile addH_4debA.pdb already exists, so returning it. Set overwrite=True to overwrite it\n",
      "@> WARNING outfile addH_4dedA.pdb already exists, so returning it. Set overwrite=True to overwrite it\n",
      "@> WARNING outfile addH_4deeA.pdb already exists, so returning it. Set overwrite=True to overwrite it\n",
      "@> WARNING outfile addH_4j8nA.pdb already exists, so returning it. Set overwrite=True to overwrite it\n",
      "@> WARNING outfile addH_6vplA.pdb already exists, so returning it. Set overwrite=True to overwrite it\n",
      "@> WARNING outfile addH_6vpmA.pdb already exists, so returning it. Set overwrite=True to overwrite it\n",
      "@> WARNING outfile addH_2c6eA.pdb already exists, so returning it. Set overwrite=True to overwrite it\n",
      "@> WARNING outfile addH_4o0uA.pdb already exists, so returning it. Set overwrite=True to overwrite it\n",
      "@> WARNING outfile addH_2c6dA.pdb already exists, so returning it. Set overwrite=True to overwrite it\n",
      "@> WARNING outfile addH_3lauA.pdb already exists, so returning it. Set overwrite=True to overwrite it\n",
      "@> WARNING outfile addH_4uynA.pdb already exists, so returning it. Set overwrite=True to overwrite it\n",
      "@> WARNING outfile addH_4uzhA.pdb already exists, so returning it. Set overwrite=True to overwrite it\n",
      "@> WARNING outfile addH_5dn3A.pdb already exists, so returning it. Set overwrite=True to overwrite it\n",
      "@> WARNING outfile addH_5dnrA.pdb already exists, so returning it. Set overwrite=True to overwrite it\n",
      "@> WARNING outfile addH_8c14A.pdb already exists, so returning it. Set overwrite=True to overwrite it\n",
      "@> WARNING outfile addH_8c1eA.pdb already exists, so returning it. Set overwrite=True to overwrite it\n",
      "@> WARNING outfile addH_3e5aA.pdb already exists, so returning it. Set overwrite=True to overwrite it\n",
      "@> WARNING outfile addH_8c15A.pdb already exists, so returning it. Set overwrite=True to overwrite it\n",
      "@> WARNING outfile addH_8c1dA.pdb already exists, so returning it. Set overwrite=True to overwrite it\n",
      "@> WARNING outfile addH_8c1fA.pdb already exists, so returning it. Set overwrite=True to overwrite it\n",
      "@> WARNING outfile addH_8c1gA.pdb already exists, so returning it. Set overwrite=True to overwrite it\n",
      "@> WARNING outfile addH_8c1hA.pdb already exists, so returning it. Set overwrite=True to overwrite it\n",
      "@> WARNING outfile addH_8c1iA.pdb already exists, so returning it. Set overwrite=True to overwrite it\n"
     ]
    },
    {
     "name": "stderr",
     "output_type": "stream",
     "text": [
      "@> WARNING outfile addH_5dpvA.pdb already exists, so returning it. Set overwrite=True to overwrite it\n",
      "@> WARNING outfile addH_5dr2A.pdb already exists, so returning it. Set overwrite=True to overwrite it\n",
      "@> WARNING outfile addH_5dr6A.pdb already exists, so returning it. Set overwrite=True to overwrite it\n",
      "@> WARNING outfile addH_5dr9A.pdb already exists, so returning it. Set overwrite=True to overwrite it\n",
      "@> WARNING outfile addH_5dt0A.pdb already exists, so returning it. Set overwrite=True to overwrite it\n",
      "@> WARNING outfile addH_5dt3A.pdb already exists, so returning it. Set overwrite=True to overwrite it\n",
      "@> WARNING outfile addH_8c1kA.pdb already exists, so returning it. Set overwrite=True to overwrite it\n",
      "@> WARNING outfile addH_2wqeA.pdb already exists, so returning it. Set overwrite=True to overwrite it\n",
      "@> WARNING outfile addH_5os2A.pdb already exists, so returning it. Set overwrite=True to overwrite it\n",
      "@> WARNING outfile addH_7ficA.pdb already exists, so returning it. Set overwrite=True to overwrite it\n",
      "@> WARNING outfile addH_2bmcA.pdb already exists, so returning it. Set overwrite=True to overwrite it\n",
      "@> WARNING outfile addH_5odtA.pdb already exists, so returning it. Set overwrite=True to overwrite it\n",
      "@> WARNING outfile addH_5lxmA.pdb already exists, so returning it. Set overwrite=True to overwrite it\n",
      "@> WARNING outfile addH_6hjjA.pdb already exists, so returning it. Set overwrite=True to overwrite it\n",
      "@> WARNING outfile addH_6hjkA.pdb already exists, so returning it. Set overwrite=True to overwrite it\n",
      "@> WARNING outfile addH_4cegA.pdb already exists, so returning it. Set overwrite=True to overwrite it\n",
      "@> WARNING outfile addH_5g1xA.pdb already exists, so returning it. Set overwrite=True to overwrite it\n",
      "@> WARNING outfile addH_5l8jA.pdb already exists, so returning it. Set overwrite=True to overwrite it\n",
      "@> WARNING outfile addH_5l8kA.pdb already exists, so returning it. Set overwrite=True to overwrite it\n",
      "@> WARNING outfile addH_5l8lA.pdb already exists, so returning it. Set overwrite=True to overwrite it\n",
      "@> WARNING outfile addH_6r49A.pdb already exists, so returning it. Set overwrite=True to overwrite it\n",
      "@> WARNING outfile addH_6r4aA.pdb already exists, so returning it. Set overwrite=True to overwrite it\n",
      "@> WARNING outfile addH_6r4bA.pdb already exists, so returning it. Set overwrite=True to overwrite it\n",
      "@> WARNING outfile addH_6r4cA.pdb already exists, so returning it. Set overwrite=True to overwrite it\n",
      "@> WARNING outfile addH_6r4dA.pdb already exists, so returning it. Set overwrite=True to overwrite it\n",
      "@> WARNING outfile addH_1ol5A.pdb already exists, so returning it. Set overwrite=True to overwrite it\n",
      "@> WARNING outfile addH_1ol7A.pdb already exists, so returning it. Set overwrite=True to overwrite it\n",
      "@> WARNING outfile addH_6i2uA.pdb already exists, so returning it. Set overwrite=True to overwrite it\n",
      "@> WARNING outfile addH_6vpgA.pdb already exists, so returning it. Set overwrite=True to overwrite it\n",
      "@> WARNING outfile addH_2w1gA.pdb already exists, so returning it. Set overwrite=True to overwrite it\n",
      "@> WARNING outfile addH_6vpjA.pdb already exists, so returning it. Set overwrite=True to overwrite it\n",
      "@> WARNING outfile addH_4j8mA.pdb already exists, so returning it. Set overwrite=True to overwrite it\n",
      "@> WARNING outfile addH_5ew9A.pdb already exists, so returning it. Set overwrite=True to overwrite it\n",
      "@> WARNING outfile addH_3h0yA.pdb already exists, so returning it. Set overwrite=True to overwrite it\n",
      "@> WARNING outfile addH_3h10A.pdb already exists, so returning it. Set overwrite=True to overwrite it\n",
      "@> WARNING outfile addH_3p9jA.pdb already exists, so returning it. Set overwrite=True to overwrite it\n",
      "@> WARNING outfile addH_3ha6A.pdb already exists, so returning it. Set overwrite=True to overwrite it\n",
      "@> WARNING outfile addH_5os5A.pdb already exists, so returning it. Set overwrite=True to overwrite it\n",
      "@> WARNING outfile addH_5osdA.pdb already exists, so returning it. Set overwrite=True to overwrite it\n",
      "@> WARNING outfile addH_3w10A.pdb already exists, so returning it. Set overwrite=True to overwrite it\n",
      "@> WARNING outfile addH_3r22A.pdb already exists, so returning it. Set overwrite=True to overwrite it\n",
      "@> WARNING outfile addH_5orlA.pdb already exists, so returning it. Set overwrite=True to overwrite it\n",
      "@> WARNING outfile addH_5ornA.pdb already exists, so returning it. Set overwrite=True to overwrite it\n",
      "@> WARNING outfile addH_5oroA.pdb already exists, so returning it. Set overwrite=True to overwrite it\n",
      "@> WARNING outfile addH_5orpA.pdb already exists, so returning it. Set overwrite=True to overwrite it\n",
      "@> WARNING outfile addH_5orrA.pdb already exists, so returning it. Set overwrite=True to overwrite it\n",
      "@> WARNING outfile addH_5orsA.pdb already exists, so returning it. Set overwrite=True to overwrite it\n",
      "@> WARNING outfile addH_5ortA.pdb already exists, so returning it. Set overwrite=True to overwrite it\n",
      "@> WARNING outfile addH_5orvA.pdb already exists, so returning it. Set overwrite=True to overwrite it\n",
      "@> WARNING outfile addH_5orwA.pdb already exists, so returning it. Set overwrite=True to overwrite it\n",
      "@> WARNING outfile addH_5orxA.pdb already exists, so returning it. Set overwrite=True to overwrite it\n",
      "@> WARNING outfile addH_5oryA.pdb already exists, so returning it. Set overwrite=True to overwrite it\n",
      "@> WARNING outfile addH_5orzA.pdb already exists, so returning it. Set overwrite=True to overwrite it\n",
      "@> WARNING outfile addH_5os0A.pdb already exists, so returning it. Set overwrite=True to overwrite it\n",
      "@> WARNING outfile addH_5os1A.pdb already exists, so returning it. Set overwrite=True to overwrite it\n",
      "@> WARNING outfile addH_5os3A.pdb already exists, so returning it. Set overwrite=True to overwrite it\n",
      "@> WARNING outfile addH_5os4A.pdb already exists, so returning it. Set overwrite=True to overwrite it\n",
      "@> WARNING outfile addH_5os6A.pdb already exists, so returning it. Set overwrite=True to overwrite it\n",
      "@> WARNING outfile addH_5oseA.pdb already exists, so returning it. Set overwrite=True to overwrite it\n",
      "@> WARNING outfile addH_5osfA.pdb already exists, so returning it. Set overwrite=True to overwrite it\n",
      "@> WARNING outfile addH_4bn1A.pdb already exists, so returning it. Set overwrite=True to overwrite it\n",
      "@> WARNING outfile addH_8of5A.pdb already exists, so returning it. Set overwrite=True to overwrite it\n",
      "@> WARNING outfile addH_6vpiA.pdb already exists, so returning it. Set overwrite=True to overwrite it\n",
      "@> WARNING outfile addH_7ztlA.pdb already exists, so returning it. Set overwrite=True to overwrite it\n",
      "@> WARNING outfile addH_2dwbA.pdb already exists, so returning it. Set overwrite=True to overwrite it\n",
      "@> WARNING outfile addH_6vphA.pdb already exists, so returning it. Set overwrite=True to overwrite it\n",
      "@> WARNING outfile addH_2wtvA.pdb already exists, so returning it. Set overwrite=True to overwrite it\n",
      "@> WARNING outfile addH_3d14A.pdb already exists, so returning it. Set overwrite=True to overwrite it\n",
      "@> WARNING outfile addH_3d15A.pdb already exists, so returning it. Set overwrite=True to overwrite it\n",
      "@> WARNING outfile addH_3d2iA.pdb already exists, so returning it. Set overwrite=True to overwrite it\n",
      "@> WARNING outfile addH_3d2kA.pdb already exists, so returning it. Set overwrite=True to overwrite it\n",
      "@> WARNING outfile addH_3dj5A.pdb already exists, so returning it. Set overwrite=True to overwrite it\n",
      "@> WARNING outfile addH_3dj6A.pdb already exists, so returning it. Set overwrite=True to overwrite it\n",
      "@> WARNING outfile addH_3dj7A.pdb already exists, so returning it. Set overwrite=True to overwrite it\n",
      "@> WARNING outfile addH_3dajA.pdb already exists, so returning it. Set overwrite=True to overwrite it\n"
     ]
    }
   ],
   "source": [
    "new_pdbids = fixStructuresMissingAtoms(list_pdbs, method='pdbfixer')"
   ]
  },
  {
   "cell_type": "markdown",
   "metadata": {},
   "source": [
    "In the next step of protein preparation, we need to perform structural alignment of all PDB structures we will analyze. We will align all PDBs onto the first PDB structure of our list. Each aligned file is independently saved in the local directory with ``'align__'`` prefix."
   ]
  },
  {
   "cell_type": "code",
   "execution_count": 18,
   "metadata": {
    "scrolled": true
   },
   "outputs": [
    {
     "name": "stderr",
     "output_type": "stream",
     "text": [
      "@> 156 PDBs were parsed in 7.86s.        \n",
      "@> Checking AtomGroup addH_7o2vA: 1 chains are identified\n",
      "@> Checking AtomGroup addH_2j4zA: 1 chains are identified\n",
      "@> Trying to match chains based on residue numbers and names:\n",
      "@>   Comparing Chain A from addH_7o2vA (len=264) and Chain A from addH_2j4zA (len=264):\n",
      "@> \tFailed to match chains (seqid=7%, overlap=100%).\n",
      "@> Trying to match chains based on local sequence alignment:\n",
      "@>  Comparing Chain A from addH_7o2vA (len=264) and Chain A from addH_2j4zA (len=264):\n",
      "@> \tMatch: 254 residues match with 96% sequence identity and 96% overlap.\n"
     ]
    },
    {
     "name": "stdout",
     "output_type": "stream",
     "text": [
      "addH_7o2vA\n"
     ]
    },
    {
     "name": "stderr",
     "output_type": "stream",
     "text": [
      "@> Checking AtomGroup addH_6cpeA: 1 chains are identified\n",
      "@> Checking AtomGroup addH_2j4zA: 1 chains are identified\n",
      "@> Trying to match chains based on residue numbers and names:\n",
      "@>   Comparing Chain A from addH_6cpeA (len=256) and Chain A from addH_2j4zA (len=264):\n",
      "@> \tFailed to match chains (seqid=3%, overlap=97%).\n",
      "@> Trying to match chains based on local sequence alignment:\n",
      "@>  Comparing Chain A from addH_6cpeA (len=256) and Chain A from addH_2j4zA (len=264):\n",
      "@> \tMatch: 256 residues match with 100% sequence identity and 97% overlap.\n"
     ]
    },
    {
     "name": "stdout",
     "output_type": "stream",
     "text": [
      "addH_6cpeA\n"
     ]
    },
    {
     "name": "stderr",
     "output_type": "stream",
     "text": [
      "@> Checking AtomGroup addH_6cpfA: 1 chains are identified\n",
      "@> Checking AtomGroup addH_2j4zA: 1 chains are identified\n",
      "@> Trying to match chains based on residue numbers and names:\n",
      "@>   Comparing Chain A from addH_6cpfA (len=259) and Chain A from addH_2j4zA (len=264):\n",
      "@> \tFailed to match chains (seqid=5%, overlap=98%).\n",
      "@> Trying to match chains based on local sequence alignment:\n",
      "@>  Comparing Chain A from addH_6cpfA (len=259) and Chain A from addH_2j4zA (len=264):\n",
      "@> \tMatch: 256 residues match with 99% sequence identity and 97% overlap.\n"
     ]
    },
    {
     "name": "stdout",
     "output_type": "stream",
     "text": [
      "addH_6cpfA\n",
      "addH_8ssoA\n"
     ]
    },
    {
     "name": "stderr",
     "output_type": "stream",
     "text": [
      "@> Checking AtomGroup addH_8ssoA: 1 chains are identified\n",
      "@> Checking AtomGroup addH_2j4zA: 1 chains are identified\n",
      "@> Trying to match chains based on residue numbers and names:\n",
      "@>   Comparing Chain A from addH_8ssoA (len=256) and Chain A from addH_2j4zA (len=264):\n",
      "@> \tFailed to match chains (seqid=3%, overlap=97%).\n",
      "@> Trying to match chains based on local sequence alignment:\n",
      "@>  Comparing Chain A from addH_8ssoA (len=256) and Chain A from addH_2j4zA (len=264):\n",
      "@> \tMatch: 256 residues match with 100% sequence identity and 97% overlap.\n",
      "@> Checking AtomGroup addH_2xngA: 1 chains are identified\n",
      "@> Checking AtomGroup addH_2j4zA: 1 chains are identified\n",
      "@> Trying to match chains based on residue numbers and names:\n",
      "@>   Comparing Chain A from addH_2xngA (len=254) and Chain A from addH_2j4zA (len=264):\n",
      "@> \tFailed to match chains (seqid=2%, overlap=96%).\n",
      "@> Trying to match chains based on local sequence alignment:\n",
      "@>  Comparing Chain A from addH_2xngA (len=254) and Chain A from addH_2j4zA (len=264):\n",
      "@> \tMatch: 253 residues match with 100% sequence identity and 96% overlap.\n"
     ]
    },
    {
     "name": "stdout",
     "output_type": "stream",
     "text": [
      "addH_2xngA\n",
      "addH_4b0gA\n"
     ]
    },
    {
     "name": "stderr",
     "output_type": "stream",
     "text": [
      "@> Checking AtomGroup addH_4b0gA: 1 chains are identified\n",
      "@> Checking AtomGroup addH_2j4zA: 1 chains are identified\n",
      "@> Trying to match chains based on residue numbers and names:\n",
      "@>   Comparing Chain A from addH_4b0gA (len=247) and Chain A from addH_2j4zA (len=264):\n",
      "@> \tFailed to match chains (seqid=24%, overlap=94%).\n",
      "@> Trying to match chains based on local sequence alignment:\n",
      "@>  Comparing Chain A from addH_4b0gA (len=247) and Chain A from addH_2j4zA (len=264):\n",
      "@> \tMatch: 245 residues match with 99% sequence identity and 93% overlap.\n",
      "@> Checking AtomGroup addH_8sspA: 1 chains are identified\n",
      "@> Checking AtomGroup addH_2j4zA: 1 chains are identified\n",
      "@> Trying to match chains based on residue numbers and names:\n",
      "@>   Comparing Chain A from addH_8sspA (len=264) and Chain A from addH_2j4zA (len=264):\n",
      "@> \tMatch: 264 residues match with 100% sequence identity and 100% overlap.\n"
     ]
    },
    {
     "name": "stdout",
     "output_type": "stream",
     "text": [
      "addH_8sspA\n",
      "addH_2x6dA\n"
     ]
    },
    {
     "name": "stderr",
     "output_type": "stream",
     "text": [
      "@> Checking AtomGroup addH_2x6dA: 1 chains are identified\n",
      "@> Checking AtomGroup addH_2j4zA: 1 chains are identified\n",
      "@> Trying to match chains based on residue numbers and names:\n",
      "@>   Comparing Chain A from addH_2x6dA (len=255) and Chain A from addH_2j4zA (len=264):\n",
      "@> \tFailed to match chains (seqid=21%, overlap=97%).\n",
      "@> Trying to match chains based on local sequence alignment:\n",
      "@>  Comparing Chain A from addH_2x6dA (len=255) and Chain A from addH_2j4zA (len=264):\n",
      "@> \tMatch: 255 residues match with 100% sequence identity and 97% overlap.\n",
      "@> Checking AtomGroup addH_4ztqA: 1 chains are identified\n",
      "@> Checking AtomGroup addH_2j4zA: 1 chains are identified\n",
      "@> Trying to match chains based on residue numbers and names:\n",
      "@>   Comparing Chain A from addH_4ztqA (len=247) and Chain A from addH_2j4zA (len=264):\n",
      "@> \tFailed to match chains (seqid=2%, overlap=94%).\n",
      "@> Trying to match chains based on local sequence alignment:\n",
      "@>  Comparing Chain A from addH_4ztqA (len=247) and Chain A from addH_2j4zA (len=264):\n",
      "@> \tMatch: 247 residues match with 100% sequence identity and 94% overlap.\n"
     ]
    },
    {
     "name": "stdout",
     "output_type": "stream",
     "text": [
      "addH_4ztqA\n",
      "addH_4ztrA\n"
     ]
    },
    {
     "name": "stderr",
     "output_type": "stream",
     "text": [
      "@> Checking AtomGroup addH_4ztrA: 1 chains are identified\n",
      "@> Checking AtomGroup addH_2j4zA: 1 chains are identified\n",
      "@> Trying to match chains based on residue numbers and names:\n",
      "@>   Comparing Chain A from addH_4ztrA (len=249) and Chain A from addH_2j4zA (len=264):\n",
      "@> \tFailed to match chains (seqid=4%, overlap=94%).\n",
      "@> Trying to match chains based on local sequence alignment:\n",
      "@>  Comparing Chain A from addH_4ztrA (len=249) and Chain A from addH_2j4zA (len=264):\n",
      "@> \tMatch: 249 residues match with 100% sequence identity and 94% overlap.\n",
      "@> Checking AtomGroup addH_4ztsA: 1 chains are identified\n",
      "@> Checking AtomGroup addH_2j4zA: 1 chains are identified\n",
      "@> Trying to match chains based on residue numbers and names:\n",
      "@>   Comparing Chain A from addH_4ztsA (len=249) and Chain A from addH_2j4zA (len=264):\n",
      "@> \tFailed to match chains (seqid=4%, overlap=94%).\n",
      "@> Trying to match chains based on local sequence alignment:\n",
      "@>  Comparing Chain A from addH_4ztsA (len=249) and Chain A from addH_2j4zA (len=264):\n",
      "@> \tMatch: 249 residues match with 100% sequence identity and 94% overlap.\n"
     ]
    },
    {
     "name": "stdout",
     "output_type": "stream",
     "text": [
      "addH_4ztsA\n",
      "addH_5oneA\n"
     ]
    },
    {
     "name": "stderr",
     "output_type": "stream",
     "text": [
      "@> Checking AtomGroup addH_5oneA: 1 chains are identified\n",
      "@> Checking AtomGroup addH_2j4zA: 1 chains are identified\n",
      "@> Trying to match chains based on residue numbers and names:\n",
      "@>   Comparing Chain A from addH_5oneA (len=257) and Chain A from addH_2j4zA (len=264):\n",
      "@> \tFailed to match chains (seqid=4%, overlap=97%).\n",
      "@> Trying to match chains based on local sequence alignment:\n",
      "@>  Comparing Chain A from addH_5oneA (len=257) and Chain A from addH_2j4zA (len=264):\n",
      "@> \tMatch: 255 residues match with 99% sequence identity and 97% overlap.\n",
      "@> Checking AtomGroup addH_6graA: 1 chains are identified\n",
      "@> Checking AtomGroup addH_2j4zA: 1 chains are identified\n",
      "@> Trying to match chains based on residue numbers and names:\n",
      "@>   Comparing Chain A from addH_6graA (len=250) and Chain A from addH_2j4zA (len=264):\n",
      "@> \tFailed to match chains (seqid=64%, overlap=95%).\n",
      "@> Trying to match chains based on local sequence alignment:\n",
      "@>  Comparing Chain A from addH_6graA (len=250) and Chain A from addH_2j4zA (len=264):\n",
      "@> \tMatch: 250 residues match with 100% sequence identity and 95% overlap.\n"
     ]
    },
    {
     "name": "stdout",
     "output_type": "stream",
     "text": [
      "addH_6graA\n",
      "addH_6z4yA\n"
     ]
    },
    {
     "name": "stderr",
     "output_type": "stream",
     "text": [
      "@> Checking AtomGroup addH_6z4yA: 1 chains are identified\n",
      "@> Checking AtomGroup addH_2j4zA: 1 chains are identified\n",
      "@> Trying to match chains based on residue numbers and names:\n",
      "@>   Comparing Chain A from addH_6z4yA (len=259) and Chain A from addH_2j4zA (len=264):\n",
      "@> \tFailed to match chains (seqid=6%, overlap=98%).\n",
      "@> Trying to match chains based on local sequence alignment:\n",
      "@>  Comparing Chain A from addH_6z4yA (len=259) and Chain A from addH_2j4zA (len=264):\n",
      "@> \tMatch: 257 residues match with 99% sequence identity and 97% overlap.\n",
      "@> Checking AtomGroup addH_4c3pA: 1 chains are identified\n",
      "@> Checking AtomGroup addH_2j4zA: 1 chains are identified\n",
      "@> Trying to match chains based on residue numbers and names:\n",
      "@>   Comparing Chain A from addH_4c3pA (len=264) and Chain A from addH_2j4zA (len=264):\n",
      "@> \tFailed to match chains (seqid=4%, overlap=100%).\n",
      "@> Trying to match chains based on local sequence alignment:\n",
      "@>  Comparing Chain A from addH_4c3pA (len=264) and Chain A from addH_2j4zA (len=264):\n",
      "@> \tMatch: 263 residues match with 100% sequence identity and 100% overlap.\n"
     ]
    },
    {
     "name": "stdout",
     "output_type": "stream",
     "text": [
      "addH_4c3pA\n",
      "addH_4o0sA\n"
     ]
    },
    {
     "name": "stderr",
     "output_type": "stream",
     "text": [
      "@> Checking AtomGroup addH_4o0sA: 1 chains are identified\n",
      "@> Checking AtomGroup addH_2j4zA: 1 chains are identified\n",
      "@> Trying to match chains based on residue numbers and names:\n",
      "@>   Comparing Chain A from addH_4o0sA (len=265) and Chain A from addH_2j4zA (len=264):\n",
      "@> \tFailed to match chains (seqid=63%, overlap=100%).\n",
      "@> Trying to match chains based on local sequence alignment:\n",
      "@>  Comparing Chain A from addH_4o0sA (len=265) and Chain A from addH_2j4zA (len=264):\n",
      "@> \tMatch: 263 residues match with 100% sequence identity and 99% overlap.\n",
      "@> Checking AtomGroup addH_5g15A: 1 chains are identified\n",
      "@> Checking AtomGroup addH_2j4zA: 1 chains are identified\n",
      "@> Trying to match chains based on residue numbers and names:\n",
      "@>   Comparing Chain A from addH_5g15A (len=265) and Chain A from addH_2j4zA (len=264):\n",
      "@> \tMatch: 264 residues match with 100% sequence identity and 100% overlap.\n"
     ]
    },
    {
     "name": "stdout",
     "output_type": "stream",
     "text": [
      "addH_5g15A\n",
      "addH_6xkaA\n"
     ]
    },
    {
     "name": "stderr",
     "output_type": "stream",
     "text": [
      "@> Checking AtomGroup addH_6xkaA: 1 chains are identified\n",
      "@> Checking AtomGroup addH_2j4zA: 1 chains are identified\n",
      "@> Trying to match chains based on residue numbers and names:\n",
      "@>   Comparing Chain A from addH_6xkaA (len=252) and Chain A from addH_2j4zA (len=264):\n",
      "@> \tFailed to match chains (seqid=2%, overlap=95%).\n",
      "@> Trying to match chains based on local sequence alignment:\n",
      "@>  Comparing Chain A from addH_6xkaA (len=252) and Chain A from addH_2j4zA (len=264):\n",
      "@> \tMatch: 252 residues match with 100% sequence identity and 95% overlap.\n",
      "@> Checking AtomGroup addH_2w1eA: 1 chains are identified\n",
      "@> Checking AtomGroup addH_2j4zA: 1 chains are identified\n",
      "@> Trying to match chains based on residue numbers and names:\n",
      "@>   Comparing Chain A from addH_2w1eA (len=253) and Chain A from addH_2j4zA (len=264):\n",
      "@> \tFailed to match chains (seqid=2%, overlap=96%).\n",
      "@> Trying to match chains based on local sequence alignment:\n",
      "@>  Comparing Chain A from addH_2w1eA (len=253) and Chain A from addH_2j4zA (len=264):\n",
      "@> \tMatch: 252 residues match with 100% sequence identity and 95% overlap.\n"
     ]
    },
    {
     "name": "stdout",
     "output_type": "stream",
     "text": [
      "addH_2w1eA\n",
      "addH_2w1fA\n"
     ]
    },
    {
     "name": "stderr",
     "output_type": "stream",
     "text": [
      "@> Checking AtomGroup addH_2w1fA: 1 chains are identified\n",
      "@> Checking AtomGroup addH_2j4zA: 1 chains are identified\n",
      "@> Trying to match chains based on residue numbers and names:\n",
      "@>   Comparing Chain A from addH_2w1fA (len=254) and Chain A from addH_2j4zA (len=264):\n",
      "@> \tFailed to match chains (seqid=2%, overlap=96%).\n",
      "@> Trying to match chains based on local sequence alignment:\n",
      "@>  Comparing Chain A from addH_2w1fA (len=254) and Chain A from addH_2j4zA (len=264):\n",
      "@> \tMatch: 253 residues match with 100% sequence identity and 96% overlap.\n",
      "@> Checking AtomGroup addH_4jaiA: 1 chains are identified\n",
      "@> Checking AtomGroup addH_2j4zA: 1 chains are identified\n",
      "@> Trying to match chains based on residue numbers and names:\n",
      "@>   Comparing Chain A from addH_4jaiA (len=249) and Chain A from addH_2j4zA (len=264):\n",
      "@> \tFailed to match chains (seqid=61%, overlap=94%).\n",
      "@> Trying to match chains based on local sequence alignment:\n",
      "@>  Comparing Chain A from addH_4jaiA (len=249) and Chain A from addH_2j4zA (len=264):\n",
      "@> \tMatch: 248 residues match with 100% sequence identity and 94% overlap.\n"
     ]
    },
    {
     "name": "stdout",
     "output_type": "stream",
     "text": [
      "addH_4jaiA\n",
      "addH_4jajA\n"
     ]
    },
    {
     "name": "stderr",
     "output_type": "stream",
     "text": [
      "@> Checking AtomGroup addH_4jajA: 1 chains are identified\n",
      "@> Checking AtomGroup addH_2j4zA: 1 chains are identified\n",
      "@> Trying to match chains based on residue numbers and names:\n",
      "@>   Comparing Chain A from addH_4jajA (len=265) and Chain A from addH_2j4zA (len=264):\n",
      "@> \tFailed to match chains (seqid=4%, overlap=100%).\n",
      "@> Trying to match chains based on local sequence alignment:\n",
      "@>  Comparing Chain A from addH_4jajA (len=265) and Chain A from addH_2j4zA (len=264):\n",
      "@> \tMatch: 264 residues match with 100% sequence identity and 100% overlap.\n",
      "@> Checking AtomGroup addH_5objA: 1 chains are identified\n",
      "@> Checking AtomGroup addH_2j4zA: 1 chains are identified\n",
      "@> Trying to match chains based on residue numbers and names:\n",
      "@>   Comparing Chain A from addH_5objA (len=260) and Chain A from addH_2j4zA (len=264):\n",
      "@> \tFailed to match chains (seqid=4%, overlap=98%).\n",
      "@> Trying to match chains based on local sequence alignment:\n",
      "@>  Comparing Chain A from addH_5objA (len=260) and Chain A from addH_2j4zA (len=264):\n",
      "@> \tMatch: 259 residues match with 100% sequence identity and 98% overlap.\n"
     ]
    },
    {
     "name": "stdout",
     "output_type": "stream",
     "text": [
      "addH_5objA\n",
      "addH_5obrA\n"
     ]
    },
    {
     "name": "stderr",
     "output_type": "stream",
     "text": [
      "@> Checking AtomGroup addH_5obrA: 1 chains are identified\n",
      "@> Checking AtomGroup addH_2j4zA: 1 chains are identified\n",
      "@> Trying to match chains based on residue numbers and names:\n",
      "@>   Comparing Chain A from addH_5obrA (len=255) and Chain A from addH_2j4zA (len=264):\n",
      "@> \tFailed to match chains (seqid=62%, overlap=97%).\n",
      "@> Trying to match chains based on local sequence alignment:\n",
      "@>  Comparing Chain A from addH_5obrA (len=255) and Chain A from addH_2j4zA (len=264):\n",
      "@> \tMatch: 254 residues match with 100% sequence identity and 96% overlap.\n",
      "@> Checking AtomGroup addH_3efwA: 1 chains are identified\n",
      "@> Checking AtomGroup addH_2j4zA: 1 chains are identified\n",
      "@> Trying to match chains based on residue numbers and names:\n",
      "@>   Comparing Chain A from addH_3efwA (len=240) and Chain A from addH_2j4zA (len=264):\n",
      "@> \tFailed to match chains (seqid=64%, overlap=91%).\n",
      "@> Trying to match chains based on local sequence alignment:\n",
      "@>  Comparing Chain A from addH_3efwA (len=240) and Chain A from addH_2j4zA (len=264):\n",
      "@> \tMatch: 240 residues match with 100% sequence identity and 91% overlap.\n"
     ]
    },
    {
     "name": "stdout",
     "output_type": "stream",
     "text": [
      "addH_3efwA\n",
      "addH_3o50A\n"
     ]
    },
    {
     "name": "stderr",
     "output_type": "stream",
     "text": [
      "@> Checking AtomGroup addH_3o50A: 1 chains are identified\n",
      "@> Checking AtomGroup addH_2j4zA: 1 chains are identified\n",
      "@> Trying to match chains based on residue numbers and names:\n",
      "@>   Comparing Chain A from addH_3o50A (len=246) and Chain A from addH_2j4zA (len=264):\n",
      "@> \tFailed to match chains (seqid=63%, overlap=93%).\n",
      "@> Trying to match chains based on local sequence alignment:\n",
      "@>  Comparing Chain A from addH_3o50A (len=246) and Chain A from addH_2j4zA (len=264):\n",
      "@> \tMatch: 246 residues match with 100% sequence identity and 93% overlap.\n",
      "@> Checking AtomGroup addH_3w16A: 1 chains are identified\n",
      "@> Checking AtomGroup addH_2j4zA: 1 chains are identified\n",
      "@> Trying to match chains based on residue numbers and names:\n",
      "@>   Comparing Chain A from addH_3w16A (len=249) and Chain A from addH_2j4zA (len=264):\n",
      "@> \tFailed to match chains (seqid=65%, overlap=94%).\n",
      "@> Trying to match chains based on local sequence alignment:\n",
      "@>  Comparing Chain A from addH_3w16A (len=249) and Chain A from addH_2j4zA (len=264):\n",
      "@> \tMatch: 249 residues match with 100% sequence identity and 94% overlap.\n"
     ]
    },
    {
     "name": "stdout",
     "output_type": "stream",
     "text": [
      "addH_3w16A\n",
      "addH_3w18A\n"
     ]
    },
    {
     "name": "stderr",
     "output_type": "stream",
     "text": [
      "@> Checking AtomGroup addH_3w18A: 1 chains are identified\n",
      "@> Checking AtomGroup addH_2j4zA: 1 chains are identified\n",
      "@> Trying to match chains based on residue numbers and names:\n",
      "@>   Comparing Chain A from addH_3w18A (len=234) and Chain A from addH_2j4zA (len=264):\n",
      "@> \tFailed to match chains (seqid=14%, overlap=89%).\n",
      "@> Trying to match chains based on local sequence alignment:\n",
      "@>  Comparing Chain A from addH_3w18A (len=234) and Chain A from addH_2j4zA (len=264):\n",
      "@> \tFailed to match chains (seqid=100%, overlap=89%).\n",
      "@> Checking AtomGroup addH_1mq4A: 1 chains are identified\n",
      "@> Checking AtomGroup addH_2j4zA: 1 chains are identified\n",
      "@> Trying to match chains based on residue numbers and names:\n",
      "@>   Comparing Chain A from addH_1mq4A (len=261) and Chain A from addH_2j4zA (len=264):\n",
      "@> \tFailed to match chains (seqid=62%, overlap=99%).\n",
      "@> Trying to match chains based on local sequence alignment:\n",
      "@>  Comparing Chain A from addH_1mq4A (len=261) and Chain A from addH_2j4zA (len=264):\n",
      "@> \tMatch: 261 residues match with 100% sequence identity and 99% overlap.\n"
     ]
    },
    {
     "name": "stdout",
     "output_type": "stream",
     "text": [
      "addH_1mq4A\n"
     ]
    },
    {
     "name": "stderr",
     "output_type": "stream",
     "text": [
      "@> Checking AtomGroup addH_2np8A: 1 chains are identified\n",
      "@> Checking AtomGroup addH_2j4zA: 1 chains are identified\n",
      "@> Trying to match chains based on residue numbers and names:\n",
      "@>   Comparing Chain A from addH_2np8A (len=256) and Chain A from addH_2j4zA (len=264):\n",
      "@> \tFailed to match chains (seqid=3%, overlap=97%).\n",
      "@> Trying to match chains based on local sequence alignment:\n",
      "@>  Comparing Chain A from addH_2np8A (len=256) and Chain A from addH_2j4zA (len=264):\n",
      "@> \tMatch: 256 residues match with 100% sequence identity and 97% overlap.\n"
     ]
    },
    {
     "name": "stdout",
     "output_type": "stream",
     "text": [
      "addH_2np8A\n",
      "addH_3mygA\n"
     ]
    },
    {
     "name": "stderr",
     "output_type": "stream",
     "text": [
      "@> Checking AtomGroup addH_3mygA: 1 chains are identified\n",
      "@> Checking AtomGroup addH_2j4zA: 1 chains are identified\n",
      "@> Trying to match chains based on residue numbers and names:\n",
      "@>   Comparing Chain A from addH_3mygA (len=252) and Chain A from addH_2j4zA (len=264):\n",
      "@> \tFailed to match chains (seqid=62%, overlap=95%).\n",
      "@> Trying to match chains based on local sequence alignment:\n",
      "@>  Comparing Chain A from addH_3mygA (len=252) and Chain A from addH_2j4zA (len=264):\n",
      "@> \tMatch: 252 residues match with 100% sequence identity and 95% overlap.\n",
      "@> Checking AtomGroup addH_6c2rA: 1 chains are identified\n",
      "@> Checking AtomGroup addH_2j4zA: 1 chains are identified\n",
      "@> Trying to match chains based on residue numbers and names:\n",
      "@>   Comparing Chain A from addH_6c2rA (len=250) and Chain A from addH_2j4zA (len=264):\n",
      "@> \tFailed to match chains (seqid=7%, overlap=95%).\n",
      "@> Trying to match chains based on local sequence alignment:\n",
      "@>  Comparing Chain A from addH_6c2rA (len=250) and Chain A from addH_2j4zA (len=264):\n",
      "@> \tMatch: 250 residues match with 100% sequence identity and 95% overlap.\n"
     ]
    },
    {
     "name": "stdout",
     "output_type": "stream",
     "text": [
      "addH_6c2rA\n",
      "addH_6c2tA\n"
     ]
    },
    {
     "name": "stderr",
     "output_type": "stream",
     "text": [
      "@> Checking AtomGroup addH_6c2tA: 1 chains are identified\n",
      "@> Checking AtomGroup addH_2j4zA: 1 chains are identified\n",
      "@> Trying to match chains based on residue numbers and names:\n",
      "@>   Comparing Chain A from addH_6c2tA (len=253) and Chain A from addH_2j4zA (len=264):\n",
      "@> \tFailed to match chains (seqid=5%, overlap=96%).\n",
      "@> Trying to match chains based on local sequence alignment:\n",
      "@>  Comparing Chain A from addH_6c2tA (len=253) and Chain A from addH_2j4zA (len=264):\n",
      "@> \tMatch: 253 residues match with 100% sequence identity and 96% overlap.\n",
      "@> Checking AtomGroup addH_3w2cA: 1 chains are identified\n",
      "@> Checking AtomGroup addH_2j4zA: 1 chains are identified\n",
      "@> Trying to match chains based on residue numbers and names:\n",
      "@>   Comparing Chain A from addH_3w2cA (len=203) and Chain A from addH_2j4zA (len=264):\n",
      "@> \tFailed to match chains (seqid=5%, overlap=77%).\n",
      "@> Trying to match chains based on local sequence alignment:\n",
      "@>  Comparing Chain A from addH_3w2cA (len=203) and Chain A from addH_2j4zA (len=264):\n",
      "@> \tFailed to match chains (seqid=100%, overlap=77%).\n",
      "@> Checking AtomGroup addH_1ol6A: 1 chains are identified\n",
      "@> Checking AtomGroup addH_2j4zA: 1 chains are identified\n",
      "@> Trying to match chains based on residue numbers and names:\n",
      "@>   Comparing Chain A from addH_1ol6A (len=246) and Chain A from addH_2j4zA (len=264):\n",
      "@> \tFailed to match chains (seqid=5%, overlap=93%).\n",
      "@> Trying to match chains based on local sequence alignment:\n",
      "@>  Comparing Chain A from addH_1ol6A (len=246) and Chain A from addH_2j4zA (len=264):\n",
      "@> \tMatch: 246 residues match with 100% sequence identity and 93% overlap.\n"
     ]
    },
    {
     "name": "stdout",
     "output_type": "stream",
     "text": [
      "addH_3w2cA\n",
      "addH_1ol6A\n"
     ]
    },
    {
     "name": "stderr",
     "output_type": "stream",
     "text": [
      "@> Checking AtomGroup addH_8guwA: 1 chains are identified\n",
      "@> Checking AtomGroup addH_2j4zA: 1 chains are identified\n",
      "@> Trying to match chains based on residue numbers and names:\n",
      "@>   Comparing Chain A from addH_8guwA (len=282) and Chain A from addH_2j4zA (len=264):\n",
      "@> \tFailed to match chains (seqid=9%, overlap=94%).\n",
      "@> Trying to match chains based on local sequence alignment:\n",
      "@>  Comparing Chain A from addH_8guwA (len=282) and Chain A from addH_2j4zA (len=264):\n",
      "@> \tMatch: 256 residues match with 97% sequence identity and 91% overlap.\n"
     ]
    },
    {
     "name": "stdout",
     "output_type": "stream",
     "text": [
      "addH_8guwA\n",
      "addH_5aadA\n"
     ]
    },
    {
     "name": "stderr",
     "output_type": "stream",
     "text": [
      "@> Checking AtomGroup addH_5aadA: 1 chains are identified\n",
      "@> Checking AtomGroup addH_2j4zA: 1 chains are identified\n",
      "@> Trying to match chains based on residue numbers and names:\n",
      "@>   Comparing Chain A from addH_5aadA (len=252) and Chain A from addH_2j4zA (len=264):\n",
      "@> \tFailed to match chains (seqid=2%, overlap=95%).\n",
      "@> Trying to match chains based on local sequence alignment:\n",
      "@>  Comparing Chain A from addH_5aadA (len=252) and Chain A from addH_2j4zA (len=264):\n",
      "@> \tMatch: 252 residues match with 100% sequence identity and 95% overlap.\n",
      "@> Checking AtomGroup addH_3fdnA: 1 chains are identified\n",
      "@> Checking AtomGroup addH_2j4zA: 1 chains are identified\n",
      "@> Trying to match chains based on residue numbers and names:\n",
      "@>   Comparing Chain A from addH_3fdnA (len=261) and Chain A from addH_2j4zA (len=264):\n",
      "@> \tFailed to match chains (seqid=61%, overlap=99%).\n",
      "@> Trying to match chains based on local sequence alignment:\n",
      "@>  Comparing Chain A from addH_3fdnA (len=261) and Chain A from addH_2j4zA (len=264):\n",
      "@> \tMatch: 256 residues match with 98% sequence identity and 97% overlap.\n"
     ]
    },
    {
     "name": "stdout",
     "output_type": "stream",
     "text": [
      "addH_3fdnA\n",
      "addH_3k5uA\n"
     ]
    },
    {
     "name": "stderr",
     "output_type": "stream",
     "text": [
      "@> Checking AtomGroup addH_3k5uA: 1 chains are identified\n",
      "@> Checking AtomGroup addH_2j4zA: 1 chains are identified\n",
      "@> Trying to match chains based on residue numbers and names:\n",
      "@>   Comparing Chain A from addH_3k5uA (len=260) and Chain A from addH_2j4zA (len=264):\n",
      "@> \tFailed to match chains (seqid=63%, overlap=98%).\n",
      "@> Trying to match chains based on local sequence alignment:\n",
      "@>  Comparing Chain A from addH_3k5uA (len=260) and Chain A from addH_2j4zA (len=264):\n",
      "@> \tMatch: 255 residues match with 98% sequence identity and 97% overlap.\n",
      "@> Checking AtomGroup addH_3m11A: 1 chains are identified\n",
      "@> Checking AtomGroup addH_2j4zA: 1 chains are identified\n",
      "@> Trying to match chains based on residue numbers and names:\n",
      "@>   Comparing Chain A from addH_3m11A (len=256) and Chain A from addH_2j4zA (len=264):\n",
      "@> \tFailed to match chains (seqid=61%, overlap=97%).\n",
      "@> Trying to match chains based on local sequence alignment:\n",
      "@>  Comparing Chain A from addH_3m11A (len=256) and Chain A from addH_2j4zA (len=264):\n",
      "@> \tMatch: 254 residues match with 99% sequence identity and 96% overlap.\n"
     ]
    },
    {
     "name": "stdout",
     "output_type": "stream",
     "text": [
      "addH_3m11A\n",
      "addH_4jboA\n"
     ]
    },
    {
     "name": "stderr",
     "output_type": "stream",
     "text": [
      "@> Checking AtomGroup addH_4jboA: 1 chains are identified\n",
      "@> Checking AtomGroup addH_2j4zA: 1 chains are identified\n",
      "@> Trying to match chains based on residue numbers and names:\n",
      "@>   Comparing Chain A from addH_4jboA (len=266) and Chain A from addH_2j4zA (len=264):\n",
      "@> \tMatch: 264 residues match with 100% sequence identity and 99% overlap.\n",
      "@> Checking AtomGroup addH_4jbpA: 1 chains are identified\n",
      "@> Checking AtomGroup addH_2j4zA: 1 chains are identified\n",
      "@> Trying to match chains based on residue numbers and names:\n",
      "@>   Comparing Chain A from addH_4jbpA (len=255) and Chain A from addH_2j4zA (len=264):\n",
      "@> \tFailed to match chains (seqid=62%, overlap=97%).\n",
      "@> Trying to match chains based on local sequence alignment:\n",
      "@>  Comparing Chain A from addH_4jbpA (len=255) and Chain A from addH_2j4zA (len=264):\n",
      "@> \tMatch: 254 residues match with 100% sequence identity and 96% overlap.\n"
     ]
    },
    {
     "name": "stdout",
     "output_type": "stream",
     "text": [
      "addH_4jbpA\n",
      "addH_4jbqA\n"
     ]
    },
    {
     "name": "stderr",
     "output_type": "stream",
     "text": [
      "@> Checking AtomGroup addH_4jbqA: 1 chains are identified\n",
      "@> Checking AtomGroup addH_2j4zA: 1 chains are identified\n",
      "@> Trying to match chains based on residue numbers and names:\n",
      "@>   Comparing Chain A from addH_4jbqA (len=257) and Chain A from addH_2j4zA (len=264):\n",
      "@> \tFailed to match chains (seqid=63%, overlap=97%).\n",
      "@> Trying to match chains based on local sequence alignment:\n",
      "@>  Comparing Chain A from addH_4jbqA (len=257) and Chain A from addH_2j4zA (len=264):\n",
      "@> \tMatch: 255 residues match with 99% sequence identity and 97% overlap.\n",
      "@> Checking AtomGroup addH_2xneA: 1 chains are identified\n",
      "@> Checking AtomGroup addH_2j4zA: 1 chains are identified\n",
      "@> Trying to match chains based on residue numbers and names:\n",
      "@>   Comparing Chain A from addH_2xneA (len=246) and Chain A from addH_2j4zA (len=264):\n",
      "@> \tFailed to match chains (seqid=6%, overlap=93%).\n",
      "@> Trying to match chains based on local sequence alignment:\n",
      "@>  Comparing Chain A from addH_2xneA (len=246) and Chain A from addH_2j4zA (len=264):\n",
      "@> \tMatch: 246 residues match with 100% sequence identity and 93% overlap.\n"
     ]
    },
    {
     "name": "stdout",
     "output_type": "stream",
     "text": [
      "addH_2xneA\n",
      "addH_4o0wA\n"
     ]
    },
    {
     "name": "stderr",
     "output_type": "stream",
     "text": [
      "@> Checking AtomGroup addH_4o0wA: 1 chains are identified\n",
      "@> Checking AtomGroup addH_2j4zA: 1 chains are identified\n",
      "@> Trying to match chains based on residue numbers and names:\n",
      "@>   Comparing Chain A from addH_4o0wA (len=259) and Chain A from addH_2j4zA (len=264):\n",
      "@> \tFailed to match chains (seqid=3%, overlap=98%).\n",
      "@> Trying to match chains based on local sequence alignment:\n",
      "@>  Comparing Chain A from addH_4o0wA (len=259) and Chain A from addH_2j4zA (len=264):\n",
      "@> \tMatch: 256 residues match with 98% sequence identity and 97% overlap.\n",
      "@> Checking AtomGroup addH_3unzA: 1 chains are identified\n",
      "@> Checking AtomGroup addH_2j4zA: 1 chains are identified\n",
      "@> Trying to match chains based on residue numbers and names:\n",
      "@>   Comparing Chain A from addH_3unzA (len=263) and Chain A from addH_2j4zA (len=264):\n",
      "@> \tFailed to match chains (seqid=4%, overlap=100%).\n",
      "@> Trying to match chains based on local sequence alignment:\n",
      "@>  Comparing Chain A from addH_3unzA (len=263) and Chain A from addH_2j4zA (len=264):\n",
      "@> \tMatch: 263 residues match with 100% sequence identity and 100% overlap.\n"
     ]
    },
    {
     "name": "stdout",
     "output_type": "stream",
     "text": [
      "addH_3unzA\n",
      "addH_3uo4A\n"
     ]
    },
    {
     "name": "stderr",
     "output_type": "stream",
     "text": [
      "@> Checking AtomGroup addH_3uo4A: 1 chains are identified\n",
      "@> Checking AtomGroup addH_2j4zA: 1 chains are identified\n",
      "@> Trying to match chains based on residue numbers and names:\n",
      "@>   Comparing Chain A from addH_3uo4A (len=266) and Chain A from addH_2j4zA (len=264):\n",
      "@> \tFailed to match chains (seqid=4%, overlap=99%).\n",
      "@> Trying to match chains based on local sequence alignment:\n",
      "@>  Comparing Chain A from addH_3uo4A (len=266) and Chain A from addH_2j4zA (len=264):\n",
      "@> \tMatch: 264 residues match with 100% sequence identity and 99% overlap.\n",
      "@> Checking AtomGroup addH_3uo5A: 1 chains are identified\n",
      "@> Checking AtomGroup addH_2j4zA: 1 chains are identified\n",
      "@> Trying to match chains based on residue numbers and names:\n",
      "@>   Comparing Chain A from addH_3uo5A (len=267) and Chain A from addH_2j4zA (len=264):\n",
      "@> \tFailed to match chains (seqid=4%, overlap=99%).\n",
      "@> Trying to match chains based on local sequence alignment:\n",
      "@>  Comparing Chain A from addH_3uo5A (len=267) and Chain A from addH_2j4zA (len=264):\n",
      "@> \tMatch: 264 residues match with 100% sequence identity and 99% overlap.\n"
     ]
    },
    {
     "name": "stdout",
     "output_type": "stream",
     "text": [
      "addH_3uo5A\n",
      "addH_3uo6A\n"
     ]
    },
    {
     "name": "stderr",
     "output_type": "stream",
     "text": [
      "@> Checking AtomGroup addH_3uo6A: 1 chains are identified\n",
      "@> Checking AtomGroup addH_2j4zA: 1 chains are identified\n",
      "@> Trying to match chains based on residue numbers and names:\n",
      "@>   Comparing Chain A from addH_3uo6A (len=264) and Chain A from addH_2j4zA (len=264):\n",
      "@> \tMatch: 264 residues match with 100% sequence identity and 100% overlap.\n",
      "@> Checking AtomGroup addH_3uodA: 1 chains are identified\n",
      "@> Checking AtomGroup addH_2j4zA: 1 chains are identified\n",
      "@> Trying to match chains based on residue numbers and names:\n",
      "@>   Comparing Chain A from addH_3uodA (len=266) and Chain A from addH_2j4zA (len=264):\n",
      "@> \tFailed to match chains (seqid=4%, overlap=99%).\n",
      "@> Trying to match chains based on local sequence alignment:\n",
      "@>  Comparing Chain A from addH_3uodA (len=266) and Chain A from addH_2j4zA (len=264):\n",
      "@> \tMatch: 264 residues match with 100% sequence identity and 99% overlap.\n"
     ]
    },
    {
     "name": "stdout",
     "output_type": "stream",
     "text": [
      "addH_3uodA\n",
      "addH_3uohA\n"
     ]
    },
    {
     "name": "stderr",
     "output_type": "stream",
     "text": [
      "@> Checking AtomGroup addH_3uohA: 1 chains are identified\n",
      "@> Checking AtomGroup addH_2j4zA: 1 chains are identified\n",
      "@> Trying to match chains based on residue numbers and names:\n",
      "@>   Comparing Chain A from addH_3uohA (len=264) and Chain A from addH_2j4zA (len=264):\n",
      "@> \tMatch: 264 residues match with 100% sequence identity and 100% overlap.\n",
      "@> Checking AtomGroup addH_3uojA: 1 chains are identified\n",
      "@> Checking AtomGroup addH_2j4zA: 1 chains are identified\n",
      "@> Trying to match chains based on residue numbers and names:\n",
      "@>   Comparing Chain A from addH_3uojA (len=263) and Chain A from addH_2j4zA (len=264):\n",
      "@> \tFailed to match chains (seqid=4%, overlap=100%).\n",
      "@> Trying to match chains based on local sequence alignment:\n",
      "@>  Comparing Chain A from addH_3uojA (len=263) and Chain A from addH_2j4zA (len=264):\n",
      "@> \tMatch: 263 residues match with 100% sequence identity and 100% overlap.\n"
     ]
    },
    {
     "name": "stdout",
     "output_type": "stream",
     "text": [
      "addH_3uojA\n",
      "addH_3uokA\n"
     ]
    },
    {
     "name": "stderr",
     "output_type": "stream",
     "text": [
      "@> Checking AtomGroup addH_3uokA: 1 chains are identified\n",
      "@> Checking AtomGroup addH_2j4zA: 1 chains are identified\n",
      "@> Trying to match chains based on residue numbers and names:\n",
      "@>   Comparing Chain A from addH_3uokA (len=265) and Chain A from addH_2j4zA (len=264):\n",
      "@> \tFailed to match chains (seqid=3%, overlap=100%).\n",
      "@> Trying to match chains based on local sequence alignment:\n",
      "@>  Comparing Chain A from addH_3uokA (len=265) and Chain A from addH_2j4zA (len=264):\n",
      "@> \tMatch: 264 residues match with 100% sequence identity and 100% overlap.\n",
      "@> Checking AtomGroup addH_3uolA: 1 chains are identified\n",
      "@> Checking AtomGroup addH_2j4zA: 1 chains are identified\n",
      "@> Trying to match chains based on residue numbers and names:\n",
      "@>   Comparing Chain A from addH_3uolA (len=263) and Chain A from addH_2j4zA (len=264):\n",
      "@> \tFailed to match chains (seqid=4%, overlap=100%).\n",
      "@> Trying to match chains based on local sequence alignment:\n",
      "@>  Comparing Chain A from addH_3uolA (len=263) and Chain A from addH_2j4zA (len=264):\n",
      "@> \tMatch: 263 residues match with 100% sequence identity and 100% overlap.\n"
     ]
    },
    {
     "name": "stdout",
     "output_type": "stream",
     "text": [
      "addH_3uolA\n"
     ]
    },
    {
     "name": "stderr",
     "output_type": "stream",
     "text": [
      "@> Checking AtomGroup addH_3up2A: 1 chains are identified\n",
      "@> Checking AtomGroup addH_2j4zA: 1 chains are identified\n",
      "@> Trying to match chains based on residue numbers and names:\n",
      "@>   Comparing Chain A from addH_3up2A (len=266) and Chain A from addH_2j4zA (len=264):\n",
      "@> \tFailed to match chains (seqid=4%, overlap=99%).\n",
      "@> Trying to match chains based on local sequence alignment:\n",
      "@>  Comparing Chain A from addH_3up2A (len=266) and Chain A from addH_2j4zA (len=264):\n",
      "@> \tMatch: 264 residues match with 100% sequence identity and 99% overlap.\n"
     ]
    },
    {
     "name": "stdout",
     "output_type": "stream",
     "text": [
      "addH_3up2A\n",
      "addH_3up7A\n"
     ]
    },
    {
     "name": "stderr",
     "output_type": "stream",
     "text": [
      "@> Checking AtomGroup addH_3up7A: 1 chains are identified\n",
      "@> Checking AtomGroup addH_2j4zA: 1 chains are identified\n",
      "@> Trying to match chains based on residue numbers and names:\n",
      "@>   Comparing Chain A from addH_3up7A (len=264) and Chain A from addH_2j4zA (len=264):\n",
      "@> \tFailed to match chains (seqid=4%, overlap=100%).\n",
      "@> Trying to match chains based on local sequence alignment:\n",
      "@>  Comparing Chain A from addH_3up7A (len=264) and Chain A from addH_2j4zA (len=264):\n",
      "@> \tMatch: 262 residues match with 99% sequence identity and 99% overlap.\n",
      "@> Checking AtomGroup addH_4deaA: 1 chains are identified\n",
      "@> Checking AtomGroup addH_2j4zA: 1 chains are identified\n",
      "@> Trying to match chains based on residue numbers and names:\n",
      "@>   Comparing Chain A from addH_4deaA (len=266) and Chain A from addH_2j4zA (len=264):\n",
      "@> \tFailed to match chains (seqid=4%, overlap=99%).\n",
      "@> Trying to match chains based on local sequence alignment:\n",
      "@>  Comparing Chain A from addH_4deaA (len=266) and Chain A from addH_2j4zA (len=264):\n",
      "@> \tMatch: 264 residues match with 100% sequence identity and 99% overlap.\n"
     ]
    },
    {
     "name": "stdout",
     "output_type": "stream",
     "text": [
      "addH_4deaA\n",
      "addH_4debA\n"
     ]
    },
    {
     "name": "stderr",
     "output_type": "stream",
     "text": [
      "@> Checking AtomGroup addH_4debA: 1 chains are identified\n",
      "@> Checking AtomGroup addH_2j4zA: 1 chains are identified\n",
      "@> Trying to match chains based on residue numbers and names:\n",
      "@>   Comparing Chain A from addH_4debA (len=264) and Chain A from addH_2j4zA (len=264):\n",
      "@> \tFailed to match chains (seqid=3%, overlap=100%).\n",
      "@> Trying to match chains based on local sequence alignment:\n",
      "@>  Comparing Chain A from addH_4debA (len=264) and Chain A from addH_2j4zA (len=264):\n",
      "@> \tMatch: 263 residues match with 99% sequence identity and 100% overlap.\n",
      "@> Checking AtomGroup addH_4dedA: 1 chains are identified\n",
      "@> Checking AtomGroup addH_2j4zA: 1 chains are identified\n",
      "@> Trying to match chains based on residue numbers and names:\n",
      "@>   Comparing Chain A from addH_4dedA (len=265) and Chain A from addH_2j4zA (len=264):\n",
      "@> \tFailed to match chains (seqid=4%, overlap=100%).\n",
      "@> Trying to match chains based on local sequence alignment:\n",
      "@>  Comparing Chain A from addH_4dedA (len=265) and Chain A from addH_2j4zA (len=264):\n",
      "@> \tMatch: 263 residues match with 99% sequence identity and 99% overlap.\n"
     ]
    },
    {
     "name": "stdout",
     "output_type": "stream",
     "text": [
      "addH_4dedA\n",
      "addH_4deeA\n"
     ]
    },
    {
     "name": "stderr",
     "output_type": "stream",
     "text": [
      "@> Checking AtomGroup addH_4deeA: 1 chains are identified\n",
      "@> Checking AtomGroup addH_2j4zA: 1 chains are identified\n",
      "@> Trying to match chains based on residue numbers and names:\n",
      "@>   Comparing Chain A from addH_4deeA (len=271) and Chain A from addH_2j4zA (len=264):\n",
      "@> \tFailed to match chains (seqid=4%, overlap=97%).\n",
      "@> Trying to match chains based on local sequence alignment:\n",
      "@>  Comparing Chain A from addH_4deeA (len=271) and Chain A from addH_2j4zA (len=264):\n",
      "@> \tMatch: 264 residues match with 100% sequence identity and 97% overlap.\n",
      "@> Checking AtomGroup addH_4j8nA: 1 chains are identified\n",
      "@> Checking AtomGroup addH_2j4zA: 1 chains are identified\n",
      "@> Trying to match chains based on residue numbers and names:\n",
      "@>   Comparing Chain A from addH_4j8nA (len=266) and Chain A from addH_2j4zA (len=264):\n",
      "@> \tFailed to match chains (seqid=3%, overlap=99%).\n",
      "@> Trying to match chains based on local sequence alignment:\n",
      "@>  Comparing Chain A from addH_4j8nA (len=266) and Chain A from addH_2j4zA (len=264):\n",
      "@> \tMatch: 264 residues match with 100% sequence identity and 99% overlap.\n"
     ]
    },
    {
     "name": "stdout",
     "output_type": "stream",
     "text": [
      "addH_4j8nA\n",
      "addH_6vplA\n"
     ]
    },
    {
     "name": "stderr",
     "output_type": "stream",
     "text": [
      "@> Checking AtomGroup addH_6vplA: 1 chains are identified\n",
      "@> Checking AtomGroup addH_2j4zA: 1 chains are identified\n",
      "@> Trying to match chains based on residue numbers and names:\n",
      "@>   Comparing Chain A from addH_6vplA (len=277) and Chain A from addH_2j4zA (len=264):\n",
      "@> \tFailed to match chains (seqid=5%, overlap=95%).\n",
      "@> Trying to match chains based on local sequence alignment:\n",
      "@>  Comparing Chain A from addH_6vplA (len=277) and Chain A from addH_2j4zA (len=264):\n",
      "@> \tMatch: 260 residues match with 98% sequence identity and 94% overlap.\n",
      "@> Checking AtomGroup addH_6vpmA: 1 chains are identified\n",
      "@> Checking AtomGroup addH_2j4zA: 1 chains are identified\n",
      "@> Trying to match chains based on residue numbers and names:\n",
      "@>   Comparing Chain A from addH_6vpmA (len=277) and Chain A from addH_2j4zA (len=264):\n",
      "@> \tFailed to match chains (seqid=5%, overlap=95%).\n",
      "@> Trying to match chains based on local sequence alignment:\n",
      "@>  Comparing Chain A from addH_6vpmA (len=277) and Chain A from addH_2j4zA (len=264):\n",
      "@> \tMatch: 260 residues match with 98% sequence identity and 94% overlap.\n"
     ]
    },
    {
     "name": "stdout",
     "output_type": "stream",
     "text": [
      "addH_6vpmA\n",
      "addH_2c6eA\n"
     ]
    },
    {
     "name": "stderr",
     "output_type": "stream",
     "text": [
      "@> Checking AtomGroup addH_2c6eA: 1 chains are identified\n",
      "@> Checking AtomGroup addH_2j4zA: 1 chains are identified\n",
      "@> Trying to match chains based on residue numbers and names:\n",
      "@>   Comparing Chain A from addH_2c6eA (len=251) and Chain A from addH_2j4zA (len=264):\n",
      "@> \tFailed to match chains (seqid=4%, overlap=95%).\n",
      "@> Trying to match chains based on local sequence alignment:\n",
      "@>  Comparing Chain A from addH_2c6eA (len=251) and Chain A from addH_2j4zA (len=264):\n",
      "@> \tMatch: 251 residues match with 100% sequence identity and 95% overlap.\n",
      "@> Checking AtomGroup addH_4o0uA: 1 chains are identified\n",
      "@> Checking AtomGroup addH_2j4zA: 1 chains are identified\n",
      "@> Trying to match chains based on residue numbers and names:\n",
      "@>   Comparing Chain A from addH_4o0uA (len=259) and Chain A from addH_2j4zA (len=264):\n",
      "@> \tFailed to match chains (seqid=61%, overlap=98%).\n",
      "@> Trying to match chains based on local sequence alignment:\n",
      "@>  Comparing Chain A from addH_4o0uA (len=259) and Chain A from addH_2j4zA (len=264):\n",
      "@> \tMatch: 257 residues match with 99% sequence identity and 97% overlap.\n"
     ]
    },
    {
     "name": "stdout",
     "output_type": "stream",
     "text": [
      "addH_4o0uA\n",
      "addH_2c6dA\n"
     ]
    },
    {
     "name": "stderr",
     "output_type": "stream",
     "text": [
      "@> Checking AtomGroup addH_2c6dA: 1 chains are identified\n",
      "@> Checking AtomGroup addH_2j4zA: 1 chains are identified\n",
      "@> Trying to match chains based on residue numbers and names:\n",
      "@>   Comparing Chain A from addH_2c6dA (len=255) and Chain A from addH_2j4zA (len=264):\n",
      "@> \tFailed to match chains (seqid=62%, overlap=97%).\n",
      "@> Trying to match chains based on local sequence alignment:\n",
      "@>  Comparing Chain A from addH_2c6dA (len=255) and Chain A from addH_2j4zA (len=264):\n",
      "@> \tMatch: 254 residues match with 100% sequence identity and 96% overlap.\n",
      "@> Checking AtomGroup addH_3lauA: 1 chains are identified\n",
      "@> Checking AtomGroup addH_2j4zA: 1 chains are identified\n",
      "@> Trying to match chains based on residue numbers and names:\n",
      "@>   Comparing Chain A from addH_3lauA (len=251) and Chain A from addH_2j4zA (len=264):\n",
      "@> \tFailed to match chains (seqid=6%, overlap=95%).\n",
      "@> Trying to match chains based on local sequence alignment:\n",
      "@>  Comparing Chain A from addH_3lauA (len=251) and Chain A from addH_2j4zA (len=264):\n",
      "@> \tMatch: 247 residues match with 98% sequence identity and 94% overlap.\n"
     ]
    },
    {
     "name": "stdout",
     "output_type": "stream",
     "text": [
      "addH_3lauA\n",
      "addH_4uynA\n"
     ]
    },
    {
     "name": "stderr",
     "output_type": "stream",
     "text": [
      "@> Checking AtomGroup addH_4uynA: 1 chains are identified\n",
      "@> Checking AtomGroup addH_2j4zA: 1 chains are identified\n",
      "@> Trying to match chains based on residue numbers and names:\n",
      "@>   Comparing Chain A from addH_4uynA (len=249) and Chain A from addH_2j4zA (len=264):\n",
      "@> \tFailed to match chains (seqid=3%, overlap=94%).\n",
      "@> Trying to match chains based on local sequence alignment:\n",
      "@>  Comparing Chain A from addH_4uynA (len=249) and Chain A from addH_2j4zA (len=264):\n",
      "@> \tMatch: 246 residues match with 99% sequence identity and 93% overlap.\n",
      "@> Checking AtomGroup addH_4uzhA: 1 chains are identified\n",
      "@> Checking AtomGroup addH_2j4zA: 1 chains are identified\n",
      "@> Trying to match chains based on residue numbers and names:\n",
      "@>   Comparing Chain A from addH_4uzhA (len=252) and Chain A from addH_2j4zA (len=264):\n",
      "@> \tFailed to match chains (seqid=6%, overlap=95%).\n",
      "@> Trying to match chains based on local sequence alignment:\n",
      "@>  Comparing Chain A from addH_4uzhA (len=252) and Chain A from addH_2j4zA (len=264):\n",
      "@> \tMatch: 247 residues match with 98% sequence identity and 94% overlap.\n"
     ]
    },
    {
     "name": "stdout",
     "output_type": "stream",
     "text": [
      "addH_4uzhA\n",
      "addH_5dn3A\n"
     ]
    },
    {
     "name": "stderr",
     "output_type": "stream",
     "text": [
      "@> Checking AtomGroup addH_5dn3A: 1 chains are identified\n",
      "@> Checking AtomGroup addH_2j4zA: 1 chains are identified\n",
      "@> Trying to match chains based on residue numbers and names:\n",
      "@>   Comparing Chain A from addH_5dn3A (len=265) and Chain A from addH_2j4zA (len=264):\n",
      "@> \tFailed to match chains (seqid=4%, overlap=100%).\n",
      "@> Trying to match chains based on local sequence alignment:\n",
      "@>  Comparing Chain A from addH_5dn3A (len=265) and Chain A from addH_2j4zA (len=264):\n",
      "@> \tMatch: 264 residues match with 100% sequence identity and 100% overlap.\n",
      "@> Checking AtomGroup addH_5dnrA: 1 chains are identified\n",
      "@> Checking AtomGroup addH_2j4zA: 1 chains are identified\n",
      "@> Trying to match chains based on residue numbers and names:\n",
      "@>   Comparing Chain A from addH_5dnrA (len=265) and Chain A from addH_2j4zA (len=264):\n",
      "@> \tMatch: 264 residues match with 100% sequence identity and 100% overlap.\n"
     ]
    },
    {
     "name": "stdout",
     "output_type": "stream",
     "text": [
      "addH_5dnrA\n",
      "addH_8c14A\n"
     ]
    },
    {
     "name": "stderr",
     "output_type": "stream",
     "text": [
      "@> Checking AtomGroup addH_8c14A: 1 chains are identified\n",
      "@> Checking AtomGroup addH_2j4zA: 1 chains are identified\n",
      "@> Trying to match chains based on residue numbers and names:\n",
      "@>   Comparing Chain A from addH_8c14A (len=264) and Chain A from addH_2j4zA (len=264):\n",
      "@> \tMatch: 264 residues match with 100% sequence identity and 100% overlap.\n",
      "@> Checking AtomGroup addH_8c1eA: 1 chains are identified\n",
      "@> Checking AtomGroup addH_2j4zA: 1 chains are identified\n",
      "@> Trying to match chains based on residue numbers and names:\n",
      "@>   Comparing Chain A from addH_8c1eA (len=262) and Chain A from addH_2j4zA (len=264):\n",
      "@> \tFailed to match chains (seqid=4%, overlap=99%).\n",
      "@> Trying to match chains based on local sequence alignment:\n",
      "@>  Comparing Chain A from addH_8c1eA (len=262) and Chain A from addH_2j4zA (len=264):\n",
      "@> \tMatch: 262 residues match with 100% sequence identity and 99% overlap.\n"
     ]
    },
    {
     "name": "stdout",
     "output_type": "stream",
     "text": [
      "addH_8c1eA\n",
      "addH_3e5aA\n"
     ]
    },
    {
     "name": "stderr",
     "output_type": "stream",
     "text": [
      "@> Checking AtomGroup addH_3e5aA: 1 chains are identified\n",
      "@> Checking AtomGroup addH_2j4zA: 1 chains are identified\n",
      "@> Trying to match chains based on residue numbers and names:\n",
      "@>   Comparing Chain A from addH_3e5aA (len=265) and Chain A from addH_2j4zA (len=264):\n",
      "@> \tFailed to match chains (seqid=4%, overlap=100%).\n",
      "@> Trying to match chains based on local sequence alignment:\n",
      "@>  Comparing Chain A from addH_3e5aA (len=265) and Chain A from addH_2j4zA (len=264):\n",
      "@> \tMatch: 264 residues match with 100% sequence identity and 100% overlap.\n",
      "@> Checking AtomGroup addH_8c15A: 1 chains are identified\n",
      "@> Checking AtomGroup addH_2j4zA: 1 chains are identified\n",
      "@> Trying to match chains based on residue numbers and names:\n",
      "@>   Comparing Chain A from addH_8c15A (len=259) and Chain A from addH_2j4zA (len=264):\n",
      "@> \tFailed to match chains (seqid=66%, overlap=98%).\n",
      "@> Trying to match chains based on local sequence alignment:\n",
      "@>  Comparing Chain A from addH_8c15A (len=259) and Chain A from addH_2j4zA (len=264):\n",
      "@> \tMatch: 259 residues match with 100% sequence identity and 98% overlap.\n"
     ]
    },
    {
     "name": "stdout",
     "output_type": "stream",
     "text": [
      "addH_8c15A\n",
      "addH_8c1dA\n"
     ]
    },
    {
     "name": "stderr",
     "output_type": "stream",
     "text": [
      "@> Checking AtomGroup addH_8c1dA: 1 chains are identified\n",
      "@> Checking AtomGroup addH_2j4zA: 1 chains are identified\n",
      "@> Trying to match chains based on residue numbers and names:\n",
      "@>   Comparing Chain A from addH_8c1dA (len=259) and Chain A from addH_2j4zA (len=264):\n",
      "@> \tFailed to match chains (seqid=5%, overlap=98%).\n",
      "@> Trying to match chains based on local sequence alignment:\n",
      "@>  Comparing Chain A from addH_8c1dA (len=259) and Chain A from addH_2j4zA (len=264):\n",
      "@> \tMatch: 259 residues match with 100% sequence identity and 98% overlap.\n",
      "@> Checking AtomGroup addH_8c1fA: 1 chains are identified\n",
      "@> Checking AtomGroup addH_2j4zA: 1 chains are identified\n",
      "@> Trying to match chains based on residue numbers and names:\n",
      "@>   Comparing Chain A from addH_8c1fA (len=258) and Chain A from addH_2j4zA (len=264):\n",
      "@> \tFailed to match chains (seqid=64%, overlap=98%).\n",
      "@> Trying to match chains based on local sequence alignment:\n",
      "@>  Comparing Chain A from addH_8c1fA (len=258) and Chain A from addH_2j4zA (len=264):\n",
      "@> \tMatch: 258 residues match with 100% sequence identity and 98% overlap.\n"
     ]
    },
    {
     "name": "stdout",
     "output_type": "stream",
     "text": [
      "addH_8c1fA\n",
      "addH_8c1gA\n"
     ]
    },
    {
     "name": "stderr",
     "output_type": "stream",
     "text": [
      "@> Checking AtomGroup addH_8c1gA: 1 chains are identified\n",
      "@> Checking AtomGroup addH_2j4zA: 1 chains are identified\n",
      "@> Trying to match chains based on residue numbers and names:\n",
      "@>   Comparing Chain A from addH_8c1gA (len=258) and Chain A from addH_2j4zA (len=264):\n",
      "@> \tFailed to match chains (seqid=4%, overlap=98%).\n",
      "@> Trying to match chains based on local sequence alignment:\n",
      "@>  Comparing Chain A from addH_8c1gA (len=258) and Chain A from addH_2j4zA (len=264):\n",
      "@> \tMatch: 258 residues match with 100% sequence identity and 98% overlap.\n",
      "@> Checking AtomGroup addH_8c1hA: 1 chains are identified\n",
      "@> Checking AtomGroup addH_2j4zA: 1 chains are identified\n",
      "@> Trying to match chains based on residue numbers and names:\n",
      "@>   Comparing Chain A from addH_8c1hA (len=258) and Chain A from addH_2j4zA (len=264):\n",
      "@> \tFailed to match chains (seqid=4%, overlap=98%).\n",
      "@> Trying to match chains based on local sequence alignment:\n",
      "@>  Comparing Chain A from addH_8c1hA (len=258) and Chain A from addH_2j4zA (len=264):\n",
      "@> \tMatch: 258 residues match with 100% sequence identity and 98% overlap.\n"
     ]
    },
    {
     "name": "stdout",
     "output_type": "stream",
     "text": [
      "addH_8c1hA\n",
      "addH_8c1iA\n"
     ]
    },
    {
     "name": "stderr",
     "output_type": "stream",
     "text": [
      "@> Checking AtomGroup addH_8c1iA: 1 chains are identified\n",
      "@> Checking AtomGroup addH_2j4zA: 1 chains are identified\n",
      "@> Trying to match chains based on residue numbers and names:\n",
      "@>   Comparing Chain A from addH_8c1iA (len=260) and Chain A from addH_2j4zA (len=264):\n",
      "@> \tFailed to match chains (seqid=65%, overlap=98%).\n",
      "@> Trying to match chains based on local sequence alignment:\n",
      "@>  Comparing Chain A from addH_8c1iA (len=260) and Chain A from addH_2j4zA (len=264):\n",
      "@> \tMatch: 260 residues match with 100% sequence identity and 98% overlap.\n",
      "@> Checking AtomGroup addH_5dpvA: 1 chains are identified\n",
      "@> Checking AtomGroup addH_2j4zA: 1 chains are identified\n",
      "@> Trying to match chains based on residue numbers and names:\n",
      "@>   Comparing Chain A from addH_5dpvA (len=257) and Chain A from addH_2j4zA (len=264):\n",
      "@> \tFailed to match chains (seqid=3%, overlap=97%).\n",
      "@> Trying to match chains based on local sequence alignment:\n",
      "@>  Comparing Chain A from addH_5dpvA (len=257) and Chain A from addH_2j4zA (len=264):\n",
      "@> \tMatch: 257 residues match with 100% sequence identity and 97% overlap.\n"
     ]
    },
    {
     "name": "stdout",
     "output_type": "stream",
     "text": [
      "addH_5dpvA\n",
      "addH_5dr2A\n"
     ]
    },
    {
     "name": "stderr",
     "output_type": "stream",
     "text": [
      "@> Checking AtomGroup addH_5dr2A: 1 chains are identified\n",
      "@> Checking AtomGroup addH_2j4zA: 1 chains are identified\n",
      "@> Trying to match chains based on residue numbers and names:\n",
      "@>   Comparing Chain A from addH_5dr2A (len=264) and Chain A from addH_2j4zA (len=264):\n",
      "@> \tFailed to match chains (seqid=4%, overlap=100%).\n",
      "@> Trying to match chains based on local sequence alignment:\n",
      "@>  Comparing Chain A from addH_5dr2A (len=264) and Chain A from addH_2j4zA (len=264):\n",
      "@> \tMatch: 263 residues match with 99% sequence identity and 100% overlap.\n",
      "@> Checking AtomGroup addH_5dr6A: 1 chains are identified\n",
      "@> Checking AtomGroup addH_2j4zA: 1 chains are identified\n",
      "@> Trying to match chains based on residue numbers and names:\n",
      "@>   Comparing Chain A from addH_5dr6A (len=257) and Chain A from addH_2j4zA (len=264):\n",
      "@> \tFailed to match chains (seqid=3%, overlap=97%).\n",
      "@> Trying to match chains based on local sequence alignment:\n",
      "@>  Comparing Chain A from addH_5dr6A (len=257) and Chain A from addH_2j4zA (len=264):\n",
      "@> \tMatch: 256 residues match with 100% sequence identity and 97% overlap.\n"
     ]
    },
    {
     "name": "stdout",
     "output_type": "stream",
     "text": [
      "addH_5dr6A\n",
      "addH_5dr9A\n"
     ]
    },
    {
     "name": "stderr",
     "output_type": "stream",
     "text": [
      "@> Checking AtomGroup addH_5dr9A: 1 chains are identified\n",
      "@> Checking AtomGroup addH_2j4zA: 1 chains are identified\n",
      "@> Trying to match chains based on residue numbers and names:\n",
      "@>   Comparing Chain A from addH_5dr9A (len=257) and Chain A from addH_2j4zA (len=264):\n",
      "@> \tFailed to match chains (seqid=3%, overlap=97%).\n",
      "@> Trying to match chains based on local sequence alignment:\n",
      "@>  Comparing Chain A from addH_5dr9A (len=257) and Chain A from addH_2j4zA (len=264):\n",
      "@> \tMatch: 256 residues match with 100% sequence identity and 97% overlap.\n",
      "@> Checking AtomGroup addH_5dt0A: 1 chains are identified\n",
      "@> Checking AtomGroup addH_2j4zA: 1 chains are identified\n",
      "@> Trying to match chains based on residue numbers and names:\n",
      "@>   Comparing Chain A from addH_5dt0A (len=259) and Chain A from addH_2j4zA (len=264):\n",
      "@> \tFailed to match chains (seqid=3%, overlap=98%).\n",
      "@> Trying to match chains based on local sequence alignment:\n",
      "@>  Comparing Chain A from addH_5dt0A (len=259) and Chain A from addH_2j4zA (len=264):\n",
      "@> \tMatch: 258 residues match with 100% sequence identity and 98% overlap.\n"
     ]
    },
    {
     "name": "stdout",
     "output_type": "stream",
     "text": [
      "addH_5dt0A\n"
     ]
    },
    {
     "name": "stderr",
     "output_type": "stream",
     "text": [
      "@> Checking AtomGroup addH_5dt3A: 1 chains are identified\n",
      "@> Checking AtomGroup addH_2j4zA: 1 chains are identified\n",
      "@> Trying to match chains based on residue numbers and names:\n",
      "@>   Comparing Chain A from addH_5dt3A (len=264) and Chain A from addH_2j4zA (len=264):\n",
      "@> \tFailed to match chains (seqid=4%, overlap=100%).\n",
      "@> Trying to match chains based on local sequence alignment:\n",
      "@>  Comparing Chain A from addH_5dt3A (len=264) and Chain A from addH_2j4zA (len=264):\n",
      "@> \tMatch: 263 residues match with 100% sequence identity and 100% overlap.\n"
     ]
    },
    {
     "name": "stdout",
     "output_type": "stream",
     "text": [
      "addH_5dt3A\n",
      "addH_8c1kA\n"
     ]
    },
    {
     "name": "stderr",
     "output_type": "stream",
     "text": [
      "@> Checking AtomGroup addH_8c1kA: 1 chains are identified\n",
      "@> Checking AtomGroup addH_2j4zA: 1 chains are identified\n",
      "@> Trying to match chains based on residue numbers and names:\n",
      "@>   Comparing Chain A from addH_8c1kA (len=262) and Chain A from addH_2j4zA (len=264):\n",
      "@> \tFailed to match chains (seqid=4%, overlap=99%).\n",
      "@> Trying to match chains based on local sequence alignment:\n",
      "@>  Comparing Chain A from addH_8c1kA (len=262) and Chain A from addH_2j4zA (len=264):\n",
      "@> \tMatch: 262 residues match with 100% sequence identity and 99% overlap.\n",
      "@> Checking AtomGroup addH_2wqeA: 1 chains are identified\n",
      "@> Checking AtomGroup addH_2j4zA: 1 chains are identified\n",
      "@> Trying to match chains based on residue numbers and names:\n",
      "@>   Comparing Chain A from addH_2wqeA (len=241) and Chain A from addH_2j4zA (len=264):\n",
      "@> \tFailed to match chains (seqid=5%, overlap=91%).\n",
      "@> Trying to match chains based on local sequence alignment:\n",
      "@>  Comparing Chain A from addH_2wqeA (len=241) and Chain A from addH_2j4zA (len=264):\n",
      "@> \tMatch: 241 residues match with 100% sequence identity and 91% overlap.\n"
     ]
    },
    {
     "name": "stdout",
     "output_type": "stream",
     "text": [
      "addH_2wqeA\n",
      "addH_5os2A\n"
     ]
    },
    {
     "name": "stderr",
     "output_type": "stream",
     "text": [
      "@> Checking AtomGroup addH_5os2A: 1 chains are identified\n",
      "@> Checking AtomGroup addH_2j4zA: 1 chains are identified\n",
      "@> Trying to match chains based on residue numbers and names:\n",
      "@>   Comparing Chain A from addH_5os2A (len=261) and Chain A from addH_2j4zA (len=264):\n",
      "@> \tFailed to match chains (seqid=4%, overlap=99%).\n",
      "@> Trying to match chains based on local sequence alignment:\n",
      "@>  Comparing Chain A from addH_5os2A (len=261) and Chain A from addH_2j4zA (len=264):\n",
      "@> \tMatch: 259 residues match with 99% sequence identity and 98% overlap.\n",
      "@> Checking AtomGroup addH_7ficA: 1 chains are identified\n",
      "@> Checking AtomGroup addH_2j4zA: 1 chains are identified\n",
      "@> Trying to match chains based on residue numbers and names:\n",
      "@>   Comparing Chain A from addH_7ficA (len=254) and Chain A from addH_2j4zA (len=264):\n",
      "@> \tFailed to match chains (seqid=2%, overlap=96%).\n",
      "@> Trying to match chains based on local sequence alignment:\n",
      "@>  Comparing Chain A from addH_7ficA (len=254) and Chain A from addH_2j4zA (len=264):\n",
      "@> \tMatch: 252 residues match with 99% sequence identity and 95% overlap.\n"
     ]
    },
    {
     "name": "stdout",
     "output_type": "stream",
     "text": [
      "addH_7ficA\n",
      "addH_2bmcA\n"
     ]
    },
    {
     "name": "stderr",
     "output_type": "stream",
     "text": [
      "@> Checking AtomGroup addH_2bmcA: 1 chains are identified\n",
      "@> Checking AtomGroup addH_2j4zA: 1 chains are identified\n",
      "@> Trying to match chains based on residue numbers and names:\n",
      "@>   Comparing Chain A from addH_2bmcA (len=256) and Chain A from addH_2j4zA (len=264):\n",
      "@> \tFailed to match chains (seqid=4%, overlap=97%).\n",
      "@> Trying to match chains based on local sequence alignment:\n",
      "@>  Comparing Chain A from addH_2bmcA (len=256) and Chain A from addH_2j4zA (len=264):\n",
      "@> \tMatch: 251 residues match with 98% sequence identity and 95% overlap.\n",
      "@> Checking AtomGroup addH_5odtA: 1 chains are identified\n",
      "@> Checking AtomGroup addH_2j4zA: 1 chains are identified\n",
      "@> Trying to match chains based on residue numbers and names:\n",
      "@>   Comparing Chain A from addH_5odtA (len=258) and Chain A from addH_2j4zA (len=264):\n",
      "@> \tFailed to match chains (seqid=63%, overlap=98%).\n",
      "@> Trying to match chains based on local sequence alignment:\n",
      "@>  Comparing Chain A from addH_5odtA (len=258) and Chain A from addH_2j4zA (len=264):\n",
      "@> \tMatch: 255 residues match with 98% sequence identity and 97% overlap.\n"
     ]
    },
    {
     "name": "stdout",
     "output_type": "stream",
     "text": [
      "addH_5odtA\n",
      "addH_5lxmA\n"
     ]
    },
    {
     "name": "stderr",
     "output_type": "stream",
     "text": [
      "@> Checking AtomGroup addH_5lxmA: 1 chains are identified\n",
      "@> Checking AtomGroup addH_2j4zA: 1 chains are identified\n",
      "@> Trying to match chains based on residue numbers and names:\n",
      "@>   Comparing Chain A from addH_5lxmA (len=267) and Chain A from addH_2j4zA (len=264):\n",
      "@> \tMatch: 264 residues match with 100% sequence identity and 99% overlap.\n",
      "@> Checking AtomGroup addH_6hjjA: 1 chains are identified\n",
      "@> Checking AtomGroup addH_2j4zA: 1 chains are identified\n",
      "@> Trying to match chains based on residue numbers and names:\n",
      "@>   Comparing Chain A from addH_6hjjA (len=256) and Chain A from addH_2j4zA (len=264):\n",
      "@> \tFailed to match chains (seqid=2%, overlap=97%).\n",
      "@> Trying to match chains based on local sequence alignment:\n",
      "@>  Comparing Chain A from addH_6hjjA (len=256) and Chain A from addH_2j4zA (len=264):\n",
      "@> \tMatch: 252 residues match with 98% sequence identity and 95% overlap.\n"
     ]
    },
    {
     "name": "stdout",
     "output_type": "stream",
     "text": [
      "addH_6hjjA\n",
      "addH_6hjkA\n"
     ]
    },
    {
     "name": "stderr",
     "output_type": "stream",
     "text": [
      "@> Checking AtomGroup addH_6hjkA: 1 chains are identified\n",
      "@> Checking AtomGroup addH_2j4zA: 1 chains are identified\n",
      "@> Trying to match chains based on residue numbers and names:\n",
      "@>   Comparing Chain A from addH_6hjkA (len=255) and Chain A from addH_2j4zA (len=264):\n",
      "@> \tFailed to match chains (seqid=2%, overlap=97%).\n",
      "@> Trying to match chains based on local sequence alignment:\n",
      "@>  Comparing Chain A from addH_6hjkA (len=255) and Chain A from addH_2j4zA (len=264):\n",
      "@> \tMatch: 253 residues match with 99% sequence identity and 96% overlap.\n",
      "@> Checking AtomGroup addH_4cegA: 1 chains are identified\n",
      "@> Checking AtomGroup addH_2j4zA: 1 chains are identified\n",
      "@> Trying to match chains based on residue numbers and names:\n",
      "@>   Comparing Chain A from addH_4cegA (len=265) and Chain A from addH_2j4zA (len=264):\n",
      "@> \tFailed to match chains (seqid=4%, overlap=100%).\n",
      "@> Trying to match chains based on local sequence alignment:\n",
      "@>  Comparing Chain A from addH_4cegA (len=265) and Chain A from addH_2j4zA (len=264):\n",
      "@> \tMatch: 263 residues match with 99% sequence identity and 99% overlap.\n"
     ]
    },
    {
     "name": "stdout",
     "output_type": "stream",
     "text": [
      "addH_4cegA\n",
      "addH_5g1xA\n"
     ]
    },
    {
     "name": "stderr",
     "output_type": "stream",
     "text": [
      "@> Checking AtomGroup addH_5g1xA: 1 chains are identified\n",
      "@> Checking AtomGroup addH_2j4zA: 1 chains are identified\n",
      "@> Trying to match chains based on residue numbers and names:\n",
      "@>   Comparing Chain A from addH_5g1xA (len=264) and Chain A from addH_2j4zA (len=264):\n",
      "@> \tMatch: 264 residues match with 100% sequence identity and 100% overlap.\n",
      "@> Checking AtomGroup addH_5l8jA: 1 chains are identified\n",
      "@> Checking AtomGroup addH_2j4zA: 1 chains are identified\n",
      "@> Trying to match chains based on residue numbers and names:\n",
      "@>   Comparing Chain A from addH_5l8jA (len=253) and Chain A from addH_2j4zA (len=264):\n",
      "@> \tFailed to match chains (seqid=63%, overlap=96%).\n",
      "@> Trying to match chains based on local sequence alignment:\n",
      "@>  Comparing Chain A from addH_5l8jA (len=253) and Chain A from addH_2j4zA (len=264):\n",
      "@> \tMatch: 251 residues match with 99% sequence identity and 95% overlap.\n"
     ]
    },
    {
     "name": "stdout",
     "output_type": "stream",
     "text": [
      "addH_5l8jA\n",
      "addH_5l8kA\n"
     ]
    },
    {
     "name": "stderr",
     "output_type": "stream",
     "text": [
      "@> Checking AtomGroup addH_5l8kA: 1 chains are identified\n",
      "@> Checking AtomGroup addH_2j4zA: 1 chains are identified\n",
      "@> Trying to match chains based on residue numbers and names:\n",
      "@>   Comparing Chain A from addH_5l8kA (len=267) and Chain A from addH_2j4zA (len=264):\n",
      "@> \tMatch: 264 residues match with 100% sequence identity and 99% overlap.\n",
      "@> Checking AtomGroup addH_5l8lA: 1 chains are identified\n",
      "@> Checking AtomGroup addH_2j4zA: 1 chains are identified\n",
      "@> Trying to match chains based on residue numbers and names:\n",
      "@>   Comparing Chain A from addH_5l8lA (len=264) and Chain A from addH_2j4zA (len=264):\n",
      "@> \tMatch: 264 residues match with 100% sequence identity and 100% overlap.\n"
     ]
    },
    {
     "name": "stdout",
     "output_type": "stream",
     "text": [
      "addH_5l8lA\n",
      "addH_6r49A\n"
     ]
    },
    {
     "name": "stderr",
     "output_type": "stream",
     "text": [
      "@> Checking AtomGroup addH_6r49A: 1 chains are identified\n",
      "@> Checking AtomGroup addH_2j4zA: 1 chains are identified\n",
      "@> Trying to match chains based on residue numbers and names:\n",
      "@>   Comparing Chain A from addH_6r49A (len=260) and Chain A from addH_2j4zA (len=264):\n",
      "@> \tFailed to match chains (seqid=3%, overlap=98%).\n",
      "@> Trying to match chains based on local sequence alignment:\n",
      "@>  Comparing Chain A from addH_6r49A (len=260) and Chain A from addH_2j4zA (len=264):\n",
      "@> \tMatch: 258 residues match with 99% sequence identity and 98% overlap.\n",
      "@> Checking AtomGroup addH_6r4aA: 1 chains are identified\n",
      "@> Checking AtomGroup addH_2j4zA: 1 chains are identified\n",
      "@> Trying to match chains based on residue numbers and names:\n",
      "@>   Comparing Chain A from addH_6r4aA (len=265) and Chain A from addH_2j4zA (len=264):\n",
      "@> \tFailed to match chains (seqid=4%, overlap=100%).\n",
      "@> Trying to match chains based on local sequence alignment:\n",
      "@>  Comparing Chain A from addH_6r4aA (len=265) and Chain A from addH_2j4zA (len=264):\n",
      "@> \tMatch: 263 residues match with 99% sequence identity and 99% overlap.\n"
     ]
    },
    {
     "name": "stdout",
     "output_type": "stream",
     "text": [
      "addH_6r4aA\n",
      "addH_6r4bA\n"
     ]
    },
    {
     "name": "stderr",
     "output_type": "stream",
     "text": [
      "@> Checking AtomGroup addH_6r4bA: 1 chains are identified\n",
      "@> Checking AtomGroup addH_2j4zA: 1 chains are identified\n",
      "@> Trying to match chains based on residue numbers and names:\n",
      "@>   Comparing Chain A from addH_6r4bA (len=265) and Chain A from addH_2j4zA (len=264):\n",
      "@> \tFailed to match chains (seqid=4%, overlap=100%).\n",
      "@> Trying to match chains based on local sequence alignment:\n",
      "@>  Comparing Chain A from addH_6r4bA (len=265) and Chain A from addH_2j4zA (len=264):\n",
      "@> \tMatch: 263 residues match with 99% sequence identity and 99% overlap.\n",
      "@> Checking AtomGroup addH_6r4cA: 1 chains are identified\n",
      "@> Checking AtomGroup addH_2j4zA: 1 chains are identified\n",
      "@> Trying to match chains based on residue numbers and names:\n",
      "@>   Comparing Chain A from addH_6r4cA (len=265) and Chain A from addH_2j4zA (len=264):\n",
      "@> \tFailed to match chains (seqid=4%, overlap=100%).\n",
      "@> Trying to match chains based on local sequence alignment:\n",
      "@>  Comparing Chain A from addH_6r4cA (len=265) and Chain A from addH_2j4zA (len=264):\n",
      "@> \tMatch: 263 residues match with 99% sequence identity and 99% overlap.\n"
     ]
    },
    {
     "name": "stdout",
     "output_type": "stream",
     "text": [
      "addH_6r4cA\n",
      "addH_6r4dA\n"
     ]
    },
    {
     "name": "stderr",
     "output_type": "stream",
     "text": [
      "@> Checking AtomGroup addH_6r4dA: 1 chains are identified\n",
      "@> Checking AtomGroup addH_2j4zA: 1 chains are identified\n",
      "@> Trying to match chains based on residue numbers and names:\n",
      "@>   Comparing Chain A from addH_6r4dA (len=265) and Chain A from addH_2j4zA (len=264):\n",
      "@> \tFailed to match chains (seqid=4%, overlap=100%).\n",
      "@> Trying to match chains based on local sequence alignment:\n",
      "@>  Comparing Chain A from addH_6r4dA (len=265) and Chain A from addH_2j4zA (len=264):\n",
      "@> \tMatch: 263 residues match with 99% sequence identity and 99% overlap.\n",
      "@> Checking AtomGroup addH_1ol5A: 1 chains are identified\n",
      "@> Checking AtomGroup addH_2j4zA: 1 chains are identified\n",
      "@> Trying to match chains based on residue numbers and names:\n",
      "@>   Comparing Chain A from addH_1ol5A (len=266) and Chain A from addH_2j4zA (len=264):\n",
      "@> \tFailed to match chains (seqid=6%, overlap=99%).\n",
      "@> Trying to match chains based on local sequence alignment:\n",
      "@>  Comparing Chain A from addH_1ol5A (len=266) and Chain A from addH_2j4zA (len=264):\n",
      "@> \tMatch: 263 residues match with 100% sequence identity and 99% overlap.\n"
     ]
    },
    {
     "name": "stdout",
     "output_type": "stream",
     "text": [
      "addH_1ol5A\n",
      "addH_1ol7A\n"
     ]
    },
    {
     "name": "stderr",
     "output_type": "stream",
     "text": [
      "@> Checking AtomGroup addH_1ol7A: 1 chains are identified\n",
      "@> Checking AtomGroup addH_2j4zA: 1 chains are identified\n",
      "@> Trying to match chains based on residue numbers and names:\n",
      "@>   Comparing Chain A from addH_1ol7A (len=264) and Chain A from addH_2j4zA (len=264):\n",
      "@> \tFailed to match chains (seqid=4%, overlap=100%).\n",
      "@> Trying to match chains based on local sequence alignment:\n",
      "@>  Comparing Chain A from addH_1ol7A (len=264) and Chain A from addH_2j4zA (len=264):\n",
      "@> \tMatch: 263 residues match with 100% sequence identity and 100% overlap.\n",
      "@> Checking AtomGroup addH_6i2uA: 1 chains are identified\n",
      "@> Checking AtomGroup addH_2j4zA: 1 chains are identified\n",
      "@> Trying to match chains based on residue numbers and names:\n",
      "@>   Comparing Chain A from addH_6i2uA (len=265) and Chain A from addH_2j4zA (len=264):\n",
      "@> \tFailed to match chains (seqid=4%, overlap=100%).\n",
      "@> Trying to match chains based on local sequence alignment:\n",
      "@>  Comparing Chain A from addH_6i2uA (len=265) and Chain A from addH_2j4zA (len=264):\n",
      "@> \tMatch: 263 residues match with 100% sequence identity and 99% overlap.\n"
     ]
    },
    {
     "name": "stdout",
     "output_type": "stream",
     "text": [
      "addH_6i2uA\n",
      "addH_6vpgA\n"
     ]
    },
    {
     "name": "stderr",
     "output_type": "stream",
     "text": [
      "@> Checking AtomGroup addH_6vpgA: 1 chains are identified\n",
      "@> Checking AtomGroup addH_2j4zA: 1 chains are identified\n",
      "@> Trying to match chains based on residue numbers and names:\n",
      "@>   Comparing Chain A from addH_6vpgA (len=282) and Chain A from addH_2j4zA (len=264):\n",
      "@> \tFailed to match chains (seqid=7%, overlap=94%).\n",
      "@> Trying to match chains based on local sequence alignment:\n",
      "@>  Comparing Chain A from addH_6vpgA (len=282) and Chain A from addH_2j4zA (len=264):\n",
      "@> \tMatch: 264 residues match with 100% sequence identity and 94% overlap.\n",
      "@> Checking AtomGroup addH_2w1gA: 1 chains are identified\n",
      "@> Checking AtomGroup addH_2j4zA: 1 chains are identified\n",
      "@> Trying to match chains based on residue numbers and names:\n",
      "@>   Comparing Chain A from addH_2w1gA (len=255) and Chain A from addH_2j4zA (len=264):\n",
      "@> \tFailed to match chains (seqid=2%, overlap=97%).\n",
      "@> Trying to match chains based on local sequence alignment:\n",
      "@>  Comparing Chain A from addH_2w1gA (len=255) and Chain A from addH_2j4zA (len=264):\n",
      "@> \tMatch: 254 residues match with 100% sequence identity and 96% overlap.\n"
     ]
    },
    {
     "name": "stdout",
     "output_type": "stream",
     "text": [
      "addH_2w1gA\n",
      "addH_6vpjA\n"
     ]
    },
    {
     "name": "stderr",
     "output_type": "stream",
     "text": [
      "@> Checking AtomGroup addH_6vpjA: 1 chains are identified\n",
      "@> Checking AtomGroup addH_2j4zA: 1 chains are identified\n",
      "@> Trying to match chains based on residue numbers and names:\n",
      "@>   Comparing Chain A from addH_6vpjA (len=279) and Chain A from addH_2j4zA (len=264):\n",
      "@> \tFailed to match chains (seqid=6%, overlap=95%).\n",
      "@> Trying to match chains based on local sequence alignment:\n",
      "@>  Comparing Chain A from addH_6vpjA (len=279) and Chain A from addH_2j4zA (len=264):\n",
      "@> \tMatch: 261 residues match with 98% sequence identity and 94% overlap.\n",
      "@> Checking AtomGroup addH_4j8mA: 1 chains are identified\n",
      "@> Checking AtomGroup addH_2j4zA: 1 chains are identified\n",
      "@> Trying to match chains based on residue numbers and names:\n",
      "@>   Comparing Chain A from addH_4j8mA (len=265) and Chain A from addH_2j4zA (len=264):\n",
      "@> \tFailed to match chains (seqid=3%, overlap=99%).\n",
      "@> Trying to match chains based on local sequence alignment:\n",
      "@>  Comparing Chain A from addH_4j8mA (len=265) and Chain A from addH_2j4zA (len=264):\n",
      "@> \tMatch: 263 residues match with 99% sequence identity and 99% overlap.\n"
     ]
    },
    {
     "name": "stdout",
     "output_type": "stream",
     "text": [
      "addH_4j8mA\n"
     ]
    },
    {
     "name": "stderr",
     "output_type": "stream",
     "text": [
      "@> Checking AtomGroup addH_5ew9A: 1 chains are identified\n",
      "@> Checking AtomGroup addH_2j4zA: 1 chains are identified\n",
      "@> Trying to match chains based on residue numbers and names:\n",
      "@>   Comparing Chain A from addH_5ew9A (len=259) and Chain A from addH_2j4zA (len=264):\n",
      "@> \tFailed to match chains (seqid=3%, overlap=98%).\n",
      "@> Trying to match chains based on local sequence alignment:\n",
      "@>  Comparing Chain A from addH_5ew9A (len=259) and Chain A from addH_2j4zA (len=264):\n",
      "@> \tMatch: 258 residues match with 100% sequence identity and 98% overlap.\n"
     ]
    },
    {
     "name": "stdout",
     "output_type": "stream",
     "text": [
      "addH_5ew9A\n",
      "addH_3h0yA\n"
     ]
    },
    {
     "name": "stderr",
     "output_type": "stream",
     "text": [
      "@> Checking AtomGroup addH_3h0yA: 1 chains are identified\n",
      "@> Checking AtomGroup addH_2j4zA: 1 chains are identified\n",
      "@> Trying to match chains based on residue numbers and names:\n",
      "@>   Comparing Chain A from addH_3h0yA (len=250) and Chain A from addH_2j4zA (len=264):\n",
      "@> \tFailed to match chains (seqid=64%, overlap=95%).\n",
      "@> Trying to match chains based on local sequence alignment:\n",
      "@>  Comparing Chain A from addH_3h0yA (len=250) and Chain A from addH_2j4zA (len=264):\n",
      "@> \tMatch: 250 residues match with 100% sequence identity and 95% overlap.\n",
      "@> Checking AtomGroup addH_3h10A: 1 chains are identified\n",
      "@> Checking AtomGroup addH_2j4zA: 1 chains are identified\n",
      "@> Trying to match chains based on residue numbers and names:\n",
      "@>   Comparing Chain A from addH_3h10A (len=268) and Chain A from addH_2j4zA (len=264):\n",
      "@> \tFailed to match chains (seqid=4%, overlap=99%).\n",
      "@> Trying to match chains based on local sequence alignment:\n",
      "@>  Comparing Chain A from addH_3h10A (len=268) and Chain A from addH_2j4zA (len=264):\n",
      "@> \tMatch: 264 residues match with 99% sequence identity and 99% overlap.\n"
     ]
    },
    {
     "name": "stdout",
     "output_type": "stream",
     "text": [
      "addH_3h10A\n",
      "addH_3p9jA\n"
     ]
    },
    {
     "name": "stderr",
     "output_type": "stream",
     "text": [
      "@> Checking AtomGroup addH_3p9jA: 1 chains are identified\n",
      "@> Checking AtomGroup addH_2j4zA: 1 chains are identified\n",
      "@> Trying to match chains based on residue numbers and names:\n",
      "@>   Comparing Chain A from addH_3p9jA (len=249) and Chain A from addH_2j4zA (len=264):\n",
      "@> \tFailed to match chains (seqid=65%, overlap=94%).\n",
      "@> Trying to match chains based on local sequence alignment:\n",
      "@>  Comparing Chain A from addH_3p9jA (len=249) and Chain A from addH_2j4zA (len=264):\n",
      "@> \tMatch: 249 residues match with 100% sequence identity and 94% overlap.\n",
      "@> Checking AtomGroup addH_3ha6A: 1 chains are identified\n",
      "@> Checking AtomGroup addH_2j4zA: 1 chains are identified\n",
      "@> Trying to match chains based on residue numbers and names:\n",
      "@>   Comparing Chain A from addH_3ha6A (len=265) and Chain A from addH_2j4zA (len=264):\n",
      "@> \tFailed to match chains (seqid=4%, overlap=100%).\n",
      "@> Trying to match chains based on local sequence alignment:\n",
      "@>  Comparing Chain A from addH_3ha6A (len=265) and Chain A from addH_2j4zA (len=264):\n",
      "@> \tMatch: 263 residues match with 100% sequence identity and 99% overlap.\n"
     ]
    },
    {
     "name": "stdout",
     "output_type": "stream",
     "text": [
      "addH_3ha6A\n",
      "addH_5os5A\n"
     ]
    },
    {
     "name": "stderr",
     "output_type": "stream",
     "text": [
      "@> Checking AtomGroup addH_5os5A: 1 chains are identified\n",
      "@> Checking AtomGroup addH_2j4zA: 1 chains are identified\n",
      "@> Trying to match chains based on residue numbers and names:\n",
      "@>   Comparing Chain A from addH_5os5A (len=268) and Chain A from addH_2j4zA (len=264):\n",
      "@> \tFailed to match chains (seqid=4%, overlap=99%).\n",
      "@> Trying to match chains based on local sequence alignment:\n",
      "@>  Comparing Chain A from addH_5os5A (len=268) and Chain A from addH_2j4zA (len=264):\n",
      "@> \tMatch: 264 residues match with 100% sequence identity and 99% overlap.\n",
      "@> Checking AtomGroup addH_5osdA: 1 chains are identified\n",
      "@> Checking AtomGroup addH_2j4zA: 1 chains are identified\n",
      "@> Trying to match chains based on residue numbers and names:\n",
      "@>   Comparing Chain A from addH_5osdA (len=267) and Chain A from addH_2j4zA (len=264):\n",
      "@> \tFailed to match chains (seqid=4%, overlap=99%).\n",
      "@> Trying to match chains based on local sequence alignment:\n",
      "@>  Comparing Chain A from addH_5osdA (len=267) and Chain A from addH_2j4zA (len=264):\n",
      "@> \tMatch: 264 residues match with 100% sequence identity and 99% overlap.\n"
     ]
    },
    {
     "name": "stdout",
     "output_type": "stream",
     "text": [
      "addH_5osdA\n"
     ]
    },
    {
     "name": "stderr",
     "output_type": "stream",
     "text": [
      "@> Checking AtomGroup addH_3w10A: 1 chains are identified\n",
      "@> Checking AtomGroup addH_2j4zA: 1 chains are identified\n",
      "@> Trying to match chains based on residue numbers and names:\n",
      "@>   Comparing Chain A from addH_3w10A (len=263) and Chain A from addH_2j4zA (len=264):\n",
      "@> \tMatch: 263 residues match with 99% sequence identity and 100% overlap.\n"
     ]
    },
    {
     "name": "stdout",
     "output_type": "stream",
     "text": [
      "addH_3w10A\n",
      "addH_3r22A\n"
     ]
    },
    {
     "name": "stderr",
     "output_type": "stream",
     "text": [
      "@> Checking AtomGroup addH_3r22A: 1 chains are identified\n",
      "@> Checking AtomGroup addH_2j4zA: 1 chains are identified\n",
      "@> Trying to match chains based on residue numbers and names:\n",
      "@>   Comparing Chain A from addH_3r22A (len=255) and Chain A from addH_2j4zA (len=264):\n",
      "@> \tFailed to match chains (seqid=64%, overlap=97%).\n",
      "@> Trying to match chains based on local sequence alignment:\n",
      "@>  Comparing Chain A from addH_3r22A (len=255) and Chain A from addH_2j4zA (len=264):\n",
      "@> \tMatch: 255 residues match with 100% sequence identity and 97% overlap.\n",
      "@> Checking AtomGroup addH_5orlA: 1 chains are identified\n",
      "@> Checking AtomGroup addH_2j4zA: 1 chains are identified\n",
      "@> Trying to match chains based on residue numbers and names:\n",
      "@>   Comparing Chain A from addH_5orlA (len=265) and Chain A from addH_2j4zA (len=264):\n",
      "@> \tFailed to match chains (seqid=4%, overlap=100%).\n",
      "@> Trying to match chains based on local sequence alignment:\n",
      "@>  Comparing Chain A from addH_5orlA (len=265) and Chain A from addH_2j4zA (len=264):\n",
      "@> \tMatch: 263 residues match with 99% sequence identity and 99% overlap.\n"
     ]
    },
    {
     "name": "stdout",
     "output_type": "stream",
     "text": [
      "addH_5orlA\n",
      "addH_5ornA\n"
     ]
    },
    {
     "name": "stderr",
     "output_type": "stream",
     "text": [
      "@> Checking AtomGroup addH_5ornA: 1 chains are identified\n",
      "@> Checking AtomGroup addH_2j4zA: 1 chains are identified\n",
      "@> Trying to match chains based on residue numbers and names:\n",
      "@>   Comparing Chain A from addH_5ornA (len=265) and Chain A from addH_2j4zA (len=264):\n",
      "@> \tFailed to match chains (seqid=4%, overlap=100%).\n",
      "@> Trying to match chains based on local sequence alignment:\n",
      "@>  Comparing Chain A from addH_5ornA (len=265) and Chain A from addH_2j4zA (len=264):\n",
      "@> \tMatch: 263 residues match with 99% sequence identity and 99% overlap.\n",
      "@> Checking AtomGroup addH_5oroA: 1 chains are identified\n",
      "@> Checking AtomGroup addH_2j4zA: 1 chains are identified\n",
      "@> Trying to match chains based on residue numbers and names:\n",
      "@>   Comparing Chain A from addH_5oroA (len=265) and Chain A from addH_2j4zA (len=264):\n",
      "@> \tFailed to match chains (seqid=4%, overlap=100%).\n",
      "@> Trying to match chains based on local sequence alignment:\n",
      "@>  Comparing Chain A from addH_5oroA (len=265) and Chain A from addH_2j4zA (len=264):\n",
      "@> \tMatch: 263 residues match with 99% sequence identity and 99% overlap.\n"
     ]
    },
    {
     "name": "stdout",
     "output_type": "stream",
     "text": [
      "addH_5oroA\n",
      "addH_5orpA\n"
     ]
    },
    {
     "name": "stderr",
     "output_type": "stream",
     "text": [
      "@> Checking AtomGroup addH_5orpA: 1 chains are identified\n",
      "@> Checking AtomGroup addH_2j4zA: 1 chains are identified\n",
      "@> Trying to match chains based on residue numbers and names:\n",
      "@>   Comparing Chain A from addH_5orpA (len=265) and Chain A from addH_2j4zA (len=264):\n",
      "@> \tFailed to match chains (seqid=4%, overlap=100%).\n",
      "@> Trying to match chains based on local sequence alignment:\n",
      "@>  Comparing Chain A from addH_5orpA (len=265) and Chain A from addH_2j4zA (len=264):\n",
      "@> \tMatch: 263 residues match with 99% sequence identity and 99% overlap.\n",
      "@> Checking AtomGroup addH_5orrA: 1 chains are identified\n",
      "@> Checking AtomGroup addH_2j4zA: 1 chains are identified\n",
      "@> Trying to match chains based on residue numbers and names:\n",
      "@>   Comparing Chain A from addH_5orrA (len=265) and Chain A from addH_2j4zA (len=264):\n",
      "@> \tFailed to match chains (seqid=4%, overlap=100%).\n",
      "@> Trying to match chains based on local sequence alignment:\n",
      "@>  Comparing Chain A from addH_5orrA (len=265) and Chain A from addH_2j4zA (len=264):\n",
      "@> \tMatch: 263 residues match with 99% sequence identity and 99% overlap.\n"
     ]
    },
    {
     "name": "stdout",
     "output_type": "stream",
     "text": [
      "addH_5orrA\n",
      "addH_5orsA\n"
     ]
    },
    {
     "name": "stderr",
     "output_type": "stream",
     "text": [
      "@> Checking AtomGroup addH_5orsA: 1 chains are identified\n",
      "@> Checking AtomGroup addH_2j4zA: 1 chains are identified\n",
      "@> Trying to match chains based on residue numbers and names:\n",
      "@>   Comparing Chain A from addH_5orsA (len=265) and Chain A from addH_2j4zA (len=264):\n",
      "@> \tFailed to match chains (seqid=4%, overlap=100%).\n",
      "@> Trying to match chains based on local sequence alignment:\n",
      "@>  Comparing Chain A from addH_5orsA (len=265) and Chain A from addH_2j4zA (len=264):\n",
      "@> \tMatch: 263 residues match with 99% sequence identity and 99% overlap.\n",
      "@> Checking AtomGroup addH_5ortA: 1 chains are identified\n",
      "@> Checking AtomGroup addH_2j4zA: 1 chains are identified\n",
      "@> Trying to match chains based on residue numbers and names:\n",
      "@>   Comparing Chain A from addH_5ortA (len=265) and Chain A from addH_2j4zA (len=264):\n",
      "@> \tFailed to match chains (seqid=4%, overlap=100%).\n",
      "@> Trying to match chains based on local sequence alignment:\n",
      "@>  Comparing Chain A from addH_5ortA (len=265) and Chain A from addH_2j4zA (len=264):\n",
      "@> \tMatch: 263 residues match with 99% sequence identity and 99% overlap.\n"
     ]
    },
    {
     "name": "stdout",
     "output_type": "stream",
     "text": [
      "addH_5ortA\n"
     ]
    },
    {
     "name": "stderr",
     "output_type": "stream",
     "text": [
      "@> Checking AtomGroup addH_5orvA: 1 chains are identified\n",
      "@> Checking AtomGroup addH_2j4zA: 1 chains are identified\n",
      "@> Trying to match chains based on residue numbers and names:\n",
      "@>   Comparing Chain A from addH_5orvA (len=265) and Chain A from addH_2j4zA (len=264):\n",
      "@> \tFailed to match chains (seqid=4%, overlap=100%).\n",
      "@> Trying to match chains based on local sequence alignment:\n",
      "@>  Comparing Chain A from addH_5orvA (len=265) and Chain A from addH_2j4zA (len=264):\n",
      "@> \tMatch: 263 residues match with 99% sequence identity and 99% overlap.\n"
     ]
    },
    {
     "name": "stdout",
     "output_type": "stream",
     "text": [
      "addH_5orvA\n",
      "addH_5orwA\n"
     ]
    },
    {
     "name": "stderr",
     "output_type": "stream",
     "text": [
      "@> Checking AtomGroup addH_5orwA: 1 chains are identified\n",
      "@> Checking AtomGroup addH_2j4zA: 1 chains are identified\n",
      "@> Trying to match chains based on residue numbers and names:\n",
      "@>   Comparing Chain A from addH_5orwA (len=265) and Chain A from addH_2j4zA (len=264):\n",
      "@> \tFailed to match chains (seqid=4%, overlap=100%).\n",
      "@> Trying to match chains based on local sequence alignment:\n",
      "@>  Comparing Chain A from addH_5orwA (len=265) and Chain A from addH_2j4zA (len=264):\n",
      "@> \tMatch: 263 residues match with 99% sequence identity and 99% overlap.\n",
      "@> Checking AtomGroup addH_5orxA: 1 chains are identified\n",
      "@> Checking AtomGroup addH_2j4zA: 1 chains are identified\n",
      "@> Trying to match chains based on residue numbers and names:\n",
      "@>   Comparing Chain A from addH_5orxA (len=265) and Chain A from addH_2j4zA (len=264):\n",
      "@> \tFailed to match chains (seqid=4%, overlap=100%).\n",
      "@> Trying to match chains based on local sequence alignment:\n",
      "@>  Comparing Chain A from addH_5orxA (len=265) and Chain A from addH_2j4zA (len=264):\n",
      "@> \tMatch: 263 residues match with 99% sequence identity and 99% overlap.\n"
     ]
    },
    {
     "name": "stdout",
     "output_type": "stream",
     "text": [
      "addH_5orxA\n"
     ]
    },
    {
     "name": "stderr",
     "output_type": "stream",
     "text": [
      "@> Checking AtomGroup addH_5oryA: 1 chains are identified\n",
      "@> Checking AtomGroup addH_2j4zA: 1 chains are identified\n",
      "@> Trying to match chains based on residue numbers and names:\n",
      "@>   Comparing Chain A from addH_5oryA (len=265) and Chain A from addH_2j4zA (len=264):\n",
      "@> \tFailed to match chains (seqid=4%, overlap=100%).\n",
      "@> Trying to match chains based on local sequence alignment:\n",
      "@>  Comparing Chain A from addH_5oryA (len=265) and Chain A from addH_2j4zA (len=264):\n",
      "@> \tMatch: 263 residues match with 99% sequence identity and 99% overlap.\n"
     ]
    },
    {
     "name": "stdout",
     "output_type": "stream",
     "text": [
      "addH_5oryA\n"
     ]
    },
    {
     "name": "stderr",
     "output_type": "stream",
     "text": [
      "@> Checking AtomGroup addH_5orzA: 1 chains are identified\n",
      "@> Checking AtomGroup addH_2j4zA: 1 chains are identified\n",
      "@> Trying to match chains based on residue numbers and names:\n",
      "@>   Comparing Chain A from addH_5orzA (len=265) and Chain A from addH_2j4zA (len=264):\n",
      "@> \tFailed to match chains (seqid=4%, overlap=100%).\n",
      "@> Trying to match chains based on local sequence alignment:\n",
      "@>  Comparing Chain A from addH_5orzA (len=265) and Chain A from addH_2j4zA (len=264):\n",
      "@> \tMatch: 263 residues match with 99% sequence identity and 99% overlap.\n"
     ]
    },
    {
     "name": "stdout",
     "output_type": "stream",
     "text": [
      "addH_5orzA\n",
      "addH_5os0A\n"
     ]
    },
    {
     "name": "stderr",
     "output_type": "stream",
     "text": [
      "@> Checking AtomGroup addH_5os0A: 1 chains are identified\n",
      "@> Checking AtomGroup addH_2j4zA: 1 chains are identified\n",
      "@> Trying to match chains based on residue numbers and names:\n",
      "@>   Comparing Chain A from addH_5os0A (len=265) and Chain A from addH_2j4zA (len=264):\n",
      "@> \tFailed to match chains (seqid=4%, overlap=100%).\n",
      "@> Trying to match chains based on local sequence alignment:\n",
      "@>  Comparing Chain A from addH_5os0A (len=265) and Chain A from addH_2j4zA (len=264):\n",
      "@> \tMatch: 263 residues match with 99% sequence identity and 99% overlap.\n",
      "@> Checking AtomGroup addH_5os1A: 1 chains are identified\n",
      "@> Checking AtomGroup addH_2j4zA: 1 chains are identified\n",
      "@> Trying to match chains based on residue numbers and names:\n",
      "@>   Comparing Chain A from addH_5os1A (len=265) and Chain A from addH_2j4zA (len=264):\n",
      "@> \tFailed to match chains (seqid=4%, overlap=100%).\n",
      "@> Trying to match chains based on local sequence alignment:\n",
      "@>  Comparing Chain A from addH_5os1A (len=265) and Chain A from addH_2j4zA (len=264):\n",
      "@> \tMatch: 263 residues match with 99% sequence identity and 99% overlap.\n"
     ]
    },
    {
     "name": "stdout",
     "output_type": "stream",
     "text": [
      "addH_5os1A\n",
      "addH_5os3A\n"
     ]
    },
    {
     "name": "stderr",
     "output_type": "stream",
     "text": [
      "@> Checking AtomGroup addH_5os3A: 1 chains are identified\n",
      "@> Checking AtomGroup addH_2j4zA: 1 chains are identified\n",
      "@> Trying to match chains based on residue numbers and names:\n",
      "@>   Comparing Chain A from addH_5os3A (len=265) and Chain A from addH_2j4zA (len=264):\n",
      "@> \tFailed to match chains (seqid=4%, overlap=100%).\n",
      "@> Trying to match chains based on local sequence alignment:\n",
      "@>  Comparing Chain A from addH_5os3A (len=265) and Chain A from addH_2j4zA (len=264):\n",
      "@> \tMatch: 263 residues match with 99% sequence identity and 99% overlap.\n",
      "@> Checking AtomGroup addH_5os4A: 1 chains are identified\n",
      "@> Checking AtomGroup addH_2j4zA: 1 chains are identified\n",
      "@> Trying to match chains based on residue numbers and names:\n",
      "@>   Comparing Chain A from addH_5os4A (len=265) and Chain A from addH_2j4zA (len=264):\n",
      "@> \tFailed to match chains (seqid=4%, overlap=100%).\n",
      "@> Trying to match chains based on local sequence alignment:\n",
      "@>  Comparing Chain A from addH_5os4A (len=265) and Chain A from addH_2j4zA (len=264):\n",
      "@> \tMatch: 263 residues match with 99% sequence identity and 99% overlap.\n"
     ]
    },
    {
     "name": "stdout",
     "output_type": "stream",
     "text": [
      "addH_5os4A\n",
      "addH_5os6A\n"
     ]
    },
    {
     "name": "stderr",
     "output_type": "stream",
     "text": [
      "@> Checking AtomGroup addH_5os6A: 1 chains are identified\n",
      "@> Checking AtomGroup addH_2j4zA: 1 chains are identified\n",
      "@> Trying to match chains based on residue numbers and names:\n",
      "@>   Comparing Chain A from addH_5os6A (len=265) and Chain A from addH_2j4zA (len=264):\n",
      "@> \tFailed to match chains (seqid=4%, overlap=100%).\n",
      "@> Trying to match chains based on local sequence alignment:\n",
      "@>  Comparing Chain A from addH_5os6A (len=265) and Chain A from addH_2j4zA (len=264):\n",
      "@> \tMatch: 263 residues match with 99% sequence identity and 99% overlap.\n",
      "@> Checking AtomGroup addH_5oseA: 1 chains are identified\n",
      "@> Checking AtomGroup addH_2j4zA: 1 chains are identified\n",
      "@> Trying to match chains based on residue numbers and names:\n",
      "@>   Comparing Chain A from addH_5oseA (len=265) and Chain A from addH_2j4zA (len=264):\n",
      "@> \tFailed to match chains (seqid=4%, overlap=100%).\n",
      "@> Trying to match chains based on local sequence alignment:\n",
      "@>  Comparing Chain A from addH_5oseA (len=265) and Chain A from addH_2j4zA (len=264):\n",
      "@> \tMatch: 263 residues match with 99% sequence identity and 99% overlap.\n"
     ]
    },
    {
     "name": "stdout",
     "output_type": "stream",
     "text": [
      "addH_5oseA\n",
      "addH_5osfA\n"
     ]
    },
    {
     "name": "stderr",
     "output_type": "stream",
     "text": [
      "@> Checking AtomGroup addH_5osfA: 1 chains are identified\n",
      "@> Checking AtomGroup addH_2j4zA: 1 chains are identified\n",
      "@> Trying to match chains based on residue numbers and names:\n",
      "@>   Comparing Chain A from addH_5osfA (len=265) and Chain A from addH_2j4zA (len=264):\n",
      "@> \tFailed to match chains (seqid=4%, overlap=100%).\n",
      "@> Trying to match chains based on local sequence alignment:\n",
      "@>  Comparing Chain A from addH_5osfA (len=265) and Chain A from addH_2j4zA (len=264):\n",
      "@> \tMatch: 263 residues match with 99% sequence identity and 99% overlap.\n",
      "@> Checking AtomGroup addH_4bn1A: 1 chains are identified\n",
      "@> Checking AtomGroup addH_2j4zA: 1 chains are identified\n",
      "@> Trying to match chains based on residue numbers and names:\n",
      "@>   Comparing Chain A from addH_4bn1A (len=263) and Chain A from addH_2j4zA (len=264):\n",
      "@> \tMatch: 263 residues match with 100% sequence identity and 100% overlap.\n"
     ]
    },
    {
     "name": "stdout",
     "output_type": "stream",
     "text": [
      "addH_4bn1A\n",
      "addH_8of5A\n"
     ]
    },
    {
     "name": "stderr",
     "output_type": "stream",
     "text": [
      "@> Checking AtomGroup addH_8of5A: 1 chains are identified\n",
      "@> Checking AtomGroup addH_2j4zA: 1 chains are identified\n",
      "@> Trying to match chains based on residue numbers and names:\n",
      "@>   Comparing Chain A from addH_8of5A (len=265) and Chain A from addH_2j4zA (len=264):\n",
      "@> \tMatch: 264 residues match with 99% sequence identity and 100% overlap.\n",
      "@> Checking AtomGroup addH_6vpiA: 1 chains are identified\n",
      "@> Checking AtomGroup addH_2j4zA: 1 chains are identified\n",
      "@> Trying to match chains based on residue numbers and names:\n",
      "@>   Comparing Chain A from addH_6vpiA (len=278) and Chain A from addH_2j4zA (len=264):\n",
      "@> \tFailed to match chains (seqid=6%, overlap=95%).\n",
      "@> Trying to match chains based on local sequence alignment:\n",
      "@>  Comparing Chain A from addH_6vpiA (len=278) and Chain A from addH_2j4zA (len=264):\n",
      "@> \tMatch: 264 residues match with 99% sequence identity and 95% overlap.\n"
     ]
    },
    {
     "name": "stdout",
     "output_type": "stream",
     "text": [
      "addH_6vpiA\n",
      "addH_7ztlA\n"
     ]
    },
    {
     "name": "stderr",
     "output_type": "stream",
     "text": [
      "@> Checking AtomGroup addH_7ztlA: 1 chains are identified\n",
      "@> Checking AtomGroup addH_2j4zA: 1 chains are identified\n",
      "@> Trying to match chains based on residue numbers and names:\n",
      "@>   Comparing Chain A from addH_7ztlA (len=264) and Chain A from addH_2j4zA (len=264):\n",
      "@> \tMatch: 264 residues match with 99% sequence identity and 100% overlap.\n",
      "@> Checking AtomGroup addH_2dwbA: 1 chains are identified\n",
      "@> Checking AtomGroup addH_2j4zA: 1 chains are identified\n",
      "@> Trying to match chains based on residue numbers and names:\n",
      "@>   Comparing Chain A from addH_2dwbA (len=262) and Chain A from addH_2j4zA (len=264):\n",
      "@> \tFailed to match chains (seqid=61%, overlap=99%).\n",
      "@> Trying to match chains based on local sequence alignment:\n",
      "@>  Comparing Chain A from addH_2dwbA (len=262) and Chain A from addH_2j4zA (len=264):\n",
      "@> \tMatch: 262 residues match with 100% sequence identity and 99% overlap.\n"
     ]
    },
    {
     "name": "stdout",
     "output_type": "stream",
     "text": [
      "addH_2dwbA\n",
      "addH_6vphA\n"
     ]
    },
    {
     "name": "stderr",
     "output_type": "stream",
     "text": [
      "@> Checking AtomGroup addH_6vphA: 1 chains are identified\n",
      "@> Checking AtomGroup addH_2j4zA: 1 chains are identified\n",
      "@> Trying to match chains based on residue numbers and names:\n",
      "@>   Comparing Chain A from addH_6vphA (len=282) and Chain A from addH_2j4zA (len=264):\n",
      "@> \tFailed to match chains (seqid=4%, overlap=93%).\n",
      "@> Trying to match chains based on local sequence alignment:\n",
      "@>  Comparing Chain A from addH_6vphA (len=282) and Chain A from addH_2j4zA (len=264):\n",
      "@> \tMatch: 262 residues match with 99% sequence identity and 93% overlap.\n",
      "@> Checking AtomGroup addH_2wtvA: 1 chains are identified\n",
      "@> Checking AtomGroup addH_2j4zA: 1 chains are identified\n",
      "@> Trying to match chains based on residue numbers and names:\n",
      "@>   Comparing Chain A from addH_2wtvA (len=265) and Chain A from addH_2j4zA (len=264):\n",
      "@> \tFailed to match chains (seqid=4%, overlap=100%).\n",
      "@> Trying to match chains based on local sequence alignment:\n",
      "@>  Comparing Chain A from addH_2wtvA (len=265) and Chain A from addH_2j4zA (len=264):\n",
      "@> \tMatch: 264 residues match with 99% sequence identity and 100% overlap.\n"
     ]
    },
    {
     "name": "stdout",
     "output_type": "stream",
     "text": [
      "addH_2wtvA\n",
      "addH_3d14A\n"
     ]
    },
    {
     "name": "stderr",
     "output_type": "stream",
     "text": [
      "@> Checking AtomGroup addH_3d14A: 1 chains are identified\n",
      "@> Checking AtomGroup addH_2j4zA: 1 chains are identified\n",
      "@> Trying to match chains based on residue numbers and names:\n",
      "@>   Comparing Chain A from addH_3d14A (len=262) and Chain A from addH_2j4zA (len=264):\n",
      "@> \tFailed to match chains (seqid=5%, overlap=99%).\n",
      "@> Trying to match chains based on local sequence alignment:\n",
      "@>  Comparing Chain A from addH_3d14A (len=262) and Chain A from addH_2j4zA (len=264):\n",
      "@> \tMatch: 257 residues match with 93% sequence identity and 97% overlap.\n",
      "@> Checking AtomGroup addH_3d15A: 1 chains are identified\n",
      "@> Checking AtomGroup addH_2j4zA: 1 chains are identified\n",
      "@> Trying to match chains based on residue numbers and names:\n",
      "@>   Comparing Chain A from addH_3d15A (len=256) and Chain A from addH_2j4zA (len=264):\n",
      "@> \tFailed to match chains (seqid=61%, overlap=97%).\n",
      "@> Trying to match chains based on local sequence alignment:\n",
      "@>  Comparing Chain A from addH_3d15A (len=256) and Chain A from addH_2j4zA (len=264):\n",
      "@> \tMatch: 256 residues match with 95% sequence identity and 97% overlap.\n"
     ]
    },
    {
     "name": "stdout",
     "output_type": "stream",
     "text": [
      "addH_3d15A\n",
      "addH_3d2iA\n"
     ]
    },
    {
     "name": "stderr",
     "output_type": "stream",
     "text": [
      "@> Checking AtomGroup addH_3d2iA: 1 chains are identified\n",
      "@> Checking AtomGroup addH_2j4zA: 1 chains are identified\n",
      "@> Trying to match chains based on residue numbers and names:\n",
      "@>   Comparing Chain A from addH_3d2iA (len=255) and Chain A from addH_2j4zA (len=264):\n",
      "@> \tFailed to match chains (seqid=3%, overlap=97%).\n",
      "@> Trying to match chains based on local sequence alignment:\n",
      "@>  Comparing Chain A from addH_3d2iA (len=255) and Chain A from addH_2j4zA (len=264):\n",
      "@> \tMatch: 255 residues match with 95% sequence identity and 97% overlap.\n",
      "@> Checking AtomGroup addH_3d2kA: 1 chains are identified\n",
      "@> Checking AtomGroup addH_2j4zA: 1 chains are identified\n",
      "@> Trying to match chains based on residue numbers and names:\n",
      "@>   Comparing Chain A from addH_3d2kA (len=245) and Chain A from addH_2j4zA (len=264):\n",
      "@> \tFailed to match chains (seqid=6%, overlap=93%).\n",
      "@> Trying to match chains based on local sequence alignment:\n",
      "@>  Comparing Chain A from addH_3d2kA (len=245) and Chain A from addH_2j4zA (len=264):\n",
      "@> \tMatch: 245 residues match with 94% sequence identity and 93% overlap.\n"
     ]
    },
    {
     "name": "stdout",
     "output_type": "stream",
     "text": [
      "addH_3d2kA\n",
      "addH_3dj5A\n"
     ]
    },
    {
     "name": "stderr",
     "output_type": "stream",
     "text": [
      "@> Checking AtomGroup addH_3dj5A: 1 chains are identified\n",
      "@> Checking AtomGroup addH_2j4zA: 1 chains are identified\n",
      "@> Trying to match chains based on residue numbers and names:\n",
      "@>   Comparing Chain A from addH_3dj5A (len=252) and Chain A from addH_2j4zA (len=264):\n",
      "@> \tFailed to match chains (seqid=6%, overlap=95%).\n",
      "@> Trying to match chains based on local sequence alignment:\n",
      "@>  Comparing Chain A from addH_3dj5A (len=252) and Chain A from addH_2j4zA (len=264):\n",
      "@> \tMatch: 252 residues match with 94% sequence identity and 95% overlap.\n",
      "@> Checking AtomGroup addH_3dj6A: 1 chains are identified\n",
      "@> Checking AtomGroup addH_2j4zA: 1 chains are identified\n",
      "@> Trying to match chains based on residue numbers and names:\n",
      "@>   Comparing Chain A from addH_3dj6A (len=252) and Chain A from addH_2j4zA (len=264):\n",
      "@> \tFailed to match chains (seqid=6%, overlap=95%).\n",
      "@> Trying to match chains based on local sequence alignment:\n",
      "@>  Comparing Chain A from addH_3dj6A (len=252) and Chain A from addH_2j4zA (len=264):\n",
      "@> \tMatch: 252 residues match with 94% sequence identity and 95% overlap.\n"
     ]
    },
    {
     "name": "stdout",
     "output_type": "stream",
     "text": [
      "addH_3dj6A\n"
     ]
    },
    {
     "name": "stderr",
     "output_type": "stream",
     "text": [
      "@> Checking AtomGroup addH_3dj7A: 1 chains are identified\n",
      "@> Checking AtomGroup addH_2j4zA: 1 chains are identified\n",
      "@> Trying to match chains based on residue numbers and names:\n",
      "@>   Comparing Chain A from addH_3dj7A (len=257) and Chain A from addH_2j4zA (len=264):\n",
      "@> \tFailed to match chains (seqid=61%, overlap=97%).\n",
      "@> Trying to match chains based on local sequence alignment:\n",
      "@>  Comparing Chain A from addH_3dj7A (len=257) and Chain A from addH_2j4zA (len=264):\n",
      "@> \tMatch: 257 residues match with 95% sequence identity and 97% overlap.\n"
     ]
    },
    {
     "name": "stdout",
     "output_type": "stream",
     "text": [
      "addH_3dj7A\n",
      "addH_3dajA\n"
     ]
    },
    {
     "name": "stderr",
     "output_type": "stream",
     "text": [
      "@> Checking AtomGroup addH_3dajA: 1 chains are identified\n",
      "@> Checking AtomGroup addH_2j4zA: 1 chains are identified\n",
      "@> Trying to match chains based on residue numbers and names:\n",
      "@>   Comparing Chain A from addH_3dajA (len=245) and Chain A from addH_2j4zA (len=264):\n",
      "@> \tFailed to match chains (seqid=2%, overlap=93%).\n",
      "@> Trying to match chains based on local sequence alignment:\n",
      "@>  Comparing Chain A from addH_3dajA (len=245) and Chain A from addH_2j4zA (len=264):\n",
      "@> \tMatch: 245 residues match with 94% sequence identity and 93% overlap.\n"
     ]
    }
   ],
   "source": [
    "structures = parsePDB(new_pdbids)\n",
    "target = structures[0]\n",
    "\n",
    "rmsds = []\n",
    "for mobile in structures[1:]:\n",
    "    try:\n",
    "        i = mobile.getTitle()\n",
    "        print (i)\n",
    "        matches = matchChains(mobile.protein, target.protein, subset='bb')\n",
    "        m = matches[0]\n",
    "\n",
    "        m0_alg, T = superpose(m[0], m[1], weights=m[0].getFlags(\"mapped\"))\n",
    "        rmsds.append(calcRMSD(m[0], m[1], weights=m[0].getFlags(\"mapped\")))\n",
    "        writePDB('align__'+i+'.pdb', mobile)\n",
    "    except: pass    "
   ]
  },
  {
   "cell_type": "markdown",
   "metadata": {},
   "source": [
    "To see how different the protein structures are we will also compute `RMSD` (Root Mean Square Deviation) values:  "
   ]
  },
  {
   "cell_type": "code",
   "execution_count": 19,
   "metadata": {},
   "outputs": [
    {
     "data": {
      "text/plain": [
       "[15.7416801388501,\n",
       " 5.405238773532228,\n",
       " 6.781006787473662,\n",
       " 3.79873132534104,\n",
       " 4.5299040486907245,\n",
       " 2.501949893866858,\n",
       " 5.098762357174717,\n",
       " 4.470669358265639,\n",
       " 4.042762252860011,\n",
       " 3.7163937304441803,\n",
       " 3.8011171493704903,\n",
       " 3.9055749385667418,\n",
       " 1.6269110924704393,\n",
       " 6.570009902623906,\n",
       " 8.356873515991166,\n",
       " 4.583650234657511,\n",
       " 5.146804316882328,\n",
       " 7.266899662343252,\n",
       " 3.9394564667208245,\n",
       " 4.244965799132072,\n",
       " 1.016237373554348,\n",
       " 5.719795373910759,\n",
       " 5.548773365239079,\n",
       " 3.0152785125047297,\n",
       " 1.4460531479001628,\n",
       " 1.5749451084465613,\n",
       " 2.606800117275008,\n",
       " 4.564723662981073,\n",
       " 5.518471783151154,\n",
       " 2.809205111935787,\n",
       " 8.040983584264056,\n",
       " 8.729572376064823,\n",
       " 5.887710425407654,\n",
       " 20.866767332520528,\n",
       " 4.607958142116434,\n",
       " 3.440674291175049,\n",
       " 3.03836040344646,\n",
       " 2.887607129149282,\n",
       " 4.747476285606332,\n",
       " 2.9473996584960944,\n",
       " 3.0203464675763247,\n",
       " 4.859084328298178,\n",
       " 4.355270019026595,\n",
       " 3.987386381864272,\n",
       " 7.1237623788115965,\n",
       " 7.103711450698426,\n",
       " 2.3206952892511725,\n",
       " 7.078547894042809,\n",
       " 2.307566163831396,\n",
       " 3.9866392063413767,\n",
       " 4.175565968925698,\n",
       " 3.9477165337446976,\n",
       " 7.116346234218495,\n",
       " 7.126377034944913,\n",
       " 7.081421711320095,\n",
       " 5.695251514226038,\n",
       " 7.132630737946957,\n",
       " 7.148188950202642,\n",
       " 5.775865688798991,\n",
       " 19.540353934843775,\n",
       " 19.539633766729157,\n",
       " 3.612469191947796,\n",
       " 2.964037006062009,\n",
       " 1.2680938445895593,\n",
       " 5.8676635479007295,\n",
       " 3.7089574908267076,\n",
       " 5.88176504528459,\n",
       " 5.680794625372102,\n",
       " 4.607433001013056,\n",
       " 4.564397755785763,\n",
       " 5.7267592080945855,\n",
       " 6.145859424545531,\n",
       " 4.6337782566142804,\n",
       " 5.720832938159174,\n",
       " 4.471319543382575,\n",
       " 5.73373867973819,\n",
       " 5.719110678817306,\n",
       " 4.618036494660167,\n",
       " 5.217193931783408,\n",
       " 5.801388595147755,\n",
       " 4.938918329587047,\n",
       " 4.8781695935500595,\n",
       " 5.493374139277028,\n",
       " 5.780998290615159,\n",
       " 5.707693632234959,\n",
       " 3.687581200317552,\n",
       " 5.649856014166184,\n",
       " 3.811118442449337,\n",
       " 5.545631298226409,\n",
       " 1.6570893145318746,\n",
       " 5.159648824172648,\n",
       " 4.110202071725968,\n",
       " 3.8153337687318887,\n",
       " 5.855427222601986,\n",
       " 5.18831108016181,\n",
       " 1.961168969051275,\n",
       " 4.846773434046609,\n",
       " 4.8364355212600065,\n",
       " 5.638461126377573,\n",
       " 5.85978536894122,\n",
       " 5.843913778440574,\n",
       " 5.856872837194318,\n",
       " 5.806696679975406,\n",
       " 8.711019589950803,\n",
       " 5.7263850858699925,\n",
       " 5.751438467223514,\n",
       " 18.380949877674055,\n",
       " 4.536276952992909,\n",
       " 20.797419868721565,\n",
       " 4.340337608696035,\n",
       " 4.421795891398777,\n",
       " 2.174481594113949,\n",
       " 5.815037451905786,\n",
       " 2.559242836786727,\n",
       " 7.488939679388587,\n",
       " 5.740157224951887,\n",
       " 5.735260031350588,\n",
       " 1.9613277183545779,\n",
       " 3.6194690561467713,\n",
       " 5.924299593000422,\n",
       " 5.811979827376016,\n",
       " 5.834640634391163,\n",
       " 5.823692778902892,\n",
       " 5.811179110552912,\n",
       " 5.831487091795602,\n",
       " 5.846591295596094,\n",
       " 5.808161193427374,\n",
       " 5.807675682749766,\n",
       " 5.804447076875369,\n",
       " 5.799985182576587,\n",
       " 5.812640632482006,\n",
       " 5.818354367415313,\n",
       " 5.8024647070776645,\n",
       " 5.82998724302413,\n",
       " 5.826491965676284,\n",
       " 5.837718108309498,\n",
       " 5.811069076052185,\n",
       " 5.812165023418319,\n",
       " 4.678016152854698,\n",
       " 8.387352072232348,\n",
       " 18.386046710305347,\n",
       " 5.178759436557337,\n",
       " 4.484623964031761,\n",
       " 19.119048695202956,\n",
       " 3.8101921183299567,\n",
       " 11.248734114427286,\n",
       " 4.128135798578882,\n",
       " 4.979727626594025,\n",
       " 5.993732358758829,\n",
       " 7.234665864126726,\n",
       " 7.2513491248669775,\n",
       " 4.200469676218875,\n",
       " 3.806838308870433]"
      ]
     },
     "execution_count": 19,
     "metadata": {},
     "output_type": "execute_result"
    }
   ],
   "source": [
    "rmsds"
   ]
  },
  {
   "cell_type": "markdown",
   "metadata": {},
   "source": [
    "When protein structures are prepared, i.e., hydrogens are added, protein structures that lack water molecules are eliminated, and they are all aligned, we can finally start the analysis with WatFinder. To do it, we will use the prefix name ``namePrefix`` to select the PDB structure for the analysis. We are using the current directory to find those files.\n",
    "\n",
    "The code below will analyze all found PDB structures with ``'align__'`` prefix in the current directory and analyze them using :func:`calcWaterBridges` function. Structures that are not protein structures or water molecules will be ignored. The analyzed structure will be saved using :func:`savePDBWaterBridges` function with ``'wb_'`` prefix in the same directory."
   ]
  },
  {
   "cell_type": "code",
   "execution_count": 4,
   "metadata": {},
   "outputs": [
    {
     "name": "stderr",
     "output_type": "stream",
     "text": [
      "@> 5090 atoms and 1 coordinate set(s) were parsed in 0.06s.\n",
      "@> 37 water bridges detected using method cluster.\n",
      "@> THR79 O_1327 A ALA42 N_703 A 4.558718460269292 1 ['B_4601']\n",
      "@> GLU50 N_819 A HIS51 N_834 A 2.883747041610965 1 ['B_4883']\n",
      "@> GLN60 O_1005 A LEU63 O_1050 A LEU71 N_1195 A 3.9334784860222594 5.165410341879919 5.292204172176279 1 ['B_4613']\n",
      "@> HIS65 N_1088 A ARG64 NE_1079 A 5.303383165489743 1 ['B_4886']\n",
      "@> ILE68 O_1138 A HIS65 O_1093 A 2.999372767763286 1 ['B_4652']\n",
      "@> LYS146 NZ_2440 A PRO66 O_1109 A HIS65 O_1093 A 2.82330533240739 5.315179206762455 3.687292367035732 1 ['B_4700']\n",
      "@> ILE68 O_1138 A HIS65 O_1093 A 2.999372767763286 1 ['B_4652']\n",
      "@> GLN60 O_1005 A LEU63 O_1050 A LEU71 N_1195 A 3.9334784860222594 5.165410341879919 5.292204172176279 1 ['B_4613']\n",
      "@> THR79 O_1327 A ALA42 N_703 A 4.558718460269292 1 ['B_4601']\n",
      "@> ASP104 N_1760 A ARG107 NE_1819 A ASP104 OD2_1771 A 5.255454404711356 3.7497314570512934 4.997657151105904 1 ['B_4778']\n",
      "@> THR228 OG1_3746 A GLU105 OE2_1786 A THR228 N_3738 A 2.594899034644703 2.9681689641932443 4.396450158935047 1 ['B_4583']\n",
      "@> ASP104 N_1760 A ARG107 NE_1819 A ASP104 OD2_1771 A 5.255454404711356 3.7497314570512934 4.997657151105904 1 ['B_4778']\n",
      "@> HIS129 O_2164 A SER189 OG_3108 A 5.905749740718783 1 ['B_4475']\n",
      "@> ASP149 OD2_2484 A ASP131 O_2205 A LYS133 N_2231 A 4.071916502090875 5.889699822571605 3.9743190611726154 1 ['B_4571']\n",
      "@> TYR170 O_2785 A ILE132 N_2212 A SER189 OG_3108 A 5.212669661507431 4.406192120187226 4.03519615384432 1 ['B_4598']\n",
      "@> GLU135 OE2_2281 A ASN136 ND2_2293 A 4.3767465085380515 1 ['B_4790']\n",
      "@> LYS146 NZ_2440 A PRO66 O_1109 A HIS65 O_1093 A 2.82330533240739 5.315179206762455 3.687292367035732 1 ['B_4700']\n",
      "@> ILE147 O_2449 A PHE150 N_2485 A 5.580935853421002 1 ['B_4736']\n",
      "@> ASP149 OD2_2484 A ASP131 O_2205 A LYS133 N_2231 A 4.071916502090875 5.889699822571605 3.9743190611726154 1 ['B_4571']\n",
      "@> TPO163 N_2688 A ARG161 O_2655 A 3.8725022918004783 1 ['B_4457']\n"
     ]
    },
    {
     "name": "stdout",
     "output_type": "stream",
     "text": [
      "align__addH_5l8kA.pdb\n"
     ]
    },
    {
     "name": "stderr",
     "output_type": "stream",
     "text": [
      "@> PHE204 N_3330 A ASP169 O_2773 A 5.55676839538954 1 ['B_4670']\n",
      "@> TYR170 O_2785 A ILE132 N_2212 A SER189 OG_3108 A 5.212669661507431 4.406192120187226 4.03519615384432 1 ['B_4598']\n",
      "@> TRP188 NE1_3088 A LEU171 N_2801 A 4.782857409540872 1 ['B_4592']\n",
      "@> HIS129 O_2164 A SER189 OG_3108 A 5.905749740718783 1 ['B_4475']\n",
      "@> TYR170 O_2785 A ILE132 N_2212 A SER189 OG_3108 A 5.212669661507431 4.406192120187226 4.03519615384432 1 ['B_4598']\n",
      "@> PRO203 O_3320 A GLU220 O_3612 A 4.180466600751644 2 ['B_4697', 'B_4523']\n",
      "@> PRO203 O_3320 A THR222 N_3642 A 5.152873082077611 1 ['B_4769']\n",
      "@> PHE204 N_3330 A ASP169 O_2773 A 5.55676839538954 1 ['B_4670']\n",
      "@> THR212 OG1_3464 A ALA206 N_3365 A 3.4999727141793575 1 ['B_4619']\n",
      "@> PRO203 O_3320 A GLU220 O_3612 A 4.180466600751644 2 ['B_4697', 'B_4523']\n",
      "@> PRO203 O_3320 A THR222 N_3642 A 5.152873082077611 1 ['B_4769']\n",
      "@> THR228 OG1_3746 A GLU105 OE2_1786 A THR228 N_3738 A 2.594899034644703 2.9681689641932443 4.396450158935047 1 ['B_4583']\n",
      "@> THR228 OG1_3746 A GLY230 N_3767 A 3.8435959725236475 3 ['B_4772', 'B_4997', 'B_4727']\n",
      "@> THR228 OG1_3746 A GLY230 N_3767 A 3.8435959725236475 3 ['B_4772', 'B_4997', 'B_4727']\n",
      "@> ASN242 N_3970 A HIS241 N_3953 A 2.763280297038286 1 ['B_4553']\n",
      "@> LEU249 N_4081 A ARG250 N_4100 A 2.763958393319266 1 ['B_4469']\n",
      "@> ARG250 NH2_4121 A ASN267 N_4370 A 5.408640864394675 1 ['B_4862']\n",
      "@> 5292 atoms and 1 coordinate set(s) were parsed in 0.07s.\n"
     ]
    },
    {
     "name": "stdout",
     "output_type": "stream",
     "text": [
      "align__addH_3dj5A.pdb\n"
     ]
    },
    {
     "name": "stderr",
     "output_type": "stream",
     "text": [
      "@> 67 water bridges detected using method cluster.\n",
      "@> PHE6 O_91 A LEU3 O_45 A 3.575119298708789 1 ['B_4599']\n",
      "@> ARG10 NH2_165 A ARG10 NE_159 A 2.2921714595553255 1 ['B_4296']\n",
      "@> GLY13 N_201 A ARG10 NH1_162 A 5.6773898051833624 1 ['B_4365']\n",
      "@> ARG10 NH1_162 A PRO11 O_172 A 3.592700794666876 1 ['B_4419']\n",
      "@> PRO11 O_172 A LYS14 N_208 A 5.221713703373635 1 ['B_4248']\n",
      "@> ARG10 NH1_162 A PRO11 O_172 A 3.592700794666876 1 ['B_4419']\n",
      "@> GLY13 N_201 A ARG10 NH1_162 A 5.6773898051833624 1 ['B_4365']\n",
      "@> PHE17 N_259 A GLY15 N_230 A LYS16 N_237 A GLY18 N_279 A GLY18 O_285 A 4.769046969783377 2.754380692642179 2.710612292453497 4.416011096000559 2.8065309547553485 5.343415200038264 4.408271656783418 4.252672806600573 4.940512017999755 2.768329640776184 2 ['B_4566', 'B_4191']\n",
      "@> PHE17 N_259 A GLY15 N_230 A LYS16 N_237 A GLY18 N_279 A GLY18 O_285 A 4.769046969783377 2.754380692642179 2.710612292453497 4.416011096000559 2.8065309547553485 5.343415200038264 4.408271656783418 4.252672806600573 4.940512017999755 2.768329640776184 2 ['B_4566', 'B_4191']\n",
      "@> PHE17 N_259 A GLY15 N_230 A LYS16 N_237 A GLY18 N_279 A GLY18 O_285 A 4.769046969783377 2.754380692642179 2.710612292453497 4.416011096000559 2.8065309547553485 5.343415200038264 4.408271656783418 4.252672806600573 4.940512017999755 2.768329640776184 2 ['B_4566', 'B_4191']\n",
      "@> VAL36 O_593 A ASN19 N_286 A 4.4038090330985105 1 ['B_4230']\n",
      "@> ARG26 NE_420 A ARG26 NH1_423 A 2.3116189132294287 1 ['B_4662']\n",
      "@> ILE31 O_504 A TYR85 N_1435 A TYR70 OH_1199 A 4.864231182828384 5.288728958833116 4.804231780420259 1 ['B_4224']\n",
      "@> LYS35 NZ_584 A TRP150 N_2484 A 5.7157019691372986 1 ['B_4515']\n",
      "@> VAL36 O_593 A ASN19 N_286 A 4.4038090330985105 1 ['B_4230']\n",
      "@> HIS49 N_800 A GLU48 N_785 A GLU48 OE1_798 A 2.9492870324876836 4.669826656311775 3.037423414672379 2 ['B_4611', 'B_4554']\n",
      "@> HIS49 N_800 A GLU48 N_785 A GLU48 OE1_798 A 2.9492870324876836 4.669826656311775 3.037423414672379 2 ['B_4611', 'B_4554']\n",
      "@> ARG53 NH2_898 A GLN50 NE2_831 A 3.9351119424992227 1 ['B_5145']\n",
      "@> GLU54 OE1_914 A GLN58 NE2_980 A 4.42782203797759 1 ['B_4206']\n",
      "@> LEU61 O_1016 A LEU69 N_1161 A GLN58 O_971 A 5.560031384803507 3.577910423697048 4.76730007446563 1 ['B_4254']\n",
      "@> LEU61 O_1016 A SER59 O_988 A 4.9099741343514225 1 ['B_4476']\n",
      "@> SER59 O_988 A ARG68 NH2_1158 A 5.36425661205726 1 ['B_4866']\n",
      "@> LEU61 O_1016 A LEU69 N_1161 A GLN58 O_971 A 5.560031384803507 3.577910423697048 4.76730007446563 1 ['B_4254']\n",
      "@> SER59 O_988 A ARG68 NH2_1158 A 5.36425661205726 1 ['B_4866']\n",
      "@> LEU61 O_1016 A LEU69 N_1161 A GLN58 O_971 A 5.560031384803507 3.577910423697048 4.76730007446563 1 ['B_4254']\n",
      "@> ILE31 O_504 A TYR85 N_1435 A TYR70 OH_1199 A 4.864231182828384 5.288728958833116 4.804231780420259 1 ['B_4224']\n",
      "@> TYR85 O_1440 A GLU84 OE1_1433 A 4.616241544806772 1 ['B_4269']\n",
      "@> TYR85 O_1440 A GLU84 OE1_1433 A 4.616241544806772 1 ['B_4269']\n",
      "@> GLY89 N_1499 A PRO87 O_1470 A 3.597554864070874 1 ['B_5094']\n",
      "@> LYS97 O_1637 A GLN96 O_1620 A 3.4329359155102255 1 ['B_4533']\n",
      "@> ASP102 N_1728 A ARG105 NE_1787 A 5.458686838425522 1 ['B_4239']\n",
      "@> ARG105 NH2_1793 A ASP102 OD2_1739 A ARG105 NE_1787 A 6.494759579845895 2.29875553289166 5.7401591441352915 1 ['B_5031']\n",
      "@> THR217 N_3576 A GLU103 OE1_1753 A 4.409524804329826 1 ['B_4263']\n",
      "@> GLN104 NE2_1769 A SER252 OG_4151 A 3.3047860747709517 1 ['B_4944']\n",
      "@> ARG105 NH2_1793 A ASP102 OD2_1739 A ARG105 NE_1787 A 6.494759579845895 2.29875553289166 5.7401591441352915 1 ['B_5031']\n",
      "@> THR108 OG1_1828 A SER252 OG_4151 A 3.234356968548773 1 ['B_5013']\n",
      "@> THR111 OG1_1882 A SER251 OG_4140 A 2.9725320856132043 1 ['B_4470']\n",
      "@> ARG128 O_2149 A GLY167 O_2758 A 4.798265519956144 1 ['B_4233']\n",
      "@> ILE130 N_2180 A ILE130 O_2185 A 2.9646590023137565 1 ['B_4236']\n",
      "@> ALA146 N_2435 A ASP147 N_2445 A ASN134 O_2255 A 2.798349692229336 3.0204680100937975 3.8448919360627 1 ['B_4590']\n",
      "@> ALA146 O_2440 A GLY149 N_2477 A 4.645408270539849 1 ['B_4218']\n",
      "@> ALA146 N_2435 A ASP147 N_2445 A ASN134 O_2255 A 2.798349692229336 3.0204680100937975 3.8448919360627 1 ['B_4590']\n",
      "@> LYS35 NZ_584 A TRP150 N_2484 A 5.7157019691372986 1 ['B_4515']\n",
      "@> GLY167 O_2758 A MET169 N_2783 A 3.6759936071761627 1 ['B_4200']\n",
      "@> MET169 N_2783 A GLY167 O_2758 A 3.6759936071761627 1 ['B_4215']\n",
      "@> ARG128 O_2149 A GLY167 O_2758 A 4.798265519956144 1 ['B_4233']\n",
      "@> ARG168 NH1_2777 A ARG168 NE_2774 A 2.2796547984289166 1 ['B_4356']\n",
      "@> GLY167 O_2758 A MET169 N_2783 A 3.6759936071761627 1 ['B_4200']\n",
      "@> MET169 N_2783 A GLY167 O_2758 A 3.6759936071761627 1 ['B_4215']\n",
      "@> GLU172 N_2829 A LYS173 N_2844 A 2.8915611700256307 1 ['B_4485']\n",
      "@> THR211 N_3480 A THR211 OG1_3488 A 2.9371785781596595 1 ['B_4956']\n",
      "@> THR211 OG1_3488 A PHE212 O_3499 A PRO213 N_3514 A THR211 O_3485 A 4.9367258380428645 5.3818987355765096 3.10345694347449 2.2704374027926884 4.363899746786126 3.993548922950615 1 ['B_4896']\n",
      "@> THR211 N_3480 A THR211 OG1_3488 A 2.9371785781596595 1 ['B_4956']\n",
      "@> THR211 OG1_3488 A PHE212 O_3499 A PRO213 N_3514 A THR211 O_3485 A 4.9367258380428645 5.3818987355765096 3.10345694347449 2.2704374027926884 4.363899746786126 3.993548922950615 1 ['B_4896']\n",
      "@> ASP214 N_3528 A ARG221 NH2_3643 A 4.101979644025551 1 ['B_4635']\n",
      "@> THR217 N_3576 A GLU103 OE1_1753 A 4.409524804329826 1 ['B_4263']\n",
      "@> THR217 OG1_3584 A GLY219 N_3605 A 3.8443669179723194 1 ['B_4353']\n",
      "@> ASP214 N_3528 A ARG221 NH2_3643 A 4.101979644025551 1 ['B_4635']\n",
      "@> GLN234 O_3848 A LYS229 NZ_3787 A 5.355341352332265 1 ['B_4308']\n",
      "@> ASN231 ND2_3819 A SER233 N_3832 A 3.008581891855364 2 ['B_4632', 'B_4425']\n",
      "@> ARG235 O_3865 A ARG235 N_3860 A SER233 O_3837 A 2.8654231799160144 4.418099704624152 3.697819222190291 1 ['B_4578']\n",
      "@> GLN234 O_3848 A LYS229 NZ_3787 A 5.355341352332265 1 ['B_4308']\n",
      "@> ARG235 O_3865 A ARG235 N_3860 A SER233 O_3837 A 2.8654231799160144 4.418099704624152 3.697819222190291 1 ['B_4578']\n",
      "@> ALA239 N_3936 A LEU238 N_3917 A 2.847193706090262 1 ['B_4431']\n",
      "@> THR111 OG1_1882 A SER251 OG_4140 A 2.9725320856132043 1 ['B_4470']\n",
      "@> GLN104 NE2_1769 A SER252 OG_4151 A 3.3047860747709517 1 ['B_4944']\n",
      "@> THR108 OG1_1828 A SER252 OG_4151 A 3.234356968548773 1 ['B_5013']\n",
      "@> 4330 atoms and 1 coordinate set(s) were parsed in 0.04s.\n",
      "@> 5 water bridges detected using method cluster.\n",
      "@> HIS61 N_1033 A HIS61 O_1038 A 2.587026478411071 1 ['B_4261']\n",
      "@> ILE64 O_1083 A GLU82 OE2_1413 A 3.8276545037398586 1 ['B_4294']\n",
      "@> ASP145 N_2418 A PHE146 N_2430 A 3.0434161726586093 1 ['B_4258']\n",
      "@> PHE196 N_3208 A GLU197 N_3228 A 2.776991897719547 1 ['B_4306']\n",
      "@> ARG224 NH1_3680 A PHE215 O_3539 A 5.027471829856433 1 ['B_4327']\n"
     ]
    },
    {
     "name": "stdout",
     "output_type": "stream",
     "text": [
      "align__addH_2x6dA.pdb\n",
      "align__addH_2c6eA.pdb\n"
     ]
    },
    {
     "name": "stderr",
     "output_type": "stream",
     "text": [
      "@> 4348 atoms and 1 coordinate set(s) were parsed in 0.04s.\n",
      "@> 8 water bridges detected using method cluster.\n",
      "@> TYR71 OH_1209 A ILE32 O_518 A TYR86 N_1445 A 5.55276012447864 4.951486342503633 5.060480016757305 1 ['B_4189']\n",
      "@> LYS145 NZ_2416 A ILE67 O_1114 A 4.956941496527871 1 ['B_4207']\n",
      "@> TYR86 O_1450 A GLU85 OE1_1443 A 4.770405538316424 1 ['B_4225']\n",
      "@> TYR71 OH_1209 A ILE32 O_518 A TYR86 N_1445 A 5.55276012447864 4.951486342503633 5.060480016757305 1 ['B_4189']\n",
      "@> ASP130 N_2176 A SER176 OG_2903 A 4.878176913561046 1 ['B_4264']\n",
      "@> LYS145 NZ_2416 A ILE67 O_1114 A 4.956941496527871 1 ['B_4207']\n",
      "@> ASP156 O_2568 A PHE191 N_3125 A 5.688400829758752 1 ['B_4297']\n",
      "@> ASP156 O_2568 A PHE191 N_3125 A 5.688400829758752 1 ['B_4297']\n",
      "@> 4167 atoms and 1 coordinate set(s) were parsed in 0.04s.\n",
      "@> 0 water bridges detected using method cluster.\n",
      "@> 4185 atoms and 1 coordinate set(s) were parsed in 0.04s.\n"
     ]
    },
    {
     "name": "stdout",
     "output_type": "stream",
     "text": [
      "align__addH_4jaiA.pdb\n",
      "align__addH_4ztsA.pdb\n"
     ]
    },
    {
     "name": "stderr",
     "output_type": "stream",
     "text": [
      "@> 0 water bridges detected using method cluster.\n",
      "@> 4982 atoms and 1 coordinate set(s) were parsed in 0.06s.\n",
      "@> 39 water bridges detected using method cluster.\n",
      "@> GLU6 N_96 A LEU5 N_77 A 2.778509312563122 1 ['B_4799']\n",
      "@> PRO89 O_1504 A ARG12 NH2_205 A 5.998403287542442 1 ['B_4481']\n",
      "@> LYS16 NZ_266 A GLY20 N_319 A 6.2949893566232475 1 ['B_4586']\n",
      "@> LYS18 N_277 A PHE19 N_299 A 2.8505243377315708 1 ['B_4541']\n",
      "@> LYS16 NZ_266 A GLY20 N_319 A 6.2949893566232475 1 ['B_4586']\n",
      "@> ARG64 NH1_1082 A LEU71 N_1195 A 6.219617110401573 1 ['B_4517']\n",
      "@> ASN67 ND2_1130 A GLU114 OE2_1934 A LYS264 NZ_4330 A 4.492823833626245 6.195015819188845 2.5098472065048103 1 ['B_4763']\n",
      "@> TYR74 N_1242 A TYR74 O_1247 A 2.6623572262188966 1 ['B_4850']\n",
      "@> PRO89 O_1504 A ARG12 NH2_205 A 5.998403287542442 1 ['B_4481']\n",
      "@> THR92 N_1540 A LEU90 O_1519 A 3.958542913749958 1 ['B_4601']\n",
      "@> ARG107 NH2_1825 A LYS99 NZ_1684 A 6.135124285619644 1 ['B_4406']\n",
      "@> ASN67 ND2_1130 A GLU114 OE2_1934 A LYS264 NZ_4330 A 4.492823833626245 6.195015819188845 2.5098472065048103 1 ['B_4763']\n",
      "@> THR167 O_2740 A ARG130 O_2181 A THR167 N_2735 A 6.192715559429483 2.8605305451961205 4.89750599795447 1 ['B_4664']\n",
      "@> TRP152 NE1_2525 A LYS133 NZ_2249 A ASP131 OD2_2211 A 6.505664608631464 4.035727815400834 4.412532492798211 1 ['B_4571']\n",
      "@> ASN136 OD1_2292 A ASN136 ND2_2293 A 2.271912190204541 1 ['B_4535']\n",
      "@> TRP152 NE1_2525 A LYS133 NZ_2249 A ASP131 OD2_2211 A 6.505664608631464 4.035727815400834 4.412532492798211 1 ['B_4571']\n",
      "@> TRP152 NE1_2525 A THR167 OG1_2743 A 5.294672983291793 1 ['B_4700']\n",
      "@> SER153 N_2536 A SER153 O_2541 A 2.741570900049827 1 ['B_4511']\n",
      "@> ARG161 NH1_2668 A SER159 O_2620 A 4.986619696748489 1 ['B_4622']\n",
      "@> TPO163 O1P_2694 A TPO163 O3P_2696 A THR162 N_2674 A THR162 OG1_2682 A 2.5910185255995435 5.505908553545003 6.1455575011548005 4.01256925173884 5.810532333616262 3.0267517242086477 1 ['B_4712']\n",
      "@> TPO163 O1P_2694 A TPO163 O3P_2696 A THR162 N_2674 A THR162 OG1_2682 A 2.5910185255995435 5.505908553545003 6.1455575011548005 4.01256925173884 5.810532333616262 3.0267517242086477 1 ['B_4712']\n",
      "@> THR167 O_2740 A ARG130 O_2181 A THR167 N_2735 A 6.192715559429483 2.8605305451961205 4.89750599795447 1 ['B_4664']\n",
      "@> TRP152 NE1_2525 A THR167 OG1_2743 A 5.294672983291793 1 ['B_4700']\n",
      "@> ASP169 O_2773 A TRP188 NE1_3088 A LEU171 N_2801 A 5.053178801507029 3.9240563196773874 4.423151591342987 1 ['B_4469']\n",
      "@> ASP169 OD1_2778 A PHE204 N_3330 A 5.038649124517405 1 ['B_4688']\n",
      "@> ALA206 O_3370 A ASP169 OD2_2779 A 6.261673099100593 1 ['B_4448']\n",
      "@> HIS241 O_3947 A GLU174 OE1_2861 A ARG179 NH2_2942 A 3.9942402281284988 5.4363387495629825 4.87748910813751 1 ['B_4523']\n",
      "@> ASP169 O_2773 A TRP188 NE1_3088 A LEU171 N_2801 A 5.053178801507029 3.9240563196773874 4.423151591342987 1 ['B_4469']\n",
      "@> PRO203 O_3320 A GLU220 O_3601 A 4.291363536220161 1 ['B_4709']\n",
      "@> ASP169 OD1_2778 A PHE204 N_3330 A 5.038649124517405 1 ['B_4688']\n",
      "@> ALA206 O_3370 A ASP169 OD2_2779 A 6.261673099100593 1 ['B_4448']\n",
      "@> THR208 OG1_3397 A THR208 N_3389 A 2.9869159680178474 1 ['B_4415']\n",
      "@> PRO203 O_3320 A GLU220 O_3601 A 4.291363536220161 1 ['B_4709']\n",
      "@> ASP225 OD2_3690 A ASP225 N_3679 A 3.723528031316534 1 ['B_4454']\n",
      "@> THR228 N_3727 A THR228 OG1_3735 A 2.897304091737699 1 ['B_4484']\n",
      "@> GLU229 O_3746 A GLU229 OE2_3755 A 4.63615163686435 1 ['B_4769']\n",
      "@> HIS241 O_3947 A GLU174 OE1_2861 A ARG179 NH2_2942 A 3.9942402281284988 5.4363387495629825 4.87748910813751 1 ['B_4523']\n",
      "@> HIS241 ND1_3952 A ASN242 N_3959 A 3.7435439091855187 1 ['B_4505']\n",
      "@> ASN67 ND2_1130 A GLU114 OE2_1934 A LYS264 NZ_4330 A 4.492823833626245 6.195015819188845 2.5098472065048103 1 ['B_4763']\n"
     ]
    },
    {
     "name": "stdout",
     "output_type": "stream",
     "text": [
      "align__addH_7ztlA.pdb\n"
     ]
    },
    {
     "name": "stderr",
     "output_type": "stream",
     "text": [
      "@> 4580 atoms and 1 coordinate set(s) were parsed in 0.04s.\n",
      "@> 18 water bridges detected using method cluster.\n",
      "@> ASN66 ND2_1106 A ASN116 ND2_1951 A 6.4578682241123495 1 ['B_4400']\n",
      "@> LYS145 NZ_2416 A GLU85 OE1_1443 A GLU85 OE2_1444 A 4.126720974333015 3.0526986421853115 2.1983332322466467 1 ['B_4481']\n",
      "@> ASN66 ND2_1106 A ASN116 ND2_1951 A 6.4578682241123495 1 ['B_4400']\n",
      "@> LYS145 NZ_2416 A GLU85 OE1_1443 A GLU85 OE2_1444 A 4.126720974333015 3.0526986421853115 2.1983332322466467 1 ['B_4481']\n",
      "@> ASP148 OD2_2460 A ASP148 O_2454 A 3.9376586952147132 1 ['B_4457']\n",
      "@> SER152 N_2512 A ASP148 O_2454 A 5.885355554254981 1 ['B_4517']\n",
      "@> SER152 N_2512 A ASP148 O_2454 A 5.885355554254981 1 ['B_4517']\n",
      "@> ASP168 N_2744 A TYR169 N_2756 A 2.8542100483321113 1 ['B_4442']\n",
      "@> TRP187 NE1_3064 A LEU170 N_2777 A ASP168 O_2749 A 4.499145807817303 5.1798415033666805 4.006900173450796 1 ['B_4463']\n",
      "@> ASP168 OD1_2754 A PHE203 N_3306 A 4.750615328565342 1 ['B_4448']\n",
      "@> ASP168 OD1_2754 A ASP168 OD2_2755 A THR211 OG1_3440 A 2.1928780175832845 5.032878500421003 5.528870047306228 1 ['B_4496']\n",
      "@> ASP168 N_2744 A TYR169 N_2756 A 2.8542100483321113 1 ['B_4442']\n",
      "@> TRP187 NE1_3064 A LEU170 N_2777 A ASP168 O_2749 A 4.499145807817303 5.1798415033666805 4.006900173450796 1 ['B_4463']\n",
      "@> PRO202 O_3296 A THR221 N_3618 A 5.289011344287323 1 ['B_4514']\n",
      "@> ASP168 OD1_2754 A PHE203 N_3306 A 4.750615328565342 1 ['B_4448']\n",
      "@> ASP168 OD1_2754 A ASP168 OD2_2755 A THR211 OG1_3440 A 2.1928780175832845 5.032878500421003 5.528870047306228 1 ['B_4496']\n",
      "@> THR221 OG1_3626 A ARG214 NH2_3510 A 5.705038913101291 1 ['B_4526']\n",
      "@> THR221 OG1_3626 A ARG214 NH2_3510 A 5.705038913101291 1 ['B_4526']\n"
     ]
    },
    {
     "name": "stdout",
     "output_type": "stream",
     "text": [
      "align__addH_5oroA.pdb\n"
     ]
    },
    {
     "name": "stderr",
     "output_type": "stream",
     "text": [
      "@> 4254 atoms and 1 coordinate set(s) were parsed in 0.04s.\n",
      "@> 4 water bridges detected using method cluster.\n",
      "@> ILE32 O_516 A TYR86 N_1445 A 4.939739871693645 1 ['B_4248']\n",
      "@> ARG129 N_2152 A SER181 OG_2971 A ILE131 N_2188 A 6.0693131407104035 4.63381948288882 4.661654320088527 1 ['B_4245']\n",
      "@> LEU163 N_2668 A TRP180 NE1_2950 A 4.491104763863786 1 ['B_4242']\n",
      "@> ARG129 N_2152 A SER181 OG_2971 A ILE131 N_2188 A 6.0693131407104035 4.63381948288882 4.661654320088527 1 ['B_4245']\n"
     ]
    },
    {
     "name": "stdout",
     "output_type": "stream",
     "text": [
      "align__addH_6cpeA.pdb\n",
      "align__addH_5dr6A.pdb\n"
     ]
    },
    {
     "name": "stderr",
     "output_type": "stream",
     "text": [
      "@> 4303 atoms and 1 coordinate set(s) were parsed in 0.04s.\n",
      "@> 6 water bridges detected using method cluster.\n",
      "@> ASP161 O_2636 A LEU163 O_2669 A TRP180 NE1_2951 A 4.934980851026675 4.921086262198621 3.381386993527948 1 ['B_4270']\n",
      "@> ASP161 OD1_2641 A PHE196 N_3193 A 4.755673979574294 1 ['B_4276']\n",
      "@> ASP161 O_2636 A LEU163 O_2669 A TRP180 NE1_2951 A 4.934980851026675 4.921086262198621 3.381386993527948 1 ['B_4270']\n",
      "@> TYR187 OH_3064 A THR214 N_3505 A PRO195 O_3183 A 4.722963052999678 5.194432981567864 5.33140075402328 1 ['B_4297']\n",
      "@> ASP161 OD1_2641 A PHE196 N_3193 A 4.755673979574294 1 ['B_4276']\n",
      "@> TYR187 OH_3064 A THR214 N_3505 A PRO195 O_3183 A 4.722963052999678 5.194432981567864 5.33140075402328 1 ['B_4297']\n",
      "@> 4829 atoms and 1 coordinate set(s) were parsed in 0.04s.\n",
      "@> 36 water bridges detected using method cluster.\n",
      "@> ASP150 OD1_2505 A GLU57 OE2_971 A LYS38 NZ_644 A 4.048190459946268 3.6384318050500757 2.868518432919685 1 ['B_4460']\n",
      "@> GLY152 O_2533 A ARG56 NH1_951 A 5.388614293118408 1 ['B_4574']\n",
      "@> GLN61 OE1_1035 A PHE151 N_2507 A 4.095431967448609 1 ['B_4469']\n",
      "@> LEU64 O_1072 A ARG71 NE_1208 A 4.571027127462713 1 ['B_4646']\n",
      "@> ARG65 NH2_1107 A LEU72 O_1222 A ARG71 NH2_1214 A 5.870668275418057 3.5743655381060284 4.702944077915449 1 ['B_4508']\n",
      "@> ILE69 O_1160 A HIS66 O_1115 A 3.173450645590694 1 ['B_4619']\n",
      "@> LEU64 O_1072 A ARG71 NE_1208 A 4.571027127462713 1 ['B_4646']\n",
      "@> ARG65 NH2_1107 A LEU72 O_1222 A ARG71 NH2_1214 A 5.870668275418057 3.5743655381060284 4.702944077915449 1 ['B_4508']\n",
      "@> HIS77 N_1305 A HIS77 O_1310 A 2.8210313716795126 1 ['B_4745']\n",
      "@> GLU87 OE1_1489 A LYS147 NZ_2462 A 3.96257555133022 1 ['B_4622']\n",
      "@> THR93 OG1_1570 A THR93 N_1562 A 2.91637891913928 1 ['B_4721']\n",
      "@> ASP105 OD2_1793 A ASP105 N_1782 A 3.882845605995683 1 ['B_4739']\n",
      "@> ILE133 N_2234 A SER190 OG_3130 A ARG131 N_2198 A 5.122196891959545 4.805337553179798 6.38477110004736 1 ['B_4649']\n",
      "@> TRP153 N_2534 A ASP150 OD1_2505 A ASP150 OD2_2506 A ASP132 OD2_2233 A 5.35918753170665 6.653639380068626 5.576256271011942 2.169581987388358 5.0929607302629005 4.192941091882877 1 ['B_4538']\n",
      "@> ASN137 OD1_2314 A GLU136 OE2_2303 A 4.658417864468579 1 ['B_4637']\n",
      "@> GLY144 O_2409 A LYS265 NZ_4363 A 4.940099088075056 1 ['B_4580']\n",
      "@> GLU87 OE1_1489 A LYS147 NZ_2462 A 3.96257555133022 1 ['B_4622']\n",
      "@> ASP150 OD1_2505 A GLU57 OE2_971 A LYS38 NZ_644 A 4.048190459946268 3.6384318050500757 2.868518432919685 1 ['B_4460']\n",
      "@> TRP153 N_2534 A ASP150 OD1_2505 A ASP150 OD2_2506 A ASP132 OD2_2233 A 5.35918753170665 6.653639380068626 5.576256271011942 2.169581987388358 5.0929607302629005 4.192941091882877 1 ['B_4538']\n",
      "@> GLN61 OE1_1035 A PHE151 N_2507 A 4.095431967448609 1 ['B_4469']\n",
      "@> GLY152 O_2533 A ARG56 NH1_951 A 5.388614293118408 1 ['B_4574']\n",
      "@> TRP153 N_2534 A ASP150 OD1_2505 A ASP150 OD2_2506 A ASP132 OD2_2233 A 5.35918753170665 6.653639380068626 5.576256271011942 2.169581987388358 5.0929607302629005 4.192941091882877 1 ['B_4538']\n",
      "@> PHE205 N_3352 A ASP170 OD1_2800 A 5.144982118530637 1 ['B_4691']\n",
      "@> ARG180 NH1_2961 A HIS242 O_3980 A 6.160943271934911 1 ['B_4607']\n",
      "@> ASP183 N_3001 A ASP183 OD1_3011 A 3.0357018957730384 1 ['B_4592']\n",
      "@> ILE133 N_2234 A SER190 OG_3130 A ARG131 N_2198 A 5.122196891959545 4.805337553179798 6.38477110004736 1 ['B_4649']\n",
      "@> THR223 N_3664 A TYR196 OH_3223 A 4.829711585591835 1 ['B_4601']\n",
      "@> PHE205 N_3352 A ASP170 OD1_2800 A 5.144982118530637 1 ['B_4691']\n",
      "@> HIS242 NE2_3990 A SER218 O_3583 A 3.7689782435031365 1 ['B_4457']\n",
      "@> ARG233 NH1_3824 A ASP226 OD1_3722 A 6.035736906128365 1 ['B_4526']\n",
      "@> THR229 OG1_3768 A THR229 N_3760 A 2.9462579656235115 1 ['B_4604']\n",
      "@> ARG233 NH1_3824 A ASP226 OD1_3722 A 6.035736906128365 1 ['B_4526']\n",
      "@> ASN243 N_3992 A HIS242 N_3975 A 2.8330679483556334 1 ['B_4715']\n",
      "@> ARG180 NH1_2961 A HIS242 O_3980 A 6.160943271934911 1 ['B_4607']\n",
      "@> HIS242 NE2_3990 A SER218 O_3583 A 3.7689782435031365 1 ['B_4457']\n",
      "@> GLY144 O_2409 A LYS265 NZ_4363 A 4.940099088075056 1 ['B_4580']\n"
     ]
    },
    {
     "name": "stdout",
     "output_type": "stream",
     "text": [
      "align__addH_5os5A.pdb\n"
     ]
    },
    {
     "name": "stderr",
     "output_type": "stream",
     "text": [
      "@> 4317 atoms and 1 coordinate set(s) were parsed in 0.04s.\n",
      "@> 10 water bridges detected using method cluster.\n",
      "@> TYR71 OH_1209 A TYR86 N_1445 A ILE32 O_518 A 5.284601120236038 5.58409616679369 4.724416683570575 1 ['B_4254']\n",
      "@> ARG69 NE_1162 A ARG63 NH1_1058 A LEU70 N_1171 A 4.161461642259842 4.6002167340246025 6.4965293041746515 1 ['B_4251']\n",
      "@> ARG69 NE_1162 A ARG63 NH1_1058 A LEU70 N_1171 A 4.161461642259842 4.6002167340246025 6.4965293041746515 1 ['B_4251']\n",
      "@> TYR71 OH_1209 A TYR86 N_1445 A ILE32 O_518 A 5.284601120236038 5.58409616679369 4.724416683570575 1 ['B_4254']\n",
      "@> GLU104 OE2_1762 A THR217 N_3566 A 4.365370774630716 1 ['B_4263']\n",
      "@> SER178 OG_2936 A ILE131 N_2188 A ARG129 O_2157 A 4.9177008855765125 4.30719700037043 3.830947402405835 1 ['B_4281']\n",
      "@> LEU157 N_2577 A THR156 OG1_2571 A 3.5321797802490162 1 ['B_4272']\n",
      "@> TRP177 NE1_2916 A ASP158 O_2601 A 5.30873148689967 1 ['B_4284']\n",
      "@> SER178 OG_2936 A ILE131 N_2188 A ARG129 O_2157 A 4.9177008855765125 4.30719700037043 3.830947402405835 1 ['B_4281']\n",
      "@> GLU104 OE2_1762 A THR217 N_3566 A 4.365370774630716 1 ['B_4263']\n"
     ]
    },
    {
     "name": "stdout",
     "output_type": "stream",
     "text": [
      "align__addH_2w1fA.pdb\n"
     ]
    },
    {
     "name": "stderr",
     "output_type": "stream",
     "text": [
      "@> 4406 atoms and 1 coordinate set(s) were parsed in 0.05s.\n",
      "@> 2 water bridges detected using method cluster.\n",
      "@> GLY152 N_2533 A GLU57 OE2_966 A 4.099572416728358 1 ['B_4397']\n",
      "@> PHE205 N_3362 A ASP170 O_2802 A 5.495679848753926 1 ['B_4394']\n"
     ]
    },
    {
     "name": "stdout",
     "output_type": "stream",
     "text": [
      "align__addH_4j8nA.pdb\n"
     ]
    },
    {
     "name": "stderr",
     "output_type": "stream",
     "text": [
      "@> 4447 atoms and 1 coordinate set(s) were parsed in 0.04s.\n",
      "@> 4 water bridges detected using method cluster.\n",
      "@> THR92 N_1540 A LEU90 O_1519 A 4.117910878103115 1 ['B_4435']\n",
      "@> GLY143 O_2387 A TYR111 OH_1885 A 4.423048044052878 1 ['B_4399']\n",
      "@> GLU195 OE1_3206 A LYS200 NZ_3288 A 5.5572961950934365 1 ['B_4408']\n",
      "@> ARG214 NH1_3521 A PRO202 O_3310 A 3.0433313983199346 1 ['B_4432']\n"
     ]
    },
    {
     "name": "stdout",
     "output_type": "stream",
     "text": [
      "align__addH_4o0sA.pdb\n",
      "align__addH_1ol5A.pdb\n"
     ]
    },
    {
     "name": "stderr",
     "output_type": "stream",
     "text": [
      "@> 4818 atoms and 1 coordinate set(s) were parsed in 0.05s.\n",
      "@> 33 water bridges detected using method cluster.\n",
      "@> LYS44 N_736 A ALA45 N_758 A 2.9016231664363334 1 ['B_4554']\n",
      "@> ARG58 NH2_987 A ARG133 NH2_2252 A 3.5447778491747526 1 ['B_4494']\n",
      "@> ARG58 NH2_987 A SER156 N_2591 A 5.723783800948463 1 ['B_4656']\n",
      "@> ASP152 N_2528 A GLN63 NE2_1069 A 4.676784899907199 1 ['B_4650']\n",
      "@> LEU74 O_1255 A SER64 O_1077 A 3.976005784704041 1 ['B_4527']\n",
      "@> ARG67 NH1_1137 A ARG73 NH1_1244 A ARG73 NH2_1247 A 3.179504678405112 3.9577621201886326 2.295329823794395 1 ['B_4530']\n",
      "@> GLU89 OE2_1523 A ILE71 O_1193 A LYS149 NZ_2495 A 4.000241117732784 4.05954159973759 4.711530006271849 1 ['B_4521']\n",
      "@> ARG67 NH1_1137 A ARG73 NH1_1244 A ARG73 NH2_1247 A 3.179504678405112 3.9577621201886326 2.295329823794395 1 ['B_4530']\n",
      "@> LEU74 O_1255 A SER64 O_1077 A 3.976005784704041 1 ['B_4527']\n",
      "@> GLU89 OE2_1523 A ILE71 O_1193 A LYS149 NZ_2495 A 4.000241117732784 4.05954159973759 4.711530006271849 1 ['B_4521']\n",
      "@> ASP107 OD2_1826 A ARG110 N_1859 A GLN109 OE1_1855 A 4.729573976586054 5.309039366966497 3.1958405780013517 1 ['B_4605']\n",
      "@> ASP107 OD2_1826 A ARG110 N_1859 A GLN109 OE1_1855 A 4.729573976586054 5.309039366966497 3.1958405780013517 1 ['B_4605']\n",
      "@> GLU186 OE2_3058 A HIS126 ND1_2115 A 3.442066385182013 1 ['B_4809']\n",
      "@> VAL130 O_2184 A VAL130 N_2179 A 2.7333022152700233 1 ['B_4734']\n",
      "@> ARG58 NH2_987 A ARG133 NH2_2252 A 3.5447778491747526 1 ['B_4494']\n",
      "@> GLU89 OE2_1523 A ILE71 O_1193 A LYS149 NZ_2495 A 4.000241117732784 4.05954159973759 4.711530006271849 1 ['B_4521']\n",
      "@> ASP152 N_2528 A GLN63 NE2_1069 A 4.676784899907199 1 ['B_4650']\n",
      "@> ASP152 O_2533 A TRP155 N_2567 A SER156 OG_2600 A SER156 N_2591 A 4.8287176351491095 4.862265418506069 5.743525398220154 4.723917971345398 2.7226549542679863 2.8880839669233973 1 ['B_4629']\n",
      "@> ASP152 O_2533 A TRP155 N_2567 A SER156 OG_2600 A SER156 N_2591 A 4.8287176351491095 4.862265418506069 5.743525398220154 4.723917971345398 2.7226549542679863 2.8880839669233973 1 ['B_4629']\n",
      "@> ARG58 NH2_987 A SER156 N_2591 A 5.723783800948463 1 ['B_4656']\n",
      "@> HIS184 ND1_3025 A TPO165 O_2739 A 5.050492550237056 1 ['B_4728']\n",
      "@> ASP172 O_2826 A TRP191 NE1_3141 A 5.235438281557713 1 ['B_4722']\n",
      "@> ASP172 OD1_2831 A PHE207 N_3383 A 4.8908965435797125 1 ['B_4716']\n",
      "@> ASP172 OD2_2832 A ALA209 N_3418 A ALA209 O_3423 A 5.905963934871261 6.492486580656135 2.659053967109352 1 ['B_4713']\n",
      "@> ASP185 N_3032 A GLU177 OE2_2915 A 5.591904684452334 1 ['B_4725']\n",
      "@> ASP185 OD2_3043 A MET183 O_3003 A 6.224841363440518 1 ['B_4680']\n",
      "@> ASP185 N_3032 A GLU177 OE2_2915 A 5.591904684452334 1 ['B_4725']\n",
      "@> ASP185 OD2_3043 A MET183 O_3003 A 6.224841363440518 1 ['B_4680']\n",
      "@> GLU186 OE2_3058 A HIS126 ND1_2115 A 3.442066385182013 1 ['B_4809']\n",
      "@> ASP172 O_2826 A TRP191 NE1_3141 A 5.235438281557713 1 ['B_4722']\n",
      "@> ASP172 OD1_2831 A PHE207 N_3383 A 4.8908965435797125 1 ['B_4716']\n",
      "@> ASP172 OD2_2832 A ALA209 N_3418 A ALA209 O_3423 A 5.905963934871261 6.492486580656135 2.659053967109352 1 ['B_4713']\n",
      "@> ARG221 NH2_3641 A ARG221 NE_3635 A 2.3110175248145524 1 ['B_4752']\n",
      "@> 4838 atoms and 1 coordinate set(s) were parsed in 0.05s.\n",
      "@> 42 water bridges detected using method cluster.\n",
      "@> LEU4 N_53 A GLU5 OE2_86 A 3.468655503217351 1 ['B_4712']\n",
      "@> TYR86 OH_1464 A ARG11 NH2_181 A 5.130986747205648 1 ['B_4451']\n",
      "@> LEU13 O_203 A THR91 N_1516 A 7.2545303087105495 2 ['B_4706', 'B_4685']\n",
      "@> ASN20 OD1_312 A PHE39 N_637 A 5.582828763270462 2 ['B_4523', 'B_4388']\n",
      "@> GLU49 OE1_808 A HIS50 N_810 A HIS50 ND1_820 A 4.655208480830905 5.506389470424337 3.1649450232192002 1 ['B_4667']\n",
      "@> GLU49 OE1_808 A HIS50 N_810 A HIS50 ND1_820 A 4.655208480830905 5.506389470424337 3.1649450232192002 1 ['B_4667']\n",
      "@> SER152 O_2517 A ARG54 NE_902 A GLY150 O_2487 A 3.675108433774437 4.67352201235856 5.347955684184378 1 ['B_4571']\n",
      "@> LEU62 O_1026 A LEU70 N_1171 A GLN59 O_981 A 6.293731564024636 3.8302716613838244 4.01446061133996 1 ['B_4457']\n",
      "@> ASP148 N_2449 A GLN59 NE2_990 A 4.446221879303822 1 ['B_4643']\n",
      "@> HIS64 N_1064 A ILE67 O_1114 A 4.985971520175383 1 ['B_4610']\n",
      "@> LEU62 O_1026 A LEU70 N_1171 A GLN59 O_981 A 6.293731564024636 3.8302716613838244 4.01446061133996 1 ['B_4457']\n",
      "@> LYS145 NZ_2416 A GLU85 OE2_1444 A 3.2737632779417645 1 ['B_4577']\n",
      "@> TYR86 OH_1464 A ARG11 NH2_181 A 5.130986747205648 1 ['B_4451']\n",
      "@> THR91 N_1516 A LEU89 O_1495 A 4.067845621456148 1 ['B_4568']\n",
      "@> LEU13 O_203 A THR91 N_1516 A 7.2545303087105495 2 ['B_4706', 'B_4685']\n",
      "@> TRP151 N_2488 A HIS128 ND1_2145 A 6.337541558049143 1 ['B_4583']\n",
      "@> ASP130 N_2176 A ILE131 N_2188 A 2.8109667376189225 1 ['B_4625']\n",
      "@> ASP130 OD2_2187 A ASP148 O_2454 A TRP151 N_2488 A ASP148 OD2_2460 A 4.9241825717574645 5.653684550804012 3.997224662187501 4.635532439752735 4.031736474523105 6.582330438378188 1 ['B_4490']\n",
      "@> ASN135 ND2_2269 A ASN135 OD1_2268 A GLU134 OE1_2256 A 2.244378310356791 5.209903837884147 4.673537204302538 1 ['B_4589']\n",
      "@> ASN135 ND2_2269 A ASN135 OD1_2268 A GLU134 OE1_2256 A 2.244378310356791 5.209903837884147 4.673537204302538 1 ['B_4589']\n",
      "@> LYS145 NZ_2416 A GLU85 OE2_1444 A 3.2737632779417645 1 ['B_4577']\n",
      "@> ASP148 N_2449 A PHE149 N_2461 A 3.0945797776111723 1 ['B_4397']\n",
      "@> ASP148 N_2449 A GLN59 NE2_990 A 4.446221879303822 1 ['B_4643']\n",
      "@> ASP130 OD2_2187 A ASP148 O_2454 A TRP151 N_2488 A ASP148 OD2_2460 A 4.9241825717574645 5.653684550804012 3.997224662187501 4.635532439752735 4.031736474523105 6.582330438378188 1 ['B_4490']\n",
      "@> ASP148 N_2449 A PHE149 N_2461 A 3.0945797776111723 1 ['B_4397']\n",
      "@> SER152 O_2517 A ARG54 NE_902 A GLY150 O_2487 A 3.675108433774437 4.67352201235856 5.347955684184378 1 ['B_4571']\n",
      "@> ASP130 OD2_2187 A ASP148 O_2454 A TRP151 N_2488 A ASP148 OD2_2460 A 4.9241825717574645 5.653684550804012 3.997224662187501 4.635532439752735 4.031736474523105 6.582330438378188 1 ['B_4490']\n",
      "@> TRP151 N_2488 A HIS128 ND1_2145 A 6.337541558049143 1 ['B_4583']\n",
      "@> THR166 O_2716 A TYR169 N_2756 A 5.107670799885205 1 ['B_4553']\n",
      "@> TRP187 NE1_3064 A LEU170 N_2777 A ASP168 O_2749 A 4.511586528040885 5.125572846033895 3.8603264110694107 1 ['B_4505']\n",
      "@> ASP168 OD1_2754 A PHE203 N_3306 A 5.00371472008547 1 ['B_4655']\n",
      "@> ALA205 O_3346 A ASP168 OD2_2755 A 6.288335073769528 1 ['B_4556']\n",
      "@> TRP187 NE1_3064 A LEU170 N_2777 A ASP168 O_2749 A 4.511586528040885 5.125572846033895 3.8603264110694107 1 ['B_4505']\n",
      "@> ARG178 NH1_2915 A HIS240 O_3934 A 5.78972443212974 1 ['B_4592']\n",
      "@> ASP181 N_2955 A ASP181 OD1_2965 A 2.9557971851938714 1 ['B_4613']\n",
      "@> TRP187 NE1_3064 A LEU170 N_2777 A ASP168 O_2749 A 4.511586528040885 5.125572846033895 3.8603264110694107 1 ['B_4505']\n",
      "@> ASP168 OD1_2754 A PHE203 N_3306 A 5.00371472008547 1 ['B_4655']\n",
      "@> ALA205 O_3346 A ASP168 OD2_2755 A 6.288335073769528 1 ['B_4556']\n",
      "@> THR221 N_3618 A ARG214 NH2_3510 A THR221 O_3623 A 4.89834625154245 2.7195376445270982 6.22896018609848 1 ['B_4601']\n",
      "@> THR221 N_3618 A ARG214 NH2_3510 A THR221 O_3623 A 4.89834625154245 2.7195376445270982 6.22896018609848 1 ['B_4601']\n",
      "@> ARG178 NH1_2915 A HIS240 O_3934 A 5.78972443212974 1 ['B_4592']\n",
      "@> LEU248 N_4057 A ARG249 N_4076 A 2.763399898675546 1 ['B_4670']\n"
     ]
    },
    {
     "name": "stdout",
     "output_type": "stream",
     "text": [
      "align__addH_5os3A.pdb\n"
     ]
    },
    {
     "name": "stderr",
     "output_type": "stream",
     "text": [
      "@> 4680 atoms and 1 coordinate set(s) were parsed in 0.05s.\n",
      "@> 27 water bridges detected using method cluster.\n",
      "@> TYR87 N_1469 A ILE33 O_542 A 4.654022024013206 1 ['B_4506']\n",
      "@> GLU56 OE2_949 A PHE150 N_2485 A 4.138061502684564 1 ['B_4485']\n",
      "@> ILE68 O_1138 A LEU63 O_1050 A 6.066738580159858 1 ['B_4608']\n",
      "@> TYR87 N_1469 A ILE33 O_542 A 4.654022024013206 1 ['B_4506']\n",
      "@> LYS146 NZ_2440 A TYR87 O_1474 A 5.7380647434479135 1 ['B_4542']\n",
      "@> VAL127 O_2129 A VAL127 N_2124 A 2.850501885633474 1 ['B_4557']\n",
      "@> GLY151 N_2505 A HIS129 O_2164 A ASP149 O_2478 A 5.97582094778617 3.2229162260288446 5.449198564926773 1 ['B_4536']\n",
      "@> ILE132 N_2212 A ASP131 N_2200 A 2.8354639831956985 1 ['B_4632']\n",
      "@> LYS133 NZ_2249 A ASN136 OD1_2292 A 5.020408549112311 1 ['B_4620']\n",
      "@> GLU135 OE2_2281 A TYR170 OH_2799 A 5.664342680311633 1 ['B_4641']\n",
      "@> LYS146 NZ_2440 A TYR87 O_1474 A 5.7380647434479135 1 ['B_4542']\n",
      "@> GLY151 N_2505 A HIS129 O_2164 A ASP149 O_2478 A 5.97582094778617 3.2229162260288446 5.449198564926773 1 ['B_4536']\n",
      "@> GLU56 OE2_949 A PHE150 N_2485 A 4.138061502684564 1 ['B_4485']\n",
      "@> SER158 N_2604 A SER158 O_2609 A 3.4466437297753867 1 ['B_4497']\n",
      "@> THR162 N_2674 A TPO163 O1P_2694 A 5.084435956917933 1 ['B_4515']\n",
      "@> TRP188 NE1_3088 A ASP169 O_2773 A 5.423090447337198 1 ['B_4572']\n",
      "@> PHE204 N_3330 A ASP169 O_2773 A GLU205 N_3350 A ASP169 OD1_2778 A 5.48933638976516 2.687688412000168 5.157741656965768 6.271500857051681 4.392530591811514 3.7933813412310635 1 ['B_4602']\n",
      "@> GLU135 OE2_2281 A TYR170 OH_2799 A 5.664342680311633 1 ['B_4641']\n",
      "@> GLU177 OE1_2912 A HIS241 O_3958 A 5.913711947668735 1 ['B_4554']\n",
      "@> HIS181 ND1_2972 A ARG179 O_2926 A 4.882883062290148 1 ['B_4509']\n",
      "@> TRP188 NE1_3088 A ASP169 O_2773 A 5.423090447337198 1 ['B_4572']\n",
      "@> PHE204 N_3330 A ASP169 O_2773 A GLU205 N_3350 A ASP169 OD1_2778 A 5.48933638976516 2.687688412000168 5.157741656965768 6.271500857051681 4.392530591811514 3.7933813412310635 1 ['B_4602']\n",
      "@> THR212 OG1_3464 A ALA206 O_3370 A ALA206 N_3365 A 4.16008233091606 3.7354725270037816 2.6948643750660306 1 ['B_4533']\n",
      "@> THR212 OG1_3464 A ALA206 O_3370 A ALA206 N_3365 A 4.16008233091606 3.7354725270037816 2.6948643750660306 1 ['B_4533']\n",
      "@> THR228 OG1_3746 A THR228 N_3738 A 2.8831021487279958 1 ['B_4551']\n",
      "@> LYS240 NZ_3949 A GLN245 OE1_4022 A 5.245864847668109 1 ['B_4650']\n",
      "@> GLU177 OE1_2912 A HIS241 O_3958 A 5.913711947668735 1 ['B_4554']\n"
     ]
    },
    {
     "name": "stdout",
     "output_type": "stream",
     "text": [
      "align__addH_5lxmA.pdb\n"
     ]
    },
    {
     "name": "stderr",
     "output_type": "stream",
     "text": [
      "@> 4586 atoms and 1 coordinate set(s) were parsed in 0.05s.\n",
      "@> 13 water bridges detected using method cluster.\n",
      "@> GLU55 OE2_925 A LYS36 NZ_598 A 2.9947811272278337 1 ['B_4391']\n",
      "@> HIS128 ND1_2145 A ASP148 O_2454 A 4.177500448833014 1 ['B_4481']\n",
      "@> ASP130 OD2_2187 A TRP151 N_2488 A ASP148 OD1_2459 A ASP148 OD2_2460 A 5.52502868770833 5.027315287506839 4.134766740700126 5.216805631801895 6.555210904311163 2.2070475753820995 1 ['B_4415']\n",
      "@> ASP130 OD2_2187 A TRP151 N_2488 A ASP148 OD1_2459 A ASP148 OD2_2460 A 5.52502868770833 5.027315287506839 4.134766740700126 5.216805631801895 6.555210904311163 2.2070475753820995 1 ['B_4415']\n",
      "@> ASP130 OD2_2187 A TRP151 N_2488 A ASP148 OD1_2459 A ASP148 OD2_2460 A 5.52502868770833 5.027315287506839 4.134766740700126 5.216805631801895 6.555210904311163 2.2070475753820995 1 ['B_4415']\n",
      "@> ASP168 N_2744 A THR166 O_2716 A TYR169 N_2756 A 3.5114193711375474 2.885377098404991 4.9573792471425895 1 ['B_4406']\n",
      "@> TRP187 NE1_3064 A ASP168 O_2749 A 5.203455102141268 1 ['B_4457']\n",
      "@> ASP168 N_2744 A THR166 O_2716 A TYR169 N_2756 A 3.5114193711375474 2.885377098404991 4.9573792471425895 1 ['B_4406']\n",
      "@> GLU173 OE1_2837 A HIS240 O_3934 A 4.3431069524017 1 ['B_4403']\n",
      "@> THR221 N_3618 A ARG214 NH2_3510 A 5.153655304732745 1 ['B_4508']\n",
      "@> ASP224 OD1_3676 A ARG231 NH2_3781 A 4.714489792119609 1 ['B_4487']\n",
      "@> GLU173 OE1_2837 A HIS240 O_3934 A 4.3431069524017 1 ['B_4403']\n",
      "@> LEU248 N_4057 A ARG249 N_4076 A 2.8026512448037484 1 ['B_4517']\n"
     ]
    },
    {
     "name": "stdout",
     "output_type": "stream",
     "text": [
      "align__addH_5os6A.pdb\n"
     ]
    },
    {
     "name": "stderr",
     "output_type": "stream",
     "text": [
      "@> 4737 atoms and 1 coordinate set(s) were parsed in 0.05s.\n",
      "@> 33 water bridges detected using method cluster.\n",
      "@> PHE18 O_280 A ASN20 OD1_312 A 3.064385419623318 1 ['B_4620']\n",
      "@> TYR86 N_1445 A ILE32 O_518 A 4.980299087404286 1 ['B_4518']\n",
      "@> GLU55 OE2_925 A LYS36 NZ_598 A 2.8834378786441714 1 ['B_4392']\n",
      "@> ASP148 N_2449 A GLN59 NE2_990 A 4.526475339599234 1 ['B_4536']\n",
      "@> LYS145 NZ_2416 A GLU85 OE2_1444 A 3.1732869394367715 1 ['B_4455']\n",
      "@> TYR86 N_1445 A ILE32 O_518 A 4.980299087404286 1 ['B_4518']\n",
      "@> THR91 N_1516 A LEU89 O_1495 A 4.036960242558748 1 ['B_4458']\n",
      "@> HIS128 ND1_2145 A ASP148 O_2454 A 4.334599520140242 1 ['B_4521']\n",
      "@> ASP130 N_2176 A SER188 OG_3084 A ILE131 N_2188 A 5.894079232585871 2.773874726803645 5.075658282429973 1 ['B_4569']\n",
      "@> ASP130 OD2_2187 A ASP148 O_2454 A 4.916857736400354 1 ['B_4428']\n",
      "@> LYS132 NZ_2225 A ASP130 OD2_2187 A 4.091081641815524 1 ['B_4497']\n",
      "@> LYS132 NZ_2225 A ASP130 OD2_2187 A 4.091081641815524 1 ['B_4497']\n",
      "@> ASN135 ND2_2269 A GLU134 OE2_2257 A ASN135 OD1_2268 A 5.289043958977844 2.25163718214103 4.709533310212384 1 ['B_4581']\n",
      "@> ASN135 ND2_2269 A GLU134 OE2_2257 A ASN135 OD1_2268 A 5.289043958977844 2.25163718214103 4.709533310212384 1 ['B_4581']\n",
      "@> LYS263 NZ_4317 A GLY142 O_2363 A 5.202762535422891 1 ['B_4533']\n",
      "@> LYS145 NZ_2416 A GLU85 OE2_1444 A 3.1732869394367715 1 ['B_4455']\n",
      "@> ASP148 N_2449 A GLN59 NE2_990 A 4.526475339599234 1 ['B_4536']\n",
      "@> ASP130 OD2_2187 A ASP148 O_2454 A 4.916857736400354 1 ['B_4428']\n",
      "@> HIS128 ND1_2145 A ASP148 O_2454 A 4.334599520140242 1 ['B_4521']\n",
      "@> ASP168 N_2744 A THR166 O_2716 A TYR169 N_2756 A 3.660105736177575 2.862605456572736 5.069020023633761 1 ['B_4503']\n",
      "@> LEU170 N_2777 A TRP187 NE1_3064 A ASP168 O_2749 A 4.506653303727725 3.93231865443278 5.14269131875519 1 ['B_4512']\n",
      "@> ASP168 OD1_2754 A PHE203 N_3306 A 4.984877330486681 1 ['B_4566']\n",
      "@> ASP168 N_2744 A THR166 O_2716 A TYR169 N_2756 A 3.660105736177575 2.862605456572736 5.069020023633761 1 ['B_4503']\n",
      "@> GLU173 OE1_2837 A HIS240 O_3934 A 4.168469503306935 1 ['B_4596']\n",
      "@> LEU170 N_2777 A TRP187 NE1_3064 A ASP168 O_2749 A 4.506653303727725 3.93231865443278 5.14269131875519 1 ['B_4512']\n",
      "@> ASP130 N_2176 A SER188 OG_3084 A ILE131 N_2188 A 5.894079232585871 2.773874726803645 5.075658282429973 1 ['B_4569']\n",
      "@> ASP168 OD1_2754 A PHE203 N_3306 A 4.984877330486681 1 ['B_4566']\n",
      "@> THR221 OG1_3626 A ARG214 NH2_3510 A 5.626520594470441 1 ['B_4593']\n",
      "@> THR221 N_3618 A THR221 O_3623 A 2.7014605308980557 1 ['B_4545']\n",
      "@> THR221 OG1_3626 A ARG214 NH2_3510 A 5.626520594470441 1 ['B_4593']\n",
      "@> THR227 OG1_3722 A THR227 N_3714 A 2.9348405408130764 2 ['B_4698', 'B_4500']\n",
      "@> GLU173 OE1_2837 A HIS240 O_3934 A 4.168469503306935 1 ['B_4596']\n",
      "@> LYS263 NZ_4317 A GLY142 O_2363 A 5.202762535422891 1 ['B_4533']\n"
     ]
    },
    {
     "name": "stdout",
     "output_type": "stream",
     "text": [
      "align__addH_5oseA.pdb\n"
     ]
    },
    {
     "name": "stderr",
     "output_type": "stream",
     "text": [
      "@> 4759 atoms and 1 coordinate set(s) were parsed in 0.05s.\n",
      "@> 42 water bridges detected using method cluster.\n",
      "@> PHE8 O_128 A LYS28 NZ_463 A 4.476965043419479 1 ['B_4483']\n",
      "@> THR79 O_1327 A ALA42 N_703 A 4.635185756795513 1 ['B_4501']\n",
      "@> SER153 O_2541 A ARG55 NH2_932 A 5.049706724157356 1 ['B_4429']\n",
      "@> GLN60 OE1_1013 A ASP149 N_2473 A PHE150 N_2485 A 4.685651395483878 4.031358207850054 3.0951830317446496 1 ['B_4402']\n",
      "@> LEU63 O_1050 A ARG70 NE_1186 A LEU71 N_1195 A 4.150267220312445 5.92990413075962 4.636348671098842 1 ['B_4648']\n",
      "@> HIS65 N_1088 A HIS65 O_1093 A 2.6919847696448826 1 ['B_4585']\n",
      "@> LEU63 O_1050 A ARG70 NE_1186 A LEU71 N_1195 A 4.150267220312445 5.92990413075962 4.636348671098842 1 ['B_4648']\n",
      "@> THR79 O_1327 A ALA42 N_703 A 4.635185756795513 1 ['B_4501']\n",
      "@> GLY91 N_1533 A ALA88 O_1495 A 3.775164234838 1 ['B_4522']\n",
      "@> THR92 N_1540 A LEU90 O_1519 A 4.0015564471840195 1 ['B_4504']\n",
      "@> THR92 N_1540 A LEU90 O_1519 A 4.0015564471840195 1 ['B_4504']\n",
      "@> ASP104 N_1760 A ARG107 NE_1819 A 5.372264047866594 1 ['B_4660']\n",
      "@> GLU105 OE2_1786 A THR228 N_3739 A 4.448747014609845 1 ['B_4480']\n",
      "@> TRP152 N_2512 A HIS129 O_2164 A 4.728015334154484 1 ['B_4549']\n",
      "@> ASP131 N_2200 A ASP186 OD1_3055 A 4.81434367281772 1 ['B_4567']\n",
      "@> ILE132 O_2217 A ILE132 N_2212 A SER189 OG_3109 A 2.9105355177355268 4.451382931179925 5.090189485667507 1 ['B_4720']\n",
      "@> GLN60 OE1_1013 A ASP149 N_2473 A PHE150 N_2485 A 4.685651395483878 4.031358207850054 3.0951830317446496 1 ['B_4402']\n",
      "@> TRP152 N_2512 A ASP149 O_2478 A 4.764773866617384 1 ['B_4417']\n",
      "@> TRP152 N_2512 A ASP149 O_2478 A 4.764773866617384 1 ['B_4417']\n",
      "@> TRP152 N_2512 A HIS129 O_2164 A 4.728015334154484 1 ['B_4549']\n",
      "@> SER153 O_2541 A ARG55 NH2_932 A 5.049706724157356 1 ['B_4429']\n",
      "@> ARG160 NH1_2644 A SER159 N_2615 A 4.8494817248856625 1 ['B_4732']\n",
      "@> SER159 O_2620 A HIS181 ND1_2973 A ARG179 O_2927 A 5.100885413337567 4.6872154846987755 3.095071081574704 1 ['B_4651']\n",
      "@> TPO163 O3P_2696 A THR167 O_2741 A 5.506317190282451 1 ['B_4588']\n",
      "@> TYR170 N_2781 A THR167 O_2741 A 5.17041023517477 1 ['B_4519']\n",
      "@> PHE204 N_3331 A ASP169 O_2774 A 5.622058786601222 1 ['B_4630']\n",
      "@> ASP169 OD2_2780 A ALA206 N_3366 A 5.7604004201097005 1 ['B_4597']\n",
      "@> TYR170 N_2781 A THR167 O_2741 A 5.17041023517477 1 ['B_4519']\n",
      "@> TRP188 NE1_3089 A LEU171 N_2802 A 4.5564004433324365 1 ['B_4564']\n",
      "@> SER159 O_2620 A HIS181 ND1_2973 A ARG179 O_2927 A 5.100885413337567 4.6872154846987755 3.095071081574704 1 ['B_4651']\n",
      "@> ASP131 N_2200 A ASP186 OD1_3055 A 4.81434367281772 1 ['B_4567']\n",
      "@> TRP188 NE1_3089 A LEU171 N_2802 A 4.5564004433324365 1 ['B_4564']\n",
      "@> ILE132 O_2217 A ILE132 N_2212 A SER189 OG_3109 A 2.9105355177355268 4.451382931179925 5.090189485667507 1 ['B_4720']\n",
      "@> PRO203 O_3321 A TYR195 OH_3202 A THR222 N_3643 A 4.995312402643104 5.374403129650771 4.80235244437557 1 ['B_4582']\n",
      "@> PHE204 N_3331 A ASP169 O_2774 A 5.622058786601222 1 ['B_4630']\n",
      "@> ASP169 OD2_2780 A ALA206 N_3366 A 5.7604004201097005 1 ['B_4597']\n",
      "@> PRO203 O_3321 A TYR195 OH_3202 A THR222 N_3643 A 4.995312402643104 5.374403129650771 4.80235244437557 1 ['B_4582']\n",
      "@> ASP225 OD1_3701 A ARG232 NH2_3806 A 4.882366844062416 1 ['B_4495']\n",
      "@> GLU105 OE2_1786 A THR228 N_3739 A 4.448747014609845 1 ['B_4480']\n",
      "@> GLY230 N_3768 A THR228 OG1_3747 A 3.9456649629688507 1 ['B_4690']\n",
      "@> ASP225 OD1_3701 A ARG232 NH2_3806 A 4.882366844062416 1 ['B_4495']\n",
      "@> ASN242 N_3971 A GLN245 OE1_4023 A 4.676818362947184 1 ['B_4507']\n"
     ]
    },
    {
     "name": "stdout",
     "output_type": "stream",
     "text": [
      "align__addH_5dnrA.pdb\n"
     ]
    },
    {
     "name": "stderr",
     "output_type": "stream",
     "text": [
      "@> 4301 atoms and 1 coordinate set(s) were parsed in 0.07s.\n",
      "@> 9 water bridges detected using method cluster.\n",
      "@> GLU85 OE2_1436 A LYS145 NZ_2408 A 4.217937055006868 1 ['B_4280']\n",
      "@> SER140 N_2328 A SER140 OG_2337 A 2.8207009767077427 1 ['B_4268']\n",
      "@> GLU85 OE2_1436 A LYS145 NZ_2408 A 4.217937055006868 1 ['B_4280']\n",
      "@> LEU160 N_2614 A ASP158 O_2586 A TRP177 NE1_2901 A 4.049157690186937 4.762117596196047 5.275600629312268 1 ['B_4262']\n",
      "@> THR201 OG1_3277 A ASP158 OD2_2592 A ALA195 N_3178 A 5.079874900034452 3.3703615533055227 5.679542939357006 1 ['B_4277']\n",
      "@> LEU160 N_2614 A ASP158 O_2586 A TRP177 NE1_2901 A 4.049157690186937 4.762117596196047 5.275600629312268 1 ['B_4262']\n",
      "@> THR201 OG1_3277 A ASP158 OD2_2592 A ALA195 N_3178 A 5.079874900034452 3.3703615533055227 5.679542939357006 1 ['B_4277']\n",
      "@> ASN231 N_3783 A HIS230 N_3766 A GLN234 OE1_3835 A 2.8226655841597683 4.991327078042471 5.808313610679092 1 ['B_4283']\n",
      "@> ASN231 N_3783 A HIS230 N_3766 A GLN234 OE1_3835 A 2.8226655841597683 4.991327078042471 5.808313610679092 1 ['B_4283']\n"
     ]
    },
    {
     "name": "stdout",
     "output_type": "stream",
     "text": [
      "align__addH_6hjkA.pdb\n"
     ]
    },
    {
     "name": "stderr",
     "output_type": "stream",
     "text": [
      "@> 4565 atoms and 1 coordinate set(s) were parsed in 0.04s.\n",
      "@> 17 water bridges detected using method cluster.\n",
      "@> ALA150 O_2512 A LYS39 NZ_666 A 6.1316423574764976 1 ['B_4553']\n",
      "@> ILE70 O_1182 A LYS148 NZ_2484 A 5.195348785211633 1 ['B_4454']\n",
      "@> SER103 O_1756 A GLY202 O_3325 A 4.647881775604885 1 ['B_4523']\n",
      "@> ASP106 N_1804 A ASP106 OD1_1814 A 3.8343647453000607 1 ['B_4514']\n",
      "@> THR230 N_3784 A GLU107 OE2_1830 A 4.261731338317795 1 ['B_4508']\n",
      "@> HIS131 O_2208 A HIS131 NE2_2219 A 4.968300916812505 1 ['B_4457']\n",
      "@> LYS135 NZ_2293 A ASP133 OD1_2254 A 4.365095302510591 1 ['B_4499']\n",
      "@> PRO136 N_2297 A GLU137 N_2311 A 2.8124213766788206 1 ['B_4433']\n",
      "@> ILE70 O_1182 A LYS148 NZ_2484 A 5.195348785211633 1 ['B_4454']\n",
      "@> ALA150 O_2512 A LYS39 NZ_666 A 6.1316423574764976 1 ['B_4553']\n",
      "@> PHE206 N_3376 A ASP171 O_2819 A GLU207 N_3396 A 5.516520098757913 2.75451520235413 6.440512867776912 1 ['B_4562']\n",
      "@> TRP190 NE1_3134 A LEU173 O_2852 A LEU173 N_2847 A 3.450340562901001 4.537264594444542 2.864725117703268 1 ['B_4430']\n",
      "@> TRP190 NE1_3134 A LEU173 O_2852 A LEU173 N_2847 A 3.450340562901001 4.537264594444542 2.864725117703268 1 ['B_4430']\n",
      "@> SER103 O_1756 A GLY202 O_3325 A 4.647881775604885 1 ['B_4523']\n",
      "@> PHE206 N_3376 A ASP171 O_2819 A GLU207 N_3396 A 5.516520098757913 2.75451520235413 6.440512867776912 1 ['B_4562']\n",
      "@> THR230 N_3784 A GLU107 OE2_1830 A 4.261731338317795 1 ['B_4508']\n",
      "@> GLN247 O_4060 A LYS242 NZ_3995 A 4.104392159626073 1 ['B_4460']\n"
     ]
    },
    {
     "name": "stdout",
     "output_type": "stream",
     "text": [
      "align__addH_3uodA.pdb\n"
     ]
    },
    {
     "name": "stderr",
     "output_type": "stream",
     "text": [
      "@> 4495 atoms and 1 coordinate set(s) were parsed in 0.05s.\n",
      "@> 2 water bridges detected using method cluster.\n",
      "@> LYS155 NZ_2600 A HIS74 O_1253 A GLU95 OE1_1627 A 5.025079700860475 4.05528494683173 5.873574209967896 1 ['B_4453']\n",
      "@> LYS155 NZ_2600 A HIS74 O_1253 A GLU95 OE1_1627 A 5.025079700860475 4.05528494683173 5.873574209967896 1 ['B_4453']\n"
     ]
    },
    {
     "name": "stdout",
     "output_type": "stream",
     "text": [
      "align__addH_7o2vA.pdb\n",
      "align__addH_3uolA.pdb\n"
     ]
    },
    {
     "name": "stderr",
     "output_type": "stream",
     "text": [
      "@> 4556 atoms and 1 coordinate set(s) were parsed in 0.04s.\n",
      "@> 19 water bridges detected using method cluster.\n",
      "@> GLU5 N_72 A GLU5 OE2_86 A 3.720714044373747 1 ['B_4430']\n",
      "@> ARG11 NH1_178 A PRO12 O_188 A 4.829900723617411 1 ['B_4424']\n",
      "@> ASN20 ND2_313 A LYS15 NZ_242 A 4.794390993650808 1 ['B_4472']\n",
      "@> THR91 N_1516 A LEU89 O_1495 A 3.706862150121047 1 ['B_4403']\n",
      "@> ASP103 N_1736 A ASP103 OD2_1747 A 3.691254122923534 1 ['B_4457']\n",
      "@> SER157 OG_2589 A SER158 N_2591 A 2.591093591516912 1 ['B_4499']\n",
      "@> CYS164 SG_2704 A CYS164 O_2700 A 3.3860076786681956 1 ['B_4421']\n",
      "@> ASP168 OD1_2756 A PHE203 N_3308 A ASP168 O_2751 A 4.416959814170825 4.433127676934201 5.624701503191081 1 ['B_4370']\n",
      "@> THR211 OG1_3442 A ALA205 O_3348 A ASP168 OD2_2757 A 4.050166169430586 4.799781870043681 5.946536134591298 1 ['B_4415']\n",
      "@> TRP187 NE1_3066 A LEU170 O_2784 A 3.713081469615233 1 ['B_4544']\n",
      "@> ARG178 NH2_2920 A GLU173 OE1_2839 A 4.700871834032489 1 ['B_4502']\n",
      "@> GLU182 OE1_2982 A LEU248 N_4059 A 6.388854279133308 1 ['B_4451']\n",
      "@> TRP187 NE1_3066 A LEU170 O_2784 A 3.713081469615233 1 ['B_4544']\n",
      "@> PRO202 O_3298 A THR221 N_3620 A 5.1749269560062405 1 ['B_4448']\n",
      "@> ASP168 OD1_2756 A PHE203 N_3308 A ASP168 O_2751 A 4.416959814170825 4.433127676934201 5.624701503191081 1 ['B_4370']\n",
      "@> THR211 OG1_3442 A ALA205 O_3348 A ASP168 OD2_2757 A 4.050166169430586 4.799781870043681 5.946536134591298 1 ['B_4415']\n",
      "@> PRO202 O_3298 A THR221 N_3620 A 5.1749269560062405 1 ['B_4448']\n",
      "@> ASP232 OD2_3797 A HIS254 NE2_4182 A 2.6176714843539868 1 ['B_4532']\n",
      "@> GLU182 OE1_2982 A LEU248 N_4059 A 6.388854279133308 1 ['B_4451']\n",
      "@> 4305 atoms and 1 coordinate set(s) were parsed in 0.04s.\n",
      "@> 7 water bridges detected using method cluster.\n",
      "@> TYR70 OH_1184 A TYR85 N_1428 A ILE31 O_499 A 4.924501497613743 5.6526979399221435 5.117732798808471 1 ['B_4299']\n",
      "@> TYR70 OH_1184 A TYR85 N_1428 A ILE31 O_499 A 4.924501497613743 5.6526979399221435 5.117732798808471 1 ['B_4299']\n",
      "@> ARG105 NE_1770 A ASP102 OD2_1726 A ASP102 N_1719 A 5.466118641229807 5.418246026160127 3.97038348273816 1 ['B_4302']\n",
      "@> ARG105 NE_1770 A ASP102 OD2_1726 A ASP102 N_1719 A 5.466118641229807 5.418246026160127 3.97038348273816 1 ['B_4302']\n",
      "@> PHE196 N_3187 A ASP161 O_2628 A 5.546194551221581 1 ['B_4296']\n",
      "@> LEU163 N_2658 A TRP180 NE1_2940 A 4.555954565181704 1 ['B_4293']\n",
      "@> PHE196 N_3187 A ASP161 O_2628 A 5.546194551221581 1 ['B_4296']\n"
     ]
    },
    {
     "name": "stdout",
     "output_type": "stream",
     "text": [
      "align__addH_6cpfA.pdb\n",
      "align__addH_5os1A.pdb\n"
     ]
    },
    {
     "name": "stderr",
     "output_type": "stream",
     "text": [
      "@> 4725 atoms and 1 coordinate set(s) were parsed in 0.04s.\n",
      "@> 35 water bridges detected using method cluster.\n",
      "@> TYR86 N_1445 A ILE32 O_518 A 4.980582897613491 1 ['B_4518']\n",
      "@> ASP148 OD1_2459 A GLU55 OE2_925 A LYS36 NZ_598 A 4.135394781638142 3.725859229761636 2.9200042808187794 1 ['B_4410']\n",
      "@> LEU62 O_1026 A ARG69 NE_1162 A LEU70 N_1171 A GLN59 O_981 A 4.489786409173602 6.143306601497274 3.8468449409873515 4.51123996258235 5.802304542162535 4.309517838459426 1 ['B_4536']\n",
      "@> LEU62 O_1026 A ARG69 NE_1162 A LEU70 N_1171 A GLN59 O_981 A 4.489786409173602 6.143306601497274 3.8468449409873515 4.51123996258235 5.802304542162535 4.309517838459426 1 ['B_4536']\n",
      "@> HIS75 O_1264 A HIS75 N_1259 A 2.7627176837310072 1 ['B_4608']\n",
      "@> LYS145 NZ_2416 A GLU85 OE1_1443 A 4.364226391927899 1 ['B_4419']\n",
      "@> TYR86 N_1445 A ILE32 O_518 A 4.980582897613491 1 ['B_4518']\n",
      "@> THR91 N_1516 A LEU89 O_1495 A 3.9884424278156483 1 ['B_4467']\n",
      "@> SER152 N_2512 A HIS128 ND1_2145 A HIS128 O_2140 A 5.937095333578537 3.4660392380929608 3.269206784527399 1 ['B_4524']\n",
      "@> ASP130 N_2176 A ILE131 N_2188 A SER188 OG_3084 A 2.75831434031729 5.857479321346345 5.073994284584879 1 ['B_4563']\n",
      "@> GLU134 OE2_2257 A GLU134 N_2243 A 4.429230520079079 1 ['B_4428']\n",
      "@> GLU134 OE1_2256 A ASN135 ND2_2269 A 5.327212122677302 1 ['B_4554']\n",
      "@> GLU134 OE1_2256 A ASN135 ND2_2269 A 5.327212122677302 1 ['B_4554']\n",
      "@> LYS145 NZ_2416 A GLU85 OE1_1443 A 4.364226391927899 1 ['B_4419']\n",
      "@> ASP148 N_2449 A PHE149 N_2461 A 3.135516703830486 1 ['B_4395']\n",
      "@> ASP148 OD1_2459 A GLU55 OE2_925 A LYS36 NZ_598 A 4.135394781638142 3.725859229761636 2.9200042808187794 1 ['B_4410']\n",
      "@> SER152 N_2512 A HIS128 ND1_2145 A HIS128 O_2140 A 5.937095333578537 3.4660392380929608 3.269206784527399 1 ['B_4524']\n",
      "@> LEU163 N_2675 A ARG159 NH1_2620 A 3.71442673908101 1 ['B_4506']\n",
      "@> ASP168 N_2744 A THR166 O_2716 A TYR169 N_2756 A 3.4803637740902884 2.8758836902767815 4.9723784047475705 1 ['B_4485']\n",
      "@> TRP187 NE1_3064 A LEU170 N_2777 A ASP168 O_2749 A 4.54477205148949 5.163263406025303 3.873612009481588 1 ['B_4455']\n",
      "@> ASP168 OD1_2754 A PHE203 N_3306 A ASP168 O_2749 A 5.0348645463408435 4.268364206578441 5.650961865027935 1 ['B_4569']\n",
      "@> ASP168 OD1_2754 A ASP168 OD2_2755 A ALA205 N_3341 A 2.1886939027648427 4.855735680615244 5.682801069895021 1 ['B_4512']\n",
      "@> ASP168 OD1_2754 A ASP168 OD2_2755 A ALA205 N_3341 A 2.1886939027648427 4.855735680615244 5.682801069895021 1 ['B_4512']\n",
      "@> ASP168 N_2744 A THR166 O_2716 A TYR169 N_2756 A 3.4803637740902884 2.8758836902767815 4.9723784047475705 1 ['B_4485']\n",
      "@> TRP187 NE1_3064 A LEU170 N_2777 A ASP168 O_2749 A 4.54477205148949 5.163263406025303 3.873612009481588 1 ['B_4455']\n",
      "@> ARG178 NH1_2915 A GLU173 OE1_2837 A HIS240 O_3934 A 5.254709411565972 6.101590694237036 4.193635892635408 1 ['B_4593']\n",
      "@> TRP187 NE1_3064 A LEU170 N_2777 A ASP168 O_2749 A 4.54477205148949 5.163263406025303 3.873612009481588 1 ['B_4455']\n",
      "@> ASP130 N_2176 A ILE131 N_2188 A SER188 OG_3084 A 2.75831434031729 5.857479321346345 5.073994284584879 1 ['B_4563']\n",
      "@> THR221 N_3618 A ARG214 NH2_3510 A TYR194 OH_3177 A 4.924540181580405 4.757667705924827 6.291826284950973 1 ['B_4497']\n",
      "@> GLY199 O_3255 A GLU195 OE2_3193 A 4.610652339962317 2 ['B_4449', 'B_4494']\n",
      "@> ASP168 OD1_2754 A PHE203 N_3306 A ASP168 O_2749 A 5.0348645463408435 4.268364206578441 5.650961865027935 1 ['B_4569']\n",
      "@> ASP168 OD1_2754 A ASP168 OD2_2755 A ALA205 N_3341 A 2.1886939027648427 4.855735680615244 5.682801069895021 1 ['B_4512']\n",
      "@> THR221 N_3618 A ARG214 NH2_3510 A TYR194 OH_3177 A 4.924540181580405 4.757667705924827 6.291826284950973 1 ['B_4497']\n",
      "@> ARG231 NH1_3778 A ASP224 OD1_3676 A 6.063843005883314 1 ['B_4521']\n",
      "@> ARG178 NH1_2915 A GLU173 OE1_2837 A HIS240 O_3934 A 5.254709411565972 6.101590694237036 4.193635892635408 1 ['B_4593']\n",
      "@> 4332 atoms and 1 coordinate set(s) were parsed in 0.04s.\n",
      "@> 2 water bridges detected using method cluster.\n",
      "@> LEU158 N_2587 A THR157 OG1_2581 A 3.3426465562485075 1 ['B_4290']\n",
      "@> ARG240 N_3938 A LEU239 N_3919 A 2.6722144375030963 1 ['B_4323']\n"
     ]
    },
    {
     "name": "stdout",
     "output_type": "stream",
     "text": [
      "align__addH_2w1gA.pdb\n",
      "align__addH_3d2iA.pdb\n"
     ]
    },
    {
     "name": "stderr",
     "output_type": "stream",
     "text": [
      "@> 4329 atoms and 1 coordinate set(s) were parsed in 0.04s.\n",
      "@> 7 water bridges detected using method cluster.\n",
      "@> ASP148 N_2462 A GLN59 NE2_997 A 5.074341040962857 1 ['B_4326']\n",
      "@> TYR162 O_2661 A ARG129 O_2166 A 5.776283060931138 1 ['B_4260']\n",
      "@> ASP161 O_2649 A PHE196 N_3201 A 5.486599128786427 1 ['B_4245']\n",
      "@> TRP180 NE1_2964 A ASP161 O_2649 A LEU163 N_2677 A 5.1283141479437475 4.684071519522305 3.989602235812485 1 ['B_4308']\n",
      "@> TYR162 O_2661 A ARG129 O_2166 A 5.776283060931138 1 ['B_4260']\n",
      "@> TRP180 NE1_2964 A ASP161 O_2649 A LEU163 N_2677 A 5.1283141479437475 4.684071519522305 3.989602235812485 1 ['B_4308']\n",
      "@> ASP161 O_2649 A PHE196 N_3201 A 5.486599128786427 1 ['B_4245']\n",
      "@> 4437 atoms and 1 coordinate set(s) were parsed in 0.04s.\n",
      "@> 0 water bridges detected using method cluster.\n",
      "@> 4182 atoms and 1 coordinate set(s) were parsed in 0.04s.\n",
      "@> 5 water bridges detected using method cluster.\n",
      "@> TYR87 N_1469 A ILE33 O_542 A 4.865710739450096 1 ['B_4131']\n",
      "@> LYS146 NZ_2440 A GLU86 OE2_1468 A 3.9263591277416294 1 ['B_4137']\n",
      "@> LYS146 NZ_2440 A GLU86 OE2_1468 A 3.9263591277416294 1 ['B_4137']\n",
      "@> THR156 N_2570 A ASP158 N_2603 A LEU160 N_2636 A 4.539669811781469 6.07351372765387 4.557601233104978 1 ['B_4146']\n",
      "@> THR156 N_2570 A ASP158 N_2603 A LEU160 N_2636 A 4.539669811781469 6.07351372765387 4.557601233104978 1 ['B_4146']\n"
     ]
    },
    {
     "name": "stdout",
     "output_type": "stream",
     "text": [
      "align__addH_8c1iA.pdb\n",
      "align__addH_3p9jA.pdb\n"
     ]
    },
    {
     "name": "stderr",
     "output_type": "stream",
     "text": [
      "@> 4390 atoms and 1 coordinate set(s) were parsed in 0.04s.\n",
      "@> 1 water bridges detected using method cluster.\n",
      "@> TRP187 NE1_3062 A LEU170 N_2775 A 4.57052185204272 1 ['B_4378']\n"
     ]
    },
    {
     "name": "stdout",
     "output_type": "stream",
     "text": [
      "align__addH_1ol7A.pdb\n",
      "align__addH_5dt3A.pdb\n"
     ]
    },
    {
     "name": "stderr",
     "output_type": "stream",
     "text": [
      "@> 4614 atoms and 1 coordinate set(s) were parsed in 0.04s.\n",
      "@> 25 water bridges detected using method cluster.\n",
      "@> TYR86 N_1445 A ILE32 O_518 A 4.95330727898038 1 ['B_4449']\n",
      "@> LEU62 O_1026 A ARG63 NH1_1058 A ARG69 NE_1162 A LEU70 N_1171 A GLN59 O_981 A 2.9707197781009214 4.731947907574639 5.977651796483301 3.872600934772392 3.7322008252504313 6.069638621862099 4.849285514382505 4.594267950392096 6.294127183335272 4.485149384357229 1 ['B_4500']\n",
      "@> ASP148 N_2449 A GLN59 OE1_989 A GLN59 NE2_990 A 4.739510839738631 4.614865870206847 2.241797493084512 1 ['B_4440']\n",
      "@> LEU62 O_1026 A ARG63 NH1_1058 A ARG69 NE_1162 A LEU70 N_1171 A GLN59 O_981 A 2.9707197781009214 4.731947907574639 5.977651796483301 3.872600934772392 3.7322008252504313 6.069638621862099 4.849285514382505 4.594267950392096 6.294127183335272 4.485149384357229 1 ['B_4500']\n",
      "@> HIS64 N_1064 A ILE67 O_1114 A 4.985175724084358 1 ['B_4479']\n",
      "@> LYS145 NZ_2416 A ILE67 O_1114 A 4.851212013507554 1 ['B_4377']\n",
      "@> LEU62 O_1026 A ARG63 NH1_1058 A ARG69 NE_1162 A LEU70 N_1171 A GLN59 O_981 A 2.9707197781009214 4.731947907574639 5.977651796483301 3.872600934772392 3.7322008252504313 6.069638621862099 4.849285514382505 4.594267950392096 6.294127183335272 4.485149384357229 1 ['B_4500']\n",
      "@> TYR86 N_1445 A ILE32 O_518 A 4.95330727898038 1 ['B_4449']\n",
      "@> ASP103 N_1736 A ARG106 NE_1795 A 5.622752617713144 1 ['B_4485']\n",
      "@> TRP151 N_2488 A ASP130 OD2_2187 A 5.4210584759805025 1 ['B_4374']\n",
      "@> GLU134 OE1_2256 A GLU134 N_2243 A 4.8598851838289345 1 ['B_4476']\n",
      "@> LYS145 NZ_2416 A ILE67 O_1114 A 4.851212013507554 1 ['B_4377']\n",
      "@> ASP148 N_2449 A GLN59 OE1_989 A GLN59 NE2_990 A 4.739510839738631 4.614865870206847 2.241797493084512 1 ['B_4440']\n",
      "@> SER152 O_2517 A GLY150 O_2487 A 4.701456157404851 1 ['B_4410']\n",
      "@> TRP151 N_2488 A ASP130 OD2_2187 A 5.4210584759805025 1 ['B_4374']\n",
      "@> TYR169 N_2757 A THR166 O_2717 A 5.059022632880784 1 ['B_4395']\n",
      "@> TRP187 NE1_3065 A LEU170 O_2783 A ASP168 O_2750 A 3.238584258592021 4.87338085932138 4.901199138986294 1 ['B_4407']\n",
      "@> ASP168 OD1_2755 A PHE203 N_3307 A ASP168 O_2750 A 4.673543195478136 4.270200697859527 5.681378705912855 1 ['B_4437']\n",
      "@> TYR169 N_2757 A THR166 O_2717 A 5.059022632880784 1 ['B_4395']\n",
      "@> TRP187 NE1_3065 A LEU170 O_2783 A ASP168 O_2750 A 3.238584258592021 4.87338085932138 4.901199138986294 1 ['B_4407']\n",
      "@> TYR194 OH_3178 A THR221 N_3619 A 4.782085841973144 1 ['B_4473']\n",
      "@> ASP168 OD1_2755 A PHE203 N_3307 A ASP168 O_2750 A 4.673543195478136 4.270200697859527 5.681378705912855 1 ['B_4437']\n",
      "@> ASP224 OD1_3677 A ARG231 NH2_3782 A 5.089529840761324 1 ['B_4392']\n",
      "@> GLY229 N_3744 A THR227 OG1_3723 A 3.9880918996432384 1 ['B_4524']\n",
      "@> ASP224 OD1_3677 A ARG231 NH2_3782 A 5.089529840761324 1 ['B_4392']\n",
      "@> 4206 atoms and 1 coordinate set(s) were parsed in 0.04s.\n",
      "@> 1 water bridges detected using method cluster.\n",
      "@> ASP148 N_2449 A LYS36 NZ_598 A 4.88636828329589 1 ['B_4197']\n"
     ]
    },
    {
     "name": "stdout",
     "output_type": "stream",
     "text": [
      "align__addH_5aadA.pdb\n"
     ]
    },
    {
     "name": "stderr",
     "output_type": "stream",
     "text": [
      "@> 4861 atoms and 1 coordinate set(s) were parsed in 0.06s.\n",
      "@> 13 water bridges detected using method cluster.\n",
      "@> ASN20 ND2_313 A TYR22 OH_351 A 2.8095837770032763 1 ['B_4258']\n",
      "@> LEU62 O_1026 A LEU68 O_1133 A 6.114124630721881 1 ['B_4468']\n",
      "@> ASP103 N_1736 A ASP103 OD2_1747 A 3.778118711740014 1 ['B_4372']\n",
      "@> ARG243 NH1_4009 A HIS122 ND1_2036 A 4.982145521760678 1 ['B_4747']\n",
      "@> ASP130 N_2176 A ARG129 N_2152 A ILE131 N_2188 A SER182 OG_2999 A 2.7885361751284488 2.735097073231586 5.680656740201792 4.701482106740383 5.968684695977837 4.8192755679666215 1 ['B_4657']\n",
      "@> ASP130 N_2176 A ARG129 N_2152 A ILE131 N_2188 A SER182 OG_2999 A 2.7885361751284488 2.735097073231586 5.680656740201792 4.701482106740383 5.968684695977837 4.8192755679666215 1 ['B_4657']\n",
      "@> ASP162 O_2664 A TRP181 NE1_2979 A 4.931642525568941 1 ['B_4630']\n",
      "@> ASP162 OD2_2670 A PHE197 N_3221 A 4.766427278371084 1 ['B_4645']\n",
      "@> ASP175 OD2_2881 A ASP175 N_2870 A 2.885073655905514 1 ['B_4834']\n",
      "@> ASP162 O_2664 A TRP181 NE1_2979 A 4.931642525568941 1 ['B_4630']\n",
      "@> ASP130 N_2176 A ARG129 N_2152 A ILE131 N_2188 A SER182 OG_2999 A 2.7885361751284488 2.735097073231586 5.680656740201792 4.701482106740383 5.968684695977837 4.8192755679666215 1 ['B_4657']\n",
      "@> ASP162 OD2_2670 A PHE197 N_3221 A 4.766427278371084 1 ['B_4645']\n",
      "@> ARG243 NH1_4009 A HIS122 ND1_2036 A 4.982145521760678 1 ['B_4747']\n"
     ]
    },
    {
     "name": "stdout",
     "output_type": "stream",
     "text": [
      "align__addH_2np8A.pdb\n"
     ]
    },
    {
     "name": "stderr",
     "output_type": "stream",
     "text": [
      "@> 4535 atoms and 1 coordinate set(s) were parsed in 0.04s.\n",
      "@> 17 water bridges detected using method cluster.\n",
      "@> LYS17 N_253 A PHE18 N_275 A 2.8043598199945783 1 ['B_4421']\n",
      "@> ASP148 N_2449 A GLN59 NE2_990 A 5.153848367967377 1 ['B_4505']\n",
      "@> LYS145 NZ_2416 A HIS64 O_1069 A 5.282406080565938 1 ['B_4451']\n",
      "@> SER152 N_2512 A HIS128 O_2140 A TRP151 N_2488 A 3.478899251200012 2.7485439781819005 4.813202468211785 1 ['B_4481']\n",
      "@> ASP185 OD1_3033 A ILE131 N_2188 A SER188 OG_3087 A 5.420295656142757 5.345814343951723 4.905870564945636 1 ['B_4475']\n",
      "@> GLU134 OE1_2256 A ASN135 ND2_2269 A 4.976712368622484 1 ['B_4427']\n",
      "@> LYS145 NZ_2416 A HIS64 O_1069 A 5.282406080565938 1 ['B_4451']\n",
      "@> ASP148 N_2449 A GLN59 NE2_990 A 5.153848367967377 1 ['B_4505']\n",
      "@> SER152 N_2512 A HIS128 O_2140 A TRP151 N_2488 A 3.478899251200012 2.7485439781819005 4.813202468211785 1 ['B_4481']\n",
      "@> THR166 O_2719 A TYR169 N_2759 A 4.55412099092679 1 ['B_4457']\n",
      "@> ASP168 O_2752 A TRP187 NE1_3067 A LEU170 O_2785 A 5.008243604298816 4.950440889456209 3.5209698947875143 1 ['B_4433']\n",
      "@> ASP168 O_2752 A PHE203 N_3309 A 5.61107307027809 1 ['B_4454']\n",
      "@> ASP168 O_2752 A TRP187 NE1_3067 A LEU170 O_2785 A 5.008243604298816 4.950440889456209 3.5209698947875143 1 ['B_4433']\n",
      "@> ASP185 OD1_3033 A ILE131 N_2188 A SER188 OG_3087 A 5.420295656142757 5.345814343951723 4.905870564945636 1 ['B_4475']\n",
      "@> ASP185 OD1_3033 A ILE131 N_2188 A SER188 OG_3087 A 5.420295656142757 5.345814343951723 4.905870564945636 1 ['B_4475']\n",
      "@> ASP168 O_2752 A PHE203 N_3309 A 5.61107307027809 1 ['B_4454']\n",
      "@> LYS239 NZ_3928 A GLN244 O_3993 A 4.895828734749615 1 ['B_4469']\n"
     ]
    },
    {
     "name": "stdout",
     "output_type": "stream",
     "text": [
      "align__addH_8c1kA.pdb\n"
     ]
    },
    {
     "name": "stderr",
     "output_type": "stream",
     "text": [
      "@> 4765 atoms and 1 coordinate set(s) were parsed in 0.04s.\n",
      "@> 27 water bridges detected using method cluster.\n",
      "@> PRO88 O_1480 A ARG11 NH2_181 A TYR86 OH_1464 A 5.8157247183820555 4.17113473769429 5.107149596399151 1 ['B_4531']\n",
      "@> ASN20 ND2_313 A TYR22 OH_351 A 4.962771100907232 1 ['B_4660']\n",
      "@> ILE32 O_518 A TYR86 N_1445 A 4.979318326839527 1 ['B_4477']\n",
      "@> LYS36 NZ_598 A ASP148 OD1_2459 A GLU55 OE2_925 A 3.7948959142511467 2.8994026971084934 4.277809135527208 2 ['B_4714', 'B_4399']\n",
      "@> ASN66 ND2_1106 A GLU113 OE2_1910 A 4.079279470690873 1 ['B_4561']\n",
      "@> ILE32 O_518 A TYR86 N_1445 A 4.979318326839527 1 ['B_4477']\n",
      "@> PRO88 O_1480 A ARG11 NH2_181 A TYR86 OH_1464 A 5.8157247183820555 4.17113473769429 5.107149596399151 1 ['B_4531']\n",
      "@> ASN66 ND2_1106 A GLU113 OE2_1910 A 4.079279470690873 1 ['B_4561']\n",
      "@> HIS128 ND1_2145 A HIS128 O_2140 A ASP148 O_2454 A 3.280983693955212 4.22371507088251 5.608431598941014 1 ['B_4576']\n",
      "@> ASP130 N_2176 A SER188 OG_3084 A ILE131 N_2188 A 5.819424284239804 2.724398282190029 4.986492655163546 1 ['B_4489']\n",
      "@> ASN135 ND2_2269 A ASN135 OD1_2268 A GLU134 OE1_2256 A 2.2470591892515874 5.413685713079398 4.862498329048553 1 ['B_4573']\n",
      "@> ASN135 ND2_2269 A ASN135 OD1_2268 A GLU134 OE1_2256 A 2.2470591892515874 5.413685713079398 4.862498329048553 1 ['B_4573']\n",
      "@> ASP148 OD1_2459 A ASP148 OD2_2460 A ASP148 O_2454 A 2.1956928291543862 3.207694810919514 4.177601345269793 1 ['B_4423']\n",
      "@> HIS128 ND1_2145 A HIS128 O_2140 A ASP148 O_2454 A 3.280983693955212 4.22371507088251 5.608431598941014 1 ['B_4576']\n",
      "@> LYS36 NZ_598 A ASP148 OD1_2459 A GLU55 OE2_925 A 3.7948959142511467 2.8994026971084934 4.277809135527208 2 ['B_4714', 'B_4399']\n",
      "@> LYS36 NZ_598 A ASP148 OD1_2459 A GLU55 OE2_925 A 3.7948959142511467 2.8994026971084934 4.277809135527208 2 ['B_4714', 'B_4399']\n",
      "@> ASP148 OD1_2459 A ASP148 OD2_2460 A ASP148 O_2454 A 2.1956928291543862 3.207694810919514 4.177601345269793 1 ['B_4423']\n",
      "@> TRP187 NE1_3064 A LEU170 N_2777 A ASP168 O_2749 A 4.473416367833425 5.122768587394902 3.826514079420064 1 ['B_4519']\n",
      "@> ASP168 OD1_2754 A ASP168 OD2_2755 A 2.191936586673987 1 ['B_4486']\n",
      "@> ASP168 OD1_2754 A PHE203 N_3306 A 4.989828153353579 1 ['B_4558']\n",
      "@> TRP187 NE1_3064 A LEU170 N_2777 A ASP168 O_2749 A 4.473416367833425 5.122768587394902 3.826514079420064 1 ['B_4519']\n",
      "@> GLU173 OE1_2837 A HIS240 O_3934 A 4.263825629642936 1 ['B_4546']\n",
      "@> ASP130 N_2176 A SER188 OG_3084 A ILE131 N_2188 A 5.819424284239804 2.724398282190029 4.986492655163546 1 ['B_4489']\n",
      "@> ASP168 OD1_2754 A PHE203 N_3306 A 4.989828153353579 1 ['B_4558']\n",
      "@> THR221 N_3618 A ARG214 NH2_3510 A 4.94918680188978 1 ['B_4525']\n",
      "@> THR227 OG1_3722 A GLY229 N_3743 A 3.8365518372622085 1 ['B_4669']\n",
      "@> GLU173 OE1_2837 A HIS240 O_3934 A 4.263825629642936 1 ['B_4546']\n"
     ]
    },
    {
     "name": "stdout",
     "output_type": "stream",
     "text": [
      "align__addH_5orsA.pdb\n"
     ]
    },
    {
     "name": "stderr",
     "output_type": "stream",
     "text": [
      "@> 4422 atoms and 1 coordinate set(s) were parsed in 0.04s.\n",
      "@> 2 water bridges detected using method cluster.\n",
      "@> ASP132 N_2222 A ARG131 N_2198 A 2.7509013068447215 1 ['B_4386']\n",
      "@> TRP189 NE1_3112 A ASP170 O_2797 A 5.259863306208632 1 ['B_4416']\n"
     ]
    },
    {
     "name": "stdout",
     "output_type": "stream",
     "text": [
      "align__addH_4debA.pdb\n",
      "align__addH_3ha6A.pdb\n"
     ]
    },
    {
     "name": "stderr",
     "output_type": "stream",
     "text": [
      "@> 4461 atoms and 1 coordinate set(s) were parsed in 0.04s.\n",
      "@> 10 water bridges detected using method cluster.\n",
      "@> GLU58 OE2_978 A GLN62 OE1_1042 A 3.3929893899038337 1 ['B_4434']\n",
      "@> HIS67 O_1122 A LYS148 NZ_2469 A 5.250032190377505 1 ['B_4398']\n",
      "@> ILE134 N_2241 A VAL187 O_3060 A SER191 OG_3135 A 6.899450195486592 5.1789981656687205 3.3526698316416423 2 ['B_4431', 'B_4446']\n",
      "@> THR169 OG1_2770 A TRP154 NE1_2554 A 6.019298381040769 1 ['B_4410']\n",
      "@> TPO164 O_2713 A HIS183 ND1_2999 A 4.879502228711448 1 ['B_4395']\n",
      "@> ASP171 O_2800 A TRP190 NE1_3115 A 5.169215511080961 1 ['B_4452']\n",
      "@> TPO164 O_2713 A HIS183 ND1_2999 A 4.879502228711448 1 ['B_4395']\n",
      "@> ILE134 N_2241 A VAL187 O_3060 A SER191 OG_3135 A 6.899450195486592 5.1789981656687205 3.3526698316416423 2 ['B_4431', 'B_4446']\n",
      "@> ILE134 N_2241 A VAL187 O_3060 A SER191 OG_3135 A 6.899450195486592 5.1789981656687205 3.3526698316416423 2 ['B_4431', 'B_4446']\n",
      "@> ARG217 NH1_3558 A GLU222 O_3639 A 5.638603461851169 1 ['B_4389']\n",
      "@> 4580 atoms and 1 coordinate set(s) were parsed in 0.04s.\n",
      "@> 27 water bridges detected using method cluster.\n",
      "@> LEU65 O_1094 A HIS67 N_1132 A ILE70 O_1182 A 4.089002812422609 5.637090916421341 4.797387413999414 1 ['B_4499']\n",
      "@> HIS67 O_1137 A LYS148 NZ_2484 A 5.074995270933757 1 ['B_4571']\n",
      "@> LEU65 O_1094 A HIS67 N_1132 A ILE70 O_1182 A 4.089002812422609 5.637090916421341 4.797387413999414 1 ['B_4499']\n",
      "@> THR94 N_1584 A ARG97 NE_1650 A 5.177678051018621 1 ['B_4484']\n",
      "@> THR230 N_3784 A GLU107 OE2_1830 A 4.676932755556787 1 ['B_4469']\n",
      "@> ASP133 O_2249 A TYR172 N_2826 A LEU170 O_2800 A ASP171 N_2814 A 7.482882532821158 9.39712855078614 9.45835545959233 2.893566311664555 2.9056350424649016 2.2712782744525173 2 ['B_4556', 'B_4442']\n",
      "@> ILE134 N_2256 A SER191 OG_3154 A 4.783646830609466 1 ['B_4454']\n",
      "@> SER143 N_2404 A SER143 OG_2413 A 2.8380517965674965 1 ['B_4490']\n",
      "@> HIS67 O_1137 A LYS148 NZ_2484 A 5.074995270933757 1 ['B_4571']\n",
      "@> ASP151 O_2522 A SER155 N_2580 A 5.661192630532897 1 ['B_4478']\n",
      "@> ASP133 O_2249 A TYR172 N_2826 A LEU170 O_2800 A ASP171 N_2814 A 7.482882532821158 9.39712855078614 9.45835545959233 2.893566311664555 2.9056350424649016 2.2712782744525173 2 ['B_4556', 'B_4442']\n",
      "@> PHE206 N_3376 A ASP171 O_2819 A 5.52505927570013 1 ['B_4436']\n",
      "@> ASP171 O_2819 A TRP190 NE1_3134 A 4.950093938502582 1 ['B_4577']\n",
      "@> ASP133 O_2249 A TYR172 N_2826 A LEU170 O_2800 A ASP171 N_2814 A 7.482882532821158 9.39712855078614 9.45835545959233 2.893566311664555 2.9056350424649016 2.2712782744525173 2 ['B_4556', 'B_4442']\n",
      "@> ARG181 NH2_2988 A HIS243 O_4004 A GLU176 N_2894 A 5.240884371935713 3.8447231369761874 5.623885578494638 1 ['B_4481']\n",
      "@> ASP171 O_2819 A TRP190 NE1_3134 A 4.950093938502582 1 ['B_4577']\n",
      "@> ILE134 N_2256 A SER191 OG_3154 A 4.783646830609466 1 ['B_4454']\n",
      "@> PRO205 O_3366 A THR224 N_3688 A THR224 OG1_3696 A ARG217 NH2_3580 A 5.087423316375392 6.341838377000789 2.758044415886012 2.778723807793785 5.805976662026809 6.080510751573422 1 ['B_4475']\n",
      "@> PHE206 N_3376 A ASP171 O_2819 A 5.52505927570013 1 ['B_4436']\n",
      "@> PRO205 O_3366 A THR224 N_3688 A THR224 OG1_3696 A ARG217 NH2_3580 A 5.087423316375392 6.341838377000789 2.758044415886012 2.778723807793785 5.805976662026809 6.080510751573422 1 ['B_4475']\n",
      "@> ASP227 N_3736 A ASP227 OD1_3746 A 4.038384454209379 1 ['B_4445']\n",
      "@> THR230 N_3784 A GLU107 OE2_1830 A 4.676932755556787 1 ['B_4469']\n",
      "@> THR230 OG1_3792 A GLY232 N_3813 A 3.8407708861633494 1 ['B_4457']\n",
      "@> ASN244 N_4016 A GLN247 NE2_4069 A HIS243 N_3999 A 5.075223935946081 2.7501665404116924 6.517027082957384 1 ['B_4493']\n",
      "@> ARG181 NH2_2988 A HIS243 O_4004 A GLU176 N_2894 A 5.240884371935713 3.8447231369761874 5.623885578494638 1 ['B_4481']\n",
      "@> ASN244 N_4016 A GLN247 NE2_4069 A HIS243 N_3999 A 5.075223935946081 2.7501665404116924 6.517027082957384 1 ['B_4493']\n",
      "@> ARG252 N_4146 A LEU251 N_4127 A 2.730356203867913 1 ['B_4544']\n"
     ]
    },
    {
     "name": "stdout",
     "output_type": "stream",
     "text": [
      "align__addH_3uo4A.pdb\n"
     ]
    },
    {
     "name": "stderr",
     "output_type": "stream",
     "text": [
      "@> 4612 atoms and 1 coordinate set(s) were parsed in 0.05s.\n",
      "@> 27 water bridges detected using method cluster.\n",
      "@> PHE18 N_275 A LYS17 N_253 A 2.761742384799856 1 ['B_4363']\n",
      "@> PHE149 N_2461 A GLN59 OE1_989 A GLU55 OE2_925 A 4.265424715078205 4.073021851156707 4.731521002806606 1 ['B_4366']\n",
      "@> ASP148 N_2449 A GLN59 NE2_990 A 4.8456744628586 1 ['B_4480']\n",
      "@> LEU62 O_1026 A LEU70 N_1171 A ARG69 NE_1162 A 5.930771282050931 4.410780203093329 4.493823093981336 1 ['B_4504']\n",
      "@> LEU62 O_1026 A LEU70 N_1171 A ARG69 NE_1162 A 5.930771282050931 4.410780203093329 4.493823093981336 1 ['B_4504']\n",
      "@> THR91 N_1516 A LEU89 O_1495 A 4.006443060870829 1 ['B_4402']\n",
      "@> THR91 OG1_1524 A THR91 N_1516 A 2.9050969002771643 1 ['B_4549']\n",
      "@> ASP130 N_2176 A SER185 OG_3044 A ILE131 N_2188 A ASP182 OD1_2990 A 5.85784576444276 2.796197060294571 4.838623977950754 4.934822489208707 5.004779615527542 5.267273488247976 1 ['B_4483']\n",
      "@> LYS132 NZ_2225 A ASP130 OD2_2187 A 4.086252561944747 1 ['B_4429']\n",
      "@> LYS132 NZ_2225 A ASP130 OD2_2187 A 4.086252561944747 1 ['B_4429']\n",
      "@> ASP148 N_2449 A GLN59 NE2_990 A 4.8456744628586 1 ['B_4480']\n",
      "@> PHE149 N_2461 A GLN59 OE1_989 A GLU55 OE2_925 A 4.265424715078205 4.073021851156707 4.731521002806606 1 ['B_4366']\n",
      "@> THR163 O_2676 A TYR166 N_2716 A 4.887245747862493 1 ['B_4423']\n",
      "@> LEU167 N_2737 A ASP165 O_2709 A TRP184 NE1_3024 A 3.888432331930178 4.528635666511493 4.989430729051161 1 ['B_4432']\n",
      "@> PHE200 N_3266 A ASP165 O_2709 A ASP165 OD1_2714 A 5.534322180719154 4.825452310405728 4.364351039960006 1 ['B_4489']\n",
      "@> THR163 O_2676 A TYR166 N_2716 A 4.887245747862493 1 ['B_4423']\n",
      "@> LEU167 N_2737 A ASP165 O_2709 A TRP184 NE1_3024 A 3.888432331930178 4.528635666511493 4.989430729051161 1 ['B_4432']\n",
      "@> GLY174 O_2856 A HIS177 ND1_2908 A 6.174848500165814 1 ['B_4378']\n",
      "@> ASP178 N_2915 A ASP178 OD1_2925 A 2.8107580827954575 1 ['B_4399']\n",
      "@> ASP130 N_2176 A SER185 OG_3044 A ILE131 N_2188 A ASP182 OD1_2990 A 5.85784576444276 2.796197060294571 4.838623977950754 4.934822489208707 5.004779615527542 5.267273488247976 1 ['B_4483']\n",
      "@> LEU167 N_2737 A ASP165 O_2709 A TRP184 NE1_3024 A 3.888432331930178 4.528635666511493 4.989430729051161 1 ['B_4432']\n",
      "@> PRO199 O_3256 A TYR191 OH_3137 A THR218 N_3578 A 5.065753448402317 5.302170687558066 4.779223158631538 1 ['B_4471']\n",
      "@> PRO199 O_3256 A ARG211 NH1_3467 A GLU201 N_3286 A 5.018544111592528 3.9042318066426365 5.253138966370491 1 ['B_4372']\n",
      "@> PHE200 N_3266 A ASP165 O_2709 A ASP165 OD1_2714 A 5.534322180719154 4.825452310405728 4.364351039960006 1 ['B_4489']\n",
      "@> PRO199 O_3256 A ARG211 NH1_3467 A GLU201 N_3286 A 5.018544111592528 3.9042318066426365 5.253138966370491 1 ['B_4372']\n",
      "@> PRO199 O_3256 A TYR191 OH_3137 A THR218 N_3578 A 5.065753448402317 5.302170687558066 4.779223158631538 1 ['B_4471']\n",
      "@> THR224 N_3674 A THR224 OG1_3682 A 3.0174709609207517 1 ['B_4492']\n"
     ]
    },
    {
     "name": "stdout",
     "output_type": "stream",
     "text": [
      "align__addH_8c1dA.pdb\n"
     ]
    },
    {
     "name": "stderr",
     "output_type": "stream",
     "text": [
      "@> 4433 atoms and 1 coordinate set(s) were parsed in 0.05s.\n",
      "@> 10 water bridges detected using method cluster.\n",
      "@> HIS65 N_1088 A HIS65 O_1093 A 2.739662387959509 1 ['B_4265']\n",
      "@> TYR72 OH_1233 A TYR87 N_1469 A 4.876089211653126 1 ['B_4274']\n",
      "@> TYR87 O_1474 A GLU86 OE2_1468 A 4.612515582629505 1 ['B_4295']\n",
      "@> TYR87 O_1474 A GLU86 OE2_1468 A 4.612515582629505 1 ['B_4295']\n",
      "@> TYR160 N_2632 A LEU158 O_2606 A 2.8906123918643964 1 ['B_4277']\n",
      "@> ASP159 O_2625 A PHE194 N_3182 A 5.437186588668814 1 ['B_4256']\n",
      "@> LEU161 O_2658 A TRP178 NE1_2940 A LEU161 N_2653 A 3.4762997569254566 2.830209002883002 4.775536304960941 1 ['B_4259']\n",
      "@> LEU161 O_2658 A TRP178 NE1_2940 A LEU161 N_2653 A 3.4762997569254566 2.830209002883002 4.775536304960941 1 ['B_4259']\n",
      "@> ASP159 O_2625 A PHE194 N_3182 A 5.437186588668814 1 ['B_4256']\n",
      "@> ASP215 OD1_3552 A ARG222 NH2_3657 A 4.78235036357647 1 ['B_4298']\n"
     ]
    },
    {
     "name": "stdout",
     "output_type": "stream",
     "text": [
      "align__addH_4jbpA.pdb\n"
     ]
    },
    {
     "name": "stderr",
     "output_type": "stream",
     "text": [
      "@> 4379 atoms and 1 coordinate set(s) were parsed in 0.04s.\n",
      "@> 11 water bridges detected using method cluster.\n",
      "@> LYS145 NZ_2416 A ILE67 O_1114 A HIS64 O_1069 A 4.713714989262715 4.959602907491689 3.1772859487304577 1 ['B_4274']\n",
      "@> THR91 N_1516 A LEU89 O_1495 A 4.087783017724889 1 ['B_4292']\n",
      "@> ASP103 N_1736 A ASP103 OD2_1747 A ARG106 NE_1795 A 3.7239765036852774 5.508669984669619 5.108795748510601 1 ['B_4310']\n",
      "@> ASP103 N_1736 A ASP103 OD2_1747 A ARG106 NE_1795 A 3.7239765036852774 5.508669984669619 5.108795748510601 1 ['B_4310']\n",
      "@> LYS145 NZ_2416 A ILE67 O_1114 A HIS64 O_1069 A 4.713714989262715 4.959602907491689 3.1772859487304577 1 ['B_4274']\n",
      "@> THR160 O_2614 A TYR163 N_2654 A 4.851461429301485 1 ['B_4271']\n",
      "@> LEU164 O_2680 A TRP181 NE1_2962 A ASP162 O_2647 A 3.3329771976417706 4.90801395678537 4.9706532769848275 1 ['B_4286']\n",
      "@> PHE197 N_3204 A ASP162 OD1_2652 A ASP162 O_2647 A 4.703773060001943 5.494865330469896 4.166198987086432 1 ['B_4298']\n",
      "@> THR160 O_2614 A TYR163 N_2654 A 4.851461429301485 1 ['B_4271']\n",
      "@> LEU164 O_2680 A TRP181 NE1_2962 A ASP162 O_2647 A 3.3329771976417706 4.90801395678537 4.9706532769848275 1 ['B_4286']\n",
      "@> PHE197 N_3204 A ASP162 OD1_2652 A ASP162 O_2647 A 4.703773060001943 5.494865330469896 4.166198987086432 1 ['B_4298']\n"
     ]
    },
    {
     "name": "stdout",
     "output_type": "stream",
     "text": [
      "align__addH_5dpvA.pdb\n",
      "align__addH_6c2tA.pdb\n"
     ]
    },
    {
     "name": "stderr",
     "output_type": "stream",
     "text": [
      "@> 4572 atoms and 1 coordinate set(s) were parsed in 0.04s.\n",
      "@> 30 water bridges detected using method cluster.\n",
      "@> LEU3 N_36 A GLU4 N_55 A 2.8872890399126923 1 ['B_4425']\n",
      "@> TYR70 OH_1192 A TYR85 N_1428 A ILE31 O_501 A 4.8659503696605855 5.139362119952244 4.872562570147257 1 ['B_4332']\n",
      "@> LYS39 N_640 A ALA40 N_662 A 2.912533089940781 1 ['B_4335']\n",
      "@> LEU69 N_1154 A GLN58 O_964 A GLN58 NE2_973 A 4.982388684155423 4.186107260928701 3.89314024920757 1 ['B_4287']\n",
      "@> GLN58 OE1_972 A PHE148 N_2444 A 4.378487067469767 1 ['B_4410']\n",
      "@> ILE66 O_1097 A LEU61 O_1009 A HIS63 N_1047 A 5.343539370117901 4.837133448644973 4.099122954974639 1 ['B_4362']\n",
      "@> ILE66 O_1097 A GLU84 OE1_1426 A GLU84 OE2_1427 A LYS144 NZ_2399 A 3.8908689260883613 5.563052489416217 5.25609379672775 2.201865118484778 3.9533999291748807 2.881496312682003 1 ['B_4314']\n",
      "@> ILE66 O_1097 A LEU61 O_1009 A HIS63 N_1047 A 5.343539370117901 4.837133448644973 4.099122954974639 1 ['B_4362']\n",
      "@> ARG68 NE_1145 A ARG68 NH1_1148 A 2.303085321910583 1 ['B_4458']\n",
      "@> LEU69 N_1154 A GLN58 O_964 A GLN58 NE2_973 A 4.982388684155423 4.186107260928701 3.89314024920757 1 ['B_4287']\n",
      "@> TYR70 OH_1192 A TYR85 N_1428 A ILE31 O_501 A 4.8659503696605855 5.139362119952244 4.872562570147257 1 ['B_4332']\n",
      "@> ILE66 O_1097 A GLU84 OE1_1426 A GLU84 OE2_1427 A LYS144 NZ_2399 A 3.8908689260883613 5.563052489416217 5.25609379672775 2.201865118484778 3.9533999291748807 2.881496312682003 1 ['B_4314']\n",
      "@> TYR70 OH_1192 A TYR85 N_1428 A ILE31 O_501 A 4.8659503696605855 5.139362119952244 4.872562570147257 1 ['B_4332']\n",
      "@> PHE101 O_1704 A LYS100 NZ_1695 A 4.785002507836333 1 ['B_4302']\n",
      "@> ASP102 OD2_1730 A ASP102 N_1719 A 4.120425584815239 1 ['B_4398']\n",
      "@> THR218 OG1_3584 A THR218 N_3576 A GLU103 OE1_1744 A 2.955979363933383 2.594567594031805 4.4196978403506275 1 ['B_4356']\n",
      "@> THR218 OG1_3584 A GLU103 OE2_1745 A 3.868254128156523 1 ['B_4392']\n",
      "@> GLY141 O_2346 A GLU112 OE2_1893 A 4.250445270792227 1 ['B_4266']\n",
      "@> ASP176 N_2882 A HIS127 O_2123 A ASP176 OD1_2892 A 4.108074731550042 3.106634513424457 4.707411815424689 1 ['B_4260']\n",
      "@> ILE130 O_2176 A ILE130 N_2171 A 2.8749636519441424 1 ['B_4239']\n",
      "@> GLY141 O_2346 A GLU112 OE2_1893 A 4.250445270792227 1 ['B_4266']\n",
      "@> ILE66 O_1097 A GLU84 OE1_1426 A GLU84 OE2_1427 A LYS144 NZ_2399 A 3.8908689260883613 5.563052489416217 5.25609379672775 2.201865118484778 3.9533999291748807 2.881496312682003 1 ['B_4314']\n",
      "@> GLN58 OE1_972 A PHE148 N_2444 A 4.378487067469767 1 ['B_4410']\n",
      "@> ASP176 N_2882 A HIS127 O_2123 A ASP176 OD1_2892 A 4.108074731550042 3.106634513424457 4.707411815424689 1 ['B_4260']\n",
      "@> THR212 N_3480 A TYR185 OH_3039 A 4.889744778615749 1 ['B_4422']\n",
      "@> ASP215 OD1_3538 A ARG222 NH2_3643 A 4.744014017685869 1 ['B_4278']\n",
      "@> THR218 OG1_3584 A THR218 N_3576 A GLU103 OE1_1744 A 2.955979363933383 2.594567594031805 4.4196978403506275 1 ['B_4356']\n",
      "@> THR218 OG1_3584 A GLU103 OE2_1745 A 3.868254128156523 1 ['B_4392']\n",
      "@> THR218 OG1_3584 A GLY220 N_3605 A 3.902525079996284 1 ['B_4404']\n",
      "@> ASP215 OD1_3538 A ARG222 NH2_3643 A 4.744014017685869 1 ['B_4278']\n",
      "@> 4565 atoms and 1 coordinate set(s) were parsed in 0.04s.\n",
      "@> 18 water bridges detected using method cluster.\n",
      "@> GLU55 OE1_924 A LYS36 NZ_598 A 3.825730779864156 1 ['B_4427']\n",
      "@> ARG69 NE_1162 A LEU70 N_1171 A GLN59 O_981 A LEU70 O_1176 A 4.376193894241889 5.5397972887101234 4.833398390366763 4.387566181837033 2.944961969194173 4.812318983608632 1 ['B_4412']\n",
      "@> ILE67 O_1114 A HIS64 O_1069 A 3.0840183203087492 1 ['B_4466']\n",
      "@> ARG69 NE_1162 A LEU70 N_1171 A GLN59 O_981 A LEU70 O_1176 A 4.376193894241889 5.5397972887101234 4.833398390366763 4.387566181837033 2.944961969194173 4.812318983608632 1 ['B_4412']\n",
      "@> ARG69 NE_1162 A LEU70 N_1171 A GLN59 O_981 A LEU70 O_1176 A 4.376193894241889 5.5397972887101234 4.833398390366763 4.387566181837033 2.944961969194173 4.812318983608632 1 ['B_4412']\n",
      "@> SER152 N_2512 A ASP148 O_2454 A HIS128 O_2140 A 5.781639473367393 3.410449090662395 5.5148486833275845 1 ['B_4460']\n",
      "@> ASP130 N_2176 A ILE131 N_2188 A SER188 OG_3084 A 2.776987396442408 6.00509525319957 5.19259646034621 1 ['B_4484']\n",
      "@> ASP130 OD2_2187 A TRP151 N_2488 A ASP148 OD1_2459 A ASP148 OD2_2460 A 5.51462092985547 5.164341390729314 3.994600605817809 5.300224712217397 6.390240214577227 2.188778197990832 1 ['B_4445']\n",
      "@> SER152 N_2512 A ASP148 O_2454 A HIS128 O_2140 A 5.781639473367393 3.410449090662395 5.5148486833275845 1 ['B_4460']\n",
      "@> ASP130 OD2_2187 A TRP151 N_2488 A ASP148 OD1_2459 A ASP148 OD2_2460 A 5.51462092985547 5.164341390729314 3.994600605817809 5.300224712217397 6.390240214577227 2.188778197990832 1 ['B_4445']\n",
      "@> ASP130 OD2_2187 A TRP151 N_2488 A ASP148 OD1_2459 A ASP148 OD2_2460 A 5.51462092985547 5.164341390729314 3.994600605817809 5.300224712217397 6.390240214577227 2.188778197990832 1 ['B_4445']\n",
      "@> SER152 N_2512 A ASP148 O_2454 A HIS128 O_2140 A 5.781639473367393 3.410449090662395 5.5148486833275845 1 ['B_4460']\n",
      "@> THR166 O_2716 A TYR169 N_2756 A 4.886761504309376 1 ['B_4400']\n",
      "@> TRP187 NE1_3064 A LEU170 N_2777 A ASP168 O_2749 A 4.438524642265714 5.184685622098991 3.9448247109345664 1 ['B_4454']\n",
      "@> TRP187 NE1_3064 A LEU170 N_2777 A ASP168 O_2749 A 4.438524642265714 5.184685622098991 3.9448247109345664 1 ['B_4454']\n",
      "@> ASP130 N_2176 A ILE131 N_2188 A SER188 OG_3084 A 2.776987396442408 6.00509525319957 5.19259646034621 1 ['B_4484']\n",
      "@> THR221 N_3618 A THR221 O_3623 A 2.7827989506969404 1 ['B_4514']\n",
      "@> THR227 OG1_3722 A THR227 N_3714 A 2.949219049172172 1 ['B_4388']\n"
     ]
    },
    {
     "name": "stdout",
     "output_type": "stream",
     "text": [
      "align__addH_5ornA.pdb\n"
     ]
    },
    {
     "name": "stderr",
     "output_type": "stream",
     "text": [
      "@> 4498 atoms and 1 coordinate set(s) were parsed in 0.04s.\n",
      "@> 13 water bridges detected using method cluster.\n",
      "@> ILE33 O_542 A TYR87 N_1469 A 5.2006364033644985 1 ['B_4453']\n",
      "@> ALA42 N_703 A THR79 O_1327 A 4.513109127862963 1 ['B_4429']\n",
      "@> ILE33 O_542 A TYR87 N_1469 A 5.2006364033644985 1 ['B_4453']\n",
      "@> ARG130 N_2176 A ARG130 O_2181 A 2.8322923577907684 1 ['B_4495']\n",
      "@> CYS165 N_2713 A ALA162 O_2679 A 4.177750351564824 1 ['B_4456']\n",
      "@> GLY166 O_2730 A ASP169 N_2764 A ASP169 OD2_2775 A 5.393358322974654 6.2954308827911065 3.76235272136997 1 ['B_4405']\n",
      "@> ASP169 O_2769 A PHE204 N_3326 A 5.5423256851253315 1 ['B_4369']\n",
      "@> ASP169 O_2769 A LEU171 O_2802 A TRP188 NE1_3084 A 5.022133610329382 5.241327885183297 3.708977487124991 1 ['B_4471']\n",
      "@> GLY166 O_2730 A ASP169 N_2764 A ASP169 OD2_2775 A 5.393358322974654 6.2954308827911065 3.76235272136997 1 ['B_4405']\n",
      "@> ASP169 O_2769 A LEU171 O_2802 A TRP188 NE1_3084 A 5.022133610329382 5.241327885183297 3.708977487124991 1 ['B_4471']\n",
      "@> ASP169 O_2769 A PHE204 N_3326 A 5.5423256851253315 1 ['B_4369']\n",
      "@> ASP225 O_3691 A PRO224 O_3676 A 3.2019773578212547 1 ['B_4480']\n",
      "@> GLY230 N_3763 A THR228 OG1_3742 A 3.6907355635428525 1 ['B_4423']\n"
     ]
    },
    {
     "name": "stdout",
     "output_type": "stream",
     "text": [
      "align__addH_3w10A.pdb\n"
     ]
    },
    {
     "name": "stderr",
     "output_type": "stream",
     "text": [
      "@> 4913 atoms and 1 coordinate set(s) were parsed in 0.05s.\n",
      "@> 29 water bridges detected using method cluster.\n",
      "@> TYR87 N_1469 A ILE33 O_542 A 4.833893358360315 1 ['B_4322']\n",
      "@> LYS37 NZ_622 A ALA148 O_2468 A 6.197351531097779 1 ['B_4358']\n",
      "@> HIS62 NE2_1043 A GLU58 OE2_980 A 3.1427347963199175 1 ['B_4811']\n",
      "@> LEU63 O_1050 A LEU71 N_1195 A GLN60 O_1005 A 5.676101655185543 3.8141950658035277 5.227401840302695 1 ['B_4439']\n",
      "@> LEU63 O_1050 A LEU71 N_1195 A GLN60 O_1005 A 5.676101655185543 3.8141950658035277 5.227401840302695 1 ['B_4439']\n",
      "@> HIS76 N_1283 A HIS76 ND1_1293 A 3.2000626556366045 1 ['B_4511']\n",
      "@> TYR87 N_1469 A ILE33 O_542 A 4.833893358360315 1 ['B_4322']\n",
      "@> ASP104 N_1760 A ARG107 NE_1819 A ASP104 OD2_1771 A 5.432094623623564 3.733665892926147 5.007353093202034 1 ['B_4433']\n",
      "@> GLU105 OE2_1786 A THR220 N_3611 A 4.405363322133601 1 ['B_4544']\n",
      "@> ASP104 N_1760 A ARG107 NE_1819 A ASP104 OD2_1771 A 5.432094623623564 3.733665892926147 5.007353093202034 1 ['B_4433']\n",
      "@> ASN117 O_1969 A CYS260 O_4262 A 5.142292387641918 1 ['B_4760']\n",
      "@> ASN136 OD1_2292 A LYS133 N_2231 A 4.771396650876972 1 ['B_4397']\n",
      "@> LYS37 NZ_622 A ALA148 O_2468 A 6.197351531097779 1 ['B_4358']\n",
      "@> ASP161 N_2641 A TYR162 N_2653 A 2.8256257714000275 1 ['B_4427']\n",
      "@> PHE196 N_3203 A ASP161 O_2646 A GLU197 N_3223 A ASP161 OD1_2651 A 5.462636909039442 2.686646608692701 4.852606000903018 6.2420389297087855 4.344815876420999 3.493370435553608 1 ['B_4316']\n",
      "@> TRP180 NE1_2961 A ASP161 O_2646 A 5.165991192404416 1 ['B_4340']\n",
      "@> ASP161 N_2641 A TYR162 N_2653 A 2.8256257714000275 1 ['B_4427']\n",
      "@> TRP180 NE1_2961 A ASP161 O_2646 A 5.165991192404416 1 ['B_4340']\n",
      "@> TYR187 OH_3074 A PRO195 O_3193 A THR214 N_3515 A 4.99163510284957 4.779254125907094 5.281711938377557 1 ['B_4490']\n",
      "@> TYR187 OH_3074 A LYS193 NZ_3171 A 5.617303712636516 1 ['B_4640']\n",
      "@> TYR187 OH_3074 A PRO195 O_3193 A THR214 N_3515 A 4.99163510284957 4.779254125907094 5.281711938377557 1 ['B_4490']\n",
      "@> PHE196 N_3203 A ASP161 O_2646 A GLU197 N_3223 A ASP161 OD1_2651 A 5.462636909039442 2.686646608692701 4.852606000903018 6.2420389297087855 4.344815876420999 3.493370435553608 1 ['B_4316']\n",
      "@> TYR187 OH_3074 A PRO195 O_3193 A THR214 N_3515 A 4.99163510284957 4.779254125907094 5.281711938377557 1 ['B_4490']\n",
      "@> GLU105 OE2_1786 A THR220 N_3611 A 4.405363322133601 1 ['B_4544']\n",
      "@> GLY222 N_3640 A THR220 OG1_3619 A 3.73191130655593 1 ['B_4565']\n",
      "@> ARG229 NH1_3760 A LYS232 NZ_3822 A 6.230688083992005 1 ['B_4778']\n",
      "@> HIS233 N_3826 A ASN234 N_3843 A 2.841913439920366 1 ['B_4589']\n",
      "@> LEU241 N_3954 A ARG242 N_3973 A 2.7707424997642778 1 ['B_4475']\n",
      "@> ASN117 O_1969 A CYS260 O_4262 A 5.142292387641918 1 ['B_4760']\n"
     ]
    },
    {
     "name": "stdout",
     "output_type": "stream",
     "text": [
      "align__addH_3fdnA.pdb\n"
     ]
    },
    {
     "name": "stderr",
     "output_type": "stream",
     "text": [
      "@> 4233 atoms and 1 coordinate set(s) were parsed in 0.04s.\n",
      "@> 1 water bridges detected using method cluster.\n",
      "@> GLU208 OE1_3425 A ARG203 NE_3333 A 4.9368324865241275 1 ['B_4221']\n"
     ]
    },
    {
     "name": "stdout",
     "output_type": "stream",
     "text": [
      "align__addH_7ficA.pdb\n"
     ]
    },
    {
     "name": "stderr",
     "output_type": "stream",
     "text": [
      "@> 4693 atoms and 1 coordinate set(s) were parsed in 0.04s.\n",
      "@> 28 water bridges detected using method cluster.\n",
      "@> GLU6 N_96 A LEU5 N_77 A 2.7167594667176513 1 ['B_4585']\n",
      "@> TRP152 N_2514 A LYS37 NZ_622 A 4.86254850875546 1 ['B_4549']\n",
      "@> ARG54 NH1_905 A HIS51 ND1_844 A 4.595884680885717 1 ['B_4570']\n",
      "@> GLU56 O_940 A GLY151 N_2507 A 4.293336814180785 1 ['B_4444']\n",
      "@> ARG70 NE_1186 A GLN60 O_1005 A 5.7548697639477515 1 ['B_4393']\n",
      "@> GLN60 NE2_1014 A PHE150 N_2487 A 4.910227387810056 1 ['B_4465']\n",
      "@> HIS65 N_1088 A LEU63 O_1050 A 4.187617341639516 1 ['B_4429']\n",
      "@> LYS146 NZ_2440 A HIS65 O_1093 A 5.19940208100893 1 ['B_4471']\n",
      "@> ARG70 NE_1186 A GLN60 O_1005 A 5.7548697639477515 1 ['B_4393']\n",
      "@> THR92 N_1540 A LEU90 O_1519 A 4.055837028284053 1 ['B_4477']\n",
      "@> PHE103 O_1745 A LEU189 O_3107 A 4.387886621142346 1 ['B_4405']\n",
      "@> ASP104 N_1760 A ARG107 NE_1819 A 5.566271013883533 1 ['B_4597']\n",
      "@> THR219 N_3602 A THR219 OG1_3610 A GLU105 OE2_1786 A 2.971896700761991 4.470356920873322 2.5880743806931052 1 ['B_4501']\n",
      "@> GLU114 OE1_1933 A GLU114 OE2_1934 A 2.186197383586394 1 ['B_4489']\n",
      "@> ILE128 O_2145 A HIS129 ND1_2169 A 4.570162907380872 1 ['B_4546']\n",
      "@> LYS146 NZ_2440 A HIS65 O_1093 A 5.19940208100893 1 ['B_4471']\n",
      "@> GLN60 NE2_1014 A PHE150 N_2487 A 4.910227387810056 1 ['B_4465']\n",
      "@> GLU56 O_940 A GLY151 N_2507 A 4.293336814180785 1 ['B_4444']\n",
      "@> TRP152 N_2514 A LYS37 NZ_622 A 4.86254850875546 1 ['B_4549']\n",
      "@> THR203 OG1_3328 A ASP160 OD2_2643 A ALA156 O_2587 A ALA197 N_3229 A 6.061957934529072 3.8076337796589628 3.778906058636545 3.7467630029133145 5.863865704464928 5.756308191888269 1 ['B_4426']\n",
      "@> ASP160 OD1_2642 A ASP160 O_2637 A PHE195 N_3194 A 4.32163441304329 5.0210243974711 5.462239284396103 1 ['B_4498']\n",
      "@> THR203 OG1_3328 A ASP160 OD2_2643 A ALA156 O_2587 A ALA197 N_3229 A 6.061957934529072 3.8076337796589628 3.778906058636545 3.7467630029133145 5.863865704464928 5.756308191888269 1 ['B_4426']\n",
      "@> TRP179 NE1_2952 A LEU162 N_2665 A 4.606348770989877 1 ['B_4420']\n",
      "@> PHE103 O_1745 A LEU189 O_3107 A 4.387886621142346 1 ['B_4405']\n",
      "@> ASP160 OD1_2642 A ASP160 O_2637 A PHE195 N_3194 A 4.32163441304329 5.0210243974711 5.462239284396103 1 ['B_4498']\n",
      "@> THR203 OG1_3328 A ASP160 OD2_2643 A ALA156 O_2587 A ALA197 N_3229 A 6.061957934529072 3.8076337796589628 3.778906058636545 3.7467630029133145 5.863865704464928 5.756308191888269 1 ['B_4426']\n",
      "@> THR219 N_3602 A THR219 OG1_3610 A GLU105 OE2_1786 A 2.971896700761991 4.470356920873322 2.5880743806931052 1 ['B_4501']\n",
      "@> HIS232 N_3817 A ASN233 N_3834 A 2.7769209567432758 1 ['B_4402']\n"
     ]
    },
    {
     "name": "stdout",
     "output_type": "stream",
     "text": [
      "align__addH_5odtA.pdb\n"
     ]
    },
    {
     "name": "stderr",
     "output_type": "stream",
     "text": [
      "@> 4265 atoms and 1 coordinate set(s) were parsed in 0.04s.\n",
      "@> 19 water bridges detected using method cluster.\n",
      "@> ILE31 O_504 A TYR85 N_1435 A 4.898785461724163 1 ['B_4205']\n",
      "@> TYR72 N_1208 A TYR72 O_1213 A 2.6972775163115905 1 ['B_4157']\n",
      "@> GLU84 OE1_1433 A LYS144 NZ_2412 A 4.132436932368116 1 ['B_4217']\n",
      "@> ILE31 O_504 A TYR85 N_1435 A 4.898785461724163 1 ['B_4205']\n",
      "@> ARG100 NH2_1705 A LEU180 O_2980 A ARG100 NE_1699 A 5.086663739623448 2.2840232047857976 3.5126579679780927 1 ['B_4220']\n",
      "@> ARG105 NE_1787 A ASP102 N_1728 A 5.50940160090005 1 ['B_4256']\n",
      "@> GLU103 OE1_1753 A THR210 N_3475 A 5.047834684297814 1 ['B_4100']\n",
      "@> ASP147 O_2450 A HIS127 O_2132 A 5.2318120187942565 1 ['B_4175']\n",
      "@> GLU84 OE1_1433 A LYS144 NZ_2412 A 4.132436932368116 1 ['B_4217']\n",
      "@> ASP156 OD1_2595 A LEU155 N_2566 A 4.598040995902493 1 ['B_4151']\n",
      "@> TRP170 NE1_2825 A ASP156 O_2590 A 5.063989237745279 1 ['B_4187']\n",
      "@> ASP156 OD2_2596 A PHE186 N_3062 A 5.276773445961084 1 ['B_4127']\n",
      "@> ASP164 N_2716 A GLU161 OE2_2679 A 6.09591223690105 1 ['B_4136']\n",
      "@> TRP170 NE1_2825 A ASP156 O_2590 A 5.063989237745279 1 ['B_4187']\n",
      "@> ARG100 NH2_1705 A LEU180 O_2980 A ARG100 NE_1699 A 5.086663739623448 2.2840232047857976 3.5126579679780927 1 ['B_4220']\n",
      "@> ASP156 OD2_2596 A PHE186 N_3062 A 5.276773445961084 1 ['B_4127']\n",
      "@> GLU103 OE1_1753 A THR210 N_3475 A 5.047834684297814 1 ['B_4100']\n",
      "@> GLY212 N_3504 A THR210 OG1_3483 A 3.9012541573191553 1 ['B_4166']\n",
      "@> HIS237 ND1_3920 A ARG219 NE_3621 A 5.138366082715401 1 ['B_4214']\n"
     ]
    },
    {
     "name": "stdout",
     "output_type": "stream",
     "text": [
      "align__addH_3d2kA.pdb\n"
     ]
    },
    {
     "name": "stderr",
     "output_type": "stream",
     "text": [
      "@> 4080 atoms and 1 coordinate set(s) were parsed in 0.04s.\n",
      "@> 2 water bridges detected using method cluster.\n",
      "@> ASP152 OD2_2535 A ALA183 N_3029 A 4.730391949933961 1 ['B_4047']\n",
      "@> THR205 N_3402 A THR205 OG1_3410 A 2.967021064974093 1 ['B_4050']\n"
     ]
    },
    {
     "name": "stdout",
     "output_type": "stream",
     "text": [
      "align__addH_3efwA.pdb\n",
      "align__addH_4o0uA.pdb\n"
     ]
    },
    {
     "name": "stderr",
     "output_type": "stream",
     "text": [
      "@> 4359 atoms and 1 coordinate set(s) were parsed in 0.05s.\n",
      "@> 4 water bridges detected using method cluster.\n",
      "@> ILE68 O_1138 A LYS146 NZ_2447 A 4.934548206269752 1 ['B_4305']\n",
      "@> ASP162 O_2676 A PHE197 N_3233 A ASP162 OD1_2681 A 5.7277041648465055 4.369776882176023 5.199409678030767 1 ['B_4332']\n",
      "@> LEU164 O_2709 A TRP181 NE1_2991 A 3.4639639143616963 1 ['B_4296']\n",
      "@> ASP162 O_2676 A PHE197 N_3233 A ASP162 OD1_2681 A 5.7277041648465055 4.369776882176023 5.199409678030767 1 ['B_4332']\n",
      "@> 4546 atoms and 1 coordinate set(s) were parsed in 0.05s.\n",
      "@> 12 water bridges detected using method cluster.\n",
      "@> SER63 O_1066 A ARG72 NE_1230 A 5.828824667117725 1 ['B_4498']\n",
      "@> LYS148 NZ_2484 A ILE70 O_1182 A 5.068700030579828 1 ['B_4432']\n",
      "@> ARG109 NE_1863 A ASP106 N_1804 A ASP106 OD1_1814 A 5.621012453286328 5.5045111499569135 3.800349194481999 1 ['B_4495']\n",
      "@> GLU107 OE2_1830 A THR230 N_3784 A 4.368463459844891 1 ['B_4480']\n",
      "@> ARG109 NE_1863 A ASP106 N_1804 A ASP106 OD1_1814 A 5.621012453286328 5.5045111499569135 3.800349194481999 1 ['B_4495']\n",
      "@> LYS148 NZ_2484 A ILE70 O_1182 A 5.068700030579828 1 ['B_4432']\n",
      "@> ASP171 O_2819 A LEU173 O_2852 A TRP190 NE1_3134 A 5.004869328963542 5.138896963357017 3.324337377583687 1 ['B_4429']\n",
      "@> PHE206 N_3376 A ASP171 O_2819 A 5.523049972614769 1 ['B_4513']\n",
      "@> ASP171 O_2819 A LEU173 O_2852 A TRP190 NE1_3134 A 5.004869328963542 5.138896963357017 3.324337377583687 1 ['B_4429']\n",
      "@> PHE206 N_3376 A ASP171 O_2819 A 5.523049972614769 1 ['B_4513']\n",
      "@> GLU107 OE2_1830 A THR230 N_3784 A 4.368463459844891 1 ['B_4480']\n",
      "@> GLU256 OE1_4233 A ARG252 NH1_4164 A 2.9173717623916198 1 ['B_4468']\n"
     ]
    },
    {
     "name": "stdout",
     "output_type": "stream",
     "text": [
      "align__addH_3uo5A.pdb\n"
     ]
    },
    {
     "name": "stderr",
     "output_type": "stream",
     "text": [
      "@> 4278 atoms and 1 coordinate set(s) were parsed in 0.04s.\n",
      "@> 8 water bridges detected using method cluster.\n",
      "@> TYR71 O_1195 A ARG69 NH1_1165 A SER60 O_998 A 5.171938611391287 5.574549847297094 3.308383744368237 1 ['B_4230']\n",
      "@> LYS145 NZ_2416 A HIS64 O_1069 A 5.275931102658562 1 ['B_4263']\n",
      "@> TYR71 O_1195 A ARG69 NH1_1165 A SER60 O_998 A 5.171938611391287 5.574549847297094 3.308383744368237 1 ['B_4230']\n",
      "@> ASP148 OD2_2460 A ARG129 NH2_2173 A 3.4951420571988208 1 ['B_4200']\n",
      "@> LYS145 NZ_2416 A HIS64 O_1069 A 5.275931102658562 1 ['B_4263']\n",
      "@> ASP148 N_2449 A TRP151 NE1_2501 A 5.3895152843275245 1 ['B_4233']\n",
      "@> ASP148 N_2449 A TRP151 NE1_2501 A 5.3895152843275245 1 ['B_4233']\n",
      "@> ASP214 OD1_3528 A ARG221 NH2_3633 A 4.4550747468476875 1 ['B_4251']\n"
     ]
    },
    {
     "name": "stdout",
     "output_type": "stream",
     "text": [
      "align__addH_6xkaA.pdb\n",
      "align__addH_3up2A.pdb\n"
     ]
    },
    {
     "name": "stderr",
     "output_type": "stream",
     "text": [
      "@> 4722 atoms and 1 coordinate set(s) were parsed in 0.04s.\n",
      "@> 22 water bridges detected using method cluster.\n",
      "@> ARG14 NH2_249 A TYR89 OH_1532 A 4.989547975518421 1 ['B_4557']\n",
      "@> THR94 N_1584 A LEU92 O_1563 A ARG97 NE_1650 A 4.0112474368954105 5.054132368666258 4.681782139314046 1 ['B_4434']\n",
      "@> THR94 OG1_1592 A THR94 N_1584 A 3.0162932549737285 1 ['B_4461']\n",
      "@> THR94 N_1584 A LEU92 O_1563 A ARG97 NE_1650 A 4.0112474368954105 5.054132368666258 4.681782139314046 1 ['B_4434']\n",
      "@> SER103 O_1756 A GLY202 O_3325 A 4.4644011916493325 1 ['B_4593']\n",
      "@> ASP106 N_1804 A ASP106 OD1_1814 A 3.872979344122557 1 ['B_4536']\n",
      "@> ASP106 OD1_1814 A ARG109 NE_1863 A 5.493525916931675 1 ['B_4686']\n",
      "@> THR230 N_3784 A GLU107 OE2_1830 A 4.441864585959371 1 ['B_4443']\n",
      "@> HIS131 O_2208 A HIS131 ND1_2213 A SER155 N_2580 A TRP154 N_2556 A 3.497924813371493 3.2994620773695775 4.931265659037238 5.686129439258305 6.365544517164261 2.7125635476427092 1 ['B_4515']\n",
      "@> ILE134 N_2256 A ASP133 N_2244 A ASP188 OD2_3101 A 2.766806643045372 5.561387956256963 4.8252472475511565 1 ['B_4497']\n",
      "@> PRO136 N_2297 A GLU137 N_2311 A 2.8770182481173125 1 ['B_4437']\n",
      "@> ASN138 OD1_2336 A ASP151 OD1_2527 A 4.131238192116259 1 ['B_4614']\n",
      "@> HIS131 O_2208 A HIS131 ND1_2213 A SER155 N_2580 A TRP154 N_2556 A 3.497924813371493 3.2994620773695775 4.931265659037238 5.686129439258305 6.365544517164261 2.7125635476427092 1 ['B_4515']\n",
      "@> TYR172 N_2826 A LEU170 O_2800 A ASP171 N_2814 A 2.7969188404385252 2.8624466807261215 2.2563257743508576 2 ['B_4719', 'B_4689']\n",
      "@> TYR172 N_2826 A LEU170 O_2800 A ASP171 N_2814 A 2.7969188404385252 2.8624466807261215 2.2563257743508576 2 ['B_4719', 'B_4689']\n",
      "@> ILE134 N_2256 A ASP133 N_2244 A ASP188 OD2_3101 A 2.766806643045372 5.561387956256963 4.8252472475511565 1 ['B_4497']\n",
      "@> SER103 O_1756 A GLY202 O_3325 A 4.4644011916493325 1 ['B_4593']\n",
      "@> THR224 N_3688 A ARG217 NH2_3580 A 4.924361786059182 1 ['B_4518']\n",
      "@> THR230 N_3784 A GLU107 OE2_1830 A 4.441864585959371 1 ['B_4443']\n",
      "@> GLY232 N_3813 A THR230 OG1_3792 A 3.850865227452139 1 ['B_4656']\n",
      "@> HIS243 N_3999 A ASN244 N_4016 A 2.836809827958158 1 ['B_4623']\n",
      "@> ARG252 N_4146 A LEU251 N_4127 A 2.8341533127196925 1 ['B_4563']\n",
      "@> 4984 atoms and 1 coordinate set(s) were parsed in 0.04s.\n",
      "@> 51 water bridges detected using method cluster.\n",
      "@> ASN20 OD1_312 A GLY16 O_252 A 5.410509957480905 1 ['B_4759']\n",
      "@> PHE18 O_280 A PHE39 N_637 A 4.817884494256791 1 ['B_4489']\n",
      "@> TYR86 N_1445 A ILE32 O_518 A 4.995387272274299 1 ['B_4678']\n",
      "@> LYS36 NZ_598 A ASP148 OD1_2459 A GLU55 OE1_924 A 4.031973586223009 3.3664185717168333 3.2896280944811997 2 ['B_4924', 'B_4414']\n",
      "@> PHE18 O_280 A PHE39 N_637 A 4.817884494256791 1 ['B_4489']\n",
      "@> GLU49 OE1_808 A HIS50 N_810 A HIS50 ND1_820 A 4.4815926856420125 5.190340354928565 3.1941443298636307 1 ['B_4708']\n",
      "@> GLU49 OE1_808 A HIS50 N_810 A HIS50 ND1_820 A 4.4815926856420125 5.190340354928565 3.1941443298636307 1 ['B_4708']\n",
      "@> GLN51 NE2_841 A THR161 OG1_2658 A ARG129 NH2_2173 A 4.320039930371016 5.886454790449005 5.621296024939442 1 ['B_4885']\n",
      "@> LYS36 NZ_598 A ASP148 OD1_2459 A GLU55 OE1_924 A 4.031973586223009 3.3664185717168333 3.2896280944811997 2 ['B_4924', 'B_4414']\n",
      "@> ASP148 N_2449 A GLU55 OE2_925 A 4.665866800499132 1 ['B_4780']\n",
      "@> HIS64 N_1064 A ILE67 O_1114 A HIS64 O_1069 A 4.912048350739232 2.7844189699109605 3.121756877144665 1 ['B_4690']\n",
      "@> HIS64 N_1064 A ILE67 O_1114 A HIS64 O_1069 A 4.912048350739232 2.7844189699109605 3.121756877144665 1 ['B_4690']\n",
      "@> LYS145 NZ_2416 A GLU85 OE2_1444 A 2.964905732059621 1 ['B_4633']\n",
      "@> TYR86 N_1445 A ILE32 O_518 A 4.995387272274299 1 ['B_4678']\n",
      "@> LEU248 N_4057 A HIS122 ND1_2036 A 6.026982993173285 1 ['B_4816']\n",
      "@> ALA155 O_2561 A ARG125 NH1_2094 A 3.537576288930036 1 ['B_4603']\n",
      "@> HIS128 ND1_2145 A HIS128 O_2140 A SER152 N_2512 A 3.2750569460697956 5.867787061576111 3.439302690953503 1 ['B_4600']\n",
      "@> GLN51 NE2_841 A THR161 OG1_2658 A ARG129 NH2_2173 A 4.320039930371016 5.886454790449005 5.621296024939442 1 ['B_4885']\n",
      "@> ILE131 N_2188 A SER188 OG_3084 A 5.083817168230976 1 ['B_4657']\n",
      "@> ILE131 N_2188 A SER188 OG_3084 A 5.083817168230976 1 ['B_4870']\n",
      "@> GLU134 OE2_2257 A GLU134 N_2243 A 4.536577674855795 1 ['B_4594']\n",
      "@> GLU134 OE1_2256 A ASN135 OD1_2268 A ASN135 ND2_2269 A 4.631057546608552 5.102467638309921 2.267762333226304 1 ['B_4591']\n",
      "@> GLU134 OE1_2256 A ASN135 OD1_2268 A ASN135 ND2_2269 A 4.631057546608552 5.102467638309921 2.267762333226304 1 ['B_4591']\n",
      "@> LYS145 NZ_2416 A GLU85 OE2_1444 A 2.964905732059621 1 ['B_4633']\n",
      "@> ASP148 N_2449 A GLU55 OE2_925 A 4.665866800499132 1 ['B_4780']\n",
      "@> LYS36 NZ_598 A ASP148 OD1_2459 A GLU55 OE1_924 A 4.031973586223009 3.3664185717168333 3.2896280944811997 2 ['B_4924', 'B_4414']\n",
      "@> TRP151 N_2488 A ASP148 OD1_2459 A 5.381379841639125 1 ['B_4531']\n",
      "@> HIS128 ND1_2145 A HIS128 O_2140 A SER152 N_2512 A 3.2750569460697956 5.867787061576111 3.439302690953503 1 ['B_4600']\n",
      "@> ALA155 O_2561 A ARG125 NH1_2094 A 3.537576288930036 1 ['B_4603']\n",
      "@> ARG159 NE_2617 A MET174 O_2844 A 3.9052939710090935 1 ['B_4474']\n",
      "@> GLN51 NE2_841 A THR161 OG1_2658 A ARG129 NH2_2173 A 4.320039930371016 5.886454790449005 5.621296024939442 1 ['B_4885']\n",
      "@> ASP168 N_2744 A THR166 O_2716 A TYR169 N_2756 A 3.7560262246155856 2.8979451340561964 5.202074297816207 1 ['B_4699']\n",
      "@> TRP187 NE1_3064 A LEU170 N_2777 A ASP168 O_2749 A 4.610802316300277 5.181481834379041 3.949898479708053 1 ['B_4483']\n",
      "@> ASP168 OD2_2755 A ALA205 N_3341 A THR211 OG1_3440 A ALA205 O_3346 A 5.910090777644623 5.862740911894368 6.3152996761832325 3.7595167242612453 2.69941049119988 3.8026876022097884 1 ['B_4618']\n",
      "@> ASP168 N_2744 A THR166 O_2716 A TYR169 N_2756 A 3.7560262246155856 2.8979451340561964 5.202074297816207 1 ['B_4699']\n",
      "@> ARG159 NE_2617 A MET174 O_2844 A 3.9052939710090935 1 ['B_4474']\n",
      "@> ASP181 N_2955 A ASP181 OD1_2965 A 2.954756335131544 1 ['B_4660']\n",
      "@> TRP187 NE1_3064 A LEU170 N_2777 A ASP168 O_2749 A 4.610802316300277 5.181481834379041 3.949898479708053 1 ['B_4483']\n",
      "@> ILE131 N_2188 A SER188 OG_3084 A 5.083817168230976 1 ['B_4657']\n",
      "@> ILE131 N_2188 A SER188 OG_3084 A 5.083817168230976 1 ['B_4870']\n",
      "@> TYR194 OH_3177 A THR221 N_3618 A 4.824254761100412 1 ['B_4654']\n",
      "@> GLY199 O_3255 A GLU195 OE2_3193 A 4.615088948221909 1 ['B_4423']\n",
      "@> ASP168 OD2_2755 A ALA205 N_3341 A THR211 OG1_3440 A ALA205 O_3346 A 5.910090777644623 5.862740911894368 6.3152996761832325 3.7595167242612453 2.69941049119988 3.8026876022097884 1 ['B_4618']\n",
      "@> GLU210 OE2_3431 A LYS213 NZ_3485 A 4.044565489641622 1 ['B_4615']\n",
      "@> ASP168 OD2_2755 A ALA205 N_3341 A THR211 OG1_3440 A ALA205 O_3346 A 5.910090777644623 5.862740911894368 6.3152996761832325 3.7595167242612453 2.69941049119988 3.8026876022097884 1 ['B_4618']\n",
      "@> ARG217 NH1_3561 A LYS213 NZ_3485 A 4.297013032328388 1 ['B_4789']\n",
      "@> TYR194 OH_3177 A THR221 N_3618 A 4.824254761100412 1 ['B_4654']\n",
      "@> ASP224 N_3666 A PHE222 O_3637 A 3.857374625311888 1 ['B_4543']\n",
      "@> THR227 OG1_3722 A GLY229 N_3743 A 3.8545600267734845 1 ['B_4792']\n",
      "@> ASN241 ND2_3957 A SER243 OG_3983 A 3.282970606021322 1 ['B_4849']\n",
      "@> LEU248 N_4057 A HIS122 ND1_2036 A 6.026982993173285 1 ['B_4816']\n"
     ]
    },
    {
     "name": "stdout",
     "output_type": "stream",
     "text": [
      "align__addH_5orlA.pdb\n"
     ]
    },
    {
     "name": "stderr",
     "output_type": "stream",
     "text": [
      "@> 4161 atoms and 1 coordinate set(s) were parsed in 0.04s.\n",
      "@> 13 water bridges detected using method cluster.\n",
      "@> TYR86 OH_1477 A ARG11 NH2_181 A 4.925969752241685 1 ['B_4089']\n",
      "@> LYS145 NZ_2429 A ILE67 O_1127 A 4.950588449871388 1 ['B_4086']\n",
      "@> TYR86 N_1458 A TYR71 OH_1222 A 5.2303274276090965 1 ['B_4080']\n",
      "@> TYR86 OH_1477 A ARG11 NH2_181 A 4.925969752241685 1 ['B_4089']\n",
      "@> ASP103 OD2_1760 A ASP103 N_1749 A 3.225222627974699 1 ['B_4095']\n",
      "@> TYR120 OH_2026 A LYS124 NZ_2085 A 3.6148583651368686 1 ['B_4107']\n",
      "@> LYS145 NZ_2429 A ILE67 O_1127 A 4.950588449871388 1 ['B_4086']\n",
      "@> LEU227 N_3747 A GLU161 OE2_2671 A 6.226889271538398 2 ['B_4101', 'B_4125']\n",
      "@> GLY178 O_2945 A GLU174 OE2_2883 A 4.726966680652616 1 ['B_4134']\n",
      "@> GLY208 N_3433 A THR206 OG1_3412 A 3.8730428605942397 1 ['B_4146']\n",
      "@> GLN223 OE1_3688 A HIS219 N_3619 A ASN220 N_3636 A 5.747062293032852 4.9304228013427 2.796178821177215 1 ['B_4149']\n",
      "@> GLN223 OE1_3688 A HIS219 N_3619 A ASN220 N_3636 A 5.747062293032852 4.9304228013427 2.796178821177215 1 ['B_4149']\n",
      "@> LEU227 N_3747 A GLU161 OE2_2671 A 6.226889271538398 2 ['B_4101', 'B_4125']\n"
     ]
    },
    {
     "name": "stdout",
     "output_type": "stream",
     "text": [
      "align__addH_2wqeA.pdb\n"
     ]
    },
    {
     "name": "stderr",
     "output_type": "stream",
     "text": [
      "@> 4740 atoms and 1 coordinate set(s) were parsed in 0.05s.\n",
      "@> 6 water bridges detected using method cluster.\n",
      "@> LEU97 N_1592 A SER87 O_1419 A 5.858009388862396 1 ['B_4656']\n",
      "@> TYR113 N_1866 A TYR98 OH_1630 A 5.104411229515118 1 ['B_4674']\n",
      "@> ARG121 NH2_2009 A ARG121 NE_2003 A 2.289769857431094 1 ['B_4707']\n",
      "@> SER179 N_2933 A GLY177 N_2902 A ASP175 O_2875 A TRP178 N_2909 A 4.1165269342007225 5.689555694428167 2.6974749303747036 3.7598837747994316 2.8093922830391644 5.258578800398452 1 ['B_4704']\n",
      "@> SER179 N_2933 A GLY177 N_2902 A ASP175 O_2875 A TRP178 N_2909 A 4.1165269342007225 5.689555694428167 2.6974749303747036 3.7598837747994316 2.8093922830391644 5.258578800398452 1 ['B_4704']\n",
      "@> PRO222 O_3604 A THR241 N_3926 A 5.062762388261965 1 ['B_4701']\n"
     ]
    },
    {
     "name": "stdout",
     "output_type": "stream",
     "text": [
      "align__addH_8guwA.pdb\n"
     ]
    },
    {
     "name": "stderr",
     "output_type": "stream",
     "text": [
      "@> 4542 atoms and 1 coordinate set(s) were parsed in 0.04s.\n",
      "@> 22 water bridges detected using method cluster.\n",
      "@> GLU5 N_72 A GLU5 OE2_86 A 4.22551215830696 1 ['B_4413']\n",
      "@> TYR86 N_1437 A ILE32 O_518 A 4.891985690903026 1 ['B_4407']\n",
      "@> HIS64 N_1064 A LEU62 O_1026 A 4.203265516238537 1 ['B_4389']\n",
      "@> LYS145 NZ_2408 A ILE67 O_1114 A HIS64 O_1069 A 5.050195045738333 5.183503351981166 3.0708033150952545 1 ['B_4362']\n",
      "@> TYR86 N_1437 A ILE32 O_518 A 4.891985690903026 1 ['B_4407']\n",
      "@> ASP103 N_1728 A ARG106 NE_1787 A 5.386261876292314 1 ['B_4419']\n",
      "@> ARG106 NH2_1793 A ASP103 OD2_1739 A 5.2264980627567486 1 ['B_4410']\n",
      "@> ARG106 NH2_1793 A ASP103 OD2_1739 A 5.2264980627567486 1 ['B_4410']\n",
      "@> ASP148 OD2_2452 A ARG129 NH2_2165 A LYS132 N_2199 A ASP130 O_2173 A 5.136367101366488 5.895487257216317 4.492605702707504 5.637099342747117 3.9759583750336223 4.102447805883696 1 ['B_4368']\n",
      "@> ASN135 ND2_2261 A LYS132 NZ_2217 A ARG129 NH2_2165 A 5.43302236328915 3.445492562754998 4.531331261340315 1 ['B_4425']\n",
      "@> ASP148 OD2_2452 A ARG129 NH2_2165 A LYS132 N_2199 A ASP130 O_2173 A 5.136367101366488 5.895487257216317 4.492605702707504 5.637099342747117 3.9759583750336223 4.102447805883696 1 ['B_4368']\n",
      "@> ASN135 ND2_2261 A LYS132 NZ_2217 A ARG129 NH2_2165 A 5.43302236328915 3.445492562754998 4.531331261340315 1 ['B_4425']\n",
      "@> LYS145 NZ_2408 A ILE67 O_1114 A HIS64 O_1069 A 5.050195045738333 5.183503351981166 3.0708033150952545 1 ['B_4362']\n",
      "@> TRP151 NE1_2493 A ASP148 O_2446 A 3.9818759398052554 1 ['B_4323']\n",
      "@> ASP148 OD2_2452 A ARG129 NH2_2165 A LYS132 N_2199 A ASP130 O_2173 A 5.136367101366488 5.895487257216317 4.492605702707504 5.637099342747117 3.9759583750336223 4.102447805883696 1 ['B_4368']\n",
      "@> ASP157 O_2576 A TRP176 NE1_2891 A LEU159 N_2604 A 5.179486074891986 3.942044393458806 4.807055855718761 1 ['B_4332']\n",
      "@> ASP157 O_2576 A ASP157 OD1_2581 A PHE192 N_3133 A 4.267876404021092 5.5745696694901925 4.777928630693429 1 ['B_4383']\n",
      "@> ASP157 O_2576 A TRP176 NE1_2891 A LEU159 N_2604 A 5.179486074891986 3.942044393458806 4.807055855718761 1 ['B_4332']\n",
      "@> ASP170 OD1_2792 A GLU162 OE2_2665 A 5.135265718538819 1 ['B_4326']\n",
      "@> ASP157 O_2576 A TRP176 NE1_2891 A LEU159 N_2604 A 5.179486074891986 3.942044393458806 4.807055855718761 1 ['B_4332']\n",
      "@> ASP157 O_2576 A ASP157 OD1_2581 A PHE192 N_3133 A 4.267876404021092 5.5745696694901925 4.777928630693429 1 ['B_4383']\n",
      "@> LYS228 NZ_3752 A GLN233 OE1_3825 A 4.686070635404464 1 ['B_4350']\n"
     ]
    },
    {
     "name": "stdout",
     "output_type": "stream",
     "text": [
      "align__addH_6hjjA.pdb\n"
     ]
    },
    {
     "name": "stderr",
     "output_type": "stream",
     "text": [
      "@> 5193 atoms and 1 coordinate set(s) were parsed in 0.05s.\n",
      "@> 53 water bridges detected using method cluster.\n",
      "@> ARG25 NH2_403 A ARG11 N_160 A 5.4210409516992195 1 ['B_4848']\n",
      "@> TYR86 OH_1464 A ARG11 NH2_181 A 3.9989622403818736 1 ['B_4815']\n"
     ]
    },
    {
     "name": "stdout",
     "output_type": "stream",
     "text": [
      "align__addH_8ssoA.pdb\n"
     ]
    },
    {
     "name": "stderr",
     "output_type": "stream",
     "text": [
      "@> PHE18 N_275 A SER152 O_2517 A 4.554326953568447 1 ['B_4542']\n",
      "@> LYS36 NZ_598 A ASP148 O_2454 A 5.50290777680309 1 ['B_4539']\n",
      "@> GLN51 N_827 A GLY47 O_778 A 5.464869440343474 1 ['B_4683']\n",
      "@> HIS50 N_810 A GLU49 N_795 A 2.8431999577940363 1 ['B_4911']\n",
      "@> GLN51 N_827 A GLY47 O_778 A 5.464869440343474 1 ['B_4683']\n",
      "@> ARG54 NH2_908 A GLU55 OE2_925 A ARG54 NE_902 A 4.941561898833201 2.2902395071258383 5.3319558325252485 1 ['B_4641']\n",
      "@> GLU55 OE1_924 A PHE149 N_2461 A 4.62890926677117 1 ['B_4749']\n",
      "@> ARG54 NH2_908 A GLU55 OE2_925 A ARG54 NE_902 A 4.941561898833201 2.2902395071258383 5.3319558325252485 1 ['B_4641']\n",
      "@> ILE146 O_2425 A GLN59 NE2_990 A LEU68 O_1133 A 4.708680706949667 4.429918735146278 5.175975463620355 1 ['B_4686']\n",
      "@> LEU62 O_1026 A LEU70 N_1171 A 5.530499615767098 1 ['B_4440']\n",
      "@> LYS256 NZ_4209 A ASN66 ND2_1106 A 4.860865560782355 1 ['B_4563']\n",
      "@> ARG69 NH2_1168 A ARG69 NE_1162 A 2.291204486727451 1 ['B_4479']\n",
      "@> LEU62 O_1026 A LEU70 N_1171 A 5.530499615767098 1 ['B_4440']\n",
      "@> TYR86 OH_1464 A ARG11 NH2_181 A 3.9989622403818736 1 ['B_4815']\n",
      "@> ARG94 NE_1582 A THR91 N_1516 A 5.681369113162775 1 ['B_4908']\n",
      "@> ARG94 NE_1582 A ARG94 NH2_1588 A 2.2905732906851077 1 ['B_4926']\n",
      "@> GLU95 OE2_1605 A GLU95 N_1591 A 4.441776333855635 1 ['B_4707']\n",
      "@> GLN105 OE1_1776 A GLU104 N_1748 A 3.9603472070009205 1 ['B_4893']\n",
      "@> SER119 OG_1992 A ARG242 NH2_3989 A 4.838504314351697 1 ['B_4878']\n",
      "@> ARG125 NH2_2097 A ARG125 NE_2091 A 2.291323634932439 1 ['B_4914']\n",
      "@> LYS132 NZ_2225 A ASN135 ND2_2269 A 3.1814194945024177 1 ['B_4587']\n",
      "@> ILE146 O_2425 A GLN59 NE2_990 A LEU68 O_1133 A 4.708680706949667 4.429918735146278 5.175975463620355 1 ['B_4686']\n",
      "@> ASP148 N_2449 A ALA147 N_2439 A 2.84634397078076 1 ['B_4320']\n",
      "@> LYS36 NZ_598 A ASP148 O_2454 A 5.50290777680309 1 ['B_4539']\n",
      "@> GLU55 OE1_924 A PHE149 N_2461 A 4.62890926677117 1 ['B_4749']\n",
      "@> PHE18 N_275 A SER152 O_2517 A 4.554326953568447 1 ['B_4542']\n",
      "@> ASP161 O_2641 A PHE196 N_3198 A 5.462929067817009 1 ['B_4554']\n",
      "@> ALA198 N_3233 A ASP161 OD1_2646 A 4.816403741382153 1 ['B_4722']\n",
      "@> SER181 OG_2976 A TYR162 O_2653 A 3.4696665545841707 1 ['B_4794']\n",
      "@> TRP180 NE1_2956 A LEU163 O_2674 A 3.3953004285335333 1 ['B_4506']\n",
      "@> GLU166 OE1_2729 A HIS233 O_3826 A 4.23426664252501 1 ['B_4515']\n",
      "@> GLU166 OE2_2730 A ASP174 N_2847 A 5.500786216533052 1 ['B_4410']\n",
      "@> HIS173 ND1_2840 A HIS173 N_2830 A 3.3427440823371435 1 ['B_4626']\n",
      "@> GLU166 OE2_2730 A ASP174 N_2847 A 5.500786216533052 1 ['B_4410']\n",
      "@> GLU175 OE2_2873 A LYS176 NZ_2892 A 4.7188288801354075 1 ['B_4758']\n",
      "@> TRP180 NE1_2956 A LEU163 O_2674 A 3.3953004285335333 1 ['B_4506']\n",
      "@> SER181 OG_2976 A TYR162 O_2653 A 3.4696665545841707 1 ['B_4794']\n",
      "@> GLU197 N_3218 A PRO195 O_3188 A 3.7562939182124717 1 ['B_4350']\n",
      "@> ASP161 O_2641 A PHE196 N_3198 A 5.462929067817009 1 ['B_4554']\n",
      "@> GLU197 O_3223 A ARG207 NH1_3399 A 3.2399618824918295 1 ['B_4503']\n",
      "@> ALA198 N_3233 A ASP161 OD1_2646 A 4.816403741382153 1 ['B_4722']\n",
      "@> THR214 O_3515 A THR214 N_3510 A 2.705814479967166 1 ['B_4605']\n",
      "@> ARG224 NH2_3673 A ASP217 N_3558 A 4.105913053146646 1 ['B_4524']\n",
      "@> THR220 OG1_3614 A THR220 N_3606 A 2.9084899862299682 1 ['B_4773']\n",
      "@> GLY222 N_3635 A THR220 OG1_3614 A 3.8864280515661136 2 ['B_4761', 'B_5130']\n",
      "@> GLY222 N_3635 A THR220 OG1_3614 A 3.8864280515661136 2 ['B_4761', 'B_5130']\n",
      "@> ARG224 NH2_3673 A ASP217 N_3558 A 4.105913053146646 1 ['B_4524']\n",
      "@> GLU166 OE1_2729 A HIS233 O_3826 A 4.23426664252501 1 ['B_4515']\n",
      "@> ASN234 ND2_3849 A SER236 OG_3875 A 3.85031803881186 1 ['B_4866']\n",
      "@> SER119 OG_1992 A ARG242 NH2_3989 A 4.838504314351697 1 ['B_4878']\n",
      "@> LYS256 NZ_4209 A ASN66 ND2_1106 A 4.860865560782355 1 ['B_4563']\n",
      "@> 4088 atoms and 1 coordinate set(s) were parsed in 0.04s.\n",
      "@> 4815 atoms and 1 coordinate set(s) were parsed in 0.05s.\n"
     ]
    },
    {
     "name": "stdout",
     "output_type": "stream",
     "text": [
      "align__addH_2xneA.pdb\n",
      "align__addH_5os0A.pdb\n"
     ]
    },
    {
     "name": "stderr",
     "output_type": "stream",
     "text": [
      "@> 32 water bridges detected using method cluster.\n",
      "@> TYR86 OH_1464 A ARG11 NH2_181 A 5.085064011396511 1 ['B_4503']\n",
      "@> TYR86 N_1445 A ILE32 O_518 A 5.0176641976122704 1 ['B_4602']\n",
      "@> ASP148 OD1_2459 A GLU55 OE2_925 A LYS36 NZ_598 A 4.118953872040813 3.6985875682481812 2.787227116687836 1 ['B_4392']\n",
      "@> ARG54 NE_902 A GLY150 O_2487 A 5.147359128718339 1 ['B_4398']\n",
      "@> ARG69 NE_1162 A LEU62 O_1026 A LEU70 N_1171 A 4.48997873046187 4.581103578833378 6.227327596971271 1 ['B_4638']\n",
      "@> LEU70 O_1176 A ARG63 NH2_1061 A 5.512927443745293 1 ['B_4452']\n",
      "@> ARG69 NE_1162 A LEU62 O_1026 A LEU70 N_1171 A 4.48997873046187 4.581103578833378 6.227327596971271 1 ['B_4638']\n",
      "@> LEU70 O_1176 A ARG63 NH2_1061 A 5.512927443745293 1 ['B_4452']\n",
      "@> TYR86 N_1445 A ILE32 O_518 A 5.0176641976122704 1 ['B_4602']\n",
      "@> TYR86 OH_1464 A ARG11 NH2_181 A 5.085064011396511 1 ['B_4503']\n",
      "@> LEU89 O_1495 A THR91 N_1516 A 4.009970573458113 1 ['B_4575']\n",
      "@> ASP103 N_1736 A ASP103 OD2_1747 A 3.8904697659794274 1 ['B_4659']\n",
      "@> HIS128 ND1_2145 A SER152 N_2512 A ASP148 O_2454 A HIS128 O_2140 A 5.8706525190987024 4.357071837828704 3.2734278669309322 5.668985270751728 3.4397332745432445 5.578106219856347 1 ['B_4623']\n",
      "@> ASP130 N_2176 A ILE131 N_2188 A 2.784549694295295 1 ['B_4617']\n",
      "@> ASN135 OD1_2268 A ASN135 ND2_2269 A 2.237624856851569 1 ['B_4674']\n",
      "@> ASP148 N_2449 A PHE149 N_2461 A 3.1453365479706634 1 ['B_4395']\n",
      "@> TRP151 N_2488 A ASP148 OD2_2460 A ASP148 O_2454 A 6.5539275247747435 4.650267304145002 4.160712679337515 1 ['B_4467']\n",
      "@> HIS128 ND1_2145 A SER152 N_2512 A ASP148 O_2454 A HIS128 O_2140 A 5.8706525190987024 4.357071837828704 3.2734278669309322 5.668985270751728 3.4397332745432445 5.578106219856347 1 ['B_4623']\n",
      "@> ASP148 OD1_2459 A GLU55 OE2_925 A LYS36 NZ_598 A 4.118953872040813 3.6985875682481812 2.787227116687836 1 ['B_4392']\n",
      "@> ASP148 N_2449 A PHE149 N_2461 A 3.1453365479706634 1 ['B_4395']\n",
      "@> ARG54 NE_902 A GLY150 O_2487 A 5.147359128718339 1 ['B_4398']\n",
      "@> TRP151 N_2488 A ASP148 OD2_2460 A ASP148 O_2454 A 6.5539275247747435 4.650267304145002 4.160712679337515 1 ['B_4467']\n",
      "@> HIS128 ND1_2145 A SER152 N_2512 A ASP148 O_2454 A HIS128 O_2140 A 5.8706525190987024 4.357071837828704 3.2734278669309322 5.668985270751728 3.4397332745432445 5.578106219856347 1 ['B_4623']\n",
      "@> TRP187 NE1_3064 A LEU170 N_2777 A ASP168 O_2749 A 4.489213071352261 5.185250331469062 3.899055911371368 1 ['B_4551']\n",
      "@> ASP168 OD1_2754 A PHE203 N_3306 A 5.130952055905413 1 ['B_4683']\n",
      "@> ARG178 NH1_2915 A GLU173 OE1_2837 A HIS240 O_3934 A 5.28608371102842 5.993893058772406 4.250721468174551 1 ['B_4707']\n",
      "@> TRP187 NE1_3064 A LEU170 N_2777 A ASP168 O_2749 A 4.489213071352261 5.185250331469062 3.899055911371368 1 ['B_4551']\n",
      "@> TYR194 OH_3177 A THR221 N_3618 A 4.892907315696875 1 ['B_4524']\n",
      "@> ASP168 OD1_2754 A PHE203 N_3306 A 5.130952055905413 1 ['B_4683']\n",
      "@> THR211 OG1_3440 A ALA205 N_3341 A 3.7565609272311815 1 ['B_4542']\n",
      "@> TYR194 OH_3177 A THR221 N_3618 A 4.892907315696875 1 ['B_4524']\n",
      "@> ARG178 NH1_2915 A GLU173 OE1_2837 A HIS240 O_3934 A 5.28608371102842 5.993893058772406 4.250721468174551 1 ['B_4707']\n",
      "@> 5237 atoms and 1 coordinate set(s) were parsed in 0.05s.\n"
     ]
    },
    {
     "name": "stdout",
     "output_type": "stream",
     "text": [
      "align__addH_6vphA.pdb\n"
     ]
    },
    {
     "name": "stderr",
     "output_type": "stream",
     "text": [
      "@> 25 water bridges detected using method cluster.\n",
      "@> SER50 OG_800 A PHE15 N_212 A GLU47 OE2_751 A 4.385613754082773 2.5965912269743203 5.0620124456583495 1 ['B_4742']\n",
      "@> ASP27 OD1_428 A ASP27 OD2_429 A 2.197989535916858 1 ['B_4769']\n",
      "@> GLY35 O_554 A LYS36 NZ_573 A 4.9684196682647475 1 ['B_4835']\n",
      "@> SER50 OG_800 A PHE15 N_212 A GLU47 OE2_751 A 4.385613754082773 2.5965912269743203 5.0620124456583495 1 ['B_4742']\n",
      "@> TYR107 N_1776 A ILE53 O_849 A 5.013636305118272 1 ['B_4982']\n",
      "@> PHE60 N_968 A GLN63 OE1_1033 A 4.6681956899855885 1 ['B_4775']\n",
      "@> GLN80 NE2_1321 A ILE167 O_2754 A ALA168 O_2773 A 6.36348866581846 5.264250563945453 3.665455769750878 1 ['B_4883']\n",
      "@> PRO86 O_1416 A LYS166 NZ_2745 A GLU106 OE2_1775 A 2.6330681723039393 5.52921097445196 4.134347106859801 1 ['B_4958']\n",
      "@> LEU89 O_1464 A LEU91 N_1502 A 3.5291506060240607 1 ['B_4988']\n",
      "@> PRO86 O_1416 A LYS166 NZ_2745 A GLU106 OE2_1775 A 2.6330681723039393 5.52921097445196 4.134347106859801 1 ['B_4958']\n",
      "@> TYR107 N_1776 A ILE53 O_849 A 5.013636305118272 1 ['B_4982']\n",
      "@> ARG150 N_2481 A ASP202 OD2_3291 A ARG150 O_2486 A 4.972287803416052 2.776118333212762 5.6244545513320645 1 ['B_5045']\n",
      "@> SER209 OG_3409 A ASP151 OD1_2515 A ILE152 N_2517 A 6.781248852534462 5.773703231029455 3.143382413897488 1 ['B_5009']\n",
      "@> HIS175 NE2_2883 A ASP151 OD2_2516 A 6.376102257649259 1 ['B_4922']\n",
      "@> PRO86 O_1416 A LYS166 NZ_2745 A GLU106 OE2_1775 A 2.6330681723039393 5.52921097445196 4.134347106859801 1 ['B_4958']\n",
      "@> GLN80 NE2_1321 A ILE167 O_2754 A ALA168 O_2773 A 6.36348866581846 5.264250563945453 3.665455769750878 1 ['B_4883']\n",
      "@> SER173 N_2841 A TRP172 N_2817 A 2.7588008264461568 1 ['B_4838']\n",
      "@> HIS175 N_2868 A ALA176 N_2885 A SER173 O_2846 A 2.7548330257930305 4.014529362204241 5.246026782241962 1 ['B_4895']\n",
      "@> HIS175 NE2_2883 A ASP151 OD2_2516 A 6.376102257649259 1 ['B_4922']\n",
      "@> HIS175 N_2868 A ALA176 N_2885 A SER173 O_2846 A 2.7548330257930305 4.014529362204241 5.246026782241962 1 ['B_4895']\n",
      "@> THR187 N_3036 A GLY186 N_3029 A 2.921495678586564 1 ['B_4991']\n",
      "@> ARG150 N_2481 A ASP202 OD2_3291 A ARG150 O_2486 A 4.972287803416052 2.776118333212762 5.6244545513320645 1 ['B_5045']\n",
      "@> SER209 OG_3409 A ASP151 OD1_2515 A ILE152 N_2517 A 6.781248852534462 5.773703231029455 3.143382413897488 1 ['B_5009']\n",
      "@> THR242 N_3943 A PRO223 O_3621 A 5.075053201691585 1 ['B_5039']\n",
      "@> ARG252 NH2_4106 A ARG252 NH1_4103 A 2.293108152704529 1 ['B_4787']\n",
      "@> 4496 atoms and 1 coordinate set(s) were parsed in 0.04s.\n",
      "@> 1 water bridges detected using method cluster.\n",
      "@> ASP168 O_2747 A TRP187 NE1_3062 A 5.043652743795909 1 ['B_4436']\n"
     ]
    },
    {
     "name": "stdout",
     "output_type": "stream",
     "text": [
      "align__addH_6i2uA.pdb\n",
      "align__addH_6vplA.pdb\n"
     ]
    },
    {
     "name": "stderr",
     "output_type": "stream",
     "text": [
      "@> 5317 atoms and 1 coordinate set(s) were parsed in 0.06s.\n",
      "@> 39 water bridges detected using method cluster.\n",
      "@> SER4 O_56 A ARG71 NH1_1162 A SER2 OG_28 A 5.5370813611504754 3.9964581819406075 5.743066254188613 1 ['B_5107']\n",
      "@> GLN19 O_288 A ASP24 OD1_378 A 5.752032075710287 1 ['B_4759']\n",
      "@> TYR104 N_1726 A ILE50 O_799 A 4.860159976790888 1 ['B_4969']\n",
      "@> THR96 O_1584 A ALA59 N_960 A 4.650966996227772 1 ['B_4936']\n",
      "@> GLY65 O_1059 A HIS68 N_1091 A ARG72 NH2_1189 A GLN69 N_1108 A 5.125487684113582 8.232319600209896 5.654396254243242 6.8896848984550845 2.7550965500323215 4.495576603729497 2 ['B_5080', 'B_5176']\n",
      "@> HIS68 N_1091 A GLU67 N_1076 A 2.8219121176960855 2 ['B_5077', 'B_5110']\n",
      "@> HIS68 N_1091 A GLU67 N_1076 A 2.8219121176960855 2 ['B_5077', 'B_5110']\n",
      "@> GLY65 O_1059 A HIS68 N_1091 A ARG72 NH2_1189 A GLN69 N_1108 A 5.125487684113582 8.232319600209896 5.654396254243242 6.8896848984550845 2.7550965500323215 4.495576603729497 2 ['B_5080', 'B_5176']\n",
      "@> ARG71 NH2_1165 A ARG71 NE_1159 A 2.2929842999898606 1 ['B_4978']\n",
      "@> SER4 O_56 A ARG71 NH1_1162 A SER2 OG_28 A 5.5370813611504754 3.9964581819406075 5.743066254188613 1 ['B_5107']\n",
      "@> GLY65 O_1059 A HIS68 N_1091 A ARG72 NH2_1189 A GLN69 N_1108 A 5.125487684113582 8.232319600209896 5.654396254243242 6.8896848984550845 2.7550965500323215 4.495576603729497 2 ['B_5080', 'B_5176']\n",
      "@> LEU80 O_1307 A GLN77 O_1262 A 3.7067631432288746 1 ['B_4711']\n",
      "@> HIS82 O_1350 A LYS163 NZ_2697 A ILE85 O_1395 A GLU103 OE1_1724 A 5.457447938368262 3.0786188461711235 6.514753871022297 5.2625792155558155 2.7355500360987763 5.327512928187039 1 ['B_4954']\n",
      "@> LEU88 O_1457 A LEU88 N_1452 A 2.989595792076249 1 ['B_4657']\n",
      "@> HIS93 O_1545 A HIS93 N_1540 A 2.7302741620577256 1 ['B_5101']\n",
      "@> THR96 OG1_1587 A THR96 N_1579 A 2.861833852619684 1 ['B_4756']\n",
      "@> THR96 O_1584 A ALA59 N_960 A 4.650966996227772 1 ['B_4936']\n",
      "@> HIS82 O_1350 A LYS163 NZ_2697 A ILE85 O_1395 A GLU103 OE1_1724 A 5.457447938368262 3.0786188461711235 6.514753871022297 5.2625792155558155 2.7355500360987763 5.327512928187039 1 ['B_4954']\n",
      "@> TYR104 N_1726 A ILE50 O_799 A 4.860159976790888 1 ['B_4969']\n",
      "@> ASP199 N_3232 A HIS140 NE2_2323 A 5.728352991916612 1 ['B_4606']\n",
      "@> PRO174 O_2851 A ARG143 NE_2372 A 5.246135053541799 1 ['B_5146']\n",
      "@> ASP148 N_2457 A ASP199 OD1_3242 A ILE149 N_2469 A 4.62791454112973 2.7979074323501103 5.226299742647752 1 ['B_4819']\n",
      "@> LYS163 NZ_2697 A GLU161 OE2_2659 A 3.638212198319385 1 ['B_4708']\n",
      "@> HIS82 O_1350 A LYS163 NZ_2697 A ILE85 O_1395 A GLU103 OE1_1724 A 5.457447938368262 3.0786188461711235 6.514753871022297 5.2625792155558155 2.7355500360987763 5.327512928187039 1 ['B_4954']\n",
      "@> ASP166 N_2730 A PHE167 N_2742 A 3.1472837495211627 1 ['B_4645']\n",
      "@> TRP169 N_2769 A ASP166 O_2735 A 4.77176927355043 1 ['B_4990']\n",
      "@> TRP169 N_2769 A ASP166 O_2735 A 4.77176927355043 1 ['B_4990']\n",
      "@> PRO174 O_2851 A ARG143 NE_2372 A 5.246135053541799 1 ['B_5146']\n",
      "@> ARG192 NH2_3130 A GLU190 OE2_3101 A 4.454018073605 1 ['B_5161']\n",
      "@> ASP199 N_3232 A HIS140 NE2_2323 A 5.728352991916612 1 ['B_4606']\n",
      "@> ASP148 N_2457 A ASP199 OD1_3242 A ILE149 N_2469 A 4.62791454112973 2.7979074323501103 5.226299742647752 1 ['B_4819']\n",
      "@> PRO216 O_3508 A THR235 N_3830 A 5.105361985207319 1 ['B_5005']\n",
      "@> THR221 N_3577 A THR221 OG1_3585 A 2.9774850125567394 1 ['B_4624']\n",
      "@> GLU233 OE2_3809 A ARG231 NH1_3773 A 4.310033642560113 1 ['B_4663']\n",
      "@> PRO216 O_3508 A THR235 N_3830 A 5.105361985207319 1 ['B_5005']\n",
      "@> THR241 N_3926 A THR241 OG1_3934 A 2.934363474418259 1 ['B_4846']\n",
      "@> GLN258 OE1_4210 A HIS254 N_4141 A ASN255 N_4158 A 5.4979553472177285 4.922612517759244 2.8208457951472643 1 ['B_4915']\n",
      "@> GLN258 OE1_4210 A HIS254 N_4141 A ASN255 N_4158 A 5.4979553472177285 4.922612517759244 2.8208457951472643 1 ['B_4915']\n",
      "@> ARG263 N_4288 A LEU262 N_4269 A 2.7758267236987226 1 ['B_5071']\n",
      "@> 4462 atoms and 1 coordinate set(s) were parsed in 0.04s.\n",
      "@> 3 water bridges detected using method cluster.\n",
      "@> TYR89 N_1513 A ILE35 O_586 A 5.13617075261327 1 ['B_4423']\n",
      "@> ARG97 NH1_1653 A THR94 O_1589 A ARG97 NH2_1656 A LEU92 O_1563 A 5.4249204602463985 2.2964698996503294 4.262241898344107 5.915008875732987 4.16632427926584 4.842861344288105 1 ['B_4429']\n",
      "@> ARG97 NH1_1653 A THR94 O_1589 A ARG97 NH2_1656 A LEU92 O_1563 A 5.4249204602463985 2.2964698996503294 4.262241898344107 5.915008875732987 4.16632427926584 4.842861344288105 1 ['B_4429']\n"
     ]
    },
    {
     "name": "stdout",
     "output_type": "stream",
     "text": [
      "align__addH_4dedA.pdb\n",
      "align__addH_3uohA.pdb\n"
     ]
    },
    {
     "name": "stderr",
     "output_type": "stream",
     "text": [
      "@> 4435 atoms and 1 coordinate set(s) were parsed in 0.04s.\n",
      "@> 2 water bridges detected using method cluster.\n",
      "@> ASN21 ND2_337 A LYS16 NZ_266 A 5.7574228609682665 1 ['B_4405']\n",
      "@> LYS37 NZ_622 A ASP149 O_2478 A 3.770736532827511 1 ['B_4432']\n",
      "@> 4147 atoms and 1 coordinate set(s) were parsed in 0.04s.\n",
      "@> 0 water bridges detected using method cluster.\n",
      "@> 4411 atoms and 1 coordinate set(s) were parsed in 0.04s.\n",
      "@> 12 water bridges detected using method cluster.\n",
      "@> TYR87 N_1469 A ILE33 O_542 A 4.961734575730546 1 ['B_4351']\n",
      "@> HIS65 N_1088 A LEU63 O_1050 A 4.36317476156984 1 ['B_4333']\n",
      "@> TYR87 N_1469 A ILE33 O_542 A 4.961734575730546 1 ['B_4351']\n",
      "@> THR92 OG1_1548 A THR92 N_1540 A 2.9749403355361634 1 ['B_4396']\n",
      "@> SER153 N_2536 A HIS129 O_2164 A TRP152 N_2512 A 3.4771138894203593 2.64405011298954 4.635236132064901 1 ['B_4375']\n",
      "@> ARG130 N_2176 A ILE132 N_2212 A SER187 OG_3056 A ASP184 OD1_3002 A 4.8003083234309 6.413051847599553 2.843657679820128 4.883741393644838 5.3080313676541175 5.181254191795653 1 ['B_4327']\n",
      "@> SER153 N_2536 A HIS129 O_2164 A TRP152 N_2512 A 3.4771138894203593 2.64405011298954 4.635236132064901 1 ['B_4375']\n",
      "@> ASP167 OD2_2745 A ASP167 O_2739 A PHE202 N_3278 A 4.3009931411245 5.216814641138782 5.593230998269245 1 ['B_4324']\n",
      "@> TYR168 N_2746 A LEU169 N_2767 A 2.773917446500528 1 ['B_4402']\n",
      "@> ARG130 N_2176 A ILE132 N_2212 A SER187 OG_3056 A ASP184 OD1_3002 A 4.8003083234309 6.413051847599553 2.843657679820128 4.883741393644838 5.3080313676541175 5.181254191795653 1 ['B_4327']\n",
      "@> PRO201 O_3268 A THR220 N_3590 A 5.136935273098152 1 ['B_4345']\n",
      "@> ASP167 OD2_2745 A ASP167 O_2739 A PHE202 N_3278 A 4.3009931411245 5.216814641138782 5.593230998269245 1 ['B_4324']\n"
     ]
    },
    {
     "name": "stdout",
     "output_type": "stream",
     "text": [
      "align__addH_4ztrA.pdb\n",
      "align__addH_2dwbA.pdb\n"
     ]
    },
    {
     "name": "stderr",
     "output_type": "stream",
     "text": [
      "@> 4643 atoms and 1 coordinate set(s) were parsed in 0.04s.\n",
      "@> 34 water bridges detected using method cluster.\n",
      "@> TYR86 N_1445 A ILE32 O_518 A 4.948339721563181 1 ['B_4481']\n",
      "@> ASP148 OD1_2459 A GLU55 OE2_925 A LYS36 NZ_598 A 4.094419372756042 3.7339418849253634 3.0045988084934088 1 ['B_4394']\n",
      "@> GLU49 OE1_808 A HIS50 ND1_820 A HIS50 N_810 A 5.443604412519338 4.647874137710705 3.2220771250856166 1 ['B_4538']\n",
      "@> GLU49 OE1_808 A HIS50 ND1_820 A HIS50 N_810 A 5.443604412519338 4.647874137710705 3.2220771250856166 1 ['B_4538']\n",
      "@> ASP148 OD1_2459 A GLU55 OE2_925 A LYS36 NZ_598 A 4.094419372756042 3.7339418849253634 3.0045988084934088 1 ['B_4394']\n",
      "@> TYR86 N_1445 A ILE32 O_518 A 4.948339721563181 1 ['B_4481']\n",
      "@> LEU89 O_1495 A THR91 N_1516 A 4.114246225008898 1 ['B_4511']\n",
      "@> THR91 OG1_1524 A THR91 N_1516 A 2.964721066137593 1 ['B_4508']\n",
      "@> THR91 OG1_1524 A THR91 N_1516 A 2.964721066137593 1 ['B_4508']\n",
      "@> GLU104 OE1_1761 A THR227 OG1_3722 A 4.281850300979704 1 ['B_4466']\n",
      "@> HIS128 ND1_2145 A TRP151 N_2488 A SER152 N_2512 A 6.244198987860647 5.874555472544278 2.744021319159167 1 ['B_4520']\n",
      "@> ASP130 OD2_2187 A ASP148 OD1_2459 A ASP148 OD2_2460 A 5.142490252786099 4.187928007977215 2.1870388656811737 2 ['B_4484', 'B_4457']\n",
      "@> ILE131 N_2188 A SER188 OG_3084 A 5.189882272267842 1 ['B_4496']\n",
      "@> GLU134 OE2_2257 A GLU134 N_2243 A 4.42849285875003 1 ['B_4424']\n",
      "@> GLU134 OE1_2256 A ASN135 OD1_2268 A ASN135 ND2_2269 A 4.996033326550175 5.433159025833864 2.253623748543666 1 ['B_4571']\n",
      "@> GLU134 OE1_2256 A ASN135 OD1_2268 A ASN135 ND2_2269 A 4.996033326550175 5.433159025833864 2.253623748543666 1 ['B_4571']\n",
      "@> ASP148 OD1_2459 A GLU55 OE2_925 A LYS36 NZ_598 A 4.094419372756042 3.7339418849253634 3.0045988084934088 1 ['B_4394']\n",
      "@> ASP130 OD2_2187 A ASP148 OD1_2459 A ASP148 OD2_2460 A 5.142490252786099 4.187928007977215 2.1870388656811737 2 ['B_4484', 'B_4457']\n",
      "@> HIS128 ND1_2145 A TRP151 N_2488 A SER152 N_2512 A 6.244198987860647 5.874555472544278 2.744021319159167 1 ['B_4520']\n",
      "@> ASP168 N_2744 A TYR169 N_2756 A 2.8773946548918183 1 ['B_4409']\n",
      "@> TRP187 NE1_3064 A LEU170 N_2777 A ASP168 O_2749 A 4.479652218643762 5.21818531675524 3.9246561632836103 1 ['B_4463']\n",
      "@> ASP168 OD1_2754 A PHE203 N_3306 A 5.027039486616348 1 ['B_4532']\n",
      "@> TRP187 NE1_3064 A LEU170 N_2777 A ASP168 O_2749 A 4.479652218643762 5.21818531675524 3.9246561632836103 1 ['B_4463']\n",
      "@> GLU173 N_2824 A ARG178 NH1_2915 A HIS240 O_3934 A 3.925694333490577 5.740741676821908 5.970296056310777 1 ['B_4559']\n",
      "@> TRP187 NE1_3064 A LEU170 N_2777 A ASP168 O_2749 A 4.479652218643762 5.21818531675524 3.9246561632836103 1 ['B_4463']\n",
      "@> ILE131 N_2188 A SER188 OG_3084 A 5.189882272267842 1 ['B_4496']\n",
      "@> ASP168 OD1_2754 A PHE203 N_3306 A 5.027039486616348 1 ['B_4532']\n",
      "@> THR221 N_3618 A ARG214 NH2_3510 A THR221 O_3623 A 4.9881417381626205 2.7555859630938775 6.27030860484554 1 ['B_4493']\n",
      "@> THR221 N_3618 A ARG214 NH2_3510 A THR221 O_3623 A 4.9881417381626205 2.7555859630938775 6.27030860484554 1 ['B_4493']\n",
      "@> PHE222 O_3637 A ARG231 NH2_3781 A 4.264428214895871 1 ['B_4553']\n",
      "@> GLU104 OE1_1761 A THR227 OG1_3722 A 4.281850300979704 1 ['B_4466']\n",
      "@> GLU173 N_2824 A ARG178 NH1_2915 A HIS240 O_3934 A 3.925694333490577 5.740741676821908 5.970296056310777 1 ['B_4559']\n",
      "@> ASN241 N_3946 A GLN244 OE1_3998 A 4.644759304851003 1 ['B_4505']\n",
      "@> LEU248 N_4057 A ARG249 N_4076 A 2.778900142142572 1 ['B_4613']\n"
     ]
    },
    {
     "name": "stdout",
     "output_type": "stream",
     "text": [
      "align__addH_5orwA.pdb\n"
     ]
    },
    {
     "name": "stderr",
     "output_type": "stream",
     "text": [
      "@> 4517 atoms and 1 coordinate set(s) were parsed in 0.04s.\n",
      "@> 29 water bridges detected using method cluster.\n",
      "@> GLY47 O_778 A GLN51 N_827 A 5.674299340006656 1 ['B_4421']\n",
      "@> ASP148 N_2449 A GLN59 OE1_989 A 5.149586682443552 1 ['B_4355']\n",
      "@> GLN59 OE1_989 A LEU68 O_1133 A 4.687100382965991 1 ['B_4370']\n",
      "@> ARG129 NH1_2170 A GLN59 NE2_990 A ASP148 O_2454 A 3.5815639042183784 4.093053383477912 2.6215197882144627 1 ['B_4412']\n",
      "@> ILE67 O_1114 A LYS145 NZ_2416 A GLU85 OE2_1444 A 5.239111565905041 3.881406446122336 3.799485491484338 1 ['B_4376']\n",
      "@> ILE67 O_1114 A LYS145 NZ_2416 A GLU85 OE2_1444 A 5.239111565905041 3.881406446122336 3.799485491484338 1 ['B_4376']\n",
      "@> ARG129 NH1_2170 A GLN59 NE2_990 A ASP148 O_2454 A 3.5815639042183784 4.093053383477912 2.6215197882144627 1 ['B_4412']\n",
      "@> GLU134 N_2243 A GLU134 OE2_2257 A 4.457751226795858 1 ['B_4313']\n",
      "@> ILE67 O_1114 A LYS145 NZ_2416 A GLU85 OE2_1444 A 5.239111565905041 3.881406446122336 3.799485491484338 1 ['B_4376']\n",
      "@> ASP148 N_2449 A GLN59 OE1_989 A 5.149586682443552 1 ['B_4355']\n",
      "@> ARG129 NH1_2170 A GLN59 NE2_990 A ASP148 O_2454 A 3.5815639042183784 4.093053383477912 2.6215197882144627 1 ['B_4412']\n",
      "@> TRP151 NE1_2501 A PHE149 N_2461 A 5.9322624689067815 1 ['B_4364']\n",
      "@> TRP151 NE1_2501 A PHE149 N_2461 A TRP151 N_2488 A 5.9322624689067815 4.7620845225594195 4.720144595242821 1 ['B_4457']\n",
      "@> SER152 N_2512 A TRP151 N_2488 A 2.825019291969521 1 ['B_4460']\n",
      "@> SER152 OG_2521 A TRP151 O_2493 A 3.502401604613606 1 ['B_4418']\n",
      "@> TRP151 NE1_2501 A PHE149 N_2461 A 5.9322624689067815 1 ['B_4364']\n",
      "@> TRP151 NE1_2501 A PHE149 N_2461 A TRP151 N_2488 A 5.9322624689067815 4.7620845225594195 4.720144595242821 1 ['B_4457']\n",
      "@> SER152 OG_2521 A TRP151 O_2493 A 3.502401604613606 1 ['B_4418']\n",
      "@> VAL153 O_2528 A GLY160 O_2638 A THR161 OG1_2647 A 3.640053021591857 5.874918978164726 3.4699433712958556 1 ['B_4379']\n",
      "@> VAL153 O_2528 A GLY160 O_2638 A THR161 OG1_2647 A 3.640053021591857 5.874918978164726 3.4699433712958556 1 ['B_4379']\n",
      "@> PHE198 N_3234 A ASP163 O_2677 A GLU199 N_3254 A 5.500463344119295 2.711413653428781 6.37702226748504 1 ['B_4349']\n",
      "@> ARG173 N_2825 A GLU168 O_2757 A MET174 N_2849 A 4.355969008154212 2.7102304330074976 4.889332981092614 1 ['B_4448']\n",
      "@> ASP176 N_2883 A GLU168 OE2_2766 A 5.36037955745673 1 ['B_4394']\n",
      "@> ARG173 N_2825 A GLU168 O_2757 A MET174 N_2849 A 4.355969008154212 2.7102304330074976 4.889332981092614 1 ['B_4448']\n",
      "@> ASP176 N_2883 A GLU168 OE2_2766 A 5.36037955745673 1 ['B_4394']\n",
      "@> PHE198 N_3234 A ASP163 O_2677 A GLU199 N_3254 A 5.500463344119295 2.711413653428781 6.37702226748504 1 ['B_4349']\n",
      "@> GLN204 OE1_3341 A THR202 OG1_3301 A 3.8324515652516755 1 ['B_4463']\n",
      "@> THR216 N_3546 A ARG209 NH1_3435 A 7.10700450260164 2 ['B_4352', 'B_4415']\n",
      "@> ASP227 OD2_3723 A ARG231 NE_3788 A 3.295965715841109 1 ['B_4295']\n"
     ]
    },
    {
     "name": "stdout",
     "output_type": "stream",
     "text": [
      "align__addH_5ew9A.pdb\n"
     ]
    },
    {
     "name": "stderr",
     "output_type": "stream",
     "text": [
      "@> 4563 atoms and 1 coordinate set(s) were parsed in 0.04s.\n",
      "@> 23 water bridges detected using method cluster.\n",
      "@> TYR86 N_1445 A ILE32 O_518 A 5.07598246647878 1 ['B_4476']\n",
      "@> ASP148 OD1_2459 A GLU55 OE1_924 A LYS36 NZ_598 A 4.239654820855115 3.796886882697458 3.711501178768509 1 ['B_4410']\n",
      "@> ILE67 O_1114 A HIS64 O_1069 A 3.077978070097319 1 ['B_4518']\n",
      "@> LYS145 NZ_2416 A GLU85 OE1_1443 A GLU85 OE2_1444 A 4.264414262240478 3.1777163183644923 2.206170890932977 1 ['B_4449']\n",
      "@> TYR86 N_1445 A ILE32 O_518 A 5.07598246647878 1 ['B_4476']\n",
      "@> HIS128 NE2_2151 A ASP148 O_2454 A TRP151 N_2488 A HIS128 O_2140 A 3.2147785304745318 6.484781723388998 4.679638447572631 4.626994380804886 5.577718261081317 4.725051745748401 1 ['B_4446']\n",
      "@> ILE131 N_2188 A ASP130 N_2176 A ARG129 N_2152 A 2.789112762152149 4.802128798772476 2.860032692120842 1 ['B_4488']\n",
      "@> ILE131 N_2188 A ASP130 N_2176 A ARG129 N_2152 A 2.789112762152149 4.802128798772476 2.860032692120842 1 ['B_4488']\n",
      "@> GLU134 OE2_2257 A TYR169 OH_2775 A 4.762387321501679 1 ['B_4434']\n",
      "@> LYS145 NZ_2416 A GLU85 OE1_1443 A GLU85 OE2_1444 A 4.264414262240478 3.1777163183644923 2.206170890932977 1 ['B_4449']\n",
      "@> ASP148 N_2449 A PHE149 N_2461 A 3.067385205676002 1 ['B_4383']\n",
      "@> HIS128 NE2_2151 A ASP148 O_2454 A TRP151 N_2488 A HIS128 O_2140 A 3.2147785304745318 6.484781723388998 4.679638447572631 4.626994380804886 5.577718261081317 4.725051745748401 1 ['B_4446']\n",
      "@> TRP151 N_2488 A ASP148 OD2_2460 A ASP148 O_2454 A 6.5322502248459555 4.626994380804886 4.089999266503606 1 ['B_4461']\n",
      "@> ASP148 OD1_2459 A GLU55 OE1_924 A LYS36 NZ_598 A 4.239654820855115 3.796886882697458 3.711501178768509 1 ['B_4410']\n",
      "@> ASP148 N_2449 A PHE149 N_2461 A 3.067385205676002 1 ['B_4383']\n",
      "@> HIS128 NE2_2151 A ASP148 O_2454 A TRP151 N_2488 A HIS128 O_2140 A 3.2147785304745318 6.484781723388998 4.679638447572631 4.626994380804886 5.577718261081317 4.725051745748401 1 ['B_4446']\n",
      "@> TRP151 N_2488 A ASP148 OD2_2460 A ASP148 O_2454 A 6.5322502248459555 4.626994380804886 4.089999266503606 1 ['B_4461']\n",
      "@> ASP168 OD1_2754 A PHE203 N_3306 A ASP168 O_2749 A 5.048552366768121 4.328826861864541 5.608485267877593 1 ['B_4509']\n",
      "@> GLU134 OE2_2257 A TYR169 OH_2775 A 4.762387321501679 1 ['B_4434']\n",
      "@> ARG178 NH1_2915 A GLU173 OE1_2837 A HIS240 O_3934 A 5.00638841881051 5.778591783471124 4.164071325037557 1 ['B_4452']\n",
      "@> TYR194 OH_3177 A THR221 N_3618 A 4.689130409788151 1 ['B_4485']\n",
      "@> ASP168 OD1_2754 A PHE203 N_3306 A ASP168 O_2749 A 5.048552366768121 4.328826861864541 5.608485267877593 1 ['B_4509']\n",
      "@> ARG178 NH1_2915 A GLU173 OE1_2837 A HIS240 O_3934 A 5.00638841881051 5.778591783471124 4.164071325037557 1 ['B_4452']\n"
     ]
    },
    {
     "name": "stdout",
     "output_type": "stream",
     "text": [
      "align__addH_6r4bA.pdb\n"
     ]
    },
    {
     "name": "stderr",
     "output_type": "stream",
     "text": [
      "@> 4590 atoms and 1 coordinate set(s) were parsed in 0.04s.\n",
      "@> 24 water bridges detected using method cluster.\n",
      "@> ASP148 N_2449 A GLN59 NE2_990 A 4.584415448015154 1 ['B_4473']\n",
      "@> LEU70 O_1176 A ARG63 NH1_1058 A LEU70 N_1171 A 4.909682168939249 2.77755828021664 5.923350150041781 1 ['B_4515']\n",
      "@> LYS145 NZ_2416 A GLU85 OE1_1443 A HIS64 O_1069 A 3.751701080843199 5.196789008609071 6.117163149696112 1 ['B_4389']\n",
      "@> LEU70 O_1176 A ARG63 NH1_1058 A LEU70 N_1171 A 4.909682168939249 2.77755828021664 5.923350150041781 1 ['B_4515']\n",
      "@> LYS145 NZ_2416 A GLU85 OE1_1443 A HIS64 O_1069 A 3.751701080843199 5.196789008609071 6.117163149696112 1 ['B_4389']\n",
      "@> HIS128 O_2140 A SER152 N_2512 A ASP148 O_2454 A TRP151 N_2488 A 3.522145652865597 5.272443456311315 4.794987069847009 5.699427515110621 2.778556999595293 4.74886312710737 1 ['B_4476']\n",
      "@> ASP181 OD1_2976 A ILE131 N_2188 A SER184 OG_3030 A 5.3559172883830115 4.908023431076914 5.035732121548964 1 ['B_4401']\n",
      "@> GLU134 OE1_2256 A GLU134 N_2243 A 4.633085041308867 1 ['B_4548']\n",
      "@> GLU134 OE2_2257 A ASN135 ND2_2269 A 4.86837847748098 1 ['B_4470']\n",
      "@> LYS145 NZ_2416 A GLU85 OE1_1443 A HIS64 O_1069 A 3.751701080843199 5.196789008609071 6.117163149696112 1 ['B_4389']\n",
      "@> ASP148 N_2449 A GLN59 NE2_990 A 4.584415448015154 1 ['B_4473']\n",
      "@> HIS128 O_2140 A SER152 N_2512 A ASP148 O_2454 A TRP151 N_2488 A 3.522145652865597 5.272443456311315 4.794987069847009 5.699427515110621 2.778556999595293 4.74886312710737 1 ['B_4476']\n",
      "@> HIS128 O_2140 A SER152 N_2512 A ASP148 O_2454 A TRP151 N_2488 A 3.522145652865597 5.272443456311315 4.794987069847009 5.699427515110621 2.778556999595293 4.74886312710737 1 ['B_4476']\n",
      "@> THR162 O_2662 A TYR165 N_2702 A 4.857687618610319 1 ['B_4452']\n",
      "@> TRP183 NE1_3010 A ASP164 O_2695 A 5.065401958383956 1 ['B_4380']\n",
      "@> ASP164 OD1_2700 A PHE199 N_3252 A 4.761899725949714 1 ['B_4443']\n",
      "@> ASP177 N_2901 A ASP177 OD1_2911 A 2.8494922354693273 1 ['B_4377']\n",
      "@> ASP181 OD1_2976 A ILE131 N_2188 A SER184 OG_3030 A 5.3559172883830115 4.908023431076914 5.035732121548964 1 ['B_4401']\n",
      "@> TRP183 NE1_3010 A ASP164 O_2695 A 5.065401958383956 1 ['B_4380']\n",
      "@> ASP164 OD1_2700 A PHE199 N_3252 A 4.761899725949714 1 ['B_4443']\n",
      "@> ARG210 NH2_3456 A GLU200 N_3272 A GLU200 O_3277 A 5.702705761303138 4.843127088978771 2.8026453575149284 1 ['B_4431']\n",
      "@> ARG210 NH2_3456 A GLU200 N_3272 A GLU200 O_3277 A 5.702705761303138 4.843127088978771 2.8026453575149284 1 ['B_4431']\n",
      "@> THR223 N_3660 A THR223 OG1_3668 A 2.975929266632525 1 ['B_4479']\n",
      "@> GLN240 O_3936 A LYS235 NZ_3871 A 5.111982492145294 1 ['B_4416']\n"
     ]
    },
    {
     "name": "stdout",
     "output_type": "stream",
     "text": [
      "align__addH_8c1hA.pdb\n"
     ]
    },
    {
     "name": "stderr",
     "output_type": "stream",
     "text": [
      "@> 4868 atoms and 1 coordinate set(s) were parsed in 0.04s.\n",
      "@> 59 water bridges detected using method cluster.\n",
      "@> LEU6 O_104 A PHE9 O_150 A 3.3273602149451715 1 ['B_4685']\n",
      "@> GLY16 O_269 A VAL23 O_367 A 3.5038089274388273 1 ['B_4520']\n",
      "@> GLY18 O_298 A LYS19 O_304 A GLY21 N_341 A GLY21 O_347 A 3.415644448709493 3.719797575137655 3.492172103433619 3.6526074248405047 5.504029523903373 2.7361074540302717 1 ['B_4439']\n",
      "@> ASP150 OD2_2506 A ASN137 ND2_2315 A LYS19 N_299 A ASN137 OD1_2314 A 3.197026430919829 7.150956089922522 2.8468798710166863 9.288203755301666 2.2381351612447364 8.340590266881591 2 ['B_4679', 'B_4553']\n",
      "@> GLY18 O_298 A LYS19 O_304 A GLY21 N_341 A GLY21 O_347 A 3.415644448709493 3.719797575137655 3.492172103433619 3.6526074248405047 5.504029523903373 2.7361074540302717 1 ['B_4439']\n",
      "@> ASN22 OD1_358 A ASN22 ND2_359 A 2.2317898646602075 1 ['B_4610']\n",
      "@> GLY16 O_269 A VAL23 O_367 A 3.5038089274388273 1 ['B_4520']\n",
      "@> LYS29 O_472 A ARG27 NH2_449 A 5.645074490208254 1 ['B_4661']\n",
      "@> THR80 O_1349 A ALA43 N_725 A 4.562822372172734 1 ['B_4646']\n",
      "@> ARG56 NH2_954 A SER154 O_2563 A 4.701328535637563 1 ['B_4490']\n",
      "@> ARG56 NH2_954 A ARG131 NH2_2219 A 5.390946670112774 1 ['B_4673']\n",
      "@> GLN61 OE1_1035 A ASP150 N_2495 A 4.687273194512989 2 ['B_4580', 'B_4733']\n",
      "@> GLN61 NE2_1036 A PHE151 N_2507 A 4.05354338819754 1 ['B_4427']\n",
      "@> LEU72 N_1217 A LEU64 O_1072 A ARG71 NE_1208 A 5.956500482665978 4.418652509532742 3.987365797114682 1 ['B_4544']\n",
      "@> HIS66 O_1115 A HIS66 N_1110 A 2.6603798600951705 1 ['B_4676']\n",
      "@> HIS66 O_1115 A LYS147 NZ_2462 A 5.218948265694915 1 ['B_4499']\n",
      "@> LEU72 N_1217 A LEU64 O_1072 A ARG71 NE_1208 A 5.956500482665978 4.418652509532742 3.987365797114682 1 ['B_4544']\n",
      "@> THR80 O_1349 A ALA43 N_725 A 4.562822372172734 1 ['B_4646']\n",
      "@> GLY92 N_1555 A ALA89 O_1517 A 3.7734920166869306 1 ['B_4529']\n",
      "@> THR93 OG1_1570 A THR93 N_1562 A 2.9352398539131355 1 ['B_4820']\n",
      "@> LYS100 NZ_1706 A GLU97 OE1_1650 A 4.881004609708949 1 ['B_4502']\n",
      "@> GLY201 O_3302 A SER102 O_1734 A 4.239562477426181 1 ['B_4442']\n",
      "@> ASP105 N_1782 A ASP105 OD2_1793 A 3.901161621876234 1 ['B_4694']\n",
      "@> ASP105 OD1_1792 A ASP105 OD2_1793 A ARG108 NE_1841 A 2.1923772485591986 5.572219037331531 5.518701387101858 2 ['B_4814', 'B_4628']\n",
      "@> ASP105 OD1_1792 A ASP105 OD2_1793 A ARG108 NE_1841 A 2.1923772485591986 5.572219037331531 5.518701387101858 2 ['B_4814', 'B_4628']\n",
      "@> GLU106 OE2_1808 A THR229 N_3761 A 4.472955398838668 1 ['B_4532']\n",
      "@> GLY144 O_2409 A TYR112 OH_1907 A 4.585127588192067 1 ['B_4433']\n",
      "@> GLU115 OE1_1955 A GLU115 OE2_1956 A 2.203043349550797 1 ['B_4535']\n",
      "@> LEU250 N_4104 A HIS124 ND1_2082 A 6.594572768572653 2 ['B_4613', 'B_4598']\n",
      "@> ASP150 O_2500 A TRP153 N_2534 A HIS130 O_2186 A SER154 N_2558 A 4.719874256799649 5.5377270608075335 5.776078340881468 4.707854500725356 2.760345992805971 3.4584349061389017 3 ['B_4517', 'B_4460', 'B_4538']\n",
      "@> ARG56 NH2_954 A ARG131 NH2_2219 A 5.390946670112774 1 ['B_4673']\n",
      "@> ASN137 OD1_2314 A ASP150 OD2_2506 A ASN137 ND2_2315 A LYS19 N_299 A 2.8468798710166863 2.2381351612447364 8.340590266881591 3.197026430919829 7.150956089922522 9.288203755301666 2 ['B_4679', 'B_4553']\n",
      "@> SER142 N_2382 A SER142 OG_2391 A 2.8955049645959847 2 ['B_4643', 'B_4574']\n",
      "@> GLY144 O_2409 A TYR112 OH_1907 A 4.585127588192067 1 ['B_4433']\n",
      "@> HIS66 O_1115 A LYS147 NZ_2462 A 5.218948265694915 1 ['B_4499']\n",
      "@> GLN61 OE1_1035 A ASP150 N_2495 A 4.687273194512989 2 ['B_4580', 'B_4733']\n",
      "@> ASP150 O_2500 A TRP153 N_2534 A HIS130 O_2186 A SER154 N_2558 A 4.719874256799649 5.5377270608075335 5.776078340881468 4.707854500725356 2.760345992805971 3.4584349061389017 3 ['B_4517', 'B_4460', 'B_4538']\n",
      "@> ASN137 OD1_2314 A ASP150 OD2_2506 A ASN137 ND2_2315 A LYS19 N_299 A 2.8468798710166863 2.2381351612447364 8.340590266881591 3.197026430919829 7.150956089922522 9.288203755301666 2 ['B_4679', 'B_4553']\n",
      "@> GLN61 NE2_1036 A PHE151 N_2507 A 4.05354338819754 1 ['B_4427']\n",
      "@> ASP150 O_2500 A TRP153 N_2534 A 4.719874256799649 3 ['B_4517', 'B_4460', 'B_4538']\n",
      "@> ASP150 O_2500 A TRP153 N_2534 A HIS130 O_2186 A SER154 N_2558 A 4.719874256799649 5.5377270608075335 5.776078340881468 4.707854500725356 2.760345992805971 3.4584349061389017 3 ['B_4517', 'B_4460', 'B_4538']\n",
      "@> ARG56 NH2_954 A SER154 O_2563 A 4.701328535637563 1 ['B_4490']\n",
      "@> THR163 N_2696 A ARG162 NH1_2690 A THR163 OG1_2704 A 4.4239960443020285 2.968747547367409 5.455314931330727 1 ['B_4625']\n",
      "@> THR163 N_2696 A ARG162 NH1_2690 A THR163 OG1_2704 A 4.4239960443020285 2.968747547367409 5.455314931330727 1 ['B_4625']\n",
      "@> LEU172 N_2824 A TRP189 NE1_3111 A 4.555878510232687 1 ['B_4607']\n",
      "@> ARG180 NH1_2962 A HIS242 O_3981 A 5.370235935226678 1 ['B_4436']\n",
      "@> ASP183 N_3002 A ASP183 OD1_3012 A 2.982940998410798 1 ['B_4655']\n",
      "@> ASP187 OD1_3077 A SER190 OG_3131 A 5.01694917255497 3 ['B_4790', 'B_4826', 'B_4637']\n",
      "@> LEU172 N_2824 A TRP189 NE1_3111 A 4.555878510232687 1 ['B_4607']\n",
      "@> GLY201 O_3302 A SER102 O_1734 A 4.239562477426181 1 ['B_4442']\n",
      "@> THR213 OG1_3487 A ALA207 N_3388 A 3.5595117642732954 1 ['B_4703']\n",
      "@> ASN208 N_3398 A GLU212 OE2_3478 A 4.228509193557467 1 ['B_4709']\n",
      "@> THR213 OG1_3487 A ALA207 N_3388 A 3.5595117642732954 1 ['B_4703']\n",
      "@> ARG216 NH1_3554 A GLU221 OE2_3644 A 5.765389665928926 1 ['B_4547']\n",
      "@> THR223 N_3665 A THR223 O_3670 A 2.698478274880123 1 ['B_4682']\n",
      "@> GLU106 OE2_1808 A THR229 N_3761 A 4.472955398838668 1 ['B_4532']\n",
      "@> HIS242 N_3976 A ASN243 N_3993 A 2.8497313908507196 1 ['B_4757']\n",
      "@> ARG180 NH1_2962 A HIS242 O_3981 A 5.370235935226678 1 ['B_4436']\n",
      "@> LEU250 N_4104 A HIS124 ND1_2082 A 6.594572768572653 2 ['B_4613', 'B_4598']\n"
     ]
    },
    {
     "name": "stdout",
     "output_type": "stream",
     "text": [
      "align__addH_5dn3A.pdb\n"
     ]
    },
    {
     "name": "stderr",
     "output_type": "stream",
     "text": [
      "@> 4812 atoms and 1 coordinate set(s) were parsed in 0.04s.\n",
      "@> 49 water bridges detected using method cluster.\n",
      "@> ASN20 OD1_312 A PHE39 N_637 A 5.4825757632703995 1 ['B_4398']\n",
      "@> LYS36 NZ_598 A ASP148 OD1_2459 A GLU55 OE2_925 A 3.6806416560159727 2.861773750665833 4.1049343478306675 1 ['B_4413']\n",
      "@> LYS40 N_657 A ALA41 N_679 A 2.839860912087067 1 ['B_4488']\n",
      "@> GLU49 OE1_808 A GLY47 O_778 A HIS50 N_810 A 3.8695954568921054 4.5024565517059685 5.076621908316591 1 ['B_4593']\n",
      "@> GLU49 OE1_808 A GLY47 O_778 A HIS50 N_810 A 3.8695954568921054 4.5024565517059685 5.076621908316591 1 ['B_4593']\n",
      "@> LYS36 NZ_598 A ASP148 OD1_2459 A GLU55 OE2_925 A 3.6806416560159727 2.861773750665833 4.1049343478306675 1 ['B_4413']\n",
      "@> LEU62 O_1026 A SER60 O_998 A ARG69 NE_1162 A LEU70 N_1171 A GLN59 O_981 A 4.343981353551142 4.072829606060139 6.200550298159028 3.868643431488613 5.079968208561939 5.944978216949159 3.8611304044282178 4.273775965115627 5.318814247555559 4.274148570183307 1 ['B_4428']\n",
      "@> LEU62 O_1026 A SER60 O_998 A ARG69 NE_1162 A LEU70 N_1171 A GLN59 O_981 A 4.343981353551142 4.072829606060139 6.200550298159028 3.868643431488613 5.079968208561939 5.944978216949159 3.8611304044282178 4.273775965115627 5.318814247555559 4.274148570183307 1 ['B_4428']\n",
      "@> ILE67 O_1114 A HIS64 O_1069 A 3.1117361713358664 1 ['B_4692']\n",
      "@> ASN116 ND2_1951 A ASN66 OD1_1105 A 4.578457054510831 1 ['B_4527']\n",
      "@> LEU62 O_1026 A SER60 O_998 A ARG69 NE_1162 A LEU70 N_1171 A GLN59 O_981 A 4.343981353551142 4.072829606060139 6.200550298159028 3.868643431488613 5.079968208561939 5.944978216949159 3.8611304044282178 4.273775965115627 5.318814247555559 4.274148570183307 1 ['B_4428']\n",
      "@> LYS145 NZ_2416 A GLU85 OE2_1444 A 3.255724343368154 1 ['B_4476']\n",
      "@> TYR86 O_1450 A GLU85 OE2_1444 A 4.64982763121387 1 ['B_4536']\n",
      "@> THR91 N_1516 A LEU89 O_1495 A 3.9911389351913074 1 ['B_4566']\n",
      "@> THR91 OG1_1524 A THR91 N_1516 A 3.0327510613302926 1 ['B_4674']\n",
      "@> GLU104 OE1_1761 A THR227 OG1_3722 A 4.152207364763949 1 ['B_4470']\n",
      "@> GLU104 OE2_1762 A THR227 N_3714 A 4.39809526954567 1 ['B_4455']\n",
      "@> GLN105 NE2_1777 A THR109 OG1_1836 A 5.720702317023671 1 ['B_4416']\n",
      "@> ASN116 ND2_1951 A ASN66 OD1_1105 A 4.578457054510831 1 ['B_4527']\n",
      "@> TRP151 N_2488 A HIS128 O_2140 A 4.6958003577665 1 ['B_4524']\n",
      "@> ASP130 N_2176 A ARG129 N_2152 A ILE131 N_2188 A SER188 OG_3084 A 2.860271840227776 2.763839539481266 5.86024555799499 4.845774860638909 6.463675502374794 5.05641819868571 1 ['B_4503']\n",
      "@> ASP130 N_2176 A ARG129 N_2152 A ILE131 N_2188 A SER188 OG_3084 A 2.860271840227776 2.763839539481266 5.86024555799499 4.845774860638909 6.463675502374794 5.05641819868571 1 ['B_4503']\n",
      "@> ASN135 OD1_2268 A ASN135 ND2_2269 A 2.2698433866678975 2 ['B_4641', 'B_4578']\n",
      "@> GLY142 O_2363 A LYS263 NZ_4317 A 4.7539199614633825 1 ['B_4482']\n",
      "@> LYS145 NZ_2416 A GLU85 OE2_1444 A 3.255724343368154 1 ['B_4476']\n",
      "@> ASP148 N_2449 A PHE149 N_2461 A 3.1184755891300493 1 ['B_4407']\n",
      "@> ASP148 OD1_2459 A ASP148 O_2454 A TRP151 N_2488 A ASP148 OD2_2460 A 3.096612019611114 5.2141793218108665 2.20047926597821 4.641576671778678 4.0661425208666735 6.550484638559196 1 ['B_4443']\n",
      "@> LYS36 NZ_598 A ASP148 OD1_2459 A GLU55 OE2_925 A 3.6806416560159727 2.861773750665833 4.1049343478306675 1 ['B_4413']\n",
      "@> ASP148 OD1_2459 A ASP148 O_2454 A TRP151 N_2488 A ASP148 OD2_2460 A 3.096612019611114 5.2141793218108665 2.20047926597821 4.641576671778678 4.0661425208666735 6.550484638559196 1 ['B_4443']\n",
      "@> ASP148 N_2449 A PHE149 N_2461 A 3.1184755891300493 1 ['B_4407']\n",
      "@> TRP151 N_2488 A HIS128 O_2140 A 4.6958003577665 1 ['B_4524']\n",
      "@> TYR169 N_2756 A LEU167 O_2730 A ASP168 N_2744 A THR166 O_2716 A 2.9632340440808913 2.916088647486563 4.974472233312798 2.2235073645032046 4.221807906572725 3.5153681172816027 1 ['B_4446']\n",
      "@> TYR169 N_2756 A LEU167 O_2730 A ASP168 N_2744 A THR166 O_2716 A 2.9632340440808913 2.916088647486563 4.974472233312798 2.2235073645032046 4.221807906572725 3.5153681172816027 1 ['B_4446']\n",
      "@> TRP187 NE1_3064 A ASP168 O_2749 A 5.2067160475677925 1 ['B_4458']\n",
      "@> ASP168 OD1_2754 A PHE203 N_3306 A 5.026016812546486 1 ['B_4638']\n",
      "@> ALA205 N_3341 A ALA205 O_3346 A ASP168 OD2_2755 A 2.6705553729514784 5.795065055717664 6.10511433144376 1 ['B_4509']\n",
      "@> GLU173 OE1_2837 A HIS240 O_3934 A 4.242778099311818 1 ['B_4533']\n",
      "@> ASP181 N_2955 A GLU173 OE2_2838 A 5.576385657394939 1 ['B_4491']\n",
      "@> TRP187 NE1_3064 A ASP168 O_2749 A 5.2067160475677925 1 ['B_4458']\n",
      "@> ASP130 N_2176 A ARG129 N_2152 A ILE131 N_2188 A SER188 OG_3084 A 2.860271840227776 2.763839539481266 5.86024555799499 4.845774860638909 6.463675502374794 5.05641819868571 1 ['B_4503']\n",
      "@> ASP168 OD1_2754 A PHE203 N_3306 A 5.026016812546486 1 ['B_4638']\n",
      "@> ALA205 N_3341 A ALA205 O_3346 A ASP168 OD2_2755 A 2.6705553729514784 5.795065055717664 6.10511433144376 1 ['B_4509']\n",
      "@> THR221 N_3618 A THR221 O_3623 A ARG214 NH2_3510 A 2.7064550615149683 4.881237650432519 6.137414602257206 1 ['B_4599']\n",
      "@> THR221 N_3618 A THR221 O_3623 A ARG214 NH2_3510 A 2.7064550615149683 4.881237650432519 6.137414602257206 1 ['B_4599']\n",
      "@> ARG231 NH1_3778 A ASP224 OD1_3676 A 6.071931735452894 1 ['B_4611']\n",
      "@> GLU104 OE2_1762 A THR227 N_3714 A 4.39809526954567 1 ['B_4455']\n",
      "@> GLU104 OE1_1761 A THR227 OG1_3722 A 4.152207364763949 1 ['B_4470']\n",
      "@> GLU173 OE1_2837 A HIS240 O_3934 A 4.242778099311818 1 ['B_4533']\n",
      "@> GLY142 O_2363 A LYS263 NZ_4317 A 4.7539199614633825 1 ['B_4482']\n"
     ]
    },
    {
     "name": "stdout",
     "output_type": "stream",
     "text": [
      "align__addH_5os4A.pdb\n"
     ]
    },
    {
     "name": "stderr",
     "output_type": "stream",
     "text": [
      "@> 4353 atoms and 1 coordinate set(s) were parsed in 0.04s.\n",
      "@> 15 water bridges detected using method cluster.\n",
      "@> ASP149 N_2473 A ASP149 OD2_2484 A GLU56 OE2_949 A 2.9542950089657625 4.520058959792455 4.1881363397100655 1 ['B_4242']\n",
      "@> ASN67 ND2_1130 A GLU114 OE1_1933 A 3.8802068243844947 1 ['B_4302']\n",
      "@> LYS146 NZ_2440 A GLU86 OE1_1467 A GLU86 OE2_1468 A 3.897589254911291 3.014314349897831 2.205230373453078 1 ['B_4269']\n",
      "@> THR92 N_1540 A LEU90 O_1519 A 4.148509250321132 1 ['B_4257']\n",
      "@> ASP104 N_1760 A ASP104 OD2_1771 A 3.736169294879446 1 ['B_4278']\n",
      "@> ASN67 ND2_1130 A GLU114 OE1_1933 A 3.8802068243844947 1 ['B_4302']\n",
      "@> SER178 OG_2953 A ILE132 N_2212 A ARG130 O_2181 A 4.800364569488446 5.084791637815655 4.137189142400906 1 ['B_4350']\n",
      "@> LYS146 NZ_2440 A GLU86 OE1_1467 A GLU86 OE2_1468 A 3.897589254911291 3.014314349897831 2.205230373453078 1 ['B_4269']\n",
      "@> ASP149 N_2473 A ASP149 OD2_2484 A GLU56 OE2_949 A 2.9542950089657625 4.520058959792455 4.1881363397100655 1 ['B_4242']\n",
      "@> ASP158 O_2618 A PHE193 N_3175 A 5.451795484058439 1 ['B_4266']\n",
      "@> SER178 OG_2953 A ILE132 N_2212 A ARG130 O_2181 A 4.800364569488446 5.084791637815655 4.137189142400906 1 ['B_4350']\n",
      "@> THR211 O_3492 A TYR184 OH_3046 A THR211 N_3487 A 2.675705888172318 2.678365173011325 4.659785188181961 1 ['B_4251']\n",
      "@> SER206 OG_3410 A ARG207 NE_3427 A 4.666539403026614 1 ['B_4260']\n",
      "@> THR211 O_3492 A TYR184 OH_3046 A THR211 N_3487 A 2.675705888172318 2.678365173011325 4.659785188181961 1 ['B_4251']\n",
      "@> ASP214 OD2_3546 A ASP214 N_3535 A 4.099941219090834 1 ['B_4284']\n"
     ]
    },
    {
     "name": "stdout",
     "output_type": "stream",
     "text": [
      "align__addH_3mygA.pdb\n",
      "align__addH_6vpjA.pdb\n"
     ]
    },
    {
     "name": "stderr",
     "output_type": "stream",
     "text": [
      "@> 4950 atoms and 1 coordinate set(s) were parsed in 0.05s.\n",
      "@> 34 water bridges detected using method cluster.\n",
      "@> PHE58 N_940 A GLN61 OE1_1005 A 5.1159500583958035 1 ['B_4692']\n",
      "@> THR97 O_1606 A ALA60 N_982 A 4.50687674559667 1 ['B_4746']\n",
      "@> HIS69 N_1113 A GLY66 O_1081 A 5.165763157559588 1 ['B_4629']\n",
      "@> ARG148 NH2_2481 A ASP167 OD1_2767 A GLU74 OE1_1227 A 2.9271052253036616 5.132765921021531 3.3232371266582867 1 ['B_4623']\n",
      "@> GLN78 OE1_1292 A LEU87 O_1436 A 4.541232101533675 1 ['B_4761']\n",
      "@> ILE86 O_1417 A LEU81 O_1329 A 5.541440697147269 1 ['B_4821']\n",
      "@> LYS164 NZ_2724 A PRO84 O_1388 A 2.6640137011659686 1 ['B_4803']\n",
      "@> LEU87 O_1436 A LEU89 N_1474 A 3.5567982793518116 1 ['B_4740']\n",
      "@> GLN78 OE1_1292 A LEU87 O_1436 A 4.541232101533675 1 ['B_4761']\n",
      "@> THR97 O_1606 A ALA60 N_982 A 4.50687674559667 1 ['B_4746']\n",
      "@> THR110 N_1819 A LEU108 O_1798 A 4.0105955916796185 1 ['B_4779']\n",
      "@> ARG125 NE_2098 A ASP122 N_2039 A 5.335934407392952 1 ['B_4698']\n",
      "@> GLU123 OE1_2064 A THR243 N_3972 A 4.770421993912067 1 ['B_4887']\n",
      "@> HIS141 ND1_2344 A HIS196 O_3196 A 5.445058952848904 1 ['B_4758']\n",
      "@> ARG148 NH2_2481 A ARG148 NE_2475 A ARG148 N_2460 A 2.301068664772954 5.697799663027825 4.506009986673359 1 ['B_4914']\n",
      "@> ARG148 NH2_2481 A ASP167 OD1_2767 A GLU74 OE1_1227 A 2.9271052253036616 5.132765921021531 3.3232371266582867 1 ['B_4623']\n",
      "@> ARG148 NH2_2481 A PHE168 N_2769 A 4.293864809236551 1 ['B_4704']\n",
      "@> ARG148 NH2_2481 A ARG148 NE_2475 A ARG148 N_2460 A 2.301068664772954 5.697799663027825 4.506009986673359 1 ['B_4914']\n",
      "@> SER204 OG_3337 A ASP149 OD1_2494 A 4.1749685028752 1 ['B_4632']\n",
      "@> LYS151 NZ_2533 A ASP149 OD2_2495 A 4.471507687570267 1 ['B_4917']\n",
      "@> LYS164 NZ_2724 A PRO84 O_1388 A 2.6640137011659686 1 ['B_4803']\n",
      "@> ARG148 NH2_2481 A ASP167 OD1_2767 A GLU74 OE1_1227 A 2.9271052253036616 5.132765921021531 3.3232371266582867 1 ['B_4623']\n",
      "@> ARG148 NH2_2481 A PHE168 N_2769 A 4.293864809236551 1 ['B_4704']\n",
      "@> TRP170 N_2796 A SER171 N_2820 A 2.8000791060254007 1 ['B_4881']\n",
      "@> TYR185 N_3009 A ASP184 N_2997 A 2.7848003519103464 1 ['B_4713']\n",
      "@> HIS141 ND1_2344 A HIS196 O_3196 A 5.445058952848904 1 ['B_4758']\n",
      "@> VAL200 N_3257 A LYS199 N_3235 A 2.8372863796240253 1 ['B_4635']\n",
      "@> VAL200 N_3257 A ASP201 OD2_3284 A 6.198673164476411 1 ['B_4611']\n",
      "@> VAL200 N_3257 A ASP201 OD2_3284 A 6.198673164476411 1 ['B_4611']\n",
      "@> SER204 OG_3337 A ASP149 OD1_2494 A 4.1749685028752 1 ['B_4632']\n",
      "@> GLU123 OE1_2064 A THR243 N_3972 A 4.770421993912067 1 ['B_4887']\n",
      "@> GLN260 NE2_4257 A HIS256 N_4187 A ASN257 N_4204 A 5.8308768637315636 5.122702118999308 2.8092653844021247 1 ['B_4818']\n",
      "@> GLN260 NE2_4257 A HIS256 N_4187 A ASN257 N_4204 A 5.8308768637315636 5.122702118999308 2.8092653844021247 1 ['B_4818']\n",
      "@> SER278 OG_4555 A LYS279 NZ_4575 A 5.1786737684469015 1 ['B_4836']\n",
      "@> 4417 atoms and 1 coordinate set(s) were parsed in 0.04s.\n",
      "@> 0 water bridges detected using method cluster.\n",
      "@> 4599 atoms and 1 coordinate set(s) were parsed in 0.05s.\n"
     ]
    },
    {
     "name": "stdout",
     "output_type": "stream",
     "text": [
      "align__addH_4jajA.pdb\n",
      "align__addH_4cegA.pdb\n"
     ]
    },
    {
     "name": "stderr",
     "output_type": "stream",
     "text": [
      "@> 24 water bridges detected using method cluster.\n",
      "@> TYR86 N_1445 A ILE32 O_518 A 5.116841310808849 1 ['B_4407']\n",
      "@> ASP148 OD1_2459 A LYS36 NZ_598 A 3.56876645355226 1 ['B_4410']\n",
      "@> ASP148 N_2449 A GLU55 OE2_925 A GLN59 NE2_990 A 4.47975769434017 4.166843049600021 4.901938188104782 1 ['B_4425']\n",
      "@> ASN66 ND2_1106 A GLU113 OE2_1910 A 4.037561021210701 1 ['B_4434']\n",
      "@> LYS145 NZ_2416 A GLU85 OE1_1443 A GLU85 OE2_1444 A 4.370861471151883 3.2243935863972943 2.2104121787576165 1 ['B_4431']\n",
      "@> TYR86 N_1445 A ILE32 O_518 A 5.116841310808849 1 ['B_4407']\n",
      "@> GLU95 OE1_1604 A THR91 N_1516 A LEU89 O_1495 A 6.33358310910972 4.7011629412306055 3.885982243912086 1 ['B_4446']\n",
      "@> GLU95 OE1_1604 A THR91 N_1516 A LEU89 O_1495 A 6.33358310910972 4.7011629412306055 3.885982243912086 1 ['B_4446']\n",
      "@> ASN66 ND2_1106 A GLU113 OE2_1910 A 4.037561021210701 1 ['B_4434']\n",
      "@> TRP151 N_2488 A ASP130 OD2_2187 A ASP148 O_2454 A 5.518435738504165 4.5255705717621995 4.551054603056309 1 ['B_4497']\n",
      "@> LYS145 NZ_2416 A GLU85 OE1_1443 A GLU85 OE2_1444 A 4.370861471151883 3.2243935863972943 2.2104121787576165 1 ['B_4431']\n",
      "@> ASP148 N_2449 A GLU55 OE2_925 A GLN59 NE2_990 A 4.47975769434017 4.166843049600021 4.901938188104782 1 ['B_4425']\n",
      "@> ASP148 OD1_2459 A LYS36 NZ_598 A 3.56876645355226 1 ['B_4410']\n",
      "@> GLY150 N_2481 A ASP148 OD1_2459 A 3.9856239160261957 1 ['B_4419']\n",
      "@> TRP151 N_2488 A ASP130 OD2_2187 A ASP148 O_2454 A 5.518435738504165 4.5255705717621995 4.551054603056309 1 ['B_4497']\n",
      "@> LEU163 N_2675 A ARG159 NH1_2620 A 3.6767178298041863 1 ['B_4521']\n",
      "@> TRP187 NE1_3064 A LEU170 N_2777 A ASP168 O_2749 A 4.413798477502118 4.986176992446215 3.768662096818978 1 ['B_4530']\n",
      "@> ASP168 OD1_2754 A PHE203 N_3306 A ASP168 O_2749 A 4.847341745740649 4.324094587309578 5.64075296392246 1 ['B_4533']\n",
      "@> TRP187 NE1_3064 A LEU170 N_2777 A ASP168 O_2749 A 4.413798477502118 4.986176992446215 3.768662096818978 1 ['B_4530']\n",
      "@> HIS240 O_3934 A ARG178 NH2_2918 A ARG178 NH1_2915 A 5.365148367007199 5.826237722578782 2.2693402124846775 1 ['B_4542']\n",
      "@> TRP187 NE1_3064 A LEU170 N_2777 A ASP168 O_2749 A 4.413798477502118 4.986176992446215 3.768662096818978 1 ['B_4530']\n",
      "@> ASP168 OD1_2754 A PHE203 N_3306 A ASP168 O_2749 A 4.847341745740649 4.324094587309578 5.64075296392246 1 ['B_4533']\n",
      "@> THR221 N_3618 A ARG214 NH2_3510 A 4.913163339438247 1 ['B_4551']\n",
      "@> HIS240 O_3934 A ARG178 NH2_2918 A ARG178 NH1_2915 A 5.365148367007199 5.826237722578782 2.2693402124846775 1 ['B_4542']\n",
      "@> 4589 atoms and 1 coordinate set(s) were parsed in 0.04s.\n",
      "@> 43 water bridges detected using method cluster.\n",
      "@> ASP7 O_120 A ASP7 OD2_126 A 4.609953253559088 1 ['B_4511']\n",
      "@> GLU45 OE1_769 A LYS46 NZ_789 A 6.130255296478279 1 ['B_4328']\n",
      "@> VAL49 N_810 A GLU50 N_826 A 2.6792567999353825 1 ['B_4250']\n",
      "@> ARG55 NE_933 A PHE150 O_2503 A SER153 O_2554 A GLY151 O_2524 A 6.237002565335371 3.5200701697551446 5.309837003148024 4.455621729904818 3.7231099903172358 4.508264078334367 1 ['B_4526']\n",
      "@> HIS155 N_2576 A ARG55 NH1_936 A 5.645195656485255 1 ['B_4406']\n",
      "@> ARG70 NE_1193 A LEU71 N_1202 A GLN60 O_1012 A 4.377616474749701 4.973070379554265 5.066229860557058 1 ['B_4397']\n",
      "@> ARG70 NE_1193 A LEU71 N_1202 A GLN60 O_1012 A 4.377616474749701 4.973070379554265 5.066229860557058 1 ['B_4397']\n",
      "@> TYR82 OH_1402 A ASP77 OD2_1318 A 3.05554610503589 1 ['B_4559']\n",
      "@> ASP104 N_1769 A ASP104 OD2_1780 A 3.8714722005975997 1 ['B_4322']\n",
      "@> GLU105 OE1_1794 A THR221 OG1_3646 A THR221 N_3638 A 2.6304693497549065 4.268288064318057 2.9675939749231186 1 ['B_4304']\n",
      "@> GLY143 O_2400 A TYR111 OH_1894 A 4.623108045460323 1 ['B_4274']\n",
      "@> ASP179 OD1_2954 A ARG130 N_2185 A ILE132 N_2221 A 2.9737553698984707 5.3336053472299545 4.692476851301451 1 ['B_4265']\n",
      "@> ASP131 OD1_2219 A ARG130 O_2190 A 4.362120585219994 1 ['B_4457']\n",
      "@> SER182 OG_3008 A ILE132 N_2221 A ARG130 O_2190 A ILE132 O_2226 A 4.794224859140424 5.155306489433969 4.156215225418434 4.171470843719276 2.9644205167283584 5.850264267535273 1 ['B_4502']\n",
      "@> ASP149 O_2491 A ASP131 OD2_2220 A TRP152 N_2525 A 5.192117583414304 4.753827931257082 5.729433218041731 1 ['B_4271']\n",
      "@> ASP179 OD1_2954 A ARG130 N_2185 A ILE132 N_2221 A 2.9737553698984707 5.3336053472299545 4.692476851301451 1 ['B_4265']\n",
      "@> SER182 OG_3008 A ILE132 N_2221 A ARG130 O_2190 A ILE132 O_2226 A 4.794224859140424 5.155306489433969 4.156215225418434 4.171470843719276 2.9644205167283584 5.850264267535273 1 ['B_4502']\n",
      "@> GLU135 O_2281 A ASN136 ND2_2302 A 3.3454933866322327 1 ['B_4316']\n",
      "@> GLY143 O_2400 A TYR111 OH_1894 A 4.623108045460323 1 ['B_4274']\n",
      "@> ASP149 O_2491 A ASP131 OD2_2220 A TRP152 N_2525 A 5.192117583414304 4.753827931257082 5.729433218041731 1 ['B_4271']\n",
      "@> ARG55 NE_933 A PHE150 O_2503 A SER153 O_2554 A GLY151 O_2524 A 6.237002565335371 3.5200701697551446 5.309837003148024 4.455621729904818 3.7231099903172358 4.508264078334367 1 ['B_4526']\n",
      "@> ASP149 O_2491 A ASP131 OD2_2220 A TRP152 N_2525 A 5.192117583414304 4.753827931257082 5.729433218041731 1 ['B_4271']\n",
      "@> ARG55 NE_933 A PHE150 O_2503 A SER153 O_2554 A GLY151 O_2524 A 6.237002565335371 3.5200701697551446 5.309837003148024 4.455621729904818 3.7231099903172358 4.508264078334367 1 ['B_4526']\n",
      "@> HIS155 N_2576 A ARG55 NH1_936 A 5.645195656485255 1 ['B_4406']\n",
      "@> TYR163 N_2680 A ASP162 N_2668 A 2.9416220015494874 2 ['B_4394', 'B_4286']\n",
      "@> ASP162 O_2673 A PHE197 N_3225 A 5.4893931358575525 1 ['B_4280']\n",
      "@> ALA199 N_3260 A ASP162 OD1_2678 A ASP162 OD2_2679 A 5.8511891099160325 4.841731405189674 2.1807276308608587 1 ['B_4520']\n",
      "@> TYR163 N_2680 A ASP162 N_2668 A 2.9416220015494874 2 ['B_4394', 'B_4286']\n",
      "@> TRP181 NE1_2988 A LEU164 N_2701 A 4.543905588807936 1 ['B_4349']\n",
      "@> GLU167 OE1_2761 A ASP175 N_2879 A 5.674301631037955 1 ['B_4289']\n",
      "@> ARG172 N_2821 A ARG172 O_2826 A 2.7687860155671107 1 ['B_4469']\n",
      "@> GLU167 OE1_2761 A ASP175 N_2879 A 5.674301631037955 1 ['B_4289']\n",
      "@> ASP179 OD1_2954 A ARG130 N_2185 A ILE132 N_2221 A 2.9737553698984707 5.3336053472299545 4.692476851301451 1 ['B_4265']\n",
      "@> TRP181 NE1_2988 A LEU164 N_2701 A 4.543905588807936 1 ['B_4349']\n",
      "@> SER182 OG_3008 A ILE132 N_2221 A ARG130 O_2190 A ILE132 O_2226 A 4.794224859140424 5.155306489433969 4.156215225418434 4.171470843719276 2.9644205167283584 5.850264267535273 1 ['B_4502']\n",
      "@> LEU186 N_3052 A VAL185 O_3041 A 2.2563302063306256 1 ['B_4481']\n",
      "@> ASP162 O_2673 A PHE197 N_3225 A 5.4893931358575525 1 ['B_4280']\n",
      "@> ALA199 N_3260 A ASP162 OD1_2678 A ASP162 OD2_2679 A 5.8511891099160325 4.841731405189674 2.1807276308608587 1 ['B_4520']\n",
      "@> GLU204 OE2_3353 A HIS200 N_3270 A 5.020914856876186 1 ['B_4508']\n",
      "@> THR215 N_3542 A ARG208 NH1_3431 A 6.048391604385419 1 ['B_4310']\n",
      "@> THR215 OG1_3550 A THR215 N_3542 A 2.8819009351468 1 ['B_4496']\n",
      "@> GLU105 OE1_1794 A THR221 OG1_3646 A THR221 N_3638 A 2.6304693497549065 4.268288064318057 2.9675939749231186 1 ['B_4304']\n",
      "@> LEU242 N_3979 A ALA243 N_3998 A 2.794013063677405 1 ['B_4331']\n"
     ]
    },
    {
     "name": "stdout",
     "output_type": "stream",
     "text": [
      "align__addH_3d15A.pdb\n"
     ]
    },
    {
     "name": "stderr",
     "output_type": "stream",
     "text": [
      "@> 4475 atoms and 1 coordinate set(s) were parsed in 0.04s.\n",
      "@> 20 water bridges detected using method cluster.\n",
      "@> LEU3 N_36 A GLU4 N_55 A 2.885200512962662 1 ['B_4325']\n",
      "@> SER28 N_443 A SER28 OG_452 A 2.9366424705775858 1 ['B_4343']\n",
      "@> TYR85 N_1428 A ILE31 O_501 A 4.832304419218643 1 ['B_4295']\n",
      "@> GLN50 N_810 A HIS49 N_793 A 2.8266101605987313 1 ['B_4337']\n",
      "@> ILE66 O_1097 A LYS144 NZ_2399 A 5.2476206036641075 1 ['B_4220']\n",
      "@> TYR85 N_1428 A ILE31 O_501 A 4.832304419218643 1 ['B_4295']\n",
      "@> PHE101 O_1704 A LYS100 NZ_1695 A 5.054735007891117 1 ['B_4328']\n",
      "@> ARG105 NE_1778 A ASP102 N_1719 A 5.390909848995808 1 ['B_4364']\n",
      "@> ARG128 NH1_2153 A ASP147 OD2_2443 A ASN134 ND2_2252 A LYS131 N_2190 A 4.059626830140914 4.159987620173882 4.968769163485054 4.163522667165393 5.270461554740722 4.818465938449706 1 ['B_4247']\n",
      "@> LYS131 NZ_2208 A ASN134 ND2_2252 A 4.483868196100325 1 ['B_4418']\n",
      "@> ARG128 NH1_2153 A ASP147 OD2_2443 A ASN134 ND2_2252 A LYS131 N_2190 A 4.059626830140914 4.159987620173882 4.968769163485054 4.163522667165393 5.270461554740722 4.818465938449706 1 ['B_4247']\n",
      "@> ILE66 O_1097 A LYS144 NZ_2399 A 5.2476206036641075 1 ['B_4220']\n",
      "@> ASP147 N_2432 A TRP150 NE1_2484 A ASP147 O_2437 A 5.301459987588322 2.617874137539849 3.8456171156265673 1 ['B_4274']\n",
      "@> ARG128 NH1_2153 A ASP147 OD2_2443 A ASN134 ND2_2252 A LYS131 N_2190 A 4.059626830140914 4.159987620173882 4.968769163485054 4.163522667165393 5.270461554740722 4.818465938449706 1 ['B_4247']\n",
      "@> ASP147 N_2432 A TRP150 NE1_2484 A ASP147 O_2437 A 5.301459987588322 2.617874137539849 3.8456171156265673 1 ['B_4274']\n",
      "@> TYR181 OH_2988 A THR208 N_3429 A 4.723551418159858 1 ['B_4322']\n",
      "@> ARG218 NH2_3592 A ARG218 NH1_3589 A ASP211 OD1_3487 A 2.29369701573682 4.821973351232876 5.845034901521119 1 ['B_4238']\n",
      "@> THR214 N_3525 A THR214 OG1_3533 A 2.991306905016598 1 ['B_4292']\n",
      "@> GLY216 N_3554 A THR214 OG1_3533 A 3.984769629476713 1 ['B_4376']\n",
      "@> ARG218 NH2_3592 A ARG218 NH1_3589 A ASP211 OD1_3487 A 2.29369701573682 4.821973351232876 5.845034901521119 1 ['B_4238']\n"
     ]
    },
    {
     "name": "stdout",
     "output_type": "stream",
     "text": [
      "align__addH_6c2rA.pdb\n"
     ]
    },
    {
     "name": "stderr",
     "output_type": "stream",
     "text": [
      "@> 4601 atoms and 1 coordinate set(s) were parsed in 0.04s.\n",
      "@> 31 water bridges detected using method cluster.\n",
      "@> TYR86 N_1445 A ILE32 O_518 A 4.971163042991043 1 ['B_4451']\n",
      "@> ASP148 OD1_2459 A GLU55 OE2_925 A LYS36 NZ_598 A 3.9094700408111627 3.6241109254546875 2.908202193796022 1 ['B_4400']\n",
      "@> PHE149 N_2461 A GLU55 OE2_925 A 4.139157039784797 1 ['B_4394']\n",
      "@> LYS145 NZ_2416 A GLU85 OE1_1443 A GLU85 OE2_1444 A 4.321163037886908 3.2294335416602076 2.2115105697237762 1 ['B_4406']\n",
      "@> TYR86 N_1445 A ILE32 O_518 A 4.971163042991043 1 ['B_4451']\n",
      "@> THR91 OG1_1524 A THR91 N_1516 A 2.9527053696567824 1 ['B_4538']\n",
      "@> ASP103 N_1736 A ASP103 OD2_1747 A 3.8815361649738644 1 ['B_4532']\n",
      "@> SER152 N_2512 A ASP148 O_2454 A HIS128 O_2140 A 5.789210827047152 3.4519480007671057 5.569953231401496 1 ['B_4484']\n",
      "@> ASP130 N_2176 A ARG129 N_2152 A ILE131 N_2188 A SER188 OG_3084 A 2.8619854996138603 2.731372731796233 5.801287184754778 4.771496201402662 6.3781345235107745 5.050191283506004 1 ['B_4463']\n",
      "@> ASP130 N_2176 A ARG129 N_2152 A ILE131 N_2188 A SER188 OG_3084 A 2.8619854996138603 2.731372731796233 5.801287184754778 4.771496201402662 6.3781345235107745 5.050191283506004 1 ['B_4463']\n",
      "@> LYS145 NZ_2416 A GLU85 OE1_1443 A GLU85 OE2_1444 A 4.321163037886908 3.2294335416602076 2.2115105697237762 1 ['B_4406']\n",
      "@> ASP148 O_2454 A TRP151 N_2488 A ASP148 OD1_2459 A ASP148 OD2_2460 A 4.723824827404165 3.3604325614420523 4.044437538150393 5.371809937069626 6.351936240234153 2.1916039788246406 2 ['B_4439', 'B_4445']\n",
      "@> SER152 N_2512 A ASP148 O_2454 A HIS128 O_2140 A 5.789210827047152 3.4519480007671057 5.569953231401496 1 ['B_4484']\n",
      "@> ASP148 OD1_2459 A GLU55 OE2_925 A LYS36 NZ_598 A 3.9094700408111627 3.6241109254546875 2.908202193796022 1 ['B_4400']\n",
      "@> ASP148 O_2454 A TRP151 N_2488 A ASP148 OD1_2459 A ASP148 OD2_2460 A 4.723824827404165 3.3604325614420523 4.044437538150393 5.371809937069626 6.351936240234153 2.1916039788246406 2 ['B_4439', 'B_4445']\n",
      "@> PHE149 N_2461 A GLU55 OE2_925 A 4.139157039784797 1 ['B_4394']\n",
      "@> SER152 N_2512 A ASP148 O_2454 A HIS128 O_2140 A 5.789210827047152 3.4519480007671057 5.569953231401496 1 ['B_4484']\n",
      "@> ASP168 N_2744 A TYR169 N_2756 A 2.8800451385351553 1 ['B_4436']\n",
      "@> LEU170 N_2777 A TRP187 NE1_3064 A ASP168 O_2749 A 4.443237783418758 3.9156277912998894 5.082583693359119 1 ['B_4472']\n",
      "@> ASP168 OD1_2754 A ASP168 OD2_2755 A ALA205 N_3341 A 2.171291090572608 4.7623307319000885 5.72616459770412 1 ['B_4448']\n",
      "@> ASP168 OD1_2754 A PHE203 N_3306 A 4.990178453722872 1 ['B_4517']\n",
      "@> ASP168 N_2744 A TYR169 N_2756 A 2.8800451385351553 1 ['B_4436']\n",
      "@> LEU170 N_2777 A TRP187 NE1_3064 A ASP168 O_2749 A 4.443237783418758 3.9156277912998894 5.082583693359119 1 ['B_4472']\n",
      "@> HIS240 O_3934 A GLU173 OE1_2837 A 4.284665681240488 1 ['B_4478']\n",
      "@> ASP130 N_2176 A ARG129 N_2152 A ILE131 N_2188 A SER188 OG_3084 A 2.8619854996138603 2.731372731796233 5.801287184754778 4.771496201402662 6.3781345235107745 5.050191283506004 1 ['B_4463']\n",
      "@> ASP168 OD1_2754 A PHE203 N_3306 A 4.990178453722872 1 ['B_4517']\n",
      "@> ASP168 OD1_2754 A ASP168 OD2_2755 A ALA205 N_3341 A 2.171291090572608 4.7623307319000885 5.72616459770412 1 ['B_4448']\n",
      "@> THR221 N_3618 A ARG214 NH2_3510 A THR221 O_3623 A 4.985894603779747 2.7625272849331264 6.2812409601925 1 ['B_4466']\n",
      "@> THR221 N_3618 A ARG214 NH2_3510 A THR221 O_3623 A 4.985894603779747 2.7625272849331264 6.2812409601925 1 ['B_4466']\n",
      "@> THR227 N_3714 A THR227 OG1_3722 A 3.0186351220377734 1 ['B_4460']\n",
      "@> HIS240 O_3934 A GLU173 OE1_2837 A 4.284665681240488 1 ['B_4478']\n"
     ]
    },
    {
     "name": "stdout",
     "output_type": "stream",
     "text": [
      "align__addH_5orpA.pdb\n"
     ]
    },
    {
     "name": "stderr",
     "output_type": "stream",
     "text": [
      "@> 4325 atoms and 1 coordinate set(s) were parsed in 0.04s.\n",
      "@> 7 water bridges detected using method cluster.\n",
      "@> LYS36 NZ_598 A PHE18 N_275 A 6.377537298989319 1 ['B_4310']\n",
      "@> ASP103 N_1736 A ARG106 NE_1795 A 5.540681275799932 1 ['B_4313']\n",
      "@> PHE196 N_3193 A ASP161 OD1_2641 A 4.5871076943974165 1 ['B_4280']\n",
      "@> LEU163 N_2664 A TRP180 NE1_2951 A 4.575550349411535 1 ['B_4277']\n",
      "@> PRO195 O_3183 A THR214 N_3505 A THR214 O_3510 A THR214 OG1_3513 A 5.173604352866576 5.843855747706303 6.361254671839508 2.793261534479006 2.676604752293471 3.1673198449161997 2 ['B_4289', 'B_4298']\n",
      "@> PHE196 N_3193 A ASP161 OD1_2641 A 4.5871076943974165 1 ['B_4280']\n",
      "@> PRO195 O_3183 A THR214 N_3505 A THR214 O_3510 A THR214 OG1_3513 A 5.173604352866576 5.843855747706303 6.361254671839508 2.793261534479006 2.676604752293471 3.1673198449161997 2 ['B_4289', 'B_4298']\n"
     ]
    },
    {
     "name": "stdout",
     "output_type": "stream",
     "text": [
      "align__addH_5dr9A.pdb\n",
      "align__addH_8of5A.pdb\n"
     ]
    },
    {
     "name": "stderr",
     "output_type": "stream",
     "text": [
      "@> 4843 atoms and 1 coordinate set(s) were parsed in 0.05s.\n",
      "@> 47 water bridges detected using method cluster.\n",
      "@> LYS18 O_282 A LYS16 NZ_266 A GLY17 O_276 A 5.008511655172616 3.458563430096371 3.765691171617767 1 ['B_4471']\n",
      "@> LYS18 O_282 A LYS16 NZ_266 A GLY17 O_276 A 5.008511655172616 3.458563430096371 3.765691171617767 1 ['B_4471']\n",
      "@> ASN21 ND2_337 A GLN43 OE1_726 A 5.404988529127518 1 ['B_4678']\n",
      "@> TYR87 N_1469 A ILE33 O_542 A 4.913862126677953 1 ['B_4588']\n",
      "@> PHE40 N_661 A GLN43 OE1_726 A 4.8201844363053175 1 ['B_4447']\n",
      "@> ALA42 N_703 A LYS41 N_681 A 2.829077057981985 1 ['B_4663']\n",
      "@> PHE40 N_661 A GLN43 OE1_726 A 4.8201844363053175 1 ['B_4447']\n",
      "@> ASN21 ND2_337 A GLN43 OE1_726 A 5.404988529127518 1 ['B_4678']\n",
      "@> GLU50 OE1_832 A GLY48 O_802 A HIS51 N_834 A 3.9652491724984906 4.516012178902973 5.322624446642839 1 ['B_4705']\n",
      "@> GLU50 OE1_832 A GLY48 O_802 A HIS51 N_834 A 3.9652491724984906 4.516012178902973 5.322624446642839 1 ['B_4705']\n",
      "@> ARG160 N_2626 A HIS51 NE2_850 A 6.150321780199795 1 ['B_4792']\n",
      "@> HIS155 N_2563 A ARG55 NH2_932 A 3.9004559989826877 1 ['B_4726']\n",
      "@> ARG70 NE_1186 A GLN60 O_1005 A LEU71 O_1200 A ARG64 NH2_1085 A SER61 O_1022 A 5.738181244959067 4.68062143310052 3.5004686829051916 4.9512574160509955 4.798146829766671 4.824629830360045 3.618380024265004 5.097849154300271 3.9754809771900503 2.489235424784084 1 ['B_4660']\n",
      "@> HIS65 N_1088 A LEU69 O_1157 A HIS65 O_1093 A GLN60 O_1005 A ILE68 O_1138 A LEU63 O_1050 A 7.408166979759568 2.71195501437616 7.8414376870571365 4.95420932137511 4.445283343050253 6.500576435978579 4.943855277008013 3.6270387370415538 5.904019139535372 8.631316064193218 3.140215597693891 6.015822803241465 7.1382656857250675 3.9763190264363817 5.888594908804648 2 ['B_4675', 'B_4699']\n",
      "@> ARG70 NE_1186 A ARG64 NH2_1085 A SER61 O_1022 A 3.5004686829051916 4.9512574160509955 2.489235424784084 1 ['B_4504']\n",
      "@> HIS65 N_1088 A HIS65 O_1093 A LEU69 O_1157 A GLN60 O_1005 A ILE68 O_1138 A LEU63 O_1050 A 2.71195501437616 7.408166979759568 7.8414376870571365 4.95420932137511 4.445283343050253 6.500576435978579 8.631316064193218 3.140215597693891 6.015822803241465 4.943855277008013 3.6270387370415538 5.904019139535372 7.1382656857250675 3.9763190264363817 5.888594908804648 2 ['B_4675', 'B_4699']\n",
      "@> ARG70 NE_1186 A ARG64 NH2_1085 A SER61 O_1022 A 3.5004686829051916 4.9512574160509955 2.489235424784084 1 ['B_4504']\n",
      "@> ARG70 NE_1186 A GLN60 O_1005 A LEU71 O_1200 A ARG64 NH2_1085 A SER61 O_1022 A 5.738181244959067 4.68062143310052 3.5004686829051916 4.9512574160509955 4.798146829766671 4.824629830360045 3.618380024265004 5.097849154300271 3.9754809771900503 2.489235424784084 1 ['B_4660']\n",
      "@> HIS65 N_1088 A HIS65 O_1093 A LEU69 O_1157 A GLN60 O_1005 A ILE68 O_1138 A LEU63 O_1050 A 2.71195501437616 7.408166979759568 7.8414376870571365 4.95420932137511 4.445283343050253 6.500576435978579 8.631316064193218 3.140215597693891 6.015822803241465 4.943855277008013 3.6270387370415538 5.904019139535372 7.1382656857250675 3.9763190264363817 5.888594908804648 2 ['B_4675', 'B_4699']\n",
      "@> LYS146 NZ_2440 A ILE68 O_1138 A 4.894377692822653 1 ['B_4555']\n",
      "@> HIS65 N_1088 A HIS65 O_1093 A LEU69 O_1157 A GLN60 O_1005 A ILE68 O_1138 A LEU63 O_1050 A 2.71195501437616 7.408166979759568 7.8414376870571365 4.95420932137511 4.445283343050253 6.500576435978579 8.631316064193218 3.140215597693891 6.015822803241465 4.943855277008013 3.6270387370415538 5.904019139535372 7.1382656857250675 3.9763190264363817 5.888594908804648 2 ['B_4675', 'B_4699']\n",
      "@> ARG70 NE_1186 A ARG64 NH2_1085 A SER61 O_1022 A 3.5004686829051916 4.9512574160509955 2.489235424784084 1 ['B_4504']\n",
      "@> ARG70 NE_1186 A GLN60 O_1005 A LEU71 O_1200 A ARG64 NH2_1085 A SER61 O_1022 A 5.738181244959067 4.68062143310052 3.5004686829051916 4.9512574160509955 4.798146829766671 4.824629830360045 3.618380024265004 5.097849154300271 3.9754809771900503 2.489235424784084 1 ['B_4660']\n",
      "@> TYR87 N_1469 A ILE33 O_542 A 4.913862126677953 1 ['B_4588']\n",
      "@> HIS129 ND1_2169 A HIS129 O_2164 A ASP149 O_2478 A 3.2350772788296793 4.402652155235523 5.431654352036775 1 ['B_4630']\n",
      "@> ARG130 NE_2191 A ASP182 O_2987 A ARG130 NH2_2197 A 5.249307287633293 2.3281986599085553 5.511938497479811 1 ['B_4687']\n",
      "@> ASP131 N_2200 A ILE132 N_2212 A SER189 OG_3111 A 2.7652770204809523 5.929116713305614 4.782805034705052 1 ['B_4669']\n",
      "@> GLY151 N_2505 A ASP131 OD1_2210 A 5.853299753130708 1 ['B_4552']\n",
      "@> SER141 N_2360 A SER141 OG_2369 A 2.873448276896592 1 ['B_4639']\n",
      "@> LYS146 NZ_2440 A ILE68 O_1138 A 4.894377692822653 1 ['B_4555']\n",
      "@> HIS129 ND1_2169 A HIS129 O_2164 A ASP149 O_2478 A 3.2350772788296793 4.402652155235523 5.431654352036775 1 ['B_4630']\n",
      "@> GLY151 N_2505 A ASP131 OD1_2210 A 5.853299753130708 1 ['B_4552']\n",
      "@> HIS155 N_2563 A ARG55 NH2_932 A 3.9004559989826877 1 ['B_4726']\n",
      "@> SER159 O_2620 A THR163 OG1_2696 A 2.926574960598138 1 ['B_4696']\n",
      "@> ARG160 N_2626 A ARG161 N_2650 A 2.7687419525842443 1 ['B_4744']\n",
      "@> ARG160 N_2626 A HIS51 NE2_850 A 6.150321780199795 1 ['B_4792']\n",
      "@> ARG160 NE_2641 A ARG160 NH2_2647 A 2.3193218836547884 1 ['B_4465']\n",
      "@> ARG160 N_2626 A ARG161 N_2650 A 2.7687419525842443 1 ['B_4744']\n",
      "@> SER159 O_2620 A THR163 OG1_2696 A 2.926574960598138 1 ['B_4696']\n",
      "@> MET180 N_2948 A HIS181 N_2965 A 2.7479173932270955 1 ['B_4579']\n",
      "@> GLU183 N_2994 A HIS181 O_2970 A 3.797623467380622 1 ['B_4573']\n",
      "@> ARG130 NE_2191 A ASP182 O_2987 A ARG130 NH2_2197 A 5.249307287633293 2.3281986599085553 5.511938497479811 1 ['B_4687']\n",
      "@> ASP131 N_2200 A ILE132 N_2212 A SER189 OG_3111 A 2.7652770204809523 5.929116713305614 4.782805034705052 1 ['B_4669']\n",
      "@> THR222 N_3634 A PRO203 O_3323 A TYR195 OH_3204 A 5.327233146765777 4.71516744135349 5.0419235416654224 1 ['B_4645']\n",
      "@> THR212 OG1_3456 A ALA206 N_3368 A 3.7267817215393735 1 ['B_4690']\n",
      "@> THR222 N_3634 A PRO203 O_3323 A TYR195 OH_3204 A 5.327233146765777 4.71516744135349 5.0419235416654224 1 ['B_4645']\n",
      "@> THR228 OG1_3738 A THR228 N_3730 A 2.8899095141543754 1 ['B_4462']\n",
      "@> 4385 atoms and 1 coordinate set(s) were parsed in 0.04s.\n",
      "@> 28 water bridges detected using method cluster.\n",
      "@> TYR71 OH_1216 A ILE32 O_521 A TYR86 N_1452 A 5.6031510777418845 5.116476326535675 4.8475195719047885 1 ['B_4190']\n",
      "@> THR41 N_682 A LYS40 N_660 A 2.837064151548216 1 ['B_4373']\n",
      "@> ILE67 O_1121 A HIS64 N_1071 A 4.856230431106002 1 ['B_4127']\n",
      "@> ILE67 O_1121 A GLU85 OE2_1451 A LYS145 NZ_2429 A 3.9137936838826883 5.248757757793744 3.9620776115568486 1 ['B_4133']\n",
      "@> TYR71 OH_1216 A ILE32 O_521 A TYR86 N_1452 A 5.6031510777418845 5.116476326535675 4.8475195719047885 1 ['B_4190']\n",
      "@> HIS75 N_1266 A HIS75 ND1_1276 A HIS75 O_1271 A 3.152281396068568 2.695052133076469 4.031473427916898 1 ['B_4304']\n",
      "@> HIS75 N_1266 A HIS75 ND1_1276 A HIS75 O_1271 A 3.152281396068568 2.695052133076469 4.031473427916898 1 ['B_4304']\n",
      "@> ILE67 O_1121 A GLU85 OE2_1451 A LYS145 NZ_2429 A 3.9137936838826883 5.248757757793744 3.9620776115568486 1 ['B_4133']\n",
      "@> TYR71 OH_1216 A ILE32 O_521 A TYR86 N_1452 A 5.6031510777418845 5.116476326535675 4.8475195719047885 1 ['B_4190']\n",
      "@> TYR86 OH_1471 A GLY90 N_1516 A 6.340812014245488 1 ['B_4319']\n",
      "@> PHE102 O_1730 A ARG101 NH2_1722 A LEU180 O_2981 A 5.3088214322954945 4.241787594870823 4.69241526295361 1 ['B_4139']\n",
      "@> GLU104 OE1_1770 A GLU104 OE2_1771 A THR210 OG1_3484 A 2.1919826641650246 2.55916666123955 4.1311259966261 1 ['B_4361']\n",
      "@> LYS132 N_2216 A ASN135 OD1_2277 A ASP130 O_2190 A 4.728202195338093 4.212650709470222 6.209968276891591 1 ['B_4115']\n",
      "@> ILE131 O_2202 A SER171 OG_2846 A 4.681699904949053 1 ['B_4265']\n",
      "@> LYS132 N_2216 A ASN135 OD1_2277 A ASP130 O_2190 A 4.728202195338093 4.212650709470222 6.209968276891591 1 ['B_4115']\n",
      "@> ILE67 O_1121 A GLU85 OE2_1451 A LYS145 NZ_2429 A 3.9137936838826883 5.248757757793744 3.9620776115568486 1 ['B_4133']\n",
      "@> ASP148 O_2467 A ASP148 N_2462 A 2.712708793807401 1 ['B_4121']\n",
      "@> ASP155 O_2574 A PHE186 N_3063 A 5.4993711458675 1 ['B_4148']\n",
      "@> TRP170 NE1_2826 A ASP155 O_2574 A 5.427052607078724 1 ['B_4154']\n",
      "@> ILE131 O_2202 A SER171 OG_2846 A 4.681699904949053 1 ['B_4265']\n",
      "@> TYR177 OH_2939 A THR204 N_3380 A 4.771200058685446 1 ['B_4193']\n",
      "@> PHE102 O_1730 A ARG101 NH2_1722 A LEU180 O_2981 A 5.3088214322954945 4.241787594870823 4.69241526295361 1 ['B_4139']\n",
      "@> ASP155 O_2574 A PHE186 N_3063 A 5.4993711458675 1 ['B_4148']\n"
     ]
    },
    {
     "name": "stderr",
     "output_type": "stream",
     "text": [
      "@> GLU104 OE1_1770 A GLU104 OE2_1771 A THR210 OG1_3484 A 2.1919826641650246 2.55916666123955 4.1311259966261 1 ['B_4361']\n",
      "@> ARG228 N_3760 A SER226 O_3737 A ALA225 O_3727 A 3.7756255110908463 3.419310603030969 3.9862625352578074 1 ['B_4220']\n",
      "@> ARG228 N_3760 A SER226 O_3737 A ALA225 O_3727 A 3.7756255110908463 3.419310603030969 3.9862625352578074 1 ['B_4220']\n",
      "@> LEU231 N_3817 A ALA232 N_3836 A 2.8450063268822454 1 ['B_4259']\n",
      "@> GLU233 OE1_3859 A GLU233 OE2_3860 A 2.1922896706411765 1 ['B_4100']\n"
     ]
    },
    {
     "name": "stdout",
     "output_type": "stream",
     "text": [
      "align__addH_3dajA.pdb\n"
     ]
    },
    {
     "name": "stderr",
     "output_type": "stream",
     "text": [
      "@> 5009 atoms and 1 coordinate set(s) were parsed in 0.05s.\n",
      "@> 57 water bridges detected using method cluster.\n",
      "@> LYS1 N_0 A LYS1 NZ_11 A 4.815847277478804 1 ['B_4865']\n",
      "@> GLN3 NE2_56 A HIS77 N_1305 A 5.674488963774624 1 ['B_4628']\n",
      "@> TRP4 N_65 A TYR75 O_1267 A 5.418472478475828 1 ['B_4919']\n",
      "@> LEU6 N_99 A GLU7 N_118 A 2.7246924597099 1 ['B_4625']\n",
      "@> ASN22 ND2_355 A TYR24 OH_389 A 3.6101720180622965 1 ['B_4577']\n",
      "@> GLN30 N_489 A LYS29 N_467 A 2.825512696839285 1 ['B_4751']\n",
      "@> GLN30 N_489 A SER31 N_506 A 2.8156244422862917 1 ['B_4772']\n",
      "@> ILE34 O_562 A TYR88 N_1491 A 4.724366835883937 1 ['B_4496']\n",
      "@> LYS38 NZ_634 A VAL155 O_2582 A 5.931120214596903 1 ['B_4940']\n",
      "@> GLN61 O_1025 A LEU72 N_1217 A LEU72 O_1220 A LEU64 O_1070 A ARG71 NE_1200 A 4.46760114602904 4.563088646958328 3.928435184650501 5.761697753266829 2.8888035585688376 5.724164480515914 4.349173369733612 5.881783828057607 4.260165372376992 3.8616377354692424 1 ['B_4667']\n",
      "@> GLN61 OE1_1029 A PHE151 N_2517 A 6.454900851291216 1 ['B_4544']\n",
      "@> ASP150 N_2505 A GLN61 NE2_1030 A 5.911216541457433 1 ['B_4892']\n",
      "@> HIS66 O_1113 A HIS66 N_1110 A 2.7262063384857713 1 ['B_4517']\n",
      "@> HIS66 O_1113 A LYS147 NZ_2462 A 5.41979612162672 1 ['B_4493']\n",
      "@> GLN61 O_1025 A LEU72 N_1217 A LEU72 O_1220 A LEU64 O_1070 A ARG71 NE_1200 A 4.46760114602904 4.563088646958328 3.928435184650501 5.761697753266829 2.8888035585688376 5.724164480515914 4.349173369733612 5.881783828057607 4.260165372376992 3.8616377354692424 1 ['B_4667']\n",
      "@> GLN61 O_1025 A LEU72 N_1217 A LEU72 O_1220 A LEU64 O_1070 A ARG71 NE_1200 A 4.46760114602904 4.563088646958328 3.928435184650501 5.761697753266829 2.8888035585688376 5.724164480515914 4.349173369733612 5.881783828057607 4.260165372376992 3.8616377354692424 1 ['B_4667']\n",
      "@> TRP4 N_65 A TYR75 O_1267 A 5.418472478475828 1 ['B_4919']\n",
      "@> GLN3 NE2_56 A HIS77 N_1305 A 5.674488963774624 1 ['B_4628']\n",
      "@> GLU87 OE2_1484 A TYR88 O_1494 A 4.765096116554206 1 ['B_4499']\n",
      "@> ILE34 O_562 A TYR88 N_1491 A 4.724366835883937 1 ['B_4496']\n",
      "@> ARG108 NE_1833 A ASP105 N_1782 A 5.305392916646231 1 ['B_4547']\n",
      "@> THR229 OG1_3777 A GLU106 OE1_1801 A 3.987116878146412 1 ['B_4688']\n",
      "@> VAL128 O_2158 A HIS130 ND1_2196 A 2.9881313558811287 1 ['B_4550']\n",
      "@> ARG131 NH1_2217 A LYS134 NZ_2271 A 5.710161731509885 1 ['B_5003']\n",
      "@> ILE133 N_2244 A ASP187 OD1_3084 A 5.814675743323958 1 ['B_4586']\n",
      "@> SER142 N_2392 A SER142 OG_2397 A 2.80926698624392 1 ['B_4610']\n",
      "@> HIS66 O_1113 A LYS147 NZ_2462 A 5.41979612162672 1 ['B_4493']\n",
      "@> ASP150 N_2505 A GLN61 NE2_1030 A 5.911216541457433 1 ['B_4892']\n",
      "@> GLN61 OE1_1029 A PHE151 N_2517 A 6.454900851291216 1 ['B_4544']\n",
      "@> LYS38 NZ_634 A VAL155 O_2582 A 5.931120214596903 1 ['B_4940']\n",
      "@> ASP163 OD1_2712 A ARG161 NH1_2667 A 4.483816231738315 1 ['B_4694']\n",
      "@> TYR171 OH_2825 A ARG161 NH1_2667 A GLU197 OE2_3245 A 4.584412285124455 3.107807426466447 5.524053131533044 1 ['B_4838']\n",
      "@> GLY167 O_2765 A ARG161 NH1_2667 A 4.50605814432082 1 ['B_4853']\n",
      "@> ARG161 NH2_2668 A GLU197 OE2_3245 A GLY201 O_3310 A 4.708403657291929 8.504299030490401 4.454020543284458 2 ['B_4868', 'B_4520']\n",
      "@> GLY167 N_2762 A THR168 N_2769 A LEU169 N_2783 A 2.6704789832537537 4.7872915098205615 2.8090471694152814 1 ['B_4922']\n",
      "@> GLY167 O_2765 A ARG161 NH1_2667 A 4.50605814432082 1 ['B_4853']\n",
      "@> GLY167 N_2762 A THR168 N_2769 A LEU169 N_2783 A 2.6704789832537537 4.7872915098205615 2.8090471694152814 1 ['B_4922']\n",
      "@> ASP170 O_2805 A TRP189 NE1_3117 A 5.1634571751879585 1 ['B_4502']\n",
      "@> ASP170 OD1_2808 A PHE205 N_3364 A ASP170 O_2805 A 4.852476172017744 4.332515897258773 5.498842332709676 1 ['B_4523']\n",
      "@> TYR171 OH_2825 A ARG161 NH1_2667 A GLU197 OE2_3245 A 4.584412285124455 3.107807426466447 5.524053131533044 1 ['B_4838']\n",
      "@> GLU175 OE2_2890 A ASP183 OD1_3019 A ASP183 N_3013 A 5.2899684309076935 5.407389111206999 2.9224364834842875 1 ['B_4607']\n",
      "@> GLU175 OE2_2890 A ASP183 OD1_3019 A ASP183 N_3013 A 5.2899684309076935 5.407389111206999 2.9224364834842875 1 ['B_4607']\n",
      "@> ILE133 N_2244 A ASP187 OD1_3084 A 5.814675743323958 1 ['B_4586']\n",
      "@> ASP170 O_2805 A TRP189 NE1_3117 A 5.1634571751879585 1 ['B_4502']\n",
      "@> ARG216 NH2_3557 A PRO204 O_3353 A TYR196 OH_3227 A THR223 N_3676 A 2.7404337247961297 6.499038544277143 4.759892645848222 4.973378831337907 5.075000985221581 4.770665991242732 1 ['B_4568']\n",
      "@> ARG161 NH2_2668 A GLU197 OE2_3245 A GLY201 O_3310 A 4.708403657291929 8.504299030490401 4.454020543284458 2 ['B_4868', 'B_4520']\n",
      "@> TYR171 OH_2825 A ARG161 NH1_2667 A GLU197 OE2_3245 A 4.584412285124455 3.107807426466447 5.524053131533044 1 ['B_4838']\n",
      "@> ARG216 NH2_3557 A PRO204 O_3353 A TYR196 OH_3227 A THR223 N_3676 A 2.7404337247961297 6.499038544277143 4.759892645848222 4.973378831337907 5.075000985221581 4.770665991242732 1 ['B_4568']\n",
      "@> ASP170 OD1_2808 A PHE205 N_3364 A ASP170 O_2805 A 4.852476172017744 4.332515897258773 5.498842332709676 1 ['B_4523']\n",
      "@> ASN208 N_3409 A THR209 N_3423 A 2.710287254148535 1 ['B_4793']\n",
      "@> ARG216 NH2_3557 A PRO204 O_3353 A TYR196 OH_3227 A THR223 N_3676 A 2.7404337247961297 6.499038544277143 4.759892645848222 4.973378831337907 5.075000985221581 4.770665991242732 1 ['B_4568']\n",
      "@> THR229 OG1_3777 A GLU106 OE1_1801 A 3.987116878146412 1 ['B_4688']\n",
      "@> GLY231 N_3801 A THR229 OG1_3777 A 3.832463698458211 1 ['B_4808']\n",
      "@> ARG238 NH2_3913 A ARG238 NE_3910 A 2.2930287830727285 1 ['B_4622']\n",
      "@> GLN246 OE1_4050 A HIS242 N_3987 A ASN243 N_4004 A 5.714363919107707 5.239515531039101 2.8698606237934277 1 ['B_4604']\n",
      "@> GLN246 OE1_4050 A HIS242 N_3987 A ASN243 N_4004 A 5.714363919107707 5.239515531039101 2.8698606237934277 1 ['B_4604']\n",
      "@> LEU250 N_4115 A ARG251 N_4134 A 2.731297310803055 1 ['B_4532']\n"
     ]
    },
    {
     "name": "stdout",
     "output_type": "stream",
     "text": [
      "align__addH_4j8mA.pdb\n"
     ]
    },
    {
     "name": "stderr",
     "output_type": "stream",
     "text": [
      "@> 4736 atoms and 1 coordinate set(s) were parsed in 0.04s.\n",
      "@> 39 water bridges detected using method cluster.\n",
      "@> ARG97 NH2_1656 A ARG14 NH2_249 A 5.994152233635707 2 ['B_4643', 'B_4613']\n",
      "@> TYR89 N_1513 A ILE35 O_586 A 4.963694793195895 1 ['B_4436']\n",
      "@> PHE152 N_2529 A GLU58 OE2_993 A 4.077370721433117 1 ['B_4562']\n",
      "@> ARG72 NE_1230 A ARG72 NH2_1236 A LEU73 N_1239 A GLN62 O_1049 A LEU73 O_1244 A 2.290517190505239 4.584184333117508 6.080365202847608 4.896273685160991 5.340862383548184 6.421383651519352 4.301504969193919 4.335430197800446 2.8451372550370873 4.7612129757027235 1 ['B_4622']\n",
      "@> GLN62 O_1049 A LEU71 O_1201 A 4.957878780284972 1 ['B_4691']\n",
      "@> ILE70 O_1182 A LEU65 O_1094 A 5.596048159192344 1 ['B_4457']\n",
      "@> LYS148 NZ_2484 A ILE70 O_1182 A 5.205260512212619 1 ['B_4460']\n",
      "@> GLN62 O_1049 A LEU71 O_1201 A 4.957878780284972 1 ['B_4691']\n",
      "@> ARG72 NE_1230 A ARG72 NH2_1236 A LEU73 N_1239 A GLN62 O_1049 A LEU73 O_1244 A 2.290517190505239 4.584184333117508 6.080365202847608 4.896273685160991 5.340862383548184 6.421383651519352 4.301504969193919 4.335430197800446 2.8451372550370873 4.7612129757027235 1 ['B_4622']\n",
      "@> ARG72 NE_1230 A ARG72 NH2_1236 A LEU73 N_1239 A GLN62 O_1049 A LEU73 O_1244 A 2.290517190505239 4.584184333117508 6.080365202847608 4.896273685160991 5.340862383548184 6.421383651519352 4.301504969193919 4.335430197800446 2.8451372550370873 4.7612129757027235 1 ['B_4622']\n",
      "@> GLU88 OE2_1512 A TYR89 O_1518 A 4.805679348437636 1 ['B_4442']\n",
      "@> TYR89 N_1513 A ILE35 O_586 A 4.963694793195895 1 ['B_4436']\n",
      "@> ARG97 NH2_1656 A ARG97 NE_1650 A LEU92 O_1563 A 2.319032988122422 3.5296225010615543 4.711519181750193 1 ['B_4583']\n",
      "@> ARG97 NH2_1656 A ARG97 NE_1650 A LEU92 O_1563 A 2.319032988122422 3.5296225010615543 4.711519181750193 1 ['B_4583']\n",
      "@> ARG97 NH2_1656 A ARG14 NH2_249 A 5.994152233635707 2 ['B_4643', 'B_4613']\n",
      "@> THR230 N_3784 A GLU107 OE2_1830 A 4.350843826201993 1 ['B_4454']\n",
      "@> ILE134 N_2256 A ASP133 N_2244 A ARG132 N_2220 A 2.7528323595889366 4.8767590672494725 2.888847694150727 1 ['B_4502']\n",
      "@> ILE134 N_2256 A ASP133 N_2244 A ARG132 N_2220 A 2.7528323595889366 4.8767590672494725 2.888847694150727 1 ['B_4502']\n",
      "@> LYS148 NZ_2484 A ILE70 O_1182 A 5.205260512212619 1 ['B_4460']\n",
      "@> SER155 N_2580 A GLY153 N_2549 A ASP151 O_2522 A TRP154 N_2556 A 4.3046815213207115 5.807923036680153 2.755276755609135 3.3651872161887266 2.9254785933245175 4.990010020030022 1 ['B_4577']\n",
      "@> PHE152 N_2529 A GLU58 OE2_993 A 4.077370721433117 1 ['B_4562']\n",
      "@> SER155 N_2580 A GLY153 N_2549 A ASP151 O_2522 A TRP154 N_2556 A 4.3046815213207115 5.807923036680153 2.755276755609135 3.3651872161887266 2.9254785933245175 4.990010020030022 1 ['B_4577']\n",
      "@> TYR172 N_2826 A THR169 O_2786 A 5.001061187388133 1 ['B_4472']\n",
      "@> ASP171 O_2819 A TRP190 NE1_3134 A 5.093460120586006 1 ['B_4475']\n",
      "@> PHE206 N_3376 A ASP171 O_2819 A ASP171 OD1_2824 A 5.560764695615158 4.8816363035359345 4.261636892087355 1 ['B_4553']\n",
      "@> ASP171 OD2_2825 A ALA208 N_3411 A 5.836198248860298 1 ['B_4655']\n",
      "@> TYR172 N_2826 A THR169 O_2786 A 5.001061187388133 1 ['B_4472']\n",
      "@> HIS243 ND1_4009 A GLU176 OE1_2907 A 6.252455997446123 1 ['B_4616']\n",
      "@> ASP171 O_2819 A TRP190 NE1_3134 A 5.093460120586006 1 ['B_4475']\n",
      "@> THR224 N_3688 A TYR197 OH_3247 A 4.681833081176646 1 ['B_4466']\n",
      "@> PHE206 N_3376 A ASP171 O_2819 A ASP171 OD1_2824 A 5.560764695615158 4.8816363035359345 4.261636892087355 1 ['B_4553']\n",
      "@> THR224 N_3688 A TYR197 OH_3247 A 4.681833081176646 1 ['B_4466']\n",
      "@> THR230 N_3784 A GLU107 OE2_1830 A 4.350843826201993 1 ['B_4454']\n",
      "@> THR230 OG1_3792 A GLY232 N_3813 A 3.98413051995037 1 ['B_4514']\n",
      "@> LEU241 O_3963 A SER238 O_3909 A 3.9270481280473293 1 ['B_4571']\n",
      "@> GLN247 O_4060 A LYS242 NZ_3995 A 4.519656845381073 2 ['B_4688', 'B_4595']\n",
      "@> HIS243 ND1_4009 A GLU176 OE1_2907 A 6.252455997446123 1 ['B_4616']\n",
      "@> SER246 O_4049 A ARG248 O_4077 A 3.8958065917085754 1 ['B_4532']\n",
      "@> SER246 O_4049 A ARG248 O_4077 A 3.8958065917085754 1 ['B_4532']\n"
     ]
    },
    {
     "name": "stdout",
     "output_type": "stream",
     "text": [
      "align__addH_4deaA.pdb\n"
     ]
    },
    {
     "name": "stderr",
     "output_type": "stream",
     "text": [
      "@> 4391 atoms and 1 coordinate set(s) were parsed in 0.04s.\n",
      "@> 1 water bridges detected using method cluster.\n",
      "@> LYS36 NZ_598 A ASP148 O_2454 A 4.309393460801651 1 ['B_4352']\n"
     ]
    },
    {
     "name": "stdout",
     "output_type": "stream",
     "text": [
      "align__addH_3uojA.pdb\n",
      "align__addH_8c15A.pdb\n"
     ]
    },
    {
     "name": "stderr",
     "output_type": "stream",
     "text": [
      "@> 4492 atoms and 1 coordinate set(s) were parsed in 0.04s.\n",
      "@> 19 water bridges detected using method cluster.\n",
      "@> ASP77 OD2_1311 A LEU5 N_77 A 6.2888969621071045 1 ['B_4471']\n",
      "@> ASN136 ND2_2293 A LYS18 NZ_295 A 6.261505649602177 1 ['B_4405']\n",
      "@> ASP149 N_2473 A GLN60 OE1_1013 A 4.785671426247317 1 ['B_4438']\n",
      "@> ARG70 NE_1186 A LEU71 N_1195 A LEU71 O_1200 A ARG64 NH1_1082 A 4.4915896963102035 4.7092781824818974 3.5934615623379087 2.798897104218017 6.126804224063311 5.206287064693994 1 ['B_4417']\n",
      "@> ARG70 NE_1186 A LEU71 N_1195 A LEU71 O_1200 A ARG64 NH1_1082 A 4.4915896963102035 4.7092781824818974 3.5934615623379087 2.798897104218017 6.126804224063311 5.206287064693994 1 ['B_4417']\n",
      "@> ASP77 OD2_1311 A LEU5 N_77 A 6.2888969621071045 1 ['B_4471']\n",
      "@> LYS146 NZ_2440 A GLU86 OE1_1467 A 4.024028951188097 1 ['B_4378']\n",
      "@> ASP182 OD1_3000 A ILE132 N_2212 A ASP131 N_2200 A 5.439047251127719 4.869496175170486 2.877949617349129 1 ['B_4396']\n",
      "@> LYS133 NZ_2249 A ASP131 OD2_2211 A 3.832860159202263 1 ['B_4414']\n",
      "@> LYS133 NZ_2249 A ASP131 OD2_2211 A 3.832860159202263 1 ['B_4414']\n",
      "@> GLU135 OE2_2281 A LYS133 NZ_2249 A 3.7054740587406596 1 ['B_4426']\n",
      "@> GLU135 OE1_2280 A GLU135 N_2267 A 4.3716621552905925 1 ['B_4420']\n",
      "@> GLU135 O_2272 A ASN136 ND2_2293 A 3.342470643102196 1 ['B_4372']\n",
      "@> GLU135 OE2_2281 A LYS133 NZ_2249 A 3.7054740587406596 1 ['B_4426']\n",
      "@> GLU135 O_2272 A ASN136 ND2_2293 A 3.342470643102196 1 ['B_4372']\n",
      "@> ASN136 ND2_2293 A LYS18 NZ_295 A 6.261505649602177 1 ['B_4405']\n",
      "@> LYS146 NZ_2440 A GLU86 OE1_1467 A 4.024028951188097 1 ['B_4378']\n",
      "@> ASP149 N_2473 A GLN60 OE1_1013 A 4.785671426247317 1 ['B_4438']\n",
      "@> ASP182 OD1_3000 A ILE132 N_2212 A ASP131 N_2200 A 5.439047251127719 4.869496175170486 2.877949617349129 1 ['B_4396']\n",
      "@> 4574 atoms and 1 coordinate set(s) were parsed in 0.04s.\n",
      "@> 17 water bridges detected using method cluster.\n",
      "@> TYR86 N_1445 A ILE32 O_518 A 4.755147316329952 2 ['B_4388', 'B_4358']\n",
      "@> ARG54 NH1_905 A ARG129 NH2_2173 A 4.391211564021935 1 ['B_4445']\n",
      "@> ASP148 N_2449 A GLN59 NE2_990 A 4.903974408579229 1 ['B_4412']\n",
      "@> LYS145 NZ_2416 A ILE67 O_1114 A HIS64 O_1069 A 4.582242027654147 5.231099597598959 3.341483053974683 1 ['B_4382']\n",
      "@> TYR86 N_1445 A ILE32 O_518 A 4.755147316329952 2 ['B_4388', 'B_4358']\n",
      "@> LYS98 NZ_1660 A ARG94 NE_1582 A 3.1228688733278576 1 ['B_4385']\n",
      "@> GLU104 OE2_1762 A THR227 OG1_3723 A 2.6066303919044573 1 ['B_4421']\n",
      "@> ARG54 NH1_905 A ARG129 NH2_2173 A 4.391211564021935 1 ['B_4445']\n",
      "@> PRO133 N_2229 A GLU134 N_2243 A 2.8202264093508482 1 ['B_4451']\n",
      "@> LYS145 NZ_2416 A ILE67 O_1114 A HIS64 O_1069 A 4.582242027654147 5.231099597598959 3.341483053974683 1 ['B_4382']\n",
      "@> ASP148 N_2449 A GLN59 NE2_990 A 4.903974408579229 1 ['B_4412']\n",
      "@> TYR169 N_2757 A LEU167 N_2726 A THR166 O_2717 A 4.834741875219402 4.962515188893629 2.3001265182593733 1 ['B_4361']\n",
      "@> TYR169 N_2757 A LEU167 N_2726 A THR166 O_2717 A 4.834741875219402 4.962515188893629 2.3001265182593733 1 ['B_4361']\n",
      "@> TRP187 NE1_3065 A LEU170 N_2778 A 4.365926820275394 1 ['B_4391']\n",
      "@> ASP181 N_2956 A GLU173 OE2_2839 A 5.9246692734700375 1 ['B_4448']\n",
      "@> TRP187 NE1_3065 A LEU170 N_2778 A 4.365926820275394 1 ['B_4391']\n",
      "@> GLU104 OE2_1762 A THR227 OG1_3723 A 2.6066303919044573 1 ['B_4421']\n"
     ]
    },
    {
     "name": "stdout",
     "output_type": "stream",
     "text": [
      "align__addH_8c1eA.pdb\n"
     ]
    },
    {
     "name": "stderr",
     "output_type": "stream",
     "text": [
      "@> 4241 atoms and 1 coordinate set(s) were parsed in 0.04s.\n",
      "@> 1 water bridges detected using method cluster.\n",
      "@> ARG94 NH1_1585 A ARG94 NE_1582 A 2.2975258431625925 1 ['B_4232']\n"
     ]
    },
    {
     "name": "stdout",
     "output_type": "stream",
     "text": [
      "align__addH_2w1eA.pdb\n",
      "align__addH_3w16A.pdb\n"
     ]
    },
    {
     "name": "stderr",
     "output_type": "stream",
     "text": [
      "@> 4149 atoms and 1 coordinate set(s) were parsed in 0.04s.\n",
      "@> 1 water bridges detected using method cluster.\n",
      "@> TRP174 NE1_2865 A ASP158 O_2608 A 5.31114780438278 1 ['B_4128']\n",
      "@> 4199 atoms and 1 coordinate set(s) were parsed in 0.04s.\n",
      "@> 0 water bridges detected using method cluster.\n",
      "@> 4619 atoms and 1 coordinate set(s) were parsed in 0.04s.\n",
      "@> 26 water bridges detected using method cluster.\n",
      "@> GLU8 OE2_142 A LEU7 N_109 A 3.5802343498715294 1 ['B_4478']\n",
      "@> SER155 O_2573 A LYS20 N_309 A 2.7693974073794423 1 ['B_4445']\n",
      "@> ASN23 N_358 A LYS39 NZ_654 A 5.773388000126098 1 ['B_4496']\n",
      "@> LYS43 N_713 A THR81 O_1359 A 2.879637650816503 1 ['B_4460']\n",
      "@> ARG72 NE_1218 A SER63 O_1054 A 5.244641741816117 1 ['B_4577']\n",
      "@> LYS148 NZ_2472 A HIS67 O_1125 A PRO68 O_1141 A 5.342378777286388 2.776700560017232 3.748435006772828 1 ['B_4466']\n",
      "@> ARG72 NE_1218 A SER63 O_1054 A 5.244641741816117 1 ['B_4577']\n",
      "@> LYS43 N_713 A THR81 O_1359 A 2.879637650816503 1 ['B_4460']\n",
      "@> GLN108 N_1819 A GLU107 N_1804 A 2.7922995899437453 1 ['B_4535']\n",
      "@> GLU107 OE2_1818 A THR230 N_3766 A 4.53716155762609 1 ['B_4493']\n",
      "@> GLY145 O_2419 A TYR113 OH_1917 A 4.521856587730309 1 ['B_4505']\n",
      "@> VAL129 O_2161 A HIS125 NE2_2098 A 4.245747990637222 1 ['B_4613']\n",
      "@> LYS135 NZ_2281 A ASN138 ND2_2325 A 4.062843585470651 1 ['B_4595']\n",
      "@> SER143 N_2392 A SER143 OG_2401 A 2.7361697681247774 1 ['B_4490']\n",
      "@> GLY145 O_2419 A TYR113 OH_1917 A 4.521856587730309 1 ['B_4505']\n",
      "@> LYS148 NZ_2472 A HIS67 O_1125 A PRO68 O_1141 A 5.342378777286388 2.776700560017232 3.748435006772828 1 ['B_4466']\n",
      "@> SER155 O_2573 A LYS20 N_309 A 2.7693974073794423 1 ['B_4445']\n",
      "@> ASP171 N_2796 A ASP171 OD2_2807 A 3.924652468690695 1 ['B_4523']\n",
      "@> ASP171 O_2801 A PHE206 N_3358 A 5.544530097312125 1 ['B_4475']\n",
      "@> TRP190 NE1_3116 A LEU173 N_2829 A 4.6520220334817886 1 ['B_4439']\n",
      "@> ASP184 OD1_3017 A ASP184 N_3007 A 2.8323781527190195 1 ['B_4481']\n",
      "@> TRP190 NE1_3116 A LEU173 N_2829 A 4.6520220334817886 1 ['B_4439']\n",
      "@> PRO205 O_3348 A THR224 N_3670 A 5.087507346432042 1 ['B_4544']\n",
      "@> ASP171 O_2801 A PHE206 N_3358 A 5.544530097312125 1 ['B_4475']\n",
      "@> GLU107 OE2_1818 A THR230 N_3766 A 4.53716155762609 1 ['B_4493']\n",
      "@> GLY232 N_3795 A THR230 OG1_3774 A 3.9811642769421103 1 ['B_4463']\n"
     ]
    },
    {
     "name": "stdout",
     "output_type": "stream",
     "text": [
      "align__addH_6graA.pdb\n",
      "align__addH_3h10A.pdb\n"
     ]
    },
    {
     "name": "stderr",
     "output_type": "stream",
     "text": [
      "@> 4657 atoms and 1 coordinate set(s) were parsed in 0.04s.\n",
      "@> 38 water bridges detected using method cluster.\n",
      "@> TYR76 N_1281 A LYS2 NZ_37 A 5.843388828411131 1 ['B_4204']\n",
      "@> TRP5 N_82 A TYR76 O_1286 A 5.071166433869035 1 ['B_4207']\n",
      "@> ARG14 NH2_244 A ARG14 NE_238 A 2.2975573986301185 1 ['B_4231']\n",
      "@> ILE35 O_581 A TYR89 N_1508 A 4.707824975506203 1 ['B_4252']\n",
      "@> GLY50 O_841 A HIS53 N_873 A HIS53 ND1_883 A GLN54 N_890 A 5.008998901976323 4.447037215945016 5.492260918783811 2.892158017812993 2.680792793186373 4.91303796036627 1 ['B_4258']\n",
      "@> GLY50 O_841 A HIS53 N_873 A HIS53 ND1_883 A GLN54 N_890 A 5.008998901976323 4.447037215945016 5.492260918783811 2.892158017812993 2.680792793186373 4.91303796036627 1 ['B_4258']\n",
      "@> LEU65 O_1089 A HIS67 N_1127 A 4.2643684174799 1 ['B_4264']\n",
      "@> ILE70 O_1177 A GLU88 OE1_1506 A LYS148 NZ_2479 A 4.034989343232513 5.129494029629041 4.027082070184316 1 ['B_4270']\n",
      "@> TYR76 N_1281 A LYS2 NZ_37 A 5.843388828411131 1 ['B_4204']\n",
      "@> TRP5 N_82 A TYR76 O_1286 A 5.071166433869035 1 ['B_4207']\n",
      "@> ILE35 O_581 A TYR89 N_1508 A 4.707824975506203 1 ['B_4252']\n",
      "@> LEU183 O_3038 A LYS104 NZ_1775 A 4.521683093716318 1 ['B_4345']\n",
      "@> ARG109 NE_1858 A ASP106 N_1799 A 5.68090529757362 1 ['B_4351']\n",
      "@> GLU107 OE1_1824 A GLU107 OE2_1825 A THR213 OG1_3541 A 2.186831726493835 3.970104532628833 2.5697348112208016 1 ['B_4363']\n",
      "@> GLU107 OE2_1825 A THR213 N_3533 A 4.353063633810102 1 ['B_4366']\n",
      "@> ARG109 NE_1858 A ASP106 N_1799 A 5.68090529757362 1 ['B_4351']\n",
      "@> HIS131 O_2203 A ASP133 N_2239 A 3.849981428526633 1 ['B_4426']\n",
      "@> LYS249 NZ_4136 A GLY145 O_2426 A 4.406904582584014 1 ['B_4384']\n",
      "@> ILE70 O_1177 A GLU88 OE1_1506 A LYS148 NZ_2479 A 4.034989343232513 5.129494029629041 4.027082070184316 1 ['B_4270']\n",
      "@> ASP154 O_2568 A ASP154 OD1_2573 A PHE189 N_3125 A 4.438983104270619 5.463112208256388 5.050920312180744 1 ['B_4459']\n",
      "@> ARG164 NH2_2737 A GLU159 N_2643 A 4.976991460711981 1 ['B_4471']\n",
      "@> GLU159 OE2_2657 A ASP167 N_2774 A 5.388275048658895 1 ['B_4474']\n",
      "@> GLU159 OE2_2657 A ASP167 N_2774 A 5.388275048658895 1 ['B_4474']\n",
      "@> GLU168 OE2_2800 A LYS169 NZ_2819 A 5.174119925166017 1 ['B_4480']\n",
      "@> ARG200 NH2_3329 A TYR180 OH_2996 A THR207 N_3437 A 6.7628521350093145 5.213936133095617 4.637643690496286 1 ['B_4486']\n",
      "@> LEU183 O_3038 A LYS104 NZ_1775 A 4.521683093716318 1 ['B_4345']\n",
      "@> ASP154 O_2568 A ASP154 OD1_2573 A PHE189 N_3125 A 4.438983104270619 5.463112208256388 5.050920312180744 1 ['B_4459']\n",
      "@> ARG200 NH2_3329 A GLU190 O_3150 A 4.007565345693065 1 ['B_4501']\n",
      "@> ALA191 N_3160 A ALA191 O_3165 A 2.6769835636402406 1 ['B_4465']\n",
      "@> ARG200 NH2_3329 A TYR180 OH_2996 A THR207 N_3437 A 6.7628521350093145 5.213936133095617 4.637643690496286 1 ['B_4486']\n",
      "@> ARG200 NH2_3329 A GLU190 O_3150 A 4.007565345693065 1 ['B_4501']\n",
      "@> GLU107 OE2_1825 A THR213 N_3533 A 4.353063633810102 1 ['B_4366']\n",
      "@> GLU107 OE1_1824 A GLU107 OE2_1825 A THR213 OG1_3541 A 2.186831726493835 3.970104532628833 2.5697348112208016 1 ['B_4363']\n",
      "@> GLY215 N_3562 A THR213 OG1_3541 A 3.835267005046714 1 ['B_4564']\n",
      "@> LEU224 O_3712 A SER221 O_3658 A 3.9515033847891408 1 ['B_4588']\n",
      "@> ASN227 N_3765 A HIS226 ND1_3758 A 3.7217799505075515 1 ['B_4615']\n",
      "@> LEU234 N_3876 A ARG235 N_3895 A 2.801227409547464 2 ['B_4624', 'B_4621']\n",
      "@> LYS249 NZ_4136 A GLY145 O_2426 A 4.406904582584014 1 ['B_4384']\n"
     ]
    },
    {
     "name": "stdout",
     "output_type": "stream",
     "text": [
      "align__addH_4uzhA.pdb\n"
     ]
    },
    {
     "name": "stderr",
     "output_type": "stream",
     "text": [
      "@> 4683 atoms and 1 coordinate set(s) were parsed in 0.04s.\n",
      "@> 35 water bridges detected using method cluster.\n",
      "@> PHE18 O_280 A PHE39 N_637 A 4.803207365917072 1 ['B_4431']\n",
      "@> LYS36 NZ_598 A ASP148 OD1_2459 A GLU55 OE2_925 A 3.7110476957322986 2.8857576128289075 4.101888101837981 1 ['B_4389']\n",
      "@> GLY47 O_778 A HIS50 N_810 A HIS50 ND1_820 A 5.044192799645949 3.565433774451577 3.2520004612545805 2 ['B_4578', 'B_4509']\n",
      "@> GLY47 O_778 A HIS50 N_810 A HIS50 ND1_820 A 5.044192799645949 3.565433774451577 3.2520004612545805 2 ['B_4578', 'B_4509']\n",
      "@> ARG54 NE_902 A GLY150 O_2487 A 5.785494793014685 1 ['B_4605']\n",
      "@> LYS36 NZ_598 A ASP148 OD1_2459 A GLU55 OE2_925 A 3.7110476957322986 2.8857576128289075 4.101888101837981 1 ['B_4389']\n",
      "@> LEU62 O_1026 A ARG69 NE_1162 A LEU70 N_1171 A GLN59 O_981 A 4.287812729119591 6.267650117867143 3.8064982595556254 4.289246320742141 5.3374071420494005 4.22144442104832 1 ['B_4404']\n",
      "@> ILE67 O_1114 A HIS64 O_1069 A 3.076910463435685 1 ['B_4560']\n",
      "@> LEU62 O_1026 A ARG69 NE_1162 A LEU70 N_1171 A GLN59 O_981 A 4.287812729119591 6.267650117867143 3.8064982595556254 4.289246320742141 5.3374071420494005 4.22144442104832 1 ['B_4404']\n",
      "@> TYR86 O_1450 A GLU85 OE2_1444 A 4.693708981178959 1 ['B_4446']\n",
      "@> ASP103 N_1736 A ASP103 OD2_1747 A 3.813921866006169 1 ['B_4617']\n",
      "@> THR227 N_3714 A GLU104 OE2_1762 A 4.496735037780188 1 ['B_4497']\n",
      "@> ASP130 N_2176 A ILE131 N_2188 A 2.76235298251328 1 ['B_4518']\n",
      "@> ASP130 OD2_2187 A ASP148 O_2454 A 4.93169696960387 1 ['B_4452']\n",
      "@> GLU134 OE2_2257 A GLU134 N_2243 A 4.389270554431569 1 ['B_4416']\n",
      "@> GLU134 OE1_2256 A ASN135 OD1_2268 A ASN135 ND2_2269 A 4.951215810283368 5.429249119353432 2.2575938518697276 1 ['B_4572']\n",
      "@> GLU134 OE1_2256 A ASN135 OD1_2268 A ASN135 ND2_2269 A 4.951215810283368 5.429249119353432 2.2575938518697276 1 ['B_4572']\n",
      "@> ASP130 OD2_2187 A ASP148 O_2454 A 4.93169696960387 1 ['B_4452']\n",
      "@> LYS36 NZ_598 A ASP148 OD1_2459 A GLU55 OE2_925 A 3.7110476957322986 2.8857576128289075 4.101888101837981 1 ['B_4389']\n",
      "@> ARG54 NE_902 A GLY150 O_2487 A 5.785494793014685 1 ['B_4605']\n",
      "@> THR166 O_2716 A TYR169 N_2756 A 5.01419724382677 1 ['B_4428']\n",
      "@> ASP168 OD1_2754 A PHE203 N_3306 A 5.080844910051867 1 ['B_4521']\n",
      "@> TRP187 NE1_3064 A LEU170 N_2777 A 4.4847279739132455 1 ['B_4470']\n",
      "@> ASP181 N_2955 A GLU173 OE2_2838 A 5.6408996622879215 1 ['B_4494']\n",
      "@> TRP187 NE1_3064 A LEU170 N_2777 A 4.4847279739132455 1 ['B_4470']\n",
      "@> THR221 N_3618 A THR221 O_3623 A TYR194 OH_3177 A ARG214 NH2_3510 A 2.717232047507167 4.805605060759777 4.79369606879702 2.718349131366314 6.165764348399962 6.323688322490286 1 ['B_4485']\n",
      "@> ASP168 OD1_2754 A PHE203 N_3306 A 5.080844910051867 1 ['B_4521']\n",
      "@> HIS240 NE2_3944 A SER216 O_3537 A 3.602221675577449 1 ['B_4395']\n",
      "@> THR221 N_3618 A THR221 O_3623 A TYR194 OH_3177 A ARG214 NH2_3510 A 2.717232047507167 4.805605060759777 4.79369606879702 2.718349131366314 6.165764348399962 6.323688322490286 1 ['B_4485']\n",
      "@> ASP224 OD1_3676 A ARG231 NH2_3781 A 4.8437066385155925 1 ['B_4539']\n",
      "@> THR227 N_3714 A GLU104 OE2_1762 A 4.496735037780188 1 ['B_4497']\n",
      "@> GLY229 N_3743 A THR227 OG1_3722 A 3.8839626671738245 1 ['B_4599']\n",
      "@> ASP224 OD1_3676 A ARG231 NH2_3781 A 4.8437066385155925 1 ['B_4539']\n",
      "@> HIS240 NE2_3944 A SER216 O_3537 A 3.602221675577449 1 ['B_4395']\n",
      "@> LEU248 N_4057 A ARG249 N_4076 A 2.802429303300978 1 ['B_4602']\n"
     ]
    },
    {
     "name": "stdout",
     "output_type": "stream",
     "text": [
      "align__addH_5orvA.pdb\n"
     ]
    },
    {
     "name": "stderr",
     "output_type": "stream",
     "text": [
      "@> 4523 atoms and 1 coordinate set(s) were parsed in 0.04s.\n",
      "@> 18 water bridges detected using method cluster.\n",
      "@> ILE67 O_1114 A HIS64 O_1069 A 3.1765125530997023 1 ['B_4436']\n",
      "@> LYS145 NZ_2416 A GLU85 OE1_1443 A GLU85 OE2_1444 A 4.4454788268531855 3.7240259129066247 2.1889419818716016 1 ['B_4409']\n",
      "@> HIS128 ND1_2145 A SER152 N_2512 A ASP148 O_2454 A HIS128 O_2140 A 5.790971852806745 4.244270608714769 3.3410832075840298 5.937646166621921 3.4159938524534836 5.811894699665507 1 ['B_4487']\n",
      "@> GLU134 OE1_2256 A ASN135 ND2_2269 A 6.457369510876698 2 ['B_4502', 'B_4406']\n",
      "@> LYS145 NZ_2416 A GLU85 OE1_1443 A GLU85 OE2_1444 A 4.4454788268531855 3.7240259129066247 2.1889419818716016 1 ['B_4409']\n",
      "@> HIS128 ND1_2145 A SER152 N_2512 A ASP148 O_2454 A HIS128 O_2140 A 5.790971852806745 4.244270608714769 3.3410832075840298 5.937646166621921 3.4159938524534836 5.811894699665507 1 ['B_4487']\n",
      "@> ASP168 N_2744 A THR166 O_2716 A TYR169 N_2756 A 3.8648575652926715 2.867718431087683 5.053165443561097 1 ['B_4430']\n",
      "@> TRP187 NE1_3064 A LEU170 N_2777 A ASP168 O_2749 A 4.467370031685309 5.245772202450274 3.8414441294908865 1 ['B_4469']\n",
      "@> PHE203 N_3306 A ASP168 O_2749 A 5.820360212220549 1 ['B_4499']\n",
      "@> ASP168 N_2744 A THR166 O_2716 A TYR169 N_2756 A 3.8648575652926715 2.867718431087683 5.053165443561097 1 ['B_4430']\n",
      "@> GLU173 OE1_2837 A HIS240 O_3934 A 4.513510939390754 1 ['B_4421']\n",
      "@> TRP187 NE1_3064 A LEU170 N_2777 A ASP168 O_2749 A 4.467370031685309 5.245772202450274 3.8414441294908865 1 ['B_4469']\n",
      "@> TYR194 OH_3177 A THR221 N_3618 A THR221 O_3623 A 4.781245026141202 2.788683022503634 2.6725061272146777 1 ['B_4472']\n",
      "@> PHE203 N_3306 A ASP168 O_2749 A 5.820360212220549 1 ['B_4499']\n",
      "@> TYR194 OH_3177 A THR221 N_3618 A THR221 O_3623 A 4.781245026141202 2.788683022503634 2.6725061272146777 1 ['B_4472']\n",
      "@> GLY229 N_3743 A THR227 OG1_3722 A 3.626844496252906 1 ['B_4466']\n",
      "@> GLU173 OE1_2837 A HIS240 O_3934 A 4.513510939390754 1 ['B_4421']\n",
      "@> ASN241 N_3946 A GLN244 OE1_3998 A 4.544122137443054 1 ['B_4493']\n"
     ]
    },
    {
     "name": "stdout",
     "output_type": "stream",
     "text": [
      "align__addH_5ortA.pdb\n"
     ]
    },
    {
     "name": "stderr",
     "output_type": "stream",
     "text": [
      "@> 4419 atoms and 1 coordinate set(s) were parsed in 0.04s.\n",
      "@> 1 water bridges detected using method cluster.\n",
      "@> LYS38 NZ_644 A ASP150 O_2500 A 4.070677216385501 1 ['B_4416']\n"
     ]
    },
    {
     "name": "stdout",
     "output_type": "stream",
     "text": [
      "align__addH_3uokA.pdb\n",
      "align__addH_4b0gA.pdb\n"
     ]
    },
    {
     "name": "stderr",
     "output_type": "stream",
     "text": [
      "@> 4254 atoms and 1 coordinate set(s) were parsed in 0.04s.\n",
      "@> 17 water bridges detected using method cluster.\n",
      "@> ILE64 O_1084 A LEU59 O_996 A 5.5082292072861305 1 ['B_4152']\n",
      "@> ASN113 ND2_1921 A ASN63 OD1_1075 A 5.168807309234887 1 ['B_4161']\n",
      "@> LYS142 NZ_2386 A ILE64 O_1084 A GLU82 OE1_1413 A 4.464399735686758 3.783557320829168 3.8546695059369176 1 ['B_4155']\n",
      "@> TYR68 OH_1179 A TYR83 N_1415 A 5.158489507598131 1 ['B_4146']\n",
      "@> TYR68 OH_1179 A TYR83 N_1415 A 5.158489507598131 1 ['B_4146']\n",
      "@> ASP100 N_1706 A ARG103 NE_1765 A 5.3639221657291 1 ['B_4188']\n",
      "@> THR109 OG1_1860 A LEU234 O_3886 A 5.577537090867262 1 ['B_4200']\n",
      "@> ASN113 ND2_1921 A ASN63 OD1_1075 A 5.168807309234887 1 ['B_4161']\n",
      "@> LYS129 N_2177 A ASP145 OD2_2430 A 5.185150046044955 1 ['B_4203']\n",
      "@> LYS142 NZ_2386 A ILE64 O_1084 A GLU82 OE1_1413 A 4.464399735686758 3.783557320829168 3.8546695059369176 1 ['B_4155']\n",
      "@> ASP153 O_2547 A TRP169 NE1_2814 A LEU155 N_2575 A 5.331927793959704 3.7955733427243907 4.940394822278883 1 ['B_4209']\n",
      "@> PHE185 N_3056 A ASP153 OD1_2552 A 4.835801071177347 1 ['B_4212']\n",
      "@> ASP153 O_2547 A TRP169 NE1_2814 A LEU155 N_2575 A 5.331927793959704 3.7955733427243907 4.940394822278883 1 ['B_4209']\n",
      "@> PHE185 N_3056 A ASP153 OD1_2552 A 4.835801071177347 1 ['B_4212']\n",
      "@> THR209 OG1_3472 A THR209 N_3464 A 3.0055982765499465 1 ['B_4194']\n",
      "@> ASN223 N_3696 A GLN226 OE1_3748 A 5.037000992654257 1 ['B_4236']\n",
      "@> THR109 OG1_1860 A LEU234 O_3886 A 5.577537090867262 1 ['B_4200']\n",
      "@> 4116 atoms and 1 coordinate set(s) were parsed in 0.04s.\n",
      "@> 0 water bridges detected using method cluster.\n",
      "@> 4440 atoms and 1 coordinate set(s) were parsed in 0.04s.\n",
      "@> 29 water bridges detected using method cluster.\n",
      "@> TYR86 N_1474 A ILE34 O_564 A 4.7309171415276365 1 ['B_4206']\n"
     ]
    },
    {
     "name": "stdout",
     "output_type": "stream",
     "text": [
      "align__addH_1ol6A.pdb\n",
      "align__addH_4uynA.pdb\n"
     ]
    },
    {
     "name": "stderr",
     "output_type": "stream",
     "text": [
      "@> ARG69 NH1_1194 A GLN59 O_1010 A LEU68 O_1162 A 3.7369345726142993 4.9933863259315325 4.943933959914918 1 ['B_4218']\n",
      "@> LYS247 NZ_4109 A ASN66 ND2_1135 A 5.837248923936683 1 ['B_4227']\n",
      "@> LYS145 NZ_2445 A ILE67 O_1143 A 5.276030610222042 1 ['B_4224']\n",
      "@> ARG69 NH1_1194 A GLN59 O_1010 A LEU68 O_1162 A 3.7369345726142993 4.9933863259315325 4.943933959914918 1 ['B_4218']\n",
      "@> TYR86 N_1474 A ILE34 O_564 A 4.7309171415276365 1 ['B_4206']\n",
      "@> LEU181 O_3011 A PHE102 O_1750 A 4.177926160190007 1 ['B_4263']\n",
      "@> THR211 OG1_3514 A GLU104 OE1_1790 A 4.114021268783138 1 ['B_4275']\n",
      "@> ASP130 O_2210 A ALA147 N_2468 A ASP148 N_2478 A 5.694303908292916 4.812071799131842 2.6971677737953192 1 ['B_4305']\n",
      "@> ILE131 N_2217 A SER172 OG_2876 A 5.372223189704609 1 ['B_4302']\n",
      "@> LYS145 NZ_2445 A ILE67 O_1143 A 5.276030610222042 1 ['B_4224']\n",
      "@> ASP130 O_2210 A ALA147 N_2468 A ASP148 N_2478 A 5.694303908292916 4.812071799131842 2.6971677737953192 1 ['B_4305']\n",
      "@> PHE187 N_3098 A ASP152 OD1_2546 A GLU188 N_3118 A 4.8934099562575 2.6530567276256996 3.7203092613383664 1 ['B_4323']\n",
      "@> ALA189 O_3138 A ASP152 OD1_2546 A ALA189 N_3133 A 6.544630394453148 2.7149732963695943 5.143511932522371 1 ['B_4329']\n",
      "@> LEU154 N_2569 A TYR153 N_2548 A 2.723243286965012 1 ['B_4317']\n",
      "@> TRP171 NE1_2856 A LEU154 O_2574 A 3.393891866279772 1 ['B_4326']\n",
      "@> ASP165 N_2747 A GLU157 OE2_2630 A 5.434185587555873 1 ['B_4335']\n",
      "@> TRP171 NE1_2856 A LEU154 O_2574 A 3.393891866279772 1 ['B_4326']\n",
      "@> ILE131 N_2217 A SER172 OG_2876 A 5.372223189704609 1 ['B_4302']\n",
      "@> LEU181 O_3011 A PHE102 O_1750 A 4.177926160190007 1 ['B_4263']\n",
      "@> PRO186 O_3088 A THR205 N_3410 A ARG198 NH2_3302 A 4.933254909286563 3.0128388606097083 5.075606958778428 1 ['B_4347']\n",
      "@> PHE187 N_3098 A ASP152 OD1_2546 A GLU188 N_3118 A 4.8934099562575 2.6530567276256996 3.7203092613383664 1 ['B_4323']\n",
      "@> ALA189 O_3138 A ASP152 OD1_2546 A ALA189 N_3133 A 6.544630394453148 2.7149732963695943 5.143511932522371 1 ['B_4329']\n",
      "@> PRO186 O_3088 A THR205 N_3410 A ARG198 NH2_3302 A 4.933254909286563 3.0128388606097083 5.075606958778428 1 ['B_4347']\n",
      "@> THR211 OG1_3514 A THR211 N_3506 A 3.042842421158219 1 ['B_4278']\n",
      "@> THR211 OG1_3514 A GLU104 OE1_1790 A 4.114021268783138 1 ['B_4275']\n",
      "@> HIS224 N_3721 A ASN225 N_3738 A 2.785223509882105 1 ['B_4407']\n",
      "@> SER245 O_4074 A ASN244 O_4060 A 3.5476118727955575 1 ['B_4431']\n",
      "@> LYS247 NZ_4109 A ASN66 ND2_1135 A 5.837248923936683 1 ['B_4227']\n",
      "@> 4647 atoms and 1 coordinate set(s) were parsed in 0.04s.\n",
      "@> 27 water bridges detected using method cluster.\n",
      "@> PRO89 O_1504 A ARG12 NH2_205 A 5.966507018348337 1 ['B_4410']\n",
      "@> PHE19 N_299 A LYS18 N_277 A 2.78886159570532 1 ['B_4377']\n",
      "@> HIS51 N_834 A HIS51 ND1_844 A 3.1140032113021325 1 ['B_4428']\n",
      "@> LEU63 O_1050 A GLN60 O_1005 A 3.743606416278295 1 ['B_4491']\n",
      "@> ARG70 NE_1186 A LEU71 N_1195 A GLN60 O_1005 A 4.524357854988926 6.146116172022782 4.52161807321229 1 ['B_4551']\n",
      "@> GLN60 OE1_1013 A PHE150 N_2485 A 4.354733172078398 1 ['B_4383']\n",
      "@> HIS65 N_1088 A HIS65 O_1093 A 2.7140560053175022 1 ['B_4440']\n",
      "@> ILE68 O_1138 A LYS146 NZ_2440 A 4.985479415261886 1 ['B_4392']\n",
      "@> ARG70 NE_1186 A LEU71 N_1195 A GLN60 O_1005 A 4.524357854988926 6.146116172022782 4.52161807321229 1 ['B_4551']\n",
      "@> PRO89 O_1504 A ARG12 NH2_205 A 5.966507018348337 1 ['B_4410']\n",
      "@> THR92 N_1540 A LEU90 O_1519 A 3.979172527046292 1 ['B_4413']\n",
      "@> LYS133 NZ_2249 A ASP131 OD2_2211 A 3.917539278679921 1 ['B_4407']\n",
      "@> ASP149 OD2_2484 A ASN136 OD1_2292 A 3.238113802817926 1 ['B_4422']\n",
      "@> ILE68 O_1138 A LYS146 NZ_2440 A 4.985479415261886 1 ['B_4392']\n",
      "@> TRP152 N_2512 A GLY151 N_2505 A ASP149 O_2478 A 2.8666449030181615 4.777826493291698 3.2931982934527326 1 ['B_4500']\n",
      "@> GLN60 OE1_1013 A PHE150 N_2485 A 4.354733172078398 1 ['B_4383']\n",
      "@> TRP152 N_2512 A GLY151 N_2505 A ASP149 O_2478 A 2.8666449030181615 4.777826493291698 3.2931982934527326 1 ['B_4500']\n",
      "@> THR162 O_2662 A TYR165 N_2702 A 4.908565676447654 1 ['B_4497']\n",
      "@> ASP164 OD1_2700 A PHE199 N_3252 A ASP164 O_2695 A 4.7083706311207045 4.370622038108535 5.491295748728161 1 ['B_4530']\n",
      "@> THR162 O_2662 A TYR165 N_2702 A 4.908565676447654 1 ['B_4497']\n",
      "@> LEU166 O_2728 A TRP183 NE1_3010 A 3.373151049093418 1 ['B_4485']\n",
      "@> ASP177 N_2901 A ASP177 OD1_2911 A 2.960848020415773 1 ['B_4473']\n",
      "@> LEU166 O_2728 A TRP183 NE1_3010 A 3.373151049093418 1 ['B_4485']\n",
      "@> ASP164 OD1_2700 A PHE199 N_3252 A ASP164 O_2695 A 4.7083706311207045 4.370622038108535 5.491295748728161 1 ['B_4530']\n",
      "@> THR217 O_3569 A THR217 N_3564 A ARG210 NH1_3453 A 2.7056485359336686 6.425167468634572 5.0851488670441105 1 ['B_4527']\n",
      "@> THR217 O_3569 A THR217 N_3564 A ARG210 NH1_3453 A 2.7056485359336686 6.425167468634572 5.0851488670441105 1 ['B_4527']\n",
      "@> THR223 N_3660 A THR223 OG1_3668 A 2.979031721885485 1 ['B_4563']\n"
     ]
    },
    {
     "name": "stdout",
     "output_type": "stream",
     "text": [
      "align__addH_8c1fA.pdb\n"
     ]
    },
    {
     "name": "stderr",
     "output_type": "stream",
     "text": [
      "@> 4961 atoms and 1 coordinate set(s) were parsed in 0.05s.\n",
      "@> 51 water bridges detected using method cluster.\n",
      "@> ARG31 NH2_486 A ASP14 OD2_216 A 3.1035279924627655 1 ['B_4616']\n",
      "@> ARG17 NH2_264 A TYR92 OH_1553 A 5.221450468978902 1 ['B_4355']\n",
      "@> LYS42 NZ_683 A PHE24 N_358 A 5.169037531301163 1 ['B_4466']\n",
      "@> ILE38 O_603 A TYR92 N_1534 A 4.9765978338620025 1 ['B_4343']\n",
      "@> LYS42 NZ_683 A PHE24 N_358 A 5.169037531301163 1 ['B_4466']\n",
      "@> HIS56 N_899 A GLU55 N_884 A HIS56 ND1_909 A 2.814788269124339 3.119348329379068 4.239780536773096 1 ['B_4850']\n",
      "@> HIS56 N_899 A GLU55 N_884 A HIS56 ND1_909 A 2.814788269124339 3.119348329379068 4.239780536773096 1 ['B_4850']\n",
      "@> ASP154 N_2544 A GLU61 OE2_1014 A 4.24623338972318 1 ['B_4406']\n",
      "@> SER66 N_1082 A LEU76 O_1265 A 4.835873654263519 1 ['B_4457']\n",
      "@> ARG75 NE_1251 A LEU76 N_1260 A ARG69 NH2_1150 A 4.463597092032391 4.391289332303213 7.5424946138529005 2 ['B_4376', 'B_4412']\n",
      "@> HIS70 N_1153 A ILE73 O_1203 A HIS70 O_1158 A 5.057940489962294 2.7231681916473676 3.180436919670001 1 ['B_4505']\n",
      "@> HIS70 N_1153 A ILE73 O_1203 A HIS70 O_1158 A 5.057940489962294 2.7231681916473676 3.180436919670001 1 ['B_4505']\n",
      "@> ARG75 NE_1251 A LEU76 N_1260 A ARG69 NH2_1150 A 4.463597092032391 4.391289332303213 7.5424946138529005 2 ['B_4376', 'B_4412']\n",
      "@> SER66 N_1082 A LEU76 O_1265 A 4.835873654263519 1 ['B_4457']\n",
      "@> GLU91 OE1_1532 A LYS151 NZ_2511 A 3.4548848027105086 1 ['B_4352']\n",
      "@> ILE38 O_603 A TYR92 N_1534 A 4.9765978338620025 1 ['B_4343']\n",
      "@> ARG17 NH2_264 A TYR92 OH_1553 A 5.221450468978902 1 ['B_4355']\n",
      "@> THR97 N_1605 A THR97 OG1_1613 A 2.9513259731856123 1 ['B_4418']\n",
      "@> ASP109 OD2_1838 A ARG112 NE_1886 A 5.549752246722368 1 ['B_4409']\n",
      "@> THR227 OG1_3715 A GLU110 OE2_1853 A 4.003856391031027 1 ['B_4856']\n",
      "@> TRP157 N_2583 A ASP154 O_2549 A HIS134 O_2231 A 4.857186531316249 4.970958157136307 5.122806262196532 1 ['B_4454']\n",
      "@> ASP136 N_2267 A ILE137 N_2279 A 2.7706024615595757 1 ['B_4325']\n",
      "@> ILE137 O_2284 A SER188 OG_3077 A ILE137 N_2279 A 4.155869102847203 2.895886910775352 4.784158128657542 1 ['B_4790']\n",
      "@> TYR169 OH_2768 A GLU140 OE1_2347 A 5.761419096021393 1 ['B_4538']\n",
      "@> GLU91 OE1_1532 A LYS151 NZ_2511 A 3.4548848027105086 1 ['B_4352']\n",
      "@> ASP154 N_2544 A GLU61 OE2_1014 A 4.24623338972318 1 ['B_4406']\n",
      "@> TRP157 N_2583 A ASP154 O_2549 A HIS134 O_2231 A 4.857186531316249 4.970958157136307 5.122806262196532 1 ['B_4454']\n",
      "@> TYR169 N_2749 A THR166 O_2709 A 4.961866080417726 1 ['B_4379']\n",
      "@> TRP187 NE1_3057 A LEU170 N_2770 A ASP168 O_2742 A 4.54266815869264 5.016737286324651 3.8717754325373757 1 ['B_4340']\n",
      "@> ASP168 OD2_2748 A ALA205 N_3329 A 4.68579726407364 1 ['B_4361']\n",
      "@> TYR169 OH_2768 A GLU140 OE1_2347 A 5.761419096021393 1 ['B_4538']\n",
      "@> TRP187 NE1_3057 A LEU170 N_2770 A ASP168 O_2742 A 4.54266815869264 5.016737286324651 3.8717754325373757 1 ['B_4340']\n",
      "@> ARG178 NH2_2911 A GLU173 OE1_2830 A 5.069609551040398 1 ['B_4559']\n",
      "@> ASP181 N_2948 A GLU173 OE2_2831 A 5.524235150679232 1 ['B_4445']\n",
      "@> HIS240 NE2_3938 A SER216 O_3530 A ARG178 NH2_2911 A 3.65971337675507 4.245491726525918 7.416464521589785 2 ['B_4898', 'B_4799']\n",
      "@> ASP181 N_2948 A GLU173 OE2_2831 A 5.524235150679232 1 ['B_4445']\n",
      "@> GLU182 N_2960 A GLU182 OE2_2974 A 4.643698848978043 1 ['B_4901']\n",
      "@> TRP187 NE1_3057 A LEU170 N_2770 A ASP168 O_2742 A 4.54266815869264 5.016737286324651 3.8717754325373757 1 ['B_4340']\n",
      "@> ILE137 O_2284 A SER188 OG_3077 A ILE137 N_2279 A 4.155869102847203 2.895886910775352 4.784158128657542 1 ['B_4790']\n",
      "@> PRO201 O_3270 A MET200 SD_3261 A 4.851074210935138 1 ['B_4478']\n",
      "@> THR221 O_3616 A THR221 N_3611 A PRO202 O_3284 A 2.718433740226163 5.76630297504389 5.51651520436589 1 ['B_4385']\n",
      "@> ASP168 OD2_2748 A ALA205 N_3329 A 4.68579726407364 1 ['B_4361']\n",
      "@> ALA205 O_3334 A THR211 OG1_3431 A 4.2884828319581745 1 ['B_4421']\n",
      "@> HIS240 NE2_3938 A SER216 O_3530 A ARG178 NH2_2911 A 3.65971337675507 4.245491726525918 7.416464521589785 2 ['B_4898', 'B_4799']\n",
      "@> THR221 O_3616 A THR221 N_3611 A PRO202 O_3284 A 2.718433740226163 5.76630297504389 5.51651520436589 1 ['B_4385']\n",
      "@> GLY229 N_3736 A THR227 OG1_3715 A 4.008921301297893 1 ['B_4499']\n",
      "@> THR227 OG1_3715 A GLU110 OE2_1853 A 4.003856391031027 1 ['B_4856']\n",
      "@> ASN241 N_3939 A HIS240 ND1_3932 A 3.8725815678949864 1 ['B_4886']\n",
      "@> HIS240 NE2_3938 A SER216 O_3530 A ARG178 NH2_2911 A 3.65971337675507 4.245491726525918 7.416464521589785 2 ['B_4898', 'B_4799']\n",
      "@> SER243 N_3963 A ASN241 ND2_3950 A 2.9826823498321113 1 ['B_4700']\n",
      "@> LEU248 N_4048 A ALA249 N_4067 A 2.81588511839528 1 ['B_4508']\n"
     ]
    },
    {
     "name": "stdout",
     "output_type": "stream",
     "text": [
      "align__addH_3d14A.pdb\n"
     ]
    },
    {
     "name": "stderr",
     "output_type": "stream",
     "text": [
      "@> 4813 atoms and 1 coordinate set(s) were parsed in 0.04s.\n",
      "@> 35 water bridges detected using method cluster.\n",
      "@> GLU56 OE1_948 A LYS37 NZ_622 A 5.172206299056524 1 ['B_4465']\n",
      "@> SER158 O_2609 A ARG55 NH2_932 A 6.3213483530019134 1 ['B_4483']\n",
      "@> ARG70 NH2_1192 A TYR72 O_1219 A SER61 O_1022 A 4.88347826861142 4.4217246635221406 5.982404282560647 1 ['B_4507']\n",
      "@> ARG70 NE_1186 A LEU71 N_1195 A LEU71 O_1200 A LEU63 O_1050 A 4.276671369184217 4.6253126380818825 4.160742481817398 2.9305639389032265 5.256789704753274 6.052628767733901 1 ['B_4501']\n",
      "@> LYS146 NZ_2440 A HIS65 O_1093 A 5.342549485030534 1 ['B_4525']\n",
      "@> ARG70 NH2_1192 A TYR72 O_1219 A SER61 O_1022 A 4.88347826861142 4.4217246635221406 5.982404282560647 1 ['B_4507']\n",
      "@> ARG70 NE_1186 A LEU71 N_1195 A LEU71 O_1200 A LEU63 O_1050 A 4.276671369184217 4.6253126380818825 4.160742481817398 2.9305639389032265 5.256789704753274 6.052628767733901 1 ['B_4501']\n",
      "@> ARG70 NH2_1192 A TYR72 O_1219 A SER61 O_1022 A 4.88347826861142 4.4217246635221406 5.982404282560647 1 ['B_4507']\n",
      "@> TYR87 O_1474 A GLU86 OE2_1468 A 4.845611313343239 1 ['B_4555']\n",
      "@> ASP104 N_1760 A ARG107 NE_1819 A 5.273594694323789 1 ['B_4579']\n",
      "@> GLU105 OE2_1786 A THR228 N_3742 A 4.231518167277557 1 ['B_4585']\n",
      "@> SER263 OG_4325 A THR110 OG1_1860 A 2.828587279897865 1 ['B_4588']\n",
      "@> ARG130 O_2181 A CYS165 O_2726 A 3.7946486003317847 1 ['B_4645']\n",
      "@> SER189 OG_3112 A ILE132 N_2212 A ASP186 OD1_3058 A 5.133308971803665 5.838096521983859 5.487947703832463 1 ['B_4642']\n",
      "@> LYS146 NZ_2440 A HIS65 O_1093 A 5.342549485030534 1 ['B_4525']\n",
      "@> SER158 O_2609 A ARG55 NH2_932 A 6.3213483530019134 1 ['B_4483']\n",
      "@> THR167 N_2739 A TYR170 O_2789 A 6.099106409958755 1 ['B_4663']\n",
      "@> ASP169 O_2777 A GLU205 N_3354 A PHE204 N_3334 A 6.288464836508189 5.412648704654679 2.703095262842211 1 ['B_4669']\n",
      "@> ASP169 O_2777 A LEU171 O_2810 A TRP188 NE1_3092 A 5.059029650041599 5.459263869790505 3.316466342358989 1 ['B_4672']\n",
      "@> ASP169 O_2777 A LEU171 O_2810 A TRP188 NE1_3092 A 5.059029650041599 5.459263869790505 3.316466342358989 1 ['B_4672']\n",
      "@> SER189 OG_3112 A ILE132 N_2212 A ASP186 OD1_3058 A 5.133308971803665 5.838096521983859 5.487947703832463 1 ['B_4642']\n",
      "@> SER189 OG_3112 A ILE132 N_2212 A ASP186 OD1_3058 A 5.133308971803665 5.838096521983859 5.487947703832463 1 ['B_4642']\n",
      "@> THR222 OG1_3654 A THR222 O_3651 A TYR195 OH_3205 A 3.383885784124518 5.640434735018215 2.83181690792325 1 ['B_4702']\n",
      "@> ARG215 NH2_3538 A PRO203 O_3324 A 2.9927761359647316 1 ['B_4711']\n",
      "@> PRO203 O_3324 A THR222 OG1_3654 A 6.656079626927553 1 ['B_4714']\n",
      "@> ASP169 O_2777 A GLU205 N_3354 A PHE204 N_3334 A 6.288464836508189 5.412648704654679 2.703095262842211 1 ['B_4669']\n",
      "@> ARG215 NH2_3538 A PRO203 O_3324 A 2.9927761359647316 1 ['B_4711']\n",
      "@> THR222 OG1_3654 A THR222 O_3651 A TYR195 OH_3205 A 3.383885784124518 5.640434735018215 2.83181690792325 1 ['B_4702']\n",
      "@> PRO203 O_3324 A THR222 OG1_3654 A 6.656079626927553 1 ['B_4714']\n",
      "@> VAL227 O_3731 A ARG232 NE_3803 A 4.615272256324649 1 ['B_4723']\n",
      "@> GLU105 OE2_1786 A THR228 N_3742 A 4.231518167277557 1 ['B_4585']\n",
      "@> GLY230 N_3771 A THR228 OG1_3750 A 3.812323569688175 1 ['B_4729']\n",
      "@> VAL227 O_3731 A ARG232 NE_3803 A 4.615272256324649 1 ['B_4723']\n",
      "@> GLN245 OE1_4026 A ASN242 N_3974 A 5.06170534503936 1 ['B_4762']\n",
      "@> SER263 OG_4325 A THR110 OG1_1860 A 2.828587279897865 1 ['B_4588']\n"
     ]
    },
    {
     "name": "stdout",
     "output_type": "stream",
     "text": [
      "align__addH_5g15A.pdb\n"
     ]
    },
    {
     "name": "stderr",
     "output_type": "stream",
     "text": [
      "@> 4706 atoms and 1 coordinate set(s) were parsed in 0.04s.\n",
      "@> 41 water bridges detected using method cluster.\n",
      "@> TYR73 O_1223 A TRP2 N_19 A 5.335625923919331 1 ['B_4511']\n",
      "@> PHE39 N_637 A GLY19 N_295 A 5.73173882866273 1 ['B_4673']\n",
      "@> TYR86 N_1445 A ILE32 O_518 A 4.962480528929055 1 ['B_4526']\n",
      "@> LYS40 N_657 A ALA41 N_679 A 2.839077667130644 1 ['B_4481']\n",
      "@> GLN51 NE2_841 A THR161 OG1_2658 A 3.3262762964011316 1 ['B_4661']\n",
      "@> GLN59 OE1_989 A PHE149 N_2461 A 4.141927208438118 1 ['B_4424']\n",
      "@> ASP148 N_2449 A GLN59 NE2_990 A 4.728449428723966 1 ['B_4631']\n",
      "@> ARG69 NE_1162 A ARG63 NH2_1061 A SER60 O_998 A 4.5703328106386305 5.2033248024700525 3.754941410994319 1 ['B_4547']\n",
      "@> LEU62 O_1026 A ARG69 NE_1162 A LEU70 N_1171 A LEU70 O_1176 A 4.339312042248174 6.14172809557701 6.561774455130261 4.569193035974734 4.811370802588387 2.802314043785958 1 ['B_4463']\n",
      "@> LEU62 O_1026 A LEU68 O_1133 A 5.819508226645959 1 ['B_4607']\n",
      "@> HIS64 N_1064 A HIS64 O_1069 A 2.7156249741081666 1 ['B_4574']\n",
      "@> LEU62 O_1026 A LEU68 O_1133 A 5.819508226645959 1 ['B_4607']\n",
      "@> LEU62 O_1026 A ARG69 NE_1162 A LEU70 N_1171 A LEU70 O_1176 A 4.339312042248174 6.14172809557701 6.561774455130261 4.569193035974734 4.811370802588387 2.802314043785958 1 ['B_4463']\n",
      "@> ARG69 NE_1162 A ARG63 NH2_1061 A SER60 O_998 A 4.5703328106386305 5.2033248024700525 3.754941410994319 1 ['B_4547']\n",
      "@> LEU62 O_1026 A ARG69 NE_1162 A LEU70 N_1171 A LEU70 O_1176 A 4.339312042248174 6.14172809557701 6.561774455130261 4.569193035974734 4.811370802588387 2.802314043785958 1 ['B_4463']\n",
      "@> TYR73 O_1223 A TRP2 N_19 A 5.335625923919331 1 ['B_4511']\n",
      "@> HIS75 O_1264 A HIS75 N_1259 A 2.79150891096554 1 ['B_4634']\n",
      "@> TYR86 N_1445 A ILE32 O_518 A 4.962480528929055 1 ['B_4526']\n",
      "@> THR227 N_3714 A GLU104 OE2_1762 A 4.62159647740908 1 ['B_4592']\n",
      "@> SER152 N_2512 A HIS128 ND1_2145 A ASP148 O_2454 A 5.889410411917308 5.785881436738917 4.217738137912313 1 ['B_4586']\n",
      "@> ASP130 N_2176 A ILE131 N_2188 A SER188 OG_3084 A 2.7912273286137075 5.87201847749136 5.060442767189445 1 ['B_4628']\n",
      "@> GLU134 OE2_2257 A GLU134 N_2243 A 4.445330358927221 1 ['B_4445']\n",
      "@> GLU134 OE1_2256 A ASN135 ND2_2269 A 5.333094130052456 1 ['B_4562']\n",
      "@> GLU134 OE1_2256 A ASN135 ND2_2269 A 5.333094130052456 1 ['B_4562']\n",
      "@> ASP148 N_2449 A GLN59 NE2_990 A 4.728449428723966 1 ['B_4631']\n",
      "@> SER152 N_2512 A HIS128 ND1_2145 A ASP148 O_2454 A 5.889410411917308 5.785881436738917 4.217738137912313 1 ['B_4586']\n",
      "@> ASP148 OD2_2460 A ASP148 OD1_2459 A 2.182225698684715 1 ['B_4484']\n",
      "@> GLN59 OE1_989 A PHE149 N_2461 A 4.141927208438118 1 ['B_4424']\n",
      "@> SER152 N_2512 A HIS128 ND1_2145 A ASP148 O_2454 A 5.889410411917308 5.785881436738917 4.217738137912313 1 ['B_4586']\n",
      "@> GLN51 NE2_841 A THR161 OG1_2658 A 3.3262762964011316 1 ['B_4661']\n",
      "@> ASP168 OD1_2754 A PHE203 N_3306 A 5.033142755773971 1 ['B_4550']\n",
      "@> TRP187 NE1_3064 A LEU170 N_2777 A 4.640313997996254 1 ['B_4529']\n",
      "@> GLU173 OE1_2837 A HIS240 O_3934 A 4.104464033220416 1 ['B_4544']\n",
      "@> ASP130 N_2176 A ILE131 N_2188 A SER188 OG_3084 A 2.7912273286137075 5.87201847749136 5.060442767189445 1 ['B_4628']\n",
      "@> PRO202 O_3296 A THR221 N_3618 A 5.265296003075228 1 ['B_4523']\n",
      "@> ASP168 OD1_2754 A PHE203 N_3306 A 5.033142755773971 1 ['B_4550']\n",
      "@> ASP224 N_3666 A ASP224 OD2_3677 A 4.018155795884473 1 ['B_4505']\n",
      "@> THR227 N_3714 A GLU104 OE2_1762 A 4.62159647740908 1 ['B_4592']\n",
      "@> THR227 OG1_3722 A GLY229 N_3743 A 3.794611310793242 1 ['B_4538']\n",
      "@> HIS240 N_3929 A ASN241 N_3946 A 2.8271803974985397 1 ['B_4475']\n",
      "@> GLU173 OE1_2837 A HIS240 O_3934 A 4.104464033220416 1 ['B_4544']\n"
     ]
    },
    {
     "name": "stdout",
     "output_type": "stream",
     "text": [
      "align__addH_6r4dA.pdb\n"
     ]
    },
    {
     "name": "stderr",
     "output_type": "stream",
     "text": [
      "@> 4940 atoms and 1 coordinate set(s) were parsed in 0.04s.\n"
     ]
    },
    {
     "name": "stdout",
     "output_type": "stream",
     "text": [
      "align__addH_3k5uA.pdb\n"
     ]
    },
    {
     "name": "stderr",
     "output_type": "stream",
     "text": [
      "@> 33 water bridges detected using method cluster.\n",
      "@> ARG12 NH1_202 A ARG12 NH2_205 A 2.280353919899276 1 ['B_4682']\n",
      "@> TYR87 OH_1488 A ARG12 NH2_205 A 4.992736624337399 1 ['B_4355']\n",
      "@> LEU71 N_1195 A GLN60 O_1005 A ARG64 NH2_1085 A 5.164482355473779 4.669000535446531 4.129695630430893 1 ['B_4523']\n",
      "@> GLN60 OE1_1013 A TRP152 NE1_2525 A GLN60 NE2_1014 A 2.5877986784137614 2.3006010084323636 4.374796566698846 1 ['B_4394']\n",
      "@> LEU71 N_1195 A GLN60 O_1005 A ARG64 NH2_1085 A 5.164482355473779 4.669000535446531 4.129695630430893 1 ['B_4523']\n",
      "@> HIS65 NE2_1104 A ASN258 ND2_4244 A 5.310901712515491 2 ['B_4661', 'B_4502']\n",
      "@> ARG80 NH1_1354 A TYR82 OH_1395 A 5.815967933199081 1 ['B_4556']\n",
      "@> LYS146 NZ_2440 A GLU86 OE1_1467 A 3.779801317529793 1 ['B_4379']\n",
      "@> TYR87 O_1474 A GLU86 OE2_1468 A 4.724490554546594 1 ['B_4316']\n",
      "@> TYR87 OH_1488 A ARG12 NH2_205 A 4.992736624337399 1 ['B_4355']\n",
      "@> LEU97 O_1635 A GLY191 O_3142 A 6.2350375299592224 1 ['B_4514']\n",
      "@> ASP104 N_1760 A ARG107 NE_1819 A ASP104 OD2_1771 A 4.911997048044719 3.680145241699027 4.708192222074206 1 ['B_4538']\n",
      "@> GLU105 OE2_1786 A THR219 N_3601 A THR219 OG1_3609 A 4.623273407446288 2.6597689749299644 2.9814858711722927 1 ['B_4481']\n",
      "@> ASP104 N_1760 A ARG107 NE_1819 A ASP104 OD2_1771 A 4.911997048044719 3.680145241699027 4.708192222074206 1 ['B_4538']\n",
      "@> TYR161 N_2643 A ASP131 OD2_2211 A ASP160 N_2631 A 4.882805136394447 2.8496073413717924 6.313731701616722 1 ['B_4313']\n",
      "@> ASP149 OD2_2484 A LYS133 N_2231 A 5.114813095314431 2 ['B_4691', 'B_4445']\n",
      "@> LYS146 NZ_2440 A GLU86 OE1_1467 A 3.779801317529793 1 ['B_4379']\n",
      "@> GLN60 OE1_1013 A TRP152 NE1_2525 A GLN60 NE2_1014 A 2.5877986784137614 2.3006010084323636 4.374796566698846 1 ['B_4394']\n",
      "@> TYR161 N_2643 A ASP131 OD2_2211 A ASP160 N_2631 A 4.882805136394447 2.8496073413717924 6.313731701616722 1 ['B_4313']\n",
      "@> ASP160 O_2636 A TRP179 NE1_2951 A 5.2076486056568765 1 ['B_4304']\n",
      "@> ASP160 OD1_2641 A PHE195 N_3193 A ASP160 O_2636 A 4.919168324015755 4.340568971920618 5.595397930442483 1 ['B_4331']\n",
      "@> TYR161 N_2643 A ASP131 OD2_2211 A ASP160 N_2631 A 4.882805136394447 2.8496073413717924 6.313731701616722 1 ['B_4313']\n",
      "@> ASP160 O_2636 A TRP179 NE1_2951 A 5.2076486056568765 1 ['B_4304']\n",
      "@> TYR186 OH_3064 A THR213 N_3505 A 4.6693226489502715 1 ['B_4370']\n",
      "@> LEU97 O_1635 A GLY191 O_3142 A 6.2350375299592224 1 ['B_4514']\n",
      "@> ASP160 OD1_2641 A PHE195 N_3193 A ASP160 O_2636 A 4.919168324015755 4.340568971920618 5.595397930442483 1 ['B_4331']\n",
      "@> GLU202 N_3304 A LYS205 NZ_3372 A 6.2677720124458896 1 ['B_4517']\n",
      "@> TYR186 OH_3064 A THR213 N_3505 A 4.6693226489502715 1 ['B_4370']\n",
      "@> PHE214 O_3524 A ARG223 NH2_3668 A 4.180163633160788 1 ['B_4346']\n",
      "@> GLU105 OE2_1786 A THR219 N_3601 A THR219 OG1_3609 A 4.623273407446288 2.6597689749299644 2.9814858711722927 1 ['B_4481']\n",
      "@> PHE214 O_3524 A ARG223 NH2_3668 A 4.180163633160788 1 ['B_4346']\n",
      "@> ARG241 NH2_3984 A CYS259 SG_4256 A 3.9053995954319447 1 ['B_4562']\n",
      "@> HIS65 NE2_1104 A ASN258 ND2_4244 A 5.310901712515491 2 ['B_4661', 'B_4502']\n",
      "@> 4540 atoms and 1 coordinate set(s) were parsed in 0.04s.\n",
      "@> 31 water bridges detected using method cluster.\n",
      "@> GLY20 O_325 A VAL38 O_631 A 3.79342417875987 1 ['B_4441']\n",
      "@> TYR23 OH_375 A ASN21 N_326 A 4.779055345986272 1 ['B_4399']\n",
      "@> TYR87 N_1469 A ILE33 O_542 A 4.813065862836283 1 ['B_4330']\n",
      "@> ASP149 OD2_2484 A LYS37 NZ_622 A 3.590789328267533 1 ['B_4411']\n",
      "@> GLY20 O_325 A VAL38 O_631 A 3.79342417875987 1 ['B_4441']\n",
      "@> ARG55 NE_926 A GLY151 O_2511 A 5.0676875396969745 1 ['B_4522']\n",
      "@> ASP149 N_2473 A GLN60 OE1_1013 A GLN60 NE2_1014 A 4.278225566750773 4.1418476553345105 2.2344050662312793 1 ['B_4327']\n",
      "@> LEU71 O_1200 A LEU71 N_1195 A SER61 O_1022 A 2.763784904799938 4.3184350174571335 5.86294891671418 1 ['B_4357']\n",
      "@> HIS65 N_1088 A ILE68 O_1138 A 4.887831420988246 1 ['B_4426']\n",
      "@> LEU71 O_1200 A LEU71 N_1195 A SER61 O_1022 A 2.763784904799938 4.3184350174571335 5.86294891671418 1 ['B_4357']\n",
      "@> TYR87 N_1469 A ILE33 O_542 A 4.813065862836283 1 ['B_4330']\n",
      "@> THR226 N_3704 A GLU105 OE1_1785 A 4.429075298524512 1 ['B_4492']\n",
      "@> SER153 N_2536 A GLY151 N_2505 A HIS129 O_2164 A 4.271413232175037 3.3990688430804097 6.182904657197943 1 ['B_4378']\n",
      "@> TRP152 N_2512 A ASP131 OD2_2211 A 5.593248251240059 1 ['B_4393']\n",
      "@> SER187 OG_3074 A ILE132 N_2212 A 5.014622318779351 1 ['B_4372']\n",
      "@> ILE132 O_2217 A SER187 OG_3074 A ILE132 N_2212 A 4.364649126791294 2.8987699115314394 5.014622318779351 1 ['B_4501']\n",
      "@> ASP149 N_2473 A GLN60 OE1_1013 A GLN60 NE2_1014 A 4.278225566750773 4.1418476553345105 2.2344050662312793 1 ['B_4327']\n",
      "@> ASP149 OD2_2484 A LYS37 NZ_622 A 3.590789328267533 1 ['B_4411']\n",
      "@> SER153 N_2536 A GLY151 N_2505 A HIS129 O_2164 A 4.271413232175037 3.3990688430804097 6.182904657197943 1 ['B_4378']\n",
      "@> ARG55 NE_926 A GLY151 O_2511 A 5.0676875396969745 1 ['B_4522']\n",
      "@> TRP152 N_2512 A ASP131 OD2_2211 A 5.593248251240059 1 ['B_4393']\n",
      "@> TYR168 N_2746 A THR165 O_2706 A 4.946606614639977 1 ['B_4504']\n",
      "@> ASP167 O_2739 A TRP186 NE1_3054 A LEU169 N_2767 A 4.975464400435403 3.8191864316893462 4.281513867780882 1 ['B_4369']\n",
      "@> PHE202 N_3296 A ASP167 OD2_2745 A 4.763688171994466 1 ['B_4345']\n",
      "@> ASP167 O_2739 A TRP186 NE1_3054 A LEU169 N_2767 A 4.975464400435403 3.8191864316893462 4.281513867780882 1 ['B_4369']\n",
      "@> SER187 OG_3074 A ILE132 N_2212 A 5.014622318779351 1 ['B_4372']\n",
      "@> ILE132 O_2217 A SER187 OG_3074 A ILE132 N_2212 A 4.364649126791294 2.8987699115314394 5.014622318779351 1 ['B_4501']\n",
      "@> PHE202 N_3296 A ASP167 OD2_2745 A 4.763688171994466 1 ['B_4345']\n",
      "@> THR220 N_3608 A ARG213 NH1_3497 A THR220 O_3613 A 5.536954126593429 2.663284250694992 6.680810878927796 1 ['B_4390']\n",
      "@> THR220 N_3608 A ARG213 NH1_3497 A THR220 O_3613 A 5.536954126593429 2.663284250694992 6.680810878927796 1 ['B_4390']\n",
      "@> THR226 N_3704 A GLU105 OE1_1785 A 4.429075298524512 1 ['B_4492']\n"
     ]
    },
    {
     "name": "stdout",
     "output_type": "stream",
     "text": [
      "align__addH_1mq4A.pdb\n"
     ]
    },
    {
     "name": "stderr",
     "output_type": "stream",
     "text": [
      "@> 4427 atoms and 1 coordinate set(s) were parsed in 0.04s.\n",
      "@> 0 water bridges detected using method cluster.\n",
      "@> 4420 atoms and 1 coordinate set(s) were parsed in 0.04s.\n",
      "@> 2 water bridges detected using method cluster.\n",
      "@> LEU64 O_1072 A HIS66 N_1110 A 4.2024460734196145 1 ['B_4393']\n",
      "@> GLN246 O_4040 A ARG238 NE_3910 A 5.911016325472296 1 ['B_4411']\n"
     ]
    },
    {
     "name": "stdout",
     "output_type": "stream",
     "text": [
      "align__addH_3up7A.pdb\n",
      "align__addH_4c3pA.pdb\n"
     ]
    },
    {
     "name": "stderr",
     "output_type": "stream",
     "text": [
      "@> 4301 atoms and 1 coordinate set(s) were parsed in 0.04s.\n",
      "@> 11 water bridges detected using method cluster.\n",
      "@> LYS145 NZ_2416 A ILE67 O_1114 A 5.084628895012891 1 ['B_4235']\n",
      "@> SER178 OG_2939 A ILE131 N_2188 A ARG129 O_2157 A 4.728518055374218 4.719307258486143 3.798881677546694 1 ['B_4271']\n",
      "@> LYS145 NZ_2416 A ILE67 O_1114 A 5.084628895012891 1 ['B_4235']\n",
      "@> PHE193 N_3161 A ASP158 O_2604 A 5.660767880773775 1 ['B_4256']\n",
      "@> ASP158 O_2604 A TRP177 NE1_2919 A 5.063599016509897 1 ['B_4274']\n",
      "@> SER178 OG_2939 A ILE131 N_2188 A ARG129 O_2157 A 4.728518055374218 4.719307258486143 3.798881677546694 1 ['B_4271']\n",
      "@> THR211 N_3473 A ARG204 NH2_3365 A PRO192 O_3151 A 4.77191879645914 5.1753057880670195 3.561386668139253 1 ['B_4280']\n",
      "@> PHE193 N_3161 A ASP158 O_2604 A 5.660767880773775 1 ['B_4256']\n",
      "@> THR211 N_3473 A ARG204 NH2_3365 A PRO192 O_3151 A 4.77191879645914 5.1753057880670195 3.561386668139253 1 ['B_4280']\n",
      "@> ASP214 OD1_3531 A ARG221 NH2_3636 A 4.629780232365245 1 ['B_4289']\n",
      "@> ASN231 ND2_3812 A HIS230 ND1_3794 A 5.609585546187882 1 ['B_4292']\n"
     ]
    },
    {
     "name": "stdout",
     "output_type": "stream",
     "text": [
      "align__addH_2xngA.pdb\n",
      "align__addH_5l8jA.pdb\n"
     ]
    },
    {
     "name": "stderr",
     "output_type": "stream",
     "text": [
      "@> 4649 atoms and 1 coordinate set(s) were parsed in 0.04s.\n",
      "@> 36 water bridges detected using method cluster.\n",
      "@> GLU6 N_96 A LEU5 N_77 A 2.761440566081399 2 ['B_4562', 'B_4613']\n",
      "@> TYR87 N_1469 A ILE33 O_542 A 4.846302817612616 1 ['B_4400']\n",
      "@> THR79 O_1327 A ALA42 N_703 A 4.951136132242783 1 ['B_4304']\n",
      "@> GLY48 O_802 A GLN52 N_851 A 5.786837219068807 1 ['B_4424']\n",
      "@> GLU50 N_819 A HIS51 N_834 A 2.8264360951558767 1 ['B_4499']\n",
      "@> GLY48 O_802 A GLN52 N_851 A 5.786837219068807 1 ['B_4424']\n",
      "@> ARG54 NE_902 A ARG54 NH2_908 A 2.3117884851343984 1 ['B_4454']\n",
      "@> LEU71 N_1195 A GLN60 O_1005 A ARG70 NH1_1189 A 5.189243297437501 4.597875270165558 4.641358529568686 1 ['B_4361']\n",
      "@> ILE68 O_1138 A GLU86 OE1_1467 A LYS146 NZ_2440 A 3.895522301309542 5.371320973466391 3.9277251685931374 1 ['B_4328']\n",
      "@> LEU71 N_1195 A GLN60 O_1005 A ARG70 NH1_1189 A 5.189243297437501 4.597875270165558 4.641358529568686 1 ['B_4361']\n",
      "@> THR79 O_1327 A ALA42 N_703 A 4.951136132242783 1 ['B_4304']\n",
      "@> ILE68 O_1138 A GLU86 OE1_1467 A LYS146 NZ_2440 A 3.895522301309542 5.371320973466391 3.9277251685931374 1 ['B_4328']\n",
      "@> TYR87 N_1469 A ILE33 O_542 A 4.846302817612616 1 ['B_4400']\n",
      "@> ASP104 N_1760 A ARG107 NE_1819 A 5.5342501750462985 1 ['B_4502']\n",
      "@> SER120 OG_2016 A SER120 O_2012 A 3.1766361138789514 1 ['B_4388']\n",
      "@> GLU170 OE2_2817 A HIS123 ND1_2060 A 3.395705670401958 1 ['B_4394']\n",
      "@> SER176 OG_2920 A ARG130 O_2181 A 4.198693725434139 1 ['B_4235']\n",
      "@> ILE132 N_2212 A TYR157 O_2597 A 5.301735753505643 1 ['B_4259']\n",
      "@> ILE132 O_2217 A SER176 O_2916 A 5.2167773577180805 1 ['B_4313']\n",
      "@> GLU135 OE2_2281 A GLU135 N_2267 A 4.866570558411743 1 ['B_4448']\n",
      "@> ILE68 O_1138 A GLU86 OE1_1467 A LYS146 NZ_2440 A 3.895522301309542 5.371320973466391 3.9277251685931374 1 ['B_4328']\n",
      "@> ILE147 O_2449 A PHE150 N_2485 A 5.537115313951836 1 ['B_4370']\n",
      "@> PHE191 N_3142 A ASP156 OD1_2590 A 4.701072643556999 1 ['B_4427']\n",
      "@> ALA193 N_3177 A ASP156 OD2_2591 A 5.492511356383348 1 ['B_4367']\n",
      "@> ILE132 N_2212 A TYR157 O_2597 A 5.301735753505643 1 ['B_4259']\n",
      "@> GLU161 OE2_2674 A ASP169 N_2791 A 5.43181424571938 1 ['B_4352']\n",
      "@> GLU170 OE1_2816 A LYS171 NZ_2836 A 5.4815396559725835 1 ['B_4376']\n",
      "@> GLU170 OE2_2817 A HIS123 ND1_2060 A 3.395705670401958 1 ['B_4394']\n",
      "@> ILE132 O_2217 A SER176 O_2916 A 5.2167773577180805 1 ['B_4313']\n",
      "@> SER176 OG_2920 A ARG130 O_2181 A 4.198693725434139 1 ['B_4235']\n",
      "@> PHE191 N_3142 A ASP156 OD1_2590 A 4.701072643556999 1 ['B_4427']\n",
      "@> ALA193 N_3177 A ASP156 OD2_2591 A 5.492511356383348 1 ['B_4367']\n",
      "@> THR209 O_3459 A THR209 N_3454 A 2.7224724057371077 1 ['B_4445']\n",
      "@> PHE213 N_3514 A ASP212 N_3502 A 2.7651989078545505 1 ['B_4532']\n",
      "@> THR215 OG1_3558 A THR215 N_3550 A 2.940925874618399 1 ['B_4442']\n",
      "@> THR215 OG1_3558 A GLY217 N_3579 A 3.864005434778787 1 ['B_4478']\n",
      "@> 5297 atoms and 1 coordinate set(s) were parsed in 0.05s.\n",
      "@> 52 water bridges detected using method cluster.\n",
      "@> TRP1 N_0 A TYR72 O_1213 A 5.872570220950959 1 ['B_4760']\n",
      "@> ILE8 N_118 A ARG26 NH1_423 A 7.854335108715436 2 ['B_4916', 'B_4526']\n",
      "@> GLY18 O_285 A GLY15 N_230 A 4.557674187565406 1 ['B_4196']\n",
      "@> ILE8 N_118 A ARG26 NH1_423 A 7.854335108715436 2 ['B_4916', 'B_4526']\n",
      "@> LYS35 NZ_584 A TRP150 O_2489 A TRP150 N_2484 A 6.215782251655862 5.457306111993351 2.7568150101158415 1 ['B_4565']\n",
      "@> THR40 N_665 A LYS39 N_643 A 2.804912476352871 1 ['B_4247']\n",
      "@> GLN50 NE2_831 A GLN50 OE1_830 A ARG53 NH2_898 A 2.242877838849005 3.7513520229378634 2.309846098769355 1 ['B_4778']\n",
      "@> GLN50 NE2_831 A GLN50 OE1_830 A ARG53 NH2_898 A 2.242877838849005 3.7513520229378634 2.309846098769355 1 ['B_4778']\n",
      "@> GLU54 OE1_914 A GLN58 NE2_980 A 4.363034952873973 1 ['B_4280']\n",
      "@> GLN58 NE2_980 A PHE148 O_2462 A 5.394301993770837 1 ['B_4421']\n",
      "@> LEU61 O_1016 A ARG68 NH2_1158 A 5.491677612533353 1 ['B_4922']\n",
      "@> HIS63 O_1059 A LYS144 NZ_2412 A ILE66 O_1104 A GLU84 OE2_1434 A 4.903303580240574 3.0829370736361166 5.696061972977475 4.891237164562772 4.077523758361195 4.004112510906757 1 ['B_4370']\n",
      "@> LEU61 O_1016 A ARG68 NH2_1158 A 5.491677612533353 1 ['B_4922']\n",
      "@> TYR72 O_1213 A TYR72 N_1208 A 2.732689700642943 1 ['B_5264']\n",
      "@> TRP1 N_0 A TYR72 O_1213 A 5.872570220950959 1 ['B_4760']\n",
      "@> HIS63 O_1059 A LYS144 NZ_2412 A ILE66 O_1104 A GLU84 OE2_1434 A 4.903303580240574 3.0829370736361166 5.696061972977475 4.891237164562772 4.077523758361195 4.004112510906757 1 ['B_4370']\n"
     ]
    },
    {
     "name": "stdout",
     "output_type": "stream",
     "text": [
      "align__addH_3dj6A.pdb\n"
     ]
    },
    {
     "name": "stderr",
     "output_type": "stream",
     "text": [
      "@> THR90 N_1506 A THR90 O_1511 A 2.7696781401455337 1 ['B_4340']\n",
      "@> ARG105 NH2_1793 A GLU94 OE2_1595 A 4.0149004968990205 1 ['B_4943']\n",
      "@> ASP102 N_1728 A ASP102 OD2_1739 A ARG105 NE_1787 A 4.082157885236684 5.4582273679281625 5.643926558700067 1 ['B_4199']\n",
      "@> THR217 OG1_3584 A GLU103 OE1_1753 A GLU103 OE2_1754 A 2.5768098494068195 4.001698764274993 2.180441239749423 1 ['B_4838']\n",
      "@> ASP102 N_1728 A ASP102 OD2_1739 A ARG105 NE_1787 A 4.082157885236684 5.4582273679281625 5.643926558700067 1 ['B_4199']\n",
      "@> ARG105 NH2_1793 A GLU94 OE2_1595 A 4.0149004968990205 1 ['B_4943']\n",
      "@> HIS121 NE2_2033 A HIS127 NE2_2143 A 4.5523623537675455 1 ['B_5144']\n",
      "@> ARG124 O_2073 A ILE126 N_2108 A 3.7273872887050534 1 ['B_4298']\n",
      "@> HIS170 O_2805 A HIS127 N_2127 A 5.701541545932994 2 ['B_4385', 'B_4481']\n",
      "@> GLY167 O_2758 A HIS170 N_2800 A HIS127 O_2132 A MET169 N_2783 A 4.999343256868841 4.397015806203108 3.6864341849543405 4.9797611388499305 2.7827371417365323 5.877139185011698 1 ['B_4205']\n",
      "@> HIS121 NE2_2033 A HIS127 NE2_2143 A 4.5523623537675455 1 ['B_5144']\n",
      "@> HIS170 NE2_2816 A ARG128 O_2149 A 3.083731667963347 1 ['B_4253']\n",
      "@> ASP129 OD1_2178 A ILE130 N_2180 A 3.854832162364528 1 ['B_4238']\n",
      "@> GLU133 OE2_2249 A LYS131 NZ_2217 A 4.626850008375022 1 ['B_4895']\n",
      "@> HIS63 O_1059 A LYS144 NZ_2412 A ILE66 O_1104 A GLU84 OE2_1434 A 4.903303580240574 3.0829370736361166 5.696061972977475 4.891237164562772 4.077523758361195 4.004112510906757 1 ['B_4370']\n",
      "@> ALA146 O_2440 A PHE148 N_2457 A GLY149 N_2477 A 3.0195908663260957 4.618071134142481 2.7941571179874587 1 ['B_4250']\n",
      "@> GLN58 NE2_980 A PHE148 O_2462 A 5.394301993770837 1 ['B_4421']\n",
      "@> ALA146 O_2440 A PHE148 N_2457 A GLY149 N_2477 A 3.0195908663260957 4.618071134142481 2.7941571179874587 1 ['B_4250']\n",
      "@> LYS35 NZ_584 A TRP150 O_2489 A TRP150 N_2484 A 6.215782251655862 5.457306111993351 2.7568150101158415 1 ['B_4565']\n",
      "@> GLY167 O_2758 A HIS170 N_2800 A HIS127 O_2132 A MET169 N_2783 A 4.999343256868841 4.397015806203108 3.6864341849543405 4.9797611388499305 2.7827371417365323 5.877139185011698 1 ['B_4205']\n",
      "@> ARG168 NH1_2777 A ARG168 NE_2774 A 2.2786719816594943 1 ['B_4547']\n",
      "@> GLY167 O_2758 A HIS170 N_2800 A HIS127 O_2132 A MET169 N_2783 A 4.999343256868841 4.397015806203108 3.6864341849543405 4.9797611388499305 2.7827371417365323 5.877139185011698 1 ['B_4205']\n",
      "@> HIS170 O_2805 A HIS127 N_2127 A 5.701541545932994 2 ['B_4385', 'B_4481']\n",
      "@> SER178 OG_2946 A HIS170 ND1_2810 A 4.8062902534075045 1 ['B_4355']\n",
      "@> HIS170 NE2_2816 A ARG128 O_2149 A 3.083731667963347 1 ['B_4253']\n",
      "@> GLU172 OE2_2843 A LEU238 N_3917 A 5.623081183835067 1 ['B_4349']\n",
      "@> PRO192 O_3153 A THR211 N_3480 A TYR184 OH_3039 A 5.356535540813668 5.023710381779584 4.567593348799783 3 ['B_4226', 'B_4346', 'B_4859']\n",
      "@> GLU194 N_3183 A GLU194 O_3188 A 2.8882110379956667 3 ['B_4226', 'B_4346', 'B_4859']\n",
      "@> THR197 N_3225 A THR197 OG1_3233 A 2.980871349119247 1 ['B_4502']\n",
      "@> PRO192 O_3153 A THR211 N_3480 A TYR184 OH_3039 A 5.356535540813668 5.023710381779584 4.567593348799783 3 ['B_4226', 'B_4346', 'B_4859']\n",
      "@> THR217 OG1_3584 A GLU103 OE1_1753 A GLU103 OE2_1754 A 2.5768098494068195 4.001698764274993 2.180441239749423 1 ['B_4838']\n",
      "@> ASN231 N_3808 A GLN234 NE2_3857 A 4.777261349350693 1 ['B_4241']\n",
      "@> SER233 N_3832 A ASN231 ND2_3819 A 3.128550782710741 1 ['B_4292']\n",
      "@> ASN231 N_3808 A GLN234 NE2_3857 A 4.777261349350693 1 ['B_4241']\n",
      "@> ALA239 N_3936 A LEU238 N_3917 A 2.848355665993978 1 ['B_4283']\n",
      "@> GLU172 OE2_2843 A LEU238 N_3917 A 5.623081183835067 1 ['B_4349']\n",
      "@> 4108 atoms and 1 coordinate set(s) were parsed in 0.04s.\n",
      "@> 0 water bridges detected using method cluster.\n",
      "@> 4464 atoms and 1 coordinate set(s) were parsed in 0.04s.\n",
      "@> 22 water bridges detected using method cluster.\n",
      "@> TYR76 N_1281 A LYS2 NZ_37 A 5.683252853780127 1 ['B_4419']\n",
      "@> PHE21 N_338 A LYS20 N_316 A 2.798720064600956 1 ['B_4212']\n",
      "@> ILE35 O_581 A TYR89 N_1508 A 4.744997049524904 1 ['B_4197']\n",
      "@> ILE70 O_1177 A HIS67 O_1132 A LYS148 NZ_2479 A 3.048979501406988 5.279781150767517 5.338490516990735 1 ['B_4221']\n",
      "@> TYR76 N_1281 A LYS2 NZ_37 A 5.683252853780127 1 ['B_4419']\n",
      "@> ILE35 O_581 A TYR89 N_1508 A 4.744997049524904 1 ['B_4197']\n",
      "@> ASP106 OD2_1810 A ASP106 N_1799 A 3.8504225742118234 1 ['B_4251']\n",
      "@> ILE70 O_1177 A HIS67 O_1132 A LYS148 NZ_2479 A 3.048979501406988 5.279781150767517 5.338490516990735 1 ['B_4221']\n",
      "@> TRP173 NE1_2883 A LEU156 N_2596 A ASP154 O_2568 A LEU156 O_2601 A 4.540908939848935 5.1773322280881295 3.377712539574671 4.025373895677267 2.8397721739604416 4.9916038504673015 1 ['B_4191']\n",
      "@> ASP154 O_2568 A ASP154 OD1_2573 A PHE189 N_3125 A 4.351530650242509 5.391779019952505 4.896667642387014 1 ['B_4236']\n",
      "@> TRP173 NE1_2883 A LEU156 N_2596 A ASP154 O_2568 A LEU156 O_2601 A 4.540908939848935 5.1773322280881295 3.377712539574671 4.025373895677267 2.8397721739604416 4.9916038504673015 1 ['B_4191']\n",
      "@> ARG164 NH2_2737 A GLU159 N_2643 A 4.89957651231206 1 ['B_4389']\n",
      "@> ASP167 OD1_2784 A ASP167 N_2774 A 3.037374194925615 1 ['B_4290']\n",
      "@> TRP173 NE1_2883 A LEU156 N_2596 A ASP154 O_2568 A LEU156 O_2601 A 4.540908939848935 5.1773322280881295 3.377712539574671 4.025373895677267 2.8397721739604416 4.9916038504673015 1 ['B_4191']\n",
      "@> ARG200 NH2_3329 A TYR180 OH_2996 A THR207 N_3437 A 6.798730249097993 5.073501946387724 4.5405978681226555 1 ['B_4230']\n",
      "@> ASP154 O_2568 A ASP154 OD1_2573 A PHE189 N_3125 A 4.351530650242509 5.391779019952505 4.896667642387014 1 ['B_4236']\n",
      "@> THR197 OG1_3259 A ALA191 O_3165 A 4.068243478456024 1 ['B_4365']\n",
      "@> ARG200 NH2_3329 A TYR180 OH_2996 A THR207 N_3437 A 6.798730249097993 5.073501946387724 4.5405978681226555 1 ['B_4230']\n",
      "@> GLY215 N_3562 A THR213 OG1_3541 A 3.8409014566895614 1 ['B_4302']\n",
      "@> GLN230 OE1_3817 A HIS226 N_3748 A ASN227 N_3765 A 5.557715178020556 4.956669648060078 2.8112836925504343 1 ['B_4356']\n",
      "@> GLN230 OE1_3817 A HIS226 N_3748 A ASN227 N_3765 A 5.557715178020556 4.956669648060078 2.8112836925504343 1 ['B_4356']\n",
      "@> LEU234 N_3876 A ARG235 N_3895 A 2.8519091850898732 1 ['B_4266']\n"
     ]
    },
    {
     "name": "stdout",
     "output_type": "stream",
     "text": [
      "align__addH_4ztqA.pdb\n",
      "align__addH_3lauA.pdb\n"
     ]
    },
    {
     "name": "stderr",
     "output_type": "stream",
     "text": [
      "@> 4674 atoms and 1 coordinate set(s) were parsed in 0.04s.\n",
      "@> 21 water bridges detected using method cluster.\n",
      "@> ASN20 ND2_313 A GLN42 NE2_703 A 6.548765227124881 1 ['B_4536']\n",
      "@> ILE32 O_518 A TYR86 N_1445 A 4.991755703156953 1 ['B_4557']\n",
      "@> LYS263 NZ_4317 A ASN66 ND2_1106 A GLU113 OE2_1910 A 5.681917106047925 2.235007606251039 4.430246607131484 1 ['B_4650']\n",
      "@> LYS145 NZ_2416 A GLU85 OE1_1443 A 4.063883610538076 1 ['B_4527']\n",
      "@> ILE32 O_518 A TYR86 N_1445 A 4.991755703156953 1 ['B_4557']\n",
      "@> GLU104 OE1_1761 A THR227 OG1_3722 A 4.107082297690173 1 ['B_4635']\n",
      "@> SER152 N_2512 A HIS128 ND1_2145 A HIS128 O_2140 A 5.840730947407186 3.4888235839606425 3.2477056516870544 1 ['B_4542']\n",
      "@> ASP130 N_2176 A ILE131 N_2188 A 2.771876440247654 1 ['B_4563']\n",
      "@> ASN135 ND2_2269 A ASN135 OD1_2268 A 2.260789242720335 1 ['B_4581']\n",
      "@> LYS145 NZ_2416 A GLU85 OE1_1443 A 4.063883610538076 1 ['B_4527']\n",
      "@> ASP148 O_2454 A TRP151 N_2488 A ASP148 OD1_2459 A ASP148 OD2_2460 A 4.517642858836898 3.0978384399448626 4.06759621889882 5.265564167304394 6.615894950798418 2.1930490190599974 2 ['B_4500', 'B_4503']\n",
      "@> ASP148 O_2454 A TRP151 N_2488 A ASP148 OD1_2459 A ASP148 OD2_2460 A 4.517642858836898 3.0978384399448626 4.06759621889882 5.265564167304394 6.615894950798418 2.1930490190599974 2 ['B_4500', 'B_4503']\n",
      "@> ASP148 O_2454 A TRP151 N_2488 A ASP148 OD1_2459 A ASP148 OD2_2460 A 4.517642858836898 3.0978384399448626 4.06759621889882 5.265564167304394 6.615894950798418 2.1930490190599974 2 ['B_4500', 'B_4503']\n",
      "@> SER152 N_2512 A HIS128 ND1_2145 A HIS128 O_2140 A 5.840730947407186 3.4888235839606425 3.2477056516870544 1 ['B_4542']\n",
      "@> THR166 O_2716 A TYR169 N_2756 A 5.106284853002226 1 ['B_4554']\n",
      "@> TRP187 NE1_3064 A ASP168 O_2749 A 5.122698605227519 1 ['B_4530']\n",
      "@> TRP187 NE1_3064 A ASP168 O_2749 A 5.122698605227519 1 ['B_4530']\n",
      "@> THR221 N_3618 A THR221 O_3623 A 2.7011690061897267 1 ['B_4560']\n",
      "@> THR227 OG1_3722 A GLY229 N_3743 A 3.9276468782211067 1 ['B_4605']\n",
      "@> GLU104 OE1_1761 A THR227 OG1_3722 A 4.107082297690173 1 ['B_4635']\n",
      "@> LYS263 NZ_4317 A ASN66 ND2_1106 A GLU113 OE2_1910 A 5.681917106047925 2.235007606251039 4.430246607131484 1 ['B_4650']\n"
     ]
    },
    {
     "name": "stdout",
     "output_type": "stream",
     "text": [
      "align__addH_6r4cA.pdb\n"
     ]
    },
    {
     "name": "stderr",
     "output_type": "stream",
     "text": [
      "@> 4473 atoms and 1 coordinate set(s) were parsed in 0.04s.\n",
      "@> 16 water bridges detected using method cluster.\n",
      "@> LYS146 NZ_2440 A GLU86 OE1_1467 A 4.263861278231272 1 ['B_4455']\n",
      "@> ASP104 N_1760 A ASP104 OD1_1770 A ASP104 OD2_1771 A ARG107 NE_1819 A 3.194704681187294 3.9615538618072583 5.472110379003695 2.1786883668849915 4.985859003221004 5.437135367084398 1 ['B_4446']\n",
      "@> ASP104 N_1760 A ASP104 OD1_1770 A ASP104 OD2_1771 A ARG107 NE_1819 A 3.194704681187294 3.9615538618072583 5.472110379003695 2.1786883668849915 4.985859003221004 5.437135367084398 1 ['B_4446']\n",
      "@> TRP152 N_2512 A HIS129 O_2164 A ASP149 O_2478 A 4.950955564333008 5.007766168662431 5.342679945495517 1 ['B_4422']\n",
      "@> ASP131 N_2200 A ILE132 N_2212 A SER189 OG_3110 A 2.704423228712547 5.687471670259115 4.853113330636323 1 ['B_4428']\n",
      "@> LYS146 NZ_2440 A GLU86 OE1_1467 A 4.263861278231272 1 ['B_4455']\n",
      "@> TRP152 N_2512 A HIS129 O_2164 A ASP149 O_2478 A 4.950955564333008 5.007766168662431 5.342679945495517 1 ['B_4422']\n",
      "@> THR167 O_2742 A TYR170 N_2782 A 5.08721387401788 1 ['B_4464']\n",
      "@> PHE204 N_3332 A ASP169 O_2775 A 5.5081919901179885 1 ['B_4425']\n",
      "@> TRP188 NE1_3090 A LEU171 N_2803 A ASP169 O_2775 A 4.647188397300029 4.967467060786614 3.9329491479041554 1 ['B_4449']\n",
      "@> TRP188 NE1_3090 A LEU171 N_2803 A ASP169 O_2775 A 4.647188397300029 4.967467060786614 3.9329491479041554 1 ['B_4449']\n",
      "@> ASP131 N_2200 A ILE132 N_2212 A SER189 OG_3110 A 2.704423228712547 5.687471670259115 4.853113330636323 1 ['B_4428']\n",
      "@> PRO203 O_3322 A THR222 N_3644 A 5.272883556461305 1 ['B_4437']\n",
      "@> PHE204 N_3332 A ASP169 O_2775 A 5.5081919901179885 1 ['B_4425']\n",
      "@> ARG218 NE_3584 A ARG218 NH2_3590 A 2.302929221665311 1 ['B_4419']\n",
      "@> PRO203 O_3322 A THR222 N_3644 A 5.272883556461305 1 ['B_4437']\n"
     ]
    },
    {
     "name": "stdout",
     "output_type": "stream",
     "text": [
      "align__addH_4jboA.pdb\n"
     ]
    },
    {
     "name": "stderr",
     "output_type": "stream",
     "text": [
      "@> 4330 atoms and 1 coordinate set(s) were parsed in 0.04s.\n",
      "@> 9 water bridges detected using method cluster.\n",
      "@> TYR72 OH_1233 A TYR87 N_1469 A 4.765938312651561 1 ['B_4273']\n",
      "@> GLY143 O_2387 A TYR111 OH_1885 A 4.711661065908713 1 ['B_4279']\n",
      "@> GLU114 OE1_1933 A GLU114 OE2_1934 A 2.163589840981881 1 ['B_4315']\n",
      "@> ASP131 OD2_2211 A TYR161 N_2643 A 5.071606747373062 1 ['B_4282']\n",
      "@> GLY143 O_2387 A TYR111 OH_1885 A 4.711661065908713 1 ['B_4279']\n",
      "@> LEU162 N_2664 A ASP160 O_2636 A TRP179 NE1_2951 A 3.9030860866755175 4.744184123745618 5.219359922442598 1 ['B_4267']\n",
      "@> LEU162 N_2664 A ASP160 O_2636 A TRP179 NE1_2951 A 3.9030860866755175 4.744184123745618 5.219359922442598 1 ['B_4267']\n",
      "@> ASP173 N_2842 A GLU165 OE2_2725 A 5.383532390540618 1 ['B_4294']\n",
      "@> LEU162 N_2664 A ASP160 O_2636 A TRP179 NE1_2951 A 3.9030860866755175 4.744184123745618 5.219359922442598 1 ['B_4267']\n"
     ]
    },
    {
     "name": "stdout",
     "output_type": "stream",
     "text": [
      "align__addH_4jbqA.pdb\n",
      "align__addH_3m11A.pdb\n"
     ]
    },
    {
     "name": "stderr",
     "output_type": "stream",
     "text": [
      "@> 4563 atoms and 1 coordinate set(s) were parsed in 0.04s.\n",
      "@> 14 water bridges detected using method cluster.\n",
      "@> LYS18 N_277 A GLY20 N_319 A 4.305468267215543 1 ['B_4293']\n",
      "@> THR79 O_1327 A ALA42 N_703 A 4.434939232954605 1 ['B_4449']\n",
      "@> LEU63 O_1050 A GLN60 NE2_1014 A 6.031885691887736 1 ['B_4368']\n",
      "@> LYS146 NZ_2440 A PRO66 O_1109 A 3.3616083948015127 1 ['B_4467']\n",
      "@> THR79 O_1327 A ALA42 N_703 A 4.434939232954605 1 ['B_4449']\n",
      "@> THR92 OG1_1548 A THR92 N_1540 A 2.9871757564629475 1 ['B_4443']\n",
      "@> ASP176 OD1_2906 A ARG130 O_2181 A 4.944610298092258 1 ['B_4299']\n",
      "@> TYR160 N_2632 A THR157 O_2592 A ASP131 OD2_2211 A 5.1019696196665105 5.705636686645936 4.669198646448872 1 ['B_4446']\n",
      "@> LYS146 NZ_2440 A PRO66 O_1109 A 3.3616083948015127 1 ['B_4467']\n",
      "@> ASP159 O_2625 A GLU195 N_3202 A ASP159 OD1_2630 A PHE194 N_3182 A 6.207690472309327 4.422727439035779 5.586156281379892 3.493111363813065 2.6639386254191364 5.009758277601821 1 ['B_4272']\n",
      "@> TYR160 N_2632 A THR157 O_2592 A ASP131 OD2_2211 A 5.1019696196665105 5.705636686645936 4.669198646448872 1 ['B_4446']\n",
      "@> ASP176 OD1_2906 A ARG130 O_2181 A 4.944610298092258 1 ['B_4299']\n",
      "@> VAL189 O_3114 A LYS191 NZ_3150 A 4.722457940522075 1 ['B_4521']\n",
      "@> ASP159 O_2625 A GLU195 N_3202 A ASP159 OD1_2630 A PHE194 N_3182 A 6.207690472309327 4.422727439035779 5.586156281379892 3.493111363813065 2.6639386254191364 5.009758277601821 1 ['B_4272']\n",
      "@> 4407 atoms and 1 coordinate set(s) were parsed in 0.04s.\n",
      "@> 2 water bridges detected using method cluster.\n",
      "@> LYS37 NZ_622 A GLY151 O_2511 A 3.8526584328227167 1 ['B_4404']\n",
      "@> ARG179 NH2_2944 A GLU174 OE1_2863 A 5.204661372270055 1 ['B_4392']\n"
     ]
    },
    {
     "name": "stdout",
     "output_type": "stream",
     "text": [
      "align__addH_3uo6A.pdb\n",
      "align__addH_5orxA.pdb\n"
     ]
    },
    {
     "name": "stderr",
     "output_type": "stream",
     "text": [
      "@> 4743 atoms and 1 coordinate set(s) were parsed in 0.04s.\n",
      "@> 44 water bridges detected using method cluster.\n",
      "@> LYS17 N_253 A ASN135 OD1_2268 A 8.747594755131267 2 ['B_4644', 'B_4557']\n",
      "@> GLU55 OE2_925 A LYS36 NZ_598 A ASP148 OD1_2459 A GLU55 OE1_924 A 2.887151710596448 4.106141863111894 2.20070920387043 3.725387228195211 3.9352486579630557 4.51838444579476 1 ['B_4413']\n",
      "@> ARG53 NE_878 A ARG53 NH2_884 A 2.2903648181021317 1 ['B_4518']\n",
      "@> ARG54 NE_902 A GLY150 O_2487 A 5.57417590321654 1 ['B_4482']\n",
      "@> GLU55 OE2_925 A LYS36 NZ_598 A ASP148 OD1_2459 A GLU55 OE1_924 A 2.887151710596448 4.106141863111894 2.20070920387043 3.725387228195211 3.9352486579630557 4.51838444579476 1 ['B_4413']\n",
      "@> ASP148 N_2449 A GLN59 NE2_990 A 4.653818324773753 1 ['B_4620']\n",
      "@> LEU70 O_1176 A LEU62 O_1026 A LEU70 N_1171 A 6.570096574632673 2.8540068325075887 6.25287341947684 1 ['B_4467']\n",
      "@> LEU62 O_1026 A LEU68 O_1133 A 5.9856853408778505 1 ['B_4536']\n",
      "@> ILE67 O_1114 A HIS64 O_1069 A 3.142348962161903 1 ['B_4593']\n",
      "@> LEU62 O_1026 A LEU68 O_1133 A 5.9856853408778505 1 ['B_4536']\n",
      "@> LEU70 O_1176 A LEU62 O_1026 A LEU70 N_1171 A 6.570096574632673 2.8540068325075887 6.25287341947684 1 ['B_4467']\n",
      "@> GLU85 OE2_1444 A LYS145 NZ_2416 A 3.3281209413120805 1 ['B_4416']\n",
      "@> TYR86 O_1450 A GLU85 OE2_1444 A 4.661451812472159 1 ['B_4563']\n",
      "@> THR91 N_1516 A LEU89 O_1495 A 3.9659665908829838 1 ['B_4434']\n",
      "@> THR91 OG1_1524 A THR91 N_1516 A 2.9872721670447118 1 ['B_4647']\n",
      "@> ASN116 ND2_1951 A GLU113 OE2_1910 A 7.092360960921262 2 ['B_4656', 'B_4527']\n",
      "@> SER152 N_2512 A ASP148 O_2454 A HIS128 O_2140 A 5.757190721176431 3.426979282108364 5.648854220105169 1 ['B_4596']\n",
      "@> TYR169 N_2756 A ASP130 OD1_2186 A THR166 O_2716 A 7.536371938804512 4.893774208113815 6.5167496499405315 2 ['B_4680', 'B_4425']\n",
      "@> ASP130 OD2_2187 A ASP148 OD2_2460 A ASP148 O_2454 A 4.142931932822457 4.917238452627655 4.095784784385036 1 ['B_4458']\n",
      "@> ILE131 N_2188 A SER188 OG_3084 A 5.149737177759659 1 ['B_4599']\n",
      "@> LYS17 N_253 A ASN135 OD1_2268 A 8.747594755131267 2 ['B_4644', 'B_4557']\n",
      "@> GLU85 OE2_1444 A LYS145 NZ_2416 A 3.3281209413120805 1 ['B_4416']\n",
      "@> ASP148 N_2449 A GLN59 NE2_990 A 4.653818324773753 1 ['B_4620']\n",
      "@> SER152 N_2512 A ASP148 O_2454 A HIS128 O_2140 A 5.757190721176431 3.426979282108364 5.648854220105169 1 ['B_4596']\n",
      "@> GLU55 OE2_925 A LYS36 NZ_598 A ASP148 OD1_2459 A GLU55 OE1_924 A 2.887151710596448 4.106141863111894 2.20070920387043 3.725387228195211 3.9352486579630557 4.51838444579476 1 ['B_4413']\n",
      "@> ASP130 OD2_2187 A ASP148 OD2_2460 A ASP148 O_2454 A 4.142931932822457 4.917238452627655 4.095784784385036 1 ['B_4458']\n",
      "@> ARG54 NE_902 A GLY150 O_2487 A 5.57417590321654 1 ['B_4482']\n",
      "@> TYR169 N_2756 A ASP130 OD1_2186 A THR166 O_2716 A 7.536371938804512 4.893774208113815 6.5167496499405315 2 ['B_4680', 'B_4425']\n",
      "@> ASP168 OD1_2754 A PHE203 N_3306 A GLU204 N_3326 A 5.348164731943095 4.009130703781059 2.688324571178111 1 ['B_4623']\n",
      "@> LEU170 N_2777 A TRP187 NE1_3064 A 4.506560218170836 1 ['B_4440']\n",
      "@> GLU173 OE1_2837 A HIS240 O_3934 A 4.2966156449000685 1 ['B_4587']\n",
      "@> GLU176 OE2_2889 A TYR212 OH_3465 A 4.582620211189226 1 ['B_4473']\n",
      "@> ILE131 N_2188 A SER188 OG_3084 A 5.149737177759659 1 ['B_4599']\n",
      "@> TYR194 OH_3177 A THR221 N_3618 A 4.842913276118002 1 ['B_4512']\n",
      "@> ASP168 OD1_2754 A PHE203 N_3306 A GLU204 N_3326 A 5.348164731943095 4.009130703781059 2.688324571178111 1 ['B_4623']\n",
      "@> GLU176 OE2_2889 A TYR212 OH_3465 A 4.582620211189226 1 ['B_4473']\n",
      "@> HIS240 NE2_3944 A SER216 O_3537 A 3.728513510770748 1 ['B_4404']\n",
      "@> TYR194 OH_3177 A THR221 N_3618 A 4.842913276118002 1 ['B_4512']\n",
      "@> ASP224 OD1_3676 A ARG231 NH2_3781 A 4.983172182455668 1 ['B_4611']\n",
      "@> THR227 OG1_3722 A GLY229 N_3743 A 3.802914277235288 1 ['B_4572']\n",
      "@> ASP224 OD1_3676 A ARG231 NH2_3781 A 4.983172182455668 1 ['B_4611']\n",
      "@> GLU173 OE1_2837 A HIS240 O_3934 A 4.2966156449000685 1 ['B_4587']\n",
      "@> HIS240 NE2_3944 A SER216 O_3537 A 3.728513510770748 1 ['B_4404']\n",
      "@> ASN241 N_3946 A GLN244 OE1_3998 A 4.984255711738717 1 ['B_4617']\n",
      "@> 4299 atoms and 1 coordinate set(s) were parsed in 0.04s.\n",
      "@> 5 water bridges detected using method cluster.\n",
      "@> ASP130 OD2_2187 A ILE131 N_2188 A 4.186985789323867 1 ['B_4296']\n",
      "@> PHE195 N_3188 A ASP160 OD1_2636 A ASP160 O_2631 A 4.420437195572398 5.4990654660587515 3.9011108674325037 1 ['B_4275']\n",
      "@> TRP179 NE1_2946 A ASP160 O_2631 A 5.148963973461069 1 ['B_4284']\n",
      "@> TRP179 NE1_2946 A ASP160 O_2631 A 5.148963973461069 1 ['B_4284']\n",
      "@> PHE195 N_3188 A ASP160 OD1_2636 A ASP160 O_2631 A 4.420437195572398 5.4990654660587515 3.9011108674325037 1 ['B_4275']\n"
     ]
    },
    {
     "name": "stdout",
     "output_type": "stream",
     "text": [
      "align__addH_5oneA.pdb\n",
      "align__addH_5orzA.pdb\n"
     ]
    },
    {
     "name": "stderr",
     "output_type": "stream",
     "text": [
      "@> 4667 atoms and 1 coordinate set(s) were parsed in 0.04s.\n",
      "@> 34 water bridges detected using method cluster.\n",
      "@> ASN20 OD1_312 A ASN20 ND2_313 A ASN20 N_302 A 2.244388780937921 3.182458326514271 4.065233572625319 1 ['B_4394']\n",
      "@> ASN20 OD1_312 A ASN20 ND2_313 A ASN20 N_302 A 2.244388780937921 3.182458326514271 4.065233572625319 1 ['B_4394']\n",
      "@> TYR86 N_1445 A ILE32 O_518 A 5.0430036684499875 1 ['B_4523']\n",
      "@> PHE39 N_637 A GLN42 OE1_702 A 5.759418373412371 2 ['B_4427', 'B_4403']\n",
      "@> ARG54 NH2_908 A ARG54 NE_902 A GLY150 O_2487 A 2.2998958672079044 6.318267958863412 5.7499760869068 1 ['B_4616']\n",
      "@> ASN66 ND2_1106 A GLU113 OE2_1910 A 4.040982430053368 1 ['B_4589']\n",
      "@> LYS145 NZ_2416 A GLU85 OE1_1443 A 4.442628388690643 1 ['B_4454']\n",
      "@> TYR86 N_1445 A ILE32 O_518 A 5.0430036684499875 1 ['B_4523']\n",
      "@> ASP103 N_1736 A ASP103 OD2_1747 A 3.842923496506272 1 ['B_4604']\n",
      "@> ASN66 ND2_1106 A GLU113 OE2_1910 A 4.040982430053368 1 ['B_4589']\n",
      "@> HIS128 ND1_2145 A SER152 N_2512 A ASP148 O_2454 A TRP151 N_2488 A 5.895796977508637 4.186782177281258 6.297370324190883 5.817405005670485 2.686906957823438 4.819464285581957 1 ['B_4502']\n",
      "@> ASP130 N_2176 A SER188 OG_3084 A 5.86657191211358 1 ['B_4508']\n",
      "@> LYS132 NZ_2225 A ASP130 OD2_2187 A 4.159335163220199 2 ['B_4442', 'B_4475']\n",
      "@> LYS145 NZ_2416 A GLU85 OE1_1443 A 4.442628388690643 1 ['B_4454']\n",
      "@> ASP148 N_2449 A PHE149 N_2461 A 3.137887983979035 1 ['B_4400']\n",
      "@> ASP148 OD2_2460 A ASP148 O_2454 A 4.209330588110179 1 ['B_4451']\n",
      "@> HIS128 ND1_2145 A SER152 N_2512 A ASP148 O_2454 A TRP151 N_2488 A 5.895796977508637 4.186782177281258 6.297370324190883 5.817405005670485 2.686906957823438 4.819464285581957 1 ['B_4502']\n",
      "@> ASP148 N_2449 A PHE149 N_2461 A 3.137887983979035 1 ['B_4400']\n",
      "@> ARG54 NH2_908 A ARG54 NE_902 A GLY150 O_2487 A 2.2998958672079044 6.318267958863412 5.7499760869068 1 ['B_4616']\n",
      "@> HIS128 ND1_2145 A SER152 N_2512 A ASP148 O_2454 A TRP151 N_2488 A 5.895796977508637 4.186782177281258 6.297370324190883 5.817405005670485 2.686906957823438 4.819464285581957 1 ['B_4502']\n",
      "@> THR166 O_2716 A TYR169 N_2756 A 5.092645186933801 1 ['B_4457']\n",
      "@> ASP168 OD1_2754 A PHE203 N_3306 A 5.020400880407858 1 ['B_4532']\n",
      "@> ASP168 OD2_2755 A ALA205 N_3341 A 5.775160690405072 1 ['B_4490']\n",
      "@> TRP187 NE1_3064 A LEU170 N_2777 A 4.522168616935908 1 ['B_4481']\n",
      "@> ARG178 NH1_2915 A GLU173 OE1_2837 A HIS240 O_3934 A 5.253498453411781 5.898803777038184 4.295461092828101 1 ['B_4556']\n",
      "@> ASP181 N_2955 A ASP181 OD1_2965 A GLU173 OE2_2838 A 2.860889022664105 5.6731410171086 5.455707928399392 1 ['B_4526']\n",
      "@> ASP181 N_2955 A ASP181 OD1_2965 A GLU173 OE2_2838 A 2.860889022664105 5.6731410171086 5.455707928399392 1 ['B_4526']\n",
      "@> TRP187 NE1_3064 A LEU170 N_2777 A 4.522168616935908 1 ['B_4481']\n",
      "@> ASP130 N_2176 A SER188 OG_3084 A 5.86657191211358 1 ['B_4508']\n",
      "@> PRO202 O_3296 A THR221 N_3618 A 5.3643522442136495 1 ['B_4493']\n",
      "@> ASP168 OD1_2754 A PHE203 N_3306 A 5.020400880407858 1 ['B_4532']\n",
      "@> ASP168 OD2_2755 A ALA205 N_3341 A 5.775160690405072 1 ['B_4490']\n",
      "@> THR227 N_3714 A THR227 OG1_3722 A 2.9556126268508196 1 ['B_4487']\n",
      "@> ARG178 NH1_2915 A GLU173 OE1_2837 A HIS240 O_3934 A 5.253498453411781 5.898803777038184 4.295461092828101 1 ['B_4556']\n",
      "@> 4560 atoms and 1 coordinate set(s) were parsed in 0.04s.\n",
      "@> 36 water bridges detected using method cluster.\n",
      "@> TYR86 N_1445 A ILE32 O_518 A 4.949603014384085 1 ['B_4422']\n",
      "@> ASP148 OD1_2459 A LYS36 NZ_598 A 3.6841256764665333 1 ['B_4359']\n",
      "@> HIS50 N_810 A HIS50 ND1_820 A 3.220167852767929 1 ['B_4449']\n",
      "@> SER152 O_2517 A ARG54 NE_902 A 3.0811462152906666 1 ['B_4356']\n",
      "@> LEU70 O_1176 A ARG69 NE_1162 A ARG63 NH2_1061 A 4.788060672130211 6.031343051095668 4.430587545687367 1 ['B_4425']\n",
      "@> ASN66 OD1_1105 A ASN116 ND2_1951 A 4.874673527529818 1 ['B_4395']\n",
      "@> LEU70 O_1176 A ARG69 NE_1162 A ARG63 NH2_1061 A 4.788060672130211 6.031343051095668 4.430587545687367 1 ['B_4425']\n",
      "@> TYR86 N_1445 A ILE32 O_518 A 4.949603014384085 1 ['B_4422']\n",
      "@> THR91 OG1_1524 A THR91 N_1516 A 2.8815613823064723 1 ['B_4533']\n",
      "@> THR222 OG1_3644 A THR222 N_3636 A GLU104 OE2_1762 A 2.9830216224492907 2.583316860162531 4.4202303107417364 1 ['B_4374']\n",
      "@> ASN66 OD1_1105 A ASN116 ND2_1951 A 4.874673527529818 1 ['B_4395']\n",
      "@> HIS128 ND1_2145 A HIS128 O_2140 A ASP148 O_2454 A 3.2662401932497245 4.373318534019677 5.628515434819385 1 ['B_4485']\n",
      "@> ILE131 N_2188 A SER183 OG_3006 A ARG129 N_2152 A 5.040760359310886 4.741870200669771 6.317403897171688 1 ['B_4512']\n",
      "@> GLU134 OE1_2256 A ASN135 ND2_2269 A 5.209161640801712 1 ['B_4506']\n",
      "@> ASP148 N_2449 A PHE149 N_2461 A 3.1289923298084354 1 ['B_4344']\n",
      "@> TRP151 N_2488 A ASP148 O_2454 A ASP148 OD1_2459 A 4.722045531334913 5.300998019241285 3.2713633243649345 1 ['B_4446']\n",
      "@> HIS128 ND1_2145 A HIS128 O_2140 A ASP148 O_2454 A 3.2662401932497245 4.373318534019677 5.628515434819385 1 ['B_4485']\n",
      "@> ASP148 OD1_2459 A LYS36 NZ_598 A 3.6841256764665333 1 ['B_4359']\n",
      "@> ASP148 N_2449 A PHE149 N_2461 A 3.1289923298084354 1 ['B_4344']\n",
      "@> TRP151 N_2488 A ASP148 O_2454 A ASP148 OD1_2459 A 4.722045531334913 5.300998019241285 3.2713633243649345 1 ['B_4446']\n",
      "@> SER152 O_2517 A ARG54 NE_902 A 3.0811462152906666 1 ['B_4356']\n",
      "@> THR161 O_2638 A ASP163 N_2666 A TYR164 N_2678 A 3.547307852442466 4.890063189775767 2.859393467153477 1 ['B_4389']\n",
      "@> TRP182 NE1_2986 A LEU165 N_2699 A ASP163 O_2671 A 4.630751234950981 5.089752940958923 3.8722430192331685 1 ['B_4416']\n",
      "@> GLU199 N_3248 A ASP163 OD1_2676 A PHE198 N_3228 A 3.7514138667974217 2.692788146141465 5.102396495765495 1 ['B_4473']\n",
      "@> THR161 O_2638 A ASP163 N_2666 A TYR164 N_2678 A 3.547307852442466 4.890063189775767 2.859393467153477 1 ['B_4389']\n",
      "@> GLU168 OE1_2759 A HIS235 O_3856 A ARG173 NH1_2837 A GLU168 N_2746 A 4.0838811197193285 5.150896329766305 2.587289508346525 5.606745045032811 5.68549646029263 4.035005576204324 1 ['B_4443']\n",
      "@> GLU168 OE2_2760 A ASP176 N_2877 A 5.823703375001167 1 ['B_4476']\n",
      "@> GLU168 OE1_2759 A HIS235 O_3856 A ARG173 NH1_2837 A GLU168 N_2746 A 4.0838811197193285 5.150896329766305 2.587289508346525 5.606745045032811 5.68549646029263 4.035005576204324 1 ['B_4443']\n",
      "@> TRP182 NE1_2986 A LEU165 N_2699 A ASP163 O_2671 A 4.630751234950981 5.089752940958923 3.8722430192331685 1 ['B_4416']\n",
      "@> ILE131 N_2188 A SER183 OG_3006 A ARG129 N_2152 A 5.040760359310886 4.741870200669771 6.317403897171688 1 ['B_4512']\n",
      "@> GLU199 N_3248 A ASP163 OD1_2676 A PHE198 N_3228 A 3.7514138667974217 2.692788146141465 5.102396495765495 1 ['B_4473']\n",
      "@> ARG209 NH2_3432 A THR216 N_3540 A 4.872566059069902 1 ['B_4398']\n",
      "@> ARG209 NH2_3432 A THR216 OG1_3548 A 5.612827184227214 1 ['B_4515']\n",
      "@> ARG209 NH2_3432 A THR216 OG1_3548 A 5.612827184227214 1 ['B_4515']\n",
      "@> THR222 OG1_3644 A THR222 N_3636 A GLU104 OE2_1762 A 2.9830216224492907 2.583316860162531 4.4202303107417364 1 ['B_4374']\n",
      "@> GLU168 OE1_2759 A HIS235 O_3856 A ARG173 NH1_2837 A GLU168 N_2746 A 4.0838811197193285 5.150896329766305 2.587289508346525 5.606745045032811 5.68549646029263 4.035005576204324 1 ['B_4443']\n"
     ]
    },
    {
     "name": "stdout",
     "output_type": "stream",
     "text": [
      "align__addH_6r49A.pdb\n"
     ]
    },
    {
     "name": "stderr",
     "output_type": "stream",
     "text": [
      "@> 4404 atoms and 1 coordinate set(s) were parsed in 0.04s.\n",
      "@> 1 water bridges detected using method cluster.\n",
      "@> TYR71 OH_1209 A TYR86 N_1445 A 4.725609061274536 1 ['B_4383']\n"
     ]
    },
    {
     "name": "stdout",
     "output_type": "stream",
     "text": [
      "align__addH_3unzA.pdb\n",
      "align__addH_2wtvA.pdb\n"
     ]
    },
    {
     "name": "stderr",
     "output_type": "stream",
     "text": [
      "@> 4914 atoms and 1 coordinate set(s) were parsed in 0.04s.\n",
      "@> 32 water bridges detected using method cluster.\n",
      "@> PHE20 N_321 A LYS19 N_299 A SER154 O_2567 A 2.664546115194857 4.400063181364561 2.7469302867018666 1 ['B_4470']\n",
      "@> GLY21 O_347 A LYS38 NZ_644 A VAL39 O_653 A 5.899655752668966 4.358606887527255 5.608832320545875 1 ['B_4488']\n",
      "@> ASN22 N_348 A TYR24 OH_397 A 5.076565078869768 1 ['B_4473']\n",
      "@> TYR88 N_1491 A ILE34 O_564 A 4.864488565101168 1 ['B_4482']\n",
      "@> GLY21 O_347 A LYS38 NZ_644 A VAL39 O_653 A 5.899655752668966 4.358606887527255 5.608832320545875 1 ['B_4488']\n",
      "@> HIS52 N_856 A GLN53 N_873 A GLY49 O_824 A 2.780948039787865 4.56206356816737 5.029157384691794 1 ['B_4524']\n",
      "@> HIS52 N_856 A GLN53 N_873 A GLY49 O_824 A 2.780948039787865 4.56206356816737 5.029157384691794 1 ['B_4524']\n",
      "@> LEU64 O_1072 A GLN61 NE2_1036 A 4.776799451515626 1 ['B_4530']\n",
      "@> ILE69 O_1160 A HIS66 N_1110 A 4.70108476843377 1 ['B_4557']\n",
      "@> ASN68 ND2_1152 A LYS265 NZ_4364 A 5.454724007683614 1 ['B_4551']\n",
      "@> TYR88 N_1491 A ILE34 O_564 A 4.864488565101168 1 ['B_4482']\n",
      "@> VAL94 N_1582 A TYR95 N_1598 A 2.8272619263166976 1 ['B_4728']\n",
      "@> THR229 N_3761 A GLU106 OE1_1811 A 4.197453156379473 1 ['B_4668']\n",
      "@> HIS130 ND1_2195 A ARG131 O_2207 A 4.967568721215642 1 ['B_4806']\n",
      "@> ASP132 N_2226 A ASN137 ND2_2319 A ASP132 O_2231 A 5.561710168644178 2.98606145281707 3.666951185930897 1 ['B_4716']\n",
      "@> SER190 OG_3131 A ILE133 N_2238 A 5.677030385685815 1 ['B_4722']\n",
      "@> ASP132 N_2226 A ASN137 ND2_2319 A ASP132 O_2231 A 5.561710168644178 2.98606145281707 3.666951185930897 1 ['B_4716']\n",
      "@> ASN137 ND2_2319 A PHE151 N_2511 A 5.643618431467529 1 ['B_4752']\n",
      "@> SER142 N_2386 A SER142 OG_2395 A 2.914055593155352 2 ['B_4737', 'B_4734']\n",
      "@> SER142 N_2386 A SER142 OG_2395 A 2.914055593155352 2 ['B_4737', 'B_4734']\n",
      "@> ASN137 ND2_2319 A PHE151 N_2511 A 5.643618431467529 1 ['B_4752']\n",
      "@> PHE20 N_321 A LYS19 N_299 A SER154 O_2567 A 2.664546115194857 4.400063181364561 2.7469302867018666 1 ['B_4470']\n",
      "@> LEU172 N_2824 A ASP170 O_2796 A TRP189 NE1_3111 A 4.044692818991328 4.594495510934794 5.218037274684801 1 ['B_4776']\n",
      "@> PHE205 N_3353 A ASP170 OD2_2802 A 5.154598432467844 1 ['B_4770']\n",
      "@> HIS182 ND1_2995 A ARG180 O_2949 A 4.9099280035454695 1 ['B_4782']\n",
      "@> LEU172 N_2824 A ASP170 O_2796 A TRP189 NE1_3111 A 4.044692818991328 4.594495510934794 5.218037274684801 1 ['B_4776']\n",
      "@> SER190 OG_3131 A ILE133 N_2238 A 5.677030385685815 1 ['B_4722']\n",
      "@> TYR196 OH_3224 A THR223 N_3665 A 4.7572325988961275 1 ['B_4818']\n",
      "@> PHE205 N_3353 A ASP170 OD2_2802 A 5.154598432467844 1 ['B_4770']\n",
      "@> THR229 N_3761 A GLU106 OE1_1811 A 4.197453156379473 1 ['B_4668']\n",
      "@> THR229 OG1_3769 A GLY231 N_3790 A 3.8632485035265334 1 ['B_4836']\n",
      "@> ASN68 ND2_1152 A LYS265 NZ_4364 A 5.454724007683614 1 ['B_4551']\n",
      "@> 4691 atoms and 1 coordinate set(s) were parsed in 0.04s.\n",
      "@> 31 water bridges detected using method cluster.\n",
      "@> TYR86 OH_1464 A ARG11 NH2_181 A 5.257511388480294 1 ['B_4412']\n",
      "@> PHE18 O_280 A PHE39 N_637 A 4.764471324291923 1 ['B_4433']\n",
      "@> TYR86 N_1445 A ILE32 O_518 A 5.0227849844483705 1 ['B_4535']\n",
      "@> TPO162 O1P_2670 A ALA46 O_767 A 4.850162368416134 1 ['B_4571']\n",
      "@> HIS50 N_810 A GLU49 N_795 A 2.7469381136094007 1 ['B_4457']\n",
      "@> HIS75 ND1_1269 A HIS75 N_1259 A 3.1425538977080385 1 ['B_4613']\n",
      "@> LYS145 NZ_2416 A GLU85 OE1_1443 A 4.5843252502413065 1 ['B_4409']\n",
      "@> TYR86 O_1450 A GLU85 OE2_1444 A 4.683318908637339 1 ['B_4481']\n",
      "@> TYR86 N_1445 A ILE32 O_518 A 5.0227849844483705 1 ['B_4535']\n",
      "@> TYR86 OH_1464 A ARG11 NH2_181 A 5.257511388480294 1 ['B_4412']\n",
      "@> ASP103 N_1736 A ASP103 OD2_1747 A 3.8103854135769506 1 ['B_4586']\n",
      "@> ASP130 N_2176 A ILE131 N_2188 A SER188 OG_3084 A 2.828865850477885 5.887583629979282 4.9724427598515435 1 ['B_4514']\n",
      "@> LYS145 NZ_2416 A GLU85 OE1_1443 A 4.5843252502413065 1 ['B_4409']\n",
      "@> ASP148 N_2449 A PHE149 N_2461 A 3.0922126382252535 1 ['B_4397']\n",
      "@> ASP148 O_2454 A ASP148 OD2_2460 A 4.154893139420073 1 ['B_4430']\n",
      "@> ASP148 N_2449 A PHE149 N_2461 A 3.0922126382252535 1 ['B_4397']\n",
      "@> TPO162 O1P_2670 A ALA46 O_767 A 4.850162368416134 1 ['B_4571']\n",
      "@> ASP168 N_2744 A THR166 O_2716 A TYR169 N_2756 A 3.7162729985833995 2.8567889316503563 5.083640624591791 1 ['B_4478']\n",
      "@> TRP187 NE1_3064 A ASP168 O_2749 A 5.260551777142775 1 ['B_4499']\n",
      "@> ASP168 OD1_2754 A PHE203 N_3306 A 5.09428758512905 1 ['B_4568']\n",
      "@> ALA205 N_3341 A ASP168 OD2_2755 A 5.802679639614788 1 ['B_4469']\n",
      "@> ASP168 N_2744 A THR166 O_2716 A TYR169 N_2756 A 3.7162729985833995 2.8567889316503563 5.083640624591791 1 ['B_4478']\n",
      "@> TYR169 O_2761 A SER188 OG_3084 A 2.8162723589880296 1 ['B_4640']\n",
      "@> GLU173 OE1_2837 A HIS240 O_3934 A 4.316074373779952 1 ['B_4517']\n",
      "@> ASP130 N_2176 A ILE131 N_2188 A SER188 OG_3084 A 2.828865850477885 5.887583629979282 4.9724427598515435 1 ['B_4514']\n",
      "@> TYR169 O_2761 A SER188 OG_3084 A 2.8162723589880296 1 ['B_4640']\n",
      "@> ASP168 OD1_2754 A PHE203 N_3306 A 5.09428758512905 1 ['B_4568']\n",
      "@> ALA205 N_3341 A ASP168 OD2_2755 A 5.802679639614788 1 ['B_4469']\n",
      "@> HIS240 N_3929 A LYS239 NZ_3925 A 6.7740605990794025 2 ['B_4604', 'B_4607']\n",
      "@> GLU173 OE1_2837 A HIS240 O_3934 A 4.316074373779952 1 ['B_4517']\n",
      "@> ASN241 N_3946 A GLN244 OE1_3998 A 4.683632137561614 1 ['B_4559']\n"
     ]
    },
    {
     "name": "stdout",
     "output_type": "stream",
     "text": [
      "align__addH_5orrA.pdb\n"
     ]
    },
    {
     "name": "stderr",
     "output_type": "stream",
     "text": [
      "@> 4496 atoms and 1 coordinate set(s) were parsed in 0.04s.\n",
      "@> 14 water bridges detected using method cluster.\n",
      "@> TYR87 N_1470 A ILE33 O_542 A 4.887632044252104 1 ['B_4379']\n",
      "@> LEU63 O_1051 A HIS65 O_1094 A 5.822422434004598 1 ['B_4388']\n",
      "@> HIS65 O_1094 A LYS146 NZ_2441 A ILE68 O_1139 A GLU86 OE1_1468 A 5.356505017266392 2.9154708024605602 5.867411013385721 4.830154034810903 3.9948889846903173 4.067591179064092 1 ['B_4391']\n",
      "@> HIS65 O_1094 A LYS146 NZ_2441 A ILE68 O_1139 A GLU86 OE1_1468 A 5.356505017266392 2.9154708024605602 5.867411013385721 4.830154034810903 3.9948889846903173 4.067591179064092 1 ['B_4391']\n",
      "@> TYR87 N_1470 A ILE33 O_542 A 4.887632044252104 1 ['B_4379']\n",
      "@> SER153 N_2537 A HIS129 ND1_2170 A TRP152 N_2513 A 5.904103488252899 2.6967613910021804 6.296142152143647 1 ['B_4421']\n",
      "@> SER153 N_2537 A HIS129 ND1_2170 A TRP152 N_2513 A 5.904103488252899 2.6967613910021804 6.296142152143647 1 ['B_4421']\n",
      "@> TRP188 NE1_3087 A ASP169 O_2772 A 5.002354045846815 1 ['B_4439']\n",
      "@> PHE204 N_3329 A ASP169 O_2772 A GLU205 N_3349 A ASP169 OD1_2777 A 5.5779793832534 2.7463304608149373 5.180275475300514 6.361153747552403 4.29389776310522 3.8471497241464325 1 ['B_4442']\n",
      "@> ARG179 NH1_2938 A HIS241 O_3957 A 5.896455036714861 1 ['B_4448']\n",
      "@> TRP188 NE1_3087 A ASP169 O_2772 A 5.002354045846815 1 ['B_4439']\n",
      "@> PHE204 N_3329 A ASP169 O_2772 A GLU205 N_3349 A ASP169 OD1_2777 A 5.5779793832534 2.7463304608149373 5.180275475300514 6.361153747552403 4.29389776310522 3.8471497241464325 1 ['B_4442']\n",
      "@> THR228 OG1_3745 A GLY230 N_3766 A 3.8341845286840344 1 ['B_4478']\n",
      "@> ARG179 NH1_2938 A HIS241 O_3957 A 5.896455036714861 1 ['B_4448']\n"
     ]
    },
    {
     "name": "stdout",
     "output_type": "stream",
     "text": [
      "align__addH_4bn1A.pdb\n"
     ]
    },
    {
     "name": "stderr",
     "output_type": "stream",
     "text": [
      "@> 4578 atoms and 1 coordinate set(s) were parsed in 0.04s.\n",
      "@> 25 water bridges detected using method cluster.\n",
      "@> ILE32 O_518 A TYR86 N_1445 A 4.878218322297604 1 ['B_4389']\n",
      "@> LYS40 NZ_675 A HIS75 ND1_1269 A 2.8811948910131013 1 ['B_4476']\n",
      "@> GLY47 O_778 A HIS50 N_810 A 4.795851332141146 1 ['B_4395']\n",
      "@> GLN59 O_981 A LEU62 O_1026 A LEU68 O_1133 A 4.029840443491524 4.268951159242746 5.93558640742429 1 ['B_4383']\n",
      "@> LYS145 NZ_2416 A ILE67 O_1114 A 4.833603210856265 1 ['B_4302']\n",
      "@> GLN59 O_981 A LEU62 O_1026 A LEU68 O_1133 A 4.029840443491524 4.268951159242746 5.93558640742429 1 ['B_4383']\n",
      "@> LYS40 NZ_675 A HIS75 ND1_1269 A 2.8811948910131013 1 ['B_4476']\n",
      "@> ILE32 O_518 A TYR86 N_1445 A 4.878218322297604 1 ['B_4389']\n",
      "@> ARG106 NH2_1801 A ARG106 NE_1795 A 2.2701799488146324 1 ['B_4452']\n",
      "@> ASP130 N_2176 A ASP180 OD1_2939 A ILE131 N_2188 A 4.675038609466233 2.8436436133946206 5.422871287426981 1 ['B_4341']\n",
      "@> SER183 OG_2993 A ILE131 O_2193 A ILE131 N_2188 A 4.1844852730055075 4.7077834487155386 2.8551753010979954 1 ['B_4422']\n",
      "@> GLU143 OE2_2378 A ALA141 N_2347 A 4.323962303258433 1 ['B_4284']\n",
      "@> LYS145 NZ_2416 A ILE67 O_1114 A 4.833603210856265 1 ['B_4302']\n",
      "@> SER152 N_2512 A ASP148 O_2454 A TRP151 N_2488 A 5.484850590490138 2.763695171324076 4.4740197809129105 1 ['B_4380']\n",
      "@> SER152 N_2512 A ASP148 O_2454 A TRP151 N_2488 A 5.484850590490138 2.763695171324076 4.4740197809129105 1 ['B_4380']\n",
      "@> ASP163 O_2658 A LEU165 O_2691 A TRP182 NE1_2973 A 4.891223466577663 4.970900320867438 3.3491875134127675 1 ['B_4299']\n",
      "@> ASP163 O_2658 A ASP163 OD1_2663 A PHE198 N_3215 A 4.154319438849161 5.4854325262462185 4.765170301258915 1 ['B_4398']\n",
      "@> ASP163 O_2658 A LEU165 O_2691 A TRP182 NE1_2973 A 4.891223466577663 4.970900320867438 3.3491875134127675 1 ['B_4299']\n",
      "@> ASP130 N_2176 A ASP180 OD1_2939 A ILE131 N_2188 A 4.675038609466233 2.8436436133946206 5.422871287426981 1 ['B_4341']\n",
      "@> SER183 OG_2993 A ILE131 O_2193 A ILE131 N_2188 A 4.1844852730055075 4.7077834487155386 2.8551753010979954 1 ['B_4422']\n",
      "@> TYR189 OH_3086 A THR216 N_3527 A 4.630613890187778 1 ['B_4320']\n",
      "@> ARG209 NH2_3419 A PRO196 O_3191 A 5.017685223287726 1 ['B_4374']\n",
      "@> ASP163 O_2658 A ASP163 OD1_2663 A PHE198 N_3215 A 4.154319438849161 5.4854325262462185 4.765170301258915 1 ['B_4398']\n",
      "@> TYR189 OH_3086 A THR216 N_3527 A 4.630613890187778 1 ['B_4320']\n",
      "@> ARG226 NH2_3690 A ARG226 NH1_3687 A 2.2869543064958697 1 ['B_4305']\n"
     ]
    },
    {
     "name": "stdout",
     "output_type": "stream",
     "text": [
      "align__addH_5dt0A.pdb\n"
     ]
    },
    {
     "name": "stderr",
     "output_type": "stream",
     "text": [
      "@> 4573 atoms and 1 coordinate set(s) were parsed in 0.04s.\n",
      "@> 26 water bridges detected using method cluster.\n",
      "@> TYR86 N_1445 A ILE32 O_518 A 5.0474977959381055 1 ['B_4489']\n",
      "@> ASP148 OD1_2459 A GLU55 OE2_925 A LYS36 NZ_598 A 4.126948630647105 4.068831036059377 3.0153595142204836 1 ['B_4399']\n",
      "@> ASP148 N_2449 A GLN59 NE2_990 A 4.665981783076312 1 ['B_4471']\n",
      "@> TYR86 N_1445 A ILE32 O_518 A 5.0474977959381055 1 ['B_4489']\n",
      "@> ASP103 N_1736 A ASP103 OD2_1747 A 3.759402213118463 1 ['B_4534']\n",
      "@> THR227 N_3714 A GLU104 OE2_1762 A THR227 OG1_3722 A 4.516899268303423 2.9164123508173527 2.621421370173059 1 ['B_4510']\n",
      "@> HIS128 ND1_2145 A ASP148 O_2454 A HIS128 O_2140 A 4.153157955098744 3.2537759603267142 5.541561963923163 1 ['B_4468']\n",
      "@> ASP130 N_2176 A ILE131 N_2188 A SER188 OG_3084 A 2.8173948959987833 5.942408686719556 5.026102565606876 1 ['B_4483']\n",
      "@> GLU134 OE2_2257 A GLU134 N_2243 A 4.6064540592520835 1 ['B_4504']\n",
      "@> GLU134 OE1_2256 A ASN135 ND2_2269 A 5.110056848998843 1 ['B_4474']\n",
      "@> GLU134 OE1_2256 A ASN135 ND2_2269 A 5.110056848998843 1 ['B_4474']\n",
      "@> ASP148 N_2449 A GLN59 NE2_990 A 4.665981783076312 1 ['B_4471']\n",
      "@> HIS128 ND1_2145 A ASP148 O_2454 A HIS128 O_2140 A 4.153157955098744 3.2537759603267142 5.541561963923163 1 ['B_4468']\n",
      "@> ASP148 OD1_2459 A GLU55 OE2_925 A LYS36 NZ_598 A 4.126948630647105 4.068831036059377 3.0153595142204836 1 ['B_4399']\n",
      "@> ASP168 N_2744 A THR166 O_2716 A TYR169 N_2756 A 3.786781879115829 2.8458583942283555 5.094369735305829 1 ['B_4423']\n",
      "@> LEU170 N_2777 A TRP187 NE1_3064 A ASP168 O_2749 A 4.522196590153949 3.9936106470210695 5.23075960066987 1 ['B_4432']\n",
      "@> ASP168 OD1_2754 A PHE203 N_3306 A 5.242378658586196 1 ['B_4480']\n",
      "@> ASP168 N_2744 A THR166 O_2716 A TYR169 N_2756 A 3.786781879115829 2.8458583942283555 5.094369735305829 1 ['B_4423']\n",
      "@> LEU170 N_2777 A TRP187 NE1_3064 A ASP168 O_2749 A 4.522196590153949 3.9936106470210695 5.23075960066987 1 ['B_4432']\n",
      "@> ASP130 N_2176 A ILE131 N_2188 A SER188 OG_3084 A 2.8173948959987833 5.942408686719556 5.026102565606876 1 ['B_4483']\n",
      "@> ASP168 OD1_2754 A PHE203 N_3306 A 5.242378658586196 1 ['B_4480']\n",
      "@> THR221 N_3618 A ARG214 NH2_3510 A THR221 O_3623 A 4.911248924662646 2.73096905877749 6.356556772341454 1 ['B_4441']\n",
      "@> THR221 N_3618 A ARG214 NH2_3510 A THR221 O_3623 A 4.911248924662646 2.73096905877749 6.356556772341454 1 ['B_4441']\n",
      "@> ARG231 NH2_3781 A PHE222 O_3637 A 4.288698986872356 1 ['B_4501']\n",
      "@> THR227 N_3714 A GLU104 OE2_1762 A THR227 OG1_3722 A 4.516899268303423 2.9164123508173527 2.621421370173059 1 ['B_4510']\n",
      "@> ARG231 NH2_3781 A PHE222 O_3637 A 4.288698986872356 1 ['B_4501']\n"
     ]
    },
    {
     "name": "stdout",
     "output_type": "stream",
     "text": [
      "align__addH_5oryA.pdb\n"
     ]
    },
    {
     "name": "stderr",
     "output_type": "stream",
     "text": [
      "@> 4718 atoms and 1 coordinate set(s) were parsed in 0.05s.\n",
      "@> 29 water bridges detected using method cluster.\n",
      "@> TYR87 N_1469 A ILE33 O_542 A 4.807087891853033 1 ['B_4394']\n",
      "@> GLN60 O_1005 A GLN60 OE1_1013 A 4.700168613996737 1 ['B_4340']\n",
      "@> GLN60 OE1_1013 A HIS129 NE2_2175 A 5.341746998875932 1 ['B_4490']\n",
      "@> LEU63 O_1050 A LEU71 N_1195 A SER61 O_1022 A 5.426292380622339 4.070551436844894 5.566277750885239 1 ['B_4319']\n",
      "@> GLU86 OE2_1468 A HIS65 O_1093 A LYS146 NZ_2440 A 5.750320686709567 4.141034774063124 5.007557588285927 1 ['B_4520']\n",
      "@> LEU63 O_1050 A LEU71 N_1195 A SER61 O_1022 A 5.426292380622339 4.070551436844894 5.566277750885239 1 ['B_4319']\n",
      "@> TYR82 OH_1395 A ARG80 NE_1351 A 4.064698020763657 1 ['B_4388']\n",
      "@> GLU86 OE2_1468 A HIS65 O_1093 A LYS146 NZ_2440 A 5.750320686709567 4.141034774063124 5.007557588285927 1 ['B_4520']\n",
      "@> TYR87 N_1469 A ILE33 O_542 A 4.807087891853033 1 ['B_4394']\n",
      "@> LYS99 NZ_1684 A GLN98 OE1_1662 A 4.853110445889316 1 ['B_4424']\n",
      "@> ASP104 N_1760 A ARG107 NE_1819 A 5.298134011140152 1 ['B_4442']\n",
      "@> GLY143 O_2387 A TYR111 OH_1885 A 4.5797014094807516 1 ['B_4514']\n",
      "@> VAL127 O_2129 A HIS129 N_2159 A 4.476155716683682 1 ['B_4487']\n",
      "@> GLN60 OE1_1013 A HIS129 NE2_2175 A 5.341746998875932 1 ['B_4490']\n",
      "@> ILE132 N_2212 A TYR160 O_2637 A 5.451877749913327 1 ['B_4571']\n",
      "@> GLY143 O_2387 A TYR111 OH_1885 A 4.5797014094807516 1 ['B_4514']\n",
      "@> GLU86 OE2_1468 A HIS65 O_1093 A LYS146 NZ_2440 A 5.750320686709567 4.141034774063124 5.007557588285927 1 ['B_4520']\n",
      "@> ASP159 O_2625 A PHE194 N_3182 A 5.747631425204647 1 ['B_4544']\n",
      "@> ASP159 O_2625 A LEU161 O_2658 A TRP178 NE1_2940 A 5.125687856278412 5.45863499420872 3.783381027599518 1 ['B_4547']\n",
      "@> ALA196 N_3217 A THR202 OG1_3316 A ASP159 OD1_2630 A 3.72543339760624 5.29751262386415 4.482993865710728 1 ['B_4541']\n",
      "@> ASP159 O_2625 A LEU161 O_2658 A TRP178 NE1_2940 A 5.125687856278412 5.45863499420872 3.783381027599518 1 ['B_4547']\n",
      "@> PRO193 O_3172 A THR212 N_3494 A 5.2545371822835145 1 ['B_4589']\n",
      "@> GLU210 O_3464 A PRO193 O_3172 A 4.068003195672294 1 ['B_4619']\n",
      "@> ASP159 O_2625 A PHE194 N_3182 A 5.747631425204647 1 ['B_4544']\n",
      "@> ALA196 N_3217 A THR202 OG1_3316 A ASP159 OD1_2630 A 3.72543339760624 5.29751262386415 4.482993865710728 1 ['B_4541']\n",
      "@> LYS204 NZ_3361 A GLU201 OE1_3306 A 4.143907093553131 1 ['B_4607']\n",
      "@> LYS204 NZ_3361 A GLU201 OE1_3306 A 4.143907093553131 1 ['B_4607']\n",
      "@> GLU210 O_3464 A PRO193 O_3172 A 4.068003195672294 1 ['B_4619']\n",
      "@> PRO193 O_3172 A THR212 N_3494 A 5.2545371822835145 1 ['B_4589']\n"
     ]
    },
    {
     "name": "stdout",
     "output_type": "stream",
     "text": [
      "align__addH_2c6dA.pdb\n"
     ]
    },
    {
     "name": "stderr",
     "output_type": "stream",
     "text": [
      "@> 4811 atoms and 1 coordinate set(s) were parsed in 0.05s.\n",
      "@> 35 water bridges detected using method cluster.\n",
      "@> TYR86 OH_1464 A ARG11 NH2_181 A 5.282704894275279 2 ['B_4547', 'B_4637']\n",
      "@> PHE18 O_280 A GLN42 OE1_702 A 4.702813413266574 1 ['B_4505']\n",
      "@> TYR86 N_1445 A ILE32 O_518 A 5.114060324243347 1 ['B_4622']\n",
      "@> ASP148 OD1_2459 A LYS36 NZ_598 A 3.889998586117989 1 ['B_4433']\n",
      "@> HIS50 N_810 A GLU49 N_795 A 2.8028605031289016 1 ['B_4565']\n",
      "@> ASP148 N_2449 A GLN59 NE2_990 A 4.395997952683781 1 ['B_4649']\n",
      "@> ILE67 O_1114 A HIS64 O_1069 A 3.206480001496969 1 ['B_4655']\n",
      "@> TYR86 N_1445 A ILE32 O_518 A 5.114060324243347 1 ['B_4622']\n",
      "@> TYR86 OH_1464 A ARG11 NH2_181 A 5.282704894275279 2 ['B_4547', 'B_4637']\n",
      "@> THR91 N_1516 A LEU89 O_1495 A 4.002650496858306 1 ['B_4532']\n",
      "@> GLU104 OE2_1762 A THR227 N_3714 A 4.547356374862212 1 ['B_4604']\n",
      "@> HIS128 ND1_2145 A ASP148 O_2454 A 4.404886604669862 1 ['B_4640']\n",
      "@> ASP130 N_2176 A ILE131 N_2188 A SER188 OG_3084 A 2.759628054647952 5.816140644791869 5.040012996014993 1 ['B_4619']\n",
      "@> GLU134 OE1_2256 A GLU134 N_2243 A 4.360032798041777 1 ['B_4460']\n",
      "@> ASP148 N_2449 A GLN59 NE2_990 A 4.395997952683781 1 ['B_4649']\n",
      "@> HIS128 ND1_2145 A ASP148 O_2454 A 4.404886604669862 1 ['B_4640']\n",
      "@> ASP148 OD1_2459 A LYS36 NZ_598 A 3.889998586117989 1 ['B_4433']\n",
      "@> TRP151 N_2488 A ASP148 OD1_2459 A 5.241321302877741 1 ['B_4673']\n",
      "@> TRP151 N_2488 A ASP148 OD2_2460 A 6.624471073225395 1 ['B_4502']\n",
      "@> TRP151 N_2488 A ASP148 OD1_2459 A 5.241321302877741 1 ['B_4673']\n",
      "@> LEU163 N_2675 A ARG159 NH1_2620 A 3.6756428009261177 1 ['B_4712']\n",
      "@> ASP168 N_2744 A TYR169 N_2756 A 2.896590064196176 1 ['B_4550']\n",
      "@> TRP187 NE1_3064 A ASP168 O_2749 A 5.2194545692054835 1 ['B_4496']\n",
      "@> ASP168 OD1_2754 A PHE203 N_3306 A 5.107887038688307 1 ['B_4646']\n",
      "@> ARG178 NH1_2915 A GLU173 OE1_2837 A 5.2065716167167055 1 ['B_4439']\n",
      "@> ASP181 N_2955 A ASP181 OD1_2965 A GLU173 OE2_2838 A 3.008540177561204 5.554369361142632 5.528976849291378 1 ['B_4556']\n",
      "@> ASP181 N_2955 A ASP181 OD1_2965 A GLU173 OE2_2838 A 3.008540177561204 5.554369361142632 5.528976849291378 1 ['B_4556']\n",
      "@> TRP187 NE1_3064 A ASP168 O_2749 A 5.2194545692054835 1 ['B_4496']\n",
      "@> ASP130 N_2176 A ILE131 N_2188 A SER188 OG_3084 A 2.759628054647952 5.816140644791869 5.040012996014993 1 ['B_4619']\n",
      "@> ASP168 OD1_2754 A PHE203 N_3306 A 5.107887038688307 1 ['B_4646']\n",
      "@> THR221 N_3618 A ARG214 NH2_3510 A 4.8859826033255604 1 ['B_4535']\n",
      "@> THR221 OG1_3626 A ARG214 NH2_3510 A 5.545367526142881 1 ['B_4562']\n",
      "@> THR221 OG1_3626 A ARG214 NH2_3510 A 5.545367526142881 1 ['B_4562']\n",
      "@> GLU104 OE2_1762 A THR227 N_3714 A 4.547356374862212 1 ['B_4604']\n",
      "@> THR227 OG1_3722 A GLY229 N_3743 A 3.859750769155955 1 ['B_4700']\n"
     ]
    },
    {
     "name": "stdout",
     "output_type": "stream",
     "text": [
      "align__addH_6r4aA.pdb\n"
     ]
    },
    {
     "name": "stderr",
     "output_type": "stream",
     "text": [
      "@> 4334 atoms and 1 coordinate set(s) were parsed in 0.04s.\n",
      "@> 1 water bridges detected using method cluster.\n",
      "@> ASP162 O_2681 A TRP181 NE1_2996 A 5.169948742492522 1 ['B_4298']\n"
     ]
    },
    {
     "name": "stdout",
     "output_type": "stream",
     "text": [
      "align__addH_4o0wA.pdb\n",
      "align__addH_5os2A.pdb\n"
     ]
    },
    {
     "name": "stderr",
     "output_type": "stream",
     "text": [
      "@> 4693 atoms and 1 coordinate set(s) were parsed in 0.04s.\n",
      "@> 22 water bridges detected using method cluster.\n",
      "@> TYR86 N_1445 A ILE32 O_518 A 4.926995027397527 1 ['B_4471']\n",
      "@> HIS50 N_810 A HIS50 ND1_820 A 3.082785428796498 1 ['B_4456']\n",
      "@> GLN59 OE1_989 A ASP148 N_2449 A 4.674081834970371 1 ['B_4549']\n",
      "@> ILE67 O_1114 A HIS64 O_1069 A 3.183223209264471 1 ['B_4525']\n",
      "@> ASN66 ND2_1106 A GLU113 OE2_1910 A 3.943119196778106 1 ['B_4576']\n",
      "@> TYR86 N_1445 A ILE32 O_518 A 4.926995027397527 1 ['B_4471']\n",
      "@> THR223 OG1_3654 A GLU104 OE1_1761 A 4.0699014730088985 1 ['B_4438']\n",
      "@> ASN66 ND2_1106 A GLU113 OE2_1910 A 3.943119196778106 1 ['B_4576']\n",
      "@> SER184 OG_3016 A ILE131 N_2188 A ASP130 N_2176 A 5.051970803557755 5.872181366408911 2.8278481218056943 1 ['B_4486']\n",
      "@> ASP148 OD2_2460 A ASP130 OD2_2187 A 4.158424100545778 1 ['B_4372']\n",
      "@> GLN59 OE1_989 A ASP148 N_2449 A 4.674081834970371 1 ['B_4549']\n",
      "@> ASP148 OD1_2459 A ASP148 OD2_2460 A 2.196540234095423 1 ['B_4327']\n",
      "@> ASP148 OD2_2460 A ASP130 OD2_2187 A 4.158424100545778 1 ['B_4372']\n",
      "@> ASP164 O_2681 A TRP183 NE1_2996 A LEU166 N_2709 A 5.191692113367281 3.952416602535721 4.459619042025899 1 ['B_4435']\n",
      "@> ASP164 OD1_2686 A PHE199 N_3238 A 5.123798298137817 1 ['B_4513']\n",
      "@> GLU169 OE2_2770 A ASP177 N_2887 A 5.536502325475893 1 ['B_4477']\n",
      "@> ASP164 O_2681 A TRP183 NE1_2996 A LEU166 N_2709 A 5.191692113367281 3.952416602535721 4.459619042025899 1 ['B_4435']\n",
      "@> SER184 OG_3016 A ILE131 N_2188 A ASP130 N_2176 A 5.051970803557755 5.872181366408911 2.8278481218056943 1 ['B_4486']\n",
      "@> ASP164 OD1_2686 A PHE199 N_3238 A 5.123798298137817 1 ['B_4513']\n",
      "@> THR217 N_3550 A THR217 O_3555 A 2.758115479815887 1 ['B_4507']\n",
      "@> THR223 OG1_3654 A GLU104 OE1_1761 A 4.0699014730088985 1 ['B_4438']\n",
      "@> GLY225 N_3675 A THR223 OG1_3654 A 3.8674898836325355 1 ['B_4573']\n",
      "@> 4245 atoms and 1 coordinate set(s) were parsed in 0.04s.\n",
      "@> 11 water bridges detected using method cluster.\n",
      "@> HIS51 N_834 A GLU50 N_819 A 2.7404452193028805 1 ['B_4116']\n",
      "@> LEU71 O_1200 A ARG64 NH1_1082 A 5.9305488784765945 1 ['B_4161']\n",
      "@> GLU86 OE2_1468 A LYS146 NZ_2440 A 3.6617080713787122 1 ['B_4176']\n",
      "@> ASP104 N_1760 A ARG107 NH1_1822 A 6.492421505108859 1 ['B_4149']\n",
      "@> GLU86 OE2_1468 A LYS146 NZ_2440 A 3.6617080713787122 1 ['B_4176']\n",
      "@> PHE187 N_3083 A ASP155 O_2574 A ASP155 OD2_2580 A GLU188 N_3103 A 5.6054160416511465 5.387427864946312 2.69000408921622 4.117639857976896 6.264949081995799 4.07432706100038 1 ['B_4137']\n",
      "@> TRP171 NE1_2841 A ASP155 O_2574 A 5.61984599433116 1 ['B_4206']\n",
      "@> TRP171 NE1_2841 A ASP155 O_2574 A 5.61984599433116 1 ['B_4206']\n",
      "@> PHE187 N_3083 A ASP155 O_2574 A ASP155 OD2_2580 A GLU188 N_3103 A 5.6054160416511465 5.387427864946312 2.69000408921622 4.117639857976896 6.264949081995799 4.07432706100038 1 ['B_4137']\n",
      "@> THR205 O_3400 A THR205 N_3395 A 2.5257961121199 1 ['B_4194']\n",
      "@> ARG229 O_3784 A SER227 O_3756 A 3.938311059324798 1 ['B_4188']\n"
     ]
    },
    {
     "name": "stdout",
     "output_type": "stream",
     "text": [
      "align__addH_3o50A.pdb\n"
     ]
    },
    {
     "name": "stderr",
     "output_type": "stream",
     "text": [
      "@> 5321 atoms and 1 coordinate set(s) were parsed in 0.05s.\n",
      "@> 43 water bridges detected using method cluster.\n",
      "@> ASP10 N_130 A SER9 N_119 A 2.7008983690616724 1 ['B_5009']\n",
      "@> TRP20 NE1_313 A ASP10 O_135 A 3.1037052050734477 1 ['B_4997']\n",
      "@> PHE14 N_195 A ILE12 O_167 A 3.4043328274421065 1 ['B_4724']\n",
      "@> ARG18 NH2_280 A ASP24 OD1_378 A 2.8425632798585143 1 ['B_4874']\n",
      "@> GLN19 O_288 A ASP24 OD1_378 A 5.716741466954752 1 ['B_4733']\n",
      "@> TRP20 NE1_313 A ASP10 O_135 A 3.1037052050734477 1 ['B_4997']\n",
      "@> ARG18 NH2_280 A ASP24 OD1_378 A 2.8425632798585143 1 ['B_4874']\n",
      "@> ASP94 O_1562 A LYS58 NZ_956 A 2.732035687907463 1 ['B_5165']\n",
      "@> GLY65 O_1059 A GLN69 N_1108 A 5.652150829551527 1 ['B_5057']\n",
      "@> HIS68 N_1091 A GLY65 O_1059 A 5.04867596504272 1 ['B_5120']\n",
      "@> GLY65 O_1059 A GLN69 N_1108 A 5.652150829551527 1 ['B_5057']\n",
      "@> GLY168 O_2768 A ARG72 NE_1183 A 5.169761599919284 1 ['B_4679']\n",
      "@> SER170 N_2793 A GLY168 O_2768 A SER170 OG_2802 A ARG72 NE_1183 A 4.046594247018103 2.964769636919535 5.712336649743252 5.709756036819787 5.169761599919284 6.047966352419628 1 ['B_4784']\n",
      "@> LEU80 O_1307 A LEU86 O_1414 A 5.5607887030528325 1 ['B_4787']\n",
      "@> LYS163 NZ_2697 A ILE85 O_1395 A 5.265851687998817 1 ['B_4862']\n",
      "@> LEU88 O_1457 A LEU88 N_1452 A ARG87 NH1_1446 A 2.9617876358712834 4.064599365251146 5.169943326575253 1 ['B_4958']\n",
      "@> LEU88 O_1457 A LEU88 N_1452 A ARG87 NH1_1446 A 2.9617876358712834 4.064599365251146 5.169943326575253 1 ['B_4958']\n",
      "@> ASP94 O_1562 A LYS58 NZ_956 A 2.732035687907463 1 ['B_5165']\n",
      "@> GLU103 OE1_1724 A TYR104 O_1731 A 4.705966956960065 1 ['B_4892']\n",
      "@> ALA105 O_1752 A TYR104 OH_1745 A GLY108 N_1790 A 4.3925078258325305 3.632267748941423 6.225376936379037 1 ['B_4805']\n",
      "@> LEU107 O_1776 A THR109 N_1797 A 4.034731589585606 1 ['B_4760']\n",
      "@> ALA105 O_1752 A TYR104 OH_1745 A GLY108 N_1790 A 4.3925078258325305 3.632267748941423 6.225376936379037 1 ['B_4805']\n",
      "@> ASP121 OD2_2028 A ASP121 N_2017 A 3.53952652200827 1 ['B_4985']\n",
      "@> GLY160 O_2644 A GLU131 OE1_2190 A 4.498792949225382 1 ['B_4775']\n",
      "@> ASP199 OD1_3242 A ILE149 N_2469 A 5.279115550923279 1 ['B_4931']\n",
      "@> ILE149 O_2474 A ILE149 N_2469 A 2.9093102275281626 1 ['B_4973']\n",
      "@> GLY160 O_2644 A GLU131 OE1_2190 A 4.498792949225382 1 ['B_4775']\n",
      "@> LYS163 NZ_2697 A ILE85 O_1395 A 5.265851687998817 1 ['B_4862']\n",
      "@> ASP166 N_2730 A PHE167 N_2742 A 3.141552641608918 1 ['B_4646']\n",
      "@> TRP169 N_2769 A ASP166 O_2735 A 4.707206602646629 1 ['B_4877']\n",
      "@> GLY168 O_2768 A ARG72 NE_1183 A 5.169761599919284 1 ['B_4679']\n",
      "@> SER170 N_2793 A GLY168 O_2768 A SER170 OG_2802 A ARG72 NE_1183 A 4.046594247018103 2.964769636919535 5.712336649743252 5.709756036819787 5.169761599919284 6.047966352419628 1 ['B_4784']\n",
      "@> TRP169 N_2769 A ASP166 O_2735 A 4.707206602646629 1 ['B_4877']\n",
      "@> SER170 N_2793 A GLY168 O_2768 A SER170 OG_2802 A ARG72 NE_1183 A 4.046594247018103 2.964769636919535 5.712336649743252 5.709756036819787 5.169761599919284 6.047966352419628 1 ['B_4784']\n",
      "@> LEU181 N_2937 A THR180 OG1_2931 A ASP182 N_2956 A 3.463493611947338 2.758638069772836 3.2451674841215823 1 ['B_4730']\n",
      "@> LEU181 N_2937 A THR180 OG1_2931 A ASP182 N_2956 A 3.463493611947338 2.758638069772836 3.2451674841215823 1 ['B_4730']\n",
      "@> GLU187 O_3041 A ARG192 N_3109 A 4.517239533166247 1 ['B_4970']\n",
      "@> ASP199 OD1_3242 A ILE149 N_2469 A 5.279115550923279 1 ['B_4931']\n",
      "@> PRO216 O_3508 A THR235 N_3830 A 5.10487325993506 1 ['B_4907']\n",
      "@> ASP238 OD1_3888 A ARG245 NH2_3993 A 4.735467347580384 1 ['B_4988']\n",
      "@> THR241 OG1_3934 A THR241 N_3926 A 2.888065615598096 1 ['B_4847']\n",
      "@> ASP238 OD1_3888 A ARG245 NH2_3993 A 4.735467347580384 1 ['B_4988']\n",
      "@> GLN258 OE1_4210 A HIS254 N_4141 A 5.385998421834153 1 ['B_4748']\n"
     ]
    },
    {
     "name": "stdout",
     "output_type": "stream",
     "text": [
      "align__addH_6vpmA.pdb\n"
     ]
    },
    {
     "name": "stderr",
     "output_type": "stream",
     "text": [
      "@> 5195 atoms and 1 coordinate set(s) were parsed in 0.05s.\n",
      "@> 49 water bridges detected using method cluster.\n",
      "@> HIS76 N_1283 A ARG1 O_7 A HIS76 ND1_1293 A ARG1 NH2_23 A 6.1957441845189205 3.277254643752908 3.592387228570996 6.506258064356194 4.005717913183606 4.661581920335627 1 ['B_4886']\n",
      "@> ARG1 NE_17 A TYR74 N_1242 A 4.276729942374194 1 ['B_4916']\n",
      "@> GLN2 N_26 A ARG1 NH1_20 A 5.629831791448127 1 ['B_4607']\n",
      "@> HIS76 ND1_1293 A ARG1 NH2_23 A 4.661581920335627 1 ['B_4562']\n",
      "@> GLN2 N_26 A ARG1 NH1_20 A 5.629831791448127 1 ['B_4607']\n",
      "@> GLU6 N_96 A LEU5 N_77 A 2.730772967494734 1 ['B_4862']\n",
      "@> PHE19 N_299 A LYS18 N_277 A 2.7616475155240274 1 ['B_4772']\n",
      "@> GLN52 N_851 A GLY48 O_802 A 5.706135820325342 1 ['B_4874']\n",
      "@> LEU71 N_1195 A GLN60 O_1005 A 4.988711857784536 1 ['B_4508']\n",
      "@> GLN60 OE1_1013 A PHE150 N_2485 A GLN60 NE2_1014 A 4.058111013759974 2.2425407465640377 5.497493428827358 1 ['B_4715']\n",
      "@> HIS65 N_1088 A LEU63 O_1050 A 4.158795739153336 1 ['B_4601']\n",
      "@> HIS65 O_1093 A LYS146 NZ_2440 A ILE68 O_1138 A GLU86 OE1_1467 A GLU86 OE2_1468 A 5.218524120860225 2.9943690487313015 5.590634042754004 6.46487470876273 5.256838403451262 4.015440573585919 2.893199785704401 3.9573553037350586 5.5539401329146525 2.1872297547354327 1 ['B_4694']\n",
      "@> LEU71 N_1195 A GLN60 O_1005 A 4.988711857784536 1 ['B_4508']\n",
      "@> ARG1 NE_17 A TYR74 N_1242 A 4.276729942374194 1 ['B_4916']\n",
      "@> HIS76 N_1283 A ARG1 O_7 A HIS76 ND1_1293 A ARG1 NH2_23 A 6.1957441845189205 3.277254643752908 3.592387228570996 6.506258064356194 4.005717913183606 4.661581920335627 1 ['B_4886']\n",
      "@> HIS76 ND1_1293 A ARG1 NH2_23 A 4.661581920335627 1 ['B_4562']\n",
      "@> HIS65 O_1093 A LYS146 NZ_2440 A ILE68 O_1138 A GLU86 OE1_1467 A GLU86 OE2_1468 A 5.218524120860225 2.9943690487313015 5.590634042754004 6.46487470876273 5.256838403451262 4.015440573585919 2.893199785704401 3.9573553037350586 5.5539401329146525 2.1872297547354327 1 ['B_4694']\n",
      "@> THR92 N_1540 A LEU90 O_1519 A 4.02523092505262 1 ['B_4688']\n",
      "@> ASN261 OD1_4297 A GLN106 N_1787 A 4.613060697627983 1 ['B_4604']\n",
      "@> GLY143 O_2387 A GLU114 OE1_1933 A 4.517034093296175 1 ['B_4448']\n",
      "@> LYS133 N_2231 A ASP149 OD2_2484 A 5.0063074216432195 1 ['B_4463']\n",
      "@> THR167 N_2735 A LYS133 NZ_2249 A THR167 OG1_2743 A 4.36857242128364 2.8631636348626697 5.337371169405403 1 ['B_4535']\n",
      "@> GLU135 OE1_2280 A TYR170 OH_2799 A 4.734786267615464 1 ['B_4574']\n",
      "@> HIS65 O_1093 A LYS146 NZ_2440 A ILE68 O_1138 A GLU86 OE1_1467 A GLU86 OE2_1468 A 5.218524120860225 2.9943690487313015 5.590634042754004 6.46487470876273 5.256838403451262 4.015440573585919 2.893199785704401 3.9573553037350586 5.5539401329146525 2.1872297547354327 1 ['B_4694']\n",
      "@> LYS133 N_2231 A ASP149 OD2_2484 A 5.0063074216432195 1 ['B_4463']\n",
      "@> GLN60 OE1_1013 A PHE150 N_2485 A GLN60 NE2_1014 A 4.058111013759974 2.2425407465640377 5.497493428827358 1 ['B_4715']\n",
      "@> HIS155 O_2568 A SER153 OG_2545 A 3.5222200385552305 1 ['B_4589']\n",
      "@> THR167 N_2735 A LYS133 NZ_2249 A THR167 OG1_2743 A 4.36857242128364 2.8631636348626697 5.337371169405403 1 ['B_4535']\n",
      "@> ASP169 N_2768 A THR167 O_2740 A TYR170 N_2780 A 3.423776861888053 2.8324549422718084 4.897217679458411 1 ['B_4565']\n",
      "@> ASP169 N_2768 A THR167 O_2740 A TYR170 N_2780 A 3.423776861888053 2.8324549422718084 4.897217679458411 1 ['B_4565']\n",
      "@> ASP169 OD1_2778 A PHE204 N_3330 A ASP169 O_2773 A 4.522888236514365 4.278905701227825 5.600053392602609 1 ['B_4619']\n",
      "@> TRP188 NE1_3088 A ASP169 O_2773 A LEU171 O_2806 A 5.212487793750697 3.5269081360307637 4.878434380003484 1 ['B_4676']\n",
      "@> ASP169 OD2_2779 A ALA206 N_3365 A 5.255907533433211 1 ['B_4550']\n",
      "@> ASP169 N_2768 A THR167 O_2740 A TYR170 N_2780 A 3.423776861888053 2.8324549422718084 4.897217679458411 1 ['B_4565']\n",
      "@> GLU135 OE1_2280 A TYR170 OH_2799 A 4.734786267615464 1 ['B_4574']\n",
      "@> TRP188 NE1_3088 A ASP169 O_2773 A LEU171 O_2806 A 5.212487793750697 3.5269081360307637 4.878434380003484 1 ['B_4676']\n",
      "@> GLU174 N_2848 A ARG179 NH2_2942 A GLU174 OE1_2861 A 3.7560950467207306 2.7274286425129435 5.284936801892718 1 ['B_4430']\n",
      "@> GLU174 N_2848 A ARG179 NH2_2942 A GLU174 OE1_2861 A 3.7560950467207306 2.7274286425129435 5.284936801892718 1 ['B_4430']\n",
      "@> LYS184 NZ_3024 A GLU183 OE1_3004 A 4.80666308367874 1 ['B_4571']\n",
      "@> TRP188 NE1_3088 A ASP169 O_2773 A LEU171 O_2806 A 5.212487793750697 3.5269081360307637 4.878434380003484 1 ['B_4676']\n",
      "@> TYR195 OH_3201 A ARG215 NH1_3531 A PRO203 O_3320 A THR222 N_3642 A 6.5973851638357495 4.90501559630548 4.764097920908009 3.1750327557365465 4.950909613394295 5.205455119391583 1 ['B_4697']\n",
      "@> ASP169 OD1_2778 A PHE204 N_3330 A ASP169 O_2773 A 4.522888236514365 4.278905701227825 5.600053392602609 1 ['B_4619']\n",
      "@> ASP169 OD2_2779 A ALA206 N_3365 A 5.255907533433211 1 ['B_4550']\n",
      "@> THR222 OG1_3650 A ARG215 NH1_3531 A 5.7085659320007895 1 ['B_4421']\n",
      "@> TYR195 OH_3201 A ARG215 NH1_3531 A PRO203 O_3320 A THR222 N_3642 A 6.5973851638357495 4.90501559630548 4.764097920908009 3.1750327557365465 4.950909613394295 5.205455119391583 1 ['B_4697']\n",
      "@> THR222 OG1_3650 A ARG215 NH1_3531 A 5.7085659320007895 1 ['B_4421']\n",
      "@> THR228 OG1_3746 A THR228 N_3738 A 2.9294042056363603 1 ['B_4667']\n",
      "@> HIS241 N_3953 A ASN242 N_3970 A 2.8200941473645886 1 ['B_4799']\n",
      "@> ASN261 OD1_4297 A GLN106 N_1787 A 4.613060697627983 1 ['B_4604']\n"
     ]
    },
    {
     "name": "stdout",
     "output_type": "stream",
     "text": [
      "align__addH_5l8lA.pdb\n"
     ]
    },
    {
     "name": "stderr",
     "output_type": "stream",
     "text": [
      "@> 4646 atoms and 1 coordinate set(s) were parsed in 0.04s.\n",
      "@> 35 water bridges detected using method cluster.\n",
      "@> PHE18 O_280 A PHE39 N_637 A 4.584512296853395 1 ['B_4412']\n",
      "@> ILE32 O_518 A TYR86 N_1445 A 4.935118033036294 1 ['B_4517']\n",
      "@> SER152 O_2517 A ARG54 NE_902 A GLY150 O_2487 A 3.6934278116676404 4.596366934873676 5.517667985662056 1 ['B_4496']\n",
      "@> PHE149 N_2461 A GLU55 OE2_925 A 4.194981048824897 1 ['B_4397']\n",
      "@> ARG69 NE_1162 A LEU70 N_1171 A GLN59 O_981 A 4.451636665317597 5.368065107652847 4.214861089051451 1 ['B_4433']\n",
      "@> ASN66 ND2_1106 A GLU113 OE2_1910 A 4.013910312899378 1 ['B_4592']\n",
      "@> ARG69 NE_1162 A LEU70 N_1171 A GLN59 O_981 A 4.451636665317597 5.368065107652847 4.214861089051451 1 ['B_4433']\n",
      "@> LYS145 NZ_2416 A GLU85 OE1_1443 A GLU85 OE2_1444 A 4.288468607789963 3.1599954113890765 2.2541286564879086 1 ['B_4466']\n",
      "@> ILE32 O_518 A TYR86 N_1445 A 4.935118033036294 1 ['B_4517']\n",
      "@> THR227 N_3714 A GLU104 OE2_1762 A 4.28987342470614 1 ['B_4436']\n",
      "@> ASN66 ND2_1106 A GLU113 OE2_1910 A 4.013910312899378 1 ['B_4592']\n",
      "@> ASP148 O_2454 A HIS128 O_2140 A 5.563098597005088 1 ['B_4502']\n",
      "@> ASP130 N_2176 A ILE131 N_2188 A SER188 OG_3084 A 2.8141986425979253 5.848330787498263 5.164702798806532 1 ['B_4553']\n",
      "@> ASP130 OD2_2187 A ASP148 O_2454 A TRP151 N_2488 A ASP148 OD2_2460 A 4.977157220743585 5.534721040847499 4.134047048595365 4.704666725709704 4.07664384021955 6.49155127839256 1 ['B_4457']\n",
      "@> ASN135 OD1_2268 A ASN135 ND2_2269 A 2.3532309703894345 1 ['B_4523']\n",
      "@> LYS145 NZ_2416 A GLU85 OE1_1443 A GLU85 OE2_1444 A 4.288468607789963 3.1599954113890765 2.2541286564879086 1 ['B_4466']\n",
      "@> ASP130 OD2_2187 A ASP148 O_2454 A TRP151 N_2488 A ASP148 OD2_2460 A 4.977157220743585 5.534721040847499 4.134047048595365 4.704666725709704 4.07664384021955 6.49155127839256 1 ['B_4457']\n",
      "@> ASP148 O_2454 A HIS128 O_2140 A 5.563098597005088 1 ['B_4502']\n",
      "@> PHE149 N_2461 A GLU55 OE2_925 A 4.194981048824897 1 ['B_4397']\n",
      "@> SER152 O_2517 A ARG54 NE_902 A GLY150 O_2487 A 3.6934278116676404 4.596366934873676 5.517667985662056 1 ['B_4496']\n",
      "@> ASP130 OD2_2187 A ASP148 O_2454 A TRP151 N_2488 A ASP148 OD2_2460 A 4.977157220743585 5.534721040847499 4.134047048595365 4.704666725709704 4.07664384021955 6.49155127839256 1 ['B_4457']\n",
      "@> ASP168 N_2744 A TYR169 N_2756 A 2.8910645098302448 1 ['B_4406']\n",
      "@> TRP187 NE1_3064 A LEU170 N_2777 A ASP168 O_2749 A 4.424894236024179 5.097389626073329 3.8926959809366104 1 ['B_4469']\n",
      "@> ASP168 OD1_2754 A PHE203 N_3306 A 4.908549072791267 1 ['B_4541']\n",
      "@> TRP187 NE1_3064 A LEU170 N_2777 A ASP168 O_2749 A 4.424894236024179 5.097389626073329 3.8926959809366104 1 ['B_4469']\n",
      "@> HIS240 O_3934 A ARG178 NH2_2918 A GLU173 OE1_2837 A 5.4066100284744 4.038905173435001 5.1571661792112105 1 ['B_4550']\n",
      "@> ASP181 N_2955 A ASP181 OD1_2965 A 3.028985968934156 1 ['B_4505']\n",
      "@> TRP187 NE1_3064 A LEU170 N_2777 A ASP168 O_2749 A 4.424894236024179 5.097389626073329 3.8926959809366104 1 ['B_4469']\n",
      "@> ASP130 N_2176 A ILE131 N_2188 A SER188 OG_3084 A 2.8141986425979253 5.848330787498263 5.164702798806532 1 ['B_4553']\n",
      "@> TYR194 OH_3177 A ARG214 NH2_3510 A 6.128404033677935 1 ['B_4514']\n",
      "@> ASP168 OD1_2754 A PHE203 N_3306 A 4.908549072791267 1 ['B_4541']\n",
      "@> THR227 N_3714 A GLU104 OE2_1762 A 4.28987342470614 1 ['B_4436']\n",
      "@> HIS240 N_3929 A ASN241 N_3946 A 2.753402985398247 1 ['B_4442']\n",
      "@> HIS240 O_3934 A ARG178 NH2_2918 A GLU173 OE1_2837 A 5.4066100284744 4.038905173435001 5.1571661792112105 1 ['B_4550']\n",
      "@> LEU248 N_4057 A ARG249 N_4076 A 2.75991376676881 1 ['B_4607']\n"
     ]
    },
    {
     "name": "stdout",
     "output_type": "stream",
     "text": [
      "align__addH_5osfA.pdb\n"
     ]
    },
    {
     "name": "stderr",
     "output_type": "stream",
     "text": [
      "@> 4332 atoms and 1 coordinate set(s) were parsed in 0.04s.\n",
      "@> 10 water bridges detected using method cluster.\n",
      "@> ILE33 O_542 A TYR87 N_1469 A 5.0040290766541355 1 ['B_4197']\n",
      "@> GLY48 O_802 A GLN52 N_851 A 5.535426361175807 1 ['B_4272']\n",
      "@> ILE33 O_542 A TYR87 N_1469 A 5.0040290766541355 1 ['B_4197']\n",
      "@> ARG107 NE_1819 A ASP104 OD1_1770 A 5.1288998820409795 1 ['B_4299']\n",
      "@> TYR157 N_2592 A ASP131 OD2_2211 A 5.194051308949499 1 ['B_4221']\n",
      "@> PHE191 N_3142 A ASP156 OD1_2590 A 4.693873240725617 1 ['B_4188']\n",
      "@> LEU158 O_2618 A TRP175 NE1_2900 A 3.4184900175369823 1 ['B_4227']\n",
      "@> ARG202 NH2_3346 A TYR182 OH_3013 A THR209 N_3454 A 6.507619149888846 5.836734018267408 4.728371707046729 1 ['B_4305']\n",
      "@> PHE191 N_3142 A ASP156 OD1_2590 A 4.693873240725617 1 ['B_4188']\n",
      "@> ARG202 NH2_3346 A TYR182 OH_3013 A THR209 N_3454 A 6.507619149888846 5.836734018267408 4.728371707046729 1 ['B_4305']\n"
     ]
    },
    {
     "name": "stdout",
     "output_type": "stream",
     "text": [
      "align__addH_3h0yA.pdb\n"
     ]
    },
    {
     "name": "stderr",
     "output_type": "stream",
     "text": [
      "@> 4350 atoms and 1 coordinate set(s) were parsed in 0.04s.\n",
      "@> 3 water bridges detected using method cluster.\n",
      "@> ASP104 N_1769 A ARG107 NE_1828 A ASP104 OD2_1780 A 5.449520529367701 3.8270222105443827 5.263920687092465 1 ['B_4284']\n",
      "@> ASP104 N_1769 A ARG107 NE_1828 A ASP104 OD2_1780 A 5.449520529367701 3.8270222105443827 5.263920687092465 1 ['B_4284']\n",
      "@> LYS133 NZ_2258 A ASP131 OD2_2220 A 4.896393264434547 1 ['B_4335']\n"
     ]
    },
    {
     "name": "stdout",
     "output_type": "stream",
     "text": [
      "align__addH_3dj7A.pdb\n",
      "align__addH_5objA.pdb\n"
     ]
    },
    {
     "name": "stderr",
     "output_type": "stream",
     "text": [
      "@> 4336 atoms and 1 coordinate set(s) were parsed in 0.04s.\n",
      "@> 0 water bridges detected using method cluster.\n",
      "@> 4740 atoms and 1 coordinate set(s) were parsed in 0.05s.\n",
      "@> 10 water bridges detected using method cluster.\n",
      "@> ASN67 OD1_1129 A ASN117 ND2_1975 A 4.9977124767237235 1 ['B_4584']\n",
      "@> GLU96 OE2_1629 A LEU90 O_1519 A 4.865029187990549 1 ['B_4542']\n",
      "@> ASN67 OD1_1129 A ASN117 ND2_1975 A 4.9977124767237235 1 ['B_4584']\n",
      "@> LYS125 NZ_2096 A TYR121 OH_2037 A 3.206185584148244 1 ['B_4587']\n",
      "@> SER141 N_2360 A GLU144 OE2_2402 A 3.768428983011354 1 ['B_4539']\n",
      "@> ASP169 O_2777 A LEU171 O_2810 A TRP188 NE1_3092 A 5.251840439312679 5.626239063530807 3.270117123284728 1 ['B_4566']\n",
      "@> ASP169 O_2777 A ASP169 OD1_2782 A PHE204 N_3334 A 4.24722262190246 5.536001174132823 5.119810250390144 1 ['B_4575']\n",
      "@> ASP169 O_2777 A LEU171 O_2810 A TRP188 NE1_3092 A 5.251840439312679 5.626239063530807 3.270117123284728 1 ['B_4566']\n",
      "@> PRO203 O_3324 A ARG215 NH1_3535 A 5.025131839066513 1 ['B_4500']\n",
      "@> ASP169 O_2777 A ASP169 OD1_2782 A PHE204 N_3334 A 4.24722262190246 5.536001174132823 5.119810250390144 1 ['B_4575']\n"
     ]
    },
    {
     "name": "stdout",
     "output_type": "stream",
     "text": [
      "align__addH_8sspA.pdb\n"
     ]
    },
    {
     "name": "stderr",
     "output_type": "stream",
     "text": [
      "@> 4572 atoms and 1 coordinate set(s) were parsed in 0.04s.\n",
      "@> 17 water bridges detected using method cluster.\n",
      "@> LYS19 O_304 A ASN22 ND2_359 A 5.041465957437382 1 ['B_4434']\n",
      "@> ALA43 N_725 A LYS42 N_703 A 2.858612600545937 1 ['B_4491']\n",
      "@> GLN61 OE1_1035 A PHE151 N_2507 A 4.251595582837107 1 ['B_4449']\n",
      "@> LEU64 O_1072 A ILE69 O_1160 A 5.300744664667408 1 ['B_4464']\n",
      "@> ILE69 O_1160 A LYS147 NZ_2462 A 4.4181401064248735 1 ['B_4479']\n",
      "@> ARG71 NE_1208 A LEU72 O_1222 A ARG71 NH2_1214 A 4.637631076314714 2.3137115204795937 4.755347831652276 1 ['B_4437']\n",
      "@> ARG71 NE_1208 A LEU72 O_1222 A ARG71 NH2_1214 A 4.637631076314714 2.3137115204795937 4.755347831652276 1 ['B_4437']\n",
      "@> ARG108 NE_1841 A ASP105 N_1782 A 5.590208314544279 1 ['B_4503']\n",
      "@> GLU136 N_2289 A GLU136 OE2_2303 A 4.875642419210005 1 ['B_4482']\n",
      "@> ILE69 O_1160 A LYS147 NZ_2462 A 4.4181401064248735 1 ['B_4479']\n",
      "@> GLN61 OE1_1035 A PHE151 N_2507 A 4.251595582837107 1 ['B_4449']\n",
      "@> ASP170 O_2796 A TRP189 NE1_3111 A 5.294464089971713 1 ['B_4407']\n",
      "@> ASP170 O_2796 A GLU206 N_3373 A ASP170 OD1_2801 A PHE205 N_3353 A 6.298369471537854 4.543647103374117 5.292780365743511 3.6893981894070462 2.7747781893333383 5.027567702179651 1 ['B_4419']\n",
      "@> ASP170 O_2796 A TRP189 NE1_3111 A 5.294464089971713 1 ['B_4407']\n",
      "@> THR223 N_3665 A PRO204 O_3343 A 5.250411412451409 1 ['B_4413']\n",
      "@> ASP170 O_2796 A GLU206 N_3373 A ASP170 OD1_2801 A PHE205 N_3353 A 6.298369471537854 4.543647103374117 5.292780365743511 3.6893981894070462 2.7747781893333383 5.027567702179651 1 ['B_4419']\n",
      "@> THR223 N_3665 A PRO204 O_3343 A 5.250411412451409 1 ['B_4413']\n"
     ]
    },
    {
     "name": "stdout",
     "output_type": "stream",
     "text": [
      "align__addH_3e5aA.pdb\n"
     ]
    },
    {
     "name": "stderr",
     "output_type": "stream",
     "text": [
      "@> 4857 atoms and 1 coordinate set(s) were parsed in 0.04s.\n",
      "@> 30 water bridges detected using method cluster.\n",
      "@> PHE13 N_178 A ILE11 O_150 A 3.2722894126284117 1 ['B_4698']\n",
      "@> TYR90 O_1503 A TRP21 NE1_340 A 4.93429974768457 1 ['B_4692']\n",
      "@> ARG30 NH2_489 A PRO107 O_1788 A 6.243615859419925 2 ['B_4767', 'B_4719']\n",
      "@> GLN70 NE2_1149 A ARG73 NH1_1213 A 3.2782478551811756 1 ['B_4710']\n",
      "@> GLN78 NE2_1298 A ASP167 N_2757 A 4.951098564965152 1 ['B_4722']\n",
      "@> HIS83 O_1377 A LYS164 NZ_2724 A ILE86 O_1422 A 5.018490709366711 3.1217283674272513 4.61348859324481 1 ['B_4728']\n",
      "@> TYR90 O_1503 A TRP21 NE1_340 A 4.93429974768457 1 ['B_4692']\n",
      "@> GLU104 OE2_1752 A TYR105 O_1758 A 4.722387531747051 1 ['B_4755']\n",
      "@> ARG30 NH2_489 A PRO107 O_1788 A 6.243615859419925 2 ['B_4767', 'B_4719']\n",
      "@> HIS147 O_2448 A TRP170 N_2796 A 4.690436653447098 1 ['B_4788']\n",
      "@> ILE150 N_2496 A ASP204 OD1_3336 A ASP149 N_2484 A SER207 OG_3390 A 5.3691143589981385 2.871657361176638 4.684812589634724 4.643579330645703 5.459786625867354 5.672243735947886 1 ['B_4803']\n",
      "@> ILE150 O_2501 A ILE150 N_2496 A 2.940300834948702 1 ['B_4749']\n",
      "@> ILE150 O_2501 A ILE150 N_2496 A 2.940300834948702 1 ['B_4749']\n",
      "@> HIS83 O_1377 A LYS164 NZ_2724 A ILE86 O_1422 A 5.018490709366711 3.1217283674272513 4.61348859324481 1 ['B_4728']\n",
      "@> GLN78 NE2_1298 A ASP167 N_2757 A 4.951098564965152 1 ['B_4722']\n",
      "@> HIS147 O_2448 A TRP170 N_2796 A 4.690436653447098 1 ['B_4788']\n",
      "@> TPO180 O_2968 A ARG179 O_2939 A 4.900117039418548 1 ['B_4683']\n",
      "@> PHE222 N_3612 A ASP187 O_3055 A 5.521357985133731 1 ['B_4782']\n",
      "@> LEU189 O_3088 A TRP206 NE1_3370 A LEU189 N_3083 A 3.089859867372631 2.825541187100269 4.718678734561191 1 ['B_4761']\n",
      "@> VAL203 O_3315 A SER207 OG_3390 A 3.2018727332609562 1 ['B_4824']\n",
      "@> ILE150 N_2496 A ASP204 OD1_3336 A ASP149 N_2484 A SER207 OG_3390 A 5.3691143589981385 2.871657361176638 4.684812589634724 4.643579330645703 5.459786625867354 5.672243735947886 1 ['B_4803']\n",
      "@> LEU189 O_3088 A TRP206 NE1_3370 A LEU189 N_3083 A 3.089859867372631 2.825541187100269 4.718678734561191 1 ['B_4761']\n",
      "@> VAL203 O_3315 A SER207 OG_3390 A 3.2018727332609562 1 ['B_4824']\n",
      "@> PHE222 N_3612 A ASP187 O_3055 A 5.521357985133731 1 ['B_4782']\n",
      "@> THR230 OG1_3746 A ALA224 N_3647 A 3.6727010496363555 1 ['B_4770']\n",
      "@> ARG233 NH2_3816 A ASN225 N_3657 A 5.617473097398864 1 ['B_4671']\n",
      "@> ARG233 NH2_3816 A ASN225 N_3657 A 5.617473097398864 1 ['B_4671']\n",
      "@> ASP243 O_3977 A VAL245 O_4009 A 3.739368529578224 1 ['B_4668']\n",
      "@> GLN263 OE1_4304 A HIS259 N_4235 A ASN260 N_4252 A 5.69598323382364 4.926534380271795 2.81579402655805 1 ['B_4830']\n",
      "@> GLN263 OE1_4304 A HIS259 N_4235 A ASN260 N_4252 A 5.69598323382364 4.926534380271795 2.81579402655805 1 ['B_4830']\n"
     ]
    },
    {
     "name": "stdout",
     "output_type": "stream",
     "text": [
      "align__addH_6vpgA.pdb\n"
     ]
    },
    {
     "name": "stderr",
     "output_type": "stream",
     "text": [
      "@> 5090 atoms and 1 coordinate set(s) were parsed in 0.04s.\n",
      "@> 52 water bridges detected using method cluster.\n",
      "@> GLU6 N_96 A LEU5 N_77 A 2.8339620674949026 3 ['B_5030', 'B_4838', 'B_4895']\n",
      "@> PHE8 O_128 A LYS28 NZ_463 A 4.302252665755473 1 ['B_4652']\n",
      "@> GLN43 NE2_727 A GLY20 N_319 A 5.447120431934659 1 ['B_4769']\n",
      "@> LYS41 N_681 A ALA42 N_703 A THR79 O_1327 A 2.904288036679557 2.9258376578340783 4.572548632874233 1 ['B_4610']\n",
      "@> GLN43 NE2_727 A GLY20 N_319 A 5.447120431934659 1 ['B_4769']\n",
      "@> ARG55 NH1_929 A ARG55 NE_926 A 2.2989460628731555 1 ['B_4925']\n",
      "@> GLN60 OE1_1013 A PHE150 N_2485 A 4.338532125039529 1 ['B_4496']\n",
      "@> ARG70 NE_1186 A LEU71 N_1195 A LEU63 O_1050 A SER61 O_1022 A 4.577267853206759 4.3918820567041665 5.219107682353377 6.00157554313865 5.827396502727438 4.300507993249173 1 ['B_4694']\n",
      "@> ARG70 NE_1186 A ARG64 NH1_1082 A 3.6875771178376744 1 ['B_4739']\n",
      "@> LYS146 NZ_2440 A HIS65 O_1093 A 5.158963171025741 1 ['B_4532']\n",
      "@> ARG70 NE_1186 A LEU71 N_1195 A LEU63 O_1050 A SER61 O_1022 A 4.577267853206759 4.3918820567041665 5.219107682353377 6.00157554313865 5.827396502727438 4.300507993249173 1 ['B_4694']\n",
      "@> ARG70 NE_1186 A LEU71 N_1195 A LEU63 O_1050 A SER61 O_1022 A 4.577267853206759 4.3918820567041665 5.219107682353377 6.00157554313865 5.827396502727438 4.300507993249173 1 ['B_4694']\n",
      "@> LYS41 N_681 A ALA42 N_703 A THR79 O_1327 A 2.904288036679557 2.9258376578340783 4.572548632874233 1 ['B_4610']\n",
      "@> GLY91 N_1533 A ALA88 O_1495 A 3.615479221348119 1 ['B_4700']\n",
      "@> LEU90 O_1519 A THR92 N_1540 A 3.991200821807895 1 ['B_4631']\n",
      "@> LEU90 O_1519 A THR92 N_1540 A 3.991200821807895 1 ['B_4631']\n",
      "@> LYS99 NZ_1684 A GLU96 OE1_1628 A 4.95525680464696 1 ['B_4523']\n",
      "@> ASP104 N_1760 A ASP104 OD2_1771 A 3.948342183752569 1 ['B_4874']\n",
      "@> GLY143 O_2387 A TYR111 OH_1885 A 4.567705550930361 1 ['B_4520']\n",
      "@> ASP131 N_2200 A ILE132 N_2212 A ASP186 OD1_3055 A 2.7033346074801763 4.806672445673831 5.35376559068475 1 ['B_4715']\n",
      "@> LYS133 NZ_2249 A ASP131 OD2_2211 A 4.216820603250748 1 ['B_4487']\n",
      "@> ILE132 O_2217 A ILE132 N_2212 A SER189 OG_3109 A 2.935482583835235 4.273461126534325 4.990271936478014 1 ['B_4913']\n",
      "@> LYS133 NZ_2249 A ASP131 OD2_2211 A 4.216820603250748 1 ['B_4487']\n",
      "@> GLU135 OE2_2281 A ASP149 OD2_2484 A ASN136 ND2_2293 A 5.81431208312729 4.964338525926694 3.2812549428534172 2 ['B_4709', 'B_4475']\n",
      "@> GLY143 O_2387 A TYR111 OH_1885 A 4.567705550930361 1 ['B_4520']\n",
      "@> LYS146 NZ_2440 A HIS65 O_1093 A 5.158963171025741 1 ['B_4532']\n",
      "@> GLU135 OE2_2281 A ASP149 OD2_2484 A ASN136 ND2_2293 A 5.81431208312729 4.964338525926694 3.2812549428534172 2 ['B_4709', 'B_4475']\n",
      "@> GLN60 OE1_1013 A PHE150 N_2485 A 4.338532125039529 1 ['B_4496']\n",
      "@> SER153 N_2536 A TRP152 N_2512 A 2.789493323168207 1 ['B_4682']\n",
      "@> GLY178 O_2921 A SER159 O_2620 A HIS181 ND1_2973 A 4.0354263715250696 5.87492859531075 5.119844138252643 1 ['B_4829']\n",
      "@> MET175 O_2869 A ARG160 O_2631 A 5.739346478476451 1 ['B_4616']\n",
      "@> TYR170 N_2781 A THR167 O_2741 A 5.234487462970946 1 ['B_4781']\n",
      "@> PHE204 N_3331 A ASP169 O_2774 A 5.597568489978485 1 ['B_4742']\n",
      "@> ALA206 N_3366 A THR212 OG1_3465 A ALA206 O_3371 A ASP169 OD2_2780 A 3.388571675499869 2.7465299925542404 5.787623864765229 3.5856777602009937 5.393220002929602 6.201193836673708 2 ['B_4748', 'B_4979']\n",
      "@> LEU171 N_2802 A TRP188 NE1_3089 A 4.567848727792986 1 ['B_4529']\n",
      "@> GLU174 N_2849 A ARG179 NH2_2943 A 3.6540495344206807 1 ['B_4499']\n",
      "@> MET175 O_2869 A ARG160 O_2631 A 5.739346478476451 1 ['B_4616']\n",
      "@> GLY178 O_2921 A SER159 O_2620 A HIS181 ND1_2973 A 4.0354263715250696 5.87492859531075 5.119844138252643 1 ['B_4829']\n",
      "@> GLY178 O_2921 A SER159 O_2620 A HIS181 ND1_2973 A 4.0354263715250696 5.87492859531075 5.119844138252643 1 ['B_4829']\n",
      "@> ASP182 N_2980 A ASP182 OD1_2990 A 2.9790030211465055 1 ['B_4685']\n",
      "@> ASP131 N_2200 A ILE132 N_2212 A ASP186 OD1_3055 A 2.7033346074801763 4.806672445673831 5.35376559068475 1 ['B_4715']\n",
      "@> LEU171 N_2802 A TRP188 NE1_3089 A 4.567848727792986 1 ['B_4529']\n",
      "@> ILE132 O_2217 A ILE132 N_2212 A SER189 OG_3109 A 2.935482583835235 4.273461126534325 4.990271936478014 1 ['B_4913']\n",
      "@> PRO203 O_3321 A THR222 N_3643 A 5.34487062518823 2 ['B_4760', 'B_4661']\n",
      "@> PHE204 N_3331 A ASP169 O_2774 A 5.597568489978485 1 ['B_4742']\n",
      "@> ALA206 N_3366 A THR212 OG1_3465 A ALA206 O_3371 A ASP169 OD2_2780 A 3.388571675499869 2.7465299925542404 5.787623864765229 3.5856777602009937 5.393220002929602 6.201193836673708 2 ['B_4748', 'B_4979']\n",
      "@> ALA206 N_3366 A THR212 OG1_3465 A ALA206 O_3371 A ASP169 OD2_2780 A 3.388571675499869 2.7465299925542404 5.787623864765229 3.5856777602009937 5.393220002929602 6.201193836673708 2 ['B_4748', 'B_4979']\n",
      "@> LYS214 NZ_3510 A ARG215 NH2_3535 A 5.633405098162218 1 ['B_4484']\n",
      "@> PRO203 O_3321 A THR222 N_3643 A 5.34487062518823 2 ['B_4760', 'B_4661']\n",
      "@> LYS240 NZ_3950 A GLN245 O_4015 A 4.431717161552617 1 ['B_4580']\n",
      "@> HIS241 N_3954 A ASN242 N_3971 A 2.8274373556278856 1 ['B_4793']\n",
      "@> LYS240 NZ_3950 A GLN245 O_4015 A 4.431717161552617 1 ['B_4580']\n"
     ]
    },
    {
     "name": "stdout",
     "output_type": "stream",
     "text": [
      "align__addH_8c14A.pdb\n"
     ]
    },
    {
     "name": "stderr",
     "output_type": "stream",
     "text": [
      "@> 4679 atoms and 1 coordinate set(s) were parsed in 0.04s.\n",
      "@> 28 water bridges detected using method cluster.\n",
      "@> PRO91 O_1548 A ARG14 NH1_246 A 6.00541763743372 1 ['B_4391']\n",
      "@> THR81 O_1371 A ALA44 N_747 A LYS43 N_725 A 4.503532502380775 2.797814325504822 2.8177036749807467 1 ['B_4478']\n",
      "@> ASP151 O_2522 A GLN62 NE2_1058 A ILE149 O_2493 A 5.245303232416598 4.677170512179343 4.743935286236522 1 ['B_4466']\n",
      "@> LEU73 N_1239 A LEU65 O_1094 A 5.4890395334703115 1 ['B_4439']\n",
      "@> HIS67 O_1137 A HIS67 N_1132 A 2.6455815995731418 1 ['B_4442']\n",
      "@> LEU73 N_1239 A LEU65 O_1094 A 5.4890395334703115 1 ['B_4439']\n",
      "@> THR81 O_1371 A ALA44 N_747 A LYS43 N_725 A 4.503532502380775 2.797814325504822 2.8177036749807467 1 ['B_4478']\n",
      "@> PRO91 O_1548 A ARG14 NH1_246 A 6.00541763743372 1 ['B_4391']\n",
      "@> THR94 N_1584 A LEU92 O_1563 A 3.935211430152134 1 ['B_4406']\n",
      "@> ASP106 N_1804 A ARG109 NE_1863 A 5.315194916463556 1 ['B_4529']\n",
      "@> THR223 N_3669 A GLU107 OE2_1830 A 4.537521129427389 1 ['B_4472']\n",
      "@> TYR113 OH_1929 A GLY145 O_2431 A 4.505743334900469 1 ['B_4367']\n",
      "@> ILE134 N_2256 A ARG132 O_2225 A SER184 OG_3039 A 3.812953055048014 4.878618861932133 4.077186407315716 1 ['B_4373']\n",
      "@> ASP133 OD1_2254 A TYR165 N_2711 A 4.454982042612514 1 ['B_4355']\n",
      "@> SER143 OG_2413 A SER143 N_2404 A 2.8995692783584257 1 ['B_4469']\n",
      "@> TYR113 OH_1929 A GLY145 O_2431 A 4.505743334900469 1 ['B_4367']\n",
      "@> ASP151 O_2522 A GLN62 NE2_1058 A ILE149 O_2493 A 5.245303232416598 4.677170512179343 4.743935286236522 1 ['B_4466']\n",
      "@> ASP164 O_2704 A PHE199 N_3261 A 5.5148419741639 1 ['B_4496']\n",
      "@> ASP133 OD1_2254 A TYR165 N_2711 A 4.454982042612514 1 ['B_4355']\n",
      "@> LEU166 N_2732 A TRP183 NE1_3019 A 4.755085488190512 1 ['B_4403']\n",
      "@> ILE134 N_2256 A ARG132 O_2225 A SER184 OG_3039 A 3.812953055048014 4.878618861932133 4.077186407315716 1 ['B_4373']\n",
      "@> ASP164 O_2704 A PHE199 N_3261 A 5.5148419741639 1 ['B_4496']\n",
      "@> THR223 N_3669 A GLU107 OE2_1830 A 4.537521129427389 1 ['B_4472']\n",
      "@> GLU224 N_3683 A THR223 OG1_3677 A 3.617297471870402 1 ['B_4535']\n",
      "@> GLN240 OE1_3953 A ASN237 N_3901 A HIS236 N_3884 A 5.428094877579062 5.767693299751644 2.6856593231458072 1 ['B_4517']\n",
      "@> GLN240 OE1_3953 A ASN237 N_3901 A HIS236 N_3884 A 5.428094877579062 5.767693299751644 2.6856593231458072 1 ['B_4517']\n",
      "@> LEU244 N_4012 A ARG245 NE_4046 A ARG245 N_4031 A 5.891289672049745 2.8026137800274955 4.321736456564654 1 ['B_4550']\n",
      "@> LEU244 N_4012 A ARG245 NE_4046 A ARG245 N_4031 A 5.891289672049745 2.8026137800274955 4.321736456564654 1 ['B_4550']\n"
     ]
    },
    {
     "name": "stdout",
     "output_type": "stream",
     "text": [
      "align__addH_6z4yA.pdb\n"
     ]
    },
    {
     "name": "stderr",
     "output_type": "stream",
     "text": [
      "@> 4711 atoms and 1 coordinate set(s) were parsed in 0.04s.\n",
      "@> 34 water bridges detected using method cluster.\n",
      "@> PHE18 N_275 A LYS17 N_253 A 2.796628148324339 1 ['B_4375']\n",
      "@> GLY47 O_778 A GLN51 N_827 A 5.7221897906308605 1 ['B_4489']\n",
      "@> LEU62 O_1026 A LEU68 O_1133 A GLN59 O_981 A 5.385418553835903 3.766692050061963 4.926294347681629 1 ['B_4417']\n",
      "@> ASP148 N_2449 A GLN59 NE2_990 A 4.53618738590019 1 ['B_4573']\n",
      "@> ARG63 NH1_1058 A SER60 O_998 A ARG69 NE_1162 A 3.3203413981095387 3.198074107959349 5.531927783331954 1 ['B_4420']\n",
      "@> ARG63 NH1_1058 A SER60 O_998 A ARG69 NE_1162 A 3.3203413981095387 3.198074107959349 5.531927783331954 1 ['B_4420']\n",
      "@> LEU70 O_1176 A ARG63 NH1_1058 A LEU70 N_1171 A 5.135154720161795 2.722161824726808 6.146493065155122 1 ['B_4612']\n",
      "@> LYS145 NZ_2416 A HIS64 O_1069 A 5.231912556608723 1 ['B_4396']\n",
      "@> LEU62 O_1026 A LEU68 O_1133 A GLN59 O_981 A 5.385418553835903 3.766692050061963 4.926294347681629 1 ['B_4417']\n",
      "@> LEU70 O_1176 A ARG63 NH1_1058 A LEU70 N_1171 A 5.135154720161795 2.722161824726808 6.146493065155122 1 ['B_4612']\n",
      "@> HIS75 O_1264 A HIS75 N_1259 A 2.7547871061118308 2 ['B_4609', 'B_4630']\n",
      "@> THR91 N_1516 A LEU89 O_1495 A 4.025083477395221 1 ['B_4432']\n",
      "@> ASP103 N_1736 A ASP103 OD2_1747 A 3.983607159346916 1 ['B_4621']\n",
      "@> GLU104 OE1_1761 A THR223 N_3660 A THR223 OG1_3668 A 4.669688747657598 2.722110027166426 2.9941533026884253 1 ['B_4603']\n",
      "@> SER152 N_2512 A HIS128 O_2140 A TRP151 N_2488 A 3.6713046727287555 2.7439774051547894 4.763793236487075 1 ['B_4549']\n",
      "@> ASP181 OD1_2976 A ILE131 N_2188 A 5.200687358417152 1 ['B_4387']\n",
      "@> GLU134 OE1_2256 A GLU134 N_2243 A 4.547091597933783 1 ['B_4579']\n",
      "@> GLU134 OE2_2257 A ASN135 ND2_2269 A 4.710976650334831 1 ['B_4561']\n",
      "@> LYS145 NZ_2416 A HIS64 O_1069 A 5.231912556608723 1 ['B_4396']\n",
      "@> ASP148 N_2449 A GLN59 NE2_990 A 4.53618738590019 1 ['B_4573']\n",
      "@> SER152 N_2512 A HIS128 O_2140 A TRP151 N_2488 A 3.6713046727287555 2.7439774051547894 4.763793236487075 1 ['B_4549']\n",
      "@> THR162 O_2662 A TYR165 N_2702 A 4.936301145594745 1 ['B_4444']\n",
      "@> TRP183 NE1_3010 A LEU166 N_2723 A ASP164 O_2695 A 4.52756148494971 4.911984222287362 3.9880323469099426 1 ['B_4372']\n",
      "@> PHE199 N_3252 A ASP164 O_2695 A 5.424283362804708 1 ['B_4477']\n",
      "@> TRP183 NE1_3010 A LEU166 N_2723 A ASP164 O_2695 A 4.52756148494971 4.911984222287362 3.9880323469099426 1 ['B_4372']\n",
      "@> ASP181 OD1_2976 A ILE131 N_2188 A 5.200687358417152 1 ['B_4387']\n",
      "@> ARG210 NH2_3456 A TYR190 OH_3123 A THR217 N_3564 A 6.599096529071235 5.0050551445513545 4.76121392083994 1 ['B_4513']\n",
      "@> PHE199 N_3252 A ASP164 O_2695 A 5.424283362804708 1 ['B_4477']\n",
      "@> GLU200 O_3277 A GLU200 N_3272 A 2.7827254625636364 1 ['B_4456']\n",
      "@> THR203 O_3316 A ALA201 O_3292 A 4.313498232293596 1 ['B_4525']\n",
      "@> ARG210 NH2_3456 A TYR190 OH_3123 A THR217 N_3564 A 6.599096529071235 5.0050551445513545 4.76121392083994 1 ['B_4513']\n",
      "@> PHE221 N_3624 A ASP220 N_3612 A 2.9219928131328454 1 ['B_4672']\n",
      "@> GLU104 OE1_1761 A THR223 N_3660 A THR223 OG1_3668 A 4.669688747657598 2.722110027166426 2.9941533026884253 1 ['B_4603']\n",
      "@> THR254 OG1_4193 A PRO251 O_4132 A 3.031541357131716 1 ['B_4600']\n"
     ]
    },
    {
     "name": "stdout",
     "output_type": "stream",
     "text": [
      "align__addH_8c1gA.pdb\n"
     ]
    },
    {
     "name": "stderr",
     "output_type": "stream",
     "text": [
      "@> 4942 atoms and 1 coordinate set(s) were parsed in 0.04s.\n",
      "@> 40 water bridges detected using method cluster.\n",
      "@> GLU6 N_96 A LEU5 N_77 A 2.7124131322495857 1 ['B_4384']\n",
      "@> ARG26 NH1_424 A GLU9 OE1_156 A 3.9841408107646057 1 ['B_4387']\n",
      "@> TYR87 O_1474 A TYR87 N_1469 A ILE33 O_542 A 2.87270412677672 5.9212035938650205 4.684020175020603 2 ['B_4579', 'B_4447']\n",
      "@> LYS41 N_681 A ALA42 N_703 A 2.8307783381960507 1 ['B_4453']\n",
      "@> GLU58 OE2_980 A ARG54 NE_902 A 4.2788683083263965 1 ['B_4489']\n",
      "@> ARG55 NH1_929 A GLY151 O_2511 A 5.600522207794555 1 ['B_4498']\n",
      "@> ASP149 N_2473 A GLN60 NE2_1014 A 4.811498103501651 1 ['B_4516']\n",
      "@> ILE68 O_1138 A HIS65 O_1093 A 3.088994820325859 1 ['B_4525']\n",
      "@> LEU71 O_1200 A ARG70 NE_1186 A LEU71 N_1195 A 4.471388598634652 2.891416953675135 4.303204387430369 1 ['B_4510']\n",
      "@> LEU71 O_1200 A ARG70 NE_1186 A LEU71 N_1195 A 4.471388598634652 2.891416953675135 4.303204387430369 1 ['B_4510']\n",
      "@> LYS146 NZ_2440 A GLU86 OE1_1467 A 4.098998536228086 1 ['B_4531']\n",
      "@> TYR87 O_1474 A TYR87 N_1469 A ILE33 O_542 A 2.87270412677672 5.9212035938650205 4.684020175020603 2 ['B_4579', 'B_4447']\n",
      "@> ASP104 N_1760 A ASP104 OD2_1771 A 3.8525392924667248 1 ['B_4624']\n",
      "@> ARG130 N_2176 A ASP131 N_2200 A 2.807908474291854 1 ['B_4681']\n",
      "@> ASP149 OD1_2483 A ASP131 OD2_2211 A ASP149 O_2478 A 5.38479247510988 3.353089620037016 5.122392019359708 1 ['B_4687']\n",
      "@> LYS133 NZ_2249 A ASN136 ND2_2293 A 4.99363865332685 2 ['B_4690', 'B_4714']\n",
      "@> GLU135 OE1_2280 A GLU135 N_2267 A 4.470388014479275 1 ['B_4702']\n",
      "@> ASN136 ND2_2293 A LYS133 NZ_2249 A 4.99363865332685 2 ['B_4714', 'B_4690']\n",
      "@> LYS146 NZ_2440 A GLU86 OE1_1467 A 4.098998536228086 1 ['B_4531']\n",
      "@> ASP149 N_2473 A GLN60 NE2_1014 A 4.811498103501651 1 ['B_4516']\n",
      "@> ASP149 OD1_2483 A ASP131 OD2_2211 A ASP149 O_2478 A 5.38479247510988 3.353089620037016 5.122392019359708 1 ['B_4687']\n",
      "@> GLY151 N_2505 A ASP149 OD1_2483 A TRP152 N_2512 A 3.6923330023171 2.830906921818517 5.328407735900097 1 ['B_4720']\n",
      "@> ARG55 NH1_929 A GLY151 O_2511 A 5.600522207794555 1 ['B_4498']\n",
      "@> GLY151 N_2505 A ASP149 OD1_2483 A TRP152 N_2512 A 3.6923330023171 2.830906921818517 5.328407735900097 1 ['B_4720']\n",
      "@> THR162 N_2674 A TPO163 O2P_2695 A 5.633686182243381 1 ['B_4741']\n",
      "@> HIS181 ND1_2972 A GLU174 O_2853 A THR162 O_2679 A 5.039124031019678 5.071050187091431 6.645571532983451 1 ['B_4744']\n",
      "@> ASP169 OD1_2778 A PHE204 N_3330 A ASP169 O_2773 A 4.96844100297065 4.298211023204888 5.587077590297097 1 ['B_4768']\n",
      "@> TRP188 NE1_3088 A LEU171 N_2801 A 4.425392411978849 1 ['B_4765']\n",
      "@> HIS181 ND1_2972 A GLU174 O_2853 A THR162 O_2679 A 5.039124031019678 5.071050187091431 6.645571532983451 1 ['B_4744']\n",
      "@> ASP182 N_2979 A GLU174 OE2_2862 A 5.492421779142602 1 ['B_4777']\n",
      "@> ASP182 N_2979 A GLU174 OE2_2862 A 5.492421779142602 1 ['B_4777']\n",
      "@> TRP188 NE1_3088 A LEU171 N_2801 A 4.425392411978849 1 ['B_4765']\n",
      "@> ASP169 OD1_2778 A PHE204 N_3330 A ASP169 O_2773 A 4.96844100297065 4.298211023204888 5.587077590297097 1 ['B_4768']\n",
      "@> GLU205 O_3355 A ARG215 NH1_3531 A 3.3557893259261684 2 ['B_4825', 'B_4822']\n",
      "@> THR208 OG1_3397 A THR208 N_3389 A 2.988320096642926 1 ['B_4834']\n",
      "@> GLU205 O_3355 A ARG215 NH1_3531 A 3.3557893259261684 2 ['B_4825', 'B_4822']\n",
      "@> THR222 N_3642 A THR222 O_3647 A 2.685962211201045 1 ['B_4804']\n",
      "@> GLU251 OE2_4138 A ARG237 NH2_3890 A 5.071164560532424 2 ['B_4882', 'B_4909']\n",
      "@> ASN242 N_3970 A GLN245 OE1_4022 A 4.934958054532987 1 ['B_4897']\n",
      "@> ARG237 NH2_3890 A GLU251 OE2_4138 A 5.071164560532424 2 ['B_4882', 'B_4909']\n"
     ]
    },
    {
     "name": "stdout",
     "output_type": "stream",
     "text": [
      "align__addH_5g1xA.pdb\n"
     ]
    },
    {
     "name": "stderr",
     "output_type": "stream",
     "text": [
      "@> 4389 atoms and 1 coordinate set(s) were parsed in 0.04s.\n",
      "@> 7 water bridges detected using method cluster.\n",
      "@> LEU70 N_1171 A GLN59 O_981 A GLN59 NE2_990 A 5.360323404422535 4.120549599264636 3.5074335346518 1 ['B_4287']\n",
      "@> ILE67 O_1114 A HIS64 O_1069 A 3.0835456863811848 1 ['B_4293']\n",
      "@> LEU70 N_1171 A GLN59 O_981 A GLN59 NE2_990 A 5.360323404422535 4.120549599264636 3.5074335346518 1 ['B_4287']\n",
      "@> THR91 N_1516 A LEU89 O_1495 A 4.079708077791845 1 ['B_4317']\n",
      "@> ASP103 N_1736 A ASP103 OD2_1747 A ARG106 NH1_1798 A 3.667249105255873 5.386309868546371 4.463598772291257 1 ['B_4335']\n",
      "@> ASP103 N_1736 A ASP103 OD2_1747 A ARG106 NH1_1798 A 3.667249105255873 5.386309868546371 4.463598772291257 1 ['B_4335']\n",
      "@> ILE146 O_2425 A TRP151 NE1_2501 A 5.913755490380033 1 ['B_4356']\n"
     ]
    },
    {
     "name": "stdout",
     "output_type": "stream",
     "text": [
      "align__addH_2bmcA.pdb\n",
      "align__addH_5osdA.pdb\n"
     ]
    },
    {
     "name": "stderr",
     "output_type": "stream",
     "text": [
      "@> 4732 atoms and 1 coordinate set(s) were parsed in 0.04s.\n",
      "@> 37 water bridges detected using method cluster.\n",
      "@> ARG13 NH1_224 A ARG13 NH2_227 A 2.2955413304926577 1 ['B_4645']\n",
      "@> ARG13 NH2_227 A TYR88 OH_1510 A 5.1220574967487424 1 ['B_4480']\n",
      "@> ASP132 OD2_2233 A LYS19 NZ_317 A LYS134 NZ_2271 A 5.932993595142338 4.112699721594078 5.184181902672787 1 ['B_4507']\n",
      "@> PHE20 O_326 A GLN44 OE1_748 A 4.356713554963191 1 ['B_4462']\n",
      "@> ILE34 O_564 A TYR88 N_1491 A 5.007244052370524 1 ['B_4483']\n",
      "@> ASP150 OD1_2505 A GLU57 OE2_971 A LYS38 NZ_644 A 4.1385185755291705 3.8324040757728044 2.913176445051003 1 ['B_4444']\n",
      "@> ASP150 OD1_2505 A GLU57 OE2_971 A LYS38 NZ_644 A 4.1385185755291705 3.8324040757728044 2.913176445051003 1 ['B_4444']\n",
      "@> SER62 O_1044 A LEU72 O_1222 A 4.378263240144429 1 ['B_4459']\n",
      "@> ILE69 O_1160 A HIS66 N_1110 A 4.959582744546157 1 ['B_4606']\n",
      "@> SER62 O_1044 A LEU72 O_1222 A 4.378263240144429 1 ['B_4459']\n",
      "@> GLU87 OE2_1490 A LYS147 NZ_2462 A 3.472647117113975 1 ['B_4516']\n",
      "@> ILE34 O_564 A TYR88 N_1491 A 5.007244052370524 1 ['B_4483']\n",
      "@> ARG13 NH2_227 A TYR88 OH_1510 A 5.1220574967487424 1 ['B_4480']\n",
      "@> GLN99 OE1_1684 A TYR95 O_1597 A 4.517264880433736 1 ['B_4504']\n",
      "@> ASP105 OD2_1793 A ASP105 N_1782 A 3.927120573651891 1 ['B_4648']\n",
      "@> THR229 N_3760 A GLU106 OE2_1808 A 4.45984607357698 1 ['B_4510']\n",
      "@> TRP153 N_2534 A HIS130 ND1_2191 A 6.258650173959243 1 ['B_4585']\n",
      "@> ASP132 OD2_2233 A ASP150 O_2500 A 5.017111519589735 1 ['B_4486']\n",
      "@> ASP132 OD2_2233 A LYS19 NZ_317 A LYS134 NZ_2271 A 5.932993595142338 4.112699721594078 5.184181902672787 1 ['B_4507']\n",
      "@> GLU136 N_2289 A GLU136 OE2_2303 A 4.467996642791934 1 ['B_4543']\n",
      "@> GLU87 OE2_1490 A LYS147 NZ_2462 A 3.472647117113975 1 ['B_4516']\n",
      "@> PHE151 N_2507 A ASP150 N_2495 A 3.117560905579877 1 ['B_4441']\n",
      "@> ASP132 OD2_2233 A ASP150 O_2500 A 5.017111519589735 1 ['B_4486']\n",
      "@> ASP150 OD1_2505 A GLU57 OE2_971 A LYS38 NZ_644 A 4.1385185755291705 3.8324040757728044 2.913176445051003 1 ['B_4444']\n",
      "@> SER154 O_2563 A GLY152 O_2533 A 4.833761061533764 1 ['B_4609']\n",
      "@> TRP153 N_2534 A HIS130 ND1_2191 A 6.258650173959243 1 ['B_4585']\n",
      "@> THR168 O_2762 A ASP170 N_2790 A TYR171 N_2802 A 3.6672489689138965 5.060340699992441 2.8656048227206745 1 ['B_4534']\n",
      "@> PHE205 N_3352 A ASP170 OD1_2800 A 5.062657602485082 1 ['B_4555']\n",
      "@> THR168 O_2762 A ASP170 N_2790 A TYR171 N_2802 A 3.6672489689138965 5.060340699992441 2.8656048227206745 1 ['B_4534']\n",
      "@> LEU172 N_2823 A TRP189 NE1_3110 A 4.488294108010302 1 ['B_4519']\n",
      "@> GLU175 OE1_2883 A HIS242 O_3980 A 4.278107174908081 1 ['B_4591']\n",
      "@> PHE205 N_3352 A ASP170 OD1_2800 A 5.062657602485082 1 ['B_4555']\n",
      "@> THR223 N_3664 A ARG216 NH2_3556 A THR223 O_3669 A 5.057976769420754 2.717066800798244 6.3608264400154795 1 ['B_4564']\n",
      "@> THR223 N_3664 A ARG216 NH2_3556 A THR223 O_3669 A 5.057976769420754 2.717066800798244 6.3608264400154795 1 ['B_4564']\n",
      "@> THR229 N_3760 A GLU106 OE2_1808 A 4.45984607357698 1 ['B_4510']\n",
      "@> GLU175 OE1_2883 A HIS242 O_3980 A 4.278107174908081 1 ['B_4591']\n",
      "@> ARG251 N_4122 A LEU250 N_4103 A 2.738223146494821 1 ['B_4675']\n",
      "@> 4415 atoms and 1 coordinate set(s) were parsed in 0.04s.\n",
      "@> 0 water bridges detected using method cluster.\n",
      "@> 4306 atoms and 1 coordinate set(s) were parsed in 0.04s.\n",
      "@> 7 water bridges detected using method cluster.\n",
      "@> LYS146 NZ_2440 A ILE68 O_1138 A HIS65 O_1093 A 4.783465689225751 5.088913538271207 3.123653149759106 1 ['B_4270']\n",
      "@> ASP104 N_1760 A ARG107 NE_1819 A ASP104 OD2_1771 A 5.5723508504041614 3.710591731786183 5.630358869557073 1 ['B_4297']\n",
      "@> ASP104 N_1760 A ARG107 NE_1819 A ASP104 OD2_1771 A 5.5723508504041614 3.710591731786183 5.630358869557073 1 ['B_4297']\n",
      "@> LYS146 NZ_2440 A ILE68 O_1138 A HIS65 O_1093 A 4.783465689225751 5.088913538271207 3.123653149759106 1 ['B_4270']\n",
      "@> TYR160 N_2632 A THR157 O_2592 A 5.008032847336368 1 ['B_4291']\n",
      "@> ASP159 O_2625 A GLU195 N_3202 A PHE194 N_3182 A 6.244708800256418 5.546166423756141 2.6717054478366444 1 ['B_4267']\n",
      "@> ASP159 O_2625 A GLU195 N_3202 A PHE194 N_3182 A 6.244708800256418 5.546166423756141 2.6717054478366444 1 ['B_4267']\n"
     ]
    },
    {
     "name": "stdout",
     "output_type": "stream",
     "text": [
      "align__addH_5dr2A.pdb\n",
      "align__addH_5obrA.pdb\n"
     ]
    },
    {
     "name": "stderr",
     "output_type": "stream",
     "text": [
      "@> 4269 atoms and 1 coordinate set(s) were parsed in 0.04s.\n",
      "@> 0 water bridges detected using method cluster.\n",
      "@> 5308 atoms and 1 coordinate set(s) were parsed in 0.05s.\n"
     ]
    },
    {
     "name": "stdout",
     "output_type": "stream",
     "text": [
      "align__addH_3r22A.pdb\n",
      "align__addH_6vpiA.pdb\n"
     ]
    },
    {
     "name": "stderr",
     "output_type": "stream",
     "text": [
      "@> 49 water bridges detected using method cluster.\n",
      "@> SER3 N_34 A SER1 O_7 A 4.003618363430761 1 ['B_4654']\n",
      "@> ASP9 N_113 A SER8 N_102 A SER8 OG_111 A 2.705802099193514 3.8261680569467957 2.8289848002419546 1 ['B_4924']\n",
      "@> ASP9 N_113 A SER8 N_102 A SER8 OG_111 A 2.705802099193514 3.8261680569467957 2.8289848002419546 1 ['B_4924']\n",
      "@> PHE13 N_178 A SER44 OG_700 A ILE11 O_150 A 4.435109919720144 3.359288168645255 5.464818844207006 1 ['B_4864']\n",
      "@> ASP21 OD2_329 A ARG15 NH2_230 A 3.822271183471944 1 ['B_4690']\n",
      "@> GLY105 N_1740 A ARG26 NH2_412 A 7.725694661323337 2 ['B_5065', 'B_4756']\n",
      "@> PHE13 N_178 A SER44 OG_700 A ILE11 O_150 A 4.435109919720144 3.359288168645255 5.464818844207006 1 ['B_4864']\n",
      "@> LYS51 NZ_829 A GLU70 OE1_1155 A 4.165523016381014 1 ['B_4789']\n",
      "@> GLN74 O_1212 A LEU83 O_1364 A 4.86211198966046 1 ['B_4807']\n",
      "@> LEU77 O_1257 A SER75 O_1229 A ARG84 NE_1393 A LEU85 N_1402 A GLN74 O_1212 A 4.395697328069801 4.306391296665927 5.542945155781356 3.614176254694839 5.5272710264650495 5.785559437081258 3.804930091342018 4.3642267356314095 6.00853609459076 4.332819059226909 1 ['B_5008']\n",
      "@> GLN74 NE2_1221 A ASP163 N_2687 A 4.888740226275068 1 ['B_4912']\n",
      "@> ILE82 O_1345 A LEU77 O_1257 A 5.910159388713643 1 ['B_4945']\n",
      "@> LEU77 O_1257 A SER75 O_1229 A ARG84 NE_1393 A LEU85 N_1402 A GLN74 O_1212 A 4.395697328069801 4.306391296665927 5.542945155781356 3.614176254694839 5.5272710264650495 5.785559437081258 3.804930091342018 4.3642267356314095 6.00853609459076 4.332819059226909 1 ['B_5008']\n",
      "@> ARG78 NH1_1289 A ARG84 NE_1393 A 4.191044977091035 1 ['B_4903']\n",
      "@> LYS160 NZ_2654 A HIS79 O_1300 A PRO80 O_1316 A 5.463531275649475 3.074975447056445 3.6788783616749274 1 ['B_4804']\n",
      "@> ILE82 O_1345 A LEU77 O_1257 A 5.910159388713643 1 ['B_4945']\n",
      "@> GLN74 O_1212 A LEU83 O_1364 A 4.86211198966046 1 ['B_4807']\n",
      "@> ARG78 NH1_1289 A ARG84 NE_1393 A 4.191044977091035 1 ['B_4903']\n",
      "@> LEU77 O_1257 A SER75 O_1229 A ARG84 NE_1393 A LEU85 N_1402 A GLN74 O_1212 A 4.395697328069801 4.306391296665927 5.542945155781356 3.614176254694839 5.5272710264650495 5.785559437081258 3.804930091342018 4.3642267356314095 6.00853609459076 4.332819059226909 1 ['B_5008']\n",
      "@> GLY105 N_1740 A ARG26 NH2_412 A 7.725694661323337 2 ['B_5065', 'B_4756']\n",
      "@> THR106 O_1752 A THR106 N_1747 A 2.769679764882575 1 ['B_4858']\n",
      "@> ASN275 O_4515 A GLN120 O_1999 A 3.53787973226903 1 ['B_4648']\n",
      "@> THR127 OG1_2121 A LEU267 O_4383 A 5.450979544999227 1 ['B_5014']\n",
      "@> HIS143 O_2376 A SER167 N_2750 A TRP166 N_2726 A 3.514754472221356 4.699906807586725 2.7273347795971055 1 ['B_4900']\n",
      "@> ASN145 ND2_2423 A LYS147 NZ_2463 A 4.685710511758062 1 ['B_5173']\n",
      "@> ASP200 OD1_3272 A ILE146 N_2426 A SER203 OG_3326 A 5.172664110494706 4.989603791885682 4.7316375600842475 1 ['B_4951']\n",
      "@> ALA156 N_2585 A SER155 N_2574 A 2.7601746321564513 1 ['B_4774']\n",
      "@> SER155 N_2574 A SER155 OG_2583 A 2.8911221005000782 1 ['B_5029']\n",
      "@> ALA156 N_2585 A SER155 N_2574 A 2.7601746321564513 1 ['B_4774']\n",
      "@> LYS160 NZ_2654 A HIS79 O_1300 A PRO80 O_1316 A 5.463531275649475 3.074975447056445 3.6788783616749274 1 ['B_4804']\n",
      "@> GLN74 NE2_1221 A ASP163 N_2687 A 4.888740226275068 1 ['B_4912']\n",
      "@> ASP163 OD1_2697 A TRP166 N_2726 A 5.096633594834929 1 ['B_4735']\n",
      "@> HIS143 O_2376 A SER167 N_2750 A TRP166 N_2726 A 3.514754472221356 4.699906807586725 2.7273347795971055 1 ['B_4900']\n",
      "@> SER172 OG_2827 A ARG174 NE_2855 A 4.6972504723508175 1 ['B_5149']\n",
      "@> THR176 N_2888 A THR177 N_2902 A ARG175 NE_2879 A 2.865569402405042 4.801763634332701 5.209463504047226 1 ['B_5092']\n",
      "@> THR176 N_2888 A THR177 N_2902 A ARG175 NE_2879 A 2.865569402405042 4.801763634332701 5.209463504047226 1 ['B_5092']\n",
      "@> ASP183 N_2986 A TYR184 N_2998 A 2.7898568063612132 1 ['B_4987']\n",
      "@> ASP200 OD1_3272 A ILE146 N_2426 A SER203 OG_3326 A 5.172664110494706 4.989603791885682 4.7316375600842475 1 ['B_4951']\n",
      "@> GLU219 O_3578 A GLU219 N_3573 A 2.8426371558818424 1 ['B_4963']\n",
      "@> ASN221 OD1_3608 A THR222 OG1_3620 A ASN221 N_3598 A 5.948391715413502 2.2645882627974556 5.089023874968556 1 ['B_4618']\n",
      "@> ASN221 OD1_3608 A THR222 OG1_3620 A ASN221 N_3598 A 5.948391715413502 2.2645882627974556 5.089023874968556 1 ['B_4618']\n",
      "@> GLU234 OE2_3844 A ARG229 NE_3751 A 4.312625766282069 1 ['B_4993']\n",
      "@> THR242 N_3961 A THR242 OG1_3969 A 2.8793926442915 1 ['B_4726']\n",
      "@> THR242 OG1_3969 A GLY244 N_3990 A 3.9377202795526234 1 ['B_4933']\n",
      "@> ASN256 N_4193 A HIS255 ND1_4186 A 3.7805947944734837 1 ['B_5026']\n",
      "@> ASN256 N_4193 A GLN259 OE1_4245 A 4.794468792264684 1 ['B_4792']\n",
      "@> ASN256 N_4193 A GLN259 OE1_4245 A 4.794468792264684 1 ['B_4792']\n",
      "@> THR127 OG1_2121 A LEU267 O_4383 A 5.450979544999227 1 ['B_5014']\n",
      "@> ASN275 O_4515 A GLN120 O_1999 A 3.53787973226903 1 ['B_4648']\n",
      "@> 4827 atoms and 1 coordinate set(s) were parsed in 0.04s.\n",
      "@> 38 water bridges detected using method cluster.\n",
      "@> ARG14 NH1_246 A LEU16 O_271 A 4.4562654768314705 1 ['B_4578']\n",
      "@> ASN23 N_370 A TYR25 OH_419 A 4.809378442169005 1 ['B_4659']\n",
      "@> GLN62 OE1_1057 A GLN62 NE2_1058 A ASP151 N_2517 A 2.248733421284073 4.00869517424311 4.47029495671147 1 ['B_4611']\n",
      "@> LEU65 O_1094 A LEU73 N_1239 A 6.054586691096262 1 ['B_4734']\n",
      "@> HIS67 O_1137 A LYS148 NZ_2484 A 5.31630821153176 1 ['B_4656']\n",
      "@> ALA90 O_1539 A GLY93 N_1577 A 3.4663864470078907 1 ['B_4539']\n",
      "@> THR94 N_1584 A ARG97 NH1_1653 A THR94 O_1589 A 5.833814361119148 2.834249459733563 5.5660869558425 1 ['B_4545']\n",
      "@> THR94 N_1584 A ARG97 NH1_1653 A THR94 O_1589 A 5.833814361119148 2.834249459733563 5.5660869558425 1 ['B_4545']\n",
      "@> SER103 O_1756 A LEU99 O_1679 A 3.7793525900608986 1 ['B_4629']\n",
      "@> ASP106 N_1804 A ARG109 NE_1863 A 5.463259192094035 1 ['B_4557']\n",
      "@> ARG132 NH2_2241 A ASP164 N_2718 A ARG163 N_2694 A 6.580424074480304 6.335386728527315 2.716368163559571 1 ['B_4638']\n",
      "@> ILE134 N_2256 A ASP133 N_2244 A ASP188 OD2_3101 A 2.696297090455729 5.53254905084447 4.898040526577952 1 ['B_4665']\n",
      "@> LYS135 NZ_2293 A ASP133 OD2_2255 A 4.140964259686384 1 ['B_4653']\n",
      "@> ILE134 N_2256 A SER191 OG_3154 A ILE134 O_2261 A 4.889837931874637 2.9704918784605354 4.325185891958868 1 ['B_4566']\n",
      "@> ILE134 N_2256 A SER191 OG_3154 A ILE134 O_2261 A 4.889837931874637 2.9704918784605354 4.325185891958868 1 ['B_4566']\n",
      "@> THR169 O_2786 A LYS135 NZ_2293 A 5.084213410155008 1 ['B_4644']\n",
      "@> LYS135 NZ_2293 A ASP133 OD2_2255 A 4.140964259686384 1 ['B_4653']\n",
      "@> GLU137 OE1_2324 A GLU137 N_2311 A 4.5113379390154345 1 ['B_4605']\n",
      "@> ASN138 ND2_2337 A ASP151 OD1_2527 A 3.2504478153017624 1 ['B_4806']\n",
      "@> HIS67 O_1137 A LYS148 NZ_2484 A 5.31630821153176 1 ['B_4656']\n",
      "@> GLN62 OE1_1057 A GLN62 NE2_1058 A ASP151 N_2517 A 2.248733421284073 4.00869517424311 4.47029495671147 1 ['B_4611']\n",
      "@> ASP151 O_2522 A TRP154 N_2556 A 4.560484513733163 1 ['B_4698']\n",
      "@> ASP151 O_2522 A TRP154 N_2556 A 4.560484513733163 1 ['B_4698']\n",
      "@> SER160 OG_2657 A PRO159 O_2638 A 4.321407525332456 1 ['B_4626']\n",
      "@> ARG132 NH2_2241 A ASP164 N_2718 A ARG163 N_2694 A 6.580424074480304 6.335386728527315 2.716368163559571 1 ['B_4638']\n",
      "@> THR169 O_2786 A LYS135 NZ_2293 A 5.084213410155008 1 ['B_4644']\n",
      "@> PHE206 N_3376 A ASP171 O_2819 A 5.636320874471219 1 ['B_4500']\n",
      "@> LEU173 O_2852 A TRP190 NE1_3134 A LEU173 N_2847 A 3.4186839573145718 2.915488809788164 4.473491142273562 1 ['B_4497']\n",
      "@> ASP184 N_3025 A GLU176 OE2_2908 A 5.645069884421275 1 ['B_4506']\n",
      "@> ILE134 N_2256 A ASP133 N_2244 A ASP188 OD2_3101 A 2.696297090455729 5.53254905084447 4.898040526577952 1 ['B_4665']\n",
      "@> LEU173 O_2852 A TRP190 NE1_3134 A LEU173 N_2847 A 3.4186839573145718 2.915488809788164 4.473491142273562 1 ['B_4497']\n",
      "@> ILE134 N_2256 A SER191 OG_3154 A ILE134 O_2261 A 4.889837931874637 2.9704918784605354 4.325185891958868 1 ['B_4566']\n",
      "@> PHE206 N_3376 A ASP171 O_2819 A 5.636320874471219 1 ['B_4500']\n",
      "@> ARG217 NH2_3580 A THR224 N_3688 A 5.38645690598189 1 ['B_4512']\n",
      "@> ASP227 N_3736 A ARG234 NH2_3851 A 4.112087912484361 1 ['B_4650']\n",
      "@> LYS242 NZ_3995 A GLN247 O_4060 A 4.3860182398161545 1 ['B_4581']\n",
      "@> ASN244 N_4016 A HIS243 N_3999 A 2.8140968355762044 1 ['B_4728']\n",
      "@> LYS242 NZ_3995 A GLN247 O_4060 A 4.3860182398161545 1 ['B_4581']\n"
     ]
    },
    {
     "name": "stdout",
     "output_type": "stream",
     "text": [
      "align__addH_4deeA.pdb\n"
     ]
    }
   ],
   "source": [
    "import os\n",
    "\n",
    "namePrefix = 'align__'\n",
    "directory = os.getcwd()\n",
    "align_files = [file for file in os.listdir(directory) if file.startswith(namePrefix)]\n",
    "\n",
    "for file in align_files:\n",
    "    print (file)\n",
    "    try:\n",
    "        atoms = parsePDB(file)\n",
    "        waterBridges = calcWaterBridges(atoms, method='cluster')\n",
    "        savePDBWaterBridges(waterBridges, atoms, 'wb_'+file)\n",
    "    except: pass"
   ]
  },
  {
   "cell_type": "markdown",
   "metadata": {},
   "source": [
    "## Finding clusters of water within homolgous structures"
   ]
  },
  {
   "cell_type": "markdown",
   "metadata": {},
   "source": [
    "Once the PDB files with selected water bridges are saved, we can start checking water clustering using :func:`findClusterCenters` function. With this kind of analysis, we should check the names of oxygens that are forming water molecules. If the name is different from the default one, we should use ``'resname HOH and name O'`` parameter to correct it. We will use default criteria of ``distC`` and ``numC``, which are set to 0.3 and 3, respectively."
   ]
  },
  {
   "cell_type": "code",
   "execution_count": 5,
   "metadata": {},
   "outputs": [
    {
     "name": "stderr",
     "output_type": "stream",
     "text": [
      "@> 4341 atoms and 1 coordinate set(s) were parsed in 0.13s.\n",
      "@> 4431 atoms and 1 coordinate set(s) were parsed in 0.05s.\n",
      "@> 4337 atoms and 1 coordinate set(s) were parsed in 0.05s.\n",
      "@> 4232 atoms and 1 coordinate set(s) were parsed in 0.05s.\n",
      "@> 4263 atoms and 1 coordinate set(s) were parsed in 0.04s.\n",
      "@> 4156 atoms and 1 coordinate set(s) were parsed in 0.04s.\n",
      "@> 4309 atoms and 1 coordinate set(s) were parsed in 0.05s.\n",
      "@> 4239 atoms and 1 coordinate set(s) were parsed in 0.04s.\n",
      "@> 4177 atoms and 1 coordinate set(s) were parsed in 0.04s.\n",
      "@> 4209 atoms and 1 coordinate set(s) were parsed in 0.04s.\n",
      "@> 4207 atoms and 1 coordinate set(s) were parsed in 0.05s.\n",
      "@> 4020 atoms and 1 coordinate set(s) were parsed in 0.04s.\n",
      "@> 4432 atoms and 1 coordinate set(s) were parsed in 0.05s.\n",
      "@> 4217 atoms and 1 coordinate set(s) were parsed in 0.04s.\n",
      "@> 4212 atoms and 1 coordinate set(s) were parsed in 0.04s.\n",
      "@> 4384 atoms and 1 coordinate set(s) were parsed in 0.05s.\n",
      "@> 4297 atoms and 1 coordinate set(s) were parsed in 0.04s.\n",
      "@> 4204 atoms and 1 coordinate set(s) were parsed in 0.04s.\n",
      "@> 4092 atoms and 1 coordinate set(s) were parsed in 0.04s.\n",
      "@> 4105 atoms and 1 coordinate set(s) were parsed in 0.04s.\n",
      "@> 4286 atoms and 1 coordinate set(s) were parsed in 0.04s.\n",
      "@> 4259 atoms and 1 coordinate set(s) were parsed in 0.04s.\n",
      "@> 4233 atoms and 1 coordinate set(s) were parsed in 0.04s.\n",
      "@> 4402 atoms and 1 coordinate set(s) were parsed in 0.05s.\n",
      "@> 3994 atoms and 1 coordinate set(s) were parsed in 0.04s.\n",
      "@> 4340 atoms and 1 coordinate set(s) were parsed in 0.05s.\n",
      "@> 4157 atoms and 1 coordinate set(s) were parsed in 0.04s.\n",
      "@> 4453 atoms and 1 coordinate set(s) were parsed in 0.05s.\n",
      "@> 4375 atoms and 1 coordinate set(s) were parsed in 0.05s.\n",
      "@> 4339 atoms and 1 coordinate set(s) were parsed in 0.04s.\n",
      "@> 4208 atoms and 1 coordinate set(s) were parsed in 0.04s.\n",
      "@> 4250 atoms and 1 coordinate set(s) were parsed in 0.04s.\n",
      "@> 4199 atoms and 1 coordinate set(s) were parsed in 0.04s.\n",
      "@> 4101 atoms and 1 coordinate set(s) were parsed in 0.04s.\n",
      "@> 4110 atoms and 1 coordinate set(s) were parsed in 0.04s.\n",
      "@> 4327 atoms and 1 coordinate set(s) were parsed in 0.04s.\n",
      "@> 4443 atoms and 1 coordinate set(s) were parsed in 0.05s.\n",
      "@> 4427 atoms and 1 coordinate set(s) were parsed in 0.05s.\n",
      "@> 4354 atoms and 1 coordinate set(s) were parsed in 0.05s.\n",
      "@> 4425 atoms and 1 coordinate set(s) were parsed in 0.04s.\n",
      "@> 4354 atoms and 1 coordinate set(s) were parsed in 0.05s.\n",
      "@> 4327 atoms and 1 coordinate set(s) were parsed in 0.04s.\n",
      "@> 4373 atoms and 1 coordinate set(s) were parsed in 0.05s.\n",
      "@> 4366 atoms and 1 coordinate set(s) were parsed in 0.05s.\n",
      "@> 4443 atoms and 1 coordinate set(s) were parsed in 0.05s.\n",
      "@> 4347 atoms and 1 coordinate set(s) were parsed in 0.04s.\n",
      "@> 4104 atoms and 1 coordinate set(s) were parsed in 0.04s.\n",
      "@> 4130 atoms and 1 coordinate set(s) were parsed in 0.04s.\n",
      "@> 4347 atoms and 1 coordinate set(s) were parsed in 0.04s.\n",
      "@> 4356 atoms and 1 coordinate set(s) were parsed in 0.04s.\n",
      "@> 4386 atoms and 1 coordinate set(s) were parsed in 0.04s.\n",
      "@> 4464 atoms and 1 coordinate set(s) were parsed in 0.04s.\n",
      "@> 4354 atoms and 1 coordinate set(s) were parsed in 0.04s.\n",
      "@> 4376 atoms and 1 coordinate set(s) were parsed in 0.04s.\n",
      "@> 4534 atoms and 1 coordinate set(s) were parsed in 0.04s.\n",
      "@> 4482 atoms and 1 coordinate set(s) were parsed in 0.04s.\n",
      "@> 4400 atoms and 1 coordinate set(s) were parsed in 0.04s.\n",
      "@> 4400 atoms and 1 coordinate set(s) were parsed in 0.04s.\n",
      "@> 4233 atoms and 1 coordinate set(s) were parsed in 0.04s.\n",
      "@> 4252 atoms and 1 coordinate set(s) were parsed in 0.04s.\n",
      "@> 4373 atoms and 1 coordinate set(s) were parsed in 0.04s.\n",
      "@> 4283 atoms and 1 coordinate set(s) were parsed in 0.04s.\n",
      "@> 4282 atoms and 1 coordinate set(s) were parsed in 0.05s.\n",
      "@> 4190 atoms and 1 coordinate set(s) were parsed in 0.04s.\n",
      "@> 4255 atoms and 1 coordinate set(s) were parsed in 0.05s.\n",
      "@> 4158 atoms and 1 coordinate set(s) were parsed in 0.05s.\n",
      "@> 4504 atoms and 1 coordinate set(s) were parsed in 0.05s.\n",
      "@> 4436 atoms and 1 coordinate set(s) were parsed in 0.05s.\n",
      "@> 4238 atoms and 1 coordinate set(s) were parsed in 0.05s.\n",
      "@> 4232 atoms and 1 coordinate set(s) were parsed in 0.05s.\n",
      "@> 4241 atoms and 1 coordinate set(s) were parsed in 0.06s.\n",
      "@> 4290 atoms and 1 coordinate set(s) were parsed in 0.06s.\n",
      "@> 4382 atoms and 1 coordinate set(s) were parsed in 0.05s.\n",
      "@> 4318 atoms and 1 coordinate set(s) were parsed in 0.04s.\n",
      "@> 4424 atoms and 1 coordinate set(s) were parsed in 0.04s.\n",
      "@> 4436 atoms and 1 coordinate set(s) were parsed in 0.04s.\n",
      "@> 4258 atoms and 1 coordinate set(s) were parsed in 0.04s.\n",
      "@> 4463 atoms and 1 coordinate set(s) were parsed in 0.05s.\n",
      "@> 4430 atoms and 1 coordinate set(s) were parsed in 0.05s.\n",
      "@> 4439 atoms and 1 coordinate set(s) were parsed in 0.04s.\n",
      "@> 4224 atoms and 1 coordinate set(s) were parsed in 0.04s.\n",
      "@> 4303 atoms and 1 coordinate set(s) were parsed in 0.04s.\n",
      "@> 4238 atoms and 1 coordinate set(s) were parsed in 0.04s.\n",
      "@> 4437 atoms and 1 coordinate set(s) were parsed in 0.04s.\n",
      "@> 4377 atoms and 1 coordinate set(s) were parsed in 0.04s.\n",
      "@> 4377 atoms and 1 coordinate set(s) were parsed in 0.04s.\n",
      "@> 4398 atoms and 1 coordinate set(s) were parsed in 0.04s.\n",
      "@> 4410 atoms and 1 coordinate set(s) were parsed in 0.04s.\n",
      "@> 4395 atoms and 1 coordinate set(s) were parsed in 0.04s.\n",
      "@> 4383 atoms and 1 coordinate set(s) were parsed in 0.04s.\n",
      "@> 4416 atoms and 1 coordinate set(s) were parsed in 0.04s.\n",
      "@> 4407 atoms and 1 coordinate set(s) were parsed in 0.04s.\n",
      "@> 4434 atoms and 1 coordinate set(s) were parsed in 0.04s.\n",
      "@> 4389 atoms and 1 coordinate set(s) were parsed in 0.04s.\n",
      "@> 4413 atoms and 1 coordinate set(s) were parsed in 0.04s.\n",
      "@> 4401 atoms and 1 coordinate set(s) were parsed in 0.04s.\n",
      "@> 4410 atoms and 1 coordinate set(s) were parsed in 0.04s.\n",
      "@> 4321 atoms and 1 coordinate set(s) were parsed in 0.04s.\n",
      "@> 4425 atoms and 1 coordinate set(s) were parsed in 0.04s.\n",
      "@> 4434 atoms and 1 coordinate set(s) were parsed in 0.04s.\n",
      "@> 4473 atoms and 1 coordinate set(s) were parsed in 0.05s.\n",
      "@> 4374 atoms and 1 coordinate set(s) were parsed in 0.05s.\n",
      "@> 4462 atoms and 1 coordinate set(s) were parsed in 0.05s.\n",
      "@> 4407 atoms and 1 coordinate set(s) were parsed in 0.05s.\n",
      "@> 4407 atoms and 1 coordinate set(s) were parsed in 0.05s.\n",
      "@> 4175 atoms and 1 coordinate set(s) were parsed in 0.05s.\n",
      "@> 4216 atoms and 1 coordinate set(s) were parsed in 0.05s.\n",
      "@> 4222 atoms and 1 coordinate set(s) were parsed in 0.05s.\n",
      "@> 4254 atoms and 1 coordinate set(s) were parsed in 0.04s.\n",
      "@> 4237 atoms and 1 coordinate set(s) were parsed in 0.04s.\n",
      "@> 4199 atoms and 1 coordinate set(s) were parsed in 0.04s.\n",
      "@> 4348 atoms and 1 coordinate set(s) were parsed in 0.04s.\n",
      "@> 4329 atoms and 1 coordinate set(s) were parsed in 0.05s.\n",
      "@> 4419 atoms and 1 coordinate set(s) were parsed in 0.05s.\n",
      "@> 4383 atoms and 1 coordinate set(s) were parsed in 0.04s.\n",
      "@> 4389 atoms and 1 coordinate set(s) were parsed in 0.04s.\n",
      "@> 4422 atoms and 1 coordinate set(s) were parsed in 0.04s.\n",
      "@> 4685 atoms and 1 coordinate set(s) were parsed in 0.04s.\n",
      "@> 4677 atoms and 1 coordinate set(s) were parsed in 0.04s.\n",
      "@> 4665 atoms and 1 coordinate set(s) were parsed in 0.04s.\n",
      "@> 4646 atoms and 1 coordinate set(s) were parsed in 0.04s.\n",
      "@> 4615 atoms and 1 coordinate set(s) were parsed in 0.04s.\n",
      "@> 4618 atoms and 1 coordinate set(s) were parsed in 0.04s.\n",
      "@> 4167 atoms and 1 coordinate set(s) were parsed in 0.04s.\n",
      "@> 4328 atoms and 1 coordinate set(s) were parsed in 0.04s.\n",
      "@> 4179 atoms and 1 coordinate set(s) were parsed in 0.04s.\n",
      "@> 4369 atoms and 1 coordinate set(s) were parsed in 0.04s.\n",
      "@> 4413 atoms and 1 coordinate set(s) were parsed in 0.04s.\n",
      "@> 4455 atoms and 1 coordinate set(s) were parsed in 0.05s.\n",
      "@> 4300 atoms and 1 coordinate set(s) were parsed in 0.04s.\n",
      "@> 4308 atoms and 1 coordinate set(s) were parsed in 0.04s.\n",
      "@> 4334 atoms and 1 coordinate set(s) were parsed in 0.04s.\n",
      "@> 4300 atoms and 1 coordinate set(s) were parsed in 0.04s.\n",
      "@> 4318 atoms and 1 coordinate set(s) were parsed in 0.04s.\n",
      "@> 4288 atoms and 1 coordinate set(s) were parsed in 0.04s.\n",
      "@> 4333 atoms and 1 coordinate set(s) were parsed in 0.04s.\n",
      "@> 4623 atoms and 1 coordinate set(s) were parsed in 0.05s.\n"
     ]
    },
    {
     "name": "stderr",
     "output_type": "stream",
     "text": [
      "@> 4430 atoms and 1 coordinate set(s) were parsed in 0.04s.\n",
      "@> 4322 atoms and 1 coordinate set(s) were parsed in 0.04s.\n",
      "@> 4371 atoms and 1 coordinate set(s) were parsed in 0.04s.\n",
      "@> Results are saved in clusters_wb_.pdb.\n"
     ]
    }
   ],
   "source": [
    "findClusterCenters('wb_*.pdb', selection = 'resname HOH and name O')"
   ]
  },
  {
   "cell_type": "markdown",
   "metadata": {},
   "source": [
    "If we would like to use more restricted criteria to see more conserved water molecules across different protein structures, we can change the default parameters for ``distC`` and ``numC``. In the example below, we will use ``distC=0.2`` and ``numC=5``. It means that we are looking for at least 5 water molecules among our set of data that are localized with 0.2 Angstrom from each other."
   ]
  },
  {
   "cell_type": "code",
   "execution_count": 6,
   "metadata": {},
   "outputs": [
    {
     "name": "stderr",
     "output_type": "stream",
     "text": [
      "@> 4341 atoms and 1 coordinate set(s) were parsed in 0.13s.\n",
      "@> 4431 atoms and 1 coordinate set(s) were parsed in 0.05s.\n",
      "@> 4337 atoms and 1 coordinate set(s) were parsed in 0.05s.\n",
      "@> 4232 atoms and 1 coordinate set(s) were parsed in 0.04s.\n",
      "@> 4263 atoms and 1 coordinate set(s) were parsed in 0.05s.\n",
      "@> 4156 atoms and 1 coordinate set(s) were parsed in 0.04s.\n",
      "@> 4309 atoms and 1 coordinate set(s) were parsed in 0.05s.\n",
      "@> 4239 atoms and 1 coordinate set(s) were parsed in 0.04s.\n",
      "@> 4177 atoms and 1 coordinate set(s) were parsed in 0.04s.\n",
      "@> 4209 atoms and 1 coordinate set(s) were parsed in 0.04s.\n",
      "@> 4207 atoms and 1 coordinate set(s) were parsed in 0.04s.\n",
      "@> 4020 atoms and 1 coordinate set(s) were parsed in 0.04s.\n",
      "@> 4432 atoms and 1 coordinate set(s) were parsed in 0.05s.\n",
      "@> 4217 atoms and 1 coordinate set(s) were parsed in 0.04s.\n",
      "@> 4212 atoms and 1 coordinate set(s) were parsed in 0.04s.\n",
      "@> 4384 atoms and 1 coordinate set(s) were parsed in 0.05s.\n",
      "@> 4297 atoms and 1 coordinate set(s) were parsed in 0.05s.\n",
      "@> 4204 atoms and 1 coordinate set(s) were parsed in 0.04s.\n",
      "@> 4092 atoms and 1 coordinate set(s) were parsed in 0.04s.\n",
      "@> 4105 atoms and 1 coordinate set(s) were parsed in 0.04s.\n",
      "@> 4286 atoms and 1 coordinate set(s) were parsed in 0.05s.\n",
      "@> 4259 atoms and 1 coordinate set(s) were parsed in 0.04s.\n",
      "@> 4233 atoms and 1 coordinate set(s) were parsed in 0.05s.\n",
      "@> 4402 atoms and 1 coordinate set(s) were parsed in 0.05s.\n",
      "@> 3994 atoms and 1 coordinate set(s) were parsed in 0.04s.\n",
      "@> 4340 atoms and 1 coordinate set(s) were parsed in 0.04s.\n",
      "@> 4157 atoms and 1 coordinate set(s) were parsed in 0.04s.\n",
      "@> 4453 atoms and 1 coordinate set(s) were parsed in 0.05s.\n",
      "@> 4375 atoms and 1 coordinate set(s) were parsed in 0.05s.\n",
      "@> 4339 atoms and 1 coordinate set(s) were parsed in 0.05s.\n",
      "@> 4208 atoms and 1 coordinate set(s) were parsed in 0.04s.\n",
      "@> 4250 atoms and 1 coordinate set(s) were parsed in 0.04s.\n",
      "@> 4199 atoms and 1 coordinate set(s) were parsed in 0.04s.\n",
      "@> 4101 atoms and 1 coordinate set(s) were parsed in 0.04s.\n",
      "@> 4110 atoms and 1 coordinate set(s) were parsed in 0.04s.\n",
      "@> 4327 atoms and 1 coordinate set(s) were parsed in 0.05s.\n",
      "@> 4443 atoms and 1 coordinate set(s) were parsed in 0.04s.\n",
      "@> 4427 atoms and 1 coordinate set(s) were parsed in 0.04s.\n",
      "@> 4354 atoms and 1 coordinate set(s) were parsed in 0.04s.\n",
      "@> 4425 atoms and 1 coordinate set(s) were parsed in 0.04s.\n",
      "@> 4354 atoms and 1 coordinate set(s) were parsed in 0.04s.\n",
      "@> 4327 atoms and 1 coordinate set(s) were parsed in 0.05s.\n",
      "@> 4373 atoms and 1 coordinate set(s) were parsed in 0.05s.\n",
      "@> 4366 atoms and 1 coordinate set(s) were parsed in 0.05s.\n",
      "@> 4443 atoms and 1 coordinate set(s) were parsed in 0.05s.\n",
      "@> 4347 atoms and 1 coordinate set(s) were parsed in 0.05s.\n",
      "@> 4104 atoms and 1 coordinate set(s) were parsed in 0.04s.\n",
      "@> 4130 atoms and 1 coordinate set(s) were parsed in 0.04s.\n",
      "@> 4347 atoms and 1 coordinate set(s) were parsed in 0.05s.\n",
      "@> 4356 atoms and 1 coordinate set(s) were parsed in 0.05s.\n",
      "@> 4386 atoms and 1 coordinate set(s) were parsed in 0.04s.\n",
      "@> 4464 atoms and 1 coordinate set(s) were parsed in 0.04s.\n",
      "@> 4354 atoms and 1 coordinate set(s) were parsed in 0.04s.\n",
      "@> 4376 atoms and 1 coordinate set(s) were parsed in 0.04s.\n",
      "@> 4534 atoms and 1 coordinate set(s) were parsed in 0.05s.\n",
      "@> 4482 atoms and 1 coordinate set(s) were parsed in 0.04s.\n",
      "@> 4400 atoms and 1 coordinate set(s) were parsed in 0.05s.\n",
      "@> 4400 atoms and 1 coordinate set(s) were parsed in 0.04s.\n",
      "@> 4233 atoms and 1 coordinate set(s) were parsed in 0.04s.\n",
      "@> 4252 atoms and 1 coordinate set(s) were parsed in 0.04s.\n",
      "@> 4373 atoms and 1 coordinate set(s) were parsed in 0.04s.\n",
      "@> 4283 atoms and 1 coordinate set(s) were parsed in 0.04s.\n",
      "@> 4282 atoms and 1 coordinate set(s) were parsed in 0.04s.\n",
      "@> 4190 atoms and 1 coordinate set(s) were parsed in 0.04s.\n",
      "@> 4255 atoms and 1 coordinate set(s) were parsed in 0.04s.\n",
      "@> 4158 atoms and 1 coordinate set(s) were parsed in 0.04s.\n",
      "@> 4504 atoms and 1 coordinate set(s) were parsed in 0.05s.\n",
      "@> 4436 atoms and 1 coordinate set(s) were parsed in 0.05s.\n",
      "@> 4238 atoms and 1 coordinate set(s) were parsed in 0.05s.\n",
      "@> 4232 atoms and 1 coordinate set(s) were parsed in 0.04s.\n",
      "@> 4241 atoms and 1 coordinate set(s) were parsed in 0.04s.\n",
      "@> 4290 atoms and 1 coordinate set(s) were parsed in 0.04s.\n",
      "@> 4382 atoms and 1 coordinate set(s) were parsed in 0.04s.\n",
      "@> 4318 atoms and 1 coordinate set(s) were parsed in 0.04s.\n",
      "@> 4424 atoms and 1 coordinate set(s) were parsed in 0.05s.\n",
      "@> 4436 atoms and 1 coordinate set(s) were parsed in 0.05s.\n",
      "@> 4258 atoms and 1 coordinate set(s) were parsed in 0.05s.\n",
      "@> 4463 atoms and 1 coordinate set(s) were parsed in 0.05s.\n",
      "@> 4430 atoms and 1 coordinate set(s) were parsed in 0.05s.\n",
      "@> 4439 atoms and 1 coordinate set(s) were parsed in 0.05s.\n",
      "@> 4224 atoms and 1 coordinate set(s) were parsed in 0.05s.\n",
      "@> 4303 atoms and 1 coordinate set(s) were parsed in 0.05s.\n",
      "@> 4238 atoms and 1 coordinate set(s) were parsed in 0.05s.\n",
      "@> 4437 atoms and 1 coordinate set(s) were parsed in 0.05s.\n",
      "@> 4377 atoms and 1 coordinate set(s) were parsed in 0.04s.\n",
      "@> 4377 atoms and 1 coordinate set(s) were parsed in 0.04s.\n",
      "@> 4398 atoms and 1 coordinate set(s) were parsed in 0.04s.\n",
      "@> 4410 atoms and 1 coordinate set(s) were parsed in 0.05s.\n",
      "@> 4395 atoms and 1 coordinate set(s) were parsed in 0.05s.\n",
      "@> 4383 atoms and 1 coordinate set(s) were parsed in 0.05s.\n",
      "@> 4416 atoms and 1 coordinate set(s) were parsed in 0.05s.\n",
      "@> 4407 atoms and 1 coordinate set(s) were parsed in 0.05s.\n",
      "@> 4434 atoms and 1 coordinate set(s) were parsed in 0.05s.\n",
      "@> 4389 atoms and 1 coordinate set(s) were parsed in 0.05s.\n",
      "@> 4413 atoms and 1 coordinate set(s) were parsed in 0.05s.\n",
      "@> 4401 atoms and 1 coordinate set(s) were parsed in 0.04s.\n",
      "@> 4410 atoms and 1 coordinate set(s) were parsed in 0.04s.\n",
      "@> 4321 atoms and 1 coordinate set(s) were parsed in 0.05s.\n",
      "@> 4425 atoms and 1 coordinate set(s) were parsed in 0.04s.\n",
      "@> 4434 atoms and 1 coordinate set(s) were parsed in 0.04s.\n",
      "@> 4473 atoms and 1 coordinate set(s) were parsed in 0.04s.\n",
      "@> 4374 atoms and 1 coordinate set(s) were parsed in 0.04s.\n",
      "@> 4462 atoms and 1 coordinate set(s) were parsed in 0.04s.\n",
      "@> 4407 atoms and 1 coordinate set(s) were parsed in 0.04s.\n",
      "@> 4407 atoms and 1 coordinate set(s) were parsed in 0.04s.\n",
      "@> 4175 atoms and 1 coordinate set(s) were parsed in 0.04s.\n",
      "@> 4216 atoms and 1 coordinate set(s) were parsed in 0.04s.\n",
      "@> 4222 atoms and 1 coordinate set(s) were parsed in 0.04s.\n",
      "@> 4254 atoms and 1 coordinate set(s) were parsed in 0.04s.\n",
      "@> 4237 atoms and 1 coordinate set(s) were parsed in 0.04s.\n",
      "@> 4199 atoms and 1 coordinate set(s) were parsed in 0.04s.\n",
      "@> 4348 atoms and 1 coordinate set(s) were parsed in 0.04s.\n",
      "@> 4329 atoms and 1 coordinate set(s) were parsed in 0.04s.\n",
      "@> 4419 atoms and 1 coordinate set(s) were parsed in 0.04s.\n",
      "@> 4383 atoms and 1 coordinate set(s) were parsed in 0.04s.\n",
      "@> 4389 atoms and 1 coordinate set(s) were parsed in 0.04s.\n",
      "@> 4422 atoms and 1 coordinate set(s) were parsed in 0.04s.\n",
      "@> 4685 atoms and 1 coordinate set(s) were parsed in 0.04s.\n",
      "@> 4677 atoms and 1 coordinate set(s) were parsed in 0.04s.\n",
      "@> 4665 atoms and 1 coordinate set(s) were parsed in 0.04s.\n",
      "@> 4646 atoms and 1 coordinate set(s) were parsed in 0.04s.\n",
      "@> 4615 atoms and 1 coordinate set(s) were parsed in 0.04s.\n",
      "@> 4618 atoms and 1 coordinate set(s) were parsed in 0.04s.\n",
      "@> 4167 atoms and 1 coordinate set(s) were parsed in 0.04s.\n",
      "@> 4328 atoms and 1 coordinate set(s) were parsed in 0.04s.\n",
      "@> 4179 atoms and 1 coordinate set(s) were parsed in 0.04s.\n",
      "@> 4369 atoms and 1 coordinate set(s) were parsed in 0.04s.\n",
      "@> 4413 atoms and 1 coordinate set(s) were parsed in 0.04s.\n",
      "@> 4455 atoms and 1 coordinate set(s) were parsed in 0.04s.\n",
      "@> 4300 atoms and 1 coordinate set(s) were parsed in 0.04s.\n",
      "@> 4308 atoms and 1 coordinate set(s) were parsed in 0.04s.\n",
      "@> 4334 atoms and 1 coordinate set(s) were parsed in 0.04s.\n",
      "@> 4300 atoms and 1 coordinate set(s) were parsed in 0.04s.\n",
      "@> 4318 atoms and 1 coordinate set(s) were parsed in 0.04s.\n",
      "@> 4288 atoms and 1 coordinate set(s) were parsed in 0.04s.\n",
      "@> 4333 atoms and 1 coordinate set(s) were parsed in 0.04s.\n",
      "@> 4623 atoms and 1 coordinate set(s) were parsed in 0.05s.\n"
     ]
    },
    {
     "name": "stderr",
     "output_type": "stream",
     "text": [
      "@> 4430 atoms and 1 coordinate set(s) were parsed in 0.04s.\n",
      "@> 4322 atoms and 1 coordinate set(s) were parsed in 0.04s.\n",
      "@> 4371 atoms and 1 coordinate set(s) were parsed in 0.04s.\n",
      "@> Results are saved in clusters_wb_.pdb.\n"
     ]
    }
   ],
   "source": [
    "findClusterCenters('wb_*.pdb', selection = 'resname HOH and name O', distC=0.2, numC=5)"
   ]
  },
  {
   "cell_type": "markdown",
   "metadata": {},
   "source": [
    "We can increase the number of molecules to 10 to see which places are especially important for water bridging."
   ]
  },
  {
   "cell_type": "code",
   "execution_count": 7,
   "metadata": {},
   "outputs": [
    {
     "name": "stderr",
     "output_type": "stream",
     "text": [
      "@> 4341 atoms and 1 coordinate set(s) were parsed in 0.12s.\n",
      "@> 4431 atoms and 1 coordinate set(s) were parsed in 0.05s.\n",
      "@> 4337 atoms and 1 coordinate set(s) were parsed in 0.05s.\n",
      "@> 4232 atoms and 1 coordinate set(s) were parsed in 0.04s.\n",
      "@> 4263 atoms and 1 coordinate set(s) were parsed in 0.04s.\n",
      "@> 4156 atoms and 1 coordinate set(s) were parsed in 0.04s.\n",
      "@> 4309 atoms and 1 coordinate set(s) were parsed in 0.04s.\n",
      "@> 4239 atoms and 1 coordinate set(s) were parsed in 0.04s.\n",
      "@> 4177 atoms and 1 coordinate set(s) were parsed in 0.04s.\n",
      "@> 4209 atoms and 1 coordinate set(s) were parsed in 0.04s.\n",
      "@> 4207 atoms and 1 coordinate set(s) were parsed in 0.04s.\n",
      "@> 4020 atoms and 1 coordinate set(s) were parsed in 0.04s.\n",
      "@> 4432 atoms and 1 coordinate set(s) were parsed in 0.05s.\n",
      "@> 4217 atoms and 1 coordinate set(s) were parsed in 0.04s.\n",
      "@> 4212 atoms and 1 coordinate set(s) were parsed in 0.04s.\n",
      "@> 4384 atoms and 1 coordinate set(s) were parsed in 0.05s.\n",
      "@> 4297 atoms and 1 coordinate set(s) were parsed in 0.04s.\n",
      "@> 4204 atoms and 1 coordinate set(s) were parsed in 0.04s.\n",
      "@> 4092 atoms and 1 coordinate set(s) were parsed in 0.04s.\n",
      "@> 4105 atoms and 1 coordinate set(s) were parsed in 0.04s.\n",
      "@> 4286 atoms and 1 coordinate set(s) were parsed in 0.04s.\n",
      "@> 4259 atoms and 1 coordinate set(s) were parsed in 0.04s.\n",
      "@> 4233 atoms and 1 coordinate set(s) were parsed in 0.04s.\n",
      "@> 4402 atoms and 1 coordinate set(s) were parsed in 0.05s.\n",
      "@> 3994 atoms and 1 coordinate set(s) were parsed in 0.04s.\n",
      "@> 4340 atoms and 1 coordinate set(s) were parsed in 0.04s.\n",
      "@> 4157 atoms and 1 coordinate set(s) were parsed in 0.04s.\n",
      "@> 4453 atoms and 1 coordinate set(s) were parsed in 0.05s.\n",
      "@> 4375 atoms and 1 coordinate set(s) were parsed in 0.04s.\n",
      "@> 4339 atoms and 1 coordinate set(s) were parsed in 0.04s.\n",
      "@> 4208 atoms and 1 coordinate set(s) were parsed in 0.04s.\n",
      "@> 4250 atoms and 1 coordinate set(s) were parsed in 0.04s.\n",
      "@> 4199 atoms and 1 coordinate set(s) were parsed in 0.04s.\n",
      "@> 4101 atoms and 1 coordinate set(s) were parsed in 0.04s.\n",
      "@> 4110 atoms and 1 coordinate set(s) were parsed in 0.04s.\n",
      "@> 4327 atoms and 1 coordinate set(s) were parsed in 0.04s.\n",
      "@> 4443 atoms and 1 coordinate set(s) were parsed in 0.04s.\n",
      "@> 4427 atoms and 1 coordinate set(s) were parsed in 0.04s.\n",
      "@> 4354 atoms and 1 coordinate set(s) were parsed in 0.04s.\n",
      "@> 4425 atoms and 1 coordinate set(s) were parsed in 0.04s.\n",
      "@> 4354 atoms and 1 coordinate set(s) were parsed in 0.04s.\n",
      "@> 4327 atoms and 1 coordinate set(s) were parsed in 0.04s.\n",
      "@> 4373 atoms and 1 coordinate set(s) were parsed in 0.04s.\n",
      "@> 4366 atoms and 1 coordinate set(s) were parsed in 0.04s.\n",
      "@> 4443 atoms and 1 coordinate set(s) were parsed in 0.04s.\n",
      "@> 4347 atoms and 1 coordinate set(s) were parsed in 0.04s.\n",
      "@> 4104 atoms and 1 coordinate set(s) were parsed in 0.04s.\n",
      "@> 4130 atoms and 1 coordinate set(s) were parsed in 0.04s.\n",
      "@> 4347 atoms and 1 coordinate set(s) were parsed in 0.04s.\n",
      "@> 4356 atoms and 1 coordinate set(s) were parsed in 0.04s.\n",
      "@> 4386 atoms and 1 coordinate set(s) were parsed in 0.05s.\n",
      "@> 4464 atoms and 1 coordinate set(s) were parsed in 0.05s.\n",
      "@> 4354 atoms and 1 coordinate set(s) were parsed in 0.05s.\n",
      "@> 4376 atoms and 1 coordinate set(s) were parsed in 0.05s.\n",
      "@> 4534 atoms and 1 coordinate set(s) were parsed in 0.05s.\n",
      "@> 4482 atoms and 1 coordinate set(s) were parsed in 0.05s.\n",
      "@> 4400 atoms and 1 coordinate set(s) were parsed in 0.05s.\n",
      "@> 4400 atoms and 1 coordinate set(s) were parsed in 0.05s.\n",
      "@> 4233 atoms and 1 coordinate set(s) were parsed in 0.05s.\n",
      "@> 4252 atoms and 1 coordinate set(s) were parsed in 0.05s.\n",
      "@> 4373 atoms and 1 coordinate set(s) were parsed in 0.05s.\n",
      "@> 4283 atoms and 1 coordinate set(s) were parsed in 0.05s.\n",
      "@> 4282 atoms and 1 coordinate set(s) were parsed in 0.05s.\n",
      "@> 4190 atoms and 1 coordinate set(s) were parsed in 0.04s.\n",
      "@> 4255 atoms and 1 coordinate set(s) were parsed in 0.04s.\n",
      "@> 4158 atoms and 1 coordinate set(s) were parsed in 0.04s.\n",
      "@> 4504 atoms and 1 coordinate set(s) were parsed in 0.05s.\n",
      "@> 4436 atoms and 1 coordinate set(s) were parsed in 0.05s.\n",
      "@> 4238 atoms and 1 coordinate set(s) were parsed in 0.04s.\n",
      "@> 4232 atoms and 1 coordinate set(s) were parsed in 0.04s.\n",
      "@> 4241 atoms and 1 coordinate set(s) were parsed in 0.04s.\n",
      "@> 4290 atoms and 1 coordinate set(s) were parsed in 0.04s.\n",
      "@> 4382 atoms and 1 coordinate set(s) were parsed in 0.04s.\n",
      "@> 4318 atoms and 1 coordinate set(s) were parsed in 0.04s.\n",
      "@> 4424 atoms and 1 coordinate set(s) were parsed in 0.04s.\n",
      "@> 4436 atoms and 1 coordinate set(s) were parsed in 0.04s.\n",
      "@> 4258 atoms and 1 coordinate set(s) were parsed in 0.04s.\n",
      "@> 4463 atoms and 1 coordinate set(s) were parsed in 0.04s.\n",
      "@> 4430 atoms and 1 coordinate set(s) were parsed in 0.04s.\n",
      "@> 4439 atoms and 1 coordinate set(s) were parsed in 0.04s.\n",
      "@> 4224 atoms and 1 coordinate set(s) were parsed in 0.04s.\n",
      "@> 4303 atoms and 1 coordinate set(s) were parsed in 0.04s.\n",
      "@> 4238 atoms and 1 coordinate set(s) were parsed in 0.04s.\n",
      "@> 4437 atoms and 1 coordinate set(s) were parsed in 0.04s.\n",
      "@> 4377 atoms and 1 coordinate set(s) were parsed in 0.04s.\n",
      "@> 4377 atoms and 1 coordinate set(s) were parsed in 0.04s.\n",
      "@> 4398 atoms and 1 coordinate set(s) were parsed in 0.04s.\n",
      "@> 4410 atoms and 1 coordinate set(s) were parsed in 0.04s.\n",
      "@> 4395 atoms and 1 coordinate set(s) were parsed in 0.04s.\n",
      "@> 4383 atoms and 1 coordinate set(s) were parsed in 0.04s.\n",
      "@> 4416 atoms and 1 coordinate set(s) were parsed in 0.04s.\n",
      "@> 4407 atoms and 1 coordinate set(s) were parsed in 0.04s.\n",
      "@> 4434 atoms and 1 coordinate set(s) were parsed in 0.04s.\n",
      "@> 4389 atoms and 1 coordinate set(s) were parsed in 0.04s.\n",
      "@> 4413 atoms and 1 coordinate set(s) were parsed in 0.04s.\n",
      "@> 4401 atoms and 1 coordinate set(s) were parsed in 0.04s.\n",
      "@> 4410 atoms and 1 coordinate set(s) were parsed in 0.04s.\n",
      "@> 4321 atoms and 1 coordinate set(s) were parsed in 0.04s.\n",
      "@> 4425 atoms and 1 coordinate set(s) were parsed in 0.04s.\n",
      "@> 4434 atoms and 1 coordinate set(s) were parsed in 0.05s.\n",
      "@> 4473 atoms and 1 coordinate set(s) were parsed in 0.05s.\n",
      "@> 4374 atoms and 1 coordinate set(s) were parsed in 0.04s.\n",
      "@> 4462 atoms and 1 coordinate set(s) were parsed in 0.04s.\n",
      "@> 4407 atoms and 1 coordinate set(s) were parsed in 0.04s.\n",
      "@> 4407 atoms and 1 coordinate set(s) were parsed in 0.04s.\n",
      "@> 4175 atoms and 1 coordinate set(s) were parsed in 0.04s.\n",
      "@> 4216 atoms and 1 coordinate set(s) were parsed in 0.04s.\n",
      "@> 4222 atoms and 1 coordinate set(s) were parsed in 0.04s.\n",
      "@> 4254 atoms and 1 coordinate set(s) were parsed in 0.04s.\n",
      "@> 4237 atoms and 1 coordinate set(s) were parsed in 0.04s.\n",
      "@> 4199 atoms and 1 coordinate set(s) were parsed in 0.04s.\n",
      "@> 4348 atoms and 1 coordinate set(s) were parsed in 0.04s.\n",
      "@> 4329 atoms and 1 coordinate set(s) were parsed in 0.04s.\n",
      "@> 4419 atoms and 1 coordinate set(s) were parsed in 0.04s.\n",
      "@> 4383 atoms and 1 coordinate set(s) were parsed in 0.04s.\n",
      "@> 4389 atoms and 1 coordinate set(s) were parsed in 0.04s.\n",
      "@> 4422 atoms and 1 coordinate set(s) were parsed in 0.04s.\n",
      "@> 4685 atoms and 1 coordinate set(s) were parsed in 0.04s.\n",
      "@> 4677 atoms and 1 coordinate set(s) were parsed in 0.04s.\n",
      "@> 4665 atoms and 1 coordinate set(s) were parsed in 0.04s.\n",
      "@> 4646 atoms and 1 coordinate set(s) were parsed in 0.04s.\n",
      "@> 4615 atoms and 1 coordinate set(s) were parsed in 0.04s.\n",
      "@> 4618 atoms and 1 coordinate set(s) were parsed in 0.04s.\n",
      "@> 4167 atoms and 1 coordinate set(s) were parsed in 0.04s.\n",
      "@> 4328 atoms and 1 coordinate set(s) were parsed in 0.04s.\n",
      "@> 4179 atoms and 1 coordinate set(s) were parsed in 0.04s.\n",
      "@> 4369 atoms and 1 coordinate set(s) were parsed in 0.04s.\n",
      "@> 4413 atoms and 1 coordinate set(s) were parsed in 0.04s.\n",
      "@> 4455 atoms and 1 coordinate set(s) were parsed in 0.04s.\n",
      "@> 4300 atoms and 1 coordinate set(s) were parsed in 0.04s.\n",
      "@> 4308 atoms and 1 coordinate set(s) were parsed in 0.04s.\n",
      "@> 4334 atoms and 1 coordinate set(s) were parsed in 0.04s.\n",
      "@> 4300 atoms and 1 coordinate set(s) were parsed in 0.04s.\n",
      "@> 4318 atoms and 1 coordinate set(s) were parsed in 0.04s.\n",
      "@> 4288 atoms and 1 coordinate set(s) were parsed in 0.04s.\n",
      "@> 4333 atoms and 1 coordinate set(s) were parsed in 0.04s.\n",
      "@> 4623 atoms and 1 coordinate set(s) were parsed in 0.04s.\n"
     ]
    },
    {
     "name": "stderr",
     "output_type": "stream",
     "text": [
      "@> 4430 atoms and 1 coordinate set(s) were parsed in 0.04s.\n",
      "@> 4322 atoms and 1 coordinate set(s) were parsed in 0.04s.\n",
      "@> 4371 atoms and 1 coordinate set(s) were parsed in 0.04s.\n",
      "@> Results are saved in clusters_wb_.pdb.\n"
     ]
    }
   ],
   "source": [
    "findClusterCenters('wb_*.pdb', selection = 'resname HOH and name O', distC=0.2, numC=10)"
   ]
  },
  {
   "cell_type": "code",
   "execution_count": 8,
   "metadata": {},
   "outputs": [
    {
     "name": "stderr",
     "output_type": "stream",
     "text": [
      "@> 4341 atoms and 1 coordinate set(s) were parsed in 0.12s.\n",
      "@> 4431 atoms and 1 coordinate set(s) were parsed in 0.05s.\n",
      "@> 4337 atoms and 1 coordinate set(s) were parsed in 0.04s.\n",
      "@> 4232 atoms and 1 coordinate set(s) were parsed in 0.05s.\n",
      "@> 4263 atoms and 1 coordinate set(s) were parsed in 0.05s.\n",
      "@> 4156 atoms and 1 coordinate set(s) were parsed in 0.05s.\n",
      "@> 4309 atoms and 1 coordinate set(s) were parsed in 0.05s.\n",
      "@> 4239 atoms and 1 coordinate set(s) were parsed in 0.05s.\n",
      "@> 4177 atoms and 1 coordinate set(s) were parsed in 0.05s.\n",
      "@> 4209 atoms and 1 coordinate set(s) were parsed in 0.05s.\n",
      "@> 4207 atoms and 1 coordinate set(s) were parsed in 0.05s.\n",
      "@> 4020 atoms and 1 coordinate set(s) were parsed in 0.04s.\n",
      "@> 4432 atoms and 1 coordinate set(s) were parsed in 0.05s.\n",
      "@> 4217 atoms and 1 coordinate set(s) were parsed in 0.05s.\n",
      "@> 4212 atoms and 1 coordinate set(s) were parsed in 0.05s.\n",
      "@> 4384 atoms and 1 coordinate set(s) were parsed in 0.05s.\n",
      "@> 4297 atoms and 1 coordinate set(s) were parsed in 0.05s.\n",
      "@> 4204 atoms and 1 coordinate set(s) were parsed in 0.05s.\n",
      "@> 4092 atoms and 1 coordinate set(s) were parsed in 0.04s.\n",
      "@> 4105 atoms and 1 coordinate set(s) were parsed in 0.05s.\n",
      "@> 4286 atoms and 1 coordinate set(s) were parsed in 0.05s.\n",
      "@> 4259 atoms and 1 coordinate set(s) were parsed in 0.05s.\n",
      "@> 4233 atoms and 1 coordinate set(s) were parsed in 0.05s.\n",
      "@> 4402 atoms and 1 coordinate set(s) were parsed in 0.05s.\n",
      "@> 3994 atoms and 1 coordinate set(s) were parsed in 0.04s.\n",
      "@> 4340 atoms and 1 coordinate set(s) were parsed in 0.05s.\n",
      "@> 4157 atoms and 1 coordinate set(s) were parsed in 0.04s.\n",
      "@> 4453 atoms and 1 coordinate set(s) were parsed in 0.05s.\n",
      "@> 4375 atoms and 1 coordinate set(s) were parsed in 0.05s.\n",
      "@> 4339 atoms and 1 coordinate set(s) were parsed in 0.05s.\n",
      "@> 4208 atoms and 1 coordinate set(s) were parsed in 0.05s.\n",
      "@> 4250 atoms and 1 coordinate set(s) were parsed in 0.05s.\n",
      "@> 4199 atoms and 1 coordinate set(s) were parsed in 0.05s.\n",
      "@> 4101 atoms and 1 coordinate set(s) were parsed in 0.05s.\n",
      "@> 4110 atoms and 1 coordinate set(s) were parsed in 0.05s.\n",
      "@> 4327 atoms and 1 coordinate set(s) were parsed in 0.05s.\n",
      "@> 4443 atoms and 1 coordinate set(s) were parsed in 0.05s.\n",
      "@> 4427 atoms and 1 coordinate set(s) were parsed in 0.05s.\n",
      "@> 4354 atoms and 1 coordinate set(s) were parsed in 0.05s.\n",
      "@> 4425 atoms and 1 coordinate set(s) were parsed in 0.05s.\n",
      "@> 4354 atoms and 1 coordinate set(s) were parsed in 0.05s.\n",
      "@> 4327 atoms and 1 coordinate set(s) were parsed in 0.05s.\n",
      "@> 4373 atoms and 1 coordinate set(s) were parsed in 0.05s.\n",
      "@> 4366 atoms and 1 coordinate set(s) were parsed in 0.05s.\n",
      "@> 4443 atoms and 1 coordinate set(s) were parsed in 0.05s.\n",
      "@> 4347 atoms and 1 coordinate set(s) were parsed in 0.05s.\n",
      "@> 4104 atoms and 1 coordinate set(s) were parsed in 0.04s.\n",
      "@> 4130 atoms and 1 coordinate set(s) were parsed in 0.04s.\n",
      "@> 4347 atoms and 1 coordinate set(s) were parsed in 0.05s.\n",
      "@> 4356 atoms and 1 coordinate set(s) were parsed in 0.05s.\n",
      "@> 4386 atoms and 1 coordinate set(s) were parsed in 0.05s.\n",
      "@> 4464 atoms and 1 coordinate set(s) were parsed in 0.05s.\n",
      "@> 4354 atoms and 1 coordinate set(s) were parsed in 0.05s.\n",
      "@> 4376 atoms and 1 coordinate set(s) were parsed in 0.05s.\n",
      "@> 4534 atoms and 1 coordinate set(s) were parsed in 0.05s.\n",
      "@> 4482 atoms and 1 coordinate set(s) were parsed in 0.05s.\n",
      "@> 4400 atoms and 1 coordinate set(s) were parsed in 0.05s.\n",
      "@> 4400 atoms and 1 coordinate set(s) were parsed in 0.05s.\n",
      "@> 4233 atoms and 1 coordinate set(s) were parsed in 0.04s.\n",
      "@> 4252 atoms and 1 coordinate set(s) were parsed in 0.04s.\n",
      "@> 4373 atoms and 1 coordinate set(s) were parsed in 0.04s.\n",
      "@> 4283 atoms and 1 coordinate set(s) were parsed in 0.04s.\n",
      "@> 4282 atoms and 1 coordinate set(s) were parsed in 0.05s.\n",
      "@> 4190 atoms and 1 coordinate set(s) were parsed in 0.05s.\n",
      "@> 4255 atoms and 1 coordinate set(s) were parsed in 0.04s.\n",
      "@> 4158 atoms and 1 coordinate set(s) were parsed in 0.04s.\n",
      "@> 4504 atoms and 1 coordinate set(s) were parsed in 0.05s.\n",
      "@> 4436 atoms and 1 coordinate set(s) were parsed in 0.05s.\n",
      "@> 4238 atoms and 1 coordinate set(s) were parsed in 0.04s.\n",
      "@> 4232 atoms and 1 coordinate set(s) were parsed in 0.04s.\n",
      "@> 4241 atoms and 1 coordinate set(s) were parsed in 0.04s.\n",
      "@> 4290 atoms and 1 coordinate set(s) were parsed in 0.04s.\n",
      "@> 4382 atoms and 1 coordinate set(s) were parsed in 0.05s.\n",
      "@> 4318 atoms and 1 coordinate set(s) were parsed in 0.05s.\n",
      "@> 4424 atoms and 1 coordinate set(s) were parsed in 0.05s.\n",
      "@> 4436 atoms and 1 coordinate set(s) were parsed in 0.05s.\n",
      "@> 4258 atoms and 1 coordinate set(s) were parsed in 0.04s.\n",
      "@> 4463 atoms and 1 coordinate set(s) were parsed in 0.05s.\n",
      "@> 4430 atoms and 1 coordinate set(s) were parsed in 0.05s.\n",
      "@> 4439 atoms and 1 coordinate set(s) were parsed in 0.05s.\n",
      "@> 4224 atoms and 1 coordinate set(s) were parsed in 0.04s.\n",
      "@> 4303 atoms and 1 coordinate set(s) were parsed in 0.04s.\n",
      "@> 4238 atoms and 1 coordinate set(s) were parsed in 0.04s.\n",
      "@> 4437 atoms and 1 coordinate set(s) were parsed in 0.05s.\n",
      "@> 4377 atoms and 1 coordinate set(s) were parsed in 0.04s.\n",
      "@> 4377 atoms and 1 coordinate set(s) were parsed in 0.04s.\n",
      "@> 4398 atoms and 1 coordinate set(s) were parsed in 0.05s.\n",
      "@> 4410 atoms and 1 coordinate set(s) were parsed in 0.05s.\n",
      "@> 4395 atoms and 1 coordinate set(s) were parsed in 0.04s.\n",
      "@> 4383 atoms and 1 coordinate set(s) were parsed in 0.04s.\n",
      "@> 4416 atoms and 1 coordinate set(s) were parsed in 0.05s.\n",
      "@> 4407 atoms and 1 coordinate set(s) were parsed in 0.05s.\n",
      "@> 4434 atoms and 1 coordinate set(s) were parsed in 0.04s.\n",
      "@> 4389 atoms and 1 coordinate set(s) were parsed in 0.04s.\n",
      "@> 4413 atoms and 1 coordinate set(s) were parsed in 0.05s.\n",
      "@> 4401 atoms and 1 coordinate set(s) were parsed in 0.05s.\n",
      "@> 4410 atoms and 1 coordinate set(s) were parsed in 0.05s.\n",
      "@> 4321 atoms and 1 coordinate set(s) were parsed in 0.04s.\n",
      "@> 4425 atoms and 1 coordinate set(s) were parsed in 0.05s.\n",
      "@> 4434 atoms and 1 coordinate set(s) were parsed in 0.04s.\n",
      "@> 4473 atoms and 1 coordinate set(s) were parsed in 0.05s.\n",
      "@> 4374 atoms and 1 coordinate set(s) were parsed in 0.04s.\n",
      "@> 4462 atoms and 1 coordinate set(s) were parsed in 0.04s.\n",
      "@> 4407 atoms and 1 coordinate set(s) were parsed in 0.04s.\n",
      "@> 4407 atoms and 1 coordinate set(s) were parsed in 0.04s.\n",
      "@> 4175 atoms and 1 coordinate set(s) were parsed in 0.04s.\n",
      "@> 4216 atoms and 1 coordinate set(s) were parsed in 0.05s.\n",
      "@> 4222 atoms and 1 coordinate set(s) were parsed in 0.04s.\n",
      "@> 4254 atoms and 1 coordinate set(s) were parsed in 0.04s.\n",
      "@> 4237 atoms and 1 coordinate set(s) were parsed in 0.04s.\n",
      "@> 4199 atoms and 1 coordinate set(s) were parsed in 0.04s.\n",
      "@> 4348 atoms and 1 coordinate set(s) were parsed in 0.04s.\n",
      "@> 4329 atoms and 1 coordinate set(s) were parsed in 0.04s.\n",
      "@> 4419 atoms and 1 coordinate set(s) were parsed in 0.04s.\n",
      "@> 4383 atoms and 1 coordinate set(s) were parsed in 0.04s.\n",
      "@> 4389 atoms and 1 coordinate set(s) were parsed in 0.04s.\n",
      "@> 4422 atoms and 1 coordinate set(s) were parsed in 0.04s.\n",
      "@> 4685 atoms and 1 coordinate set(s) were parsed in 0.04s.\n",
      "@> 4677 atoms and 1 coordinate set(s) were parsed in 0.04s.\n",
      "@> 4665 atoms and 1 coordinate set(s) were parsed in 0.04s.\n",
      "@> 4646 atoms and 1 coordinate set(s) were parsed in 0.04s.\n",
      "@> 4615 atoms and 1 coordinate set(s) were parsed in 0.04s.\n",
      "@> 4618 atoms and 1 coordinate set(s) were parsed in 0.04s.\n",
      "@> 4167 atoms and 1 coordinate set(s) were parsed in 0.04s.\n",
      "@> 4328 atoms and 1 coordinate set(s) were parsed in 0.04s.\n",
      "@> 4179 atoms and 1 coordinate set(s) were parsed in 0.04s.\n",
      "@> 4369 atoms and 1 coordinate set(s) were parsed in 0.04s.\n",
      "@> 4413 atoms and 1 coordinate set(s) were parsed in 0.04s.\n",
      "@> 4455 atoms and 1 coordinate set(s) were parsed in 0.04s.\n",
      "@> 4300 atoms and 1 coordinate set(s) were parsed in 0.04s.\n",
      "@> 4308 atoms and 1 coordinate set(s) were parsed in 0.04s.\n",
      "@> 4334 atoms and 1 coordinate set(s) were parsed in 0.04s.\n",
      "@> 4300 atoms and 1 coordinate set(s) were parsed in 0.04s.\n",
      "@> 4318 atoms and 1 coordinate set(s) were parsed in 0.04s.\n",
      "@> 4288 atoms and 1 coordinate set(s) were parsed in 0.04s.\n",
      "@> 4333 atoms and 1 coordinate set(s) were parsed in 0.04s.\n",
      "@> 4623 atoms and 1 coordinate set(s) were parsed in 0.04s.\n"
     ]
    },
    {
     "name": "stderr",
     "output_type": "stream",
     "text": [
      "@> 4430 atoms and 1 coordinate set(s) were parsed in 0.04s.\n",
      "@> 4322 atoms and 1 coordinate set(s) were parsed in 0.04s.\n",
      "@> 4371 atoms and 1 coordinate set(s) were parsed in 0.04s.\n",
      "@> Results are saved in clusters_wb_.pdb.\n"
     ]
    }
   ],
   "source": [
    "findClusterCenters('wb_*.pdb', selection = 'resname HOH and name O', distC=0.3, numC=10)"
   ]
  },
  {
   "cell_type": "code",
   "execution_count": 9,
   "metadata": {},
   "outputs": [
    {
     "name": "stderr",
     "output_type": "stream",
     "text": [
      "@> 4341 atoms and 1 coordinate set(s) were parsed in 0.11s.\n",
      "@> 4431 atoms and 1 coordinate set(s) were parsed in 0.05s.\n",
      "@> 4337 atoms and 1 coordinate set(s) were parsed in 0.05s.\n",
      "@> 4232 atoms and 1 coordinate set(s) were parsed in 0.04s.\n",
      "@> 4263 atoms and 1 coordinate set(s) were parsed in 0.05s.\n",
      "@> 4156 atoms and 1 coordinate set(s) were parsed in 0.04s.\n",
      "@> 4309 atoms and 1 coordinate set(s) were parsed in 0.05s.\n",
      "@> 4239 atoms and 1 coordinate set(s) were parsed in 0.04s.\n",
      "@> 4177 atoms and 1 coordinate set(s) were parsed in 0.04s.\n",
      "@> 4209 atoms and 1 coordinate set(s) were parsed in 0.04s.\n",
      "@> 4207 atoms and 1 coordinate set(s) were parsed in 0.04s.\n",
      "@> 4020 atoms and 1 coordinate set(s) were parsed in 0.04s.\n",
      "@> 4432 atoms and 1 coordinate set(s) were parsed in 0.05s.\n",
      "@> 4217 atoms and 1 coordinate set(s) were parsed in 0.04s.\n",
      "@> 4212 atoms and 1 coordinate set(s) were parsed in 0.04s.\n",
      "@> 4384 atoms and 1 coordinate set(s) were parsed in 0.04s.\n",
      "@> 4297 atoms and 1 coordinate set(s) were parsed in 0.04s.\n",
      "@> 4204 atoms and 1 coordinate set(s) were parsed in 0.04s.\n",
      "@> 4092 atoms and 1 coordinate set(s) were parsed in 0.04s.\n",
      "@> 4105 atoms and 1 coordinate set(s) were parsed in 0.04s.\n",
      "@> 4286 atoms and 1 coordinate set(s) were parsed in 0.04s.\n",
      "@> 4259 atoms and 1 coordinate set(s) were parsed in 0.05s.\n",
      "@> 4233 atoms and 1 coordinate set(s) were parsed in 0.04s.\n",
      "@> 4402 atoms and 1 coordinate set(s) were parsed in 0.05s.\n",
      "@> 3994 atoms and 1 coordinate set(s) were parsed in 0.04s.\n",
      "@> 4340 atoms and 1 coordinate set(s) were parsed in 0.04s.\n",
      "@> 4157 atoms and 1 coordinate set(s) were parsed in 0.04s.\n",
      "@> 4453 atoms and 1 coordinate set(s) were parsed in 0.05s.\n",
      "@> 4375 atoms and 1 coordinate set(s) were parsed in 0.04s.\n",
      "@> 4339 atoms and 1 coordinate set(s) were parsed in 0.05s.\n",
      "@> 4208 atoms and 1 coordinate set(s) were parsed in 0.04s.\n",
      "@> 4250 atoms and 1 coordinate set(s) were parsed in 0.04s.\n",
      "@> 4199 atoms and 1 coordinate set(s) were parsed in 0.04s.\n",
      "@> 4101 atoms and 1 coordinate set(s) were parsed in 0.04s.\n",
      "@> 4110 atoms and 1 coordinate set(s) were parsed in 0.04s.\n",
      "@> 4327 atoms and 1 coordinate set(s) were parsed in 0.04s.\n",
      "@> 4443 atoms and 1 coordinate set(s) were parsed in 0.04s.\n",
      "@> 4427 atoms and 1 coordinate set(s) were parsed in 0.04s.\n",
      "@> 4354 atoms and 1 coordinate set(s) were parsed in 0.04s.\n",
      "@> 4425 atoms and 1 coordinate set(s) were parsed in 0.04s.\n",
      "@> 4354 atoms and 1 coordinate set(s) were parsed in 0.04s.\n",
      "@> 4327 atoms and 1 coordinate set(s) were parsed in 0.04s.\n",
      "@> 4373 atoms and 1 coordinate set(s) were parsed in 0.04s.\n",
      "@> 4366 atoms and 1 coordinate set(s) were parsed in 0.04s.\n",
      "@> 4443 atoms and 1 coordinate set(s) were parsed in 0.04s.\n",
      "@> 4347 atoms and 1 coordinate set(s) were parsed in 0.04s.\n",
      "@> 4104 atoms and 1 coordinate set(s) were parsed in 0.04s.\n",
      "@> 4130 atoms and 1 coordinate set(s) were parsed in 0.04s.\n",
      "@> 4347 atoms and 1 coordinate set(s) were parsed in 0.05s.\n",
      "@> 4356 atoms and 1 coordinate set(s) were parsed in 0.05s.\n",
      "@> 4386 atoms and 1 coordinate set(s) were parsed in 0.04s.\n",
      "@> 4464 atoms and 1 coordinate set(s) were parsed in 0.05s.\n",
      "@> 4354 atoms and 1 coordinate set(s) were parsed in 0.04s.\n",
      "@> 4376 atoms and 1 coordinate set(s) were parsed in 0.04s.\n",
      "@> 4534 atoms and 1 coordinate set(s) were parsed in 0.04s.\n",
      "@> 4482 atoms and 1 coordinate set(s) were parsed in 0.04s.\n",
      "@> 4400 atoms and 1 coordinate set(s) were parsed in 0.05s.\n",
      "@> 4400 atoms and 1 coordinate set(s) were parsed in 0.05s.\n",
      "@> 4233 atoms and 1 coordinate set(s) were parsed in 0.04s.\n",
      "@> 4252 atoms and 1 coordinate set(s) were parsed in 0.04s.\n",
      "@> 4373 atoms and 1 coordinate set(s) were parsed in 0.05s.\n",
      "@> 4283 atoms and 1 coordinate set(s) were parsed in 0.05s.\n",
      "@> 4282 atoms and 1 coordinate set(s) were parsed in 0.04s.\n",
      "@> 4190 atoms and 1 coordinate set(s) were parsed in 0.04s.\n",
      "@> 4255 atoms and 1 coordinate set(s) were parsed in 0.05s.\n",
      "@> 4158 atoms and 1 coordinate set(s) were parsed in 0.04s.\n",
      "@> 4504 atoms and 1 coordinate set(s) were parsed in 0.05s.\n",
      "@> 4436 atoms and 1 coordinate set(s) were parsed in 0.05s.\n",
      "@> 4238 atoms and 1 coordinate set(s) were parsed in 0.04s.\n",
      "@> 4232 atoms and 1 coordinate set(s) were parsed in 0.04s.\n",
      "@> 4241 atoms and 1 coordinate set(s) were parsed in 0.04s.\n",
      "@> 4290 atoms and 1 coordinate set(s) were parsed in 0.05s.\n",
      "@> 4382 atoms and 1 coordinate set(s) were parsed in 0.05s.\n",
      "@> 4318 atoms and 1 coordinate set(s) were parsed in 0.05s.\n",
      "@> 4424 atoms and 1 coordinate set(s) were parsed in 0.05s.\n",
      "@> 4436 atoms and 1 coordinate set(s) were parsed in 0.05s.\n",
      "@> 4258 atoms and 1 coordinate set(s) were parsed in 0.04s.\n",
      "@> 4463 atoms and 1 coordinate set(s) were parsed in 0.05s.\n",
      "@> 4430 atoms and 1 coordinate set(s) were parsed in 0.05s.\n",
      "@> 4439 atoms and 1 coordinate set(s) were parsed in 0.05s.\n",
      "@> 4224 atoms and 1 coordinate set(s) were parsed in 0.05s.\n",
      "@> 4303 atoms and 1 coordinate set(s) were parsed in 0.05s.\n",
      "@> 4238 atoms and 1 coordinate set(s) were parsed in 0.05s.\n",
      "@> 4437 atoms and 1 coordinate set(s) were parsed in 0.05s.\n",
      "@> 4377 atoms and 1 coordinate set(s) were parsed in 0.05s.\n",
      "@> 4377 atoms and 1 coordinate set(s) were parsed in 0.05s.\n",
      "@> 4398 atoms and 1 coordinate set(s) were parsed in 0.05s.\n",
      "@> 4410 atoms and 1 coordinate set(s) were parsed in 0.05s.\n",
      "@> 4395 atoms and 1 coordinate set(s) were parsed in 0.05s.\n",
      "@> 4383 atoms and 1 coordinate set(s) were parsed in 0.05s.\n",
      "@> 4416 atoms and 1 coordinate set(s) were parsed in 0.04s.\n",
      "@> 4407 atoms and 1 coordinate set(s) were parsed in 0.04s.\n",
      "@> 4434 atoms and 1 coordinate set(s) were parsed in 0.04s.\n",
      "@> 4389 atoms and 1 coordinate set(s) were parsed in 0.04s.\n",
      "@> 4413 atoms and 1 coordinate set(s) were parsed in 0.04s.\n",
      "@> 4401 atoms and 1 coordinate set(s) were parsed in 0.04s.\n",
      "@> 4410 atoms and 1 coordinate set(s) were parsed in 0.04s.\n",
      "@> 4321 atoms and 1 coordinate set(s) were parsed in 0.04s.\n",
      "@> 4425 atoms and 1 coordinate set(s) were parsed in 0.04s.\n",
      "@> 4434 atoms and 1 coordinate set(s) were parsed in 0.04s.\n",
      "@> 4473 atoms and 1 coordinate set(s) were parsed in 0.04s.\n",
      "@> 4374 atoms and 1 coordinate set(s) were parsed in 0.04s.\n",
      "@> 4462 atoms and 1 coordinate set(s) were parsed in 0.04s.\n",
      "@> 4407 atoms and 1 coordinate set(s) were parsed in 0.04s.\n",
      "@> 4407 atoms and 1 coordinate set(s) were parsed in 0.04s.\n",
      "@> 4175 atoms and 1 coordinate set(s) were parsed in 0.04s.\n",
      "@> 4216 atoms and 1 coordinate set(s) were parsed in 0.04s.\n",
      "@> 4222 atoms and 1 coordinate set(s) were parsed in 0.04s.\n",
      "@> 4254 atoms and 1 coordinate set(s) were parsed in 0.04s.\n",
      "@> 4237 atoms and 1 coordinate set(s) were parsed in 0.04s.\n",
      "@> 4199 atoms and 1 coordinate set(s) were parsed in 0.04s.\n",
      "@> 4348 atoms and 1 coordinate set(s) were parsed in 0.04s.\n",
      "@> 4329 atoms and 1 coordinate set(s) were parsed in 0.04s.\n",
      "@> 4419 atoms and 1 coordinate set(s) were parsed in 0.05s.\n",
      "@> 4383 atoms and 1 coordinate set(s) were parsed in 0.05s.\n",
      "@> 4389 atoms and 1 coordinate set(s) were parsed in 0.05s.\n",
      "@> 4422 atoms and 1 coordinate set(s) were parsed in 0.05s.\n",
      "@> 4685 atoms and 1 coordinate set(s) were parsed in 0.05s.\n",
      "@> 4677 atoms and 1 coordinate set(s) were parsed in 0.05s.\n",
      "@> 4665 atoms and 1 coordinate set(s) were parsed in 0.05s.\n",
      "@> 4646 atoms and 1 coordinate set(s) were parsed in 0.05s.\n",
      "@> 4615 atoms and 1 coordinate set(s) were parsed in 0.06s.\n",
      "@> 4618 atoms and 1 coordinate set(s) were parsed in 0.05s.\n",
      "@> 4167 atoms and 1 coordinate set(s) were parsed in 0.04s.\n",
      "@> 4328 atoms and 1 coordinate set(s) were parsed in 0.05s.\n",
      "@> 4179 atoms and 1 coordinate set(s) were parsed in 0.05s.\n",
      "@> 4369 atoms and 1 coordinate set(s) were parsed in 0.05s.\n",
      "@> 4413 atoms and 1 coordinate set(s) were parsed in 0.05s.\n",
      "@> 4455 atoms and 1 coordinate set(s) were parsed in 0.04s.\n",
      "@> 4300 atoms and 1 coordinate set(s) were parsed in 0.04s.\n",
      "@> 4308 atoms and 1 coordinate set(s) were parsed in 0.04s.\n",
      "@> 4334 atoms and 1 coordinate set(s) were parsed in 0.04s.\n",
      "@> 4300 atoms and 1 coordinate set(s) were parsed in 0.04s.\n",
      "@> 4318 atoms and 1 coordinate set(s) were parsed in 0.04s.\n",
      "@> 4288 atoms and 1 coordinate set(s) were parsed in 0.04s.\n",
      "@> 4333 atoms and 1 coordinate set(s) were parsed in 0.04s.\n",
      "@> 4623 atoms and 1 coordinate set(s) were parsed in 0.04s.\n"
     ]
    },
    {
     "name": "stderr",
     "output_type": "stream",
     "text": [
      "@> 4430 atoms and 1 coordinate set(s) were parsed in 0.04s.\n",
      "@> 4322 atoms and 1 coordinate set(s) were parsed in 0.04s.\n",
      "@> 4371 atoms and 1 coordinate set(s) were parsed in 0.04s.\n",
      "@> Results are saved in clusters_wb_.pdb.\n"
     ]
    }
   ],
   "source": [
    "findClusterCenters('wb_*.pdb', selection = 'resname HOH and name O', distC=0.35, numC=10)"
   ]
  },
  {
   "cell_type": "code",
   "execution_count": 10,
   "metadata": {},
   "outputs": [
    {
     "name": "stderr",
     "output_type": "stream",
     "text": [
      "@> 4341 atoms and 1 coordinate set(s) were parsed in 0.11s.\n",
      "@> 4431 atoms and 1 coordinate set(s) were parsed in 0.05s.\n",
      "@> 4337 atoms and 1 coordinate set(s) were parsed in 0.05s.\n",
      "@> 4232 atoms and 1 coordinate set(s) were parsed in 0.04s.\n",
      "@> 4263 atoms and 1 coordinate set(s) were parsed in 0.05s.\n",
      "@> 4156 atoms and 1 coordinate set(s) were parsed in 0.04s.\n",
      "@> 4309 atoms and 1 coordinate set(s) were parsed in 0.05s.\n",
      "@> 4239 atoms and 1 coordinate set(s) were parsed in 0.04s.\n",
      "@> 4177 atoms and 1 coordinate set(s) were parsed in 0.04s.\n",
      "@> 4209 atoms and 1 coordinate set(s) were parsed in 0.04s.\n",
      "@> 4207 atoms and 1 coordinate set(s) were parsed in 0.04s.\n",
      "@> 4020 atoms and 1 coordinate set(s) were parsed in 0.04s.\n",
      "@> 4432 atoms and 1 coordinate set(s) were parsed in 0.05s.\n",
      "@> 4217 atoms and 1 coordinate set(s) were parsed in 0.05s.\n",
      "@> 4212 atoms and 1 coordinate set(s) were parsed in 0.04s.\n",
      "@> 4384 atoms and 1 coordinate set(s) were parsed in 0.05s.\n",
      "@> 4297 atoms and 1 coordinate set(s) were parsed in 0.05s.\n",
      "@> 4204 atoms and 1 coordinate set(s) were parsed in 0.04s.\n",
      "@> 4092 atoms and 1 coordinate set(s) were parsed in 0.04s.\n",
      "@> 4105 atoms and 1 coordinate set(s) were parsed in 0.04s.\n",
      "@> 4286 atoms and 1 coordinate set(s) were parsed in 0.05s.\n",
      "@> 4259 atoms and 1 coordinate set(s) were parsed in 0.05s.\n",
      "@> 4233 atoms and 1 coordinate set(s) were parsed in 0.05s.\n",
      "@> 4402 atoms and 1 coordinate set(s) were parsed in 0.05s.\n",
      "@> 3994 atoms and 1 coordinate set(s) were parsed in 0.04s.\n",
      "@> 4340 atoms and 1 coordinate set(s) were parsed in 0.05s.\n",
      "@> 4157 atoms and 1 coordinate set(s) were parsed in 0.04s.\n",
      "@> 4453 atoms and 1 coordinate set(s) were parsed in 0.05s.\n",
      "@> 4375 atoms and 1 coordinate set(s) were parsed in 0.05s.\n",
      "@> 4339 atoms and 1 coordinate set(s) were parsed in 0.04s.\n",
      "@> 4208 atoms and 1 coordinate set(s) were parsed in 0.04s.\n",
      "@> 4250 atoms and 1 coordinate set(s) were parsed in 0.04s.\n",
      "@> 4199 atoms and 1 coordinate set(s) were parsed in 0.04s.\n",
      "@> 4101 atoms and 1 coordinate set(s) were parsed in 0.04s.\n",
      "@> 4110 atoms and 1 coordinate set(s) were parsed in 0.04s.\n",
      "@> 4327 atoms and 1 coordinate set(s) were parsed in 0.05s.\n",
      "@> 4443 atoms and 1 coordinate set(s) were parsed in 0.05s.\n",
      "@> 4427 atoms and 1 coordinate set(s) were parsed in 0.05s.\n",
      "@> 4354 atoms and 1 coordinate set(s) were parsed in 0.05s.\n",
      "@> 4425 atoms and 1 coordinate set(s) were parsed in 0.05s.\n",
      "@> 4354 atoms and 1 coordinate set(s) were parsed in 0.05s.\n",
      "@> 4327 atoms and 1 coordinate set(s) were parsed in 0.05s.\n",
      "@> 4373 atoms and 1 coordinate set(s) were parsed in 0.05s.\n",
      "@> 4366 atoms and 1 coordinate set(s) were parsed in 0.04s.\n",
      "@> 4443 atoms and 1 coordinate set(s) were parsed in 0.04s.\n",
      "@> 4347 atoms and 1 coordinate set(s) were parsed in 0.04s.\n",
      "@> 4104 atoms and 1 coordinate set(s) were parsed in 0.04s.\n",
      "@> 4130 atoms and 1 coordinate set(s) were parsed in 0.04s.\n",
      "@> 4347 atoms and 1 coordinate set(s) were parsed in 0.04s.\n",
      "@> 4356 atoms and 1 coordinate set(s) were parsed in 0.04s.\n",
      "@> 4386 atoms and 1 coordinate set(s) were parsed in 0.04s.\n",
      "@> 4464 atoms and 1 coordinate set(s) were parsed in 0.04s.\n",
      "@> 4354 atoms and 1 coordinate set(s) were parsed in 0.04s.\n",
      "@> 4376 atoms and 1 coordinate set(s) were parsed in 0.04s.\n",
      "@> 4534 atoms and 1 coordinate set(s) were parsed in 0.04s.\n",
      "@> 4482 atoms and 1 coordinate set(s) were parsed in 0.04s.\n",
      "@> 4400 atoms and 1 coordinate set(s) were parsed in 0.04s.\n",
      "@> 4400 atoms and 1 coordinate set(s) were parsed in 0.04s.\n",
      "@> 4233 atoms and 1 coordinate set(s) were parsed in 0.04s.\n",
      "@> 4252 atoms and 1 coordinate set(s) were parsed in 0.04s.\n",
      "@> 4373 atoms and 1 coordinate set(s) were parsed in 0.04s.\n",
      "@> 4283 atoms and 1 coordinate set(s) were parsed in 0.04s.\n",
      "@> 4282 atoms and 1 coordinate set(s) were parsed in 0.04s.\n",
      "@> 4190 atoms and 1 coordinate set(s) were parsed in 0.04s.\n",
      "@> 4255 atoms and 1 coordinate set(s) were parsed in 0.04s.\n",
      "@> 4158 atoms and 1 coordinate set(s) were parsed in 0.04s.\n",
      "@> 4504 atoms and 1 coordinate set(s) were parsed in 0.04s.\n",
      "@> 4436 atoms and 1 coordinate set(s) were parsed in 0.04s.\n",
      "@> 4238 atoms and 1 coordinate set(s) were parsed in 0.04s.\n",
      "@> 4232 atoms and 1 coordinate set(s) were parsed in 0.04s.\n",
      "@> 4241 atoms and 1 coordinate set(s) were parsed in 0.04s.\n",
      "@> 4290 atoms and 1 coordinate set(s) were parsed in 0.04s.\n",
      "@> 4382 atoms and 1 coordinate set(s) were parsed in 0.04s.\n",
      "@> 4318 atoms and 1 coordinate set(s) were parsed in 0.04s.\n",
      "@> 4424 atoms and 1 coordinate set(s) were parsed in 0.05s.\n",
      "@> 4436 atoms and 1 coordinate set(s) were parsed in 0.05s.\n",
      "@> 4258 atoms and 1 coordinate set(s) were parsed in 0.05s.\n",
      "@> 4463 atoms and 1 coordinate set(s) were parsed in 0.05s.\n",
      "@> 4430 atoms and 1 coordinate set(s) were parsed in 0.05s.\n",
      "@> 4439 atoms and 1 coordinate set(s) were parsed in 0.05s.\n",
      "@> 4224 atoms and 1 coordinate set(s) were parsed in 0.04s.\n",
      "@> 4303 atoms and 1 coordinate set(s) were parsed in 0.04s.\n",
      "@> 4238 atoms and 1 coordinate set(s) were parsed in 0.04s.\n",
      "@> 4437 atoms and 1 coordinate set(s) were parsed in 0.04s.\n",
      "@> 4377 atoms and 1 coordinate set(s) were parsed in 0.04s.\n",
      "@> 4377 atoms and 1 coordinate set(s) were parsed in 0.04s.\n",
      "@> 4398 atoms and 1 coordinate set(s) were parsed in 0.04s.\n",
      "@> 4410 atoms and 1 coordinate set(s) were parsed in 0.05s.\n",
      "@> 4395 atoms and 1 coordinate set(s) were parsed in 0.05s.\n",
      "@> 4383 atoms and 1 coordinate set(s) were parsed in 0.04s.\n",
      "@> 4416 atoms and 1 coordinate set(s) were parsed in 0.04s.\n",
      "@> 4407 atoms and 1 coordinate set(s) were parsed in 0.04s.\n",
      "@> 4434 atoms and 1 coordinate set(s) were parsed in 0.05s.\n",
      "@> 4389 atoms and 1 coordinate set(s) were parsed in 0.04s.\n",
      "@> 4413 atoms and 1 coordinate set(s) were parsed in 0.05s.\n",
      "@> 4401 atoms and 1 coordinate set(s) were parsed in 0.04s.\n",
      "@> 4410 atoms and 1 coordinate set(s) were parsed in 0.04s.\n",
      "@> 4321 atoms and 1 coordinate set(s) were parsed in 0.04s.\n",
      "@> 4425 atoms and 1 coordinate set(s) were parsed in 0.04s.\n",
      "@> 4434 atoms and 1 coordinate set(s) were parsed in 0.04s.\n",
      "@> 4473 atoms and 1 coordinate set(s) were parsed in 0.04s.\n",
      "@> 4374 atoms and 1 coordinate set(s) were parsed in 0.04s.\n",
      "@> 4462 atoms and 1 coordinate set(s) were parsed in 0.04s.\n",
      "@> 4407 atoms and 1 coordinate set(s) were parsed in 0.04s.\n",
      "@> 4407 atoms and 1 coordinate set(s) were parsed in 0.04s.\n",
      "@> 4175 atoms and 1 coordinate set(s) were parsed in 0.04s.\n",
      "@> 4216 atoms and 1 coordinate set(s) were parsed in 0.04s.\n",
      "@> 4222 atoms and 1 coordinate set(s) were parsed in 0.04s.\n",
      "@> 4254 atoms and 1 coordinate set(s) were parsed in 0.04s.\n",
      "@> 4237 atoms and 1 coordinate set(s) were parsed in 0.04s.\n",
      "@> 4199 atoms and 1 coordinate set(s) were parsed in 0.04s.\n",
      "@> 4348 atoms and 1 coordinate set(s) were parsed in 0.04s.\n",
      "@> 4329 atoms and 1 coordinate set(s) were parsed in 0.04s.\n",
      "@> 4419 atoms and 1 coordinate set(s) were parsed in 0.04s.\n",
      "@> 4383 atoms and 1 coordinate set(s) were parsed in 0.04s.\n",
      "@> 4389 atoms and 1 coordinate set(s) were parsed in 0.04s.\n",
      "@> 4422 atoms and 1 coordinate set(s) were parsed in 0.04s.\n",
      "@> 4685 atoms and 1 coordinate set(s) were parsed in 0.04s.\n",
      "@> 4677 atoms and 1 coordinate set(s) were parsed in 0.04s.\n",
      "@> 4665 atoms and 1 coordinate set(s) were parsed in 0.04s.\n",
      "@> 4646 atoms and 1 coordinate set(s) were parsed in 0.04s.\n",
      "@> 4615 atoms and 1 coordinate set(s) were parsed in 0.04s.\n",
      "@> 4618 atoms and 1 coordinate set(s) were parsed in 0.04s.\n",
      "@> 4167 atoms and 1 coordinate set(s) were parsed in 0.04s.\n",
      "@> 4328 atoms and 1 coordinate set(s) were parsed in 0.04s.\n",
      "@> 4179 atoms and 1 coordinate set(s) were parsed in 0.04s.\n",
      "@> 4369 atoms and 1 coordinate set(s) were parsed in 0.04s.\n",
      "@> 4413 atoms and 1 coordinate set(s) were parsed in 0.04s.\n",
      "@> 4455 atoms and 1 coordinate set(s) were parsed in 0.04s.\n",
      "@> 4300 atoms and 1 coordinate set(s) were parsed in 0.04s.\n",
      "@> 4308 atoms and 1 coordinate set(s) were parsed in 0.04s.\n",
      "@> 4334 atoms and 1 coordinate set(s) were parsed in 0.04s.\n",
      "@> 4300 atoms and 1 coordinate set(s) were parsed in 0.04s.\n",
      "@> 4318 atoms and 1 coordinate set(s) were parsed in 0.04s.\n",
      "@> 4288 atoms and 1 coordinate set(s) were parsed in 0.04s.\n",
      "@> 4333 atoms and 1 coordinate set(s) were parsed in 0.04s.\n",
      "@> 4623 atoms and 1 coordinate set(s) were parsed in 0.05s.\n"
     ]
    },
    {
     "name": "stderr",
     "output_type": "stream",
     "text": [
      "@> 4430 atoms and 1 coordinate set(s) were parsed in 0.04s.\n",
      "@> 4322 atoms and 1 coordinate set(s) were parsed in 0.04s.\n",
      "@> 4371 atoms and 1 coordinate set(s) were parsed in 0.04s.\n",
      "@> Results are saved in clusters_wb_.pdb.\n"
     ]
    }
   ],
   "source": [
    "findClusterCenters('wb_*.pdb', selection = 'resname HOH and name O', distC=0.35, numC=15)"
   ]
  },
  {
   "cell_type": "code",
   "execution_count": 11,
   "metadata": {},
   "outputs": [
    {
     "name": "stderr",
     "output_type": "stream",
     "text": [
      "@> 4341 atoms and 1 coordinate set(s) were parsed in 0.12s.\n",
      "@> 4431 atoms and 1 coordinate set(s) were parsed in 0.06s.\n",
      "@> 4337 atoms and 1 coordinate set(s) were parsed in 0.05s.\n",
      "@> 4232 atoms and 1 coordinate set(s) were parsed in 0.05s.\n",
      "@> 4263 atoms and 1 coordinate set(s) were parsed in 0.05s.\n",
      "@> 4156 atoms and 1 coordinate set(s) were parsed in 0.04s.\n",
      "@> 4309 atoms and 1 coordinate set(s) were parsed in 0.05s.\n",
      "@> 4239 atoms and 1 coordinate set(s) were parsed in 0.05s.\n",
      "@> 4177 atoms and 1 coordinate set(s) were parsed in 0.05s.\n",
      "@> 4209 atoms and 1 coordinate set(s) were parsed in 0.05s.\n",
      "@> 4207 atoms and 1 coordinate set(s) were parsed in 0.05s.\n",
      "@> 4020 atoms and 1 coordinate set(s) were parsed in 0.04s.\n",
      "@> 4432 atoms and 1 coordinate set(s) were parsed in 0.05s.\n",
      "@> 4217 atoms and 1 coordinate set(s) were parsed in 0.05s.\n",
      "@> 4212 atoms and 1 coordinate set(s) were parsed in 0.05s.\n",
      "@> 4384 atoms and 1 coordinate set(s) were parsed in 0.05s.\n",
      "@> 4297 atoms and 1 coordinate set(s) were parsed in 0.04s.\n",
      "@> 4204 atoms and 1 coordinate set(s) were parsed in 0.04s.\n",
      "@> 4092 atoms and 1 coordinate set(s) were parsed in 0.04s.\n",
      "@> 4105 atoms and 1 coordinate set(s) were parsed in 0.04s.\n",
      "@> 4286 atoms and 1 coordinate set(s) were parsed in 0.04s.\n",
      "@> 4259 atoms and 1 coordinate set(s) were parsed in 0.04s.\n",
      "@> 4233 atoms and 1 coordinate set(s) were parsed in 0.04s.\n",
      "@> 4402 atoms and 1 coordinate set(s) were parsed in 0.05s.\n",
      "@> 3994 atoms and 1 coordinate set(s) were parsed in 0.04s.\n",
      "@> 4340 atoms and 1 coordinate set(s) were parsed in 0.05s.\n",
      "@> 4157 atoms and 1 coordinate set(s) were parsed in 0.04s.\n",
      "@> 4453 atoms and 1 coordinate set(s) were parsed in 0.05s.\n",
      "@> 4375 atoms and 1 coordinate set(s) were parsed in 0.04s.\n",
      "@> 4339 atoms and 1 coordinate set(s) were parsed in 0.04s.\n",
      "@> 4208 atoms and 1 coordinate set(s) were parsed in 0.04s.\n",
      "@> 4250 atoms and 1 coordinate set(s) were parsed in 0.04s.\n",
      "@> 4199 atoms and 1 coordinate set(s) were parsed in 0.04s.\n",
      "@> 4101 atoms and 1 coordinate set(s) were parsed in 0.04s.\n",
      "@> 4110 atoms and 1 coordinate set(s) were parsed in 0.04s.\n",
      "@> 4327 atoms and 1 coordinate set(s) were parsed in 0.04s.\n",
      "@> 4443 atoms and 1 coordinate set(s) were parsed in 0.04s.\n",
      "@> 4427 atoms and 1 coordinate set(s) were parsed in 0.05s.\n",
      "@> 4354 atoms and 1 coordinate set(s) were parsed in 0.05s.\n",
      "@> 4425 atoms and 1 coordinate set(s) were parsed in 0.05s.\n",
      "@> 4354 atoms and 1 coordinate set(s) were parsed in 0.05s.\n",
      "@> 4327 atoms and 1 coordinate set(s) were parsed in 0.05s.\n",
      "@> 4373 atoms and 1 coordinate set(s) were parsed in 0.05s.\n",
      "@> 4366 atoms and 1 coordinate set(s) were parsed in 0.05s.\n",
      "@> 4443 atoms and 1 coordinate set(s) were parsed in 0.05s.\n",
      "@> 4347 atoms and 1 coordinate set(s) were parsed in 0.05s.\n",
      "@> 4104 atoms and 1 coordinate set(s) were parsed in 0.04s.\n",
      "@> 4130 atoms and 1 coordinate set(s) were parsed in 0.04s.\n",
      "@> 4347 atoms and 1 coordinate set(s) were parsed in 0.04s.\n",
      "@> 4356 atoms and 1 coordinate set(s) were parsed in 0.05s.\n",
      "@> 4386 atoms and 1 coordinate set(s) were parsed in 0.05s.\n",
      "@> 4464 atoms and 1 coordinate set(s) were parsed in 0.05s.\n",
      "@> 4354 atoms and 1 coordinate set(s) were parsed in 0.04s.\n",
      "@> 4376 atoms and 1 coordinate set(s) were parsed in 0.05s.\n",
      "@> 4534 atoms and 1 coordinate set(s) were parsed in 0.05s.\n",
      "@> 4482 atoms and 1 coordinate set(s) were parsed in 0.05s.\n",
      "@> 4400 atoms and 1 coordinate set(s) were parsed in 0.04s.\n",
      "@> 4400 atoms and 1 coordinate set(s) were parsed in 0.04s.\n",
      "@> 4233 atoms and 1 coordinate set(s) were parsed in 0.04s.\n",
      "@> 4252 atoms and 1 coordinate set(s) were parsed in 0.04s.\n",
      "@> 4373 atoms and 1 coordinate set(s) were parsed in 0.04s.\n",
      "@> 4283 atoms and 1 coordinate set(s) were parsed in 0.04s.\n",
      "@> 4282 atoms and 1 coordinate set(s) were parsed in 0.04s.\n",
      "@> 4190 atoms and 1 coordinate set(s) were parsed in 0.04s.\n",
      "@> 4255 atoms and 1 coordinate set(s) were parsed in 0.04s.\n",
      "@> 4158 atoms and 1 coordinate set(s) were parsed in 0.04s.\n",
      "@> 4504 atoms and 1 coordinate set(s) were parsed in 0.05s.\n",
      "@> 4436 atoms and 1 coordinate set(s) were parsed in 0.04s.\n",
      "@> 4238 atoms and 1 coordinate set(s) were parsed in 0.04s.\n",
      "@> 4232 atoms and 1 coordinate set(s) were parsed in 0.04s.\n",
      "@> 4241 atoms and 1 coordinate set(s) were parsed in 0.04s.\n",
      "@> 4290 atoms and 1 coordinate set(s) were parsed in 0.04s.\n",
      "@> 4382 atoms and 1 coordinate set(s) were parsed in 0.04s.\n",
      "@> 4318 atoms and 1 coordinate set(s) were parsed in 0.04s.\n",
      "@> 4424 atoms and 1 coordinate set(s) were parsed in 0.04s.\n",
      "@> 4436 atoms and 1 coordinate set(s) were parsed in 0.04s.\n",
      "@> 4258 atoms and 1 coordinate set(s) were parsed in 0.04s.\n",
      "@> 4463 atoms and 1 coordinate set(s) were parsed in 0.04s.\n",
      "@> 4430 atoms and 1 coordinate set(s) were parsed in 0.04s.\n",
      "@> 4439 atoms and 1 coordinate set(s) were parsed in 0.04s.\n",
      "@> 4224 atoms and 1 coordinate set(s) were parsed in 0.04s.\n",
      "@> 4303 atoms and 1 coordinate set(s) were parsed in 0.04s.\n",
      "@> 4238 atoms and 1 coordinate set(s) were parsed in 0.04s.\n",
      "@> 4437 atoms and 1 coordinate set(s) were parsed in 0.04s.\n",
      "@> 4377 atoms and 1 coordinate set(s) were parsed in 0.04s.\n",
      "@> 4377 atoms and 1 coordinate set(s) were parsed in 0.04s.\n",
      "@> 4398 atoms and 1 coordinate set(s) were parsed in 0.04s.\n",
      "@> 4410 atoms and 1 coordinate set(s) were parsed in 0.04s.\n",
      "@> 4395 atoms and 1 coordinate set(s) were parsed in 0.04s.\n",
      "@> 4383 atoms and 1 coordinate set(s) were parsed in 0.04s.\n",
      "@> 4416 atoms and 1 coordinate set(s) were parsed in 0.05s.\n",
      "@> 4407 atoms and 1 coordinate set(s) were parsed in 0.04s.\n",
      "@> 4434 atoms and 1 coordinate set(s) were parsed in 0.04s.\n",
      "@> 4389 atoms and 1 coordinate set(s) were parsed in 0.04s.\n",
      "@> 4413 atoms and 1 coordinate set(s) were parsed in 0.05s.\n",
      "@> 4401 atoms and 1 coordinate set(s) were parsed in 0.04s.\n",
      "@> 4410 atoms and 1 coordinate set(s) were parsed in 0.04s.\n",
      "@> 4321 atoms and 1 coordinate set(s) were parsed in 0.04s.\n",
      "@> 4425 atoms and 1 coordinate set(s) were parsed in 0.04s.\n",
      "@> 4434 atoms and 1 coordinate set(s) were parsed in 0.04s.\n",
      "@> 4473 atoms and 1 coordinate set(s) were parsed in 0.04s.\n",
      "@> 4374 atoms and 1 coordinate set(s) were parsed in 0.04s.\n",
      "@> 4462 atoms and 1 coordinate set(s) were parsed in 0.04s.\n",
      "@> 4407 atoms and 1 coordinate set(s) were parsed in 0.04s.\n",
      "@> 4407 atoms and 1 coordinate set(s) were parsed in 0.04s.\n",
      "@> 4175 atoms and 1 coordinate set(s) were parsed in 0.04s.\n",
      "@> 4216 atoms and 1 coordinate set(s) were parsed in 0.04s.\n",
      "@> 4222 atoms and 1 coordinate set(s) were parsed in 0.04s.\n",
      "@> 4254 atoms and 1 coordinate set(s) were parsed in 0.04s.\n",
      "@> 4237 atoms and 1 coordinate set(s) were parsed in 0.04s.\n",
      "@> 4199 atoms and 1 coordinate set(s) were parsed in 0.04s.\n",
      "@> 4348 atoms and 1 coordinate set(s) were parsed in 0.04s.\n",
      "@> 4329 atoms and 1 coordinate set(s) were parsed in 0.05s.\n",
      "@> 4419 atoms and 1 coordinate set(s) were parsed in 0.05s.\n",
      "@> 4383 atoms and 1 coordinate set(s) were parsed in 0.04s.\n",
      "@> 4389 atoms and 1 coordinate set(s) were parsed in 0.04s.\n",
      "@> 4422 atoms and 1 coordinate set(s) were parsed in 0.04s.\n",
      "@> 4685 atoms and 1 coordinate set(s) were parsed in 0.04s.\n",
      "@> 4677 atoms and 1 coordinate set(s) were parsed in 0.04s.\n",
      "@> 4665 atoms and 1 coordinate set(s) were parsed in 0.04s.\n",
      "@> 4646 atoms and 1 coordinate set(s) were parsed in 0.04s.\n",
      "@> 4615 atoms and 1 coordinate set(s) were parsed in 0.04s.\n",
      "@> 4618 atoms and 1 coordinate set(s) were parsed in 0.04s.\n",
      "@> 4167 atoms and 1 coordinate set(s) were parsed in 0.04s.\n",
      "@> 4328 atoms and 1 coordinate set(s) were parsed in 0.04s.\n",
      "@> 4179 atoms and 1 coordinate set(s) were parsed in 0.04s.\n",
      "@> 4369 atoms and 1 coordinate set(s) were parsed in 0.04s.\n",
      "@> 4413 atoms and 1 coordinate set(s) were parsed in 0.04s.\n",
      "@> 4455 atoms and 1 coordinate set(s) were parsed in 0.04s.\n",
      "@> 4300 atoms and 1 coordinate set(s) were parsed in 0.04s.\n",
      "@> 4308 atoms and 1 coordinate set(s) were parsed in 0.04s.\n",
      "@> 4334 atoms and 1 coordinate set(s) were parsed in 0.04s.\n",
      "@> 4300 atoms and 1 coordinate set(s) were parsed in 0.04s.\n",
      "@> 4318 atoms and 1 coordinate set(s) were parsed in 0.05s.\n",
      "@> 4288 atoms and 1 coordinate set(s) were parsed in 0.05s.\n",
      "@> 4333 atoms and 1 coordinate set(s) were parsed in 0.05s.\n",
      "@> 4623 atoms and 1 coordinate set(s) were parsed in 0.05s.\n"
     ]
    },
    {
     "name": "stderr",
     "output_type": "stream",
     "text": [
      "@> 4430 atoms and 1 coordinate set(s) were parsed in 0.05s.\n",
      "@> 4322 atoms and 1 coordinate set(s) were parsed in 0.05s.\n",
      "@> 4371 atoms and 1 coordinate set(s) were parsed in 0.05s.\n",
      "@> Results are saved in clusters_wb_.pdb.\n"
     ]
    }
   ],
   "source": [
    "findClusterCenters('wb_*.pdb', selection = 'resname HOH and name O', distC=0.4, numC=15)"
   ]
  },
  {
   "cell_type": "markdown",
   "metadata": {},
   "source": [
    "--------------------------------------------------------------------------------------------------------------"
   ]
  },
  {
   "cell_type": "code",
   "execution_count": 12,
   "metadata": {},
   "outputs": [
    {
     "name": "stderr",
     "output_type": "stream",
     "text": [
      "@> 4341 atoms and 1 coordinate set(s) were parsed in 0.08s.\n",
      "@> 4431 atoms and 1 coordinate set(s) were parsed in 0.05s.\n",
      "@> 4337 atoms and 1 coordinate set(s) were parsed in 0.05s.\n",
      "@> 4232 atoms and 1 coordinate set(s) were parsed in 0.05s.\n",
      "@> 4263 atoms and 1 coordinate set(s) were parsed in 0.05s.\n",
      "@> 4156 atoms and 1 coordinate set(s) were parsed in 0.04s.\n",
      "@> 4309 atoms and 1 coordinate set(s) were parsed in 0.05s.\n",
      "@> 4239 atoms and 1 coordinate set(s) were parsed in 0.05s.\n",
      "@> 4177 atoms and 1 coordinate set(s) were parsed in 0.05s.\n",
      "@> 4209 atoms and 1 coordinate set(s) were parsed in 0.05s.\n",
      "@> 4207 atoms and 1 coordinate set(s) were parsed in 0.05s.\n",
      "@> 4020 atoms and 1 coordinate set(s) were parsed in 0.05s.\n",
      "@> 4432 atoms and 1 coordinate set(s) were parsed in 0.05s.\n",
      "@> 4217 atoms and 1 coordinate set(s) were parsed in 0.05s.\n",
      "@> 4212 atoms and 1 coordinate set(s) were parsed in 0.05s.\n",
      "@> 4384 atoms and 1 coordinate set(s) were parsed in 0.05s.\n",
      "@> 4297 atoms and 1 coordinate set(s) were parsed in 0.05s.\n",
      "@> 4204 atoms and 1 coordinate set(s) were parsed in 0.05s.\n",
      "@> 4092 atoms and 1 coordinate set(s) were parsed in 0.04s.\n",
      "@> 4105 atoms and 1 coordinate set(s) were parsed in 0.04s.\n",
      "@> 4286 atoms and 1 coordinate set(s) were parsed in 0.05s.\n",
      "@> 4259 atoms and 1 coordinate set(s) were parsed in 0.05s.\n",
      "@> 4233 atoms and 1 coordinate set(s) were parsed in 0.05s.\n",
      "@> 4402 atoms and 1 coordinate set(s) were parsed in 0.05s.\n",
      "@> 3994 atoms and 1 coordinate set(s) were parsed in 0.04s.\n",
      "@> 4340 atoms and 1 coordinate set(s) were parsed in 0.05s.\n",
      "@> 4157 atoms and 1 coordinate set(s) were parsed in 0.04s.\n",
      "@> 4453 atoms and 1 coordinate set(s) were parsed in 0.05s.\n",
      "@> 4375 atoms and 1 coordinate set(s) were parsed in 0.04s.\n",
      "@> 4339 atoms and 1 coordinate set(s) were parsed in 0.04s.\n",
      "@> 4208 atoms and 1 coordinate set(s) were parsed in 0.04s.\n",
      "@> 4250 atoms and 1 coordinate set(s) were parsed in 0.04s.\n",
      "@> 4199 atoms and 1 coordinate set(s) were parsed in 0.04s.\n",
      "@> 4101 atoms and 1 coordinate set(s) were parsed in 0.04s.\n",
      "@> 4110 atoms and 1 coordinate set(s) were parsed in 0.04s.\n",
      "@> 4327 atoms and 1 coordinate set(s) were parsed in 0.04s.\n",
      "@> 4443 atoms and 1 coordinate set(s) were parsed in 0.05s.\n",
      "@> 4427 atoms and 1 coordinate set(s) were parsed in 0.04s.\n",
      "@> 4354 atoms and 1 coordinate set(s) were parsed in 0.05s.\n",
      "@> 4425 atoms and 1 coordinate set(s) were parsed in 0.05s.\n",
      "@> 4354 atoms and 1 coordinate set(s) were parsed in 0.04s.\n",
      "@> 4327 atoms and 1 coordinate set(s) were parsed in 0.05s.\n",
      "@> 4373 atoms and 1 coordinate set(s) were parsed in 0.04s.\n",
      "@> 4366 atoms and 1 coordinate set(s) were parsed in 0.04s.\n",
      "@> 4443 atoms and 1 coordinate set(s) were parsed in 0.05s.\n",
      "@> 4347 atoms and 1 coordinate set(s) were parsed in 0.05s.\n",
      "@> 4104 atoms and 1 coordinate set(s) were parsed in 0.04s.\n",
      "@> 4130 atoms and 1 coordinate set(s) were parsed in 0.04s.\n",
      "@> 4347 atoms and 1 coordinate set(s) were parsed in 0.05s.\n",
      "@> 4356 atoms and 1 coordinate set(s) were parsed in 0.05s.\n",
      "@> 4386 atoms and 1 coordinate set(s) were parsed in 0.04s.\n",
      "@> 4464 atoms and 1 coordinate set(s) were parsed in 0.05s.\n",
      "@> 4354 atoms and 1 coordinate set(s) were parsed in 0.04s.\n",
      "@> 4376 atoms and 1 coordinate set(s) were parsed in 0.05s.\n",
      "@> 4534 atoms and 1 coordinate set(s) were parsed in 0.05s.\n",
      "@> 4482 atoms and 1 coordinate set(s) were parsed in 0.05s.\n",
      "@> 4400 atoms and 1 coordinate set(s) were parsed in 0.05s.\n",
      "@> 4400 atoms and 1 coordinate set(s) were parsed in 0.05s.\n",
      "@> 4233 atoms and 1 coordinate set(s) were parsed in 0.04s.\n",
      "@> 4252 atoms and 1 coordinate set(s) were parsed in 0.05s.\n",
      "@> 4373 atoms and 1 coordinate set(s) were parsed in 0.05s.\n",
      "@> 4283 atoms and 1 coordinate set(s) were parsed in 0.05s.\n",
      "@> 4282 atoms and 1 coordinate set(s) were parsed in 0.05s.\n",
      "@> 4190 atoms and 1 coordinate set(s) were parsed in 0.04s.\n",
      "@> 4255 atoms and 1 coordinate set(s) were parsed in 0.04s.\n",
      "@> 4158 atoms and 1 coordinate set(s) were parsed in 0.04s.\n",
      "@> 4504 atoms and 1 coordinate set(s) were parsed in 0.05s.\n",
      "@> 4436 atoms and 1 coordinate set(s) were parsed in 0.05s.\n",
      "@> 4238 atoms and 1 coordinate set(s) were parsed in 0.04s.\n",
      "@> 4232 atoms and 1 coordinate set(s) were parsed in 0.04s.\n",
      "@> 4241 atoms and 1 coordinate set(s) were parsed in 0.04s.\n",
      "@> 4290 atoms and 1 coordinate set(s) were parsed in 0.04s.\n",
      "@> 4382 atoms and 1 coordinate set(s) were parsed in 0.04s.\n",
      "@> 4318 atoms and 1 coordinate set(s) were parsed in 0.04s.\n",
      "@> 4424 atoms and 1 coordinate set(s) were parsed in 0.04s.\n",
      "@> 4436 atoms and 1 coordinate set(s) were parsed in 0.04s.\n",
      "@> 4258 atoms and 1 coordinate set(s) were parsed in 0.04s.\n",
      "@> 4463 atoms and 1 coordinate set(s) were parsed in 0.04s.\n",
      "@> 4430 atoms and 1 coordinate set(s) were parsed in 0.04s.\n",
      "@> 4439 atoms and 1 coordinate set(s) were parsed in 0.04s.\n",
      "@> 4224 atoms and 1 coordinate set(s) were parsed in 0.04s.\n",
      "@> 4303 atoms and 1 coordinate set(s) were parsed in 0.04s.\n",
      "@> 4238 atoms and 1 coordinate set(s) were parsed in 0.04s.\n",
      "@> 4437 atoms and 1 coordinate set(s) were parsed in 0.04s.\n",
      "@> 4377 atoms and 1 coordinate set(s) were parsed in 0.04s.\n",
      "@> 4377 atoms and 1 coordinate set(s) were parsed in 0.04s.\n",
      "@> 4398 atoms and 1 coordinate set(s) were parsed in 0.05s.\n",
      "@> 4410 atoms and 1 coordinate set(s) were parsed in 0.05s.\n",
      "@> 4395 atoms and 1 coordinate set(s) were parsed in 0.05s.\n",
      "@> 4383 atoms and 1 coordinate set(s) were parsed in 0.04s.\n",
      "@> 4416 atoms and 1 coordinate set(s) were parsed in 0.05s.\n",
      "@> 4407 atoms and 1 coordinate set(s) were parsed in 0.05s.\n",
      "@> 4434 atoms and 1 coordinate set(s) were parsed in 0.05s.\n",
      "@> 4389 atoms and 1 coordinate set(s) were parsed in 0.04s.\n",
      "@> 4413 atoms and 1 coordinate set(s) were parsed in 0.05s.\n",
      "@> 4401 atoms and 1 coordinate set(s) were parsed in 0.05s.\n",
      "@> 4410 atoms and 1 coordinate set(s) were parsed in 0.05s.\n",
      "@> 4321 atoms and 1 coordinate set(s) were parsed in 0.04s.\n",
      "@> 4425 atoms and 1 coordinate set(s) were parsed in 0.05s.\n",
      "@> 4434 atoms and 1 coordinate set(s) were parsed in 0.04s.\n",
      "@> 4473 atoms and 1 coordinate set(s) were parsed in 0.04s.\n",
      "@> 4374 atoms and 1 coordinate set(s) were parsed in 0.04s.\n",
      "@> 4462 atoms and 1 coordinate set(s) were parsed in 0.04s.\n",
      "@> 4407 atoms and 1 coordinate set(s) were parsed in 0.04s.\n",
      "@> 4407 atoms and 1 coordinate set(s) were parsed in 0.04s.\n",
      "@> 4175 atoms and 1 coordinate set(s) were parsed in 0.04s.\n",
      "@> 4216 atoms and 1 coordinate set(s) were parsed in 0.04s.\n",
      "@> 4222 atoms and 1 coordinate set(s) were parsed in 0.04s.\n",
      "@> 4254 atoms and 1 coordinate set(s) were parsed in 0.04s.\n",
      "@> 4237 atoms and 1 coordinate set(s) were parsed in 0.04s.\n",
      "@> 4199 atoms and 1 coordinate set(s) were parsed in 0.04s.\n",
      "@> 4348 atoms and 1 coordinate set(s) were parsed in 0.04s.\n",
      "@> 4329 atoms and 1 coordinate set(s) were parsed in 0.04s.\n",
      "@> 4419 atoms and 1 coordinate set(s) were parsed in 0.04s.\n",
      "@> 4383 atoms and 1 coordinate set(s) were parsed in 0.04s.\n",
      "@> 4389 atoms and 1 coordinate set(s) were parsed in 0.04s.\n",
      "@> 4422 atoms and 1 coordinate set(s) were parsed in 0.04s.\n",
      "@> 4685 atoms and 1 coordinate set(s) were parsed in 0.04s.\n",
      "@> 4677 atoms and 1 coordinate set(s) were parsed in 0.04s.\n",
      "@> 4665 atoms and 1 coordinate set(s) were parsed in 0.04s.\n",
      "@> 4646 atoms and 1 coordinate set(s) were parsed in 0.04s.\n",
      "@> 4615 atoms and 1 coordinate set(s) were parsed in 0.04s.\n",
      "@> 4618 atoms and 1 coordinate set(s) were parsed in 0.04s.\n",
      "@> 4167 atoms and 1 coordinate set(s) were parsed in 0.04s.\n",
      "@> 4328 atoms and 1 coordinate set(s) were parsed in 0.04s.\n",
      "@> 4179 atoms and 1 coordinate set(s) were parsed in 0.04s.\n",
      "@> 4369 atoms and 1 coordinate set(s) were parsed in 0.04s.\n",
      "@> 4413 atoms and 1 coordinate set(s) were parsed in 0.04s.\n",
      "@> 4455 atoms and 1 coordinate set(s) were parsed in 0.04s.\n",
      "@> 4300 atoms and 1 coordinate set(s) were parsed in 0.04s.\n",
      "@> 4308 atoms and 1 coordinate set(s) were parsed in 0.04s.\n",
      "@> 4334 atoms and 1 coordinate set(s) were parsed in 0.04s.\n",
      "@> 4300 atoms and 1 coordinate set(s) were parsed in 0.04s.\n",
      "@> 4318 atoms and 1 coordinate set(s) were parsed in 0.04s.\n",
      "@> 4288 atoms and 1 coordinate set(s) were parsed in 0.04s.\n",
      "@> 4333 atoms and 1 coordinate set(s) were parsed in 0.04s.\n",
      "@> 4623 atoms and 1 coordinate set(s) were parsed in 0.05s.\n"
     ]
    },
    {
     "name": "stderr",
     "output_type": "stream",
     "text": [
      "@> 4430 atoms and 1 coordinate set(s) were parsed in 0.04s.\n",
      "@> 4322 atoms and 1 coordinate set(s) were parsed in 0.04s.\n",
      "@> 4371 atoms and 1 coordinate set(s) were parsed in 0.04s.\n",
      "@> Results are saved in clusters_wb_.pdb.\n"
     ]
    }
   ],
   "source": [
    "findClusterCenters('wb_*.pdb', selection = 'resname HOH and name O', distC=0.5, numC=15)"
   ]
  },
  {
   "cell_type": "markdown",
   "metadata": {},
   "source": [
    "--------------------------------------------------------------------------------------------------------------"
   ]
  },
  {
   "cell_type": "code",
   "execution_count": 13,
   "metadata": {},
   "outputs": [
    {
     "name": "stderr",
     "output_type": "stream",
     "text": [
      "@> 4341 atoms and 1 coordinate set(s) were parsed in 0.12s.\n",
      "@> 4431 atoms and 1 coordinate set(s) were parsed in 0.05s.\n",
      "@> 4337 atoms and 1 coordinate set(s) were parsed in 0.04s.\n",
      "@> 4232 atoms and 1 coordinate set(s) were parsed in 0.04s.\n",
      "@> 4263 atoms and 1 coordinate set(s) were parsed in 0.04s.\n",
      "@> 4156 atoms and 1 coordinate set(s) were parsed in 0.04s.\n",
      "@> 4309 atoms and 1 coordinate set(s) were parsed in 0.04s.\n",
      "@> 4239 atoms and 1 coordinate set(s) were parsed in 0.04s.\n",
      "@> 4177 atoms and 1 coordinate set(s) were parsed in 0.04s.\n",
      "@> 4209 atoms and 1 coordinate set(s) were parsed in 0.04s.\n",
      "@> 4207 atoms and 1 coordinate set(s) were parsed in 0.04s.\n",
      "@> 4020 atoms and 1 coordinate set(s) were parsed in 0.04s.\n",
      "@> 4432 atoms and 1 coordinate set(s) were parsed in 0.05s.\n",
      "@> 4217 atoms and 1 coordinate set(s) were parsed in 0.04s.\n",
      "@> 4212 atoms and 1 coordinate set(s) were parsed in 0.04s.\n",
      "@> 4384 atoms and 1 coordinate set(s) were parsed in 0.05s.\n",
      "@> 4297 atoms and 1 coordinate set(s) were parsed in 0.05s.\n",
      "@> 4204 atoms and 1 coordinate set(s) were parsed in 0.04s.\n",
      "@> 4092 atoms and 1 coordinate set(s) were parsed in 0.04s.\n",
      "@> 4105 atoms and 1 coordinate set(s) were parsed in 0.04s.\n",
      "@> 4286 atoms and 1 coordinate set(s) were parsed in 0.04s.\n",
      "@> 4259 atoms and 1 coordinate set(s) were parsed in 0.04s.\n",
      "@> 4233 atoms and 1 coordinate set(s) were parsed in 0.04s.\n",
      "@> 4402 atoms and 1 coordinate set(s) were parsed in 0.05s.\n",
      "@> 3994 atoms and 1 coordinate set(s) were parsed in 0.04s.\n",
      "@> 4340 atoms and 1 coordinate set(s) were parsed in 0.04s.\n",
      "@> 4157 atoms and 1 coordinate set(s) were parsed in 0.04s.\n",
      "@> 4453 atoms and 1 coordinate set(s) were parsed in 0.04s.\n",
      "@> 4375 atoms and 1 coordinate set(s) were parsed in 0.04s.\n",
      "@> 4339 atoms and 1 coordinate set(s) were parsed in 0.04s.\n",
      "@> 4208 atoms and 1 coordinate set(s) were parsed in 0.04s.\n",
      "@> 4250 atoms and 1 coordinate set(s) were parsed in 0.04s.\n",
      "@> 4199 atoms and 1 coordinate set(s) were parsed in 0.04s.\n",
      "@> 4101 atoms and 1 coordinate set(s) were parsed in 0.04s.\n",
      "@> 4110 atoms and 1 coordinate set(s) were parsed in 0.04s.\n",
      "@> 4327 atoms and 1 coordinate set(s) were parsed in 0.04s.\n",
      "@> 4443 atoms and 1 coordinate set(s) were parsed in 0.04s.\n",
      "@> 4427 atoms and 1 coordinate set(s) were parsed in 0.05s.\n",
      "@> 4354 atoms and 1 coordinate set(s) were parsed in 0.05s.\n",
      "@> 4425 atoms and 1 coordinate set(s) were parsed in 0.05s.\n",
      "@> 4354 atoms and 1 coordinate set(s) were parsed in 0.05s.\n",
      "@> 4327 atoms and 1 coordinate set(s) were parsed in 0.05s.\n",
      "@> 4373 atoms and 1 coordinate set(s) were parsed in 0.05s.\n",
      "@> 4366 atoms and 1 coordinate set(s) were parsed in 0.05s.\n",
      "@> 4443 atoms and 1 coordinate set(s) were parsed in 0.05s.\n",
      "@> 4347 atoms and 1 coordinate set(s) were parsed in 0.05s.\n",
      "@> 4104 atoms and 1 coordinate set(s) were parsed in 0.04s.\n",
      "@> 4130 atoms and 1 coordinate set(s) were parsed in 0.04s.\n",
      "@> 4347 atoms and 1 coordinate set(s) were parsed in 0.05s.\n",
      "@> 4356 atoms and 1 coordinate set(s) were parsed in 0.05s.\n",
      "@> 4386 atoms and 1 coordinate set(s) were parsed in 0.05s.\n",
      "@> 4464 atoms and 1 coordinate set(s) were parsed in 0.05s.\n",
      "@> 4354 atoms and 1 coordinate set(s) were parsed in 0.04s.\n",
      "@> 4376 atoms and 1 coordinate set(s) were parsed in 0.04s.\n",
      "@> 4534 atoms and 1 coordinate set(s) were parsed in 0.05s.\n",
      "@> 4482 atoms and 1 coordinate set(s) were parsed in 0.05s.\n",
      "@> 4400 atoms and 1 coordinate set(s) were parsed in 0.04s.\n",
      "@> 4400 atoms and 1 coordinate set(s) were parsed in 0.04s.\n",
      "@> 4233 atoms and 1 coordinate set(s) were parsed in 0.04s.\n",
      "@> 4252 atoms and 1 coordinate set(s) were parsed in 0.04s.\n",
      "@> 4373 atoms and 1 coordinate set(s) were parsed in 0.04s.\n",
      "@> 4283 atoms and 1 coordinate set(s) were parsed in 0.04s.\n",
      "@> 4282 atoms and 1 coordinate set(s) were parsed in 0.04s.\n",
      "@> 4190 atoms and 1 coordinate set(s) were parsed in 0.04s.\n",
      "@> 4255 atoms and 1 coordinate set(s) were parsed in 0.04s.\n",
      "@> 4158 atoms and 1 coordinate set(s) were parsed in 0.04s.\n",
      "@> 4504 atoms and 1 coordinate set(s) were parsed in 0.04s.\n",
      "@> 4436 atoms and 1 coordinate set(s) were parsed in 0.04s.\n",
      "@> 4238 atoms and 1 coordinate set(s) were parsed in 0.04s.\n",
      "@> 4232 atoms and 1 coordinate set(s) were parsed in 0.04s.\n",
      "@> 4241 atoms and 1 coordinate set(s) were parsed in 0.04s.\n",
      "@> 4290 atoms and 1 coordinate set(s) were parsed in 0.04s.\n",
      "@> 4382 atoms and 1 coordinate set(s) were parsed in 0.04s.\n",
      "@> 4318 atoms and 1 coordinate set(s) were parsed in 0.04s.\n",
      "@> 4424 atoms and 1 coordinate set(s) were parsed in 0.04s.\n",
      "@> 4436 atoms and 1 coordinate set(s) were parsed in 0.04s.\n",
      "@> 4258 atoms and 1 coordinate set(s) were parsed in 0.04s.\n",
      "@> 4463 atoms and 1 coordinate set(s) were parsed in 0.04s.\n",
      "@> 4430 atoms and 1 coordinate set(s) were parsed in 0.04s.\n",
      "@> 4439 atoms and 1 coordinate set(s) were parsed in 0.04s.\n",
      "@> 4224 atoms and 1 coordinate set(s) were parsed in 0.04s.\n",
      "@> 4303 atoms and 1 coordinate set(s) were parsed in 0.04s.\n",
      "@> 4238 atoms and 1 coordinate set(s) were parsed in 0.04s.\n",
      "@> 4437 atoms and 1 coordinate set(s) were parsed in 0.04s.\n",
      "@> 4377 atoms and 1 coordinate set(s) were parsed in 0.04s.\n",
      "@> 4377 atoms and 1 coordinate set(s) were parsed in 0.04s.\n",
      "@> 4398 atoms and 1 coordinate set(s) were parsed in 0.04s.\n",
      "@> 4410 atoms and 1 coordinate set(s) were parsed in 0.04s.\n",
      "@> 4395 atoms and 1 coordinate set(s) were parsed in 0.04s.\n",
      "@> 4383 atoms and 1 coordinate set(s) were parsed in 0.04s.\n",
      "@> 4416 atoms and 1 coordinate set(s) were parsed in 0.04s.\n",
      "@> 4407 atoms and 1 coordinate set(s) were parsed in 0.04s.\n",
      "@> 4434 atoms and 1 coordinate set(s) were parsed in 0.04s.\n",
      "@> 4389 atoms and 1 coordinate set(s) were parsed in 0.04s.\n",
      "@> 4413 atoms and 1 coordinate set(s) were parsed in 0.04s.\n",
      "@> 4401 atoms and 1 coordinate set(s) were parsed in 0.04s.\n",
      "@> 4410 atoms and 1 coordinate set(s) were parsed in 0.04s.\n",
      "@> 4321 atoms and 1 coordinate set(s) were parsed in 0.04s.\n",
      "@> 4425 atoms and 1 coordinate set(s) were parsed in 0.04s.\n",
      "@> 4434 atoms and 1 coordinate set(s) were parsed in 0.04s.\n",
      "@> 4473 atoms and 1 coordinate set(s) were parsed in 0.04s.\n",
      "@> 4374 atoms and 1 coordinate set(s) were parsed in 0.04s.\n",
      "@> 4462 atoms and 1 coordinate set(s) were parsed in 0.04s.\n",
      "@> 4407 atoms and 1 coordinate set(s) were parsed in 0.04s.\n",
      "@> 4407 atoms and 1 coordinate set(s) were parsed in 0.04s.\n",
      "@> 4175 atoms and 1 coordinate set(s) were parsed in 0.04s.\n",
      "@> 4216 atoms and 1 coordinate set(s) were parsed in 0.04s.\n",
      "@> 4222 atoms and 1 coordinate set(s) were parsed in 0.04s.\n",
      "@> 4254 atoms and 1 coordinate set(s) were parsed in 0.04s.\n",
      "@> 4237 atoms and 1 coordinate set(s) were parsed in 0.04s.\n",
      "@> 4199 atoms and 1 coordinate set(s) were parsed in 0.04s.\n",
      "@> 4348 atoms and 1 coordinate set(s) were parsed in 0.04s.\n",
      "@> 4329 atoms and 1 coordinate set(s) were parsed in 0.04s.\n",
      "@> 4419 atoms and 1 coordinate set(s) were parsed in 0.04s.\n",
      "@> 4383 atoms and 1 coordinate set(s) were parsed in 0.04s.\n",
      "@> 4389 atoms and 1 coordinate set(s) were parsed in 0.04s.\n",
      "@> 4422 atoms and 1 coordinate set(s) were parsed in 0.04s.\n",
      "@> 4685 atoms and 1 coordinate set(s) were parsed in 0.04s.\n",
      "@> 4677 atoms and 1 coordinate set(s) were parsed in 0.04s.\n",
      "@> 4665 atoms and 1 coordinate set(s) were parsed in 0.04s.\n",
      "@> 4646 atoms and 1 coordinate set(s) were parsed in 0.04s.\n",
      "@> 4615 atoms and 1 coordinate set(s) were parsed in 0.04s.\n",
      "@> 4618 atoms and 1 coordinate set(s) were parsed in 0.04s.\n",
      "@> 4167 atoms and 1 coordinate set(s) were parsed in 0.04s.\n",
      "@> 4328 atoms and 1 coordinate set(s) were parsed in 0.04s.\n",
      "@> 4179 atoms and 1 coordinate set(s) were parsed in 0.04s.\n",
      "@> 4369 atoms and 1 coordinate set(s) were parsed in 0.04s.\n",
      "@> 4413 atoms and 1 coordinate set(s) were parsed in 0.04s.\n",
      "@> 4455 atoms and 1 coordinate set(s) were parsed in 0.04s.\n",
      "@> 4300 atoms and 1 coordinate set(s) were parsed in 0.04s.\n",
      "@> 4308 atoms and 1 coordinate set(s) were parsed in 0.04s.\n",
      "@> 4334 atoms and 1 coordinate set(s) were parsed in 0.04s.\n",
      "@> 4300 atoms and 1 coordinate set(s) were parsed in 0.04s.\n",
      "@> 4318 atoms and 1 coordinate set(s) were parsed in 0.04s.\n",
      "@> 4288 atoms and 1 coordinate set(s) were parsed in 0.04s.\n",
      "@> 4333 atoms and 1 coordinate set(s) were parsed in 0.04s.\n",
      "@> 4623 atoms and 1 coordinate set(s) were parsed in 0.04s.\n"
     ]
    },
    {
     "name": "stderr",
     "output_type": "stream",
     "text": [
      "@> 4430 atoms and 1 coordinate set(s) were parsed in 0.04s.\n",
      "@> 4322 atoms and 1 coordinate set(s) were parsed in 0.04s.\n",
      "@> 4371 atoms and 1 coordinate set(s) were parsed in 0.04s.\n",
      "@> Results are saved in clusters_wb_.pdb.\n"
     ]
    }
   ],
   "source": [
    "findClusterCenters('wb_*.pdb', selection = 'resname HOH and name O', distC=0.5, numC=20)"
   ]
  },
  {
   "cell_type": "code",
   "execution_count": 14,
   "metadata": {},
   "outputs": [
    {
     "name": "stderr",
     "output_type": "stream",
     "text": [
      "@> 4341 atoms and 1 coordinate set(s) were parsed in 0.12s.\n",
      "@> 4431 atoms and 1 coordinate set(s) were parsed in 0.05s.\n",
      "@> 4337 atoms and 1 coordinate set(s) were parsed in 0.05s.\n",
      "@> 4232 atoms and 1 coordinate set(s) were parsed in 0.04s.\n",
      "@> 4263 atoms and 1 coordinate set(s) were parsed in 0.04s.\n",
      "@> 4156 atoms and 1 coordinate set(s) were parsed in 0.04s.\n",
      "@> 4309 atoms and 1 coordinate set(s) were parsed in 0.05s.\n",
      "@> 4239 atoms and 1 coordinate set(s) were parsed in 0.04s.\n",
      "@> 4177 atoms and 1 coordinate set(s) were parsed in 0.04s.\n",
      "@> 4209 atoms and 1 coordinate set(s) were parsed in 0.04s.\n",
      "@> 4207 atoms and 1 coordinate set(s) were parsed in 0.04s.\n",
      "@> 4020 atoms and 1 coordinate set(s) were parsed in 0.04s.\n",
      "@> 4432 atoms and 1 coordinate set(s) were parsed in 0.05s.\n",
      "@> 4217 atoms and 1 coordinate set(s) were parsed in 0.04s.\n",
      "@> 4212 atoms and 1 coordinate set(s) were parsed in 0.04s.\n",
      "@> 4384 atoms and 1 coordinate set(s) were parsed in 0.05s.\n",
      "@> 4297 atoms and 1 coordinate set(s) were parsed in 0.05s.\n",
      "@> 4204 atoms and 1 coordinate set(s) were parsed in 0.04s.\n",
      "@> 4092 atoms and 1 coordinate set(s) were parsed in 0.04s.\n",
      "@> 4105 atoms and 1 coordinate set(s) were parsed in 0.04s.\n",
      "@> 4286 atoms and 1 coordinate set(s) were parsed in 0.05s.\n",
      "@> 4259 atoms and 1 coordinate set(s) were parsed in 0.05s.\n",
      "@> 4233 atoms and 1 coordinate set(s) were parsed in 0.05s.\n",
      "@> 4402 atoms and 1 coordinate set(s) were parsed in 0.05s.\n",
      "@> 3994 atoms and 1 coordinate set(s) were parsed in 0.04s.\n",
      "@> 4340 atoms and 1 coordinate set(s) were parsed in 0.05s.\n",
      "@> 4157 atoms and 1 coordinate set(s) were parsed in 0.04s.\n",
      "@> 4453 atoms and 1 coordinate set(s) were parsed in 0.05s.\n",
      "@> 4375 atoms and 1 coordinate set(s) were parsed in 0.05s.\n",
      "@> 4339 atoms and 1 coordinate set(s) were parsed in 0.04s.\n",
      "@> 4208 atoms and 1 coordinate set(s) were parsed in 0.04s.\n",
      "@> 4250 atoms and 1 coordinate set(s) were parsed in 0.04s.\n",
      "@> 4199 atoms and 1 coordinate set(s) were parsed in 0.04s.\n",
      "@> 4101 atoms and 1 coordinate set(s) were parsed in 0.04s.\n",
      "@> 4110 atoms and 1 coordinate set(s) were parsed in 0.04s.\n",
      "@> 4327 atoms and 1 coordinate set(s) were parsed in 0.04s.\n",
      "@> 4443 atoms and 1 coordinate set(s) were parsed in 0.05s.\n",
      "@> 4427 atoms and 1 coordinate set(s) were parsed in 0.05s.\n",
      "@> 4354 atoms and 1 coordinate set(s) were parsed in 0.04s.\n",
      "@> 4425 atoms and 1 coordinate set(s) were parsed in 0.05s.\n",
      "@> 4354 atoms and 1 coordinate set(s) were parsed in 0.05s.\n",
      "@> 4327 atoms and 1 coordinate set(s) were parsed in 0.05s.\n",
      "@> 4373 atoms and 1 coordinate set(s) were parsed in 0.05s.\n",
      "@> 4366 atoms and 1 coordinate set(s) were parsed in 0.05s.\n",
      "@> 4443 atoms and 1 coordinate set(s) were parsed in 0.05s.\n",
      "@> 4347 atoms and 1 coordinate set(s) were parsed in 0.05s.\n",
      "@> 4104 atoms and 1 coordinate set(s) were parsed in 0.04s.\n",
      "@> 4130 atoms and 1 coordinate set(s) were parsed in 0.04s.\n",
      "@> 4347 atoms and 1 coordinate set(s) were parsed in 0.04s.\n",
      "@> 4356 atoms and 1 coordinate set(s) were parsed in 0.04s.\n",
      "@> 4386 atoms and 1 coordinate set(s) were parsed in 0.04s.\n",
      "@> 4464 atoms and 1 coordinate set(s) were parsed in 0.04s.\n",
      "@> 4354 atoms and 1 coordinate set(s) were parsed in 0.04s.\n",
      "@> 4376 atoms and 1 coordinate set(s) were parsed in 0.04s.\n",
      "@> 4534 atoms and 1 coordinate set(s) were parsed in 0.04s.\n",
      "@> 4482 atoms and 1 coordinate set(s) were parsed in 0.04s.\n",
      "@> 4400 atoms and 1 coordinate set(s) were parsed in 0.04s.\n",
      "@> 4400 atoms and 1 coordinate set(s) were parsed in 0.04s.\n",
      "@> 4233 atoms and 1 coordinate set(s) were parsed in 0.04s.\n",
      "@> 4252 atoms and 1 coordinate set(s) were parsed in 0.04s.\n",
      "@> 4373 atoms and 1 coordinate set(s) were parsed in 0.04s.\n",
      "@> 4283 atoms and 1 coordinate set(s) were parsed in 0.04s.\n",
      "@> 4282 atoms and 1 coordinate set(s) were parsed in 0.04s.\n",
      "@> 4190 atoms and 1 coordinate set(s) were parsed in 0.04s.\n",
      "@> 4255 atoms and 1 coordinate set(s) were parsed in 0.04s.\n",
      "@> 4158 atoms and 1 coordinate set(s) were parsed in 0.04s.\n",
      "@> 4504 atoms and 1 coordinate set(s) were parsed in 0.05s.\n",
      "@> 4436 atoms and 1 coordinate set(s) were parsed in 0.05s.\n",
      "@> 4238 atoms and 1 coordinate set(s) were parsed in 0.05s.\n",
      "@> 4232 atoms and 1 coordinate set(s) were parsed in 0.05s.\n",
      "@> 4241 atoms and 1 coordinate set(s) were parsed in 0.04s.\n",
      "@> 4290 atoms and 1 coordinate set(s) were parsed in 0.04s.\n",
      "@> 4382 atoms and 1 coordinate set(s) were parsed in 0.04s.\n",
      "@> 4318 atoms and 1 coordinate set(s) were parsed in 0.04s.\n",
      "@> 4424 atoms and 1 coordinate set(s) were parsed in 0.05s.\n",
      "@> 4436 atoms and 1 coordinate set(s) were parsed in 0.04s.\n",
      "@> 4258 atoms and 1 coordinate set(s) were parsed in 0.04s.\n",
      "@> 4463 atoms and 1 coordinate set(s) were parsed in 0.05s.\n",
      "@> 4430 atoms and 1 coordinate set(s) were parsed in 0.05s.\n",
      "@> 4439 atoms and 1 coordinate set(s) were parsed in 0.05s.\n",
      "@> 4224 atoms and 1 coordinate set(s) were parsed in 0.04s.\n",
      "@> 4303 atoms and 1 coordinate set(s) were parsed in 0.04s.\n",
      "@> 4238 atoms and 1 coordinate set(s) were parsed in 0.04s.\n",
      "@> 4437 atoms and 1 coordinate set(s) were parsed in 0.04s.\n",
      "@> 4377 atoms and 1 coordinate set(s) were parsed in 0.04s.\n",
      "@> 4377 atoms and 1 coordinate set(s) were parsed in 0.04s.\n",
      "@> 4398 atoms and 1 coordinate set(s) were parsed in 0.04s.\n",
      "@> 4410 atoms and 1 coordinate set(s) were parsed in 0.04s.\n",
      "@> 4395 atoms and 1 coordinate set(s) were parsed in 0.04s.\n",
      "@> 4383 atoms and 1 coordinate set(s) were parsed in 0.04s.\n",
      "@> 4416 atoms and 1 coordinate set(s) were parsed in 0.04s.\n",
      "@> 4407 atoms and 1 coordinate set(s) were parsed in 0.04s.\n",
      "@> 4434 atoms and 1 coordinate set(s) were parsed in 0.04s.\n",
      "@> 4389 atoms and 1 coordinate set(s) were parsed in 0.04s.\n",
      "@> 4413 atoms and 1 coordinate set(s) were parsed in 0.04s.\n",
      "@> 4401 atoms and 1 coordinate set(s) were parsed in 0.04s.\n",
      "@> 4410 atoms and 1 coordinate set(s) were parsed in 0.04s.\n",
      "@> 4321 atoms and 1 coordinate set(s) were parsed in 0.04s.\n",
      "@> 4425 atoms and 1 coordinate set(s) were parsed in 0.04s.\n",
      "@> 4434 atoms and 1 coordinate set(s) were parsed in 0.04s.\n",
      "@> 4473 atoms and 1 coordinate set(s) were parsed in 0.04s.\n",
      "@> 4374 atoms and 1 coordinate set(s) were parsed in 0.04s.\n",
      "@> 4462 atoms and 1 coordinate set(s) were parsed in 0.04s.\n",
      "@> 4407 atoms and 1 coordinate set(s) were parsed in 0.04s.\n",
      "@> 4407 atoms and 1 coordinate set(s) were parsed in 0.04s.\n",
      "@> 4175 atoms and 1 coordinate set(s) were parsed in 0.04s.\n",
      "@> 4216 atoms and 1 coordinate set(s) were parsed in 0.04s.\n",
      "@> 4222 atoms and 1 coordinate set(s) were parsed in 0.04s.\n",
      "@> 4254 atoms and 1 coordinate set(s) were parsed in 0.04s.\n",
      "@> 4237 atoms and 1 coordinate set(s) were parsed in 0.04s.\n",
      "@> 4199 atoms and 1 coordinate set(s) were parsed in 0.04s.\n",
      "@> 4348 atoms and 1 coordinate set(s) were parsed in 0.04s.\n",
      "@> 4329 atoms and 1 coordinate set(s) were parsed in 0.04s.\n",
      "@> 4419 atoms and 1 coordinate set(s) were parsed in 0.04s.\n",
      "@> 4383 atoms and 1 coordinate set(s) were parsed in 0.04s.\n",
      "@> 4389 atoms and 1 coordinate set(s) were parsed in 0.04s.\n",
      "@> 4422 atoms and 1 coordinate set(s) were parsed in 0.04s.\n",
      "@> 4685 atoms and 1 coordinate set(s) were parsed in 0.04s.\n",
      "@> 4677 atoms and 1 coordinate set(s) were parsed in 0.04s.\n",
      "@> 4665 atoms and 1 coordinate set(s) were parsed in 0.04s.\n",
      "@> 4646 atoms and 1 coordinate set(s) were parsed in 0.04s.\n",
      "@> 4615 atoms and 1 coordinate set(s) were parsed in 0.04s.\n",
      "@> 4618 atoms and 1 coordinate set(s) were parsed in 0.04s.\n",
      "@> 4167 atoms and 1 coordinate set(s) were parsed in 0.04s.\n",
      "@> 4328 atoms and 1 coordinate set(s) were parsed in 0.04s.\n",
      "@> 4179 atoms and 1 coordinate set(s) were parsed in 0.04s.\n",
      "@> 4369 atoms and 1 coordinate set(s) were parsed in 0.04s.\n",
      "@> 4413 atoms and 1 coordinate set(s) were parsed in 0.04s.\n",
      "@> 4455 atoms and 1 coordinate set(s) were parsed in 0.04s.\n",
      "@> 4300 atoms and 1 coordinate set(s) were parsed in 0.04s.\n",
      "@> 4308 atoms and 1 coordinate set(s) were parsed in 0.04s.\n",
      "@> 4334 atoms and 1 coordinate set(s) were parsed in 0.04s.\n",
      "@> 4300 atoms and 1 coordinate set(s) were parsed in 0.04s.\n",
      "@> 4318 atoms and 1 coordinate set(s) were parsed in 0.04s.\n",
      "@> 4288 atoms and 1 coordinate set(s) were parsed in 0.04s.\n",
      "@> 4333 atoms and 1 coordinate set(s) were parsed in 0.04s.\n",
      "@> 4623 atoms and 1 coordinate set(s) were parsed in 0.04s.\n"
     ]
    },
    {
     "name": "stderr",
     "output_type": "stream",
     "text": [
      "@> 4430 atoms and 1 coordinate set(s) were parsed in 0.04s.\n",
      "@> 4322 atoms and 1 coordinate set(s) were parsed in 0.04s.\n",
      "@> 4371 atoms and 1 coordinate set(s) were parsed in 0.04s.\n",
      "@> Results are saved in clusters_wb_.pdb.\n"
     ]
    }
   ],
   "source": [
    "findClusterCenters('wb_*.pdb', selection = 'resname HOH and name O', distC=0.7, numC=20)"
   ]
  },
  {
   "cell_type": "code",
   "execution_count": null,
   "metadata": {},
   "outputs": [],
   "source": []
  }
 ],
 "metadata": {
  "kernelspec": {
   "display_name": "Python 3 (ipykernel)",
   "language": "python",
   "name": "python3"
  },
  "language_info": {
   "codemirror_mode": {
    "name": "ipython",
    "version": 3
   },
   "file_extension": ".py",
   "mimetype": "text/x-python",
   "name": "python",
   "nbconvert_exporter": "python",
   "pygments_lexer": "ipython3",
   "version": "3.9.15"
  }
 },
 "nbformat": 4,
 "nbformat_minor": 4
}
